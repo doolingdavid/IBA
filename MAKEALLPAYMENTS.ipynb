{
 "cells": [
  {
   "cell_type": "code",
   "execution_count": 1,
   "metadata": {
    "collapsed": true,
    "slideshow": {
     "slide_type": "skip"
    }
   },
   "outputs": [],
   "source": [
    "import numpy as np\n",
    "import pandas as pd\n",
    "import matplotlib.pyplot as plt\n",
    "from pandas import Series, DataFrame\n",
    "import pytz\n",
    "from pytz import common_timezones, all_timezones\n",
    "import matplotlib\n",
    "matplotlib.style.use('ggplot')\n",
    "%matplotlib inline\n",
    "from datetime import datetime\n",
    "import scipy as sp\n",
    "import statsmodels.api as sm\n",
    "import statsmodels.formula.api as smf\n",
    "matplotlib.style.use('fivethirtyeight')\n",
    "matplotlib.style.use('seaborn-talk')\n",
    "import os\n",
    "import collections"
   ]
  },
  {
   "cell_type": "code",
   "execution_count": 2,
   "metadata": {
    "collapsed": false,
    "slideshow": {
     "slide_type": "skip"
    }
   },
   "outputs": [
    {
     "name": "stdout",
     "output_type": "stream",
     "text": [
      "\\\\iobsdc01\\SharedDocs\\SEER_MEDICARE\\SEER_MEDICARE_STAGING\n"
     ]
    }
   ],
   "source": [
    "preDouble = \"\\\\\\\\iobsdc01\\\\SharedDocs\\\\SEER_MEDICARE\\\\SEER_MEDICARE_STAGING\"\n",
    "new = os.chdir(preDouble)\n",
    "print(preDouble)\n",
    "\n",
    "import pickle\n",
    "fileObject = open('pure_control_indicies.pickle', 'rb')\n",
    "b = pickle.load(fileObject)\n",
    "fileObject.close()\n",
    "controlindices = list(b)\n",
    "\n",
    "import pickle\n",
    "fileObject = open('pure_treatment_indicies.pickle', 'rb')\n",
    "b = pickle.load(fileObject)\n",
    "fileObject.close()\n",
    "treatmentindices = list(b)\n",
    "\n",
    "df = pd.read_pickle('dfpedsfFirsts.pickle')"
   ]
  },
  {
   "cell_type": "code",
   "execution_count": 3,
   "metadata": {
    "collapsed": false,
    "slideshow": {
     "slide_type": "skip"
    }
   },
   "outputs": [
    {
     "name": "stdout",
     "output_type": "stream",
     "text": [
      "1662 831 831\n",
      "['4482160083', '2215176050', '8859072472', '2310153070', '8802026371', '8757024520', '8831097343', '8878004314', '8827010107', '4408106073', '8797097489', '8835013250', '4339013024', '4304141320', '4326238080', '4269060013', '8848090384', '4268053014', '8797035478', '8841081424', '8868081313', '4339033024', '4222034004', '8735038409', '8716025459', '4462162024', '8821066343', '8858012304', '8845030491', '8841000365', '8888027441', '4313295000', '8825058106', '8888086461', '4473112043', '8714009560', '8870085471', '8819038335', '8885077334', '8865081345', '8815026310', '8889005430', '4454195034', '4247072024', '8851092441', '8897051314', '4295048060', '8852000315', '8875067360', '4315229060']\n",
      "25\n",
      "806 806\n"
     ]
    }
   ],
   "source": [
    "dg = pd.read_pickle('pure_goodindices_medpar.pickle')\n",
    "\n",
    "d_t_c = dict(zip(treatmentindices, controlindices))\n",
    "d_c_t = dict(zip(controlindices, treatmentindices))\n",
    "\n",
    "\n",
    "dgtreatment = dg[dg.patient_id.isin(treatmentindices)].copy()\n",
    "\n",
    "dgcontrol = dg[dg.patient_id.isin(controlindices)].copy()\n",
    "\n",
    "df = df.set_index('patient_id',drop=False)\n",
    "\n",
    "goodindices = controlindices + treatmentindices\n",
    "print(len(goodindices),len(controlindices),len(treatmentindices))\n",
    "\n",
    "df_all_good_indices = df.loc[goodindices].copy()\n",
    "\n",
    "del df\n",
    "\n",
    "\n",
    "monthdict = {'Jan': '01',\n",
    "            'Feb': '02',\n",
    "            'Mar': '03',\n",
    "            'Apr': '04',\n",
    "            'May': '05',\n",
    "            'Jun': '06',\n",
    "            'Jul': '07',\n",
    "            'Aug': '08',\n",
    "            'Sep': '09',\n",
    "            'Oct': '10',\n",
    "            'Nov': '11',\n",
    "            'Dec': '12'}\n",
    "\n",
    "\n",
    "df_all_good_indices['month1'] = df_all_good_indices['modx1'].replace(monthdict)\n",
    "\n",
    "prostate_filter = df_all_good_indices['site1'].str.contains('prostate',case=False,na=False)\n",
    "to_drop = list(df_all_good_indices[~prostate_filter].site1.index)\n",
    "print(to_drop)\n",
    "\n",
    "drop_set = set(to_drop)\n",
    "t_set = set(d_t_c.keys())\n",
    "\n",
    "lose_set = t_set.intersection(drop_set)\n",
    "print(len(lose_set))\n",
    "\n",
    "for i in list(lose_set):\n",
    "    del d_t_c[i]\n",
    "    \n",
    "goodtreatmentindices = d_t_c.keys()\n",
    "goodcontrolindices = d_t_c.values()\n",
    "print(len(goodtreatmentindices), len(goodcontrolindices))\n",
    "\n",
    "df_all_good_indices = df_all_good_indices.loc[list(goodcontrolindices) + list(goodtreatmentindices)]\n",
    "\n",
    "df_all_good_indices['newmonth1'] = df_all_good_indices.month1.fillna('01').copy()\n",
    "\n",
    "df_all_good_indices['yrdx_plus_modx'] = df_all_good_indices.yrdx1.astype('str') + df_all_good_indices.newmonth1.astype('str')\n",
    "\n",
    "\n",
    "df_all_good_indices['yrdx_plus_modx'] = pd.to_datetime(df_all_good_indices['yrdx_plus_modx'], \n",
    "                                                      format='%Y%m')\n",
    "\n",
    "dg = dg.set_index('patient_id',drop=False)\n",
    "\n",
    "dgtreatment = dg[dg.patient_id.isin(goodtreatmentindices) & prostate_filter].copy()\n",
    "\n",
    "dgcontrol = dg[dg.patient_id.isin(goodcontrolindices) & prostate_filter].copy()"
   ]
  },
  {
   "cell_type": "code",
   "execution_count": 4,
   "metadata": {
    "collapsed": true,
    "slideshow": {
     "slide_type": "skip"
    }
   },
   "outputs": [],
   "source": [
    "dgtreatment['yrdx_plus_modx'] = df_all_good_indices['yrdx_plus_modx']\n",
    "dgtreatment['site1'] = df_all_good_indices['site1']\n",
    "\n",
    "dgcontrol['yrdx_plus_modx'] = df_all_good_indices['yrdx_plus_modx']\n",
    "dgcontrol['site1'] = df_all_good_indices['site1']\n",
    "\n",
    "\n",
    "dgtreatment['medpar_admission_date_new'] = dgtreatment.medpar_admission_date.astype('str').str.replace('\\.0','')\n",
    "dgtreatment['medpar_admission_date_new'] = dgtreatment.medpar_admission_date_new.str.rjust(8,'0')\n",
    "\n",
    "dgcontrol['medpar_admission_date_new'] = dgcontrol.medpar_admission_date.astype('str').str.replace('\\.0','')\n",
    "dgcontrol['medpar_admission_date_new'] = dgcontrol.medpar_admission_date_new.str.rjust(8,'0')\n",
    "\n",
    "dgtreatment['medpar_admission_date_new'] = pd.to_datetime(dgtreatment['medpar_admission_date_new'], \n",
    "                                                      format='%m%d%Y').copy()\n",
    "\n",
    "dgcontrol['medpar_admission_date_new'] = pd.to_datetime(dgcontrol['medpar_admission_date_new'], \n",
    "                                                      format='%m%d%Y').copy()\n",
    "\n",
    "\n"
   ]
  },
  {
   "cell_type": "markdown",
   "metadata": {
    "slideshow": {
     "slide_type": "slide"
    }
   },
   "source": [
    "# <font color=\"#E56717\">Calculating total payments (MedPAR file, Outpatient file, and NCH file) for each patient in the prostate PBT group and the matched prostate IMRT group</font>\n",
    "\n",
    "* <span style=\"font-size:1.5em;\">For each patient, sum all payments for dates after the prostate cancer dx date</span>"
   ]
  },
  {
   "cell_type": "markdown",
   "metadata": {
    "slideshow": {
     "slide_type": "slide"
    }
   },
   "source": [
    "# <font color=\"#E56717\">Hospital Data</font>\n",
    "\n",
    "* <span style=\"font-size:1.5em;\">MedPAR: Medicare Provider and Review</span>\n",
    "* <span style=\"font-size:1.5em;\">One record per stay</span>\n",
    "* <span style=\"font-size:1.5em;\">Key elements: admission and discharge diagnoses and dates, procedures and procedure dates, revenue center codes for ER, etc</span>\n",
    "* <span style=\"font-size:1.5em;\">Reports facility charges only</span>\n",
    "* <span style=\"font-size:1.5em;\">Paid by DRG (diagnostic review group) which is based on diagnoses and procedures</span>"
   ]
  },
  {
   "cell_type": "markdown",
   "metadata": {
    "slideshow": {
     "slide_type": "slide"
    }
   },
   "source": [
    "# <font color=\"#E56717\">Cost-related variables</font>\n",
    "\n",
    "* <span style=\"font-size:1.5em;\">Charges (what the hospital asked to be paid)</span>\n",
    "* <span style=\"font-size:1.5em;\">What the hospital was paid by Medicare: amount reimbursed plus bill total per diem</span>\n",
    "* <span style=\"font-size:1.5em;\">Deductibles</span>\n",
    "* <span style=\"font-size:1.5em;\">Primary Payer amount</span>\n",
    "\n",
    "<span style=\"font-size:1.5em;\">Medicare determines what the provider is allowed to charge for a serrvice (\"allowed charges\"). Payment of the allowed charges comes from two sources:\n",
    "\n",
    "* <span style=\"font-size:1.5em;\">Medicare</span>\n",
    "* <span style=\"font-size:1.5em;\">Beneficiary: Co-payments, coinsurance, and deductibles (may be paid by coinsurance such as Medigap)\n",
    "* <span style=\"font-size:1.5em;\">Hospitals have per-stay deductibles and co-payments</span>"
   ]
  },
  {
   "cell_type": "markdown",
   "metadata": {
    "slideshow": {
     "slide_type": "slide"
    }
   },
   "source": [
    "# <font color=\"#E56717\">Calculating MedPAR payments</font>\n",
    "\n",
    "* <span style=\"font-size:1.5em;\">Total payments from MEdicare are calculated as reimbursement amount plus total pass through amount</span>\n",
    "* <span style=\"font-size:1.5em;\">Primary payer amount is the amount paid by another insurance (before Medicare)</span>\n",
    "* <span style=\"font-size:1.5em;\">Total payments: need to add together Medicare payments, primary payer amount and copayment/deductible</span>\n"
   ]
  },
  {
   "cell_type": "markdown",
   "metadata": {
    "slideshow": {
     "slide_type": "slide"
    }
   },
   "source": [
    "# <font color=\"#E56717\">Use these fields in the MedPAR file</font>\n",
    "\n",
    "* <span style=\"font-size:1.5em;\">COINAMT - The amount of money (rounded to whole dollars) identified as the beneficiary's liability for part A coinsurance for the stay</span>\n",
    "* <span style=\"font-size:1.5em;\">INPATDED - The amount of money (rounded to whole dollars) identified as the beneficiary's liability for inpatient deductible for the stay</span>\n",
    "* <span style=\"font-size:1.5em;\">BLOODDED - The amount of money (rounded to whole dollars) identified as the beneficiary's liability for the blood deductible for the stay</span>\n",
    "* <span style=\"font-size:1.5em;\">PRIPYAMT - The amount of payment (rounded to whole dollars) made on behalf of the beneficiary by a primary payer other than Medicare, which has been applied to the covered Medicare charges for the stay</span>\n",
    "* <span style=\"font-size:1.5em;\">INDMEDED - The amount of additional payment (rounded to whole dollars) made to teaching hospitals for IME for the stay</span>\n",
    "* <span style=\"font-size:1.5em;\">PASSTHRU - The total of all claim pass through amounts (rounded to whole dollars) for the stay</span>\n",
    "* <span style=\"font-size:1.5em;\">REIMBAMT - Amount of payment made from the Medicare trust fund for the services covered by the claim record</span>"
   ]
  },
  {
   "cell_type": "code",
   "execution_count": 5,
   "metadata": {
    "collapsed": true,
    "slideshow": {
     "slide_type": "skip"
    }
   },
   "outputs": [],
   "source": [
    "dgcontrol['total_amt'] = dgcontrol['coinamt'] + dgcontrol['inpatded'] + \\\n",
    "dgcontrol['bloodded'] + dgcontrol['pripyamt'] +  \\\n",
    "dgcontrol['indmeded'] + dgcontrol['passthru'] + \\\n",
    "dgcontrol['reimbamt']\n",
    "\n",
    "dgtreatment['total_amt'] = dgtreatment['coinamt'] + dgtreatment['inpatded'] + \\\n",
    "dgtreatment['bloodded'] + dgtreatment['pripyamt'] + \\\n",
    "dgtreatment['indmeded'] + dgtreatment['passthru'] + \\\n",
    "dgtreatment['reimbamt']\n",
    "\n",
    "\n",
    "goodcols = ['medpar_admission_date_new','yrdx_plus_modx','total_amt',\n",
    "           'coinamt','inpatded','bloodded', 'pripyamt', \n",
    "           'indmeded','passthru','reimbamt']\n",
    "\n",
    "dgtreatment['time_delta'] = dgtreatment['medpar_admission_date_new'] - dgtreatment['yrdx_plus_modx']\n",
    "\n",
    "dgcontrol['time_delta'] = dgcontrol['medpar_admission_date_new'] - dgcontrol['yrdx_plus_modx']\n",
    "\n",
    "\n",
    "def make_days(i):\n",
    "    return i.days\n",
    "\n",
    "dgtreatment['delta_days'] = dgtreatment['time_delta'].apply(make_days)\n",
    "dgcontrol['delta_days'] = dgcontrol['time_delta'].apply(make_days)\n",
    "\n",
    "goodcols = ['medpar_admission_date_new','yrdx_plus_modx', 'time_delta','delta_days','total_amt',\n",
    "           'coinamt','inpatded','bloodded', 'pripyamt', \n",
    "           'indmeded','passthru','reimbamt']\n",
    "\n",
    "good_claims_filter_treatment = dgtreatment.delta_days > 0\n",
    "good_claims_filter_control = dgcontrol.delta_days > 0\n",
    "\n",
    "dgtreatmentgoodclaims = dgtreatment[good_claims_filter_treatment].copy()\n",
    "dgcontrolgoodclaims = dgcontrol[good_claims_filter_control].copy()\n",
    "\n",
    "dgtreatment['srvm1'] = df_all_good_indices['srvm1']\n",
    "dgcontrol['srvm1'] = df_all_good_indices['srvm1']\n",
    "\n",
    "\n",
    "def make_months(i):\n",
    "    return int(i.days/30)\n",
    "\n",
    "dgtreatment['delta_months'] = dgtreatment['time_delta'].apply(make_months)\n",
    "dgcontrol['delta_months'] = dgcontrol['time_delta'].apply(make_months)\n",
    "\n",
    "\n",
    "goodcols = ['patient_id','medpar_admission_date_new','yrdx_plus_modx', 'time_delta','delta_days',\n",
    "            'delta_months','srvm1','total_amt','los',\n",
    "           'coinamt','inpatded','bloodded', 'pripyamt', \n",
    "           'indmeded','passthru','reimbamt']\n",
    "\n",
    "\n",
    "dgtreatmentgoodclaims = dgtreatment[good_claims_filter_treatment].copy()\n",
    "dgcontrolgoodclaims = dgcontrol[good_claims_filter_control].copy()\n",
    "\n"
   ]
  },
  {
   "cell_type": "code",
   "execution_count": 6,
   "metadata": {
    "collapsed": true,
    "slideshow": {
     "slide_type": "skip"
    }
   },
   "outputs": [],
   "source": [
    "\n",
    "dgmedpartreatmentgroup = dgtreatmentgoodclaims.groupby('patient_id')\n",
    "dgmedparcontrolgroup = dgcontrolgoodclaims.groupby('patient_id')\n",
    "\n",
    "treatmentmedparagg = dgmedpartreatmentgroup[['total_amt','los']].agg(np.sum)\n",
    "controlmedparagg = dgmedparcontrolgroup[['total_amt','los']].agg(np.sum)\n",
    "\n"
   ]
  },
  {
   "cell_type": "code",
   "execution_count": 7,
   "metadata": {
    "collapsed": false,
    "slideshow": {
     "slide_type": "skip"
    }
   },
   "outputs": [
    {
     "data": {
      "text/html": [
       "<div>\n",
       "<table border=\"1\" class=\"dataframe\">\n",
       "  <thead>\n",
       "    <tr style=\"text-align: right;\">\n",
       "      <th></th>\n",
       "      <th>total_amt</th>\n",
       "      <th>los</th>\n",
       "    </tr>\n",
       "  </thead>\n",
       "  <tbody>\n",
       "    <tr>\n",
       "      <th>count</th>\n",
       "      <td>327.000000</td>\n",
       "      <td>327.000000</td>\n",
       "    </tr>\n",
       "    <tr>\n",
       "      <th>mean</th>\n",
       "      <td>36400.639144</td>\n",
       "      <td>15.345566</td>\n",
       "    </tr>\n",
       "    <tr>\n",
       "      <th>std</th>\n",
       "      <td>47866.040142</td>\n",
       "      <td>27.008403</td>\n",
       "    </tr>\n",
       "    <tr>\n",
       "      <th>min</th>\n",
       "      <td>0.000000</td>\n",
       "      <td>1.000000</td>\n",
       "    </tr>\n",
       "    <tr>\n",
       "      <th>25%</th>\n",
       "      <td>9163.000000</td>\n",
       "      <td>2.000000</td>\n",
       "    </tr>\n",
       "    <tr>\n",
       "      <th>50%</th>\n",
       "      <td>20634.000000</td>\n",
       "      <td>5.000000</td>\n",
       "    </tr>\n",
       "    <tr>\n",
       "      <th>75%</th>\n",
       "      <td>44371.000000</td>\n",
       "      <td>15.500000</td>\n",
       "    </tr>\n",
       "    <tr>\n",
       "      <th>max</th>\n",
       "      <td>480172.000000</td>\n",
       "      <td>254.000000</td>\n",
       "    </tr>\n",
       "  </tbody>\n",
       "</table>\n",
       "</div>"
      ],
      "text/plain": [
       "           total_amt         los\n",
       "count     327.000000  327.000000\n",
       "mean    36400.639144   15.345566\n",
       "std     47866.040142   27.008403\n",
       "min         0.000000    1.000000\n",
       "25%      9163.000000    2.000000\n",
       "50%     20634.000000    5.000000\n",
       "75%     44371.000000   15.500000\n",
       "max    480172.000000  254.000000"
      ]
     },
     "execution_count": 7,
     "metadata": {},
     "output_type": "execute_result"
    }
   ],
   "source": [
    "treatmentmedparagg.describe()"
   ]
  },
  {
   "cell_type": "code",
   "execution_count": 8,
   "metadata": {
    "collapsed": false,
    "slideshow": {
     "slide_type": "skip"
    }
   },
   "outputs": [
    {
     "data": {
      "text/html": [
       "<div>\n",
       "<table border=\"1\" class=\"dataframe\">\n",
       "  <thead>\n",
       "    <tr style=\"text-align: right;\">\n",
       "      <th></th>\n",
       "      <th>total_amt</th>\n",
       "      <th>los</th>\n",
       "    </tr>\n",
       "  </thead>\n",
       "  <tbody>\n",
       "    <tr>\n",
       "      <th>count</th>\n",
       "      <td>4.510000e+02</td>\n",
       "      <td>451.000000</td>\n",
       "    </tr>\n",
       "    <tr>\n",
       "      <th>mean</th>\n",
       "      <td>4.071565e+04</td>\n",
       "      <td>18.611973</td>\n",
       "    </tr>\n",
       "    <tr>\n",
       "      <th>std</th>\n",
       "      <td>9.765959e+04</td>\n",
       "      <td>40.945033</td>\n",
       "    </tr>\n",
       "    <tr>\n",
       "      <th>min</th>\n",
       "      <td>0.000000e+00</td>\n",
       "      <td>1.000000</td>\n",
       "    </tr>\n",
       "    <tr>\n",
       "      <th>25%</th>\n",
       "      <td>9.031500e+03</td>\n",
       "      <td>3.000000</td>\n",
       "    </tr>\n",
       "    <tr>\n",
       "      <th>50%</th>\n",
       "      <td>2.049000e+04</td>\n",
       "      <td>6.000000</td>\n",
       "    </tr>\n",
       "    <tr>\n",
       "      <th>75%</th>\n",
       "      <td>4.363300e+04</td>\n",
       "      <td>18.000000</td>\n",
       "    </tr>\n",
       "    <tr>\n",
       "      <th>max</th>\n",
       "      <td>1.853452e+06</td>\n",
       "      <td>468.000000</td>\n",
       "    </tr>\n",
       "  </tbody>\n",
       "</table>\n",
       "</div>"
      ],
      "text/plain": [
       "          total_amt         los\n",
       "count  4.510000e+02  451.000000\n",
       "mean   4.071565e+04   18.611973\n",
       "std    9.765959e+04   40.945033\n",
       "min    0.000000e+00    1.000000\n",
       "25%    9.031500e+03    3.000000\n",
       "50%    2.049000e+04    6.000000\n",
       "75%    4.363300e+04   18.000000\n",
       "max    1.853452e+06  468.000000"
      ]
     },
     "execution_count": 8,
     "metadata": {},
     "output_type": "execute_result"
    }
   ],
   "source": [
    "controlmedparagg.describe() "
   ]
  },
  {
   "cell_type": "code",
   "execution_count": 9,
   "metadata": {
    "collapsed": false,
    "slideshow": {
     "slide_type": "skip"
    }
   },
   "outputs": [
    {
     "data": {
      "text/plain": [
       "(18362756, 11903009)"
      ]
     },
     "execution_count": 9,
     "metadata": {},
     "output_type": "execute_result"
    }
   ],
   "source": [
    "controlmedparagg.total_amt.sum(), treatmentmedparagg.total_amt.sum()"
   ]
  },
  {
   "cell_type": "markdown",
   "metadata": {
    "slideshow": {
     "slide_type": "slide"
    }
   },
   "source": [
    "# <font color=\"#E56717\">Summary statistics of the Hospital payments</font>\n",
    "\n",
    "|  | total_amt (IMRT) | los in days (IMRT) | total_amt (PBT) | los in days (PBT) |\n",
    "|---|---------------|----------------|--------------------|----------------------|\n",
    "|count | 451 | 451 | 327 | 327 |\n",
    "| mean | 40715 | 19 | 36401 | 15 |\n",
    "| 25% | 9031 | 3 | 9163 | 2 |\n",
    "| 50% | 20490 | 6 | 20634 | 5 |\n",
    "| 75% | 43633 | 18 | 44371 | 16 |\n",
    "\n",
    "* <span style=\"font-size:1.5em;\">$\\sum$ total_amt for IMRT group =\\$18,362,756</span>\n",
    "* <span style=\"font-size:1.5em;\">$\\sum$ total_amt for PBT group = \\$11,903,009</span>"
   ]
  },
  {
   "cell_type": "markdown",
   "metadata": {
    "slideshow": {
     "slide_type": "slide"
    }
   },
   "source": [
    "# <font color=\"#E56717\">Outpatient Claims from Facilities</font>\n",
    "\n",
    "* <span style=\"font-size:1.5em;\">Care that is provided by hospitals on an outpatient basis is found in the outpatient file</span>\n",
    "* <span style=\"font-size:1.5em;\">The billing form (UB-92) used for inpatient hospitalizations is also used for hospital outpatient, skilled nursing facility, home health and hospice claims</span>\n",
    "* <span style=\"font-size:1.5em;\">Exmple services include:</span>\n",
    "    * <span style=\"font-size:1.5em;\">Day surgery</span>\n",
    "    * <span style=\"font-size:1.5em;\">Therapeutic radiology</span>\n",
    "    * <span style=\"font-size:1.5em;\">ER not resulting in an inpatient admission</span>"
   ]
  },
  {
   "cell_type": "markdown",
   "metadata": {
    "slideshow": {
     "slide_type": "slide"
    }
   },
   "source": [
    "# <font color=\"#E56717\">Structure of Outpatient Data</font>\n",
    "* <span style=\"font-size:1.5em;\">The outpatient data are structured differently than the MedPAR even though they are both derived from facility claims. In the outpatient, there is a summary record with revenue center code 0001 for each bill</span>\n",
    "* <span style=\"font-size:1.5em;\">There is also one record for each revenue center code listed on the claim (and associated detail)</span>\n",
    "    * <span style=\"font-size:1.5em;\">These are not rolledup or combined in any way</span>\n",
    "    * <span style=\"font-size:1.5em;\">revenue center codes can repeat on a single claim</span>\n",
    "* <span style=\"font-size:1.5em;\">All records from a particular claim include the same non-revenue center level detail</span>\n",
    "    * <span style=\"font-size:1.5em;\">Therefore, a bill with one revenue center code would have two records in the file - a summary and the one for the single revenue center</span>\n",
    "    * <span style=\"font-size:1.5em;\">a bill with 10 revenue center codes would have 11 records in the file - the summary and the 10 specific codes. The basic information about the claim, claim from date and claim through date, total payments, etc., would be repeated 11 times</span>"
   ]
  },
  {
   "cell_type": "markdown",
   "metadata": {
    "slideshow": {
     "slide_type": "slide"
    }
   },
   "source": [
    "# <font color=\"#E56717\">Payments in the Outpatient file</font>\n",
    "\n",
    "* <span style=\"font-size:1.5em;\">Payments in the outpatient file are based on service, referred to as \"Revenue Centers.\" This is similar to line items</span>\n",
    "* <span style=\"font-size:1.5em;\">Each line in the Outpatient file is a \"Revenue Center\" within a claim. Each claim contains at least two records, one of which is a summary record. The summary record contains Revenue Center = 0001</span>\n"
   ]
  },
  {
   "cell_type": "code",
   "execution_count": 10,
   "metadata": {
    "collapsed": true,
    "slideshow": {
     "slide_type": "slide"
    }
   },
   "outputs": [],
   "source": [
    "dh = pd.read_pickle('pure_goodindices_outsaf.pickle')\n",
    "dh = dh.set_index('patient_id', drop=False)\n",
    "\n",
    "dhtreatment = dh[dh.patient_id.isin(goodtreatmentindices) & prostate_filter].copy()\n",
    "\n",
    "dhcontrol = dh[dh.patient_id.isin(goodcontrolindices) & prostate_filter].copy()\n",
    "\n",
    "dhtreatment['yrdx_plus_modx'] = df_all_good_indices['yrdx_plus_modx']\n",
    "dhtreatment['site1'] = df_all_good_indices['site1']\n",
    "\n",
    "dhcontrol['yrdx_plus_modx'] = df_all_good_indices['yrdx_plus_modx']\n",
    "dhcontrol['site1'] = df_all_good_indices['site1']\n",
    "\n",
    "\n",
    "dhtreatment['claim_from_date_new'] = dhtreatment.claim_from_date.astype('str').str.replace('\\.0','')\n",
    "dhtreatment['claim_from_date_new'] = dhtreatment.claim_from_date_new.str.rjust(8,'0')\n",
    "\n",
    "dhtreatment['claim_through_date_new'] = dhtreatment.claim_through_date.astype('str').str.replace('\\.0','')\n",
    "dhtreatment['claim_through_date_new'] = dhtreatment.claim_through_date_new.str.rjust(8,'0')\n",
    "\n",
    "\n",
    "dhcontrol['claim_from_date_new'] = dhcontrol.claim_from_date.astype('str').str.replace('\\.0','')\n",
    "dhcontrol['claim_from_date_new'] = dhcontrol.claim_from_date_new.str.rjust(8,'0')\n",
    "\n",
    "dhcontrol['claim_through_date_new'] = dhcontrol.claim_through_date.astype('str').str.replace('\\.0','')\n",
    "dhcontrol['claim_through_date_new'] = dhcontrol.claim_through_date_new.str.rjust(8,'0')\n",
    "\n",
    "\n",
    "dhtreatment['claim_from_date_new'] = pd.to_datetime(dhtreatment['claim_from_date_new'], \n",
    "                                                      format='%m%d%Y').copy()\n",
    "\n",
    "dhtreatment['claim_through_date_new'] = pd.to_datetime(dhtreatment['claim_through_date_new'], \n",
    "                                                      format='%m%d%Y').copy()\n",
    "\n",
    "dhcontrol['claim_from_date_new'] = pd.to_datetime(dhcontrol['claim_from_date_new'], \n",
    "                                                      format='%m%d%Y').copy()\n",
    "\n",
    "dhcontrol['claim_through_date_new'] = pd.to_datetime(dhcontrol['claim_through_date_new'], \n",
    "                                                      format='%m%d%Y').copy()\n",
    "\n",
    "dhtreatment['time_delta'] = dhtreatment['claim_from_date_new'] - dhtreatment['yrdx_plus_modx']\n",
    "\n",
    "dhcontrol['time_delta'] = dhcontrol['claim_from_date_new'] - dhcontrol['yrdx_plus_modx']\n",
    "\n",
    "\n",
    "dhtreatment['delta_days'] = dhtreatment['time_delta'].apply(make_days)\n",
    "dhcontrol['delta_days'] = dhcontrol['time_delta'].apply(make_days)\n",
    "\n",
    "\n",
    "goodcols = ['claim_from_date_new','yrdx_plus_modx','tot_seg','delta_days','patient_id','claim_from_date',\n",
    "           'link_num','rec_count','center','pmt_amt','prpayamt',\n",
    "           'ptntresp','rprvdpmt','pay','ptb_ded','ptb_coin',\n",
    "           'blddedam','prvdrpmt']\n",
    "\n",
    "\n",
    "good_claims_filter_treatment = dhtreatment.delta_days > 0\n",
    "good_claims_filter_control = dhcontrol.delta_days > 0\n",
    "\n",
    "dhtreatmentgoodclaims = dhtreatment[good_claims_filter_treatment].copy()\n",
    "dhcontrolgoodclaims = dhcontrol[good_claims_filter_control].copy()\n",
    "\n",
    "\n",
    "\n",
    "a = dhtreatmentgoodclaims.patient_id + dhtreatmentgoodclaims.claim_from_date_new.astype('str') + \\\n",
    "dhtreatmentgoodclaims.link_num.astype('str')\n",
    "\n",
    "dhtreatmentgoodclaims['claim_id'] = a\n",
    "\n",
    "a = dhcontrolgoodclaims.patient_id + dhcontrolgoodclaims.claim_from_date_new.astype('str') + \\\n",
    "dhcontrolgoodclaims.link_num.astype('str')\n",
    "\n",
    "dhcontrolgoodclaims['claim_id'] = a\n",
    "\n",
    "\n",
    "goodcols = ['claim_from_date_new','yrdx_plus_modx','claim_id','patient_id',\n",
    "           'link_num','rec_count','center','pmt_amt','ptb_coin','ptb_ded','blddedam','rev_msp1']"
   ]
  },
  {
   "cell_type": "markdown",
   "metadata": {
    "slideshow": {
     "slide_type": "slide"
    }
   },
   "source": [
    "# <font color=\"#E56717\">Payments in the Outpatient file</font>\n",
    "\n",
    "* <span style=\"font-size:1.5em;\">Medicare Payment = pmt_amt</span>\n",
    "* <span style=\"font-size:1.5em;\">Beneficiary resopnsibility: ptb_ded + ptb_coni + blddedam</span>\n",
    "* <span style=\"font-size:1.5em;\">Primary payer claim paid amount: rev_msp1</span>"
   ]
  },
  {
   "cell_type": "code",
   "execution_count": 11,
   "metadata": {
    "collapsed": true,
    "slideshow": {
     "slide_type": "skip"
    }
   },
   "outputs": [],
   "source": [
    "dhoutpatienttreatmentgroup = dhtreatmentgoodclaims.groupby(['patient_id','claim_id'])\n",
    "\n",
    "dhoutpatientcontrolgroup = dhcontrolgoodclaims.groupby(['patient_id','claim_id'])\n",
    "\n",
    "\n",
    "paymentcols = ['pmt_amt','blddedam','ptb_coin','ptb_ded','rev_msp1']\n",
    "\n",
    "treatmentoutpatientagg = dhoutpatienttreatmentgroup[paymentcols].agg(np.max)\n",
    "\n",
    "controloutpatientagg = dhoutpatientcontrolgroup[paymentcols].agg(np.max)\n",
    "\n",
    "\n",
    "controloutpatientagg['total_amt_claim'] = controloutpatientagg[['pmt_amt','blddedam',\n",
    "            'ptb_coin','ptb_ded','rev_msp1']].sum(axis=1)\n",
    "\n",
    "treatmentoutpatientagg['total_amt_claim'] = treatmentoutpatientagg[['pmt_amt','blddedam',\n",
    "            'ptb_coin','ptb_ded','rev_msp1']].sum(axis=1)\n",
    "\n",
    "\n",
    "\n",
    "treatmentoutpatientagg.reset_index().head()\n",
    "treatmentoutpatientagg.reset_index(inplace=True)\n",
    "treatmentoutpatientagg = treatmentoutpatientagg.set_index('patient_id',drop=False)\n",
    "\n",
    "controloutpatientagg.reset_index().head()\n",
    "controloutpatientagg.reset_index(inplace=True)\n",
    "controloutpatientagg = controloutpatientagg.set_index('patient_id',drop=False)\n"
   ]
  },
  {
   "cell_type": "code",
   "execution_count": 12,
   "metadata": {
    "collapsed": false,
    "slideshow": {
     "slide_type": "skip"
    }
   },
   "outputs": [],
   "source": [
    "dhcontrolgroup = controloutpatientagg.groupby('patient_id')\n",
    "\n",
    "dhtreatmentgroup = treatmentoutpatientagg.groupby('patient_id')\n",
    "\n",
    "controloutpatient = controloutpatientagg[['patient_id',\n",
    "        'total_amt_claim']].groupby('patient_id').agg(['sum','count','mean']).copy()\n",
    "controloutpatient.columns = controloutpatient.columns.droplevel()\n",
    "controloutpatient.columns = ['total_amt','claim_count','mean_claim_amt']\n",
    "\n",
    "treatmentoutpatient = treatmentoutpatientagg[['patient_id',\n",
    "'total_amt_claim']].groupby('patient_id').agg(['sum','count','mean']).copy()\n",
    "treatmentoutpatient.columns = treatmentoutpatient.columns.droplevel()\n",
    "treatmentoutpatient.columns = ['total_amt','claim_count','mean_claim_amt']"
   ]
  },
  {
   "cell_type": "code",
   "execution_count": 13,
   "metadata": {
    "collapsed": false,
    "slideshow": {
     "slide_type": "skip"
    }
   },
   "outputs": [
    {
     "data": {
      "text/html": [
       "<div>\n",
       "<table border=\"1\" class=\"dataframe\">\n",
       "  <thead>\n",
       "    <tr style=\"text-align: right;\">\n",
       "      <th></th>\n",
       "      <th>total_amt</th>\n",
       "      <th>claim_count</th>\n",
       "      <th>mean_claim_amt</th>\n",
       "    </tr>\n",
       "  </thead>\n",
       "  <tbody>\n",
       "    <tr>\n",
       "      <th>count</th>\n",
       "      <td>777.000000</td>\n",
       "      <td>777.000000</td>\n",
       "      <td>777.000000</td>\n",
       "    </tr>\n",
       "    <tr>\n",
       "      <th>mean</th>\n",
       "      <td>24032.610618</td>\n",
       "      <td>27.158301</td>\n",
       "      <td>1163.549843</td>\n",
       "    </tr>\n",
       "    <tr>\n",
       "      <th>std</th>\n",
       "      <td>22159.825369</td>\n",
       "      <td>23.237388</td>\n",
       "      <td>992.124944</td>\n",
       "    </tr>\n",
       "    <tr>\n",
       "      <th>min</th>\n",
       "      <td>0.000000</td>\n",
       "      <td>1.000000</td>\n",
       "      <td>0.000000</td>\n",
       "    </tr>\n",
       "    <tr>\n",
       "      <th>25%</th>\n",
       "      <td>9345.720000</td>\n",
       "      <td>11.000000</td>\n",
       "      <td>467.633200</td>\n",
       "    </tr>\n",
       "    <tr>\n",
       "      <th>50%</th>\n",
       "      <td>24004.120000</td>\n",
       "      <td>21.000000</td>\n",
       "      <td>891.374483</td>\n",
       "    </tr>\n",
       "    <tr>\n",
       "      <th>75%</th>\n",
       "      <td>30587.880000</td>\n",
       "      <td>36.000000</td>\n",
       "      <td>1551.397246</td>\n",
       "    </tr>\n",
       "    <tr>\n",
       "      <th>max</th>\n",
       "      <td>243579.050000</td>\n",
       "      <td>213.000000</td>\n",
       "      <td>6723.015000</td>\n",
       "    </tr>\n",
       "  </tbody>\n",
       "</table>\n",
       "</div>"
      ],
      "text/plain": [
       "           total_amt  claim_count  mean_claim_amt\n",
       "count     777.000000   777.000000      777.000000\n",
       "mean    24032.610618    27.158301     1163.549843\n",
       "std     22159.825369    23.237388      992.124944\n",
       "min         0.000000     1.000000        0.000000\n",
       "25%      9345.720000    11.000000      467.633200\n",
       "50%     24004.120000    21.000000      891.374483\n",
       "75%     30587.880000    36.000000     1551.397246\n",
       "max    243579.050000   213.000000     6723.015000"
      ]
     },
     "execution_count": 13,
     "metadata": {},
     "output_type": "execute_result"
    }
   ],
   "source": [
    "controloutpatient.describe()"
   ]
  },
  {
   "cell_type": "code",
   "execution_count": 14,
   "metadata": {
    "collapsed": false,
    "slideshow": {
     "slide_type": "skip"
    }
   },
   "outputs": [
    {
     "data": {
      "text/html": [
       "<div>\n",
       "<table border=\"1\" class=\"dataframe\">\n",
       "  <thead>\n",
       "    <tr style=\"text-align: right;\">\n",
       "      <th></th>\n",
       "      <th>total_amt</th>\n",
       "      <th>claim_count</th>\n",
       "      <th>mean_claim_amt</th>\n",
       "    </tr>\n",
       "  </thead>\n",
       "  <tbody>\n",
       "    <tr>\n",
       "      <th>count</th>\n",
       "      <td>805.000000</td>\n",
       "      <td>805.000000</td>\n",
       "      <td>805.000000</td>\n",
       "    </tr>\n",
       "    <tr>\n",
       "      <th>mean</th>\n",
       "      <td>51445.550609</td>\n",
       "      <td>23.673292</td>\n",
       "      <td>3745.510992</td>\n",
       "    </tr>\n",
       "    <tr>\n",
       "      <th>std</th>\n",
       "      <td>24442.422398</td>\n",
       "      <td>21.973273</td>\n",
       "      <td>3278.811694</td>\n",
       "    </tr>\n",
       "    <tr>\n",
       "      <th>min</th>\n",
       "      <td>0.000000</td>\n",
       "      <td>2.000000</td>\n",
       "      <td>0.000000</td>\n",
       "    </tr>\n",
       "    <tr>\n",
       "      <th>25%</th>\n",
       "      <td>42358.610000</td>\n",
       "      <td>9.000000</td>\n",
       "      <td>1404.732800</td>\n",
       "    </tr>\n",
       "    <tr>\n",
       "      <th>50%</th>\n",
       "      <td>53668.870000</td>\n",
       "      <td>17.000000</td>\n",
       "      <td>2911.130526</td>\n",
       "    </tr>\n",
       "    <tr>\n",
       "      <th>75%</th>\n",
       "      <td>62546.480000</td>\n",
       "      <td>29.000000</td>\n",
       "      <td>5141.037273</td>\n",
       "    </tr>\n",
       "    <tr>\n",
       "      <th>max</th>\n",
       "      <td>335032.980000</td>\n",
       "      <td>144.000000</td>\n",
       "      <td>25483.880000</td>\n",
       "    </tr>\n",
       "  </tbody>\n",
       "</table>\n",
       "</div>"
      ],
      "text/plain": [
       "           total_amt  claim_count  mean_claim_amt\n",
       "count     805.000000   805.000000      805.000000\n",
       "mean    51445.550609    23.673292     3745.510992\n",
       "std     24442.422398    21.973273     3278.811694\n",
       "min         0.000000     2.000000        0.000000\n",
       "25%     42358.610000     9.000000     1404.732800\n",
       "50%     53668.870000    17.000000     2911.130526\n",
       "75%     62546.480000    29.000000     5141.037273\n",
       "max    335032.980000   144.000000    25483.880000"
      ]
     },
     "execution_count": 14,
     "metadata": {},
     "output_type": "execute_result"
    }
   ],
   "source": [
    "treatmentoutpatient.describe()"
   ]
  },
  {
   "cell_type": "code",
   "execution_count": 15,
   "metadata": {
    "collapsed": false,
    "slideshow": {
     "slide_type": "skip"
    }
   },
   "outputs": [
    {
     "data": {
      "text/plain": [
       "(18673338.45, 41413668.23999992)"
      ]
     },
     "execution_count": 15,
     "metadata": {},
     "output_type": "execute_result"
    }
   ],
   "source": [
    "controloutpatient.total_amt.sum(), treatmentoutpatient.total_amt.sum()"
   ]
  },
  {
   "cell_type": "markdown",
   "metadata": {
    "slideshow": {
     "slide_type": "slide"
    }
   },
   "source": [
    "# <font color=\"#E56717\">Summary statistics of the outpatient claims</font>\n",
    "\n",
    "| | total_amt (IMRT) | claim_count (IMRT) | total_amt (PBT) | claim_count (PBT) |\n",
    "|--|-----------------|----------------|-----------------|---------------------|\n",
    "| count | 777 | 777 | 805 | 605 |\n",
    "| mean | 24033 | 27 | 51445 | 24 |\n",
    "| 25% | 9346 | 11 | 42359 | 9 |\n",
    "| 50% | 24004 | 21 | 53668 | 17 | \n",
    "| 75% | 30587 | 36 | 62546 | 29 |\n",
    "\n",
    "* <span style=\"font-size:1.5em;\">$\\sum$ total_amt for IMRT group: \\$18,673,338</span>\n",
    "* <span style=\"font-size:1.5em;\">$\\sum$ total_amt for PBT group: \\$41,413,668</span>"
   ]
  },
  {
   "cell_type": "markdown",
   "metadata": {
    "slideshow": {
     "slide_type": "slide"
    }
   },
   "source": [
    "# <font color=\"#E56717\">Claims in the Carrier File (Physican/Supplier Part B or NCH)</font>\n",
    "\n",
    "* <span style=\"font-size:1.5em;\">Most of these claims are from physicians</span>\n",
    "* <span style=\"font-size:1.5em;\">They can also be from:</span>\n",
    "    * <span style=\"font-size:1.5em;\">other health personnel</span>\n",
    "    * <span style=\"font-size:1.5em;\">labs</span>\n",
    "    * <span style=\"font-size:1.5em;\">freestanding ambulatory care centers</span>\n",
    "*  <span style=\"font-size:1.5em;\">Includes physician services in a range of settings - office, hospital, nursing home, etc.</span>"
   ]
  },
  {
   "cell_type": "markdown",
   "metadata": {
    "slideshow": {
     "slide_type": "slide"
    }
   },
   "source": [
    "# <font color=\"#E56717\">To make the Carrier data easier to use</font>\n",
    "\n",
    "*  <span style=\"font-size:1.5em;\">The bills are turned into fixed-length records</span>\n",
    "*  <span style=\"font-size:1.5em;\">Each record includes the header (the summary information at the top of the form)</span>\n",
    "*  <span style=\"font-size:1.5em;\">one line item</span>\n",
    "*  <span style=\"font-size:1.5em;\">If during a doctor visit a patient has:</span>\n",
    "    * <span style=\"font-size:1.5em;\">office visit</span>\n",
    "    * <span style=\"font-size:1.5em;\">EKG</span>\n",
    "    * <span style=\"font-size:1.5em;\">Chest X-ray</span>\n",
    "    * <span style=\"font-size:1.5em;\">CBC</span>\n",
    "* <span style=\"font-size:1.5em;\">There would be four records, each with a common header and a unique line item</span>"
   ]
  },
  {
   "cell_type": "code",
   "execution_count": 16,
   "metadata": {
    "collapsed": true,
    "slideshow": {
     "slide_type": "skip"
    }
   },
   "outputs": [],
   "source": [
    "\n",
    "di = pd.read_pickle('pure_goodindices_nch.pickle')\n",
    "di = di.set_index('patient_id', drop=False)\n",
    "ditreatment = di[di.patient_id.isin(goodtreatmentindices)].copy()\n",
    "\n",
    "dicontrol = di[di.patient_id.isin(goodcontrolindices)].copy()"
   ]
  },
  {
   "cell_type": "code",
   "execution_count": 17,
   "metadata": {
    "collapsed": false,
    "slideshow": {
     "slide_type": "skip"
    }
   },
   "outputs": [],
   "source": [
    "ditreatment['yrdx_plus_modx'] = df_all_good_indices['yrdx_plus_modx']\n",
    "ditreatment['site1'] = df_all_good_indices['site1']\n",
    "\n",
    "\n",
    "dicontrol['yrdx_plus_modx'] = df_all_good_indices['yrdx_plus_modx']\n",
    "dicontrol['site1'] = df_all_good_indices['site1']\n",
    "\n",
    "\n",
    "ditreatment['claim_from_date_new'] = ditreatment.claim_from_date.astype('str').str.replace('\\.0','')\n",
    "ditreatment['claim_from_date_new'] = ditreatment.claim_from_date_new.str.rjust(8,'0')\n",
    "\n",
    "ditreatment['claim_through_date_new'] = ditreatment.claim_through_date.astype('str').str.replace('\\.0','')\n",
    "ditreatment['claim_through_date_new'] = ditreatment.claim_through_date_new.str.rjust(8,'0')\n",
    "\n",
    "\n",
    "dicontrol['claim_from_date_new'] = dicontrol.claim_from_date.astype('str').str.replace('\\.0','')\n",
    "dicontrol['claim_from_date_new'] = dicontrol.claim_from_date_new.str.rjust(8,'0')\n",
    "\n",
    "dicontrol['claim_through_date_new'] = dicontrol.claim_through_date.astype('str').str.replace('\\.0','')\n",
    "dicontrol['claim_through_date_new'] = dicontrol.claim_through_date_new.str.rjust(8,'0')\n",
    "\n",
    "ditreatment['claim_from_date_new'] = pd.to_datetime(ditreatment['claim_from_date_new'], \n",
    "                                                      format='%m%d%Y').copy()\n",
    "\n",
    "ditreatment['claim_through_date_new'] = pd.to_datetime(ditreatment['claim_through_date_new'], \n",
    "                                                      format='%m%d%Y').copy()\n",
    "\n",
    "dicontrol['claim_from_date_new'] = pd.to_datetime(dicontrol['claim_from_date_new'], \n",
    "                                                      format='%m%d%Y').copy()\n",
    "\n",
    "dicontrol['claim_through_date_new'] = pd.to_datetime(dicontrol['claim_through_date_new'], \n",
    "                                                      format='%m%d%Y').copy()\n",
    "\n",
    "\n",
    "\n",
    "goodcols = ['patient_id','claim_from_date_new','yrdx_plus_modx','hcpcs','link_num','srvc_cnt',\n",
    "   'linediag','rec_count','pmt_amt','lintamt','ldedamt','coinamt','prpayamt',\n",
    "           'prov_pmt']\n",
    "\n",
    "\n",
    "ditreatment['time_delta'] = ditreatment['claim_from_date_new'] - ditreatment['yrdx_plus_modx']\n",
    "\n",
    "dicontrol['time_delta'] = dicontrol['claim_from_date_new'] - dicontrol['yrdx_plus_modx']\n",
    "\n",
    "\n",
    "ditreatment['delta_days'] = ditreatment['time_delta'].apply(make_days)\n",
    "dicontrol['delta_days'] = dicontrol['time_delta'].apply(make_days)\n",
    "\n",
    "\n",
    "goodcols = ['patient_id','claim_from_date_new','yrdx_plus_modx','delta_days','link_num','srvc_cnt',\n",
    "   'linediag','rec_count','pmt_amt','lintamt','ldedamt','coinamt','prpayamt',\n",
    "           'prov_pmt']\n",
    "\n",
    "\n",
    "good_claims_filter_treatment = ditreatment.delta_days > 0\n",
    "good_claims_filter_control = dicontrol.delta_days > 0\n",
    "\n",
    "ditreatmentgoodclaims = ditreatment[good_claims_filter_treatment].copy()\n",
    "dicontrolgoodclaims = dicontrol[good_claims_filter_control].copy()\n",
    "\n",
    "\n",
    "a = ditreatmentgoodclaims.patient_id + ditreatmentgoodclaims.claim_from_date_new.astype('str') + \\\n",
    "ditreatmentgoodclaims.link_num.astype('str')\n",
    "\n",
    "ditreatmentgoodclaims['claim_id'] = a\n",
    "\n",
    "\n",
    "a = dicontrolgoodclaims.patient_id + dicontrolgoodclaims.claim_from_date_new.astype('str') + \\\n",
    "dicontrolgoodclaims.link_num.astype('str')\n",
    "\n",
    "dicontrolgoodclaims['claim_id'] = a\n",
    "\n",
    "\n",
    "goodcols = ['patient_id','claim_from_date_new','yrdx_plus_modx','delta_days','link_num','claim_id',\n",
    "   'linediag','rec_count','pmt_amt','lintamt','ldedamt','coinamt','prpayamt',\n",
    "           'prov_pmt']\n",
    "\n",
    "\n",
    "dinchtreatmentgroup = ditreatmentgoodclaims.groupby(['patient_id','claim_id'])\n",
    "\n",
    "dinchcontrolgroup = dicontrolgoodclaims.groupby(['patient_id','claim_id'])\n",
    "\n",
    "\n",
    "paymentcols = ['pmt_amt','coinamt','prpayamt','ldedamt','lintamt'] # sum over coinamt, ldedamt and lintamt\n",
    "\n",
    "\n",
    "treatmentnchagg = dinchtreatmentgroup[paymentcols].agg([np.max, np.sum ])\n",
    "controlnchagg = dinchcontrolgroup[paymentcols].agg([np.max, np.sum])\n",
    "\n",
    "\n",
    "treatmentnchagg.reset_index(inplace=True)\n",
    "controlnchagg.reset_index(inplace=True)\n",
    "\n",
    "treatmentnchagg = treatmentnchagg.set_index('patient_id', drop=False)\n",
    "controlnchagg = controlnchagg.set_index('patient_id', drop=False)\n"
   ]
  },
  {
   "cell_type": "markdown",
   "metadata": {
    "slideshow": {
     "slide_type": "slide"
    }
   },
   "source": [
    "# <font color=\"#E56717\">Payments in the NCH file</font>\n",
    "\n",
    "* <span style=\"font-size:1.5em;\">Medicare payment + Beneficiary co-pay/deduct (sum of coinamt, ldedamt over line items) + ClaimPrimary Payer Amount</span>\n",
    "* <span style=\"font-size:1.5em;\">Claim Primary Payer Amount: prpayamt</span>\n",
    "* <span style=\"font-size:1.5em;\">Note: Claim Payment Amount, pmt-amt, repeats for each line item on the claim. Only count it once.</span>"
   ]
  },
  {
   "cell_type": "code",
   "execution_count": 18,
   "metadata": {
    "collapsed": true,
    "slideshow": {
     "slide_type": "skip"
    }
   },
   "outputs": [],
   "source": [
    "treatmentnchagg.columns = treatmentnchagg.columns.droplevel()\n",
    "treatmentnchagg.columns = ['patient_id','claim_id','pmt_amt_max','pmt_amt_sum',\n",
    "                          'coinamt_max','coinamt_sum','prpayamt_max','prpayamt_sum',\n",
    "                          'ldedamt_max','ldedamt_sum','lintamt_max','lintamt_sum']\n",
    "\n",
    "\n",
    "controlnchagg.columns = controlnchagg.columns.droplevel()\n",
    "controlnchagg.columns = ['patient_id','claim_id','pmt_amt_max','pmt_amt_sum',\n",
    "                          'coinamt_max','coinamt_sum','prpayamt_max','prpayamt_sum',\n",
    "                          'ldedamt_max','ldedamt_sum','lintamt_max','lintamt_sum']\n",
    "\n",
    "del treatmentnchagg['pmt_amt_sum']\n",
    "del treatmentnchagg['coinamt_max']\n",
    "del treatmentnchagg['prpayamt_sum']\n",
    "del treatmentnchagg['ldedamt_max']\n",
    "del treatmentnchagg['lintamt_max']\n",
    "\n",
    "\n",
    "del controlnchagg['pmt_amt_sum']\n",
    "del controlnchagg['coinamt_max']\n",
    "del controlnchagg['prpayamt_sum']\n",
    "del controlnchagg['ldedamt_max']\n",
    "del controlnchagg['lintamt_max']\n",
    "\n",
    "\n",
    "controlnchagg['total_amt_claim'] = controlnchagg[['pmt_amt_max','coinamt_sum','prpayamt_max',\n",
    "                            'ldedamt_sum','lintamt_sum']].sum(axis=1)\n",
    "\n",
    "\n",
    "treatmentnchagg['total_amt_claim'] = treatmentnchagg[['pmt_amt_max','coinamt_sum','prpayamt_max',\n",
    "                            'ldedamt_sum','lintamt_sum']].sum(axis=1)\n",
    "\n",
    "\n",
    "dicontrolgroup = controlnchagg.groupby('patient_id')\n",
    "\n",
    "ditreatmentgroup = treatmentnchagg.groupby('patient_id')\n",
    "\n",
    "\n",
    "controlnch = controlnchagg[['patient_id',\n",
    "        'total_amt_claim']].groupby('patient_id').agg(['sum','count','mean']).copy()\n",
    "controlnch.columns = controlnch.columns.droplevel()\n",
    "controlnch.columns = ['total_amt','claim_count','mean_claim_amt']\n",
    "\n",
    "\n",
    "treatmentnch = treatmentnchagg[['patient_id',\n",
    "        'total_amt_claim']].groupby('patient_id').agg(['sum','count','mean']).copy()\n",
    "treatmentnch.columns = treatmentnch.columns.droplevel()\n",
    "treatmentnch.columns = ['total_amt','claim_count','mean_claim_amt']\n",
    "\n"
   ]
  },
  {
   "cell_type": "code",
   "execution_count": 19,
   "metadata": {
    "collapsed": false,
    "slideshow": {
     "slide_type": "skip"
    }
   },
   "outputs": [
    {
     "data": {
      "text/html": [
       "<div>\n",
       "<table border=\"1\" class=\"dataframe\">\n",
       "  <thead>\n",
       "    <tr style=\"text-align: right;\">\n",
       "      <th></th>\n",
       "      <th>total_amt</th>\n",
       "      <th>claim_count</th>\n",
       "      <th>mean_claim_amt</th>\n",
       "    </tr>\n",
       "  </thead>\n",
       "  <tbody>\n",
       "    <tr>\n",
       "      <th>count</th>\n",
       "      <td>803.000000</td>\n",
       "      <td>803.000000</td>\n",
       "      <td>803.000000</td>\n",
       "    </tr>\n",
       "    <tr>\n",
       "      <th>mean</th>\n",
       "      <td>31076.357385</td>\n",
       "      <td>114.809465</td>\n",
       "      <td>286.649655</td>\n",
       "    </tr>\n",
       "    <tr>\n",
       "      <th>std</th>\n",
       "      <td>25573.306549</td>\n",
       "      <td>88.791343</td>\n",
       "      <td>206.592242</td>\n",
       "    </tr>\n",
       "    <tr>\n",
       "      <th>min</th>\n",
       "      <td>0.000000</td>\n",
       "      <td>1.000000</td>\n",
       "      <td>0.000000</td>\n",
       "    </tr>\n",
       "    <tr>\n",
       "      <th>25%</th>\n",
       "      <td>10054.910000</td>\n",
       "      <td>54.000000</td>\n",
       "      <td>142.874529</td>\n",
       "    </tr>\n",
       "    <tr>\n",
       "      <th>50%</th>\n",
       "      <td>23684.570000</td>\n",
       "      <td>94.000000</td>\n",
       "      <td>208.409245</td>\n",
       "    </tr>\n",
       "    <tr>\n",
       "      <th>75%</th>\n",
       "      <td>48383.195000</td>\n",
       "      <td>151.000000</td>\n",
       "      <td>375.755969</td>\n",
       "    </tr>\n",
       "    <tr>\n",
       "      <th>max</th>\n",
       "      <td>181753.710000</td>\n",
       "      <td>825.000000</td>\n",
       "      <td>1317.055870</td>\n",
       "    </tr>\n",
       "  </tbody>\n",
       "</table>\n",
       "</div>"
      ],
      "text/plain": [
       "           total_amt  claim_count  mean_claim_amt\n",
       "count     803.000000   803.000000      803.000000\n",
       "mean    31076.357385   114.809465      286.649655\n",
       "std     25573.306549    88.791343      206.592242\n",
       "min         0.000000     1.000000        0.000000\n",
       "25%     10054.910000    54.000000      142.874529\n",
       "50%     23684.570000    94.000000      208.409245\n",
       "75%     48383.195000   151.000000      375.755969\n",
       "max    181753.710000   825.000000     1317.055870"
      ]
     },
     "execution_count": 19,
     "metadata": {},
     "output_type": "execute_result"
    }
   ],
   "source": [
    "controlnch.describe()"
   ]
  },
  {
   "cell_type": "code",
   "execution_count": 20,
   "metadata": {
    "collapsed": false,
    "slideshow": {
     "slide_type": "skip"
    }
   },
   "outputs": [
    {
     "data": {
      "text/html": [
       "<div>\n",
       "<table border=\"1\" class=\"dataframe\">\n",
       "  <thead>\n",
       "    <tr style=\"text-align: right;\">\n",
       "      <th></th>\n",
       "      <th>total_amt</th>\n",
       "      <th>claim_count</th>\n",
       "      <th>mean_claim_amt</th>\n",
       "    </tr>\n",
       "  </thead>\n",
       "  <tbody>\n",
       "    <tr>\n",
       "      <th>count</th>\n",
       "      <td>800.000000</td>\n",
       "      <td>800.00000</td>\n",
       "      <td>800.000000</td>\n",
       "    </tr>\n",
       "    <tr>\n",
       "      <th>mean</th>\n",
       "      <td>18323.880012</td>\n",
       "      <td>94.57500</td>\n",
       "      <td>185.573587</td>\n",
       "    </tr>\n",
       "    <tr>\n",
       "      <th>std</th>\n",
       "      <td>19898.713067</td>\n",
       "      <td>82.38371</td>\n",
       "      <td>116.155871</td>\n",
       "    </tr>\n",
       "    <tr>\n",
       "      <th>min</th>\n",
       "      <td>0.000000</td>\n",
       "      <td>1.00000</td>\n",
       "      <td>0.000000</td>\n",
       "    </tr>\n",
       "    <tr>\n",
       "      <th>25%</th>\n",
       "      <td>5901.955000</td>\n",
       "      <td>38.00000</td>\n",
       "      <td>129.722621</td>\n",
       "    </tr>\n",
       "    <tr>\n",
       "      <th>50%</th>\n",
       "      <td>11250.485000</td>\n",
       "      <td>72.50000</td>\n",
       "      <td>156.501273</td>\n",
       "    </tr>\n",
       "    <tr>\n",
       "      <th>75%</th>\n",
       "      <td>23542.582500</td>\n",
       "      <td>131.25000</td>\n",
       "      <td>194.630655</td>\n",
       "    </tr>\n",
       "    <tr>\n",
       "      <th>max</th>\n",
       "      <td>172218.990000</td>\n",
       "      <td>781.00000</td>\n",
       "      <td>1120.771282</td>\n",
       "    </tr>\n",
       "  </tbody>\n",
       "</table>\n",
       "</div>"
      ],
      "text/plain": [
       "           total_amt  claim_count  mean_claim_amt\n",
       "count     800.000000    800.00000      800.000000\n",
       "mean    18323.880012     94.57500      185.573587\n",
       "std     19898.713067     82.38371      116.155871\n",
       "min         0.000000      1.00000        0.000000\n",
       "25%      5901.955000     38.00000      129.722621\n",
       "50%     11250.485000     72.50000      156.501273\n",
       "75%     23542.582500    131.25000      194.630655\n",
       "max    172218.990000    781.00000     1120.771282"
      ]
     },
     "execution_count": 20,
     "metadata": {},
     "output_type": "execute_result"
    }
   ],
   "source": [
    "treatmentnch.describe()"
   ]
  },
  {
   "cell_type": "code",
   "execution_count": 21,
   "metadata": {
    "collapsed": false,
    "slideshow": {
     "slide_type": "skip"
    }
   },
   "outputs": [
    {
     "data": {
      "text/plain": [
       "(24954314.979999993, 14659104.009999977)"
      ]
     },
     "execution_count": 21,
     "metadata": {},
     "output_type": "execute_result"
    }
   ],
   "source": [
    "controlnch.total_amt.sum(), treatmentnch.total_amt.sum()"
   ]
  },
  {
   "cell_type": "markdown",
   "metadata": {
    "slideshow": {
     "slide_type": "slide"
    }
   },
   "source": [
    "# <font color=\"#E56717\">Summary statistics of the NCH claims</font>\n",
    "\n",
    "| | total_amt (IMRT) | claim_count (IMRT) | total_amt (PBT) | claim_count (PBT) |\n",
    "|--|------------------|------------|----------------|------------------|\n",
    "|count | 803 | 803 | 800 | 800 |\n",
    "| mean | 31076 | 115 | 18323 | 95 |\n",
    "| 25% | 10055 | 54 | 5901 | 38 |\n",
    "| 50% | 23685 | 94 | 11250 | 73 |\n",
    "| 75% | 48383 | 151 | 23543 | 131 |\n",
    "\n",
    "* <span style=\"font-size:1.5em;\">$\\sum$ total_amt for IMRT group: \\$24,954,315</span>\n",
    "* <span style=\"font-size:1.5em;\">$\\sum$ total_amt for PBT group: \\$14,659,104</span>"
   ]
  },
  {
   "cell_type": "code",
   "execution_count": 22,
   "metadata": {
    "collapsed": true,
    "slideshow": {
     "slide_type": "skip"
    }
   },
   "outputs": [],
   "source": [
    "controloutpatient.columns = ['total_amt_outpatient','claim_count_outpatient',\n",
    "                            'mean_claim_amt_outpatient']\n",
    "\n",
    "controlnch.columns = ['total_amt_nch','claim_count_nch','mean_claim_amt_nch']\n",
    "\n",
    "controlmedparagg.columns = ['total_amt_medpar','los']\n",
    "\n",
    "controloutpatient_nch_medpar = pd.concat([controloutpatient, controlnch, controlmedparagg], axis=1)\n",
    "\n",
    "controloutpatient_nch_medpar['total'] = controloutpatient_nch_medpar[['total_amt_outpatient',\n",
    "                                                     'total_amt_nch','total_amt_medpar']].sum(axis=1)\n",
    "\n",
    "treatmentoutpatient.columns = ['total_amt_outpatient','claim_count_outpatient',\n",
    "                            'mean_claim_amt_outpatient']\n",
    "\n",
    "\n",
    "treatmentnch.columns = ['total_amt_nch','claim_count_nch','mean_claim_amt_nch']\n",
    "\n",
    "treatmentmedparagg.columns = ['total_amt_medpar','los']\n",
    "\n",
    "treatmentoutpatient_nch_medpar = pd.concat([treatmentoutpatient, treatmentnch, treatmentmedparagg], axis=1)\n",
    "\n",
    "treatmentoutpatient_nch_medpar['total'] = treatmentoutpatient_nch_medpar[['total_amt_outpatient',\n",
    "                                                     'total_amt_nch','total_amt_medpar']].sum(axis=1)"
   ]
  },
  {
   "cell_type": "code",
   "execution_count": 23,
   "metadata": {
    "collapsed": false,
    "slideshow": {
     "slide_type": "skip"
    }
   },
   "outputs": [
    {
     "data": {
      "text/plain": [
       "count    8.060000e+02\n",
       "mean     7.691118e+04\n",
       "std      8.515981e+04\n",
       "min      0.000000e+00\n",
       "25%      4.045784e+04\n",
       "50%      5.760224e+04\n",
       "75%      8.974081e+04\n",
       "max      1.895731e+06\n",
       "Name: total, dtype: float64"
      ]
     },
     "execution_count": 23,
     "metadata": {},
     "output_type": "execute_result"
    }
   ],
   "source": [
    "controloutpatient_nch_medpar.total.describe()"
   ]
  },
  {
   "cell_type": "code",
   "execution_count": 24,
   "metadata": {
    "collapsed": false,
    "slideshow": {
     "slide_type": "skip"
    }
   },
   "outputs": [
    {
     "data": {
      "text/plain": [
       "count       806.000000\n",
       "mean      84337.197581\n",
       "std       53411.697041\n",
       "min         594.360000\n",
       "25%       57891.452500\n",
       "50%       69068.890000\n",
       "75%       91216.870000\n",
       "max      595088.040000\n",
       "Name: total, dtype: float64"
      ]
     },
     "execution_count": 24,
     "metadata": {},
     "output_type": "execute_result"
    }
   ],
   "source": [
    "treatmentoutpatient_nch_medpar.total.describe()"
   ]
  },
  {
   "cell_type": "code",
   "execution_count": 25,
   "metadata": {
    "collapsed": false,
    "slideshow": {
     "slide_type": "skip"
    }
   },
   "outputs": [
    {
     "data": {
      "text/plain": [
       "(61990409.43000007, 67975781.25)"
      ]
     },
     "execution_count": 25,
     "metadata": {},
     "output_type": "execute_result"
    }
   ],
   "source": [
    "controloutpatient_nch_medpar.total.sum(), treatmentoutpatient_nch_medpar.total.sum()"
   ]
  },
  {
   "cell_type": "markdown",
   "metadata": {
    "slideshow": {
     "slide_type": "slide"
    }
   },
   "source": [
    "# <font color=\"#E56717\">Summary statistics for grand total from all three sources</font>\n",
    "\n",
    "| | total (IMRT) | total (PBT) |\n",
    "|--|--------|----------|\n",
    "| count | 806 | 806 |\n",
    "| mean | 76911 | 84337 |\n",
    "| 25% | 40458 | 57891 |\n",
    "| 50% | 57602 | 69068 |\n",
    "| 75% | 89741 | 91217 |\n",
    "\n",
    "* <span style=\"font-size:1.5em;\">$\\sum$ total for IMRT group: \\$61,990,409</span>\n",
    "* <span style=\"font-size:1.5em;\">$\\sum$ total for PBT group: \\$67,975,781</span>"
   ]
  },
  {
   "cell_type": "code",
   "execution_count": 26,
   "metadata": {
    "collapsed": false,
    "slideshow": {
     "slide_type": "slide"
    }
   },
   "outputs": [
    {
     "data": {
      "text/plain": [
       "(0, 400000)"
      ]
     },
     "execution_count": 26,
     "metadata": {},
     "output_type": "execute_result"
    },
    {
     "data": {
      "image/png": "[encoded data removed]",
      "text/plain": [
       "<matplotlib.figure.Figure at 0x3357213c8>"
      ]
     },
     "metadata": {},
     "output_type": "display_data"
    }
   ],
   "source": [
    "at = 1 -treatmentoutpatient_nch_medpar['total'].value_counts(normalize=True).sort_index().cumsum()\n",
    "ac = 1 -controloutpatient_nch_medpar['total'].value_counts(normalize=True).sort_index().cumsum()\n",
    "ax = at.plot(drawstyle='steps',label='treatment')\n",
    "ac.plot(drawstyle='steps',label='control',ax=ax)\n",
    "plt.legend()\n",
    "plt.xlabel(\"Total Payments (Dollars)\")\n",
    "plt.ylabel(\"Probability of having at least these many payments\")\n",
    "plt.title('SFs (1 - CDF) of prostate and control groups\\ntotal payments in Outpatient & NCH claims & MedPAR claims')\n",
    "plt.xlim(0,400000)"
   ]
  },
  {
   "cell_type": "code",
   "execution_count": 27,
   "metadata": {
    "collapsed": true,
    "slideshow": {
     "slide_type": "skip"
    }
   },
   "outputs": [],
   "source": [
    "from collections import OrderedDict\n",
    "treatmentoutpatient_nch_medpar_dict = OrderedDict()\n",
    "\n",
    "for i in range(len(list(d_t_c.keys()))):\n",
    "    treatmentoutpatient_nch_medpar_dict[list(d_t_c.keys())[i]] = treatmentoutpatient_nch_medpar['total'].loc[list(d_t_c.keys())[i]]"
   ]
  },
  {
   "cell_type": "code",
   "execution_count": 28,
   "metadata": {
    "collapsed": true,
    "slideshow": {
     "slide_type": "skip"
    }
   },
   "outputs": [],
   "source": [
    "from collections import OrderedDict\n",
    "controloutpatient_nch_medpar_dict = OrderedDict()\n",
    "for i in range(len(list(d_t_c.values()))):\n",
    "    controloutpatient_nch_medpar_dict[list(d_t_c.values())[i]] = controloutpatient_nch_medpar['total'].loc[list(d_t_c.values())[i]]"
   ]
  },
  {
   "cell_type": "code",
   "execution_count": 29,
   "metadata": {
    "collapsed": true,
    "slideshow": {
     "slide_type": "skip"
    }
   },
   "outputs": [],
   "source": [
    "q = list(treatmentoutpatient_nch_medpar_dict.items())\n",
    "\n",
    "treatmentvals = [q[p][1] for p in range(len(list(treatmentoutpatient_nch_medpar_dict.items())))]\n",
    "\n",
    "treatmentindex = [q[p][0] for p in range(len(list(treatmentoutpatient_nch_medpar_dict.items())))]\n",
    "\n",
    "q = list(controloutpatient_nch_medpar_dict.items())\n",
    "\n",
    "controlvals = [q[p][1] for p in range(len(list(controloutpatient_nch_medpar_dict.items())))]\n",
    "\n",
    "controlindex = [q[p][0] for p in range(len(list(controloutpatient_nch_medpar_dict.items())))]\n",
    "\n",
    "dfoutpatient_nch_medpar = pd.DataFrame({'control_vals': controlvals,\n",
    "                               'control_ids': controlindex,\n",
    "                               'treatment_vals': treatmentvals,\n",
    "                               'treatment_ids': treatmentindex})\n",
    "\n",
    "\n"
   ]
  },
  {
   "cell_type": "code",
   "execution_count": 57,
   "metadata": {
    "collapsed": false,
    "slideshow": {
     "slide_type": "slide"
    }
   },
   "outputs": [
    {
     "data": {
      "image/png": "[encoded data removed]",
      "text/plain": [
       "<matplotlib.figure.Figure at 0x9d4aa860>"
      ]
     },
     "metadata": {},
     "output_type": "display_data"
    }
   ],
   "source": [
    "ax = dfoutpatient_nch_medpar.control_vals.plot(kind='kde',label='IMRT',color='LightSteelBlue')\n",
    "dfoutpatient_nch_medpar.treatment_vals.plot(kind='kde',ax=ax,label='PBT',color='red')\n",
    "dfoutpatient_nch_medpar.control_vals.plot(kind='hist',bins=300,color='LightSteelBlue',alpha=.5,\n",
    "                                         normed=True,label='IMRT Group')\n",
    "dfoutpatient_nch_medpar.treatment_vals.plot(kind='hist',bins=300,color='red',alpha=.5,\n",
    "                                         normed=True,label='PBT Group')\n",
    "plt.legend()\n",
    "plt.title('KDE and histogram plots of total payments for care in each group\\n (Prostate cancer)')\n",
    "plt.ylabel('probability')\n",
    "plt.xlabel('$')\n",
    "plt.xlim(0,250000)\n",
    "plt.tight_layout()"
   ]
  },
  {
   "cell_type": "markdown",
   "metadata": {
    "slideshow": {
     "slide_type": "slide"
    }
   },
   "source": [
    "# <font color=\"#E56717\">Wilcoxon test for the significance of the observed difference in total payments betweent the IMRT and PBT groups</font>"
   ]
  },
  {
   "cell_type": "code",
   "execution_count": 31,
   "metadata": {
    "collapsed": false,
    "slideshow": {
     "slide_type": "slide"
    }
   },
   "outputs": [
    {
     "name": "stdout",
     "output_type": "stream",
     "text": [
      "121884.0 7.28719372104e-10\n"
     ]
    }
   ],
   "source": [
    "from scipy.stats import ranksums, wilcoxon\n",
    "\n",
    "t, p = wilcoxon(dfoutpatient_nch_medpar.control_vals.as_matrix(),\n",
    "               dfoutpatient_nch_medpar.treatment_vals.as_matrix())\n",
    "\n",
    "print(t,p)"
   ]
  },
  {
   "cell_type": "markdown",
   "metadata": {
    "slideshow": {
     "slide_type": "slide"
    }
   },
   "source": [
    "# <font color=\"#E56717\">Non-paired test of the significance</font>\n",
    "\n"
   ]
  },
  {
   "cell_type": "code",
   "execution_count": 32,
   "metadata": {
    "collapsed": false,
    "slideshow": {
     "slide_type": "slide"
    }
   },
   "outputs": [
    {
     "name": "stdout",
     "output_type": "stream",
     "text": [
      "-2.09727505335 0.0361248480388\n"
     ]
    }
   ],
   "source": [
    "from scipy.stats import ttest_ind\n",
    "\n",
    "t, p = ttest_ind(dfoutpatient_nch_medpar.control_vals.as_matrix(),\n",
    "               dfoutpatient_nch_medpar.treatment_vals.as_matrix())\n",
    "\n",
    "print(t,p)"
   ]
  },
  {
   "cell_type": "markdown",
   "metadata": {
    "slideshow": {
     "slide_type": "slide"
    }
   },
   "source": [
    "# <font color=\"#E56717\">Plot of the difference between pairs (PBT - IMRT)</font>"
   ]
  },
  {
   "cell_type": "code",
   "execution_count": 50,
   "metadata": {
    "collapsed": false,
    "slideshow": {
     "slide_type": "slide"
    }
   },
   "outputs": [
    {
     "data": {
      "text/plain": [
       "(-200000, 200000)"
      ]
     },
     "execution_count": 50,
     "metadata": {},
     "output_type": "execute_result"
    },
    {
     "data": {
      "image/png": "[encoded data removed]",
      "text/plain": [
       "<matplotlib.figure.Figure at 0x993d2c18>"
      ]
     },
     "metadata": {},
     "output_type": "display_data"
    }
   ],
   "source": [
    "dfoutpatient_nch_medpar['diff'] = dfoutpatient_nch_medpar.treatment_vals - dfoutpatient_nch_medpar.control_vals\n",
    "ax = dfoutpatient_nch_medpar['diff'].plot(kind='hist',bins=800,normed=True,label='normed hist')\n",
    "dfoutpatient_nch_medpar['diff'].plot(kind='kde',ax=ax, label='KDE')\n",
    "plt.legend()\n",
    "plt.title('Histogram and KDE of the matched pair difference: PBT - IMRT')\n",
    "plt.xlim(-200000,200000)"
   ]
  },
  {
   "cell_type": "code",
   "execution_count": 34,
   "metadata": {
    "collapsed": false,
    "slideshow": {
     "slide_type": "slide"
    }
   },
   "outputs": [
    {
     "name": "stdout",
     "output_type": "stream",
     "text": [
      "-2.21538661826 0.0270126809788\n"
     ]
    }
   ],
   "source": [
    "from scipy.stats import ttest_rel\n",
    "\n",
    "t, p = ttest_rel(dfoutpatient_nch_medpar.control_vals.as_matrix(),\n",
    "               dfoutpatient_nch_medpar.treatment_vals.as_matrix())\n",
    "\n",
    "print(t,p)"
   ]
  },
  {
   "cell_type": "code",
   "execution_count": 35,
   "metadata": {
    "collapsed": true,
    "slideshow": {
     "slide_type": "skip"
    }
   },
   "outputs": [],
   "source": [
    "from scipy.stats import bayes_mvs"
   ]
  },
  {
   "cell_type": "code",
   "execution_count": 36,
   "metadata": {
    "collapsed": false,
    "slideshow": {
     "slide_type": "slide"
    }
   },
   "outputs": [
    {
     "data": {
      "text/plain": [
       "(Mean(statistic=76911.177952853599, minmax=(71971.547005475077, 81850.808900232121)),\n",
       " Variance(statistic=7270256333.0923176, minmax=(6694076030.6137133, 7887537134.0864153)),\n",
       " Std_dev(statistic=85239.256268168465, minmax=(81817.333313997151, 88811.807402430655)))"
      ]
     },
     "execution_count": 36,
     "metadata": {},
     "output_type": "execute_result"
    }
   ],
   "source": [
    "bayes_mvs(dfoutpatient_nch_medpar['control_vals'].as_matrix())"
   ]
  },
  {
   "cell_type": "code",
   "execution_count": 37,
   "metadata": {
    "collapsed": false,
    "slideshow": {
     "slide_type": "slide"
    }
   },
   "outputs": [
    {
     "data": {
      "text/plain": [
       "(Mean(statistic=84337.197580645166, minmax=(81239.092202344022, 87435.302958946311)),\n",
       " Variance(statistic=2859914759.0741553, minmax=(2633261601.9569993, 3102735698.5808725)),\n",
       " Std_dev(statistic=53461.523968091322, minmax=(51315.315471669841, 55702.205509125772)))"
      ]
     },
     "execution_count": 37,
     "metadata": {},
     "output_type": "execute_result"
    }
   ],
   "source": [
    "bayes_mvs(dfoutpatient_nch_medpar['treatment_vals'].as_matrix())"
   ]
  },
  {
   "cell_type": "code",
   "execution_count": 38,
   "metadata": {
    "collapsed": true,
    "slideshow": {
     "slide_type": "skip"
    }
   },
   "outputs": [],
   "source": [
    "def CohenEffectSize(group1, group2):\n",
    "    import math\n",
    "    diff = group1.mean() - group2.mean()\n",
    "    \n",
    "    var1 = group1.var()\n",
    "    var2 = group2.var()\n",
    "    n1, n2 = len(group1), len(group2)\n",
    "    \n",
    "    pooled_var = (n1*var1 + n2*var2) / (n1 + n2)\n",
    "    d = diff / math.sqrt(pooled_var)\n",
    "    return d"
   ]
  },
  {
   "cell_type": "code",
   "execution_count": 39,
   "metadata": {
    "collapsed": false,
    "slideshow": {
     "slide_type": "slide"
    }
   },
   "outputs": [
    {
     "name": "stdout",
     "output_type": "stream",
     "text": [
      "0.10447271183005351\n"
     ]
    }
   ],
   "source": [
    "ef = CohenEffectSize(dfoutpatient_nch_medpar.treatment_vals,\n",
    "                     dfoutpatient_nch_medpar.control_vals)\n",
    "print(ef)"
   ]
  },
  {
   "cell_type": "code",
   "execution_count": 40,
   "metadata": {
    "collapsed": true,
    "slideshow": {
     "slide_type": "skip"
    }
   },
   "outputs": [],
   "source": [
    "from scipy import stats"
   ]
  },
  {
   "cell_type": "code",
   "execution_count": 41,
   "metadata": {
    "collapsed": true,
    "slideshow": {
     "slide_type": "slide"
    }
   },
   "outputs": [],
   "source": [
    "def get_means(seriesone, seriestwo,iters):\n",
    "    \"\"\"getting p-values for difference of means \n",
    "    test statistic.\"\"\"\n",
    "    realmean = seriesone.mean() - seriestwo.mean()\n",
    "    print(realmean)\n",
    "    pool = pd.concat([seriesone,seriestwo])\n",
    "    dftoshuffle = pd.DataFrame(pool)\n",
    "    deltameans = list()\n",
    "    for i in range(iters):\n",
    "        dffirsts = dftoshuffle.sample(seriesone.shape[0])\n",
    "        dfseconds = dftoshuffle.loc[list(set(dftoshuffle.index) - set(dffirsts.index))]\n",
    "        deltameans.append(abs(dffirsts.mean()[0] - dfseconds.mean()[0]))\n",
    "    meansseries = pd.Series(deltameans)\n",
    "    print((100.-stats.percentileofscore(meansseries, realmean))/100.)\n",
    "    return meansseries"
   ]
  },
  {
   "cell_type": "code",
   "execution_count": 42,
   "metadata": {
    "collapsed": false,
    "slideshow": {
     "slide_type": "slide"
    }
   },
   "outputs": [
    {
     "name": "stdout",
     "output_type": "stream",
     "text": [
      "7426.019627791509\n",
      "0.09891\n"
     ]
    }
   ],
   "source": [
    "meanseries = get_means(dfoutpatient_nch_medpar.treatment_vals,\n",
    "                      dfoutpatient_nch_medpar.control_vals,100000)"
   ]
  },
  {
   "cell_type": "code",
   "execution_count": 43,
   "metadata": {
    "collapsed": true,
    "slideshow": {
     "slide_type": "slide"
    }
   },
   "outputs": [],
   "source": [
    "def get_means_2(seriesone, seriestwo,iters):\n",
    "    \"\"\"getting p-values for difference of means \n",
    "    test statistic.\"\"\"\n",
    "    realmean = seriesone.mean() - seriestwo.mean()\n",
    "    print(realmean)\n",
    "    pool = pd.concat([seriesone,seriestwo])\n",
    "    dftoshuffle = pd.DataFrame(pool)\n",
    "    deltameans = list()\n",
    "    for i in range(iters):\n",
    "        dffirsts = dftoshuffle.sample(seriesone.shape[0])\n",
    "        dfseconds = dftoshuffle.loc[list(set(dftoshuffle.index) - set(dffirsts.index))]\n",
    "        deltameans.append(dffirsts.mean()[0] - dfseconds.mean()[0])\n",
    "    meansseries = pd.Series(deltameans)\n",
    "    print((100.-stats.percentileofscore(meansseries, realmean))/100.)\n",
    "    return meansseries"
   ]
  },
  {
   "cell_type": "code",
   "execution_count": 44,
   "metadata": {
    "collapsed": false,
    "slideshow": {
     "slide_type": "slide"
    }
   },
   "outputs": [
    {
     "name": "stdout",
     "output_type": "stream",
     "text": [
      "7426.019627791509\n",
      "0.037485\n"
     ]
    }
   ],
   "source": [
    "meanseries = get_means_2(dfoutpatient_nch_medpar.treatment_vals,\n",
    "                      dfoutpatient_nch_medpar.control_vals,200000)"
   ]
  },
  {
   "cell_type": "markdown",
   "metadata": {
    "collapsed": true,
    "slideshow": {
     "slide_type": "slide"
    }
   },
   "source": [
    "Compare that Cohen's d with that of the difference in height in centimers between men and women aged 20 or over in the USA.\n",
    "\n",
    "http://www.cdc.gov/nchs/data/nhsr/nhsr010.pdf"
   ]
  },
  {
   "cell_type": "code",
   "execution_count": 59,
   "metadata": {
    "collapsed": false
   },
   "outputs": [
    {
     "data": {
      "text/plain": [
       "0.2995464609406107"
      ]
     },
     "execution_count": 59,
     "metadata": {},
     "output_type": "execute_result"
    }
   ],
   "source": [
    "import math\n",
    "nf = 4857\n",
    "nm = 4482\n",
    "\n",
    "meanf = 162.2\n",
    "meanm = 176.3\n",
    "\n",
    "diff = meanm - meanf\n",
    "\n",
    "sef = 0.16\n",
    "sem = 0.17\n",
    "\n",
    "varf = nf*sef*sef\n",
    "varm = nm+sem*sem\n",
    "\n",
    "pooled_var = (nf*varf + nm*varm) / (nf + nm)\n",
    "d = diff / math.sqrt(pooled_var)\n",
    "d"
   ]
  },
  {
   "cell_type": "code",
   "execution_count": null,
   "metadata": {
    "collapsed": true
   },
   "outputs": [],
   "source": []
  }
 ],
 "metadata": {
  "celltoolbar": "Slideshow",
  "kernelspec": {
   "display_name": "Python 3",
   "language": "python",
   "name": "python3"
  },
  "language_info": {
   "codemirror_mode": {
    "name": "ipython",
    "version": 3
   },
   "file_extension": ".py",
   "mimetype": "text/x-python",
   "name": "python",
   "nbconvert_exporter": "python",
   "pygments_lexer": "ipython3",
   "version": "3.5.1"
  },
  "widgets": {
   "state": {},
   "version": "1.1.2"
  }
 },
 "nbformat": 4,
 "nbformat_minor": 0
}
