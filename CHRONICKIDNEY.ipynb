{
 "cells": [
  {
   "cell_type": "code",
   "execution_count": 34,
   "metadata": {
    "collapsed": true,
    "slideshow": {
     "slide_type": "skip"
    }
   },
   "outputs": [],
   "source": [
    "import numpy as np\n",
    "import pandas as pd\n",
    "import matplotlib.pyplot as plt\n",
    "from pandas import Series, DataFrame\n",
    "import pytz\n",
    "from pytz import common_timezones, all_timezones\n",
    "import matplotlib\n",
    "matplotlib.style.use('ggplot')\n",
    "%matplotlib inline\n",
    "from datetime import datetime\n",
    "import scipy as sp\n",
    "import statsmodels.api as sm\n",
    "import statsmodels.formula.api as smf\n",
    "matplotlib.style.use('fivethirtyeight')\n",
    "matplotlib.style.use('seaborn-talk')\n",
    "import os\n",
    "import collections"
   ]
  },
  {
   "cell_type": "code",
   "execution_count": 35,
   "metadata": {
    "collapsed": false,
    "slideshow": {
     "slide_type": "skip"
    }
   },
   "outputs": [
    {
     "name": "stdout",
     "output_type": "stream",
     "text": [
      "\\\\iobsdc01\\SharedDocs\\SEER_MEDICARE\\SEER_MEDICARE_STAGING\n"
     ]
    }
   ],
   "source": [
    "preDouble = \"\\\\\\\\iobsdc01\\\\SharedDocs\\\\SEER_MEDICARE\\\\SEER_MEDICARE_STAGING\"\n",
    "new = os.chdir(preDouble)\n",
    "print(preDouble)"
   ]
  },
  {
   "cell_type": "code",
   "execution_count": 36,
   "metadata": {
    "collapsed": true,
    "slideshow": {
     "slide_type": "skip"
    }
   },
   "outputs": [],
   "source": [
    "import pickle\n",
    "fileObject = open('pure_control_indicies.pickle', 'rb')\n",
    "b = pickle.load(fileObject)\n",
    "fileObject.close()\n",
    "controlindices = list(b)"
   ]
  },
  {
   "cell_type": "code",
   "execution_count": 37,
   "metadata": {
    "collapsed": true,
    "slideshow": {
     "slide_type": "skip"
    }
   },
   "outputs": [],
   "source": [
    "import pickle\n",
    "fileObject = open('pure_treatment_indicies.pickle', 'rb')\n",
    "b = pickle.load(fileObject)\n",
    "fileObject.close()\n",
    "treatmentindices = list(b)"
   ]
  },
  {
   "cell_type": "code",
   "execution_count": 38,
   "metadata": {
    "collapsed": true,
    "slideshow": {
     "slide_type": "skip"
    }
   },
   "outputs": [],
   "source": [
    "dg = pd.read_pickle('goodindices_medpar.pickle')"
   ]
  },
  {
   "cell_type": "code",
   "execution_count": 39,
   "metadata": {
    "collapsed": true,
    "slideshow": {
     "slide_type": "skip"
    }
   },
   "outputs": [],
   "source": [
    "dg.set_index('patient_id',inplace=True,drop=False)"
   ]
  },
  {
   "cell_type": "code",
   "execution_count": 40,
   "metadata": {
    "collapsed": true,
    "slideshow": {
     "slide_type": "skip"
    }
   },
   "outputs": [],
   "source": [
    "def make_icd9sg_dataframe():\n",
    "    \"\"\"Make a dataframe that includes the icd9sg descriptins.\"\"\"\n",
    "    \n",
    "    dficd9sg = pd.read_excel('CMS32_DESC_LONG_SHORT_SG.xlsx',\n",
    "                        convert_float=False,\n",
    "                        converters = {'PROCEDURE CODE': str})\n",
    "    dficd9sg = dficd9sg.rename(columns={'PROCEDURE CODE': 'code',\n",
    "                        'LONG DESCRIPTION': 'long_description',\n",
    "                        'SHORT DESCRIPTION': 'short_description'})\n",
    "\n",
    "    return dficd9sg"
   ]
  },
  {
   "cell_type": "code",
   "execution_count": 41,
   "metadata": {
    "collapsed": true,
    "slideshow": {
     "slide_type": "skip"
    }
   },
   "outputs": [],
   "source": [
    "def make_icd9dx_dataframe():\n",
    "    \"\"\"Make a dataframe that includes the icd9dx descriptions.\"\"\"\n",
    "    \n",
    "    dficd9dx = pd.read_excel('CMS32_DESC_LONG_SHORT_DX.xlsx',\n",
    "                        convert_float=False,\n",
    "                        converters = {'PROCEDURE CODE': str})\n",
    "    dficd9dx = dficd9dx.rename(columns={'DIAGNOSIS CODE': 'code',\n",
    "                                    'LONG DESCRIPTION': 'long_description',\n",
    "                        'SHORT DESCRIPTION': 'short_description'})\n",
    "\n",
    "    return dficd9dx"
   ]
  },
  {
   "cell_type": "code",
   "execution_count": 42,
   "metadata": {
    "collapsed": true,
    "slideshow": {
     "slide_type": "skip"
    }
   },
   "outputs": [],
   "source": [
    "\n",
    "dficd9dx = make_icd9dx_dataframe()"
   ]
  },
  {
   "cell_type": "code",
   "execution_count": 43,
   "metadata": {
    "collapsed": false,
    "slideshow": {
     "slide_type": "skip"
    }
   },
   "outputs": [
    {
     "data": {
      "text/html": [
       "<div>\n",
       "<table border=\"1\" class=\"dataframe\">\n",
       "  <thead>\n",
       "    <tr style=\"text-align: right;\">\n",
       "      <th></th>\n",
       "      <th>code</th>\n",
       "      <th>long_description</th>\n",
       "      <th>short_description</th>\n",
       "    </tr>\n",
       "    <tr>\n",
       "      <th>code</th>\n",
       "      <th></th>\n",
       "      <th></th>\n",
       "      <th></th>\n",
       "    </tr>\n",
       "  </thead>\n",
       "  <tbody>\n",
       "    <tr>\n",
       "      <th>0010</th>\n",
       "      <td>0010</td>\n",
       "      <td>Cholera due to vibrio cholerae</td>\n",
       "      <td>Cholera d/t vib cholerae</td>\n",
       "    </tr>\n",
       "    <tr>\n",
       "      <th>0011</th>\n",
       "      <td>0011</td>\n",
       "      <td>Cholera due to vibrio cholerae el tor</td>\n",
       "      <td>Cholera d/t vib el tor</td>\n",
       "    </tr>\n",
       "    <tr>\n",
       "      <th>0019</th>\n",
       "      <td>0019</td>\n",
       "      <td>Cholera, unspecified</td>\n",
       "      <td>Cholera NOS</td>\n",
       "    </tr>\n",
       "    <tr>\n",
       "      <th>0020</th>\n",
       "      <td>0020</td>\n",
       "      <td>Typhoid fever</td>\n",
       "      <td>Typhoid fever</td>\n",
       "    </tr>\n",
       "    <tr>\n",
       "      <th>0021</th>\n",
       "      <td>0021</td>\n",
       "      <td>Paratyphoid fever A</td>\n",
       "      <td>Paratyphoid fever a</td>\n",
       "    </tr>\n",
       "    <tr>\n",
       "      <th>0022</th>\n",
       "      <td>0022</td>\n",
       "      <td>Paratyphoid fever B</td>\n",
       "      <td>Paratyphoid fever b</td>\n",
       "    </tr>\n",
       "    <tr>\n",
       "      <th>0023</th>\n",
       "      <td>0023</td>\n",
       "      <td>Paratyphoid fever C</td>\n",
       "      <td>Paratyphoid fever c</td>\n",
       "    </tr>\n",
       "    <tr>\n",
       "      <th>0029</th>\n",
       "      <td>0029</td>\n",
       "      <td>Paratyphoid fever, unspecified</td>\n",
       "      <td>Paratyphoid fever NOS</td>\n",
       "    </tr>\n",
       "    <tr>\n",
       "      <th>0030</th>\n",
       "      <td>0030</td>\n",
       "      <td>Salmonella gastroenteritis</td>\n",
       "      <td>Salmonella enteritis</td>\n",
       "    </tr>\n",
       "    <tr>\n",
       "      <th>0031</th>\n",
       "      <td>0031</td>\n",
       "      <td>Salmonella septicemia</td>\n",
       "      <td>Salmonella septicemia</td>\n",
       "    </tr>\n",
       "    <tr>\n",
       "      <th>00320</th>\n",
       "      <td>00320</td>\n",
       "      <td>Localized salmonella infection, unspecified</td>\n",
       "      <td>Local salmonella inf NOS</td>\n",
       "    </tr>\n",
       "    <tr>\n",
       "      <th>00321</th>\n",
       "      <td>00321</td>\n",
       "      <td>Salmonella meningitis</td>\n",
       "      <td>Salmonella meningitis</td>\n",
       "    </tr>\n",
       "    <tr>\n",
       "      <th>00322</th>\n",
       "      <td>00322</td>\n",
       "      <td>Salmonella pneumonia</td>\n",
       "      <td>Salmonella pneumonia</td>\n",
       "    </tr>\n",
       "    <tr>\n",
       "      <th>00323</th>\n",
       "      <td>00323</td>\n",
       "      <td>Salmonella arthritis</td>\n",
       "      <td>Salmonella arthritis</td>\n",
       "    </tr>\n",
       "    <tr>\n",
       "      <th>00324</th>\n",
       "      <td>00324</td>\n",
       "      <td>Salmonella osteomyelitis</td>\n",
       "      <td>Salmonella osteomyelitis</td>\n",
       "    </tr>\n",
       "    <tr>\n",
       "      <th>00329</th>\n",
       "      <td>00329</td>\n",
       "      <td>Other localized salmonella infections</td>\n",
       "      <td>Local salmonella inf NEC</td>\n",
       "    </tr>\n",
       "    <tr>\n",
       "      <th>0038</th>\n",
       "      <td>0038</td>\n",
       "      <td>Other specified salmonella infections</td>\n",
       "      <td>Salmonella infection NEC</td>\n",
       "    </tr>\n",
       "    <tr>\n",
       "      <th>0039</th>\n",
       "      <td>0039</td>\n",
       "      <td>Salmonella infection, unspecified</td>\n",
       "      <td>Salmonella infection NOS</td>\n",
       "    </tr>\n",
       "    <tr>\n",
       "      <th>0040</th>\n",
       "      <td>0040</td>\n",
       "      <td>Shigella dysenteriae</td>\n",
       "      <td>Shigella dysenteriae</td>\n",
       "    </tr>\n",
       "    <tr>\n",
       "      <th>0041</th>\n",
       "      <td>0041</td>\n",
       "      <td>Shigella flexneri</td>\n",
       "      <td>Shigella flexneri</td>\n",
       "    </tr>\n",
       "    <tr>\n",
       "      <th>0042</th>\n",
       "      <td>0042</td>\n",
       "      <td>Shigella boydii</td>\n",
       "      <td>Shigella boydii</td>\n",
       "    </tr>\n",
       "    <tr>\n",
       "      <th>0043</th>\n",
       "      <td>0043</td>\n",
       "      <td>Shigella sonnei</td>\n",
       "      <td>Shigella sonnei</td>\n",
       "    </tr>\n",
       "    <tr>\n",
       "      <th>0048</th>\n",
       "      <td>0048</td>\n",
       "      <td>Other specified shigella infections</td>\n",
       "      <td>Shigella infection NEC</td>\n",
       "    </tr>\n",
       "    <tr>\n",
       "      <th>0049</th>\n",
       "      <td>0049</td>\n",
       "      <td>Shigellosis, unspecified</td>\n",
       "      <td>Shigellosis NOS</td>\n",
       "    </tr>\n",
       "    <tr>\n",
       "      <th>0050</th>\n",
       "      <td>0050</td>\n",
       "      <td>Staphylococcal food poisoning</td>\n",
       "      <td>Staph food poisoning</td>\n",
       "    </tr>\n",
       "    <tr>\n",
       "      <th>0051</th>\n",
       "      <td>0051</td>\n",
       "      <td>Botulism food poisoning</td>\n",
       "      <td>Botulism food poisoning</td>\n",
       "    </tr>\n",
       "    <tr>\n",
       "      <th>0052</th>\n",
       "      <td>0052</td>\n",
       "      <td>Food poisoning due to Clostridium perfringens ...</td>\n",
       "      <td>Food pois d/t c. perfrin</td>\n",
       "    </tr>\n",
       "    <tr>\n",
       "      <th>0053</th>\n",
       "      <td>0053</td>\n",
       "      <td>Food poisoning due to other Clostridia</td>\n",
       "      <td>Food pois: clostrid NEC</td>\n",
       "    </tr>\n",
       "    <tr>\n",
       "      <th>0054</th>\n",
       "      <td>0054</td>\n",
       "      <td>Food poisoning due to Vibrio parahaemolyticus</td>\n",
       "      <td>Food pois: v. parahaem</td>\n",
       "    </tr>\n",
       "    <tr>\n",
       "      <th>00581</th>\n",
       "      <td>00581</td>\n",
       "      <td>Food poisoning due to Vibrio vulnificus</td>\n",
       "      <td>Food poisn d/t v. vulnif</td>\n",
       "    </tr>\n",
       "    <tr>\n",
       "      <th>...</th>\n",
       "      <td>...</td>\n",
       "      <td>...</td>\n",
       "      <td>...</td>\n",
       "    </tr>\n",
       "    <tr>\n",
       "      <th>V9009</th>\n",
       "      <td>V9009</td>\n",
       "      <td>Other retained radioactive fragments</td>\n",
       "      <td>Retain radioac frag NEC</td>\n",
       "    </tr>\n",
       "    <tr>\n",
       "      <th>V9010</th>\n",
       "      <td>V9010</td>\n",
       "      <td>Retained metal fragments, unspecified</td>\n",
       "      <td>Retained metal frag NOS</td>\n",
       "    </tr>\n",
       "    <tr>\n",
       "      <th>V9011</th>\n",
       "      <td>V9011</td>\n",
       "      <td>Retained magnetic metal fragments</td>\n",
       "      <td>Retain magnet metal frag</td>\n",
       "    </tr>\n",
       "    <tr>\n",
       "      <th>V9012</th>\n",
       "      <td>V9012</td>\n",
       "      <td>Retained nonmagnetic metal fragments</td>\n",
       "      <td>Retain nonmag meta frag</td>\n",
       "    </tr>\n",
       "    <tr>\n",
       "      <th>V902</th>\n",
       "      <td>V902</td>\n",
       "      <td>Retained plastic fragments</td>\n",
       "      <td>Retain plastic fragments</td>\n",
       "    </tr>\n",
       "    <tr>\n",
       "      <th>V9031</th>\n",
       "      <td>V9031</td>\n",
       "      <td>Retained animal quills or spines</td>\n",
       "      <td>Retained quills/spines</td>\n",
       "    </tr>\n",
       "    <tr>\n",
       "      <th>V9032</th>\n",
       "      <td>V9032</td>\n",
       "      <td>Retained tooth</td>\n",
       "      <td>Retained tooth</td>\n",
       "    </tr>\n",
       "    <tr>\n",
       "      <th>V9033</th>\n",
       "      <td>V9033</td>\n",
       "      <td>Retained wood fragments</td>\n",
       "      <td>Retained wood fragments</td>\n",
       "    </tr>\n",
       "    <tr>\n",
       "      <th>V9039</th>\n",
       "      <td>V9039</td>\n",
       "      <td>Other retained organic fragments</td>\n",
       "      <td>Retain organic frag NEC</td>\n",
       "    </tr>\n",
       "    <tr>\n",
       "      <th>V9081</th>\n",
       "      <td>V9081</td>\n",
       "      <td>Retained glass fragments</td>\n",
       "      <td>Retained glass fragments</td>\n",
       "    </tr>\n",
       "    <tr>\n",
       "      <th>V9083</th>\n",
       "      <td>V9083</td>\n",
       "      <td>Retained stone or crystalline fragments</td>\n",
       "      <td>Retain stone/crystl frag</td>\n",
       "    </tr>\n",
       "    <tr>\n",
       "      <th>V9089</th>\n",
       "      <td>V9089</td>\n",
       "      <td>Other specified retained foreign body</td>\n",
       "      <td>Retain FB NEC</td>\n",
       "    </tr>\n",
       "    <tr>\n",
       "      <th>V909</th>\n",
       "      <td>V909</td>\n",
       "      <td>Retained foreign body, unspecified material</td>\n",
       "      <td>Retain FB, mat NOS</td>\n",
       "    </tr>\n",
       "    <tr>\n",
       "      <th>V9100</th>\n",
       "      <td>V9100</td>\n",
       "      <td>Twin gestation, unspecified number of placenta...</td>\n",
       "      <td>Twin gest-plac/sac NOS</td>\n",
       "    </tr>\n",
       "    <tr>\n",
       "      <th>V9101</th>\n",
       "      <td>V9101</td>\n",
       "      <td>Twin gestation, monochorionic/monoamniotic (on...</td>\n",
       "      <td>Twin gest-monochr/monoam</td>\n",
       "    </tr>\n",
       "    <tr>\n",
       "      <th>V9102</th>\n",
       "      <td>V9102</td>\n",
       "      <td>Twin gestation, monochorionic/diamniotic (one ...</td>\n",
       "      <td>Twin gest-monochr/diamni</td>\n",
       "    </tr>\n",
       "    <tr>\n",
       "      <th>V9103</th>\n",
       "      <td>V9103</td>\n",
       "      <td>Twin gestation, dichorionic/diamniotic (two pl...</td>\n",
       "      <td>Twin gest-dich/diamniotc</td>\n",
       "    </tr>\n",
       "    <tr>\n",
       "      <th>V9109</th>\n",
       "      <td>V9109</td>\n",
       "      <td>Twin gestation, unable to determine number of ...</td>\n",
       "      <td>Twin gest-plac/sac undet</td>\n",
       "    </tr>\n",
       "    <tr>\n",
       "      <th>V9110</th>\n",
       "      <td>V9110</td>\n",
       "      <td>Triplet gestation, unspecified number of place...</td>\n",
       "      <td>Tripl gest-plac/sac NOS</td>\n",
       "    </tr>\n",
       "    <tr>\n",
       "      <th>V9111</th>\n",
       "      <td>V9111</td>\n",
       "      <td>Triplet gestation, with two or more monochorio...</td>\n",
       "      <td>Triplet gest 2+ monochor</td>\n",
       "    </tr>\n",
       "    <tr>\n",
       "      <th>V9112</th>\n",
       "      <td>V9112</td>\n",
       "      <td>Triplet gestation, with two or more monoamniot...</td>\n",
       "      <td>Triplet gest 2+ monoamn</td>\n",
       "    </tr>\n",
       "    <tr>\n",
       "      <th>V9119</th>\n",
       "      <td>V9119</td>\n",
       "      <td>Triplet gestation, unable to determine number ...</td>\n",
       "      <td>Tripl gest-plac/sac und</td>\n",
       "    </tr>\n",
       "    <tr>\n",
       "      <th>V9120</th>\n",
       "      <td>V9120</td>\n",
       "      <td>Quadruplet gestation, unspecified number of pl...</td>\n",
       "      <td>Quad gest-plac/sac NOS</td>\n",
       "    </tr>\n",
       "    <tr>\n",
       "      <th>V9121</th>\n",
       "      <td>V9121</td>\n",
       "      <td>Quadruplet gestation, with two or more monocho...</td>\n",
       "      <td>Quad gest 2+ monochorion</td>\n",
       "    </tr>\n",
       "    <tr>\n",
       "      <th>V9122</th>\n",
       "      <td>V9122</td>\n",
       "      <td>Quadruplet gestation, with two or more monoamn...</td>\n",
       "      <td>Quad gest 2+ monoamniotc</td>\n",
       "    </tr>\n",
       "    <tr>\n",
       "      <th>V9129</th>\n",
       "      <td>V9129</td>\n",
       "      <td>Quadruplet gestation, unable to determine numb...</td>\n",
       "      <td>Quad gest-plac/sac undet</td>\n",
       "    </tr>\n",
       "    <tr>\n",
       "      <th>V9190</th>\n",
       "      <td>V9190</td>\n",
       "      <td>Other specified multiple gestation, unspecifie...</td>\n",
       "      <td>Mult gest-plac/sac NOS</td>\n",
       "    </tr>\n",
       "    <tr>\n",
       "      <th>V9191</th>\n",
       "      <td>V9191</td>\n",
       "      <td>Other specified multiple gestation, with two o...</td>\n",
       "      <td>Mult gest 2+ monochr NEC</td>\n",
       "    </tr>\n",
       "    <tr>\n",
       "      <th>V9192</th>\n",
       "      <td>V9192</td>\n",
       "      <td>Other specified multiple gestation, with two o...</td>\n",
       "      <td>Mult gest 2+ monoamn NEC</td>\n",
       "    </tr>\n",
       "    <tr>\n",
       "      <th>V9199</th>\n",
       "      <td>V9199</td>\n",
       "      <td>Other specified multiple gestation, unable to ...</td>\n",
       "      <td>Mult gest-plac/sac undet</td>\n",
       "    </tr>\n",
       "  </tbody>\n",
       "</table>\n",
       "<p>14567 rows × 3 columns</p>\n",
       "</div>"
      ],
      "text/plain": [
       "        code                                   long_description  \\\n",
       "code                                                              \n",
       "0010    0010                     Cholera due to vibrio cholerae   \n",
       "0011    0011              Cholera due to vibrio cholerae el tor   \n",
       "0019    0019                               Cholera, unspecified   \n",
       "0020    0020                                      Typhoid fever   \n",
       "0021    0021                                Paratyphoid fever A   \n",
       "0022    0022                                Paratyphoid fever B   \n",
       "0023    0023                                Paratyphoid fever C   \n",
       "0029    0029                     Paratyphoid fever, unspecified   \n",
       "0030    0030                         Salmonella gastroenteritis   \n",
       "0031    0031                              Salmonella septicemia   \n",
       "00320  00320        Localized salmonella infection, unspecified   \n",
       "00321  00321                              Salmonella meningitis   \n",
       "00322  00322                               Salmonella pneumonia   \n",
       "00323  00323                               Salmonella arthritis   \n",
       "00324  00324                           Salmonella osteomyelitis   \n",
       "00329  00329              Other localized salmonella infections   \n",
       "0038    0038              Other specified salmonella infections   \n",
       "0039    0039                  Salmonella infection, unspecified   \n",
       "0040    0040                               Shigella dysenteriae   \n",
       "0041    0041                                  Shigella flexneri   \n",
       "0042    0042                                    Shigella boydii   \n",
       "0043    0043                                    Shigella sonnei   \n",
       "0048    0048                Other specified shigella infections   \n",
       "0049    0049                           Shigellosis, unspecified   \n",
       "0050    0050                      Staphylococcal food poisoning   \n",
       "0051    0051                            Botulism food poisoning   \n",
       "0052    0052  Food poisoning due to Clostridium perfringens ...   \n",
       "0053    0053             Food poisoning due to other Clostridia   \n",
       "0054    0054      Food poisoning due to Vibrio parahaemolyticus   \n",
       "00581  00581            Food poisoning due to Vibrio vulnificus   \n",
       "...      ...                                                ...   \n",
       "V9009  V9009               Other retained radioactive fragments   \n",
       "V9010  V9010              Retained metal fragments, unspecified   \n",
       "V9011  V9011                  Retained magnetic metal fragments   \n",
       "V9012  V9012               Retained nonmagnetic metal fragments   \n",
       "V902    V902                         Retained plastic fragments   \n",
       "V9031  V9031                   Retained animal quills or spines   \n",
       "V9032  V9032                                     Retained tooth   \n",
       "V9033  V9033                            Retained wood fragments   \n",
       "V9039  V9039                   Other retained organic fragments   \n",
       "V9081  V9081                           Retained glass fragments   \n",
       "V9083  V9083            Retained stone or crystalline fragments   \n",
       "V9089  V9089              Other specified retained foreign body   \n",
       "V909    V909        Retained foreign body, unspecified material   \n",
       "V9100  V9100  Twin gestation, unspecified number of placenta...   \n",
       "V9101  V9101  Twin gestation, monochorionic/monoamniotic (on...   \n",
       "V9102  V9102  Twin gestation, monochorionic/diamniotic (one ...   \n",
       "V9103  V9103  Twin gestation, dichorionic/diamniotic (two pl...   \n",
       "V9109  V9109  Twin gestation, unable to determine number of ...   \n",
       "V9110  V9110  Triplet gestation, unspecified number of place...   \n",
       "V9111  V9111  Triplet gestation, with two or more monochorio...   \n",
       "V9112  V9112  Triplet gestation, with two or more monoamniot...   \n",
       "V9119  V9119  Triplet gestation, unable to determine number ...   \n",
       "V9120  V9120  Quadruplet gestation, unspecified number of pl...   \n",
       "V9121  V9121  Quadruplet gestation, with two or more monocho...   \n",
       "V9122  V9122  Quadruplet gestation, with two or more monoamn...   \n",
       "V9129  V9129  Quadruplet gestation, unable to determine numb...   \n",
       "V9190  V9190  Other specified multiple gestation, unspecifie...   \n",
       "V9191  V9191  Other specified multiple gestation, with two o...   \n",
       "V9192  V9192  Other specified multiple gestation, with two o...   \n",
       "V9199  V9199  Other specified multiple gestation, unable to ...   \n",
       "\n",
       "              short_description  \n",
       "code                             \n",
       "0010   Cholera d/t vib cholerae  \n",
       "0011     Cholera d/t vib el tor  \n",
       "0019                Cholera NOS  \n",
       "0020              Typhoid fever  \n",
       "0021        Paratyphoid fever a  \n",
       "0022        Paratyphoid fever b  \n",
       "0023        Paratyphoid fever c  \n",
       "0029      Paratyphoid fever NOS  \n",
       "0030       Salmonella enteritis  \n",
       "0031      Salmonella septicemia  \n",
       "00320  Local salmonella inf NOS  \n",
       "00321     Salmonella meningitis  \n",
       "00322      Salmonella pneumonia  \n",
       "00323      Salmonella arthritis  \n",
       "00324  Salmonella osteomyelitis  \n",
       "00329  Local salmonella inf NEC  \n",
       "0038   Salmonella infection NEC  \n",
       "0039   Salmonella infection NOS  \n",
       "0040       Shigella dysenteriae  \n",
       "0041          Shigella flexneri  \n",
       "0042            Shigella boydii  \n",
       "0043            Shigella sonnei  \n",
       "0048     Shigella infection NEC  \n",
       "0049            Shigellosis NOS  \n",
       "0050       Staph food poisoning  \n",
       "0051    Botulism food poisoning  \n",
       "0052   Food pois d/t c. perfrin  \n",
       "0053    Food pois: clostrid NEC  \n",
       "0054     Food pois: v. parahaem  \n",
       "00581  Food poisn d/t v. vulnif  \n",
       "...                         ...  \n",
       "V9009   Retain radioac frag NEC  \n",
       "V9010   Retained metal frag NOS  \n",
       "V9011  Retain magnet metal frag  \n",
       "V9012   Retain nonmag meta frag  \n",
       "V902   Retain plastic fragments  \n",
       "V9031    Retained quills/spines  \n",
       "V9032            Retained tooth  \n",
       "V9033   Retained wood fragments  \n",
       "V9039   Retain organic frag NEC  \n",
       "V9081  Retained glass fragments  \n",
       "V9083  Retain stone/crystl frag  \n",
       "V9089             Retain FB NEC  \n",
       "V909         Retain FB, mat NOS  \n",
       "V9100    Twin gest-plac/sac NOS  \n",
       "V9101  Twin gest-monochr/monoam  \n",
       "V9102  Twin gest-monochr/diamni  \n",
       "V9103  Twin gest-dich/diamniotc  \n",
       "V9109  Twin gest-plac/sac undet  \n",
       "V9110   Tripl gest-plac/sac NOS  \n",
       "V9111  Triplet gest 2+ monochor  \n",
       "V9112   Triplet gest 2+ monoamn  \n",
       "V9119   Tripl gest-plac/sac und  \n",
       "V9120    Quad gest-plac/sac NOS  \n",
       "V9121  Quad gest 2+ monochorion  \n",
       "V9122  Quad gest 2+ monoamniotc  \n",
       "V9129  Quad gest-plac/sac undet  \n",
       "V9190    Mult gest-plac/sac NOS  \n",
       "V9191  Mult gest 2+ monochr NEC  \n",
       "V9192  Mult gest 2+ monoamn NEC  \n",
       "V9199  Mult gest-plac/sac undet  \n",
       "\n",
       "[14567 rows x 3 columns]"
      ]
     },
     "execution_count": 43,
     "metadata": {},
     "output_type": "execute_result"
    }
   ],
   "source": [
    "dfcodes = dficd9dx.copy()\n",
    "dfcodes = dfcodes.set_index('code',drop=False)\n",
    "dfcodes"
   ]
  },
  {
   "cell_type": "code",
   "execution_count": 44,
   "metadata": {
    "collapsed": true,
    "slideshow": {
     "slide_type": "skip"
    }
   },
   "outputs": [],
   "source": [
    "code_dict = dfcodes.long_description.to_dict()\n",
    "#code_dict"
   ]
  },
  {
   "cell_type": "code",
   "execution_count": 45,
   "metadata": {
    "collapsed": true,
    "slideshow": {
     "slide_type": "skip"
    }
   },
   "outputs": [],
   "source": [
    "dficd9sg = make_icd9sg_dataframe()\n"
   ]
  },
  {
   "cell_type": "code",
   "execution_count": 46,
   "metadata": {
    "collapsed": false,
    "slideshow": {
     "slide_type": "skip"
    }
   },
   "outputs": [
    {
     "data": {
      "text/html": [
       "<div>\n",
       "<table border=\"1\" class=\"dataframe\">\n",
       "  <thead>\n",
       "    <tr style=\"text-align: right;\">\n",
       "      <th></th>\n",
       "      <th>code</th>\n",
       "      <th>long_description</th>\n",
       "      <th>short_description</th>\n",
       "    </tr>\n",
       "    <tr>\n",
       "      <th>code</th>\n",
       "      <th></th>\n",
       "      <th></th>\n",
       "      <th></th>\n",
       "    </tr>\n",
       "  </thead>\n",
       "  <tbody>\n",
       "    <tr>\n",
       "      <th>0001</th>\n",
       "      <td>0001</td>\n",
       "      <td>Therapeutic ultrasound of vessels of head and ...</td>\n",
       "      <td>Ther ult head &amp; neck ves</td>\n",
       "    </tr>\n",
       "    <tr>\n",
       "      <th>0002</th>\n",
       "      <td>0002</td>\n",
       "      <td>Therapeutic ultrasound of heart</td>\n",
       "      <td>Ther ultrasound of heart</td>\n",
       "    </tr>\n",
       "    <tr>\n",
       "      <th>0003</th>\n",
       "      <td>0003</td>\n",
       "      <td>Therapeutic ultrasound of peripheral vascular ...</td>\n",
       "      <td>Ther ult peripheral ves</td>\n",
       "    </tr>\n",
       "    <tr>\n",
       "      <th>0009</th>\n",
       "      <td>0009</td>\n",
       "      <td>Other therapeutic ultrasound</td>\n",
       "      <td>Other therapeutic ultsnd</td>\n",
       "    </tr>\n",
       "    <tr>\n",
       "      <th>0010</th>\n",
       "      <td>0010</td>\n",
       "      <td>Implantation of chemotherapeutic agent</td>\n",
       "      <td>Implant chemothera agent</td>\n",
       "    </tr>\n",
       "    <tr>\n",
       "      <th>0011</th>\n",
       "      <td>0011</td>\n",
       "      <td>Infusion of drotrecogin alfa (activated)</td>\n",
       "      <td>Infus drotrecogin alfa</td>\n",
       "    </tr>\n",
       "    <tr>\n",
       "      <th>0012</th>\n",
       "      <td>0012</td>\n",
       "      <td>Administration of inhaled nitric oxide</td>\n",
       "      <td>Adm inhal nitric oxide</td>\n",
       "    </tr>\n",
       "    <tr>\n",
       "      <th>0013</th>\n",
       "      <td>0013</td>\n",
       "      <td>Injection or infusion of nesiritide</td>\n",
       "      <td>Inject/infus nesiritide</td>\n",
       "    </tr>\n",
       "    <tr>\n",
       "      <th>0014</th>\n",
       "      <td>0014</td>\n",
       "      <td>Injection or infusion of oxazolidinone class o...</td>\n",
       "      <td>Injection oxazolidinone</td>\n",
       "    </tr>\n",
       "    <tr>\n",
       "      <th>0015</th>\n",
       "      <td>0015</td>\n",
       "      <td>High-dose infusion interleukin-2 [IL-2]</td>\n",
       "      <td>High-dose infusion IL-2</td>\n",
       "    </tr>\n",
       "    <tr>\n",
       "      <th>0016</th>\n",
       "      <td>0016</td>\n",
       "      <td>Pressurized treatment of venous bypass graft [...</td>\n",
       "      <td>Pressurized treat graft</td>\n",
       "    </tr>\n",
       "    <tr>\n",
       "      <th>0017</th>\n",
       "      <td>0017</td>\n",
       "      <td>Infusion of vasopressor agent</td>\n",
       "      <td>Infusion of vasopressor</td>\n",
       "    </tr>\n",
       "    <tr>\n",
       "      <th>0018</th>\n",
       "      <td>0018</td>\n",
       "      <td>Infusion of immunosuppressive antibody therapy</td>\n",
       "      <td>Infus immunosup antibody</td>\n",
       "    </tr>\n",
       "    <tr>\n",
       "      <th>0019</th>\n",
       "      <td>0019</td>\n",
       "      <td>Disruption of blood brain barrier via infusion...</td>\n",
       "      <td>BBBD via infusion</td>\n",
       "    </tr>\n",
       "    <tr>\n",
       "      <th>0021</th>\n",
       "      <td>0021</td>\n",
       "      <td>Intravascular imaging of extracranial cerebral...</td>\n",
       "      <td>IVUS extracran cereb ves</td>\n",
       "    </tr>\n",
       "    <tr>\n",
       "      <th>0022</th>\n",
       "      <td>0022</td>\n",
       "      <td>Intravascular imaging of intrathoracic vessels</td>\n",
       "      <td>IVUS intrathoracic ves</td>\n",
       "    </tr>\n",
       "    <tr>\n",
       "      <th>0023</th>\n",
       "      <td>0023</td>\n",
       "      <td>Intravascular imaging of peripheral vessels</td>\n",
       "      <td>IVUS peripheral vessels</td>\n",
       "    </tr>\n",
       "    <tr>\n",
       "      <th>0024</th>\n",
       "      <td>0024</td>\n",
       "      <td>Intravascular imaging of coronary vessels</td>\n",
       "      <td>IVUS coronary vessels</td>\n",
       "    </tr>\n",
       "    <tr>\n",
       "      <th>0025</th>\n",
       "      <td>0025</td>\n",
       "      <td>Intravascular imaging of renal vessels</td>\n",
       "      <td>IVUS renal vessels</td>\n",
       "    </tr>\n",
       "    <tr>\n",
       "      <th>0028</th>\n",
       "      <td>0028</td>\n",
       "      <td>Intravascular imaging, other specified vessel(s)</td>\n",
       "      <td>Intravascul imaging NEC</td>\n",
       "    </tr>\n",
       "    <tr>\n",
       "      <th>0029</th>\n",
       "      <td>0029</td>\n",
       "      <td>Intravascular imaging, unspecified vessel(s)</td>\n",
       "      <td>Intravascul imaging NOS</td>\n",
       "    </tr>\n",
       "    <tr>\n",
       "      <th>0031</th>\n",
       "      <td>0031</td>\n",
       "      <td>Computer assisted surgery with CT/CTA</td>\n",
       "      <td>CAS w CT/CTA</td>\n",
       "    </tr>\n",
       "    <tr>\n",
       "      <th>0032</th>\n",
       "      <td>0032</td>\n",
       "      <td>Computer assisted surgery with MR/MRA</td>\n",
       "      <td>CAS w MR/MRA</td>\n",
       "    </tr>\n",
       "    <tr>\n",
       "      <th>0033</th>\n",
       "      <td>0033</td>\n",
       "      <td>Computer assisted surgery with fluoroscopy</td>\n",
       "      <td>CAS w fluoroscopy</td>\n",
       "    </tr>\n",
       "    <tr>\n",
       "      <th>0034</th>\n",
       "      <td>0034</td>\n",
       "      <td>Imageless computer assisted surgery</td>\n",
       "      <td>Imageless comp asst surg</td>\n",
       "    </tr>\n",
       "    <tr>\n",
       "      <th>0035</th>\n",
       "      <td>0035</td>\n",
       "      <td>Computer assisted surgery with multiple datasets</td>\n",
       "      <td>CAS w multiple datasets</td>\n",
       "    </tr>\n",
       "    <tr>\n",
       "      <th>0039</th>\n",
       "      <td>0039</td>\n",
       "      <td>Other computer assisted surgery</td>\n",
       "      <td>Other CAS</td>\n",
       "    </tr>\n",
       "    <tr>\n",
       "      <th>0040</th>\n",
       "      <td>0040</td>\n",
       "      <td>Procedure on single vessel</td>\n",
       "      <td>Procedure-one vessel</td>\n",
       "    </tr>\n",
       "    <tr>\n",
       "      <th>0041</th>\n",
       "      <td>0041</td>\n",
       "      <td>Procedure on two vessels</td>\n",
       "      <td>Procedure-two vessels</td>\n",
       "    </tr>\n",
       "    <tr>\n",
       "      <th>0042</th>\n",
       "      <td>0042</td>\n",
       "      <td>Procedure on three vessels</td>\n",
       "      <td>Procedure-three vessels</td>\n",
       "    </tr>\n",
       "    <tr>\n",
       "      <th>...</th>\n",
       "      <td>...</td>\n",
       "      <td>...</td>\n",
       "      <td>...</td>\n",
       "    </tr>\n",
       "    <tr>\n",
       "      <th>9961</th>\n",
       "      <td>9961</td>\n",
       "      <td>Atrial cardioversion</td>\n",
       "      <td>Atrial cardioversion</td>\n",
       "    </tr>\n",
       "    <tr>\n",
       "      <th>9962</th>\n",
       "      <td>9962</td>\n",
       "      <td>Other electric countershock of heart</td>\n",
       "      <td>Heart countershock NEC</td>\n",
       "    </tr>\n",
       "    <tr>\n",
       "      <th>9963</th>\n",
       "      <td>9963</td>\n",
       "      <td>Closed chest cardiac massage</td>\n",
       "      <td>Closed chest card massag</td>\n",
       "    </tr>\n",
       "    <tr>\n",
       "      <th>9964</th>\n",
       "      <td>9964</td>\n",
       "      <td>Carotid sinus stimulation</td>\n",
       "      <td>Carotid sinus stiumlat</td>\n",
       "    </tr>\n",
       "    <tr>\n",
       "      <th>9969</th>\n",
       "      <td>9969</td>\n",
       "      <td>Other conversion of cardiac rhythm</td>\n",
       "      <td>Cardiac rhythm conv NEC</td>\n",
       "    </tr>\n",
       "    <tr>\n",
       "      <th>9971</th>\n",
       "      <td>9971</td>\n",
       "      <td>Therapeutic plasmapheresis</td>\n",
       "      <td>Therapeu plasmapheresis</td>\n",
       "    </tr>\n",
       "    <tr>\n",
       "      <th>9972</th>\n",
       "      <td>9972</td>\n",
       "      <td>Therapeutic leukopheresis</td>\n",
       "      <td>Therapeutc leukopheresis</td>\n",
       "    </tr>\n",
       "    <tr>\n",
       "      <th>9973</th>\n",
       "      <td>9973</td>\n",
       "      <td>Therapeutic erythrocytapheresis</td>\n",
       "      <td>Therapeu erythropheresis</td>\n",
       "    </tr>\n",
       "    <tr>\n",
       "      <th>9974</th>\n",
       "      <td>9974</td>\n",
       "      <td>Therapeutic plateletpheresis</td>\n",
       "      <td>Therapeu plateltpheresis</td>\n",
       "    </tr>\n",
       "    <tr>\n",
       "      <th>9975</th>\n",
       "      <td>9975</td>\n",
       "      <td>Administration of neuroprotective agent</td>\n",
       "      <td>Adm neuroprotective agnt</td>\n",
       "    </tr>\n",
       "    <tr>\n",
       "      <th>9976</th>\n",
       "      <td>9976</td>\n",
       "      <td>Extracorporeal immunoadsorption</td>\n",
       "      <td>Extracorp immunoabsorpt</td>\n",
       "    </tr>\n",
       "    <tr>\n",
       "      <th>9977</th>\n",
       "      <td>9977</td>\n",
       "      <td>Application or administration of an adhesion b...</td>\n",
       "      <td>App adhesion barrier sub</td>\n",
       "    </tr>\n",
       "    <tr>\n",
       "      <th>9978</th>\n",
       "      <td>9978</td>\n",
       "      <td>Aquapheresis</td>\n",
       "      <td>Aquapheresis</td>\n",
       "    </tr>\n",
       "    <tr>\n",
       "      <th>9979</th>\n",
       "      <td>9979</td>\n",
       "      <td>Other therapeutic apheresis</td>\n",
       "      <td>Other therapeu apheresis</td>\n",
       "    </tr>\n",
       "    <tr>\n",
       "      <th>9981</th>\n",
       "      <td>9981</td>\n",
       "      <td>Hypothermia (central) (local)</td>\n",
       "      <td>Hypothermia</td>\n",
       "    </tr>\n",
       "    <tr>\n",
       "      <th>9982</th>\n",
       "      <td>9982</td>\n",
       "      <td>Ultraviolet light therapy</td>\n",
       "      <td>Ultraviolet light therap</td>\n",
       "    </tr>\n",
       "    <tr>\n",
       "      <th>9983</th>\n",
       "      <td>9983</td>\n",
       "      <td>Other phototherapy</td>\n",
       "      <td>Other phototherapy</td>\n",
       "    </tr>\n",
       "    <tr>\n",
       "      <th>9984</th>\n",
       "      <td>9984</td>\n",
       "      <td>Isolation</td>\n",
       "      <td>Isolation</td>\n",
       "    </tr>\n",
       "    <tr>\n",
       "      <th>9985</th>\n",
       "      <td>9985</td>\n",
       "      <td>Hyperthermia for treatment of cancer</td>\n",
       "      <td>Hyperthermia ca therapy</td>\n",
       "    </tr>\n",
       "    <tr>\n",
       "      <th>9986</th>\n",
       "      <td>9986</td>\n",
       "      <td>Non-invasive placement of bone growth stimulator</td>\n",
       "      <td>Non-invasive bone stimul</td>\n",
       "    </tr>\n",
       "    <tr>\n",
       "      <th>9988</th>\n",
       "      <td>9988</td>\n",
       "      <td>Therapeutic photopheresis</td>\n",
       "      <td>Therapeutc photopheresis</td>\n",
       "    </tr>\n",
       "    <tr>\n",
       "      <th>9991</th>\n",
       "      <td>9991</td>\n",
       "      <td>Acupuncture for anesthesia</td>\n",
       "      <td>Anesthesia acupuncture</td>\n",
       "    </tr>\n",
       "    <tr>\n",
       "      <th>9992</th>\n",
       "      <td>9992</td>\n",
       "      <td>Other acupuncture</td>\n",
       "      <td>Other acupuncture</td>\n",
       "    </tr>\n",
       "    <tr>\n",
       "      <th>9993</th>\n",
       "      <td>9993</td>\n",
       "      <td>Rectal massage (for levator spasm)</td>\n",
       "      <td>Rectal massage</td>\n",
       "    </tr>\n",
       "    <tr>\n",
       "      <th>9994</th>\n",
       "      <td>9994</td>\n",
       "      <td>Prostatic massage</td>\n",
       "      <td>Prostatic massage</td>\n",
       "    </tr>\n",
       "    <tr>\n",
       "      <th>9995</th>\n",
       "      <td>9995</td>\n",
       "      <td>Stretching of foreskin</td>\n",
       "      <td>Stretching of foreskin</td>\n",
       "    </tr>\n",
       "    <tr>\n",
       "      <th>9996</th>\n",
       "      <td>9996</td>\n",
       "      <td>Collection of sperm for artificial insemination</td>\n",
       "      <td>Sperm collection</td>\n",
       "    </tr>\n",
       "    <tr>\n",
       "      <th>9997</th>\n",
       "      <td>9997</td>\n",
       "      <td>Fitting of denture</td>\n",
       "      <td>Denture fitting</td>\n",
       "    </tr>\n",
       "    <tr>\n",
       "      <th>9998</th>\n",
       "      <td>9998</td>\n",
       "      <td>Extraction of milk from lactating breast</td>\n",
       "      <td>Milk extraction</td>\n",
       "    </tr>\n",
       "    <tr>\n",
       "      <th>9999</th>\n",
       "      <td>9999</td>\n",
       "      <td>Other miscellaneous procedures</td>\n",
       "      <td>Miscellaneous proc NEC</td>\n",
       "    </tr>\n",
       "  </tbody>\n",
       "</table>\n",
       "<p>3882 rows × 3 columns</p>\n",
       "</div>"
      ],
      "text/plain": [
       "      code                                   long_description  \\\n",
       "code                                                            \n",
       "0001  0001  Therapeutic ultrasound of vessels of head and ...   \n",
       "0002  0002                    Therapeutic ultrasound of heart   \n",
       "0003  0003  Therapeutic ultrasound of peripheral vascular ...   \n",
       "0009  0009                       Other therapeutic ultrasound   \n",
       "0010  0010             Implantation of chemotherapeutic agent   \n",
       "0011  0011           Infusion of drotrecogin alfa (activated)   \n",
       "0012  0012             Administration of inhaled nitric oxide   \n",
       "0013  0013                Injection or infusion of nesiritide   \n",
       "0014  0014  Injection or infusion of oxazolidinone class o...   \n",
       "0015  0015            High-dose infusion interleukin-2 [IL-2]   \n",
       "0016  0016  Pressurized treatment of venous bypass graft [...   \n",
       "0017  0017                      Infusion of vasopressor agent   \n",
       "0018  0018     Infusion of immunosuppressive antibody therapy   \n",
       "0019  0019  Disruption of blood brain barrier via infusion...   \n",
       "0021  0021  Intravascular imaging of extracranial cerebral...   \n",
       "0022  0022     Intravascular imaging of intrathoracic vessels   \n",
       "0023  0023        Intravascular imaging of peripheral vessels   \n",
       "0024  0024          Intravascular imaging of coronary vessels   \n",
       "0025  0025             Intravascular imaging of renal vessels   \n",
       "0028  0028   Intravascular imaging, other specified vessel(s)   \n",
       "0029  0029       Intravascular imaging, unspecified vessel(s)   \n",
       "0031  0031              Computer assisted surgery with CT/CTA   \n",
       "0032  0032              Computer assisted surgery with MR/MRA   \n",
       "0033  0033         Computer assisted surgery with fluoroscopy   \n",
       "0034  0034                Imageless computer assisted surgery   \n",
       "0035  0035   Computer assisted surgery with multiple datasets   \n",
       "0039  0039                    Other computer assisted surgery   \n",
       "0040  0040                         Procedure on single vessel   \n",
       "0041  0041                           Procedure on two vessels   \n",
       "0042  0042                         Procedure on three vessels   \n",
       "...    ...                                                ...   \n",
       "9961  9961                               Atrial cardioversion   \n",
       "9962  9962               Other electric countershock of heart   \n",
       "9963  9963                       Closed chest cardiac massage   \n",
       "9964  9964                          Carotid sinus stimulation   \n",
       "9969  9969                 Other conversion of cardiac rhythm   \n",
       "9971  9971                         Therapeutic plasmapheresis   \n",
       "9972  9972                          Therapeutic leukopheresis   \n",
       "9973  9973                    Therapeutic erythrocytapheresis   \n",
       "9974  9974                       Therapeutic plateletpheresis   \n",
       "9975  9975            Administration of neuroprotective agent   \n",
       "9976  9976                    Extracorporeal immunoadsorption   \n",
       "9977  9977  Application or administration of an adhesion b...   \n",
       "9978  9978                                       Aquapheresis   \n",
       "9979  9979                        Other therapeutic apheresis   \n",
       "9981  9981                      Hypothermia (central) (local)   \n",
       "9982  9982                          Ultraviolet light therapy   \n",
       "9983  9983                                 Other phototherapy   \n",
       "9984  9984                                          Isolation   \n",
       "9985  9985               Hyperthermia for treatment of cancer   \n",
       "9986  9986   Non-invasive placement of bone growth stimulator   \n",
       "9988  9988                          Therapeutic photopheresis   \n",
       "9991  9991                         Acupuncture for anesthesia   \n",
       "9992  9992                                  Other acupuncture   \n",
       "9993  9993                 Rectal massage (for levator spasm)   \n",
       "9994  9994                                  Prostatic massage   \n",
       "9995  9995                             Stretching of foreskin   \n",
       "9996  9996    Collection of sperm for artificial insemination   \n",
       "9997  9997                                 Fitting of denture   \n",
       "9998  9998           Extraction of milk from lactating breast   \n",
       "9999  9999                     Other miscellaneous procedures   \n",
       "\n",
       "             short_description  \n",
       "code                            \n",
       "0001  Ther ult head & neck ves  \n",
       "0002  Ther ultrasound of heart  \n",
       "0003   Ther ult peripheral ves  \n",
       "0009  Other therapeutic ultsnd  \n",
       "0010  Implant chemothera agent  \n",
       "0011    Infus drotrecogin alfa  \n",
       "0012    Adm inhal nitric oxide  \n",
       "0013   Inject/infus nesiritide  \n",
       "0014   Injection oxazolidinone  \n",
       "0015   High-dose infusion IL-2  \n",
       "0016   Pressurized treat graft  \n",
       "0017   Infusion of vasopressor  \n",
       "0018  Infus immunosup antibody  \n",
       "0019         BBBD via infusion  \n",
       "0021  IVUS extracran cereb ves  \n",
       "0022    IVUS intrathoracic ves  \n",
       "0023   IVUS peripheral vessels  \n",
       "0024     IVUS coronary vessels  \n",
       "0025        IVUS renal vessels  \n",
       "0028   Intravascul imaging NEC  \n",
       "0029   Intravascul imaging NOS  \n",
       "0031              CAS w CT/CTA  \n",
       "0032              CAS w MR/MRA  \n",
       "0033         CAS w fluoroscopy  \n",
       "0034  Imageless comp asst surg  \n",
       "0035   CAS w multiple datasets  \n",
       "0039                 Other CAS  \n",
       "0040      Procedure-one vessel  \n",
       "0041     Procedure-two vessels  \n",
       "0042   Procedure-three vessels  \n",
       "...                        ...  \n",
       "9961      Atrial cardioversion  \n",
       "9962    Heart countershock NEC  \n",
       "9963  Closed chest card massag  \n",
       "9964    Carotid sinus stiumlat  \n",
       "9969   Cardiac rhythm conv NEC  \n",
       "9971   Therapeu plasmapheresis  \n",
       "9972  Therapeutc leukopheresis  \n",
       "9973  Therapeu erythropheresis  \n",
       "9974  Therapeu plateltpheresis  \n",
       "9975  Adm neuroprotective agnt  \n",
       "9976   Extracorp immunoabsorpt  \n",
       "9977  App adhesion barrier sub  \n",
       "9978              Aquapheresis  \n",
       "9979  Other therapeu apheresis  \n",
       "9981               Hypothermia  \n",
       "9982  Ultraviolet light therap  \n",
       "9983        Other phototherapy  \n",
       "9984                 Isolation  \n",
       "9985   Hyperthermia ca therapy  \n",
       "9986  Non-invasive bone stimul  \n",
       "9988  Therapeutc photopheresis  \n",
       "9991    Anesthesia acupuncture  \n",
       "9992         Other acupuncture  \n",
       "9993            Rectal massage  \n",
       "9994         Prostatic massage  \n",
       "9995    Stretching of foreskin  \n",
       "9996          Sperm collection  \n",
       "9997           Denture fitting  \n",
       "9998           Milk extraction  \n",
       "9999    Miscellaneous proc NEC  \n",
       "\n",
       "[3882 rows x 3 columns]"
      ]
     },
     "execution_count": 46,
     "metadata": {},
     "output_type": "execute_result"
    }
   ],
   "source": [
    "dficd9sg = dficd9sg.set_index('code',drop=False)\n",
    "dficd9sg\n"
   ]
  },
  {
   "cell_type": "code",
   "execution_count": 47,
   "metadata": {
    "collapsed": true,
    "slideshow": {
     "slide_type": "skip"
    }
   },
   "outputs": [],
   "source": [
    "proc_code_dict = dficd9sg.long_description.to_dict()"
   ]
  },
  {
   "cell_type": "code",
   "execution_count": 48,
   "metadata": {
    "collapsed": false,
    "slideshow": {
     "slide_type": "skip"
    }
   },
   "outputs": [
    {
     "data": {
      "text/html": [
       "<div>\n",
       "<table border=\"1\" class=\"dataframe\">\n",
       "  <thead>\n",
       "    <tr style=\"text-align: right;\">\n",
       "      <th></th>\n",
       "      <th>registry</th>\n",
       "      <th>patient_id</th>\n",
       "      <th>age</th>\n",
       "      <th>stdstate</th>\n",
       "      <th>std_cnty</th>\n",
       "      <th>admday</th>\n",
       "      <th>dschgsta</th>\n",
       "      <th>ghopd</th>\n",
       "      <th>ppsind</th>\n",
       "      <th>provcode</th>\n",
       "      <th>...</th>\n",
       "      <th>obic</th>\n",
       "      <th>drgcode</th>\n",
       "      <th>discdest</th>\n",
       "      <th>outclrcde</th>\n",
       "      <th>primpayr</th>\n",
       "      <th>esrdcond</th>\n",
       "      <th>admsrce</th>\n",
       "      <th>admtype</th>\n",
       "      <th>admdxcde</th>\n",
       "      <th>deathadm</th>\n",
       "    </tr>\n",
       "    <tr>\n",
       "      <th>patient_id</th>\n",
       "      <th></th>\n",
       "      <th></th>\n",
       "      <th></th>\n",
       "      <th></th>\n",
       "      <th></th>\n",
       "      <th></th>\n",
       "      <th></th>\n",
       "      <th></th>\n",
       "      <th></th>\n",
       "      <th></th>\n",
       "      <th></th>\n",
       "      <th></th>\n",
       "      <th></th>\n",
       "      <th></th>\n",
       "      <th></th>\n",
       "      <th></th>\n",
       "      <th></th>\n",
       "      <th></th>\n",
       "      <th></th>\n",
       "      <th></th>\n",
       "      <th></th>\n",
       "    </tr>\n",
       "  </thead>\n",
       "  <tbody>\n",
       "    <tr>\n",
       "      <th>8869027355</th>\n",
       "      <td>88</td>\n",
       "      <td>8869027355</td>\n",
       "      <td>74</td>\n",
       "      <td>5</td>\n",
       "      <td>430</td>\n",
       "      <td>3</td>\n",
       "      <td>A</td>\n",
       "      <td>NaN</td>\n",
       "      <td>2</td>\n",
       "      <td>NaN</td>\n",
       "      <td>...</td>\n",
       "      <td>A</td>\n",
       "      <td>90</td>\n",
       "      <td>1</td>\n",
       "      <td>0</td>\n",
       "      <td>N</td>\n",
       "      <td>0</td>\n",
       "      <td>1</td>\n",
       "      <td>2</td>\n",
       "      <td>486</td>\n",
       "      <td>0</td>\n",
       "    </tr>\n",
       "    <tr>\n",
       "      <th>8869027355</th>\n",
       "      <td>88</td>\n",
       "      <td>8869027355</td>\n",
       "      <td>74</td>\n",
       "      <td>5</td>\n",
       "      <td>430</td>\n",
       "      <td>4</td>\n",
       "      <td>A</td>\n",
       "      <td>NaN</td>\n",
       "      <td>2</td>\n",
       "      <td>NaN</td>\n",
       "      <td>...</td>\n",
       "      <td>A</td>\n",
       "      <td>143</td>\n",
       "      <td>1</td>\n",
       "      <td>0</td>\n",
       "      <td>N</td>\n",
       "      <td>0</td>\n",
       "      <td>7</td>\n",
       "      <td>2</td>\n",
       "      <td>78659</td>\n",
       "      <td>0</td>\n",
       "    </tr>\n",
       "    <tr>\n",
       "      <th>8828037361</th>\n",
       "      <td>88</td>\n",
       "      <td>8828037361</td>\n",
       "      <td>69</td>\n",
       "      <td>5</td>\n",
       "      <td>400</td>\n",
       "      <td>4</td>\n",
       "      <td>A</td>\n",
       "      <td>NaN</td>\n",
       "      <td>2</td>\n",
       "      <td>NaN</td>\n",
       "      <td>...</td>\n",
       "      <td>TA</td>\n",
       "      <td>335</td>\n",
       "      <td>1</td>\n",
       "      <td>0</td>\n",
       "      <td>NaN</td>\n",
       "      <td>0</td>\n",
       "      <td>1</td>\n",
       "      <td>3</td>\n",
       "      <td>185</td>\n",
       "      <td>0</td>\n",
       "    </tr>\n",
       "    <tr>\n",
       "      <th>8863055354</th>\n",
       "      <td>88</td>\n",
       "      <td>8863055354</td>\n",
       "      <td>76</td>\n",
       "      <td>5</td>\n",
       "      <td>430</td>\n",
       "      <td>6</td>\n",
       "      <td>A</td>\n",
       "      <td>NaN</td>\n",
       "      <td>2</td>\n",
       "      <td>NaN</td>\n",
       "      <td>...</td>\n",
       "      <td>A</td>\n",
       "      <td>143</td>\n",
       "      <td>1</td>\n",
       "      <td>0</td>\n",
       "      <td>NaN</td>\n",
       "      <td>0</td>\n",
       "      <td>7</td>\n",
       "      <td>2</td>\n",
       "      <td>78650</td>\n",
       "      <td>0</td>\n",
       "    </tr>\n",
       "    <tr>\n",
       "      <th>2693087051</th>\n",
       "      <td>26</td>\n",
       "      <td>2693087051</td>\n",
       "      <td>72</td>\n",
       "      <td>46</td>\n",
       "      <td>170</td>\n",
       "      <td>6</td>\n",
       "      <td>A</td>\n",
       "      <td>NaN</td>\n",
       "      <td>2</td>\n",
       "      <td>NaN</td>\n",
       "      <td>...</td>\n",
       "      <td>A</td>\n",
       "      <td>334</td>\n",
       "      <td>1</td>\n",
       "      <td>0</td>\n",
       "      <td>NaN</td>\n",
       "      <td>0</td>\n",
       "      <td>1</td>\n",
       "      <td>3</td>\n",
       "      <td>185</td>\n",
       "      <td>0</td>\n",
       "    </tr>\n",
       "  </tbody>\n",
       "</table>\n",
       "<p>5 rows × 171 columns</p>\n",
       "</div>"
      ],
      "text/plain": [
       "            registry  patient_id  age  stdstate  std_cnty  admday dschgsta  \\\n",
       "patient_id                                                                   \n",
       "8869027355        88  8869027355   74         5       430       3        A   \n",
       "8869027355        88  8869027355   74         5       430       4        A   \n",
       "8828037361        88  8828037361   69         5       400       4        A   \n",
       "8863055354        88  8863055354   76         5       430       6        A   \n",
       "2693087051        26  2693087051   72        46       170       6        A   \n",
       "\n",
       "            ghopd  ppsind provcode    ...    obic  drgcode  discdest  \\\n",
       "patient_id                            ...                              \n",
       "8869027355    NaN       2      NaN    ...       A       90         1   \n",
       "8869027355    NaN       2      NaN    ...       A      143         1   \n",
       "8828037361    NaN       2      NaN    ...      TA      335         1   \n",
       "8863055354    NaN       2      NaN    ...       A      143         1   \n",
       "2693087051    NaN       2      NaN    ...       A      334         1   \n",
       "\n",
       "            outclrcde  primpayr  esrdcond  admsrce  admtype  admdxcde  \\\n",
       "patient_id                                                              \n",
       "8869027355          0         N         0        1        2       486   \n",
       "8869027355          0         N         0        7        2     78659   \n",
       "8828037361          0       NaN         0        1        3       185   \n",
       "8863055354          0       NaN         0        7        2     78650   \n",
       "2693087051          0       NaN         0        1        3       185   \n",
       "\n",
       "            deathadm  \n",
       "patient_id            \n",
       "8869027355         0  \n",
       "8869027355         0  \n",
       "8828037361         0  \n",
       "8863055354         0  \n",
       "2693087051         0  \n",
       "\n",
       "[5 rows x 171 columns]"
      ]
     },
     "execution_count": 48,
     "metadata": {},
     "output_type": "execute_result"
    }
   ],
   "source": [
    "\n",
    "dg.head()\n"
   ]
  },
  {
   "cell_type": "code",
   "execution_count": 49,
   "metadata": {
    "collapsed": false,
    "slideshow": {
     "slide_type": "skip"
    }
   },
   "outputs": [
    {
     "data": {
      "text/html": [
       "<div>\n",
       "<table border=\"1\" class=\"dataframe\">\n",
       "  <thead>\n",
       "    <tr style=\"text-align: right;\">\n",
       "      <th></th>\n",
       "      <th>patient_id</th>\n",
       "      <th>numdxcde</th>\n",
       "      <th>dgn_cd1</th>\n",
       "      <th>dgn_cd2</th>\n",
       "      <th>dgn_cd3</th>\n",
       "      <th>dgn_cd4</th>\n",
       "      <th>dgn_cd5</th>\n",
       "      <th>dgn_cd6</th>\n",
       "      <th>dgn_cd7</th>\n",
       "      <th>dgn_cd8</th>\n",
       "      <th>...</th>\n",
       "      <th>srgcde18</th>\n",
       "      <th>srgcde19</th>\n",
       "      <th>srgcde20</th>\n",
       "      <th>srgcde21</th>\n",
       "      <th>srgcde22</th>\n",
       "      <th>srgcde23</th>\n",
       "      <th>srgcde24</th>\n",
       "      <th>srgcde25</th>\n",
       "      <th>admdxcde</th>\n",
       "      <th>medpar_admission_date</th>\n",
       "    </tr>\n",
       "    <tr>\n",
       "      <th>patient_id</th>\n",
       "      <th></th>\n",
       "      <th></th>\n",
       "      <th></th>\n",
       "      <th></th>\n",
       "      <th></th>\n",
       "      <th></th>\n",
       "      <th></th>\n",
       "      <th></th>\n",
       "      <th></th>\n",
       "      <th></th>\n",
       "      <th></th>\n",
       "      <th></th>\n",
       "      <th></th>\n",
       "      <th></th>\n",
       "      <th></th>\n",
       "      <th></th>\n",
       "      <th></th>\n",
       "      <th></th>\n",
       "      <th></th>\n",
       "      <th></th>\n",
       "      <th></th>\n",
       "    </tr>\n",
       "  </thead>\n",
       "  <tbody>\n",
       "    <tr>\n",
       "      <th>8869027355</th>\n",
       "      <td>8869027355</td>\n",
       "      <td>5</td>\n",
       "      <td>486</td>\n",
       "      <td>4659</td>\n",
       "      <td>41401</td>\n",
       "      <td>4019</td>\n",
       "      <td>69018</td>\n",
       "      <td>NaN</td>\n",
       "      <td>NaN</td>\n",
       "      <td>NaN</td>\n",
       "      <td>...</td>\n",
       "      <td>NaN</td>\n",
       "      <td>NaN</td>\n",
       "      <td>NaN</td>\n",
       "      <td>NaN</td>\n",
       "      <td>NaN</td>\n",
       "      <td>NaN</td>\n",
       "      <td>NaN</td>\n",
       "      <td>NaN</td>\n",
       "      <td>486</td>\n",
       "      <td>4032006</td>\n",
       "    </tr>\n",
       "    <tr>\n",
       "      <th>8869027355</th>\n",
       "      <td>8869027355</td>\n",
       "      <td>9</td>\n",
       "      <td>78659</td>\n",
       "      <td>4139</td>\n",
       "      <td>4240</td>\n",
       "      <td>4241</td>\n",
       "      <td>4242</td>\n",
       "      <td>41401</td>\n",
       "      <td>43330</td>\n",
       "      <td>4019</td>\n",
       "      <td>...</td>\n",
       "      <td>NaN</td>\n",
       "      <td>NaN</td>\n",
       "      <td>NaN</td>\n",
       "      <td>NaN</td>\n",
       "      <td>NaN</td>\n",
       "      <td>NaN</td>\n",
       "      <td>NaN</td>\n",
       "      <td>NaN</td>\n",
       "      <td>78659</td>\n",
       "      <td>5302006</td>\n",
       "    </tr>\n",
       "    <tr>\n",
       "      <th>8828037361</th>\n",
       "      <td>8828037361</td>\n",
       "      <td>3</td>\n",
       "      <td>185</td>\n",
       "      <td>4019</td>\n",
       "      <td>60011</td>\n",
       "      <td>NaN</td>\n",
       "      <td>NaN</td>\n",
       "      <td>NaN</td>\n",
       "      <td>NaN</td>\n",
       "      <td>NaN</td>\n",
       "      <td>...</td>\n",
       "      <td>NaN</td>\n",
       "      <td>NaN</td>\n",
       "      <td>NaN</td>\n",
       "      <td>NaN</td>\n",
       "      <td>NaN</td>\n",
       "      <td>NaN</td>\n",
       "      <td>NaN</td>\n",
       "      <td>NaN</td>\n",
       "      <td>185</td>\n",
       "      <td>12052006</td>\n",
       "    </tr>\n",
       "    <tr>\n",
       "      <th>8863055354</th>\n",
       "      <td>8863055354</td>\n",
       "      <td>6</td>\n",
       "      <td>78650</td>\n",
       "      <td>2875</td>\n",
       "      <td>2720</td>\n",
       "      <td>25000</td>\n",
       "      <td>44389</td>\n",
       "      <td>3669</td>\n",
       "      <td>NaN</td>\n",
       "      <td>NaN</td>\n",
       "      <td>...</td>\n",
       "      <td>NaN</td>\n",
       "      <td>NaN</td>\n",
       "      <td>NaN</td>\n",
       "      <td>NaN</td>\n",
       "      <td>NaN</td>\n",
       "      <td>NaN</td>\n",
       "      <td>NaN</td>\n",
       "      <td>NaN</td>\n",
       "      <td>78650</td>\n",
       "      <td>12142006</td>\n",
       "    </tr>\n",
       "    <tr>\n",
       "      <th>2693087051</th>\n",
       "      <td>2693087051</td>\n",
       "      <td>5</td>\n",
       "      <td>185</td>\n",
       "      <td>78039</td>\n",
       "      <td>4019</td>\n",
       "      <td>2720</td>\n",
       "      <td>3659</td>\n",
       "      <td>NaN</td>\n",
       "      <td>NaN</td>\n",
       "      <td>NaN</td>\n",
       "      <td>...</td>\n",
       "      <td>NaN</td>\n",
       "      <td>NaN</td>\n",
       "      <td>NaN</td>\n",
       "      <td>NaN</td>\n",
       "      <td>NaN</td>\n",
       "      <td>NaN</td>\n",
       "      <td>NaN</td>\n",
       "      <td>NaN</td>\n",
       "      <td>185</td>\n",
       "      <td>2022006</td>\n",
       "    </tr>\n",
       "  </tbody>\n",
       "</table>\n",
       "<p>5 rows × 54 columns</p>\n",
       "</div>"
      ],
      "text/plain": [
       "            patient_id  numdxcde dgn_cd1 dgn_cd2 dgn_cd3 dgn_cd4 dgn_cd5  \\\n",
       "patient_id                                                                 \n",
       "8869027355  8869027355         5     486    4659   41401    4019   69018   \n",
       "8869027355  8869027355         9   78659    4139    4240    4241    4242   \n",
       "8828037361  8828037361         3     185    4019   60011     NaN     NaN   \n",
       "8863055354  8863055354         6   78650    2875    2720   25000   44389   \n",
       "2693087051  2693087051         5     185   78039    4019    2720    3659   \n",
       "\n",
       "           dgn_cd6 dgn_cd7 dgn_cd8          ...          srgcde18 srgcde19  \\\n",
       "patient_id                                  ...                              \n",
       "8869027355     NaN     NaN     NaN          ...               NaN      NaN   \n",
       "8869027355   41401   43330    4019          ...               NaN      NaN   \n",
       "8828037361     NaN     NaN     NaN          ...               NaN      NaN   \n",
       "8863055354    3669     NaN     NaN          ...               NaN      NaN   \n",
       "2693087051     NaN     NaN     NaN          ...               NaN      NaN   \n",
       "\n",
       "           srgcde20 srgcde21 srgcde22 srgcde23 srgcde24 srgcde25 admdxcde  \\\n",
       "patient_id                                                                  \n",
       "8869027355      NaN      NaN      NaN      NaN      NaN      NaN      486   \n",
       "8869027355      NaN      NaN      NaN      NaN      NaN      NaN    78659   \n",
       "8828037361      NaN      NaN      NaN      NaN      NaN      NaN      185   \n",
       "8863055354      NaN      NaN      NaN      NaN      NaN      NaN    78650   \n",
       "2693087051      NaN      NaN      NaN      NaN      NaN      NaN      185   \n",
       "\n",
       "           medpar_admission_date  \n",
       "patient_id                        \n",
       "8869027355               4032006  \n",
       "8869027355               5302006  \n",
       "8828037361              12052006  \n",
       "8863055354              12142006  \n",
       "2693087051               2022006  \n",
       "\n",
       "[5 rows x 54 columns]"
      ]
     },
     "execution_count": 49,
     "metadata": {},
     "output_type": "execute_result"
    }
   ],
   "source": [
    "goodcols = ['patient_id','numdxcde','dgn_cd1','dgn_cd2','dgn_cd3',\n",
    "            'dgn_cd4','dgn_cd5',\n",
    "            'dgn_cd6','dgn_cd7','dgn_cd8','dgn_cd9',\n",
    "            'dgn_cd10','dgn_cd11','dgn_cd12','dgn_cd13',\n",
    "            'dgn_cd14','dgn_cd15','dgn_cd16','dgn_cd17',\n",
    "            'dgn_cd18','dgn_cd19','dgn_cd20','dgn_cd21',\n",
    "            'dgn_cd22','dgn_cd23','dgn_cd24','dgn_cd25',\n",
    "            'srgcde1','srgcde2','srgcde3','srgcde4','srgcde5',\n",
    "            'srgcde6','srgcde7','srgcde8','srgcde9','srgcde10',\n",
    "            'srgcde11','srgcde12','srgcde13','srgcde14','srgcde15',\n",
    "            'srgcde16','srgcde17','srgcde18','srgcde19','srgcde20',\n",
    "            'srgcde21','srgcde22','srgcde23','srgcde24','srgcde25',\n",
    "            'admdxcde','medpar_admission_date']\n",
    "dg[goodcols].head()"
   ]
  },
  {
   "cell_type": "code",
   "execution_count": 50,
   "metadata": {
    "collapsed": true,
    "slideshow": {
     "slide_type": "skip"
    }
   },
   "outputs": [],
   "source": [
    "dh = dg[goodcols].drop_duplicates().copy()"
   ]
  },
  {
   "cell_type": "code",
   "execution_count": 51,
   "metadata": {
    "collapsed": true,
    "slideshow": {
     "slide_type": "skip"
    }
   },
   "outputs": [],
   "source": [
    "dh['dgn_cd1_description'] = dh['dgn_cd1'].astype('str').replace(code_dict)\n",
    "dh['dgn_cd2_description'] = dh['dgn_cd2'].astype('str').replace(code_dict)\n",
    "dh['dgn_cd3_description'] = dh['dgn_cd3'].astype('str').replace(code_dict)\n",
    "dh['dgn_cd4_description'] = dh['dgn_cd4'].astype('str').replace(code_dict)\n",
    "dh['dgn_cd5_description'] = dh['dgn_cd5'].astype('str').replace(code_dict)\n",
    "\n",
    "dh['dgn_cd6_description'] = dh['dgn_cd6'].astype('str').replace(code_dict)\n",
    "dh['dgn_cd7_description'] = dh['dgn_cd7'].astype('str').replace(code_dict)\n",
    "dh['dgn_cd8_description'] = dh['dgn_cd8'].astype('str').replace(code_dict)\n",
    "dh['dgn_cd9_description'] = dh['dgn_cd9'].astype('str').replace(code_dict)\n",
    "dh['dgn_cd10_description'] = dh['dgn_cd10'].astype('str').replace(code_dict)\n",
    "dh['dgn_cd11_description'] = dh['dgn_cd11'].astype('str').replace(code_dict)\n",
    "dh['dgn_cd12_description'] = dh['dgn_cd12'].astype('str').replace(code_dict)\n",
    "dh['dgn_cd13_description'] = dh['dgn_cd13'].astype('str').replace(code_dict)\n",
    "dh['dgn_cd14_description'] = dh['dgn_cd14'].astype('str').replace(code_dict)\n",
    "dh['dgn_cd15_description'] = dh['dgn_cd15'].astype('str').replace(code_dict)\n",
    "dh['dgn_cd16_description'] = dh['dgn_cd16'].astype('str').replace(code_dict)\n",
    "dh['dgn_cd17_description'] = dh['dgn_cd17'].astype('str').replace(code_dict)\n",
    "dh['dgn_cd18_description'] = dh['dgn_cd18'].astype('str').replace(code_dict)\n",
    "dh['dgn_cd19_description'] = dh['dgn_cd19'].astype('str').replace(code_dict)\n",
    "dh['dgn_cd20_description'] = dh['dgn_cd20'].astype('str').replace(code_dict)\n",
    "\n",
    "dh['dgn_cd21_description'] = dh['dgn_cd21'].astype('str').replace(code_dict)\n",
    "dh['dgn_cd22_description'] = dh['dgn_cd22'].astype('str').replace(code_dict)\n",
    "dh['dgn_cd23_description'] = dh['dgn_cd23'].astype('str').replace(code_dict)\n",
    "dh['dgn_cd24_description'] = dh['dgn_cd24'].astype('str').replace(code_dict)\n",
    "dh['dgn_cd25_description'] = dh['dgn_cd25'].astype('str').replace(code_dict)"
   ]
  },
  {
   "cell_type": "code",
   "execution_count": 52,
   "metadata": {
    "collapsed": true,
    "slideshow": {
     "slide_type": "skip"
    }
   },
   "outputs": [],
   "source": [
    "\n",
    "dh['srgcde1_description'] = dh['srgcde1'].fillna(0).astype('int').astype('str').replace(proc_code_dict)\n",
    "dh['srgcde2_description'] = dh['srgcde2'].fillna(0).astype('int').astype('str').replace(proc_code_dict)\n",
    "dh['srgcde3_description'] = dh['srgcde3'].fillna(0).astype('int').astype('str').replace(proc_code_dict)\n",
    "dh['srgcde4_description'] = dh['srgcde4'].fillna(0).astype('int').astype('str').replace(proc_code_dict)\n",
    "dh['srgcde5_description'] = dh['srgcde5'].fillna(0).astype('int').astype('str').replace(proc_code_dict)\n",
    "\n",
    "\n",
    "dh['srgcde6_description'] = dh['srgcde6'].fillna(0).astype('int').astype('str').replace(proc_code_dict)\n",
    "dh['srgcde7_description'] = dh['srgcde7'].fillna(0).astype('int').astype('str').replace(proc_code_dict)\n",
    "dh['srgcde8_description'] = dh['srgcde8'].fillna(0).astype('int').astype('str').replace(proc_code_dict)\n",
    "dh['srgcde9_description'] = dh['srgcde9'].fillna(0).astype('int').astype('str').replace(proc_code_dict)\n",
    "dh['srgcde10_description'] = dh['srgcde10'].fillna(0).astype('int').astype('str').replace(proc_code_dict)\n",
    "\n",
    "\n",
    "dh['srgcde11_description'] = dh['srgcde11'].fillna(0).astype('int').astype('str').replace(proc_code_dict)\n",
    "dh['srgcde12_description'] = dh['srgcde12'].fillna(0).astype('int').astype('str').replace(proc_code_dict)\n",
    "dh['srgcde13_description'] = dh['srgcde13'].fillna(0).astype('int').astype('str').replace(proc_code_dict)\n",
    "dh['srgcde14_description'] = dh['srgcde14'].fillna(0).astype('int').astype('str').replace(proc_code_dict)\n",
    "dh['srgcde15_description'] = dh['srgcde15'].fillna(0).astype('int').astype('str').replace(proc_code_dict)\n",
    "dh['srgcde16_description'] = dh['srgcde16'].fillna(0).astype('int').astype('str').replace(proc_code_dict)\n",
    "dh['srgcde17_description'] = dh['srgcde17'].fillna(0).astype('int').astype('str').replace(proc_code_dict)\n",
    "dh['srgcde18_description'] = dh['srgcde18'].fillna(0).astype('int').astype('str').replace(proc_code_dict)\n",
    "dh['srgcde19_description'] = dh['srgcde19'].fillna(0).astype('int').astype('str').replace(proc_code_dict)\n",
    "dh['srgcde20_description'] = dh['srgcde20'].fillna(0).astype('int').astype('str').replace(proc_code_dict)\n",
    "\n",
    "\n",
    "dh['srgcde21_description'] = dh['srgcde21'].fillna(0).astype('int').astype('str').replace(proc_code_dict)\n",
    "dh['srgcde22_description'] = dh['srgcde22'].fillna(0).astype('int').astype('str').replace(proc_code_dict)\n",
    "dh['srgcde23_description'] = dh['srgcde23'].fillna(0).astype('int').astype('str').replace(proc_code_dict)\n",
    "dh['srgcde24_description'] = dh['srgcde24'].fillna(0).astype('int').astype('str').replace(proc_code_dict)\n",
    "dh['srgcde25_description'] = dh['srgcde25'].fillna(0).astype('int').astype('str').replace(proc_code_dict)"
   ]
  },
  {
   "cell_type": "code",
   "execution_count": 53,
   "metadata": {
    "collapsed": true,
    "slideshow": {
     "slide_type": "skip"
    }
   },
   "outputs": [],
   "source": [
    "dh['admdxcde_description'] = dh['admdxcde'].astype('str').replace(code_dict)"
   ]
  },
  {
   "cell_type": "code",
   "execution_count": 54,
   "metadata": {
    "collapsed": true,
    "slideshow": {
     "slide_type": "skip"
    }
   },
   "outputs": [],
   "source": [
    "df = pd.read_pickle('dfpedsfFirsts.pickle')"
   ]
  },
  {
   "cell_type": "markdown",
   "metadata": {
    "slideshow": {
     "slide_type": "slide"
    }
   },
   "source": [
    "# <font color=\"#E56717\">Complications in the Hospital Claims data</font>\n",
    "\n",
    "* <span style=\"font-size:1.5em;\">MedPAR: Medicare Provider and Review</span>\n",
    "* <span style=\"font-size:1.5em;\">One record per stay</span>\n",
    "* <span style=\"font-size:1.5em;\">Key elements: admission and discharge diagnoses and dates, procedures and procedure dates, revenue center codes for ER</span>"
   ]
  },
  {
   "cell_type": "code",
   "execution_count": 55,
   "metadata": {
    "collapsed": true,
    "slideshow": {
     "slide_type": "skip"
    }
   },
   "outputs": [],
   "source": [
    "df = df.set_index('patient_id',drop=False)"
   ]
  },
  {
   "cell_type": "code",
   "execution_count": 56,
   "metadata": {
    "collapsed": false,
    "slideshow": {
     "slide_type": "skip"
    }
   },
   "outputs": [
    {
     "name": "stdout",
     "output_type": "stream",
     "text": [
      "1662 831 831\n"
     ]
    }
   ],
   "source": [
    "goodindices = controlindices + treatmentindices\n",
    "print(len(goodindices),len(controlindices),len(treatmentindices))"
   ]
  },
  {
   "cell_type": "code",
   "execution_count": 57,
   "metadata": {
    "collapsed": true,
    "slideshow": {
     "slide_type": "skip"
    }
   },
   "outputs": [],
   "source": [
    "df_all_good_indices = df.loc[goodindices].copy()"
   ]
  },
  {
   "cell_type": "code",
   "execution_count": 58,
   "metadata": {
    "collapsed": true,
    "slideshow": {
     "slide_type": "skip"
    }
   },
   "outputs": [],
   "source": [
    "del df"
   ]
  },
  {
   "cell_type": "code",
   "execution_count": 59,
   "metadata": {
    "collapsed": true,
    "slideshow": {
     "slide_type": "skip"
    }
   },
   "outputs": [],
   "source": [
    "monthdict = {'Jan': '01',\n",
    "            'Feb': '02',\n",
    "            'Mar': '03',\n",
    "            'Apr': '04',\n",
    "            'May': '05',\n",
    "            'Jun': '06',\n",
    "            'Jul': '07',\n",
    "            'Aug': '08',\n",
    "            'Sep': '09',\n",
    "            'Oct': '10',\n",
    "            'Nov': '11',\n",
    "            'Dec': '12'}\n",
    "\n",
    "\n",
    "df_all_good_indices['month1'] = df_all_good_indices['modx1'].replace(monthdict)"
   ]
  },
  {
   "cell_type": "code",
   "execution_count": 60,
   "metadata": {
    "collapsed": false,
    "slideshow": {
     "slide_type": "skip"
    }
   },
   "outputs": [
    {
     "name": "stdout",
     "output_type": "stream",
     "text": [
      "['4482160083', '2215176050', '8859072472', '2310153070', '8802026371', '8757024520', '8831097343', '8878004314', '8827010107', '4408106073', '8797097489', '8835013250', '4339013024', '4304141320', '4326238080', '4269060013', '8848090384', '4268053014', '8797035478', '8841081424', '8868081313', '4339033024', '4222034004', '8735038409', '8716025459', '4462162024', '8821066343', '8858012304', '8845030491', '8841000365', '8888027441', '4313295000', '8825058106', '8888086461', '4473112043', '8714009560', '8870085471', '8819038335', '8885077334', '8865081345', '8815026310', '8889005430', '4454195034', '4247072024', '8851092441', '8897051314', '4295048060', '8852000315', '8875067360', '4315229060']\n",
      "0\n"
     ]
    }
   ],
   "source": [
    "prostate_filter = df_all_good_indices['site1'].str.contains('prostate',case=False,na=False)\n",
    "to_drop = list(df_all_good_indices[~prostate_filter].site1.index)\n",
    "print(to_drop)\n",
    "\n",
    "drop_set = set(to_drop)\n",
    "t_set = set(d_t_c.keys())\n",
    "\n",
    "lose_set = t_set.intersection(drop_set)\n",
    "print(len(lose_set))\n",
    "\n",
    "for i in list(lose_set):\n",
    "    del d_t_c[i]"
   ]
  },
  {
   "cell_type": "markdown",
   "metadata": {
    "slideshow": {
     "slide_type": "slide"
    }
   },
   "source": [
    "# <font color=\"#E56717\">We need to only keep claims for which the date of admission is later in time than the cancer diagnosis date</font>\n",
    "\n",
    "\n",
    "<span style=\"font-size:1.5em;\">3 of the treatment-control pairs are missing month of diagnoses; will not use them when investigating relative likelihood of complications in the MedPAR file</span>\n",
    "\n",
    "<span style=\"font-size:1.5em;\">Likewise, some 970 rows in the MedPAR file had missing admission date information; will not use them either.</span>\n",
    "\n",
    "$\\rightarrow$ <span style=\"font-size:1.5em;\">2696 unique claims for patients in the PBT and RT (Non PBT) groups, with an admission date later than the cancer dx date</span>"
   ]
  },
  {
   "cell_type": "code",
   "execution_count": 63,
   "metadata": {
    "collapsed": false,
    "slideshow": {
     "slide_type": "skip"
    }
   },
   "outputs": [
    {
     "name": "stdout",
     "output_type": "stream",
     "text": [
      "857 857\n"
     ]
    }
   ],
   "source": [
    "goodtreatmentindices = d_t_c.keys()\n",
    "goodcontrolindices = d_t_c.values()\n",
    "print(len(goodtreatmentindices), len(goodcontrolindices))\n",
    "\n",
    "df_all_good_indices = df_all_good_indices.loc[list(goodcontrolindices) + list(goodtreatmentindices)]\n",
    "\n",
    "df_all_good_indices['newmonth1'] = df_all_good_indices.month1.fillna('01').copy()\n",
    "\n",
    "#df_all_good_indices['yrdx_plus_modx'] = df_all_good_indices.yrdx1.astype('str') + df_all_good_indices.newmonth1.astype('str')\n",
    "\n",
    "\n",
    "#df_all_good_indices['yrdx_plus_modx'] = pd.to_datetime(df_all_good_indices['yrdx_plus_modx'], \n",
    "#                                                      format='%Y%m')\n",
    "\n",
    "#dh = dh.set_index('patient_id',drop=False)\n",
    "\n",
    "#dgtreatment = dh[dh.patient_id.isin(goodtreatmentindices) & prostate_filter].copy()\n",
    "\n",
    "#dgcontrol = dh[dh.patient_id.isin(goodcontrolindices) & prostate_filter].copy()"
   ]
  },
  {
   "cell_type": "code",
   "execution_count": 68,
   "metadata": {
    "collapsed": false
   },
   "outputs": [
    {
     "data": {
      "text/plain": [
       "0"
      ]
     },
     "execution_count": 68,
     "metadata": {},
     "output_type": "execute_result"
    }
   ],
   "source": [
    "df_all_good_indices.newmonth1.isnull().sum()"
   ]
  },
  {
   "cell_type": "code",
   "execution_count": 66,
   "metadata": {
    "collapsed": false,
    "slideshow": {
     "slide_type": "skip"
    }
   },
   "outputs": [
    {
     "data": {
      "text/plain": [
       "453"
      ]
     },
     "execution_count": 66,
     "metadata": {},
     "output_type": "execute_result"
    }
   ],
   "source": [
    "\n",
    "df_all_good_indices.month1.isnull().sum()"
   ]
  },
  {
   "cell_type": "code",
   "execution_count": 69,
   "metadata": {
    "collapsed": false,
    "slideshow": {
     "slide_type": "skip"
    }
   },
   "outputs": [],
   "source": [
    "df_all_good_indices['yrdx_plus_modx'] = df_all_good_indices.yrdx1.astype('str') + df_all_good_indices.newmonth1.astype('str')"
   ]
  },
  {
   "cell_type": "code",
   "execution_count": 70,
   "metadata": {
    "collapsed": false,
    "slideshow": {
     "slide_type": "skip"
    }
   },
   "outputs": [
    {
     "data": {
      "text/plain": [
       "nan01       448\n",
       "2007.002     30\n",
       "2008.007     29\n",
       "2009.003     27\n",
       "2008.008     27\n",
       "2008.005     27\n",
       "2007.011     27\n",
       "2007.001     26\n",
       "2007.008     26\n",
       "2011.001     24\n",
       "2011.004     24\n",
       "2007.003     24\n",
       "2008.010     24\n",
       "2009.004     23\n",
       "2010.007     23\n",
       "2011.003     22\n",
       "2009.006     22\n",
       "2007.006     22\n",
       "2009.011     21\n",
       "2006.010     21\n",
       "2006.007     20\n",
       "2010.006     20\n",
       "2009.010     20\n",
       "2011.006     20\n",
       "2009.001     20\n",
       "2009.009     19\n",
       "2008.004     19\n",
       "2008.011     19\n",
       "2006.008     19\n",
       "2010.010     19\n",
       "           ... \n",
       "2006.011     16\n",
       "2008.012     16\n",
       "2011.002     15\n",
       "2010.003     15\n",
       "2006.009     15\n",
       "2008.001     14\n",
       "2006.005     14\n",
       "2006.006     14\n",
       "2010.004     14\n",
       "2011.008     14\n",
       "2007.009     14\n",
       "2007.007     13\n",
       "2011.007     13\n",
       "2011.005     13\n",
       "2007.005     13\n",
       "2006.003     13\n",
       "2011.009     13\n",
       "2008.003     12\n",
       "2009.008     12\n",
       "2009.007     12\n",
       "2006.001     12\n",
       "2007.010     12\n",
       "2011.011     11\n",
       "2011.010     11\n",
       "2011.012     10\n",
       "2007.012     10\n",
       "2010.012      9\n",
       "2010.009      9\n",
       "2006.012      8\n",
       "2006.004      8\n",
       "Name: yrdx_plus_modx, dtype: int64"
      ]
     },
     "execution_count": 70,
     "metadata": {},
     "output_type": "execute_result"
    }
   ],
   "source": [
    "df_all_good_indices['yrdx_plus_modx'].value_counts()"
   ]
  },
  {
   "cell_type": "code",
   "execution_count": 31,
   "metadata": {
    "collapsed": false,
    "slideshow": {
     "slide_type": "skip"
    }
   },
   "outputs": [
    {
     "name": "stdout",
     "output_type": "stream",
     "text": [
      "857 857\n"
     ]
    }
   ],
   "source": [
    "goodtreatmentindices = d_t_c.keys()\n",
    "goodcontrolindices = d_t_c.values()\n",
    "print(len(goodtreatmentindices), len(goodcontrolindices))"
   ]
  },
  {
   "cell_type": "markdown",
   "metadata": {
    "slideshow": {
     "slide_type": "slide"
    }
   },
   "source": [
    "# Just including the prostate cancer patients now."
   ]
  },
  {
   "cell_type": "code",
   "execution_count": 32,
   "metadata": {
    "collapsed": false,
    "slideshow": {
     "slide_type": "skip"
    }
   },
   "outputs": [],
   "source": [
    "df_all_good_indices = df_all_good_indices.loc[list(goodcontrolindices) + list(goodtreatmentindices)]\n",
    "\n",
    "#df_all_good_indices[~prostate_filter].sum() # should be zero now"
   ]
  },
  {
   "cell_type": "code",
   "execution_count": 33,
   "metadata": {
    "collapsed": false,
    "slideshow": {
     "slide_type": "skip"
    }
   },
   "outputs": [
    {
     "ename": "ValueError",
     "evalue": "time data '2009nan' does not match format '%Y%m' (match)",
     "output_type": "error",
     "traceback": [
      "\u001b[1;31m---------------------------------------------------------------------------\u001b[0m",
      "\u001b[1;31mTypeError\u001b[0m                                 Traceback (most recent call last)",
      "\u001b[1;32mC:\\Users\\ddooling\\AppData\\Local\\Continuum\\Anaconda3\\lib\\site-packages\\pandas\\tseries\\tools.py\u001b[0m in \u001b[0;36m_convert_listlike\u001b[1;34m(arg, box, format, name)\u001b[0m\n\u001b[0;32m    398\u001b[0m             \u001b[1;32mtry\u001b[0m\u001b[1;33m:\u001b[0m\u001b[1;33m\u001b[0m\u001b[0m\n\u001b[1;32m--> 399\u001b[1;33m                 \u001b[0mvalues\u001b[0m\u001b[1;33m,\u001b[0m \u001b[0mtz\u001b[0m \u001b[1;33m=\u001b[0m \u001b[0mtslib\u001b[0m\u001b[1;33m.\u001b[0m\u001b[0mdatetime_to_datetime64\u001b[0m\u001b[1;33m(\u001b[0m\u001b[0marg\u001b[0m\u001b[1;33m)\u001b[0m\u001b[1;33m\u001b[0m\u001b[0m\n\u001b[0m\u001b[0;32m    400\u001b[0m                 \u001b[1;32mreturn\u001b[0m \u001b[0mDatetimeIndex\u001b[0m\u001b[1;33m.\u001b[0m\u001b[0m_simple_new\u001b[0m\u001b[1;33m(\u001b[0m\u001b[0mvalues\u001b[0m\u001b[1;33m,\u001b[0m \u001b[0mname\u001b[0m\u001b[1;33m=\u001b[0m\u001b[0mname\u001b[0m\u001b[1;33m,\u001b[0m \u001b[0mtz\u001b[0m\u001b[1;33m=\u001b[0m\u001b[0mtz\u001b[0m\u001b[1;33m)\u001b[0m\u001b[1;33m\u001b[0m\u001b[0m\n",
      "\u001b[1;32mpandas\\tslib.pyx\u001b[0m in \u001b[0;36mpandas.tslib.datetime_to_datetime64 (pandas\\tslib.c:29739)\u001b[1;34m()\u001b[0m\n",
      "\u001b[1;31mTypeError\u001b[0m: Unrecognized value type: <class 'str'>",
      "\nDuring handling of the above exception, another exception occurred:\n",
      "\u001b[1;31mValueError\u001b[0m                                Traceback (most recent call last)",
      "\u001b[1;32m<ipython-input-33-41df176c1515>\u001b[0m in \u001b[0;36m<module>\u001b[1;34m()\u001b[0m\n\u001b[0;32m      3\u001b[0m \u001b[1;33m\u001b[0m\u001b[0m\n\u001b[0;32m      4\u001b[0m df_all_good_indices['yrdx_plus_modx'] = pd.to_datetime(df_all_good_indices['yrdx_plus_modx'], \n\u001b[1;32m----> 5\u001b[1;33m                                                       format='%Y%m')\n\u001b[0m",
      "\u001b[1;32mC:\\Users\\ddooling\\AppData\\Local\\Continuum\\Anaconda3\\lib\\site-packages\\pandas\\util\\decorators.py\u001b[0m in \u001b[0;36mwrapper\u001b[1;34m(*args, **kwargs)\u001b[0m\n\u001b[0;32m     89\u001b[0m                 \u001b[1;32melse\u001b[0m\u001b[1;33m:\u001b[0m\u001b[1;33m\u001b[0m\u001b[0m\n\u001b[0;32m     90\u001b[0m                     \u001b[0mkwargs\u001b[0m\u001b[1;33m[\u001b[0m\u001b[0mnew_arg_name\u001b[0m\u001b[1;33m]\u001b[0m \u001b[1;33m=\u001b[0m \u001b[0mnew_arg_value\u001b[0m\u001b[1;33m\u001b[0m\u001b[0m\n\u001b[1;32m---> 91\u001b[1;33m             \u001b[1;32mreturn\u001b[0m \u001b[0mfunc\u001b[0m\u001b[1;33m(\u001b[0m\u001b[1;33m*\u001b[0m\u001b[0margs\u001b[0m\u001b[1;33m,\u001b[0m \u001b[1;33m**\u001b[0m\u001b[0mkwargs\u001b[0m\u001b[1;33m)\u001b[0m\u001b[1;33m\u001b[0m\u001b[0m\n\u001b[0m\u001b[0;32m     92\u001b[0m         \u001b[1;32mreturn\u001b[0m \u001b[0mwrapper\u001b[0m\u001b[1;33m\u001b[0m\u001b[0m\n\u001b[0;32m     93\u001b[0m     \u001b[1;32mreturn\u001b[0m \u001b[0m_deprecate_kwarg\u001b[0m\u001b[1;33m\u001b[0m\u001b[0m\n",
      "\u001b[1;32mC:\\Users\\ddooling\\AppData\\Local\\Continuum\\Anaconda3\\lib\\site-packages\\pandas\\tseries\\tools.py\u001b[0m in \u001b[0;36mto_datetime\u001b[1;34m(arg, errors, dayfirst, yearfirst, utc, box, format, exact, coerce, unit, infer_datetime_format)\u001b[0m\n\u001b[0;32m    285\u001b[0m                         \u001b[0myearfirst\u001b[0m\u001b[1;33m=\u001b[0m\u001b[0myearfirst\u001b[0m\u001b[1;33m,\u001b[0m\u001b[1;33m\u001b[0m\u001b[0m\n\u001b[0;32m    286\u001b[0m                         \u001b[0mutc\u001b[0m\u001b[1;33m=\u001b[0m\u001b[0mutc\u001b[0m\u001b[1;33m,\u001b[0m \u001b[0mbox\u001b[0m\u001b[1;33m=\u001b[0m\u001b[0mbox\u001b[0m\u001b[1;33m,\u001b[0m \u001b[0mformat\u001b[0m\u001b[1;33m=\u001b[0m\u001b[0mformat\u001b[0m\u001b[1;33m,\u001b[0m \u001b[0mexact\u001b[0m\u001b[1;33m=\u001b[0m\u001b[0mexact\u001b[0m\u001b[1;33m,\u001b[0m\u001b[1;33m\u001b[0m\u001b[0m\n\u001b[1;32m--> 287\u001b[1;33m                         unit=unit, infer_datetime_format=infer_datetime_format)\n\u001b[0m\u001b[0;32m    288\u001b[0m \u001b[1;33m\u001b[0m\u001b[0m\n\u001b[0;32m    289\u001b[0m \u001b[1;33m\u001b[0m\u001b[0m\n",
      "\u001b[1;32mC:\\Users\\ddooling\\AppData\\Local\\Continuum\\Anaconda3\\lib\\site-packages\\pandas\\tseries\\tools.py\u001b[0m in \u001b[0;36m_to_datetime\u001b[1;34m(arg, errors, dayfirst, yearfirst, utc, box, format, exact, unit, freq, infer_datetime_format)\u001b[0m\n\u001b[0;32m    407\u001b[0m         \u001b[1;32mreturn\u001b[0m \u001b[0marg\u001b[0m\u001b[1;33m\u001b[0m\u001b[0m\n\u001b[0;32m    408\u001b[0m     \u001b[1;32melif\u001b[0m \u001b[0misinstance\u001b[0m\u001b[1;33m(\u001b[0m\u001b[0marg\u001b[0m\u001b[1;33m,\u001b[0m \u001b[0mSeries\u001b[0m\u001b[1;33m)\u001b[0m\u001b[1;33m:\u001b[0m\u001b[1;33m\u001b[0m\u001b[0m\n\u001b[1;32m--> 409\u001b[1;33m         \u001b[0mvalues\u001b[0m \u001b[1;33m=\u001b[0m \u001b[0m_convert_listlike\u001b[0m\u001b[1;33m(\u001b[0m\u001b[0marg\u001b[0m\u001b[1;33m.\u001b[0m\u001b[0m_values\u001b[0m\u001b[1;33m,\u001b[0m \u001b[1;32mFalse\u001b[0m\u001b[1;33m,\u001b[0m \u001b[0mformat\u001b[0m\u001b[1;33m)\u001b[0m\u001b[1;33m\u001b[0m\u001b[0m\n\u001b[0m\u001b[0;32m    410\u001b[0m         \u001b[1;32mreturn\u001b[0m \u001b[0mSeries\u001b[0m\u001b[1;33m(\u001b[0m\u001b[0mvalues\u001b[0m\u001b[1;33m,\u001b[0m \u001b[0mindex\u001b[0m\u001b[1;33m=\u001b[0m\u001b[0marg\u001b[0m\u001b[1;33m.\u001b[0m\u001b[0mindex\u001b[0m\u001b[1;33m,\u001b[0m \u001b[0mname\u001b[0m\u001b[1;33m=\u001b[0m\u001b[0marg\u001b[0m\u001b[1;33m.\u001b[0m\u001b[0mname\u001b[0m\u001b[1;33m)\u001b[0m\u001b[1;33m\u001b[0m\u001b[0m\n\u001b[0;32m    411\u001b[0m     \u001b[1;32melif\u001b[0m \u001b[0misinstance\u001b[0m\u001b[1;33m(\u001b[0m\u001b[0marg\u001b[0m\u001b[1;33m,\u001b[0m \u001b[0mABCIndexClass\u001b[0m\u001b[1;33m)\u001b[0m\u001b[1;33m:\u001b[0m\u001b[1;33m\u001b[0m\u001b[0m\n",
      "\u001b[1;32mC:\\Users\\ddooling\\AppData\\Local\\Continuum\\Anaconda3\\lib\\site-packages\\pandas\\tseries\\tools.py\u001b[0m in \u001b[0;36m_convert_listlike\u001b[1;34m(arg, box, format, name)\u001b[0m\n\u001b[0;32m    400\u001b[0m                 \u001b[1;32mreturn\u001b[0m \u001b[0mDatetimeIndex\u001b[0m\u001b[1;33m.\u001b[0m\u001b[0m_simple_new\u001b[0m\u001b[1;33m(\u001b[0m\u001b[0mvalues\u001b[0m\u001b[1;33m,\u001b[0m \u001b[0mname\u001b[0m\u001b[1;33m=\u001b[0m\u001b[0mname\u001b[0m\u001b[1;33m,\u001b[0m \u001b[0mtz\u001b[0m\u001b[1;33m=\u001b[0m\u001b[0mtz\u001b[0m\u001b[1;33m)\u001b[0m\u001b[1;33m\u001b[0m\u001b[0m\n\u001b[0;32m    401\u001b[0m             \u001b[1;32mexcept\u001b[0m \u001b[1;33m(\u001b[0m\u001b[0mValueError\u001b[0m\u001b[1;33m,\u001b[0m \u001b[0mTypeError\u001b[0m\u001b[1;33m)\u001b[0m\u001b[1;33m:\u001b[0m\u001b[1;33m\u001b[0m\u001b[0m\n\u001b[1;32m--> 402\u001b[1;33m                 \u001b[1;32mraise\u001b[0m \u001b[0me\u001b[0m\u001b[1;33m\u001b[0m\u001b[0m\n\u001b[0m\u001b[0;32m    403\u001b[0m \u001b[1;33m\u001b[0m\u001b[0m\n\u001b[0;32m    404\u001b[0m     \u001b[1;32mif\u001b[0m \u001b[0marg\u001b[0m \u001b[1;32mis\u001b[0m \u001b[1;32mNone\u001b[0m\u001b[1;33m:\u001b[0m\u001b[1;33m\u001b[0m\u001b[0m\n",
      "\u001b[1;32mC:\\Users\\ddooling\\AppData\\Local\\Continuum\\Anaconda3\\lib\\site-packages\\pandas\\tseries\\tools.py\u001b[0m in \u001b[0;36m_convert_listlike\u001b[1;34m(arg, box, format, name)\u001b[0m\n\u001b[0;32m    363\u001b[0m                     \u001b[1;32mtry\u001b[0m\u001b[1;33m:\u001b[0m\u001b[1;33m\u001b[0m\u001b[0m\n\u001b[0;32m    364\u001b[0m                         result = tslib.array_strptime(\n\u001b[1;32m--> 365\u001b[1;33m                             arg, format, exact=exact, errors=errors)\n\u001b[0m\u001b[0;32m    366\u001b[0m                     \u001b[1;32mexcept\u001b[0m \u001b[0mtslib\u001b[0m\u001b[1;33m.\u001b[0m\u001b[0mOutOfBoundsDatetime\u001b[0m\u001b[1;33m:\u001b[0m\u001b[1;33m\u001b[0m\u001b[0m\n\u001b[0;32m    367\u001b[0m                         \u001b[1;32mif\u001b[0m \u001b[0merrors\u001b[0m \u001b[1;33m==\u001b[0m \u001b[1;34m'raise'\u001b[0m\u001b[1;33m:\u001b[0m\u001b[1;33m\u001b[0m\u001b[0m\n",
      "\u001b[1;32mpandas\\tslib.pyx\u001b[0m in \u001b[0;36mpandas.tslib.array_strptime (pandas\\tslib.c:55388)\u001b[1;34m()\u001b[0m\n",
      "\u001b[1;31mValueError\u001b[0m: time data '2009nan' does not match format '%Y%m' (match)"
     ]
    }
   ],
   "source": [
    "df_all_good_indices['yrdx_plus_modx'] = df_all_good_indices.yrdx1.astype('str') + df_all_good_indices.month1.astype('str')\n",
    "\n",
    "\n",
    "df_all_good_indices['yrdx_plus_modx'] = pd.to_datetime(df_all_good_indices['yrdx_plus_modx'], \n",
    "                                                      format='%Y%m')"
   ]
  },
  {
   "cell_type": "code",
   "execution_count": null,
   "metadata": {
    "collapsed": true,
    "slideshow": {
     "slide_type": "skip"
    }
   },
   "outputs": [],
   "source": [
    "dh = dh.loc[df_all_good_indices.index]\n",
    "\n",
    "dh['yrdx_plus_modx'] = df_all_good_indices['yrdx_plus_modx']\n",
    "dh['site1'] = df_all_good_indices['site1']"
   ]
  },
  {
   "cell_type": "code",
   "execution_count": null,
   "metadata": {
    "collapsed": true,
    "slideshow": {
     "slide_type": "skip"
    }
   },
   "outputs": [],
   "source": [
    "dh['medpar_admission_date_new'] = dh.medpar_admission_date.astype('str').str.replace('\\.0','')\n",
    "dh['medpar_admission_date_new'] = dh.medpar_admission_date_new.str.rjust(8,'0')"
   ]
  },
  {
   "cell_type": "code",
   "execution_count": null,
   "metadata": {
    "collapsed": false,
    "slideshow": {
     "slide_type": "skip"
    }
   },
   "outputs": [],
   "source": [
    "dh = dh[~dh['medpar_admission_date_new'].str.contains('nan',case=False)]\n",
    "dh.shape"
   ]
  },
  {
   "cell_type": "code",
   "execution_count": null,
   "metadata": {
    "collapsed": true,
    "slideshow": {
     "slide_type": "skip"
    }
   },
   "outputs": [],
   "source": [
    "dh['medpar_admission_date_new'] = pd.to_datetime(dh['medpar_admission_date_new'], \n",
    "                                                      format='%m%d%Y').copy()"
   ]
  },
  {
   "cell_type": "code",
   "execution_count": null,
   "metadata": {
    "collapsed": false,
    "slideshow": {
     "slide_type": "skip"
    }
   },
   "outputs": [],
   "source": [
    "dh = dh[(dh.medpar_admission_date_new >= dh.yrdx_plus_modx)]\n",
    "dh.shape"
   ]
  },
  {
   "cell_type": "markdown",
   "metadata": {
    "slideshow": {
     "slide_type": "slide"
    }
   },
   "source": [
    "# <font color=\"#E56717\">There are up to 25 + 1 different icd-9-cm dx codes associated with each claim</font>\n",
    "\n",
    "<span style=\"font-size:1.5em;\">The most common icd9 dx codes in the medpar claims: (raw counts)</span>"
   ]
  },
  {
   "cell_type": "code",
   "execution_count": null,
   "metadata": {
    "collapsed": true,
    "slideshow": {
     "slide_type": "skip"
    }
   },
   "outputs": [],
   "source": [
    "control_code_1 = dh['dgn_cd1_description'].loc[goodcontrolindices].value_counts()\n",
    "treatment_code_1 = dh['dgn_cd1_description'].loc[goodtreatmentindices].value_counts()\n",
    "\n",
    "control_code_2 = dh['dgn_cd2_description'].loc[goodcontrolindices].value_counts()\n",
    "treatment_code_2 = dh['dgn_cd2_description'].loc[goodtreatmentindices].value_counts()\n",
    "\n",
    "control_code_3 = dh['dgn_cd3_description'].loc[goodcontrolindices].value_counts()\n",
    "treatment_code_3 = dh['dgn_cd3_description'].loc[goodtreatmentindices].value_counts()\n",
    "\n",
    "control_code_4 = dh['dgn_cd4_description'].loc[goodcontrolindices].value_counts()\n",
    "treatment_code_4 = dh['dgn_cd4_description'].loc[goodtreatmentindices].value_counts()\n",
    "\n",
    "\n",
    "control_code_5 = dh['dgn_cd5_description'].loc[goodcontrolindices].value_counts()\n",
    "treatment_code_5 = dh['dgn_cd5_description'].loc[goodtreatmentindices].value_counts()\n",
    "\n",
    "\n",
    "control_code_6 = dh['dgn_cd6_description'].loc[goodcontrolindices].value_counts()\n",
    "treatment_code_6 = dh['dgn_cd6_description'].loc[goodtreatmentindices].value_counts()\n",
    "\n",
    "\n",
    "control_code_7 = dh['dgn_cd7_description'].loc[goodcontrolindices].value_counts()\n",
    "treatment_code_7 = dh['dgn_cd7_description'].loc[goodtreatmentindices].value_counts()\n",
    "\n",
    "\n",
    "control_code_8 = dh['dgn_cd8_description'].loc[goodcontrolindices].value_counts()\n",
    "treatment_code_8 = dh['dgn_cd8_description'].loc[goodtreatmentindices].value_counts()\n",
    "\n",
    "\n",
    "\n",
    "control_code_9 = dh['dgn_cd9_description'].loc[goodcontrolindices].value_counts()\n",
    "treatment_code_9 = dh['dgn_cd9_description'].loc[goodtreatmentindices].value_counts()\n",
    "\n",
    "\n",
    "control_code_10 = dh['dgn_cd10_description'].loc[goodcontrolindices].value_counts()\n",
    "treatment_code_10 = dh['dgn_cd10_description'].loc[goodtreatmentindices].value_counts()\n",
    "\n",
    "##################################################################################################\n",
    "\n",
    "control_code_11 = dh['dgn_cd11_description'].loc[goodcontrolindices].value_counts()\n",
    "treatment_code_11 = dh['dgn_cd11_description'].loc[goodtreatmentindices].value_counts()\n",
    "\n",
    "control_code_12 = dh['dgn_cd12_description'].loc[goodcontrolindices].value_counts()\n",
    "treatment_code_12 = dh['dgn_cd12_description'].loc[goodtreatmentindices].value_counts()\n",
    "\n",
    "control_code_13 = dh['dgn_cd13_description'].loc[goodcontrolindices].value_counts()\n",
    "treatment_code_13 = dh['dgn_cd13_description'].loc[goodtreatmentindices].value_counts()\n",
    "\n",
    "control_code_14 = dh['dgn_cd14_description'].loc[goodcontrolindices].value_counts()\n",
    "treatment_code_14 = dh['dgn_cd14_description'].loc[goodtreatmentindices].value_counts()\n",
    "\n",
    "\n",
    "control_code_15 = dh['dgn_cd15_description'].loc[goodcontrolindices].value_counts()\n",
    "treatment_code_15 = dh['dgn_cd15_description'].loc[goodtreatmentindices].value_counts()\n",
    "\n",
    "\n",
    "control_code_16 = dh['dgn_cd16_description'].loc[goodcontrolindices].value_counts()\n",
    "treatment_code_16 = dh['dgn_cd16_description'].loc[goodtreatmentindices].value_counts()\n",
    "\n",
    "\n",
    "control_code_17 = dh['dgn_cd17_description'].loc[goodcontrolindices].value_counts()\n",
    "treatment_code_17 = dh['dgn_cd17_description'].loc[goodtreatmentindices].value_counts()\n",
    "\n",
    "\n",
    "control_code_18 = dh['dgn_cd18_description'].loc[goodcontrolindices].value_counts()\n",
    "treatment_code_18 = dh['dgn_cd18_description'].loc[goodtreatmentindices].value_counts()\n",
    "\n",
    "\n",
    "\n",
    "control_code_19 = dh['dgn_cd19_description'].loc[goodcontrolindices].value_counts()\n",
    "treatment_code_19 = dh['dgn_cd19_description'].loc[goodtreatmentindices].value_counts()\n",
    "\n",
    "\n",
    "control_code_20 = dh['dgn_cd20_description'].loc[goodcontrolindices].value_counts()\n",
    "treatment_code_20 = dh['dgn_cd20_description'].loc[goodtreatmentindices].value_counts()\n",
    "\n",
    "\n",
    "control_code_21 = dh['dgn_cd21_description'].loc[goodcontrolindices].value_counts()\n",
    "treatment_code_21 = dh['dgn_cd21_description'].loc[goodtreatmentindices].value_counts()\n",
    "\n",
    "control_code_22 = dh['dgn_cd22_description'].loc[goodcontrolindices].value_counts()\n",
    "treatment_code_22 = dh['dgn_cd22_description'].loc[goodtreatmentindices].value_counts()\n",
    "\n",
    "\n",
    "\n",
    "control_code_23 = dh['dgn_cd23_description'].loc[goodcontrolindices].value_counts()\n",
    "treatment_code_23 = dh['dgn_cd23_description'].loc[goodtreatmentindices].value_counts()\n",
    "\n",
    "\n",
    "control_code_24 = dh['dgn_cd24_description'].loc[goodcontrolindices].value_counts()\n",
    "treatment_code_24 = dh['dgn_cd24_description'].loc[goodtreatmentindices].value_counts()\n",
    "\n",
    "\n",
    "control_code_25 = dh['dgn_cd25_description'].loc[goodcontrolindices].value_counts()\n",
    "treatment_code_25 = dh['dgn_cd25_description'].loc[goodtreatmentindices].value_counts()\n",
    "\n",
    "\n",
    "control_code_admdxcde = dh['admdxcde_description'].loc[goodcontrolindices].value_counts()\n",
    "treatment_code_admdxcde = dh['admdxcde_description'].loc[goodtreatmentindices].value_counts()\n",
    "\n",
    "\n",
    "\n",
    "\n",
    "\n",
    "\n",
    "\n",
    "\n"
   ]
  },
  {
   "cell_type": "code",
   "execution_count": null,
   "metadata": {
    "collapsed": false,
    "slideshow": {
     "slide_type": "skip"
    }
   },
   "outputs": [],
   "source": [
    "dfkodes = pd.DataFrame({'control_code_1': control_code_1,\n",
    "                        'control_code_2': control_code_2,\n",
    "                        'control_code_3': control_code_3,\n",
    "                        'control_code_4': control_code_4,\n",
    "                        'control_code_5': control_code_5,\n",
    "                        'control_code_6': control_code_6,\n",
    "                        'control_code_7': control_code_7,\n",
    "                        'control_code_8': control_code_8,\n",
    "                        'control_code_9': control_code_9,\n",
    "                        'control_code_10': control_code_10,\n",
    "                        'treatment_code_1': treatment_code_1,\n",
    "                        'treatment_code_2': treatment_code_2,\n",
    "                        'treatment_code_3': treatment_code_3,\n",
    "                        'treatment_code_4': treatment_code_4,\n",
    "                        'treatment_code_5': treatment_code_5,\n",
    "                        'treatment_code_6': treatment_code_6,\n",
    "                        'treatment_code_7': treatment_code_7,\n",
    "                        'treatment_code_8': treatment_code_8,\n",
    "                        'treatment_code_9': treatment_code_9,\n",
    "                        'treatment_code_10': treatment_code_10,\n",
    "                        'control_code_11': control_code_11,\n",
    "                        'control_code_12': control_code_12,\n",
    "                        'control_code_13': control_code_13,\n",
    "                        'control_code_14': control_code_14,\n",
    "                        'control_code_15': control_code_15,\n",
    "                        'control_code_16': control_code_16,\n",
    "                        'control_code_17': control_code_17,\n",
    "                        'control_code_18': control_code_18,\n",
    "                        'control_code_19': control_code_19,\n",
    "                        'control_code_20': control_code_20,\n",
    "                        'treatment_code_11': treatment_code_11,\n",
    "                        'treatment_code_12': treatment_code_12,\n",
    "                        'treatment_code_13': treatment_code_13,\n",
    "                        'treatment_code_14': treatment_code_14,\n",
    "                        'treatment_code_15': treatment_code_15,\n",
    "                        'treatment_code_16': treatment_code_16,\n",
    "                        'treatment_code_17': treatment_code_17,\n",
    "                        'treatment_code_18': treatment_code_18,\n",
    "                        'treatment_code_19': treatment_code_19,\n",
    "                        'treatment_code_20': treatment_code_20,\n",
    "                        'control_code_21': control_code_21,\n",
    "                        'control_code_22': control_code_22,\n",
    "                        'control_code_23': control_code_23,\n",
    "                        'control_code_24': control_code_24,\n",
    "                        'control_code_25': control_code_25,\n",
    "                         'treatment_code_21': treatment_code_21,\n",
    "                        'treatment_code_22': treatment_code_22,\n",
    "                        'treatment_code_23': treatment_code_23,\n",
    "                        'treatment_code_24': treatment_code_24,\n",
    "                        'treatment_code_25': treatment_code_25,\n",
    "                        'control_code_admdxcde': control_code_admdxcde,\n",
    "                        'treatment_code_admdxcde': treatment_code_admdxcde\n",
    "                       })"
   ]
  },
  {
   "cell_type": "code",
   "execution_count": null,
   "metadata": {
    "collapsed": true,
    "slideshow": {
     "slide_type": "skip"
    }
   },
   "outputs": [],
   "source": [
    "dfkodes['control_code'] = dfkodes[['control_code_1',\n",
    "                                  'control_code_2',\n",
    "                                  'control_code_3',\n",
    "                                  'control_code_4',\n",
    "                                  'control_code_5',\n",
    "                                  'control_code_6',\n",
    "                                  'control_code_7',\n",
    "                                  'control_code_8',\n",
    "                                  'control_code_9',\n",
    "                                  'control_code_10',\n",
    "                                   'control_code_11',\n",
    "                                  'control_code_12',\n",
    "                                  'control_code_13',\n",
    "                                  'control_code_14',\n",
    "                                  'control_code_15',\n",
    "                                  'control_code_16',\n",
    "                                  'control_code_17',\n",
    "                                  'control_code_18',\n",
    "                                  'control_code_19',\n",
    "                                  'control_code_20',\n",
    "                                    'control_code_21',\n",
    "                                  'control_code_22',\n",
    "                                  'control_code_23',\n",
    "                                  'control_code_24',\n",
    "                                  'control_code_25',\n",
    "                                   'control_code_admdxcde'\n",
    "                                  ]].sum(axis=1)"
   ]
  },
  {
   "cell_type": "code",
   "execution_count": null,
   "metadata": {
    "collapsed": true,
    "slideshow": {
     "slide_type": "skip"
    }
   },
   "outputs": [],
   "source": [
    "dfkodes['treatment_code'] = dfkodes[['treatment_code_1',\n",
    "                                  'treatment_code_2',\n",
    "                                  'treatment_code_3',\n",
    "                                  'treatment_code_4',\n",
    "                                  'treatment_code_5',\n",
    "                                  'treatment_code_6',\n",
    "                                  'treatment_code_7',\n",
    "                                  'treatment_code_8',\n",
    "                                  'treatment_code_9',\n",
    "                                  'treatment_code_10',\n",
    "                                   'treatment_code_11',\n",
    "                                  'treatment_code_12',\n",
    "                                  'treatment_code_13',\n",
    "                                  'treatment_code_14',\n",
    "                                  'treatment_code_15',\n",
    "                                  'treatment_code_16',\n",
    "                                  'treatment_code_17',\n",
    "                                  'treatment_code_18',\n",
    "                                  'treatment_code_19',\n",
    "                                  'treatment_code_20',\n",
    "                                    'treatment_code_21',\n",
    "                                  'treatment_code_22',\n",
    "                                  'treatment_code_23',\n",
    "                                  'treatment_code_24',\n",
    "                                  'treatment_code_25',\n",
    "                                   'treatment_code_admdxcde'\n",
    "                                  ]].sum(axis=1)"
   ]
  },
  {
   "cell_type": "code",
   "execution_count": null,
   "metadata": {
    "collapsed": true,
    "slideshow": {
     "slide_type": "skip"
    }
   },
   "outputs": [],
   "source": [
    "dfkodes['difference'] = np.abs(dfkodes.control_code - dfkodes.treatment_code)\n",
    "dfkodes['together'] = dfkodes.control_code + dfkodes.treatment_code\n",
    "dfkodes = dfkodes.sort_values(['together','difference'],ascending=False)"
   ]
  },
  {
   "cell_type": "code",
   "execution_count": null,
   "metadata": {
    "collapsed": false,
    "slideshow": {
     "slide_type": "slide"
    }
   },
   "outputs": [],
   "source": [
    "dfkodes[['control_code','treatment_code']].iloc[1:15][::-1].plot(kind='barh',\n",
    "                title=\"Diagnosis codes top values in MedPAR claims\");"
   ]
  },
  {
   "cell_type": "code",
   "execution_count": null,
   "metadata": {
    "collapsed": false,
    "slideshow": {
     "slide_type": "slide"
    }
   },
   "outputs": [],
   "source": [
    "dfkodes[['control_code','treatment_code']].iloc[15:30][::-1].plot(kind='barh',\n",
    "                title=\"Diagnosis codes top values in MedPAR claims\");"
   ]
  },
  {
   "cell_type": "code",
   "execution_count": null,
   "metadata": {
    "collapsed": false
   },
   "outputs": [],
   "source": [
    "dfkodes[['control_code','treatment_code']].iloc[30:45][::-1].plot(kind='barh',\n",
    "                title=\"Diagnosis codes top values in MedPAR claims\");"
   ]
  },
  {
   "cell_type": "code",
   "execution_count": null,
   "metadata": {
    "collapsed": false,
    "slideshow": {
     "slide_type": "skip"
    }
   },
   "outputs": [],
   "source": [
    "searchcols = list(dh.columns)[54:79]\n",
    "searchcols.append(dh.columns[104])\n",
    "searchcols"
   ]
  },
  {
   "cell_type": "code",
   "execution_count": null,
   "metadata": {
    "collapsed": false,
    "slideshow": {
     "slide_type": "skip"
    }
   },
   "outputs": [],
   "source": [
    "dfkodes['control_code'][dfkodes['control_code'].index.str.contains('atrial',case=False,na=False)]"
   ]
  },
  {
   "cell_type": "markdown",
   "metadata": {
    "slideshow": {
     "slide_type": "slide"
    }
   },
   "source": [
    "# <font color=\"#E56717\">Determine the relative likelihood of experiencing certain complications, and whether or not any observed differences are statistically significant</font>\n",
    "\n",
    "<span style=\"font-size:1.5em;\">For each matched - pair, get an indicator variable for whether or not they had a claim in the medpar file with the particular code of interest anywhere in the potentially 25 + 1 icd9 dx columns. It doesn't matter if it appears in more than one claim: either a 1 or 0.</span>"
   ]
  },
  {
   "cell_type": "code",
   "execution_count": null,
   "metadata": {
    "collapsed": true,
    "slideshow": {
     "slide_type": "skip"
    }
   },
   "outputs": [],
   "source": [
    "def make_filter(pid, df, condition):\n",
    "    \"\"\"pid is a patient_id, df is a dataframe, and condition\n",
    "    is the string. Returns a boolean of whether or not any of the \n",
    "    columns searchcols in df.loc[pid] as strings contain condition.\"\"\"\n",
    "    \n",
    "    if pid not in df.index:\n",
    "        check_dict = dict()\n",
    "        check_dict[pid] = 0\n",
    "        return check_dict\n",
    "    \n",
    "    dh = df.loc[pid].copy()\n",
    "    \n",
    "    if type(dh) == pd.core.series.Series:\n",
    "        dh = pd.DataFrame(dh).transpose().copy()\n",
    "        \n",
    "    \n",
    "    f0 = dh[searchcols[0]].str.contains(condition,case=False,na=False)\n",
    "    f1 = dh[searchcols[1]].str.contains(condition,case=False,na=False)\n",
    "    f2 = dh[searchcols[2]].str.contains(condition,case=False,na=False)\n",
    "    f3 = dh[searchcols[3]].str.contains(condition,case=False,na=False)\n",
    "    f4 = dh[searchcols[4]].str.contains(condition,case=False,na=False)\n",
    "    f5 = dh[searchcols[5]].str.contains(condition,case=False,na=False)\n",
    "    f6 = dh[searchcols[6]].str.contains(condition,case=False,na=False)\n",
    "    f7 = dh[searchcols[7]].str.contains(condition,case=False,na=False)\n",
    "    f8 = dh[searchcols[8]].str.contains(condition,case=False,na=False)\n",
    "    f9 = dh[searchcols[9]].str.contains(condition,case=False,na=False)\n",
    "    f10 = dh[searchcols[10]].str.contains(condition,case=False,na=False)\n",
    "    f11 = dh[searchcols[11]].str.contains(condition,case=False,na=False)\n",
    "    f12 = dh[searchcols[12]].str.contains(condition,case=False,na=False)\n",
    "    f13 = dh[searchcols[13]].str.contains(condition,case=False,na=False)\n",
    "    f14 = dh[searchcols[14]].str.contains(condition,case=False,na=False)\n",
    "    f15 = dh[searchcols[15]].str.contains(condition,case=False,na=False)\n",
    "    f16 = dh[searchcols[16]].str.contains(condition,case=False,na=False)\n",
    "    f17 = dh[searchcols[17]].str.contains(condition,case=False,na=False)\n",
    "    f18 = dh[searchcols[18]].str.contains(condition,case=False,na=False)\n",
    "    f19 = dh[searchcols[19]].str.contains(condition,case=False,na=False)\n",
    "    f20 = dh[searchcols[20]].str.contains(condition,case=False,na=False)\n",
    "    f21 = dh[searchcols[21]].str.contains(condition,case=False,na=False)\n",
    "    f22 = dh[searchcols[22]].str.contains(condition,case=False,na=False)\n",
    "    f23 = dh[searchcols[23]].str.contains(condition,case=False,na=False)\n",
    "    f24 = dh[searchcols[24]].str.contains(condition,case=False,na=False)\n",
    "    f25 = dh[searchcols[25]].str.contains(condition,case=False,na=False)\n",
    "    \n",
    "    bigcheck = f1 | f2 | f3 | f4 | f5 | f6 | f7 | f8 | f9 | f10 | \\\n",
    "               f11 | f12 | f13 | f14 | f15 | f16 | f17 | f18 | f19 | \\\n",
    "              f20 | f21 | f22 | f23 | f24 | f25\n",
    "            \n",
    "    check_dict = dict()\n",
    "    #print(bigcheck.astype('int'))\n",
    "    #print(type(bigcheck))\n",
    "    check_dict[pid] = bigcheck.astype('int').max()\n",
    "    #print(check_dict)\n",
    "    return check_dict"
   ]
  },
  {
   "cell_type": "code",
   "execution_count": null,
   "metadata": {
    "collapsed": true,
    "slideshow": {
     "slide_type": "skip"
    }
   },
   "outputs": [],
   "source": [
    "from collections import OrderedDict\n",
    "chronickidneycontrol = OrderedDict()\n",
    "\n",
    "for i in range(len(list(goodcontrolindices))):\n",
    "    little_guy = make_filter(list(goodcontrolindices)[i], dh[searchcols], 'neoplasm of bone')\n",
    "    chronickidneycontrol[list(goodcontrolindices)[i]] = little_guy[list(goodcontrolindices)[i]]\n"
   ]
  },
  {
   "cell_type": "code",
   "execution_count": null,
   "metadata": {
    "collapsed": true,
    "slideshow": {
     "slide_type": "skip"
    }
   },
   "outputs": [],
   "source": [
    "from collections import OrderedDict\n",
    "chronickidneytreatment = OrderedDict()\n",
    "\n",
    "for i in range(len(list(goodtreatmentindices))):\n",
    "    little_guy = make_filter(list(goodtreatmentindices)[i], dh[searchcols], 'neoplasm of bone')\n",
    "    chronickidneytreatment[list(goodtreatmentindices)[i]] = little_guy[list(goodtreatmentindices)[i]]"
   ]
  },
  {
   "cell_type": "code",
   "execution_count": null,
   "metadata": {
    "collapsed": true,
    "slideshow": {
     "slide_type": "skip"
    }
   },
   "outputs": [],
   "source": [
    "\n",
    "q = list(chronickidneycontrol.items())\n",
    "\n",
    "controlchronickidneyvals = [q[p][1] for p in range(len(list(chronickidneycontrol.items())))]\n",
    "\n",
    "controlchronickidneyindex = [q[p][0] for p in range(len(list(chronickidneycontrol.items())))]"
   ]
  },
  {
   "cell_type": "code",
   "execution_count": null,
   "metadata": {
    "collapsed": true,
    "slideshow": {
     "slide_type": "skip"
    }
   },
   "outputs": [],
   "source": [
    "q = list(chronickidneytreatment.items())\n",
    "\n",
    "treatmentchronickidneyvals = [q[p][1] for p in range(len(list(chronickidneytreatment.items())))]\n",
    "\n",
    "treatmentchronickidneyindex = [q[p][0] for p in range(len(list(chronickidneytreatment.items())))]"
   ]
  },
  {
   "cell_type": "code",
   "execution_count": null,
   "metadata": {
    "collapsed": false,
    "slideshow": {
     "slide_type": "skip"
    }
   },
   "outputs": [],
   "source": [
    "dfchronickidney = pd.DataFrame({'control_vals': controlchronickidneyvals,\n",
    "                               'control_ids': controlchronickidneyindex,\n",
    "                               'treatment_vals': treatmentchronickidneyvals,\n",
    "                               'treatment_ids': treatmentchronickidneyindex})"
   ]
  },
  {
   "cell_type": "markdown",
   "metadata": {
    "slideshow": {
     "slide_type": "slide"
    }
   },
   "source": [
    "# <font color=\"#E56717\">Computed an indicator variable for whether or not a given patient had any dx code in the MedPAR file with \"neoplasm of bone\" as part of the description; collapsed some codes together</font>"
   ]
  },
  {
   "cell_type": "code",
   "execution_count": null,
   "metadata": {
    "collapsed": false,
    "slideshow": {
     "slide_type": "slide"
    }
   },
   "outputs": [],
   "source": [
    "dfchronickidney.describe()"
   ]
  },
  {
   "cell_type": "code",
   "execution_count": null,
   "metadata": {
    "collapsed": false,
    "slideshow": {
     "slide_type": "slide"
    }
   },
   "outputs": [],
   "source": [
    "from scipy.stats import ranksums, wilcoxon\n",
    "\n",
    "t, p = wilcoxon(dfchronickidney.control_vals.as_matrix(),\n",
    "               dfchronickidney.treatment_vals.as_matrix())\n",
    "\n",
    "print(t,p)"
   ]
  },
  {
   "cell_type": "markdown",
   "metadata": {
    "slideshow": {
     "slide_type": "slide"
    }
   },
   "source": [
    "# <font color=\"#E56717\">Also test for signficance of the difference in the probability of a \"secondary malignant neoplasm of bone and bone marrow\" icd9-dx code in a hospital stay using Bayesian A/B testing</font>"
   ]
  },
  {
   "cell_type": "code",
   "execution_count": null,
   "metadata": {
    "collapsed": false,
    "slideshow": {
     "slide_type": "fragment"
    }
   },
   "outputs": [],
   "source": [
    "probcontrol = dfchronickidney.control_vals.sum()/913\n",
    "probtreatment = dfchronickidney.treatment_vals.sum()/913\n",
    "print(probcontrol,probtreatment)\n"
   ]
  },
  {
   "cell_type": "code",
   "execution_count": null,
   "metadata": {
    "collapsed": true,
    "slideshow": {
     "slide_type": "skip"
    }
   },
   "outputs": [],
   "source": [
    "controltotal = 854\n",
    "treatmenttotal = 854\n",
    "controluninsured = dfchronickidney.control_vals.sum()\n",
    "treatmentuninsured = dfchronickidney.treatment_vals.sum()"
   ]
  },
  {
   "cell_type": "code",
   "execution_count": null,
   "metadata": {
    "collapsed": false,
    "slideshow": {
     "slide_type": "slide"
    }
   },
   "outputs": [],
   "source": [
    "TREATMENT_UNINSURED = treatmentuninsured\n",
    "CONTROL_UNINSURED = controluninsured\n",
    "TREATMENT_TOTAL = treatmenttotal\n",
    "CONTROL_TOTAL = controltotal\n",
    "from scipy.stats import beta\n",
    "alpha_prior = 1\n",
    "beta_prior = 1\n",
    "posterior_treatment = beta(alpha_prior + TREATMENT_UNINSURED, beta_prior + TREATMENT_TOTAL - TREATMENT_UNINSURED)\n",
    "posterior_control = beta(alpha_prior + CONTROL_UNINSURED, beta_prior + CONTROL_TOTAL - CONTROL_UNINSURED)\n",
    "samples = 2000000\n",
    "samples_posterior_treatment = posterior_treatment.rvs(samples)\n",
    "samples_posterior_control = posterior_control.rvs(samples)\n",
    "(samples_posterior_treatment > samples_posterior_control).mean()"
   ]
  },
  {
   "cell_type": "code",
   "execution_count": null,
   "metadata": {
    "collapsed": false,
    "slideshow": {
     "slide_type": "slide"
    }
   },
   "outputs": [],
   "source": [
    "x = np.linspace(0,1, 50000)\n",
    "plt.plot(x, posterior_treatment.pdf(x), label='posterior of treatment')\n",
    "plt.plot(x, posterior_control.pdf(x), label='posterior of control');\n",
    "plt.xlabel('Value')\n",
    "plt.ylabel('Density')\n",
    "plt.title(\"\"\"Posterior distributions of the treatment and control\n",
    "cancer patients\\n probablities of being hospitalized\\n for a bone neoplasm problem\"\"\")\n",
    "plt.legend();\n",
    "plt.xlim(0,.2)"
   ]
  },
  {
   "cell_type": "markdown",
   "metadata": {
    "collapsed": true,
    "slideshow": {
     "slide_type": "slide"
    }
   },
   "source": [
    "# Turn all the above into a function"
   ]
  },
  {
   "cell_type": "code",
   "execution_count": null,
   "metadata": {
    "collapsed": false,
    "slideshow": {
     "slide_type": "skip"
    }
   },
   "outputs": [],
   "source": [
    "def make_cf(some_text):\n",
    "    chronickidneycontrol = OrderedDict()\n",
    "    for i in range(len(list(goodcontrolindices))):\n",
    "        little_guy = make_filter(list(goodcontrolindices)[i], dh[searchcols], some_text)\n",
    "        chronickidneycontrol[list(goodcontrolindices)[i]] = little_guy[list(goodcontrolindices)[i]]\n",
    "    chronickidneytreatment = OrderedDict()\n",
    "    for i in range(len(list(goodtreatmentindices))):\n",
    "        little_guy = make_filter(list(goodtreatmentindices)[i], dh[searchcols], some_text)\n",
    "        chronickidneytreatment[list(goodtreatmentindices)[i]] = little_guy[list(goodtreatmentindices)[i]]\n",
    "    q = list(chronickidneycontrol.items())\n",
    "    controlchronickidneyvals = [q[p][1] for p in range(len(list(chronickidneycontrol.items())))]\n",
    "    controlchronickidneyindex = [q[p][0] for p in range(len(list(chronickidneycontrol.items())))]\n",
    "    q = list(chronickidneytreatment.items())\n",
    "    treatmentchronickidneyvals = [q[p][1] for p in range(len(list(chronickidneytreatment.items())))]\n",
    "    treatmentchronickidneyindex = [q[p][0] for p in range(len(list(chronickidneytreatment.items())))]\n",
    "    dfchronickidney = pd.DataFrame({'control_vals': controlchronickidneyvals,\n",
    "                               'control_ids': controlchronickidneyindex,\n",
    "                               'treatment_vals': treatmentchronickidneyvals,\n",
    "                               'treatment_ids': treatmentchronickidneyindex})\n",
    "    t, p = wilcoxon(dfchronickidney.control_vals.as_matrix(),\n",
    "               dfchronickidney.treatment_vals.as_matrix())\n",
    "    probcontrol = dfchronickidney.control_vals.sum()/913\n",
    "    probtreatment = dfchronickidney.treatment_vals.sum()/913\n",
    "    print(\"control prob:\" ,probcontrol,\"treatment prob:\", probtreatment)\n",
    "    print(\"p-value from wilcoxon test:\", p)\n",
    "    controltotal = 854\n",
    "    treatmenttotal = 854\n",
    "    controluninsured = dfchronickidney.control_vals.sum()\n",
    "    treatmentuninsured = dfchronickidney.treatment_vals.sum()\n",
    "    TREATMENT_UNINSURED = treatmentuninsured\n",
    "    CONTROL_UNINSURED = controluninsured\n",
    "    TREATMENT_TOTAL = treatmenttotal\n",
    "    CONTROL_TOTAL = controltotal\n",
    "    from scipy.stats import beta\n",
    "    alpha_prior = 1\n",
    "    beta_prior = 1\n",
    "    posterior_treatment = beta(alpha_prior + TREATMENT_UNINSURED, beta_prior + TREATMENT_TOTAL - TREATMENT_UNINSURED)\n",
    "    posterior_control = beta(alpha_prior + CONTROL_UNINSURED, beta_prior + CONTROL_TOTAL - CONTROL_UNINSURED)\n",
    "    samples = 2000000\n",
    "    samples_posterior_treatment = posterior_treatment.rvs(samples)\n",
    "    samples_posterior_control = posterior_control.rvs(samples)\n",
    "    abtest = (samples_posterior_treatment > samples_posterior_control).mean()\n",
    "    print(\"abtest sampling result of treatment > control:\", abtest)\n",
    "    \n",
    "    x = np.linspace(0,1, 50000)\n",
    "    plt.plot(x, posterior_treatment.pdf(x), label='posterior of treatment')\n",
    "    plt.plot(x, posterior_control.pdf(x), label='posterior of control');\n",
    "    plt.xlabel('Value')\n",
    "    plt.ylabel('Density')\n",
    "    atitle = \"probabilties for being hospitalized for a \" + some_text + \" problem\"\n",
    "    plt.title(atitle)\n",
    "    plt.legend();\n",
    "    plt.xlim(0,.3)"
   ]
  },
  {
   "cell_type": "code",
   "execution_count": null,
   "metadata": {
    "collapsed": false,
    "slideshow": {
     "slide_type": "slide"
    }
   },
   "outputs": [],
   "source": [
    "make_cf('neoplasm of bone')"
   ]
  },
  {
   "cell_type": "code",
   "execution_count": null,
   "metadata": {
    "collapsed": false,
    "slideshow": {
     "slide_type": "slide"
    }
   },
   "outputs": [],
   "source": [
    "make_cf('kidney failure')"
   ]
  },
  {
   "cell_type": "code",
   "execution_count": null,
   "metadata": {
    "collapsed": false,
    "slideshow": {
     "slide_type": "slide"
    }
   },
   "outputs": [],
   "source": [
    "make_cf('airway obstruction')"
   ]
  },
  {
   "cell_type": "code",
   "execution_count": null,
   "metadata": {
    "collapsed": false,
    "slideshow": {
     "slide_type": "slide"
    }
   },
   "outputs": [],
   "source": [
    "make_cf('anemia')"
   ]
  },
  {
   "cell_type": "code",
   "execution_count": null,
   "metadata": {
    "collapsed": false,
    "slideshow": {
     "slide_type": "slide"
    }
   },
   "outputs": [],
   "source": [
    "make_cf('urinary tract infection')"
   ]
  },
  {
   "cell_type": "code",
   "execution_count": null,
   "metadata": {
    "collapsed": false,
    "slideshow": {
     "slide_type": "slide"
    }
   },
   "outputs": [],
   "source": [
    "make_cf('syncope')"
   ]
  },
  {
   "cell_type": "code",
   "execution_count": null,
   "metadata": {
    "collapsed": false,
    "slideshow": {
     "slide_type": "slide"
    }
   },
   "outputs": [],
   "source": [
    "make_cf('hypopotassemia')"
   ]
  },
  {
   "cell_type": "code",
   "execution_count": null,
   "metadata": {
    "collapsed": false,
    "slideshow": {
     "slide_type": "slide"
    }
   },
   "outputs": [],
   "source": [
    "make_cf('dehydration')"
   ]
  },
  {
   "cell_type": "markdown",
   "metadata": {
    "slideshow": {
     "slide_type": "slide"
    }
   },
   "source": [
    "# Toxic Effects of Radiation codes"
   ]
  },
  {
   "cell_type": "code",
   "execution_count": null,
   "metadata": {
    "collapsed": false,
    "slideshow": {
     "slide_type": "slide"
    }
   },
   "outputs": [],
   "source": [
    "make_cf('Irradiation cystitis')"
   ]
  },
  {
   "cell_type": "code",
   "execution_count": null,
   "metadata": {
    "collapsed": false,
    "slideshow": {
     "slide_type": "slide"
    }
   },
   "outputs": [],
   "source": [
    "make_cf('Overdose of radiation in therapy')"
   ]
  },
  {
   "cell_type": "code",
   "execution_count": null,
   "metadata": {
    "collapsed": true,
    "slideshow": {
     "slide_type": "slide"
    }
   },
   "outputs": [],
   "source": [
    "dfkodes['difference'] = np.abs(dfkodes.control_code - dfkodes.treatment_code)\n",
    "dfkodes['together'] = dfkodes.control_code + dfkodes.treatment_code\n",
    "dfkodes = dfkodes.sort_values(['together'],ascending=False)"
   ]
  },
  {
   "cell_type": "code",
   "execution_count": null,
   "metadata": {
    "collapsed": false,
    "slideshow": {
     "slide_type": "slide"
    }
   },
   "outputs": [],
   "source": [
    "dfkodes[['control_code','treatment_code']].iloc[1:15][::-1].plot(kind='barh',\n",
    "                title=\"Diagnosis codes top values in MedPAR claims\");"
   ]
  },
  {
   "cell_type": "code",
   "execution_count": null,
   "metadata": {
    "collapsed": false,
    "slideshow": {
     "slide_type": "slide"
    }
   },
   "outputs": [],
   "source": [
    "make_cf('heart failure')"
   ]
  },
  {
   "cell_type": "code",
   "execution_count": null,
   "metadata": {
    "collapsed": false,
    "slideshow": {
     "slide_type": "slide"
    }
   },
   "outputs": [],
   "source": [
    "dfkodes[['control_code','treatment_code']].iloc[15:30][::-1].plot(kind='barh',\n",
    "                title=\"Diagnosis codes top values in MedPAR claims\");"
   ]
  },
  {
   "cell_type": "code",
   "execution_count": null,
   "metadata": {
    "collapsed": false,
    "slideshow": {
     "slide_type": "slide"
    }
   },
   "outputs": [],
   "source": [
    "make_cf('hypertensive chronic kidney disease')"
   ]
  },
  {
   "cell_type": "code",
   "execution_count": null,
   "metadata": {
    "collapsed": false,
    "slideshow": {
     "slide_type": "slide"
    }
   },
   "outputs": [],
   "source": [
    "dfkodes[['control_code','treatment_code']].iloc[45:60][::-1].plot(kind='barh',\n",
    "                title=\"Diagnosis codes top values in MedPAR claims\");"
   ]
  },
  {
   "cell_type": "code",
   "execution_count": null,
   "metadata": {
    "collapsed": false,
    "slideshow": {
     "slide_type": "slide"
    }
   },
   "outputs": [],
   "source": [
    "make_cf('malaise and fatigue')"
   ]
  },
  {
   "cell_type": "code",
   "execution_count": null,
   "metadata": {
    "collapsed": false,
    "slideshow": {
     "slide_type": "slide"
    }
   },
   "outputs": [],
   "source": [
    "dfkodes[['control_code','treatment_code']].iloc[45:60][::-1].plot(kind='barh',\n",
    "                title=\"Diagnosis codes top values in MedPAR claims\");"
   ]
  },
  {
   "cell_type": "code",
   "execution_count": null,
   "metadata": {
    "collapsed": false,
    "slideshow": {
     "slide_type": "slide"
    }
   },
   "outputs": [],
   "source": [
    "make_cf('vascular disease')"
   ]
  },
  {
   "cell_type": "code",
   "execution_count": null,
   "metadata": {
    "collapsed": false,
    "slideshow": {
     "slide_type": "slide"
    }
   },
   "outputs": [],
   "source": [
    "dfkodes[['control_code','treatment_code']].iloc[60:75][::-1].plot(kind='barh',\n",
    "                title=\"Diagnosis codes top values in MedPAR claims\");"
   ]
  },
  {
   "cell_type": "code",
   "execution_count": null,
   "metadata": {
    "collapsed": false,
    "slideshow": {
     "slide_type": "slide"
    }
   },
   "outputs": [],
   "source": [
    "make_cf('hemorrhage of gastrointestinal tract')"
   ]
  },
  {
   "cell_type": "code",
   "execution_count": null,
   "metadata": {
    "collapsed": false,
    "slideshow": {
     "slide_type": "slide"
    }
   },
   "outputs": [],
   "source": [
    "make_cf('chronic kidney disease')"
   ]
  },
  {
   "cell_type": "code",
   "execution_count": null,
   "metadata": {
    "collapsed": true
   },
   "outputs": [],
   "source": []
  }
 ],
 "metadata": {
  "celltoolbar": "Slideshow",
  "kernelspec": {
   "display_name": "Python 3",
   "language": "python",
   "name": "python3"
  },
  "language_info": {
   "codemirror_mode": {
    "name": "ipython",
    "version": 3
   },
   "file_extension": ".py",
   "mimetype": "text/x-python",
   "name": "python",
   "nbconvert_exporter": "python",
   "pygments_lexer": "ipython3",
   "version": "3.5.1"
  },
  "widgets": {
   "state": {},
   "version": "1.1.2"
  }
 },
 "nbformat": 4,
 "nbformat_minor": 0
}
