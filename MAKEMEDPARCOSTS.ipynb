{
 "cells": [
  {
   "cell_type": "code",
   "execution_count": 1,
   "metadata": {
    "collapsed": true
   },
   "outputs": [],
   "source": [
    "\n",
    "import numpy as np\n",
    "import pandas as pd\n",
    "import matplotlib.pyplot as plt\n",
    "from pandas import Series, DataFrame\n",
    "import pytz\n",
    "from pytz import common_timezones, all_timezones\n",
    "import matplotlib\n",
    "matplotlib.style.use('ggplot')\n",
    "%matplotlib inline\n",
    "from datetime import datetime\n",
    "import scipy as sp\n",
    "import statsmodels.api as sm\n",
    "import statsmodels.formula.api as smf\n",
    "matplotlib.style.use('fivethirtyeight')\n",
    "matplotlib.style.use('seaborn-talk')\n",
    "import os\n",
    "import collections"
   ]
  },
  {
   "cell_type": "code",
   "execution_count": 2,
   "metadata": {
    "collapsed": false
   },
   "outputs": [
    {
     "name": "stdout",
     "output_type": "stream",
     "text": [
      "\\\\iobsdc01\\SharedDocs\\SEER_MEDICARE\\SEER_MEDICARE_STAGING\n"
     ]
    }
   ],
   "source": [
    "preDouble = \"\\\\\\\\iobsdc01\\\\SharedDocs\\\\SEER_MEDICARE\\\\SEER_MEDICARE_STAGING\"\n",
    "new = os.chdir(preDouble)\n",
    "print(preDouble)"
   ]
  },
  {
   "cell_type": "code",
   "execution_count": 3,
   "metadata": {
    "collapsed": true
   },
   "outputs": [],
   "source": [
    "import pickle\n",
    "fileObject = open('pure_control_indicies.pickle', 'rb')\n",
    "b = pickle.load(fileObject)\n",
    "fileObject.close()\n",
    "controlindices = list(b)\n"
   ]
  },
  {
   "cell_type": "code",
   "execution_count": 4,
   "metadata": {
    "collapsed": true
   },
   "outputs": [],
   "source": [
    "import pickle\n",
    "fileObject = open('pure_treatment_indicies.pickle', 'rb')\n",
    "b = pickle.load(fileObject)\n",
    "fileObject.close()\n",
    "treatmentindices = list(b)\n"
   ]
  },
  {
   "cell_type": "code",
   "execution_count": 5,
   "metadata": {
    "collapsed": true
   },
   "outputs": [],
   "source": [
    "df = pd.read_pickle('dfpedsfFirsts.pickle')\n"
   ]
  },
  {
   "cell_type": "code",
   "execution_count": 6,
   "metadata": {
    "collapsed": true
   },
   "outputs": [],
   "source": [
    "dg = pd.read_pickle('pure_goodindices_medpar.pickle')"
   ]
  },
  {
   "cell_type": "code",
   "execution_count": 7,
   "metadata": {
    "collapsed": true
   },
   "outputs": [],
   "source": [
    "d_t_c = dict(zip(treatmentindices, controlindices))\n",
    "d_c_t = dict(zip(controlindices, treatmentindices))"
   ]
  },
  {
   "cell_type": "code",
   "execution_count": 8,
   "metadata": {
    "collapsed": true
   },
   "outputs": [],
   "source": [
    "dgtreatment = dg[dg.patient_id.isin(treatmentindices)].copy()\n",
    "\n",
    "dgcontrol = dg[dg.patient_id.isin(controlindices)].copy()"
   ]
  },
  {
   "cell_type": "code",
   "execution_count": 9,
   "metadata": {
    "collapsed": true
   },
   "outputs": [],
   "source": [
    "\n",
    "df = df.set_index('patient_id',drop=False)"
   ]
  },
  {
   "cell_type": "code",
   "execution_count": 10,
   "metadata": {
    "collapsed": false
   },
   "outputs": [
    {
     "name": "stdout",
     "output_type": "stream",
     "text": [
      "1662 831 831\n"
     ]
    }
   ],
   "source": [
    "goodindices = controlindices + treatmentindices\n",
    "print(len(goodindices),len(controlindices),len(treatmentindices))"
   ]
  },
  {
   "cell_type": "code",
   "execution_count": 11,
   "metadata": {
    "collapsed": true
   },
   "outputs": [],
   "source": [
    "df_all_good_indices = df.loc[goodindices].copy()"
   ]
  },
  {
   "cell_type": "code",
   "execution_count": 12,
   "metadata": {
    "collapsed": true
   },
   "outputs": [],
   "source": [
    "del df"
   ]
  },
  {
   "cell_type": "code",
   "execution_count": 13,
   "metadata": {
    "collapsed": true
   },
   "outputs": [],
   "source": [
    "\n",
    "monthdict = {'Jan': '01',\n",
    "            'Feb': '02',\n",
    "            'Mar': '03',\n",
    "            'Apr': '04',\n",
    "            'May': '05',\n",
    "            'Jun': '06',\n",
    "            'Jul': '07',\n",
    "            'Aug': '08',\n",
    "            'Sep': '09',\n",
    "            'Oct': '10',\n",
    "            'Nov': '11',\n",
    "            'Dec': '12'}\n",
    "\n",
    "\n",
    "df_all_good_indices['month1'] = df_all_good_indices['modx1'].replace(monthdict)"
   ]
  },
  {
   "cell_type": "markdown",
   "metadata": {},
   "source": [
    "# <font color=\"#E56717\">We need to only keep claims for which the date of admission is later in time than the cancer diagnosis date</font>\n",
    "\n",
    "## Let's limit it just to prostate"
   ]
  },
  {
   "cell_type": "code",
   "execution_count": 14,
   "metadata": {
    "collapsed": false
   },
   "outputs": [
    {
     "name": "stdout",
     "output_type": "stream",
     "text": [
      "['4482160083', '2215176050', '8859072472', '2310153070', '8802026371', '8757024520', '8831097343', '8878004314', '8827010107', '4408106073', '8797097489', '8835013250', '4339013024', '4304141320', '4326238080', '4269060013', '8848090384', '4268053014', '8797035478', '8841081424', '8868081313', '4339033024', '4222034004', '8735038409', '8716025459', '4462162024', '8821066343', '8858012304', '8845030491', '8841000365', '8888027441', '4313295000', '8825058106', '8888086461', '4473112043', '8714009560', '8870085471', '8819038335', '8885077334', '8865081345', '8815026310', '8889005430', '4454195034', '4247072024', '8851092441', '8897051314', '4295048060', '8852000315', '8875067360', '4315229060']\n"
     ]
    }
   ],
   "source": [
    "#bad_month_indices_filter = df_all_good_indices['month1'].isnull()\n",
    "prostate_filter = df_all_good_indices['site1'].str.contains('prostate',case=False,na=False)\n",
    "to_drop = list(df_all_good_indices[~prostate_filter].site1.index)\n",
    "print(to_drop)"
   ]
  },
  {
   "cell_type": "code",
   "execution_count": 15,
   "metadata": {
    "collapsed": false
   },
   "outputs": [
    {
     "name": "stdout",
     "output_type": "stream",
     "text": [
      "25\n"
     ]
    }
   ],
   "source": [
    "drop_set = set(to_drop)\n",
    "t_set = set(d_t_c.keys())\n",
    "\n",
    "lose_set = t_set.intersection(drop_set)\n",
    "print(len(lose_set))\n"
   ]
  },
  {
   "cell_type": "code",
   "execution_count": 16,
   "metadata": {
    "collapsed": true
   },
   "outputs": [],
   "source": [
    "for i in list(lose_set):\n",
    "    del d_t_c[i]"
   ]
  },
  {
   "cell_type": "code",
   "execution_count": 17,
   "metadata": {
    "collapsed": false
   },
   "outputs": [
    {
     "name": "stdout",
     "output_type": "stream",
     "text": [
      "806 806\n"
     ]
    }
   ],
   "source": [
    "goodtreatmentindices = d_t_c.keys()\n",
    "goodcontrolindices = d_t_c.values()\n",
    "print(len(goodtreatmentindices), len(goodcontrolindices))"
   ]
  },
  {
   "cell_type": "markdown",
   "metadata": {},
   "source": [
    "# Just including the prostate cancer patients now"
   ]
  },
  {
   "cell_type": "code",
   "execution_count": 18,
   "metadata": {
    "collapsed": true
   },
   "outputs": [],
   "source": [
    "\n",
    "df_all_good_indices = df_all_good_indices.loc[list(goodcontrolindices) + list(goodtreatmentindices)]"
   ]
  },
  {
   "cell_type": "code",
   "execution_count": 20,
   "metadata": {
    "collapsed": false
   },
   "outputs": [
    {
     "data": {
      "text/plain": [
       "08    152\n",
       "02    150\n",
       "06    146\n",
       "03    146\n",
       "01    140\n",
       "04    136\n",
       "10    136\n",
       "05    134\n",
       "07    134\n",
       "11    130\n",
       "09    106\n",
       "12     96\n",
       "Name: month1, dtype: int64"
      ]
     },
     "execution_count": 20,
     "metadata": {},
     "output_type": "execute_result"
    }
   ],
   "source": [
    "df_all_good_indices.month1.value_counts()"
   ]
  },
  {
   "cell_type": "code",
   "execution_count": 21,
   "metadata": {
    "collapsed": false
   },
   "outputs": [
    {
     "data": {
      "text/plain": [
       "'05'"
      ]
     },
     "execution_count": 21,
     "metadata": {},
     "output_type": "execute_result"
    }
   ],
   "source": [
    "df_all_good_indices.month1.iloc[0]"
   ]
  },
  {
   "cell_type": "code",
   "execution_count": 22,
   "metadata": {
    "collapsed": true
   },
   "outputs": [],
   "source": [
    "df_all_good_indices['newmonth1'] = df_all_good_indices.month1.fillna('01').copy()"
   ]
  },
  {
   "cell_type": "code",
   "execution_count": 23,
   "metadata": {
    "collapsed": false
   },
   "outputs": [],
   "source": [
    "\n",
    "df_all_good_indices['yrdx_plus_modx'] = df_all_good_indices.yrdx1.astype('str') + df_all_good_indices.newmonth1.astype('str')\n",
    "\n",
    "\n",
    "df_all_good_indices['yrdx_plus_modx'] = pd.to_datetime(df_all_good_indices['yrdx_plus_modx'], \n",
    "                                                      format='%Y%m')"
   ]
  },
  {
   "cell_type": "code",
   "execution_count": 46,
   "metadata": {
    "collapsed": true
   },
   "outputs": [],
   "source": [
    "dg = dg.set_index('patient_id',drop=False)"
   ]
  },
  {
   "cell_type": "code",
   "execution_count": 50,
   "metadata": {
    "collapsed": false
   },
   "outputs": [],
   "source": [
    "dgtreatment = dg[dg.patient_id.isin(goodtreatmentindices) & prostate_filter].copy()\n",
    "\n",
    "dgcontrol = dg[dg.patient_id.isin(goodcontrolindices) & prostate_filter].copy()"
   ]
  },
  {
   "cell_type": "code",
   "execution_count": 51,
   "metadata": {
    "collapsed": false
   },
   "outputs": [
    {
     "data": {
      "text/plain": [
       "(1037, 171)"
      ]
     },
     "execution_count": 51,
     "metadata": {},
     "output_type": "execute_result"
    }
   ],
   "source": [
    "dgtreatment.shape"
   ]
  },
  {
   "cell_type": "code",
   "execution_count": 52,
   "metadata": {
    "collapsed": false
   },
   "outputs": [
    {
     "data": {
      "text/plain": [
       "(1628, 171)"
      ]
     },
     "execution_count": 52,
     "metadata": {},
     "output_type": "execute_result"
    }
   ],
   "source": [
    "dgcontrol.shape"
   ]
  },
  {
   "cell_type": "code",
   "execution_count": 53,
   "metadata": {
    "collapsed": false
   },
   "outputs": [
    {
     "data": {
      "text/plain": [
       "(2917, 171)"
      ]
     },
     "execution_count": 53,
     "metadata": {},
     "output_type": "execute_result"
    }
   ],
   "source": [
    "dg.shape"
   ]
  },
  {
   "cell_type": "code",
   "execution_count": 54,
   "metadata": {
    "collapsed": true
   },
   "outputs": [],
   "source": [
    "dgtreatment['yrdx_plus_modx'] = df_all_good_indices['yrdx_plus_modx']\n",
    "dgtreatment['site1'] = df_all_good_indices['site1']"
   ]
  },
  {
   "cell_type": "code",
   "execution_count": 55,
   "metadata": {
    "collapsed": false
   },
   "outputs": [
    {
     "data": {
      "text/plain": [
       "(1037, 173)"
      ]
     },
     "execution_count": 55,
     "metadata": {},
     "output_type": "execute_result"
    }
   ],
   "source": [
    "dgtreatment.shape"
   ]
  },
  {
   "cell_type": "code",
   "execution_count": 56,
   "metadata": {
    "collapsed": true
   },
   "outputs": [],
   "source": [
    "dgcontrol['yrdx_plus_modx'] = df_all_good_indices['yrdx_plus_modx']\n",
    "dgcontrol['site1'] = df_all_good_indices['site1']"
   ]
  },
  {
   "cell_type": "code",
   "execution_count": 57,
   "metadata": {
    "collapsed": false
   },
   "outputs": [
    {
     "data": {
      "text/plain": [
       "(1628, 173)"
      ]
     },
     "execution_count": 57,
     "metadata": {},
     "output_type": "execute_result"
    }
   ],
   "source": [
    "dgcontrol.shape"
   ]
  },
  {
   "cell_type": "code",
   "execution_count": 58,
   "metadata": {
    "collapsed": true
   },
   "outputs": [],
   "source": [
    "dgtreatment['medpar_admission_date_new'] = dgtreatment.medpar_admission_date.astype('str').str.replace('\\.0','')\n",
    "dgtreatment['medpar_admission_date_new'] = dgtreatment.medpar_admission_date_new.str.rjust(8,'0')"
   ]
  },
  {
   "cell_type": "code",
   "execution_count": 59,
   "metadata": {
    "collapsed": true
   },
   "outputs": [],
   "source": [
    "dgcontrol['medpar_admission_date_new'] = dgcontrol.medpar_admission_date.astype('str').str.replace('\\.0','')\n",
    "dgcontrol['medpar_admission_date_new'] = dgcontrol.medpar_admission_date_new.str.rjust(8,'0')"
   ]
  },
  {
   "cell_type": "code",
   "execution_count": 60,
   "metadata": {
    "collapsed": true
   },
   "outputs": [],
   "source": [
    "dgtreatment['medpar_admission_date_new'] = pd.to_datetime(dgtreatment['medpar_admission_date_new'], \n",
    "                                                      format='%m%d%Y').copy()"
   ]
  },
  {
   "cell_type": "code",
   "execution_count": 61,
   "metadata": {
    "collapsed": true
   },
   "outputs": [],
   "source": [
    "dgcontrol['medpar_admission_date_new'] = pd.to_datetime(dgcontrol['medpar_admission_date_new'], \n",
    "                                                      format='%m%d%Y').copy()"
   ]
  },
  {
   "cell_type": "code",
   "execution_count": 62,
   "metadata": {
    "collapsed": false
   },
   "outputs": [
    {
     "data": {
      "text/plain": [
       "(1612, 499)"
      ]
     },
     "execution_count": 62,
     "metadata": {},
     "output_type": "execute_result"
    }
   ],
   "source": [
    "df_all_good_indices.shape"
   ]
  },
  {
   "cell_type": "code",
   "execution_count": 63,
   "metadata": {
    "collapsed": false
   },
   "outputs": [
    {
     "data": {
      "text/html": [
       "<div>\n",
       "<table border=\"1\" class=\"dataframe\">\n",
       "  <thead>\n",
       "    <tr style=\"text-align: right;\">\n",
       "      <th></th>\n",
       "      <th>registry</th>\n",
       "      <th>patient_id</th>\n",
       "      <th>age</th>\n",
       "      <th>stdstate</th>\n",
       "      <th>std_cnty</th>\n",
       "      <th>admday</th>\n",
       "      <th>dschgsta</th>\n",
       "      <th>ghopd</th>\n",
       "      <th>ppsind</th>\n",
       "      <th>provcode</th>\n",
       "      <th>...</th>\n",
       "      <th>outclrcde</th>\n",
       "      <th>primpayr</th>\n",
       "      <th>esrdcond</th>\n",
       "      <th>admsrce</th>\n",
       "      <th>admtype</th>\n",
       "      <th>admdxcde</th>\n",
       "      <th>deathadm</th>\n",
       "      <th>yrdx_plus_modx</th>\n",
       "      <th>site1</th>\n",
       "      <th>medpar_admission_date_new</th>\n",
       "    </tr>\n",
       "    <tr>\n",
       "      <th>patient_id</th>\n",
       "      <th></th>\n",
       "      <th></th>\n",
       "      <th></th>\n",
       "      <th></th>\n",
       "      <th></th>\n",
       "      <th></th>\n",
       "      <th></th>\n",
       "      <th></th>\n",
       "      <th></th>\n",
       "      <th></th>\n",
       "      <th></th>\n",
       "      <th></th>\n",
       "      <th></th>\n",
       "      <th></th>\n",
       "      <th></th>\n",
       "      <th></th>\n",
       "      <th></th>\n",
       "      <th></th>\n",
       "      <th></th>\n",
       "      <th></th>\n",
       "      <th></th>\n",
       "    </tr>\n",
       "  </thead>\n",
       "  <tbody>\n",
       "    <tr>\n",
       "      <th>8876036350</th>\n",
       "      <td>88</td>\n",
       "      <td>8876036350</td>\n",
       "      <td>77</td>\n",
       "      <td>5</td>\n",
       "      <td>430</td>\n",
       "      <td>2</td>\n",
       "      <td>A</td>\n",
       "      <td>NaN</td>\n",
       "      <td>2</td>\n",
       "      <td>NaN</td>\n",
       "      <td>...</td>\n",
       "      <td>0</td>\n",
       "      <td>NaN</td>\n",
       "      <td>0</td>\n",
       "      <td>7</td>\n",
       "      <td>2</td>\n",
       "      <td>6824</td>\n",
       "      <td>0</td>\n",
       "      <td>2006-05-01</td>\n",
       "      <td>Prostate gland</td>\n",
       "      <td>2006-04-23</td>\n",
       "    </tr>\n",
       "    <tr>\n",
       "      <th>8860084330</th>\n",
       "      <td>88</td>\n",
       "      <td>8860084330</td>\n",
       "      <td>70</td>\n",
       "      <td>5</td>\n",
       "      <td>430</td>\n",
       "      <td>5</td>\n",
       "      <td>A</td>\n",
       "      <td>NaN</td>\n",
       "      <td>2</td>\n",
       "      <td>NaN</td>\n",
       "      <td>...</td>\n",
       "      <td>0</td>\n",
       "      <td>NaN</td>\n",
       "      <td>0</td>\n",
       "      <td>1</td>\n",
       "      <td>3</td>\n",
       "      <td>4139</td>\n",
       "      <td>0</td>\n",
       "      <td>2006-01-01</td>\n",
       "      <td>Prostate gland</td>\n",
       "      <td>2006-12-06</td>\n",
       "    </tr>\n",
       "    <tr>\n",
       "      <th>8881015430</th>\n",
       "      <td>88</td>\n",
       "      <td>8881015430</td>\n",
       "      <td>75</td>\n",
       "      <td>5</td>\n",
       "      <td>460</td>\n",
       "      <td>2</td>\n",
       "      <td>A</td>\n",
       "      <td>NaN</td>\n",
       "      <td>2</td>\n",
       "      <td>NaN</td>\n",
       "      <td>...</td>\n",
       "      <td>0</td>\n",
       "      <td>NaN</td>\n",
       "      <td>0</td>\n",
       "      <td>7</td>\n",
       "      <td>1</td>\n",
       "      <td>35800</td>\n",
       "      <td>0</td>\n",
       "      <td>2010-02-01</td>\n",
       "      <td>Prostate gland</td>\n",
       "      <td>2006-10-08</td>\n",
       "    </tr>\n",
       "    <tr>\n",
       "      <th>8881015430</th>\n",
       "      <td>88</td>\n",
       "      <td>8881015430</td>\n",
       "      <td>75</td>\n",
       "      <td>5</td>\n",
       "      <td>460</td>\n",
       "      <td>5</td>\n",
       "      <td>A</td>\n",
       "      <td>NaN</td>\n",
       "      <td>2</td>\n",
       "      <td>NaN</td>\n",
       "      <td>...</td>\n",
       "      <td>2</td>\n",
       "      <td>NaN</td>\n",
       "      <td>0</td>\n",
       "      <td>7</td>\n",
       "      <td>1</td>\n",
       "      <td>51881</td>\n",
       "      <td>0</td>\n",
       "      <td>2010-02-01</td>\n",
       "      <td>Prostate gland</td>\n",
       "      <td>2006-10-25</td>\n",
       "    </tr>\n",
       "    <tr>\n",
       "      <th>8881015430</th>\n",
       "      <td>88</td>\n",
       "      <td>8881015430</td>\n",
       "      <td>75</td>\n",
       "      <td>5</td>\n",
       "      <td>460</td>\n",
       "      <td>7</td>\n",
       "      <td>A</td>\n",
       "      <td>NaN</td>\n",
       "      <td>2</td>\n",
       "      <td>NaN</td>\n",
       "      <td>...</td>\n",
       "      <td>0</td>\n",
       "      <td>NaN</td>\n",
       "      <td>0</td>\n",
       "      <td>1</td>\n",
       "      <td>2</td>\n",
       "      <td>35801</td>\n",
       "      <td>0</td>\n",
       "      <td>2010-02-01</td>\n",
       "      <td>Prostate gland</td>\n",
       "      <td>2006-12-15</td>\n",
       "    </tr>\n",
       "  </tbody>\n",
       "</table>\n",
       "<p>5 rows × 174 columns</p>\n",
       "</div>"
      ],
      "text/plain": [
       "            registry  patient_id  age  stdstate  std_cnty  admday dschgsta  \\\n",
       "patient_id                                                                   \n",
       "8876036350        88  8876036350   77         5       430       2        A   \n",
       "8860084330        88  8860084330   70         5       430       5        A   \n",
       "8881015430        88  8881015430   75         5       460       2        A   \n",
       "8881015430        88  8881015430   75         5       460       5        A   \n",
       "8881015430        88  8881015430   75         5       460       7        A   \n",
       "\n",
       "            ghopd  ppsind provcode            ...             outclrcde  \\\n",
       "patient_id                                    ...                         \n",
       "8876036350    NaN       2      NaN            ...                     0   \n",
       "8860084330    NaN       2      NaN            ...                     0   \n",
       "8881015430    NaN       2      NaN            ...                     0   \n",
       "8881015430    NaN       2      NaN            ...                     2   \n",
       "8881015430    NaN       2      NaN            ...                     0   \n",
       "\n",
       "            primpayr  esrdcond  admsrce  admtype  admdxcde  deathadm  \\\n",
       "patient_id                                                             \n",
       "8876036350       NaN         0        7        2      6824         0   \n",
       "8860084330       NaN         0        1        3      4139         0   \n",
       "8881015430       NaN         0        7        1     35800         0   \n",
       "8881015430       NaN         0        7        1     51881         0   \n",
       "8881015430       NaN         0        1        2     35801         0   \n",
       "\n",
       "            yrdx_plus_modx           site1  medpar_admission_date_new  \n",
       "patient_id                                                             \n",
       "8876036350      2006-05-01  Prostate gland                 2006-04-23  \n",
       "8860084330      2006-01-01  Prostate gland                 2006-12-06  \n",
       "8881015430      2010-02-01  Prostate gland                 2006-10-08  \n",
       "8881015430      2010-02-01  Prostate gland                 2006-10-25  \n",
       "8881015430      2010-02-01  Prostate gland                 2006-12-15  \n",
       "\n",
       "[5 rows x 174 columns]"
      ]
     },
     "execution_count": 63,
     "metadata": {},
     "output_type": "execute_result"
    }
   ],
   "source": [
    "dgtreatment.head()"
   ]
  },
  {
   "cell_type": "code",
   "execution_count": 64,
   "metadata": {
    "collapsed": false
   },
   "outputs": [
    {
     "data": {
      "text/html": [
       "<div>\n",
       "<table border=\"1\" class=\"dataframe\">\n",
       "  <thead>\n",
       "    <tr style=\"text-align: right;\">\n",
       "      <th></th>\n",
       "      <th>registry</th>\n",
       "      <th>patient_id</th>\n",
       "      <th>age</th>\n",
       "      <th>stdstate</th>\n",
       "      <th>std_cnty</th>\n",
       "      <th>admday</th>\n",
       "      <th>dschgsta</th>\n",
       "      <th>ghopd</th>\n",
       "      <th>ppsind</th>\n",
       "      <th>provcode</th>\n",
       "      <th>...</th>\n",
       "      <th>outclrcde</th>\n",
       "      <th>primpayr</th>\n",
       "      <th>esrdcond</th>\n",
       "      <th>admsrce</th>\n",
       "      <th>admtype</th>\n",
       "      <th>admdxcde</th>\n",
       "      <th>deathadm</th>\n",
       "      <th>yrdx_plus_modx</th>\n",
       "      <th>site1</th>\n",
       "      <th>medpar_admission_date_new</th>\n",
       "    </tr>\n",
       "    <tr>\n",
       "      <th>patient_id</th>\n",
       "      <th></th>\n",
       "      <th></th>\n",
       "      <th></th>\n",
       "      <th></th>\n",
       "      <th></th>\n",
       "      <th></th>\n",
       "      <th></th>\n",
       "      <th></th>\n",
       "      <th></th>\n",
       "      <th></th>\n",
       "      <th></th>\n",
       "      <th></th>\n",
       "      <th></th>\n",
       "      <th></th>\n",
       "      <th></th>\n",
       "      <th></th>\n",
       "      <th></th>\n",
       "      <th></th>\n",
       "      <th></th>\n",
       "      <th></th>\n",
       "      <th></th>\n",
       "    </tr>\n",
       "  </thead>\n",
       "  <tbody>\n",
       "    <tr>\n",
       "      <th>8844065341</th>\n",
       "      <td>88</td>\n",
       "      <td>8844065341</td>\n",
       "      <td>67</td>\n",
       "      <td>5</td>\n",
       "      <td>650</td>\n",
       "      <td>7</td>\n",
       "      <td>A</td>\n",
       "      <td>NaN</td>\n",
       "      <td>2</td>\n",
       "      <td>NaN</td>\n",
       "      <td>...</td>\n",
       "      <td>0</td>\n",
       "      <td>NaN</td>\n",
       "      <td>0</td>\n",
       "      <td>7</td>\n",
       "      <td>2</td>\n",
       "      <td>85220</td>\n",
       "      <td>0</td>\n",
       "      <td>2007-02-01</td>\n",
       "      <td>Prostate gland</td>\n",
       "      <td>2006-11-03</td>\n",
       "    </tr>\n",
       "    <tr>\n",
       "      <th>8842059335</th>\n",
       "      <td>88</td>\n",
       "      <td>8842059335</td>\n",
       "      <td>74</td>\n",
       "      <td>5</td>\n",
       "      <td>640</td>\n",
       "      <td>6</td>\n",
       "      <td>A</td>\n",
       "      <td>NaN</td>\n",
       "      <td>2</td>\n",
       "      <td>NaN</td>\n",
       "      <td>...</td>\n",
       "      <td>0</td>\n",
       "      <td>NaN</td>\n",
       "      <td>0</td>\n",
       "      <td>1</td>\n",
       "      <td>2</td>\n",
       "      <td>78609</td>\n",
       "      <td>0</td>\n",
       "      <td>2009-08-01</td>\n",
       "      <td>Prostate gland</td>\n",
       "      <td>2006-06-22</td>\n",
       "    </tr>\n",
       "    <tr>\n",
       "      <th>8890073491</th>\n",
       "      <td>88</td>\n",
       "      <td>8890073491</td>\n",
       "      <td>71</td>\n",
       "      <td>5</td>\n",
       "      <td>200</td>\n",
       "      <td>5</td>\n",
       "      <td>A</td>\n",
       "      <td>NaN</td>\n",
       "      <td>2</td>\n",
       "      <td>NaN</td>\n",
       "      <td>...</td>\n",
       "      <td>0</td>\n",
       "      <td>NaN</td>\n",
       "      <td>0</td>\n",
       "      <td>7</td>\n",
       "      <td>1</td>\n",
       "      <td>7802</td>\n",
       "      <td>0</td>\n",
       "      <td>2011-04-01</td>\n",
       "      <td>Prostate gland</td>\n",
       "      <td>2006-01-04</td>\n",
       "    </tr>\n",
       "    <tr>\n",
       "      <th>4422191074</th>\n",
       "      <td>44</td>\n",
       "      <td>4422191074</td>\n",
       "      <td>65</td>\n",
       "      <td>31</td>\n",
       "      <td>260</td>\n",
       "      <td>2</td>\n",
       "      <td>A</td>\n",
       "      <td>NaN</td>\n",
       "      <td>2</td>\n",
       "      <td>NaN</td>\n",
       "      <td>...</td>\n",
       "      <td>0</td>\n",
       "      <td>NaN</td>\n",
       "      <td>0</td>\n",
       "      <td>7</td>\n",
       "      <td>1</td>\n",
       "      <td>4280</td>\n",
       "      <td>1200</td>\n",
       "      <td>2008-05-01</td>\n",
       "      <td>Prostate gland</td>\n",
       "      <td>2006-08-13</td>\n",
       "    </tr>\n",
       "    <tr>\n",
       "      <th>8890067390</th>\n",
       "      <td>88</td>\n",
       "      <td>8890067390</td>\n",
       "      <td>75</td>\n",
       "      <td>5</td>\n",
       "      <td>400</td>\n",
       "      <td>3</td>\n",
       "      <td>A</td>\n",
       "      <td>NaN</td>\n",
       "      <td>2</td>\n",
       "      <td>NaN</td>\n",
       "      <td>...</td>\n",
       "      <td>0</td>\n",
       "      <td>NaN</td>\n",
       "      <td>0</td>\n",
       "      <td>7</td>\n",
       "      <td>2</td>\n",
       "      <td>2989</td>\n",
       "      <td>0</td>\n",
       "      <td>2006-05-01</td>\n",
       "      <td>Prostate gland</td>\n",
       "      <td>2006-11-06</td>\n",
       "    </tr>\n",
       "  </tbody>\n",
       "</table>\n",
       "<p>5 rows × 174 columns</p>\n",
       "</div>"
      ],
      "text/plain": [
       "            registry  patient_id  age  stdstate  std_cnty  admday dschgsta  \\\n",
       "patient_id                                                                   \n",
       "8844065341        88  8844065341   67         5       650       7        A   \n",
       "8842059335        88  8842059335   74         5       640       6        A   \n",
       "8890073491        88  8890073491   71         5       200       5        A   \n",
       "4422191074        44  4422191074   65        31       260       2        A   \n",
       "8890067390        88  8890067390   75         5       400       3        A   \n",
       "\n",
       "            ghopd  ppsind provcode            ...             outclrcde  \\\n",
       "patient_id                                    ...                         \n",
       "8844065341    NaN       2      NaN            ...                     0   \n",
       "8842059335    NaN       2      NaN            ...                     0   \n",
       "8890073491    NaN       2      NaN            ...                     0   \n",
       "4422191074    NaN       2      NaN            ...                     0   \n",
       "8890067390    NaN       2      NaN            ...                     0   \n",
       "\n",
       "            primpayr  esrdcond  admsrce  admtype  admdxcde  deathadm  \\\n",
       "patient_id                                                             \n",
       "8844065341       NaN         0        7        2     85220         0   \n",
       "8842059335       NaN         0        1        2     78609         0   \n",
       "8890073491       NaN         0        7        1      7802         0   \n",
       "4422191074       NaN         0        7        1      4280      1200   \n",
       "8890067390       NaN         0        7        2      2989         0   \n",
       "\n",
       "            yrdx_plus_modx           site1  medpar_admission_date_new  \n",
       "patient_id                                                             \n",
       "8844065341      2007-02-01  Prostate gland                 2006-11-03  \n",
       "8842059335      2009-08-01  Prostate gland                 2006-06-22  \n",
       "8890073491      2011-04-01  Prostate gland                 2006-01-04  \n",
       "4422191074      2008-05-01  Prostate gland                 2006-08-13  \n",
       "8890067390      2006-05-01  Prostate gland                 2006-11-06  \n",
       "\n",
       "[5 rows x 174 columns]"
      ]
     },
     "execution_count": 64,
     "metadata": {},
     "output_type": "execute_result"
    }
   ],
   "source": [
    "dgcontrol.head()"
   ]
  },
  {
   "cell_type": "markdown",
   "metadata": {},
   "source": [
    "# <font color=\"#E56717\">Hospital Data</font>\n",
    "\n",
    "* <span style=\"font-size:1.5em;\">MedPAR: Medicare Provider and Review</span>\n",
    "* <span style=\"font-size:1.5em;\">One record per stay</span>\n",
    "* <span style=\"font-size:1.5em;\">Key elements: admission and discharge diagnoses and dates, procedures and procedure dates, revenue center codes for ER,etc.</span>\n",
    "* <span style=\"font-size:1.5em;\">Reports facility charges only</span>\n",
    "* <span style=\"font-size:1.5em;\">Paid by DRG (diagnostic review group) which is based on diagnoses and procedures</span>\n"
   ]
  },
  {
   "cell_type": "markdown",
   "metadata": {},
   "source": [
    "# <font color=\"#E56717\">Cost-related variables</font>\n",
    "\n",
    "* <span style=\"font-size:1.5em;\">Charges (what the hospital asked to be paid</span>\n",
    "* <span style=\"font-size:1.5em;\">What the hospital was paid: amount reimbursed PLUS bill total per diem</span>\n",
    "* <span style=\"font-size:1.5em;\">Deductibles</span>\n",
    "* <span style=\"font-size:1.5em;\">Primary Payer amount</span>"
   ]
  },
  {
   "cell_type": "markdown",
   "metadata": {},
   "source": [
    "<span style=\"font-size:1.5em;\">Medicare determines what the provider is allowed to charge for a service ('allowed charges'). Payment of the allowed charges come from two sources:</span>\n",
    "\n",
    "* <span style=\"font-size:1.5em;\">Medicare</span>\n",
    "* <span style=\"font-size:1.5em;\">Beneficiary: Co-payments, coinsurance, and deductibles (may be paid by coinsurance such as Medigap)</span>\n",
    "\n",
    "* <span style=\"font-size:1.5em;\">Hospitals have per-stay deductibles and co-payments</span>\n"
   ]
  },
  {
   "cell_type": "markdown",
   "metadata": {},
   "source": [
    "# <font color=\"#E56717\">Trying to figure out MedPAR payments</font>\n",
    "\n",
    "* <span style=\"font-size:1.5em;\">Total payments from Medicare are calculated as reimbursement amount PLUS total pass through amount</span>\n",
    "* <span style=\"font-size:1.5em;\">Primary payer amount is the amount paid by another insurance (before Medicare)</span>\n",
    "* <span style=\"font-size:1.5em;\">Total payments: need to add together Medicare payments, primary payer amount and copayment/deductible</span>\n",
    "\n",
    "\n",
    "# <font color=\"#E56717\">Use these fields in the MedPAR file</font>\n",
    "\n",
    "* <span style=\"font-size:1.5em;\">COINAMT - The amount of money (rounded to whole dollars) identified as the beneficiary's liability for part A coinsurance for the stay</span> \n",
    "* <span style=\"font-size:1.5em;\">INPATDED - The amount of money (rounded to whole dollars) identified as the beneficiary's liability for inpatient deductible for the stay</span>\n",
    "* <span style=\"font-size:1.5em;\">BLOODDED - The amounf of money (rounded to whole dollars) identified as the beneficiary's liability for the blood deductible for the stay</span>\n",
    "* <span style=\"font-size:1.5em;\">PRIPYAMT - The amount of payment (rounded to whole dollars) made on behalf of the beneficiary by a primary payer other than Medicare, which has been applied to the covered Medicare charges for the stay</span>\n",
    "* <span style=\"font-size:1.5em;\">DISHRAMT - The amount paid over the DRG amount (rounded to whole dollars) for the disproportionate share hospital for the stay</span>\n",
    "* <span style=\"font-size:1.5em;\">INDMEDED - The amount of additional payment (rounded to whole dollars) made to teaching hospitals for IME for the stay</span>\n",
    "* <span style=\"font-size:1.5em;\">DRGPRICE - The amount (called the DRG price) that would have been paid if no deductibles, coinsurance, primary payers, or outliers were involved (rounded to whole dollars)</span>\n",
    "* <span style=\"font-size:1.5em;\">PASSTHRU - The total of all claim pass through amounts (rounded to whole dollars) for the stay.</span>\n",
    "* <span style=\"font-size:1.5em;\">REIMBAMT - Amount of payment made from the Medicare trust fund for the services covered by the claim record</span>"
   ]
  },
  {
   "cell_type": "code",
   "execution_count": 66,
   "metadata": {
    "collapsed": false
   },
   "outputs": [
    {
     "data": {
      "text/plain": [
       "['registry',\n",
       " 'patient_id',\n",
       " 'age',\n",
       " 'stdstate',\n",
       " 'std_cnty',\n",
       " 'admday',\n",
       " 'dschgsta',\n",
       " 'ghopd',\n",
       " 'ppsind',\n",
       " 'provcode',\n",
       " 'snfind',\n",
       " 'numbills',\n",
       " 'latest_claim_accretion_date',\n",
       " 'benefit_exhausted_date',\n",
       " 'qualification_from_date',\n",
       " 'qualification_through_date',\n",
       " 'medpar_admission_date',\n",
       " 'medpar_discharge_date',\n",
       " 'bene_death_date',\n",
       " 'cvr_through_date',\n",
       " 'himasind',\n",
       " 'los',\n",
       " 'outlrday',\n",
       " 'cvrddays',\n",
       " 'coindays',\n",
       " 'lifresdy',\n",
       " 'coinamt',\n",
       " 'inpatded',\n",
       " 'bloodded',\n",
       " 'pripyamt',\n",
       " 'outlramt',\n",
       " 'dishramt',\n",
       " 'indmeded',\n",
       " 'drgprice',\n",
       " 'passthru',\n",
       " 'low_pamt',\n",
       " 'totchrgs',\n",
       " 'cvrdchrg',\n",
       " 'reimbamt',\n",
       " 'totacchr',\n",
       " 'totdpchr',\n",
       " 'incrdays',\n",
       " 'crcrdays',\n",
       " 'incrchrg',\n",
       " 'crcrchrg',\n",
       " 'phrmchrg',\n",
       " 'phytchrg',\n",
       " 'ocptchrg',\n",
       " 'spptchrg',\n",
       " 'inhtchrg',\n",
       " 'blddchrg',\n",
       " 'bladchrg',\n",
       " 'oprtchrg',\n",
       " 'lithchrg',\n",
       " 'cardchrg',\n",
       " 'anstchrg',\n",
       " 'labrchrg',\n",
       " 'radichrg',\n",
       " 'opsrchrg',\n",
       " 'mrichrg',\n",
       " 'emrmchrg',\n",
       " 'amblchrg',\n",
       " 'proffees',\n",
       " 'oraqchrg',\n",
       " 'esrdchrg',\n",
       " 'clvtchrg',\n",
       " 'increind',\n",
       " 'crcreind',\n",
       " 'phrmyind',\n",
       " 'trnspind',\n",
       " 'onclgind',\n",
       " 'raddgind',\n",
       " 'radthind',\n",
       " 'nucmdind',\n",
       " 'ctscnind',\n",
       " 'oimsrind',\n",
       " 'outsrind',\n",
       " 'organind',\n",
       " 'esrdset1',\n",
       " 'esrdset2',\n",
       " 'poadxcnt',\n",
       " 'numdxcde',\n",
       " 'dgn_cd1',\n",
       " 'dgn_cd2',\n",
       " 'dgn_cd3',\n",
       " 'dgn_cd4',\n",
       " 'dgn_cd5',\n",
       " 'dgn_cd6',\n",
       " 'dgn_cd7',\n",
       " 'dgn_cd8',\n",
       " 'dgn_cd9',\n",
       " 'dgn_cd10',\n",
       " 'dgn_cd11',\n",
       " 'dgn_cd12',\n",
       " 'dgn_cd13',\n",
       " 'dgn_cd14',\n",
       " 'dgn_cd15',\n",
       " 'dgn_cd16',\n",
       " 'dgn_cd17',\n",
       " 'dgn_cd18',\n",
       " 'dgn_cd19',\n",
       " 'dgn_cd20',\n",
       " 'dgn_cd21',\n",
       " 'dgn_cd22',\n",
       " 'dgn_cd23',\n",
       " 'dgn_cd24',\n",
       " 'dgn_cd25',\n",
       " 'surgind',\n",
       " 'numsrgcd',\n",
       " 'numsrgdt',\n",
       " 'srgcde1',\n",
       " 'srgcde2',\n",
       " 'srgcde3',\n",
       " 'srgcde4',\n",
       " 'srgcde5',\n",
       " 'srgcde6',\n",
       " 'srgcde7',\n",
       " 'srgcde8',\n",
       " 'srgcde9',\n",
       " 'srgcde10',\n",
       " 'srgcde11',\n",
       " 'srgcde12',\n",
       " 'srgcde13',\n",
       " 'srgcde14',\n",
       " 'srgcde15',\n",
       " 'srgcde16',\n",
       " 'srgcde17',\n",
       " 'srgcde18',\n",
       " 'srgcde19',\n",
       " 'srgcde20',\n",
       " 'srgcde21',\n",
       " 'srgcde22',\n",
       " 'srgcde23',\n",
       " 'srgcde24',\n",
       " 'srgcde25',\n",
       " 'sgdate1',\n",
       " 'sgdate2',\n",
       " 'sgdate3',\n",
       " 'sgdate4',\n",
       " 'sgdate5',\n",
       " 'sgdate6',\n",
       " 'sgdate7',\n",
       " 'sgdate8',\n",
       " 'sgdate9',\n",
       " 'sgdate10',\n",
       " 'sgdate11',\n",
       " 'sgdate12',\n",
       " 'sgdate13',\n",
       " 'sgdate14',\n",
       " 'sgdate15',\n",
       " 'sgdate16',\n",
       " 'sgdate17',\n",
       " 'sgdate18',\n",
       " 'sgdate19',\n",
       " 'sgdate20',\n",
       " 'sgdate21',\n",
       " 'sgdate22',\n",
       " 'sgdate23',\n",
       " 'sgdate24',\n",
       " 'sgdate25',\n",
       " 'bldpints',\n",
       " 'obic',\n",
       " 'drgcode',\n",
       " 'discdest',\n",
       " 'outclrcde',\n",
       " 'primpayr',\n",
       " 'esrdcond',\n",
       " 'admsrce',\n",
       " 'admtype',\n",
       " 'admdxcde',\n",
       " 'deathadm',\n",
       " 'yrdx_plus_modx',\n",
       " 'site1',\n",
       " 'medpar_admission_date_new']"
      ]
     },
     "execution_count": 66,
     "metadata": {},
     "output_type": "execute_result"
    }
   ],
   "source": [
    "list(dgcontrol.columns)"
   ]
  },
  {
   "cell_type": "code",
   "execution_count": 73,
   "metadata": {
    "collapsed": false
   },
   "outputs": [],
   "source": [
    "dgcontrol['total_amt'] = dgcontrol['coinamt'] + dgcontrol['inpatded'] + \\\n",
    "dgcontrol['bloodded'] + dgcontrol['pripyamt'] +  \\\n",
    "dgcontrol['indmeded'] + dgcontrol['passthru'] + \\\n",
    "dgcontrol['reimbamt']"
   ]
  },
  {
   "cell_type": "code",
   "execution_count": 74,
   "metadata": {
    "collapsed": true
   },
   "outputs": [],
   "source": [
    "dgtreatment['total_amt'] = dgtreatment['coinamt'] + dgtreatment['inpatded'] + \\\n",
    "dgtreatment['bloodded'] + dgtreatment['pripyamt'] + \\\n",
    "dgtreatment['indmeded'] + dgtreatment['passthru'] + \\\n",
    "dgtreatment['reimbamt']"
   ]
  },
  {
   "cell_type": "code",
   "execution_count": 75,
   "metadata": {
    "collapsed": true
   },
   "outputs": [],
   "source": [
    "goodcols = ['medpar_admission_date_new','yrdx_plus_modx','total_amt',\n",
    "           'coinamt','inpatded','bloodded', 'pripyamt', \n",
    "           'indmeded','passthru','reimbamt']"
   ]
  },
  {
   "cell_type": "code",
   "execution_count": 76,
   "metadata": {
    "collapsed": false
   },
   "outputs": [
    {
     "data": {
      "text/html": [
       "<div>\n",
       "<table border=\"1\" class=\"dataframe\">\n",
       "  <thead>\n",
       "    <tr style=\"text-align: right;\">\n",
       "      <th></th>\n",
       "      <th>medpar_admission_date_new</th>\n",
       "      <th>yrdx_plus_modx</th>\n",
       "      <th>total_amt</th>\n",
       "      <th>coinamt</th>\n",
       "      <th>inpatded</th>\n",
       "      <th>bloodded</th>\n",
       "      <th>pripyamt</th>\n",
       "      <th>indmeded</th>\n",
       "      <th>passthru</th>\n",
       "      <th>reimbamt</th>\n",
       "    </tr>\n",
       "    <tr>\n",
       "      <th>patient_id</th>\n",
       "      <th></th>\n",
       "      <th></th>\n",
       "      <th></th>\n",
       "      <th></th>\n",
       "      <th></th>\n",
       "      <th></th>\n",
       "      <th></th>\n",
       "      <th></th>\n",
       "      <th></th>\n",
       "      <th></th>\n",
       "    </tr>\n",
       "  </thead>\n",
       "  <tbody>\n",
       "    <tr>\n",
       "      <th>8844065341</th>\n",
       "      <td>2006-11-03</td>\n",
       "      <td>2007-02-01</td>\n",
       "      <td>13309</td>\n",
       "      <td>0</td>\n",
       "      <td>952</td>\n",
       "      <td>0</td>\n",
       "      <td>0</td>\n",
       "      <td>0</td>\n",
       "      <td>0</td>\n",
       "      <td>12357</td>\n",
       "    </tr>\n",
       "    <tr>\n",
       "      <th>8842059335</th>\n",
       "      <td>2006-06-22</td>\n",
       "      <td>2009-08-01</td>\n",
       "      <td>5920</td>\n",
       "      <td>0</td>\n",
       "      <td>952</td>\n",
       "      <td>0</td>\n",
       "      <td>0</td>\n",
       "      <td>0</td>\n",
       "      <td>0</td>\n",
       "      <td>4968</td>\n",
       "    </tr>\n",
       "    <tr>\n",
       "      <th>8890073491</th>\n",
       "      <td>2006-01-04</td>\n",
       "      <td>2011-04-01</td>\n",
       "      <td>6248</td>\n",
       "      <td>0</td>\n",
       "      <td>952</td>\n",
       "      <td>0</td>\n",
       "      <td>0</td>\n",
       "      <td>187</td>\n",
       "      <td>0</td>\n",
       "      <td>5109</td>\n",
       "    </tr>\n",
       "    <tr>\n",
       "      <th>4422191074</th>\n",
       "      <td>2006-08-13</td>\n",
       "      <td>2008-05-01</td>\n",
       "      <td>7616</td>\n",
       "      <td>0</td>\n",
       "      <td>952</td>\n",
       "      <td>0</td>\n",
       "      <td>0</td>\n",
       "      <td>388</td>\n",
       "      <td>0</td>\n",
       "      <td>6276</td>\n",
       "    </tr>\n",
       "    <tr>\n",
       "      <th>8890067390</th>\n",
       "      <td>2006-11-06</td>\n",
       "      <td>2006-05-01</td>\n",
       "      <td>4936</td>\n",
       "      <td>0</td>\n",
       "      <td>952</td>\n",
       "      <td>0</td>\n",
       "      <td>0</td>\n",
       "      <td>0</td>\n",
       "      <td>0</td>\n",
       "      <td>3984</td>\n",
       "    </tr>\n",
       "  </tbody>\n",
       "</table>\n",
       "</div>"
      ],
      "text/plain": [
       "           medpar_admission_date_new yrdx_plus_modx  total_amt  coinamt  \\\n",
       "patient_id                                                                \n",
       "8844065341                2006-11-03     2007-02-01      13309        0   \n",
       "8842059335                2006-06-22     2009-08-01       5920        0   \n",
       "8890073491                2006-01-04     2011-04-01       6248        0   \n",
       "4422191074                2006-08-13     2008-05-01       7616        0   \n",
       "8890067390                2006-11-06     2006-05-01       4936        0   \n",
       "\n",
       "            inpatded  bloodded  pripyamt  indmeded  passthru  reimbamt  \n",
       "patient_id                                                              \n",
       "8844065341       952         0         0         0         0     12357  \n",
       "8842059335       952         0         0         0         0      4968  \n",
       "8890073491       952         0         0       187         0      5109  \n",
       "4422191074       952         0         0       388         0      6276  \n",
       "8890067390       952         0         0         0         0      3984  "
      ]
     },
     "execution_count": 76,
     "metadata": {},
     "output_type": "execute_result"
    }
   ],
   "source": [
    "dgcontrol[goodcols].head()"
   ]
  },
  {
   "cell_type": "code",
   "execution_count": 77,
   "metadata": {
    "collapsed": false
   },
   "outputs": [
    {
     "data": {
      "text/html": [
       "<div>\n",
       "<table border=\"1\" class=\"dataframe\">\n",
       "  <thead>\n",
       "    <tr style=\"text-align: right;\">\n",
       "      <th></th>\n",
       "      <th>medpar_admission_date_new</th>\n",
       "      <th>yrdx_plus_modx</th>\n",
       "      <th>total_amt</th>\n",
       "      <th>coinamt</th>\n",
       "      <th>inpatded</th>\n",
       "      <th>bloodded</th>\n",
       "      <th>pripyamt</th>\n",
       "      <th>indmeded</th>\n",
       "      <th>passthru</th>\n",
       "      <th>reimbamt</th>\n",
       "    </tr>\n",
       "    <tr>\n",
       "      <th>patient_id</th>\n",
       "      <th></th>\n",
       "      <th></th>\n",
       "      <th></th>\n",
       "      <th></th>\n",
       "      <th></th>\n",
       "      <th></th>\n",
       "      <th></th>\n",
       "      <th></th>\n",
       "      <th></th>\n",
       "      <th></th>\n",
       "    </tr>\n",
       "  </thead>\n",
       "  <tbody>\n",
       "    <tr>\n",
       "      <th>8876036350</th>\n",
       "      <td>2006-04-23</td>\n",
       "      <td>2006-05-01</td>\n",
       "      <td>3324</td>\n",
       "      <td>0</td>\n",
       "      <td>952</td>\n",
       "      <td>0</td>\n",
       "      <td>0</td>\n",
       "      <td>0</td>\n",
       "      <td>0</td>\n",
       "      <td>2372</td>\n",
       "    </tr>\n",
       "    <tr>\n",
       "      <th>8860084330</th>\n",
       "      <td>2006-12-06</td>\n",
       "      <td>2006-01-01</td>\n",
       "      <td>13399</td>\n",
       "      <td>0</td>\n",
       "      <td>952</td>\n",
       "      <td>0</td>\n",
       "      <td>0</td>\n",
       "      <td>0</td>\n",
       "      <td>0</td>\n",
       "      <td>12447</td>\n",
       "    </tr>\n",
       "    <tr>\n",
       "      <th>8881015430</th>\n",
       "      <td>2006-10-08</td>\n",
       "      <td>2010-02-01</td>\n",
       "      <td>9823</td>\n",
       "      <td>0</td>\n",
       "      <td>952</td>\n",
       "      <td>0</td>\n",
       "      <td>0</td>\n",
       "      <td>1028</td>\n",
       "      <td>0</td>\n",
       "      <td>7843</td>\n",
       "    </tr>\n",
       "    <tr>\n",
       "      <th>8881015430</th>\n",
       "      <td>2006-10-25</td>\n",
       "      <td>2010-02-01</td>\n",
       "      <td>47396</td>\n",
       "      <td>0</td>\n",
       "      <td>0</td>\n",
       "      <td>0</td>\n",
       "      <td>0</td>\n",
       "      <td>1526</td>\n",
       "      <td>0</td>\n",
       "      <td>45870</td>\n",
       "    </tr>\n",
       "    <tr>\n",
       "      <th>8881015430</th>\n",
       "      <td>2006-12-15</td>\n",
       "      <td>2010-02-01</td>\n",
       "      <td>9823</td>\n",
       "      <td>0</td>\n",
       "      <td>0</td>\n",
       "      <td>0</td>\n",
       "      <td>0</td>\n",
       "      <td>1028</td>\n",
       "      <td>0</td>\n",
       "      <td>8795</td>\n",
       "    </tr>\n",
       "  </tbody>\n",
       "</table>\n",
       "</div>"
      ],
      "text/plain": [
       "           medpar_admission_date_new yrdx_plus_modx  total_amt  coinamt  \\\n",
       "patient_id                                                                \n",
       "8876036350                2006-04-23     2006-05-01       3324        0   \n",
       "8860084330                2006-12-06     2006-01-01      13399        0   \n",
       "8881015430                2006-10-08     2010-02-01       9823        0   \n",
       "8881015430                2006-10-25     2010-02-01      47396        0   \n",
       "8881015430                2006-12-15     2010-02-01       9823        0   \n",
       "\n",
       "            inpatded  bloodded  pripyamt  indmeded  passthru  reimbamt  \n",
       "patient_id                                                              \n",
       "8876036350       952         0         0         0         0      2372  \n",
       "8860084330       952         0         0         0         0     12447  \n",
       "8881015430       952         0         0      1028         0      7843  \n",
       "8881015430         0         0         0      1526         0     45870  \n",
       "8881015430         0         0         0      1028         0      8795  "
      ]
     },
     "execution_count": 77,
     "metadata": {},
     "output_type": "execute_result"
    }
   ],
   "source": [
    "dgtreatment[goodcols].head()"
   ]
  },
  {
   "cell_type": "markdown",
   "metadata": {},
   "source": [
    "# <font color=\"#E56717\">Now restrict to those claims where medpar_admission_date_new is later in time than yrdx_plus_modx</font>"
   ]
  },
  {
   "cell_type": "code",
   "execution_count": 82,
   "metadata": {
    "collapsed": false
   },
   "outputs": [],
   "source": [
    "dgtreatment['time_delta'] = dgtreatment['medpar_admission_date_new'] - dgtreatment['yrdx_plus_modx']\n",
    "\n",
    "dgcontrol['time_delta'] = dgcontrol['medpar_admission_date_new'] - dgcontrol['yrdx_plus_modx']\n"
   ]
  },
  {
   "cell_type": "code",
   "execution_count": 83,
   "metadata": {
    "collapsed": true
   },
   "outputs": [],
   "source": [
    "def make_days(i):\n",
    "    return i.days"
   ]
  },
  {
   "cell_type": "code",
   "execution_count": 85,
   "metadata": {
    "collapsed": true
   },
   "outputs": [],
   "source": [
    "dgtreatment['delta_days'] = dgtreatment['time_delta'].apply(make_days)\n",
    "dgcontrol['delta_days'] = dgcontrol['time_delta'].apply(make_days)"
   ]
  },
  {
   "cell_type": "code",
   "execution_count": 86,
   "metadata": {
    "collapsed": true
   },
   "outputs": [],
   "source": [
    "goodcols = ['medpar_admission_date_new','yrdx_plus_modx', 'time_delta','delta_days','total_amt',\n",
    "           'coinamt','inpatded','bloodded', 'pripyamt', \n",
    "           'indmeded','passthru','reimbamt']"
   ]
  },
  {
   "cell_type": "code",
   "execution_count": 87,
   "metadata": {
    "collapsed": false
   },
   "outputs": [
    {
     "data": {
      "text/html": [
       "<div>\n",
       "<table border=\"1\" class=\"dataframe\">\n",
       "  <thead>\n",
       "    <tr style=\"text-align: right;\">\n",
       "      <th></th>\n",
       "      <th>medpar_admission_date_new</th>\n",
       "      <th>yrdx_plus_modx</th>\n",
       "      <th>time_delta</th>\n",
       "      <th>delta_days</th>\n",
       "      <th>total_amt</th>\n",
       "      <th>coinamt</th>\n",
       "      <th>inpatded</th>\n",
       "      <th>bloodded</th>\n",
       "      <th>pripyamt</th>\n",
       "      <th>indmeded</th>\n",
       "      <th>passthru</th>\n",
       "      <th>reimbamt</th>\n",
       "    </tr>\n",
       "    <tr>\n",
       "      <th>patient_id</th>\n",
       "      <th></th>\n",
       "      <th></th>\n",
       "      <th></th>\n",
       "      <th></th>\n",
       "      <th></th>\n",
       "      <th></th>\n",
       "      <th></th>\n",
       "      <th></th>\n",
       "      <th></th>\n",
       "      <th></th>\n",
       "      <th></th>\n",
       "      <th></th>\n",
       "    </tr>\n",
       "  </thead>\n",
       "  <tbody>\n",
       "    <tr>\n",
       "      <th>8876036350</th>\n",
       "      <td>2006-04-23</td>\n",
       "      <td>2006-05-01</td>\n",
       "      <td>-8 days</td>\n",
       "      <td>-8</td>\n",
       "      <td>3324</td>\n",
       "      <td>0</td>\n",
       "      <td>952</td>\n",
       "      <td>0</td>\n",
       "      <td>0</td>\n",
       "      <td>0</td>\n",
       "      <td>0</td>\n",
       "      <td>2372</td>\n",
       "    </tr>\n",
       "    <tr>\n",
       "      <th>8860084330</th>\n",
       "      <td>2006-12-06</td>\n",
       "      <td>2006-01-01</td>\n",
       "      <td>339 days</td>\n",
       "      <td>339</td>\n",
       "      <td>13399</td>\n",
       "      <td>0</td>\n",
       "      <td>952</td>\n",
       "      <td>0</td>\n",
       "      <td>0</td>\n",
       "      <td>0</td>\n",
       "      <td>0</td>\n",
       "      <td>12447</td>\n",
       "    </tr>\n",
       "    <tr>\n",
       "      <th>8881015430</th>\n",
       "      <td>2006-10-08</td>\n",
       "      <td>2010-02-01</td>\n",
       "      <td>-1212 days</td>\n",
       "      <td>-1212</td>\n",
       "      <td>9823</td>\n",
       "      <td>0</td>\n",
       "      <td>952</td>\n",
       "      <td>0</td>\n",
       "      <td>0</td>\n",
       "      <td>1028</td>\n",
       "      <td>0</td>\n",
       "      <td>7843</td>\n",
       "    </tr>\n",
       "    <tr>\n",
       "      <th>8881015430</th>\n",
       "      <td>2006-10-25</td>\n",
       "      <td>2010-02-01</td>\n",
       "      <td>-1195 days</td>\n",
       "      <td>-1195</td>\n",
       "      <td>47396</td>\n",
       "      <td>0</td>\n",
       "      <td>0</td>\n",
       "      <td>0</td>\n",
       "      <td>0</td>\n",
       "      <td>1526</td>\n",
       "      <td>0</td>\n",
       "      <td>45870</td>\n",
       "    </tr>\n",
       "    <tr>\n",
       "      <th>8881015430</th>\n",
       "      <td>2006-12-15</td>\n",
       "      <td>2010-02-01</td>\n",
       "      <td>-1144 days</td>\n",
       "      <td>-1144</td>\n",
       "      <td>9823</td>\n",
       "      <td>0</td>\n",
       "      <td>0</td>\n",
       "      <td>0</td>\n",
       "      <td>0</td>\n",
       "      <td>1028</td>\n",
       "      <td>0</td>\n",
       "      <td>8795</td>\n",
       "    </tr>\n",
       "  </tbody>\n",
       "</table>\n",
       "</div>"
      ],
      "text/plain": [
       "           medpar_admission_date_new yrdx_plus_modx  time_delta  delta_days  \\\n",
       "patient_id                                                                    \n",
       "8876036350                2006-04-23     2006-05-01     -8 days          -8   \n",
       "8860084330                2006-12-06     2006-01-01    339 days         339   \n",
       "8881015430                2006-10-08     2010-02-01  -1212 days       -1212   \n",
       "8881015430                2006-10-25     2010-02-01  -1195 days       -1195   \n",
       "8881015430                2006-12-15     2010-02-01  -1144 days       -1144   \n",
       "\n",
       "            total_amt  coinamt  inpatded  bloodded  pripyamt  indmeded  \\\n",
       "patient_id                                                               \n",
       "8876036350       3324        0       952         0         0         0   \n",
       "8860084330      13399        0       952         0         0         0   \n",
       "8881015430       9823        0       952         0         0      1028   \n",
       "8881015430      47396        0         0         0         0      1526   \n",
       "8881015430       9823        0         0         0         0      1028   \n",
       "\n",
       "            passthru  reimbamt  \n",
       "patient_id                      \n",
       "8876036350         0      2372  \n",
       "8860084330         0     12447  \n",
       "8881015430         0      7843  \n",
       "8881015430         0     45870  \n",
       "8881015430         0      8795  "
      ]
     },
     "execution_count": 87,
     "metadata": {},
     "output_type": "execute_result"
    }
   ],
   "source": [
    "dgtreatment[goodcols].head()"
   ]
  },
  {
   "cell_type": "code",
   "execution_count": 88,
   "metadata": {
    "collapsed": false
   },
   "outputs": [
    {
     "data": {
      "text/html": [
       "<div>\n",
       "<table border=\"1\" class=\"dataframe\">\n",
       "  <thead>\n",
       "    <tr style=\"text-align: right;\">\n",
       "      <th></th>\n",
       "      <th>medpar_admission_date_new</th>\n",
       "      <th>yrdx_plus_modx</th>\n",
       "      <th>time_delta</th>\n",
       "      <th>delta_days</th>\n",
       "      <th>total_amt</th>\n",
       "      <th>coinamt</th>\n",
       "      <th>inpatded</th>\n",
       "      <th>bloodded</th>\n",
       "      <th>pripyamt</th>\n",
       "      <th>indmeded</th>\n",
       "      <th>passthru</th>\n",
       "      <th>reimbamt</th>\n",
       "    </tr>\n",
       "    <tr>\n",
       "      <th>patient_id</th>\n",
       "      <th></th>\n",
       "      <th></th>\n",
       "      <th></th>\n",
       "      <th></th>\n",
       "      <th></th>\n",
       "      <th></th>\n",
       "      <th></th>\n",
       "      <th></th>\n",
       "      <th></th>\n",
       "      <th></th>\n",
       "      <th></th>\n",
       "      <th></th>\n",
       "    </tr>\n",
       "  </thead>\n",
       "  <tbody>\n",
       "    <tr>\n",
       "      <th>8844065341</th>\n",
       "      <td>2006-11-03</td>\n",
       "      <td>2007-02-01</td>\n",
       "      <td>-90 days</td>\n",
       "      <td>-90</td>\n",
       "      <td>13309</td>\n",
       "      <td>0</td>\n",
       "      <td>952</td>\n",
       "      <td>0</td>\n",
       "      <td>0</td>\n",
       "      <td>0</td>\n",
       "      <td>0</td>\n",
       "      <td>12357</td>\n",
       "    </tr>\n",
       "    <tr>\n",
       "      <th>8842059335</th>\n",
       "      <td>2006-06-22</td>\n",
       "      <td>2009-08-01</td>\n",
       "      <td>-1136 days</td>\n",
       "      <td>-1136</td>\n",
       "      <td>5920</td>\n",
       "      <td>0</td>\n",
       "      <td>952</td>\n",
       "      <td>0</td>\n",
       "      <td>0</td>\n",
       "      <td>0</td>\n",
       "      <td>0</td>\n",
       "      <td>4968</td>\n",
       "    </tr>\n",
       "    <tr>\n",
       "      <th>8890073491</th>\n",
       "      <td>2006-01-04</td>\n",
       "      <td>2011-04-01</td>\n",
       "      <td>-1913 days</td>\n",
       "      <td>-1913</td>\n",
       "      <td>6248</td>\n",
       "      <td>0</td>\n",
       "      <td>952</td>\n",
       "      <td>0</td>\n",
       "      <td>0</td>\n",
       "      <td>187</td>\n",
       "      <td>0</td>\n",
       "      <td>5109</td>\n",
       "    </tr>\n",
       "    <tr>\n",
       "      <th>4422191074</th>\n",
       "      <td>2006-08-13</td>\n",
       "      <td>2008-05-01</td>\n",
       "      <td>-627 days</td>\n",
       "      <td>-627</td>\n",
       "      <td>7616</td>\n",
       "      <td>0</td>\n",
       "      <td>952</td>\n",
       "      <td>0</td>\n",
       "      <td>0</td>\n",
       "      <td>388</td>\n",
       "      <td>0</td>\n",
       "      <td>6276</td>\n",
       "    </tr>\n",
       "    <tr>\n",
       "      <th>8890067390</th>\n",
       "      <td>2006-11-06</td>\n",
       "      <td>2006-05-01</td>\n",
       "      <td>189 days</td>\n",
       "      <td>189</td>\n",
       "      <td>4936</td>\n",
       "      <td>0</td>\n",
       "      <td>952</td>\n",
       "      <td>0</td>\n",
       "      <td>0</td>\n",
       "      <td>0</td>\n",
       "      <td>0</td>\n",
       "      <td>3984</td>\n",
       "    </tr>\n",
       "  </tbody>\n",
       "</table>\n",
       "</div>"
      ],
      "text/plain": [
       "           medpar_admission_date_new yrdx_plus_modx  time_delta  delta_days  \\\n",
       "patient_id                                                                    \n",
       "8844065341                2006-11-03     2007-02-01    -90 days         -90   \n",
       "8842059335                2006-06-22     2009-08-01  -1136 days       -1136   \n",
       "8890073491                2006-01-04     2011-04-01  -1913 days       -1913   \n",
       "4422191074                2006-08-13     2008-05-01   -627 days        -627   \n",
       "8890067390                2006-11-06     2006-05-01    189 days         189   \n",
       "\n",
       "            total_amt  coinamt  inpatded  bloodded  pripyamt  indmeded  \\\n",
       "patient_id                                                               \n",
       "8844065341      13309        0       952         0         0         0   \n",
       "8842059335       5920        0       952         0         0         0   \n",
       "8890073491       6248        0       952         0         0       187   \n",
       "4422191074       7616        0       952         0         0       388   \n",
       "8890067390       4936        0       952         0         0         0   \n",
       "\n",
       "            passthru  reimbamt  \n",
       "patient_id                      \n",
       "8844065341         0     12357  \n",
       "8842059335         0      4968  \n",
       "8890073491         0      5109  \n",
       "4422191074         0      6276  \n",
       "8890067390         0      3984  "
      ]
     },
     "execution_count": 88,
     "metadata": {},
     "output_type": "execute_result"
    }
   ],
   "source": [
    "dgcontrol[goodcols].head()"
   ]
  },
  {
   "cell_type": "code",
   "execution_count": 90,
   "metadata": {
    "collapsed": false
   },
   "outputs": [],
   "source": [
    "good_claims_filter_treatment = dgtreatment.delta_days > 0\n",
    "good_claims_filter_control = dgcontrol.delta_days > 0"
   ]
  },
  {
   "cell_type": "code",
   "execution_count": 92,
   "metadata": {
    "collapsed": false
   },
   "outputs": [],
   "source": [
    "dgtreatmentgoodclaims = dgtreatment[good_claims_filter_treatment].copy()\n",
    "dgcontrolgoodclaims = dgcontrol[good_claims_filter_control].copy()"
   ]
  },
  {
   "cell_type": "code",
   "execution_count": 93,
   "metadata": {
    "collapsed": false
   },
   "outputs": [
    {
     "data": {
      "text/html": [
       "<div>\n",
       "<table border=\"1\" class=\"dataframe\">\n",
       "  <thead>\n",
       "    <tr style=\"text-align: right;\">\n",
       "      <th></th>\n",
       "      <th>medpar_admission_date_new</th>\n",
       "      <th>yrdx_plus_modx</th>\n",
       "      <th>time_delta</th>\n",
       "      <th>delta_days</th>\n",
       "      <th>total_amt</th>\n",
       "      <th>coinamt</th>\n",
       "      <th>inpatded</th>\n",
       "      <th>bloodded</th>\n",
       "      <th>pripyamt</th>\n",
       "      <th>indmeded</th>\n",
       "      <th>passthru</th>\n",
       "      <th>reimbamt</th>\n",
       "    </tr>\n",
       "    <tr>\n",
       "      <th>patient_id</th>\n",
       "      <th></th>\n",
       "      <th></th>\n",
       "      <th></th>\n",
       "      <th></th>\n",
       "      <th></th>\n",
       "      <th></th>\n",
       "      <th></th>\n",
       "      <th></th>\n",
       "      <th></th>\n",
       "      <th></th>\n",
       "      <th></th>\n",
       "      <th></th>\n",
       "    </tr>\n",
       "  </thead>\n",
       "  <tbody>\n",
       "    <tr>\n",
       "      <th>8860084330</th>\n",
       "      <td>2006-12-06</td>\n",
       "      <td>2006-01-01</td>\n",
       "      <td>339 days</td>\n",
       "      <td>339</td>\n",
       "      <td>13399</td>\n",
       "      <td>0</td>\n",
       "      <td>952</td>\n",
       "      <td>0</td>\n",
       "      <td>0</td>\n",
       "      <td>0</td>\n",
       "      <td>0</td>\n",
       "      <td>12447</td>\n",
       "    </tr>\n",
       "    <tr>\n",
       "      <th>8899006269</th>\n",
       "      <td>2006-02-18</td>\n",
       "      <td>2006-01-01</td>\n",
       "      <td>48 days</td>\n",
       "      <td>48</td>\n",
       "      <td>5432</td>\n",
       "      <td>0</td>\n",
       "      <td>952</td>\n",
       "      <td>0</td>\n",
       "      <td>0</td>\n",
       "      <td>0</td>\n",
       "      <td>0</td>\n",
       "      <td>4480</td>\n",
       "    </tr>\n",
       "    <tr>\n",
       "      <th>8884030330</th>\n",
       "      <td>2006-09-25</td>\n",
       "      <td>2006-04-01</td>\n",
       "      <td>177 days</td>\n",
       "      <td>177</td>\n",
       "      <td>5851</td>\n",
       "      <td>0</td>\n",
       "      <td>952</td>\n",
       "      <td>0</td>\n",
       "      <td>0</td>\n",
       "      <td>635</td>\n",
       "      <td>0</td>\n",
       "      <td>4264</td>\n",
       "    </tr>\n",
       "    <tr>\n",
       "      <th>8827052320</th>\n",
       "      <td>2006-10-24</td>\n",
       "      <td>2006-04-01</td>\n",
       "      <td>206 days</td>\n",
       "      <td>206</td>\n",
       "      <td>15408</td>\n",
       "      <td>0</td>\n",
       "      <td>952</td>\n",
       "      <td>0</td>\n",
       "      <td>0</td>\n",
       "      <td>0</td>\n",
       "      <td>0</td>\n",
       "      <td>14456</td>\n",
       "    </tr>\n",
       "    <tr>\n",
       "      <th>8827052320</th>\n",
       "      <td>2006-10-22</td>\n",
       "      <td>2006-04-01</td>\n",
       "      <td>204 days</td>\n",
       "      <td>204</td>\n",
       "      <td>3554</td>\n",
       "      <td>0</td>\n",
       "      <td>0</td>\n",
       "      <td>0</td>\n",
       "      <td>0</td>\n",
       "      <td>0</td>\n",
       "      <td>0</td>\n",
       "      <td>3554</td>\n",
       "    </tr>\n",
       "  </tbody>\n",
       "</table>\n",
       "</div>"
      ],
      "text/plain": [
       "           medpar_admission_date_new yrdx_plus_modx  time_delta  delta_days  \\\n",
       "patient_id                                                                    \n",
       "8860084330                2006-12-06     2006-01-01    339 days         339   \n",
       "8899006269                2006-02-18     2006-01-01     48 days          48   \n",
       "8884030330                2006-09-25     2006-04-01    177 days         177   \n",
       "8827052320                2006-10-24     2006-04-01    206 days         206   \n",
       "8827052320                2006-10-22     2006-04-01    204 days         204   \n",
       "\n",
       "            total_amt  coinamt  inpatded  bloodded  pripyamt  indmeded  \\\n",
       "patient_id                                                               \n",
       "8860084330      13399        0       952         0         0         0   \n",
       "8899006269       5432        0       952         0         0         0   \n",
       "8884030330       5851        0       952         0         0       635   \n",
       "8827052320      15408        0       952         0         0         0   \n",
       "8827052320       3554        0         0         0         0         0   \n",
       "\n",
       "            passthru  reimbamt  \n",
       "patient_id                      \n",
       "8860084330         0     12447  \n",
       "8899006269         0      4480  \n",
       "8884030330         0      4264  \n",
       "8827052320         0     14456  \n",
       "8827052320         0      3554  "
      ]
     },
     "execution_count": 93,
     "metadata": {},
     "output_type": "execute_result"
    }
   ],
   "source": [
    "dgtreatmentgoodclaims[goodcols].head()"
   ]
  },
  {
   "cell_type": "code",
   "execution_count": 94,
   "metadata": {
    "collapsed": false
   },
   "outputs": [
    {
     "data": {
      "text/html": [
       "<div>\n",
       "<table border=\"1\" class=\"dataframe\">\n",
       "  <thead>\n",
       "    <tr style=\"text-align: right;\">\n",
       "      <th></th>\n",
       "      <th>medpar_admission_date_new</th>\n",
       "      <th>yrdx_plus_modx</th>\n",
       "      <th>time_delta</th>\n",
       "      <th>delta_days</th>\n",
       "      <th>total_amt</th>\n",
       "      <th>coinamt</th>\n",
       "      <th>inpatded</th>\n",
       "      <th>bloodded</th>\n",
       "      <th>pripyamt</th>\n",
       "      <th>indmeded</th>\n",
       "      <th>passthru</th>\n",
       "      <th>reimbamt</th>\n",
       "    </tr>\n",
       "    <tr>\n",
       "      <th>patient_id</th>\n",
       "      <th></th>\n",
       "      <th></th>\n",
       "      <th></th>\n",
       "      <th></th>\n",
       "      <th></th>\n",
       "      <th></th>\n",
       "      <th></th>\n",
       "      <th></th>\n",
       "      <th></th>\n",
       "      <th></th>\n",
       "      <th></th>\n",
       "      <th></th>\n",
       "    </tr>\n",
       "  </thead>\n",
       "  <tbody>\n",
       "    <tr>\n",
       "      <th>8890067390</th>\n",
       "      <td>2006-11-06</td>\n",
       "      <td>2006-05-01</td>\n",
       "      <td>189 days</td>\n",
       "      <td>189</td>\n",
       "      <td>4936</td>\n",
       "      <td>0</td>\n",
       "      <td>952</td>\n",
       "      <td>0</td>\n",
       "      <td>0</td>\n",
       "      <td>0</td>\n",
       "      <td>0</td>\n",
       "      <td>3984</td>\n",
       "    </tr>\n",
       "    <tr>\n",
       "      <th>8806031320</th>\n",
       "      <td>2006-06-08</td>\n",
       "      <td>2006-02-01</td>\n",
       "      <td>127 days</td>\n",
       "      <td>127</td>\n",
       "      <td>34370</td>\n",
       "      <td>0</td>\n",
       "      <td>952</td>\n",
       "      <td>0</td>\n",
       "      <td>0</td>\n",
       "      <td>6850</td>\n",
       "      <td>0</td>\n",
       "      <td>26568</td>\n",
       "    </tr>\n",
       "    <tr>\n",
       "      <th>8806031320</th>\n",
       "      <td>2006-06-27</td>\n",
       "      <td>2006-02-01</td>\n",
       "      <td>146 days</td>\n",
       "      <td>146</td>\n",
       "      <td>34739</td>\n",
       "      <td>0</td>\n",
       "      <td>0</td>\n",
       "      <td>0</td>\n",
       "      <td>0</td>\n",
       "      <td>3880</td>\n",
       "      <td>0</td>\n",
       "      <td>30859</td>\n",
       "    </tr>\n",
       "    <tr>\n",
       "      <th>8865083320</th>\n",
       "      <td>2006-08-14</td>\n",
       "      <td>2006-01-01</td>\n",
       "      <td>225 days</td>\n",
       "      <td>225</td>\n",
       "      <td>10682</td>\n",
       "      <td>0</td>\n",
       "      <td>952</td>\n",
       "      <td>0</td>\n",
       "      <td>0</td>\n",
       "      <td>0</td>\n",
       "      <td>0</td>\n",
       "      <td>9730</td>\n",
       "    </tr>\n",
       "    <tr>\n",
       "      <th>8809018330</th>\n",
       "      <td>2006-02-07</td>\n",
       "      <td>2006-02-01</td>\n",
       "      <td>6 days</td>\n",
       "      <td>6</td>\n",
       "      <td>13375</td>\n",
       "      <td>0</td>\n",
       "      <td>0</td>\n",
       "      <td>0</td>\n",
       "      <td>0</td>\n",
       "      <td>0</td>\n",
       "      <td>0</td>\n",
       "      <td>13375</td>\n",
       "    </tr>\n",
       "  </tbody>\n",
       "</table>\n",
       "</div>"
      ],
      "text/plain": [
       "           medpar_admission_date_new yrdx_plus_modx  time_delta  delta_days  \\\n",
       "patient_id                                                                    \n",
       "8890067390                2006-11-06     2006-05-01    189 days         189   \n",
       "8806031320                2006-06-08     2006-02-01    127 days         127   \n",
       "8806031320                2006-06-27     2006-02-01    146 days         146   \n",
       "8865083320                2006-08-14     2006-01-01    225 days         225   \n",
       "8809018330                2006-02-07     2006-02-01      6 days           6   \n",
       "\n",
       "            total_amt  coinamt  inpatded  bloodded  pripyamt  indmeded  \\\n",
       "patient_id                                                               \n",
       "8890067390       4936        0       952         0         0         0   \n",
       "8806031320      34370        0       952         0         0      6850   \n",
       "8806031320      34739        0         0         0         0      3880   \n",
       "8865083320      10682        0       952         0         0         0   \n",
       "8809018330      13375        0         0         0         0         0   \n",
       "\n",
       "            passthru  reimbamt  \n",
       "patient_id                      \n",
       "8890067390         0      3984  \n",
       "8806031320         0     26568  \n",
       "8806031320         0     30859  \n",
       "8865083320         0      9730  \n",
       "8809018330         0     13375  "
      ]
     },
     "execution_count": 94,
     "metadata": {},
     "output_type": "execute_result"
    }
   ],
   "source": [
    "dgcontrolgoodclaims[goodcols].head()"
   ]
  },
  {
   "cell_type": "code",
   "execution_count": 95,
   "metadata": {
    "collapsed": true
   },
   "outputs": [],
   "source": [
    "dgtreatment['srvm1'] = df_all_good_indices['srvm1']"
   ]
  },
  {
   "cell_type": "code",
   "execution_count": 96,
   "metadata": {
    "collapsed": true
   },
   "outputs": [],
   "source": [
    "dgcontrol['srvm1'] = df_all_good_indices['srvm1']"
   ]
  },
  {
   "cell_type": "code",
   "execution_count": 97,
   "metadata": {
    "collapsed": false
   },
   "outputs": [
    {
     "data": {
      "text/plain": [
       "(1037, 178)"
      ]
     },
     "execution_count": 97,
     "metadata": {},
     "output_type": "execute_result"
    }
   ],
   "source": [
    "dgtreatment.shape"
   ]
  },
  {
   "cell_type": "code",
   "execution_count": 98,
   "metadata": {
    "collapsed": true
   },
   "outputs": [],
   "source": [
    "def make_months(i):\n",
    "    return int(i.days/30)"
   ]
  },
  {
   "cell_type": "code",
   "execution_count": 99,
   "metadata": {
    "collapsed": true
   },
   "outputs": [],
   "source": [
    "dgtreatment['delta_months'] = dgtreatment['time_delta'].apply(make_months)\n",
    "dgcontrol['delta_months'] = dgcontrol['time_delta'].apply(make_months)"
   ]
  },
  {
   "cell_type": "code",
   "execution_count": 112,
   "metadata": {
    "collapsed": false
   },
   "outputs": [],
   "source": [
    "goodcols = ['patient_id','medpar_admission_date_new','yrdx_plus_modx', 'time_delta','delta_days',\n",
    "            'delta_months','srvm1','total_amt','los',\n",
    "           'coinamt','inpatded','bloodded', 'pripyamt', \n",
    "           'indmeded','passthru','reimbamt']"
   ]
  },
  {
   "cell_type": "code",
   "execution_count": 113,
   "metadata": {
    "collapsed": true
   },
   "outputs": [],
   "source": [
    "dgtreatmentgoodclaims = dgtreatment[good_claims_filter_treatment].copy()\n",
    "dgcontrolgoodclaims = dgcontrol[good_claims_filter_control].copy()"
   ]
  },
  {
   "cell_type": "code",
   "execution_count": 114,
   "metadata": {
    "collapsed": false
   },
   "outputs": [
    {
     "data": {
      "text/html": [
       "<div>\n",
       "<table border=\"1\" class=\"dataframe\">\n",
       "  <thead>\n",
       "    <tr style=\"text-align: right;\">\n",
       "      <th></th>\n",
       "      <th>patient_id</th>\n",
       "      <th>medpar_admission_date_new</th>\n",
       "      <th>yrdx_plus_modx</th>\n",
       "      <th>time_delta</th>\n",
       "      <th>delta_days</th>\n",
       "      <th>delta_months</th>\n",
       "      <th>srvm1</th>\n",
       "      <th>total_amt</th>\n",
       "      <th>los</th>\n",
       "      <th>coinamt</th>\n",
       "      <th>inpatded</th>\n",
       "      <th>bloodded</th>\n",
       "      <th>pripyamt</th>\n",
       "      <th>indmeded</th>\n",
       "      <th>passthru</th>\n",
       "      <th>reimbamt</th>\n",
       "    </tr>\n",
       "    <tr>\n",
       "      <th>patient_id</th>\n",
       "      <th></th>\n",
       "      <th></th>\n",
       "      <th></th>\n",
       "      <th></th>\n",
       "      <th></th>\n",
       "      <th></th>\n",
       "      <th></th>\n",
       "      <th></th>\n",
       "      <th></th>\n",
       "      <th></th>\n",
       "      <th></th>\n",
       "      <th></th>\n",
       "      <th></th>\n",
       "      <th></th>\n",
       "      <th></th>\n",
       "      <th></th>\n",
       "    </tr>\n",
       "  </thead>\n",
       "  <tbody>\n",
       "    <tr>\n",
       "      <th>8860084330</th>\n",
       "      <td>8860084330</td>\n",
       "      <td>2006-12-06</td>\n",
       "      <td>2006-01-01</td>\n",
       "      <td>339 days</td>\n",
       "      <td>339</td>\n",
       "      <td>11</td>\n",
       "      <td>77</td>\n",
       "      <td>13399</td>\n",
       "      <td>1</td>\n",
       "      <td>0</td>\n",
       "      <td>952</td>\n",
       "      <td>0</td>\n",
       "      <td>0</td>\n",
       "      <td>0</td>\n",
       "      <td>0</td>\n",
       "      <td>12447</td>\n",
       "    </tr>\n",
       "    <tr>\n",
       "      <th>8899006269</th>\n",
       "      <td>8899006269</td>\n",
       "      <td>2006-02-18</td>\n",
       "      <td>2006-01-01</td>\n",
       "      <td>48 days</td>\n",
       "      <td>48</td>\n",
       "      <td>1</td>\n",
       "      <td>74</td>\n",
       "      <td>5432</td>\n",
       "      <td>1</td>\n",
       "      <td>0</td>\n",
       "      <td>952</td>\n",
       "      <td>0</td>\n",
       "      <td>0</td>\n",
       "      <td>0</td>\n",
       "      <td>0</td>\n",
       "      <td>4480</td>\n",
       "    </tr>\n",
       "    <tr>\n",
       "      <th>8884030330</th>\n",
       "      <td>8884030330</td>\n",
       "      <td>2006-09-25</td>\n",
       "      <td>2006-04-01</td>\n",
       "      <td>177 days</td>\n",
       "      <td>177</td>\n",
       "      <td>5</td>\n",
       "      <td>80</td>\n",
       "      <td>5851</td>\n",
       "      <td>2</td>\n",
       "      <td>0</td>\n",
       "      <td>952</td>\n",
       "      <td>0</td>\n",
       "      <td>0</td>\n",
       "      <td>635</td>\n",
       "      <td>0</td>\n",
       "      <td>4264</td>\n",
       "    </tr>\n",
       "    <tr>\n",
       "      <th>8827052320</th>\n",
       "      <td>8827052320</td>\n",
       "      <td>2006-10-24</td>\n",
       "      <td>2006-04-01</td>\n",
       "      <td>206 days</td>\n",
       "      <td>206</td>\n",
       "      <td>6</td>\n",
       "      <td>78</td>\n",
       "      <td>15408</td>\n",
       "      <td>2</td>\n",
       "      <td>0</td>\n",
       "      <td>952</td>\n",
       "      <td>0</td>\n",
       "      <td>0</td>\n",
       "      <td>0</td>\n",
       "      <td>0</td>\n",
       "      <td>14456</td>\n",
       "    </tr>\n",
       "    <tr>\n",
       "      <th>8827052320</th>\n",
       "      <td>8827052320</td>\n",
       "      <td>2006-10-22</td>\n",
       "      <td>2006-04-01</td>\n",
       "      <td>204 days</td>\n",
       "      <td>204</td>\n",
       "      <td>6</td>\n",
       "      <td>78</td>\n",
       "      <td>3554</td>\n",
       "      <td>1</td>\n",
       "      <td>0</td>\n",
       "      <td>0</td>\n",
       "      <td>0</td>\n",
       "      <td>0</td>\n",
       "      <td>0</td>\n",
       "      <td>0</td>\n",
       "      <td>3554</td>\n",
       "    </tr>\n",
       "  </tbody>\n",
       "</table>\n",
       "</div>"
      ],
      "text/plain": [
       "            patient_id medpar_admission_date_new yrdx_plus_modx  time_delta  \\\n",
       "patient_id                                                                    \n",
       "8860084330  8860084330                2006-12-06     2006-01-01    339 days   \n",
       "8899006269  8899006269                2006-02-18     2006-01-01     48 days   \n",
       "8884030330  8884030330                2006-09-25     2006-04-01    177 days   \n",
       "8827052320  8827052320                2006-10-24     2006-04-01    206 days   \n",
       "8827052320  8827052320                2006-10-22     2006-04-01    204 days   \n",
       "\n",
       "            delta_days  delta_months  srvm1  total_amt  los  coinamt  \\\n",
       "patient_id                                                             \n",
       "8860084330         339            11     77      13399    1        0   \n",
       "8899006269          48             1     74       5432    1        0   \n",
       "8884030330         177             5     80       5851    2        0   \n",
       "8827052320         206             6     78      15408    2        0   \n",
       "8827052320         204             6     78       3554    1        0   \n",
       "\n",
       "            inpatded  bloodded  pripyamt  indmeded  passthru  reimbamt  \n",
       "patient_id                                                              \n",
       "8860084330       952         0         0         0         0     12447  \n",
       "8899006269       952         0         0         0         0      4480  \n",
       "8884030330       952         0         0       635         0      4264  \n",
       "8827052320       952         0         0         0         0     14456  \n",
       "8827052320         0         0         0         0         0      3554  "
      ]
     },
     "execution_count": 114,
     "metadata": {},
     "output_type": "execute_result"
    }
   ],
   "source": [
    "dgtreatmentgoodclaims[goodcols].head()"
   ]
  },
  {
   "cell_type": "code",
   "execution_count": 115,
   "metadata": {
    "collapsed": false
   },
   "outputs": [
    {
     "data": {
      "text/plain": [
       "count    815.000000\n",
       "mean     -16.807362\n",
       "std       21.508491\n",
       "min      -82.000000\n",
       "25%      -31.000000\n",
       "50%      -13.000000\n",
       "75%        0.000000\n",
       "max       18.000000\n",
       "dtype: float64"
      ]
     },
     "execution_count": 115,
     "metadata": {},
     "output_type": "execute_result"
    }
   ],
   "source": [
    "a = dgtreatmentgoodclaims.delta_months - dgtreatmentgoodclaims.srvm1\n",
    "a.describe()"
   ]
  },
  {
   "cell_type": "markdown",
   "metadata": {},
   "source": [
    "# <font color=\"#E56717\">In the plot below, the 20% of patients with claims at a date further in the future than the followup time survival months in the SEER piece must be the 2011 DX patients and their 2011, 2012, and 2013 claims. Makes sense; so let's just look at all claims after the DX</font>\n",
    "\n",
    "# 80% of the claims are prior to the listed the dx date plus survival months\n",
    "\n",
    "In order to capture the costs of those patients who were diagnosed write at the end of 2011 (and so have low, censored values of srvm1), we need to just include all claims after the dx date"
   ]
  },
  {
   "cell_type": "code",
   "execution_count": 116,
   "metadata": {
    "collapsed": false
   },
   "outputs": [
    {
     "data": {
      "text/plain": [
       "<matplotlib.axes._subplots.AxesSubplot at 0x3100ac7b8>"
      ]
     },
     "execution_count": 116,
     "metadata": {},
     "output_type": "execute_result"
    },
    {
     "data": {
      "image/png": "[encoded data removed]",
      "text/plain": [
       "<matplotlib.figure.Figure at 0x3100c5e80>"
      ]
     },
     "metadata": {},
     "output_type": "display_data"
    }
   ],
   "source": [
    "a.value_counts(normalize=True).sort_index().cumsum().plot(drawstyle='steps')"
   ]
  },
  {
   "cell_type": "markdown",
   "metadata": {},
   "source": [
    "# <font color=\"#E56717\">Not all patients are in the MEdpar file, but all are in the NCH file concatenated with the OUTSAF file; we can perform a paired test to see if there are statistically significant differences after getting the analog of total_amt for those two files and concatenating with this medpar result</font>\n",
    "\n",
    "\n",
    "# For now, let's just look at the CDFs of the tot_amt grouped for each patient (a patient may have more than one stay). Do the same for 'los': length of stay in days"
   ]
  },
  {
   "cell_type": "code",
   "execution_count": 117,
   "metadata": {
    "collapsed": true
   },
   "outputs": [],
   "source": [
    "dgmedpartreatmentgroup = dgtreatmentgoodclaims.groupby('patient_id')"
   ]
  },
  {
   "cell_type": "code",
   "execution_count": 118,
   "metadata": {
    "collapsed": true
   },
   "outputs": [],
   "source": [
    "dgmedparcontrolgroup = dgcontrolgoodclaims.groupby('patient_id')"
   ]
  },
  {
   "cell_type": "code",
   "execution_count": null,
   "metadata": {
    "collapsed": true
   },
   "outputs": [],
   "source": []
  }
 ],
 "metadata": {
  "kernelspec": {
   "display_name": "Python 3",
   "language": "python",
   "name": "python3"
  },
  "language_info": {
   "codemirror_mode": {
    "name": "ipython",
    "version": 3
   },
   "file_extension": ".py",
   "mimetype": "text/x-python",
   "name": "python",
   "nbconvert_exporter": "python",
   "pygments_lexer": "ipython3",
   "version": "3.5.1"
  },
  "widgets": {
   "state": {},
   "version": "1.1.2"
  }
 },
 "nbformat": 4,
 "nbformat_minor": 0
}
