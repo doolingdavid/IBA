{
 "cells": [
  {
   "cell_type": "code",
   "execution_count": 1,
   "metadata": {
    "collapsed": false,
    "slideshow": {
     "slide_type": "skip"
    }
   },
   "outputs": [
    {
     "data": {
      "text/html": [
       "<script>\n",
       "code_show=true; \n",
       "function code_toggle() {\n",
       " if (code_show){\n",
       " $('div.input').hide();\n",
       " } else {\n",
       " $('div.input').show();\n",
       " }\n",
       " code_show = !code_show\n",
       "} \n",
       "$( document ).ready(code_toggle);\n",
       "</script>\n",
       "<form action=\"javascript:code_toggle()\"><input type=\"submit\" value=\"Click here to toggle on/off the raw code.\"></form>"
      ],
      "text/plain": [
       "<IPython.core.display.HTML object>"
      ]
     },
     "execution_count": 1,
     "metadata": {},
     "output_type": "execute_result"
    }
   ],
   "source": [
    "from IPython.display import HTML\n",
    "\n",
    "HTML('''<script>\n",
    "code_show=true; \n",
    "function code_toggle() {\n",
    " if (code_show){\n",
    " $('div.input').hide();\n",
    " } else {\n",
    " $('div.input').show();\n",
    " }\n",
    " code_show = !code_show\n",
    "} \n",
    "$( document ).ready(code_toggle);\n",
    "</script>\n",
    "<form action=\"javascript:code_toggle()\"><input type=\"submit\" value=\"Click here to toggle on/off the raw code.\"></form>''')  "
   ]
  },
  {
   "cell_type": "code",
   "execution_count": 2,
   "metadata": {
    "collapsed": false,
    "slideshow": {
     "slide_type": "skip"
    }
   },
   "outputs": [
    {
     "name": "stdout",
     "output_type": "stream",
     "text": [
      "\\\\iobsdc01\\SharedDocs\\SEER_MEDICARE\\SEER_MEDICARE_STAGING\n"
     ]
    }
   ],
   "source": [
    "import numpy as np\n",
    "import pandas as pd\n",
    "import matplotlib.pyplot as plt\n",
    "from pandas import Series, DataFrame\n",
    "import pytz\n",
    "from pytz import common_timezones, all_timezones\n",
    "import matplotlib\n",
    "matplotlib.style.use('ggplot')\n",
    "%matplotlib inline\n",
    "from datetime import datetime\n",
    "import scipy as sp\n",
    "import statsmodels.api as sm\n",
    "import statsmodels.formula.api as smf\n",
    "matplotlib.style.use('fivethirtyeight')\n",
    "matplotlib.style.use('seaborn-talk')\n",
    "import os\n",
    "import collections\n",
    "\n",
    "preDouble = \"\\\\\\\\iobsdc01\\\\SharedDocs\\\\SEER_MEDICARE\\\\SEER_MEDICARE_STAGING\"\n",
    "new = os.chdir(preDouble)\n",
    "print(preDouble)"
   ]
  },
  {
   "cell_type": "code",
   "execution_count": 3,
   "metadata": {
    "collapsed": true,
    "slideshow": {
     "slide_type": "skip"
    }
   },
   "outputs": [],
   "source": [
    "df = pd.read_pickle('dfpedsfFirsts.pickle')"
   ]
  },
  {
   "cell_type": "markdown",
   "metadata": {
    "slideshow": {
     "slide_type": "slide"
    }
   },
   "source": [
    "## <font color='steelblue'>Description of the SEER-Medicare Data Files format</font>\n",
    "\n",
    "Fixed width files. Data dictionary available to make the data not only machine readable but meaningful to humans\n",
    "\n",
    "* Patient Entitlement and Diagnosis Summary File (PEDSF)\n",
    "* Medicare Provider Analysis and Review (MEDPAR)\n",
    "* Carrier Claims (old file name Physician/Supplier Part B (NCH))\n",
    "* Outpatient Claims\n",
    "* Home Health Agency (HAA)\n",
    "* Hospice\n",
    "* Durable Medical Equipment (DME)\n",
    "* Medicare Part D Data"
   ]
  },
  {
   "cell_type": "markdown",
   "metadata": {
    "slideshow": {
     "slide_type": "slide"
    }
   },
   "source": [
    "## <font color='steelblue'>First order of business is to identify all the patients in the SEER-Medicare data who have received PBT</font>\n",
    "\n",
    "### <font color='steelblue'>Reminder:</font>\n",
    "\n",
    "The relevant HCPCS are:\n",
    "\n",
    "* 77520 - Proton trmt simple w/o comp\n",
    "* 77522 - Proton trmt simple w/comp\n",
    "* 77523 - Proton trmt intermediate\n",
    "* 77525 - Proton treatment complex\n",
    "\n",
    "as well as the HCPCS code S8030 (Scleral application of tantalum ring(s) for localization of lesions for proton beam therapy)."
   ]
  },
  {
   "cell_type": "markdown",
   "metadata": {
    "slideshow": {
     "slide_type": "slide"
    }
   },
   "source": [
    "### <font color='steelblue'>Use the Outpatient Claims and Carrier Claims files</font>\n",
    "\n",
    "\n",
    "* 218 Outpatient Claims files\n",
    "* 207 Carrier Claims files\n",
    "\n",
    "\n",
    "Loop through all of these files and capture the set of all the ```patient_id``` s corresponding to the PBT HCPCS codes\n",
    "\n",
    "**Result: 1584 unique patients appear in the claims files for claims in years 2006-2013**\n"
   ]
  },
  {
   "cell_type": "code",
   "execution_count": 4,
   "metadata": {
    "collapsed": true,
    "slideshow": {
     "slide_type": "skip"
    }
   },
   "outputs": [],
   "source": [
    "mask = (df['srvm1'] != 9999)\n",
    "dfall = df[mask]"
   ]
  },
  {
   "cell_type": "code",
   "execution_count": 5,
   "metadata": {
    "collapsed": true,
    "slideshow": {
     "slide_type": "skip"
    }
   },
   "outputs": [],
   "source": [
    "geomask = (dfall['elevation_1'] != dfall['FIPScombo_1']) \n",
    "\n",
    "dfall = dfall[geomask].copy()"
   ]
  },
  {
   "cell_type": "code",
   "execution_count": 6,
   "metadata": {
    "collapsed": true,
    "slideshow": {
     "slide_type": "skip"
    }
   },
   "outputs": [],
   "source": [
    "dfall['elevation_1'].replace('99999',np.nan,inplace=True)\n",
    "dfall['elevation_2'].replace('99999',np.nan,inplace=True)\n",
    "dfall['elevation_3'].replace('99999',np.nan,inplace=True)\n",
    "\n",
    "dfall['lat_1'].replace('99999',np.nan,inplace=True)\n",
    "dfall['lat_2'].replace('99999',np.nan,inplace=True)\n",
    "dfall['lat_3'].replace('99999',np.nan,inplace=True)\n",
    "\n",
    "dfall['lng_1'].replace('99999',np.nan,inplace=True)\n",
    "dfall['lng_2'].replace('99999',np.nan,inplace=True)\n",
    "dfall['lng_3'].replace('99999',np.nan,inplace=True)\n",
    "\n",
    "dfall['elevation_1'] = dfall['elevation_1'].astype('float')\n",
    "dfall['elevation_2'] = dfall['elevation_2'].astype('float')\n",
    "dfall['elevation_3'] = dfall['elevation_3'].astype('float')\n",
    "\n",
    "dfall['lat_1'] = dfall['lat_1'].astype('float')\n",
    "dfall['lat_2'] = dfall['lat_2'].astype('float')\n",
    "dfall['lat_3'] = dfall['lat_3'].astype('float')\n",
    "\n",
    "dfall['lng_1'] = dfall['lng_1'].astype('float')\n",
    "dfall['lng_2'] = dfall['lng_2'].astype('float')\n",
    "dfall['lng_3'] = dfall['lng_3'].astype('float')"
   ]
  },
  {
   "cell_type": "code",
   "execution_count": 7,
   "metadata": {
    "collapsed": true,
    "slideshow": {
     "slide_type": "skip"
    }
   },
   "outputs": [],
   "source": [
    "import pickle\n",
    "fileObject = open('patient_ids_from_outsaf.pickle', 'rb')\n",
    "b = pickle.load(fileObject)\n",
    "fileObject.close()\n",
    "treatmentindices_outsaf = list(set.union(*b))"
   ]
  },
  {
   "cell_type": "code",
   "execution_count": 8,
   "metadata": {
    "collapsed": true,
    "slideshow": {
     "slide_type": "skip"
    }
   },
   "outputs": [],
   "source": [
    "import pickle\n",
    "fileObject = open('patient_ids_from_nch.pickle', 'rb')\n",
    "b = pickle.load(fileObject)\n",
    "fileObject.close()\n",
    "treatmentindices_nch = list(set.union(*b))"
   ]
  },
  {
   "cell_type": "code",
   "execution_count": 9,
   "metadata": {
    "collapsed": true,
    "slideshow": {
     "slide_type": "skip"
    }
   },
   "outputs": [],
   "source": [
    "bigtreatmentindices = list(set(treatmentindices_nch+treatmentindices_outsaf))\n",
    "\n",
    "dfall.set_index('patient_id', inplace=True,drop=False)\n",
    "\n",
    "allindices = dfall.index"
   ]
  },
  {
   "cell_type": "code",
   "execution_count": 10,
   "metadata": {
    "collapsed": true,
    "slideshow": {
     "slide_type": "skip"
    }
   },
   "outputs": [],
   "source": [
    "bigtreatmentset = set(bigtreatmentindices)\n",
    "allset = set(allindices)\n",
    "\n",
    "\n",
    "alltreatmentindices = list(allset.intersection(bigtreatmentset))\n",
    "\n",
    "treatmentindices = alltreatmentindices\n",
    "#len(treatmentindices)"
   ]
  },
  {
   "cell_type": "markdown",
   "metadata": {
    "slideshow": {
     "slide_type": "skip"
    }
   },
   "source": [
    "### <font color='steelblue'>Now use the pedsf files to perform patient matching, using the ```patient_id``` 's found above</font>\n",
    "\n",
    "List of pedsf files (contains SEER cases for diagnosis year dates 2006-2011):\n",
    "\n",
    "* pedsf.nasopharynx.cancer.txt\n",
    "* pedsf.salivarygland.cancer.txt\n",
    "* pedsf.oropharynx.cancer.txt\n",
    "* pedsf.esophagus.cancer.txt\n",
    "* pedsf.brain.cancer.txt\n",
    "* pedsf.eyeandorbit.cancer.txt\n",
    "* pedsf.softtissue.cancer.txt\n",
    "* pedsf.prostate.cancer.file01.txt\n",
    "* pedsf.prostate.cancer.file02.txt\n",
    "* pedsf.prostate.cancer.file03.txt\n",
    "* pedsf.lung.cancer.file01.txt\n",
    "* pedsf.lung.cancer.file02.txt\n",
    "\n"
   ]
  },
  {
   "cell_type": "markdown",
   "metadata": {
    "slideshow": {
     "slide_type": "slide"
    }
   },
   "source": [
    "### <font color='steelblue'>The pedsf files contain one single row for each patient, and contain the information for up to 10 different primary tumors.</font>\n",
    "\n",
    "So the prostate cancer files contain all patients with a cancer diagnosis where the primary site is the prostate for ANY of the potentially 10 different primary tumors associated with that patient and where that prostate site tumor has a diagnosis date anywhere between 2006 and 2011.\n",
    "\n",
    " "
   ]
  },
  {
   "cell_type": "code",
   "execution_count": 11,
   "metadata": {
    "collapsed": true,
    "slideshow": {
     "slide_type": "skip"
    }
   },
   "outputs": [],
   "source": [
    "import pedsfhelp\n",
    "\n",
    "df2 = pedsfhelp.make_clean_dataframe('pedsf.salivarygland.cancer.txt')\n",
    "#print(df2.shape)"
   ]
  },
  {
   "cell_type": "markdown",
   "metadata": {
    "slideshow": {
     "slide_type": "slide"
    }
   },
   "source": [
    "For example, in the ```pedsf.salivarygland.cancer.txt```, the cancer sites for the first tumor listed for each patient has the following distribution:"
   ]
  },
  {
   "cell_type": "code",
   "execution_count": 12,
   "metadata": {
    "collapsed": false,
    "slideshow": {
     "slide_type": "skip"
    }
   },
   "outputs": [
    {
     "data": {
      "text/html": [
       "\n",
       "    <div class=\"bk-banner\">\n",
       "        <a href=\"http://bokeh.pydata.org\" target=\"_blank\" class=\"bk-logo bk-logo-small bk-logo-notebook\"></a>\n",
       "        <span id=\"45270a37-7d36-42de-99af-6b84523403d5\">Loading BokehJS ...</span>\n",
       "    </div>"
      ]
     },
     "metadata": {},
     "output_type": "display_data"
    },
    {
     "data": {
      "application/javascript": [
       "\n",
       "(function(global) {\n",
       "  function now() {\n",
       "    return new Date();\n",
       "  }\n",
       "\n",
       "  if (typeof (window._bokeh_onload_callbacks) === \"undefined\") {\n",
       "    window._bokeh_onload_callbacks = [];\n",
       "  }\n",
       "\n",
       "  function run_callbacks() {\n",
       "    window._bokeh_onload_callbacks.forEach(function(callback) { callback() });\n",
       "    delete window._bokeh_onload_callbacks\n",
       "    console.info(\"Bokeh: all callbacks have finished\");\n",
       "  }\n",
       "\n",
       "  function load_libs(js_urls, callback) {\n",
       "    window._bokeh_onload_callbacks.push(callback);\n",
       "    if (window._bokeh_is_loading > 0) {\n",
       "      console.log(\"Bokeh: BokehJS is being loaded, scheduling callback at\", now());\n",
       "      return null;\n",
       "    }\n",
       "    if (js_urls == null || js_urls.length === 0) {\n",
       "      run_callbacks();\n",
       "      return null;\n",
       "    }\n",
       "    console.log(\"Bokeh: BokehJS not loaded, scheduling load and callback at\", now());\n",
       "    window._bokeh_is_loading = js_urls.length;\n",
       "    for (var i = 0; i < js_urls.length; i++) {\n",
       "      var url = js_urls[i];\n",
       "      var s = document.createElement('script');\n",
       "      s.src = url;\n",
       "      s.async = false;\n",
       "      s.onreadystatechange = s.onload = function() {\n",
       "        window._bokeh_is_loading--;\n",
       "        if (window._bokeh_is_loading === 0) {\n",
       "          console.log(\"Bokeh: all BokehJS libraries loaded\");\n",
       "          run_callbacks()\n",
       "        }\n",
       "      };\n",
       "      s.onerror = function() {\n",
       "        console.warn(\"failed to load library \" + url);\n",
       "      };\n",
       "      console.log(\"Bokeh: injecting script tag for BokehJS library: \", url);\n",
       "      document.getElementsByTagName(\"head\")[0].appendChild(s);\n",
       "    }\n",
       "  };\n",
       "\n",
       "  var js_urls = ['https://cdn.pydata.org/bokeh/release/bokeh-0.11.1.min.js', 'https://cdn.pydata.org/bokeh/release/bokeh-widgets-0.11.1.min.js', 'https://cdn.pydata.org/bokeh/release/bokeh-compiler-0.11.1.min.js'];\n",
       "\n",
       "  var inline_js = [\n",
       "    function(Bokeh) {\n",
       "      Bokeh.set_log_level(\"info\");\n",
       "    },\n",
       "    \n",
       "    function(Bokeh) {\n",
       "      Bokeh.$(\"#45270a37-7d36-42de-99af-6b84523403d5\").text(\"BokehJS successfully loaded\");\n",
       "    },\n",
       "    function(Bokeh) {\n",
       "      console.log(\"Bokeh: injecting CSS: https://cdn.pydata.org/bokeh/release/bokeh-0.11.1.min.css\");\n",
       "      Bokeh.embed.inject_css(\"https://cdn.pydata.org/bokeh/release/bokeh-0.11.1.min.css\");\n",
       "      console.log(\"Bokeh: injecting CSS: https://cdn.pydata.org/bokeh/release/bokeh-widgets-0.11.1.min.css\");\n",
       "      Bokeh.embed.inject_css(\"https://cdn.pydata.org/bokeh/release/bokeh-widgets-0.11.1.min.css\");\n",
       "    }\n",
       "  ];\n",
       "\n",
       "  function run_inline_js() {\n",
       "    for (var i = 0; i < inline_js.length; i++) {\n",
       "      inline_js[i](window.Bokeh);\n",
       "    }\n",
       "  }\n",
       "\n",
       "  if (window._bokeh_is_loading === 0) {\n",
       "    console.log(\"Bokeh: BokehJS loaded, going straight to plotting\");\n",
       "    run_inline_js();\n",
       "  } else {\n",
       "    load_libs(js_urls, function() {\n",
       "      console.log(\"Bokeh: BokehJS plotting callback run at\", now());\n",
       "      run_inline_js();\n",
       "    });\n",
       "  }\n",
       "}(this));"
      ]
     },
     "metadata": {},
     "output_type": "display_data"
    }
   ],
   "source": [
    "# Import Bokeh modules for interactive plotting\n",
    "import bokeh.io\n",
    "import bokeh.mpl\n",
    "import bokeh.plotting\n",
    "\n",
    "# Set up Bokeh for inline viewing\n",
    "bokeh.io.output_notebook()"
   ]
  },
  {
   "cell_type": "code",
   "execution_count": 13,
   "metadata": {
    "collapsed": false,
    "slideshow": {
     "slide_type": "slide"
    }
   },
   "outputs": [
    {
     "data": {
      "image/png": "[encoded data removed]",
      "text/plain": [
       "<matplotlib.figure.Figure at 0x2fae41d0>"
      ]
     },
     "metadata": {},
     "output_type": "display_data"
    }
   ],
   "source": [
    "df2.siterwho1.value_counts()[:10][::-1].plot(kind='barh');"
   ]
  },
  {
   "cell_type": "code",
   "execution_count": 14,
   "metadata": {
    "collapsed": false,
    "slideshow": {
     "slide_type": "slide"
    }
   },
   "outputs": [
    {
     "data": {
      "text/html": [
       "\n",
       "\n",
       "    <div class=\"plotdiv\" id=\"aefb92bd-dbfb-486e-8cb7-27237acfcfee\"></div>\n",
       "<script type=\"text/javascript\">\n",
       "  \n",
       "  (function(global) {\n",
       "    function now() {\n",
       "      return new Date();\n",
       "    }\n",
       "  \n",
       "    if (typeof (window._bokeh_onload_callbacks) === \"undefined\") {\n",
       "      window._bokeh_onload_callbacks = [];\n",
       "    }\n",
       "  \n",
       "    function run_callbacks() {\n",
       "      window._bokeh_onload_callbacks.forEach(function(callback) { callback() });\n",
       "      delete window._bokeh_onload_callbacks\n",
       "      console.info(\"Bokeh: all callbacks have finished\");\n",
       "    }\n",
       "  \n",
       "    function load_libs(js_urls, callback) {\n",
       "      window._bokeh_onload_callbacks.push(callback);\n",
       "      if (window._bokeh_is_loading > 0) {\n",
       "        console.log(\"Bokeh: BokehJS is being loaded, scheduling callback at\", now());\n",
       "        return null;\n",
       "      }\n",
       "      if (js_urls == null || js_urls.length === 0) {\n",
       "        run_callbacks();\n",
       "        return null;\n",
       "      }\n",
       "      console.log(\"Bokeh: BokehJS not loaded, scheduling load and callback at\", now());\n",
       "      window._bokeh_is_loading = js_urls.length;\n",
       "      for (var i = 0; i < js_urls.length; i++) {\n",
       "        var url = js_urls[i];\n",
       "        var s = document.createElement('script');\n",
       "        s.src = url;\n",
       "        s.async = false;\n",
       "        s.onreadystatechange = s.onload = function() {\n",
       "          window._bokeh_is_loading--;\n",
       "          if (window._bokeh_is_loading === 0) {\n",
       "            console.log(\"Bokeh: all BokehJS libraries loaded\");\n",
       "            run_callbacks()\n",
       "          }\n",
       "        };\n",
       "        s.onerror = function() {\n",
       "          console.warn(\"failed to load library \" + url);\n",
       "        };\n",
       "        console.log(\"Bokeh: injecting script tag for BokehJS library: \", url);\n",
       "        document.getElementsByTagName(\"head\")[0].appendChild(s);\n",
       "      }\n",
       "    };var element = document.getElementById(\"aefb92bd-dbfb-486e-8cb7-27237acfcfee\");\n",
       "    if (element == null) {\n",
       "      console.log(\"Bokeh: ERROR: autoload.js configured with elementid 'aefb92bd-dbfb-486e-8cb7-27237acfcfee' but no matching script tag was found. \")\n",
       "      return false;\n",
       "    }\n",
       "  \n",
       "    var js_urls = [];\n",
       "  \n",
       "    var inline_js = [\n",
       "      function(Bokeh) {\n",
       "        Bokeh.$(function() {\n",
       "            var docs_json = {\"d5829a1a-6abf-466c-8b01-228e3bde0faf\":{\"roots\":{\"references\":[{\"attributes\":{\"callback\":null,\"column_names\":[\"y\",\"x\",\"line_alpha\",\"color\",\"width\",\"fill_alpha\",\"height\",\"line_color\"],\"data\":{\"chart_index\":[{\"index\":\"Kidney and Renal Pelvis\"}],\"color\":[\"#f22c40\"],\"fill_alpha\":[0.8],\"height\":[26.0],\"index\":[\"Kidney and Renal Pelvis\"],\"line_alpha\":[1.0],\"line_color\":[\"white\"],\"width\":[0.8],\"x\":[\"Kidney and Renal Pelvis\"],\"y\":[13.0]}},\"id\":\"289e6389-e32f-4ffe-aa03-f7cd76c3d8d5\",\"type\":\"ColumnDataSource\"},{\"attributes\":{\"callback\":null,\"column_names\":[\"y\",\"x\",\"line_alpha\",\"color\",\"width\",\"fill_alpha\",\"height\",\"line_color\"],\"data\":{\"chart_index\":[{\"index\":\"NHL - Nodal\"}],\"color\":[\"#f22c40\"],\"fill_alpha\":[0.8],\"height\":[31.0],\"index\":[\"NHL - Nodal\"],\"line_alpha\":[1.0],\"line_color\":[\"white\"],\"width\":[0.8],\"x\":[\"NHL - Nodal\"],\"y\":[15.5]}},\"id\":\"b6b5097f-574e-4ed4-9eea-bdebc93fb83d\",\"type\":\"ColumnDataSource\"},{\"attributes\":{\"callback\":null,\"column_names\":[\"y\",\"x\",\"line_alpha\",\"color\",\"width\",\"fill_alpha\",\"height\",\"line_color\"],\"data\":{\"chart_index\":[{\"index\":\"Thyroid\"}],\"color\":[\"#f22c40\"],\"fill_alpha\":[0.8],\"height\":[26.0],\"index\":[\"Thyroid\"],\"line_alpha\":[1.0],\"line_color\":[\"white\"],\"width\":[0.8],\"x\":[\"Thyroid\"],\"y\":[13.0]}},\"id\":\"68bfe31f-931e-4527-86e3-f4a96672cdf8\",\"type\":\"ColumnDataSource\"},{\"attributes\":{},\"id\":\"09346a16-f106-43d7-b01f-1848b3cf8c09\",\"type\":\"ToolEvents\"},{\"attributes\":{\"fill_alpha\":{\"field\":\"fill_alpha\"},\"fill_color\":{\"field\":\"color\"},\"height\":{\"field\":\"height\",\"units\":\"data\"},\"line_color\":{\"field\":\"line_color\"},\"width\":{\"field\":\"width\",\"units\":\"data\"},\"x\":{\"field\":\"x\"},\"y\":{\"field\":\"y\"}},\"id\":\"0589e35a-b04a-4617-81b1-b95665d27ad5\",\"type\":\"Rect\"},{\"attributes\":{\"callback\":null,\"factors\":[\"Breast\",\"Chronic Lymphocytic Leukemia\",\"Kidney and Renal Pelvis\",\"Lung and Bronchus\",\"Melanoma of the Skin\",\"NHL - Nodal\",\"Prostate\",\"Salivary Gland\",\"Thyroid\",\"Urinary Bladder\"]},\"id\":\"6e3d8575-54c2-4dbc-b5d1-be05340d6bea\",\"type\":\"FactorRange\"},{\"attributes\":{\"data_source\":{\"id\":\"0d967538-6629-4ed5-95ab-81702e085d4b\",\"type\":\"ColumnDataSource\"},\"glyph\":{\"id\":\"fb1ad9d2-c800-49d6-8644-d989427338e9\",\"type\":\"Rect\"},\"hover_glyph\":null,\"nonselection_glyph\":null,\"selection_glyph\":null},\"id\":\"bd1615cb-f68f-4665-9ad4-568455caa324\",\"type\":\"GlyphRenderer\"},{\"attributes\":{\"fill_alpha\":{\"field\":\"fill_alpha\"},\"fill_color\":{\"field\":\"color\"},\"height\":{\"field\":\"height\",\"units\":\"data\"},\"line_color\":{\"field\":\"line_color\"},\"width\":{\"field\":\"width\",\"units\":\"data\"},\"x\":{\"field\":\"x\"},\"y\":{\"field\":\"y\"}},\"id\":\"e3e3baa3-48d9-43b4-bbe4-ac4ae698c570\",\"type\":\"Rect\"},{\"attributes\":{\"fill_alpha\":{\"field\":\"fill_alpha\"},\"fill_color\":{\"field\":\"color\"},\"height\":{\"field\":\"height\",\"units\":\"data\"},\"line_color\":{\"field\":\"line_color\"},\"width\":{\"field\":\"width\",\"units\":\"data\"},\"x\":{\"field\":\"x\"},\"y\":{\"field\":\"y\"}},\"id\":\"b27b0019-be09-467a-81e9-0055f9ed7958\",\"type\":\"Rect\"},{\"attributes\":{\"plot\":{\"id\":\"fe8b455d-8c57-4185-b98d-fc77f53f7b45\",\"subtype\":\"Chart\",\"type\":\"Plot\"}},\"id\":\"14218e78-fded-469e-b17b-ed9a16c611cf\",\"type\":\"HelpTool\"},{\"attributes\":{\"data_source\":{\"id\":\"6e6b0970-456f-4ec5-b5b4-ab07fecca9a9\",\"type\":\"ColumnDataSource\"},\"glyph\":{\"id\":\"634ac943-3082-482c-9875-65351e2503e1\",\"type\":\"Rect\"},\"hover_glyph\":null,\"nonselection_glyph\":null,\"selection_glyph\":null},\"id\":\"a2f374ae-7ef3-4f80-a05a-8b5dac5c3518\",\"type\":\"GlyphRenderer\"},{\"attributes\":{\"data_source\":{\"id\":\"0b89dd2e-fcb2-47e2-a1b8-5b6efd389542\",\"type\":\"ColumnDataSource\"},\"glyph\":{\"id\":\"cfae5c73-851b-411e-82b6-5bf1e20a5eea\",\"type\":\"Rect\"},\"hover_glyph\":null,\"nonselection_glyph\":null,\"selection_glyph\":null},\"id\":\"1aeb7aa8-de36-42d4-9b44-0132898da8fa\",\"type\":\"GlyphRenderer\"},{\"attributes\":{\"data_source\":{\"id\":\"039c3f9d-36d2-4284-bdad-c70aabe9dde7\",\"type\":\"ColumnDataSource\"},\"glyph\":{\"id\":\"b27b0019-be09-467a-81e9-0055f9ed7958\",\"type\":\"Rect\"},\"hover_glyph\":null,\"nonselection_glyph\":null,\"selection_glyph\":null},\"id\":\"2c408e83-4b17-4c4a-8c7b-2af514316373\",\"type\":\"GlyphRenderer\"},{\"attributes\":{\"callback\":null,\"column_names\":[\"y\",\"x\",\"line_alpha\",\"color\",\"width\",\"fill_alpha\",\"height\",\"line_color\"],\"data\":{\"chart_index\":[{\"index\":\"Melanoma of the Skin\"}],\"color\":[\"#f22c40\"],\"fill_alpha\":[0.8],\"height\":[96.0],\"index\":[\"Melanoma of the Skin\"],\"line_alpha\":[1.0],\"line_color\":[\"white\"],\"width\":[0.8],\"x\":[\"Melanoma of the Skin\"],\"y\":[48.0]}},\"id\":\"0d967538-6629-4ed5-95ab-81702e085d4b\",\"type\":\"ColumnDataSource\"},{\"attributes\":{},\"id\":\"fa6ce7ef-4a9c-49ec-99e8-84bfb4a8b1f6\",\"type\":\"CategoricalTicker\"},{\"attributes\":{\"below\":[{\"id\":\"ef53b917-b107-476b-a8b3-6fa1f56e21cf\",\"type\":\"CategoricalAxis\"}],\"left\":[{\"id\":\"3e146d75-a995-4c03-a36e-d6f6b2d6d8c2\",\"type\":\"LinearAxis\"}],\"legend\":null,\"renderers\":[{\"id\":\"7865bbff-4ade-4603-aeb9-2f27659ad5eb\",\"type\":\"BoxAnnotation\"},{\"id\":\"6bdc443d-ff86-4c36-9070-95db22cbed70\",\"type\":\"GlyphRenderer\"},{\"id\":\"592a04f5-0296-4bb2-873b-dc3ef16a08a7\",\"type\":\"GlyphRenderer\"},{\"id\":\"dcc810a7-8131-4d8f-9527-31e22c33312d\",\"type\":\"GlyphRenderer\"},{\"id\":\"e67e8976-b686-4d2b-9003-768a395ac515\",\"type\":\"GlyphRenderer\"},{\"id\":\"77a402b8-d767-4ca1-a8b4-accd2288ab51\",\"type\":\"GlyphRenderer\"},{\"id\":\"bff5393b-62f2-4af7-9832-9c3d87e8df2a\",\"type\":\"GlyphRenderer\"},{\"id\":\"bd1615cb-f68f-4665-9ad4-568455caa324\",\"type\":\"GlyphRenderer\"},{\"id\":\"1aeb7aa8-de36-42d4-9b44-0132898da8fa\",\"type\":\"GlyphRenderer\"},{\"id\":\"a2f374ae-7ef3-4f80-a05a-8b5dac5c3518\",\"type\":\"GlyphRenderer\"},{\"id\":\"2c408e83-4b17-4c4a-8c7b-2af514316373\",\"type\":\"GlyphRenderer\"},{\"id\":\"ef53b917-b107-476b-a8b3-6fa1f56e21cf\",\"type\":\"CategoricalAxis\"},{\"id\":\"3e146d75-a995-4c03-a36e-d6f6b2d6d8c2\",\"type\":\"LinearAxis\"},{\"id\":\"23172d94-5f45-46a5-a1f6-ff511a995d36\",\"type\":\"Grid\"}],\"title_text_font_size\":{\"value\":\"14pt\"},\"tool_events\":{\"id\":\"09346a16-f106-43d7-b01f-1848b3cf8c09\",\"type\":\"ToolEvents\"},\"tools\":[{\"id\":\"a5b595fa-dc1d-488a-9769-24f2ef86f310\",\"type\":\"PanTool\"},{\"id\":\"3f200cda-481d-4bae-9556-675a765a2ced\",\"type\":\"WheelZoomTool\"},{\"id\":\"157198aa-5d25-4621-bab9-0178913da4b6\",\"type\":\"BoxZoomTool\"},{\"id\":\"fc67ef41-9940-4c16-b0f3-fc957e7ec95b\",\"type\":\"PreviewSaveTool\"},{\"id\":\"11084fdf-fb05-4d5e-bf17-32abfcbd68da\",\"type\":\"ResizeTool\"},{\"id\":\"10cbe50f-1a54-4c87-a7f9-bf9fc6bd85e8\",\"type\":\"ResetTool\"},{\"id\":\"14218e78-fded-469e-b17b-ed9a16c611cf\",\"type\":\"HelpTool\"}],\"x_mapper_type\":\"auto\",\"x_range\":{\"id\":\"6e3d8575-54c2-4dbc-b5d1-be05340d6bea\",\"type\":\"FactorRange\"},\"xgrid\":false,\"xscale\":\"auto\",\"y_mapper_type\":\"auto\",\"y_range\":{\"id\":\"4b4a708f-681b-4d56-9950-d166bed16b57\",\"type\":\"Range1d\"},\"yscale\":\"auto\"},\"id\":\"fe8b455d-8c57-4185-b98d-fc77f53f7b45\",\"subtype\":\"Chart\",\"type\":\"Plot\"},{\"attributes\":{\"callback\":null,\"column_names\":[\"y\",\"x\",\"line_alpha\",\"color\",\"width\",\"fill_alpha\",\"height\",\"line_color\"],\"data\":{\"chart_index\":[{\"index\":\"Prostate\"}],\"color\":[\"#f22c40\"],\"fill_alpha\":[0.8],\"height\":[190.0],\"index\":[\"Prostate\"],\"line_alpha\":[1.0],\"line_color\":[\"white\"],\"width\":[0.8],\"x\":[\"Prostate\"],\"y\":[95.0]}},\"id\":\"6e6b0970-456f-4ec5-b5b4-ab07fecca9a9\",\"type\":\"ColumnDataSource\"},{\"attributes\":{\"bottom_units\":\"screen\",\"fill_alpha\":{\"value\":0.5},\"fill_color\":{\"value\":\"lightgrey\"},\"left_units\":\"screen\",\"level\":\"overlay\",\"line_alpha\":{\"value\":1.0},\"line_color\":{\"value\":\"black\"},\"line_dash\":[4,4],\"line_width\":{\"value\":2},\"plot\":null,\"render_mode\":\"css\",\"right_units\":\"screen\",\"top_units\":\"screen\"},\"id\":\"7865bbff-4ade-4603-aeb9-2f27659ad5eb\",\"type\":\"BoxAnnotation\"},{\"attributes\":{\"plot\":{\"id\":\"fe8b455d-8c57-4185-b98d-fc77f53f7b45\",\"subtype\":\"Chart\",\"type\":\"Plot\"}},\"id\":\"11084fdf-fb05-4d5e-bf17-32abfcbd68da\",\"type\":\"ResizeTool\"},{\"attributes\":{\"fill_alpha\":{\"field\":\"fill_alpha\"},\"fill_color\":{\"field\":\"color\"},\"height\":{\"field\":\"height\",\"units\":\"data\"},\"line_color\":{\"field\":\"line_color\"},\"width\":{\"field\":\"width\",\"units\":\"data\"},\"x\":{\"field\":\"x\"},\"y\":{\"field\":\"y\"}},\"id\":\"fb1ad9d2-c800-49d6-8644-d989427338e9\",\"type\":\"Rect\"},{\"attributes\":{\"fill_alpha\":{\"field\":\"fill_alpha\"},\"fill_color\":{\"field\":\"color\"},\"height\":{\"field\":\"height\",\"units\":\"data\"},\"line_color\":{\"field\":\"line_color\"},\"width\":{\"field\":\"width\",\"units\":\"data\"},\"x\":{\"field\":\"x\"},\"y\":{\"field\":\"y\"}},\"id\":\"cfae5c73-851b-411e-82b6-5bf1e20a5eea\",\"type\":\"Rect\"},{\"attributes\":{\"plot\":{\"id\":\"fe8b455d-8c57-4185-b98d-fc77f53f7b45\",\"subtype\":\"Chart\",\"type\":\"Plot\"}},\"id\":\"fc67ef41-9940-4c16-b0f3-fc957e7ec95b\",\"type\":\"PreviewSaveTool\"},{\"attributes\":{\"callback\":null,\"column_names\":[\"y\",\"x\",\"line_alpha\",\"color\",\"width\",\"fill_alpha\",\"height\",\"line_color\"],\"data\":{\"chart_index\":[{\"index\":\"Chronic Lymphocytic Leukemia\"}],\"color\":[\"#f22c40\"],\"fill_alpha\":[0.8],\"height\":[28.0],\"index\":[\"Chronic Lymphocytic Leukemia\"],\"line_alpha\":[1.0],\"line_color\":[\"white\"],\"width\":[0.8],\"x\":[\"Chronic Lymphocytic Leukemia\"],\"y\":[14.0]}},\"id\":\"7d0eb69f-7bd1-4cb7-a7f0-532c8c679050\",\"type\":\"ColumnDataSource\"},{\"attributes\":{\"data_source\":{\"id\":\"7d0eb69f-7bd1-4cb7-a7f0-532c8c679050\",\"type\":\"ColumnDataSource\"},\"glyph\":{\"id\":\"67e25082-332e-47d4-a1d7-cf684451b05f\",\"type\":\"Rect\"},\"hover_glyph\":null,\"nonselection_glyph\":null,\"selection_glyph\":null},\"id\":\"dcc810a7-8131-4d8f-9527-31e22c33312d\",\"type\":\"GlyphRenderer\"},{\"attributes\":{\"fill_alpha\":{\"field\":\"fill_alpha\"},\"fill_color\":{\"field\":\"color\"},\"height\":{\"field\":\"height\",\"units\":\"data\"},\"line_color\":{\"field\":\"line_color\"},\"width\":{\"field\":\"width\",\"units\":\"data\"},\"x\":{\"field\":\"x\"},\"y\":{\"field\":\"y\"}},\"id\":\"67e25082-332e-47d4-a1d7-cf684451b05f\",\"type\":\"Rect\"},{\"attributes\":{\"axis_label\":\"Sum( Siterwho1 )\",\"formatter\":{\"id\":\"b606cc58-8f73-4914-ab5e-0ca55cd73077\",\"type\":\"BasicTickFormatter\"},\"plot\":{\"id\":\"fe8b455d-8c57-4185-b98d-fc77f53f7b45\",\"subtype\":\"Chart\",\"type\":\"Plot\"},\"ticker\":{\"id\":\"72fe32b0-97ad-43aa-b769-ff70547f6701\",\"type\":\"BasicTicker\"}},\"id\":\"3e146d75-a995-4c03-a36e-d6f6b2d6d8c2\",\"type\":\"LinearAxis\"},{\"attributes\":{\"callback\":null,\"column_names\":[\"y\",\"x\",\"line_alpha\",\"color\",\"width\",\"fill_alpha\",\"height\",\"line_color\"],\"data\":{\"chart_index\":[{\"index\":\"Lung and Bronchus\"}],\"color\":[\"#f22c40\"],\"fill_alpha\":[0.8],\"height\":[33.0],\"index\":[\"Lung and Bronchus\"],\"line_alpha\":[1.0],\"line_color\":[\"white\"],\"width\":[0.8],\"x\":[\"Lung and Bronchus\"],\"y\":[16.5]}},\"id\":\"704fa107-3516-4bae-b156-f5cec8ebd342\",\"type\":\"ColumnDataSource\"},{\"attributes\":{},\"id\":\"f9e54aca-9135-4743-9d88-84ffeb4e543b\",\"type\":\"CategoricalTickFormatter\"},{\"attributes\":{\"data_source\":{\"id\":\"704fa107-3516-4bae-b156-f5cec8ebd342\",\"type\":\"ColumnDataSource\"},\"glyph\":{\"id\":\"9f663fb4-4741-4681-9531-88e695396374\",\"type\":\"Rect\"},\"hover_glyph\":null,\"nonselection_glyph\":null,\"selection_glyph\":null},\"id\":\"77a402b8-d767-4ca1-a8b4-accd2288ab51\",\"type\":\"GlyphRenderer\"},{\"attributes\":{\"fill_alpha\":{\"field\":\"fill_alpha\"},\"fill_color\":{\"field\":\"color\"},\"height\":{\"field\":\"height\",\"units\":\"data\"},\"line_color\":{\"field\":\"line_color\"},\"width\":{\"field\":\"width\",\"units\":\"data\"},\"x\":{\"field\":\"x\"},\"y\":{\"field\":\"y\"}},\"id\":\"9f663fb4-4741-4681-9531-88e695396374\",\"type\":\"Rect\"},{\"attributes\":{\"data_source\":{\"id\":\"3729b62f-77a7-444c-bf73-82100f79b7ad\",\"type\":\"ColumnDataSource\"},\"glyph\":{\"id\":\"3b47625d-7c46-40e2-b947-74889be9a364\",\"type\":\"Rect\"},\"hover_glyph\":null,\"nonselection_glyph\":null,\"selection_glyph\":null},\"id\":\"bff5393b-62f2-4af7-9832-9c3d87e8df2a\",\"type\":\"GlyphRenderer\"},{\"attributes\":{\"dimension\":1,\"plot\":{\"id\":\"fe8b455d-8c57-4185-b98d-fc77f53f7b45\",\"subtype\":\"Chart\",\"type\":\"Plot\"},\"ticker\":{\"id\":\"72fe32b0-97ad-43aa-b769-ff70547f6701\",\"type\":\"BasicTicker\"}},\"id\":\"23172d94-5f45-46a5-a1f6-ff511a995d36\",\"type\":\"Grid\"},{\"attributes\":{\"callback\":null,\"end\":3404.1},\"id\":\"4b4a708f-681b-4d56-9950-d166bed16b57\",\"type\":\"Range1d\"},{\"attributes\":{\"formatter\":{\"id\":\"f9e54aca-9135-4743-9d88-84ffeb4e543b\",\"type\":\"CategoricalTickFormatter\"},\"major_label_orientation\":0.7853981633974483,\"plot\":{\"id\":\"fe8b455d-8c57-4185-b98d-fc77f53f7b45\",\"subtype\":\"Chart\",\"type\":\"Plot\"},\"ticker\":{\"id\":\"fa6ce7ef-4a9c-49ec-99e8-84bfb4a8b1f6\",\"type\":\"CategoricalTicker\"}},\"id\":\"ef53b917-b107-476b-a8b3-6fa1f56e21cf\",\"type\":\"CategoricalAxis\"},{\"attributes\":{\"fill_alpha\":{\"field\":\"fill_alpha\"},\"fill_color\":{\"field\":\"color\"},\"height\":{\"field\":\"height\",\"units\":\"data\"},\"line_color\":{\"field\":\"line_color\"},\"width\":{\"field\":\"width\",\"units\":\"data\"},\"x\":{\"field\":\"x\"},\"y\":{\"field\":\"y\"}},\"id\":\"634ac943-3082-482c-9875-65351e2503e1\",\"type\":\"Rect\"},{\"attributes\":{\"plot\":{\"id\":\"fe8b455d-8c57-4185-b98d-fc77f53f7b45\",\"subtype\":\"Chart\",\"type\":\"Plot\"}},\"id\":\"a5b595fa-dc1d-488a-9769-24f2ef86f310\",\"type\":\"PanTool\"},{\"attributes\":{\"fill_alpha\":{\"field\":\"fill_alpha\"},\"fill_color\":{\"field\":\"color\"},\"height\":{\"field\":\"height\",\"units\":\"data\"},\"line_color\":{\"field\":\"line_color\"},\"width\":{\"field\":\"width\",\"units\":\"data\"},\"x\":{\"field\":\"x\"},\"y\":{\"field\":\"y\"}},\"id\":\"2d3529c7-7f14-40ca-aa7f-876df06cbdfd\",\"type\":\"Rect\"},{\"attributes\":{\"plot\":{\"id\":\"fe8b455d-8c57-4185-b98d-fc77f53f7b45\",\"subtype\":\"Chart\",\"type\":\"Plot\"}},\"id\":\"3f200cda-481d-4bae-9556-675a765a2ced\",\"type\":\"WheelZoomTool\"},{\"attributes\":{},\"id\":\"b606cc58-8f73-4914-ab5e-0ca55cd73077\",\"type\":\"BasicTickFormatter\"},{\"attributes\":{\"data_source\":{\"id\":\"289e6389-e32f-4ffe-aa03-f7cd76c3d8d5\",\"type\":\"ColumnDataSource\"},\"glyph\":{\"id\":\"0589e35a-b04a-4617-81b1-b95665d27ad5\",\"type\":\"Rect\"},\"hover_glyph\":null,\"nonselection_glyph\":null,\"selection_glyph\":null},\"id\":\"6bdc443d-ff86-4c36-9070-95db22cbed70\",\"type\":\"GlyphRenderer\"},{\"attributes\":{\"data_source\":{\"id\":\"68bfe31f-931e-4527-86e3-f4a96672cdf8\",\"type\":\"ColumnDataSource\"},\"glyph\":{\"id\":\"2d3529c7-7f14-40ca-aa7f-876df06cbdfd\",\"type\":\"Rect\"},\"hover_glyph\":null,\"nonselection_glyph\":null,\"selection_glyph\":null},\"id\":\"592a04f5-0296-4bb2-873b-dc3ef16a08a7\",\"type\":\"GlyphRenderer\"},{\"attributes\":{},\"id\":\"72fe32b0-97ad-43aa-b769-ff70547f6701\",\"type\":\"BasicTicker\"},{\"attributes\":{\"data_source\":{\"id\":\"b6b5097f-574e-4ed4-9eea-bdebc93fb83d\",\"type\":\"ColumnDataSource\"},\"glyph\":{\"id\":\"e3e3baa3-48d9-43b4-bbe4-ac4ae698c570\",\"type\":\"Rect\"},\"hover_glyph\":null,\"nonselection_glyph\":null,\"selection_glyph\":null},\"id\":\"e67e8976-b686-4d2b-9003-768a395ac515\",\"type\":\"GlyphRenderer\"},{\"attributes\":{\"overlay\":{\"id\":\"7865bbff-4ade-4603-aeb9-2f27659ad5eb\",\"type\":\"BoxAnnotation\"},\"plot\":{\"id\":\"fe8b455d-8c57-4185-b98d-fc77f53f7b45\",\"subtype\":\"Chart\",\"type\":\"Plot\"}},\"id\":\"157198aa-5d25-4621-bab9-0178913da4b6\",\"type\":\"BoxZoomTool\"},{\"attributes\":{\"fill_alpha\":{\"field\":\"fill_alpha\"},\"fill_color\":{\"field\":\"color\"},\"height\":{\"field\":\"height\",\"units\":\"data\"},\"line_color\":{\"field\":\"line_color\"},\"width\":{\"field\":\"width\",\"units\":\"data\"},\"x\":{\"field\":\"x\"},\"y\":{\"field\":\"y\"}},\"id\":\"3b47625d-7c46-40e2-b947-74889be9a364\",\"type\":\"Rect\"},{\"attributes\":{\"callback\":null,\"column_names\":[\"y\",\"x\",\"line_alpha\",\"color\",\"width\",\"fill_alpha\",\"height\",\"line_color\"],\"data\":{\"chart_index\":[{\"index\":\"Salivary Gland\"}],\"color\":[\"#f22c40\"],\"fill_alpha\":[0.8],\"height\":[3242.0],\"index\":[\"Salivary Gland\"],\"line_alpha\":[1.0],\"line_color\":[\"white\"],\"width\":[0.8],\"x\":[\"Salivary Gland\"],\"y\":[1621.0]}},\"id\":\"039c3f9d-36d2-4284-bdad-c70aabe9dde7\",\"type\":\"ColumnDataSource\"},{\"attributes\":{\"plot\":{\"id\":\"fe8b455d-8c57-4185-b98d-fc77f53f7b45\",\"subtype\":\"Chart\",\"type\":\"Plot\"}},\"id\":\"10cbe50f-1a54-4c87-a7f9-bf9fc6bd85e8\",\"type\":\"ResetTool\"},{\"attributes\":{\"callback\":null,\"column_names\":[\"y\",\"x\",\"line_alpha\",\"color\",\"width\",\"fill_alpha\",\"height\",\"line_color\"],\"data\":{\"chart_index\":[{\"index\":\"Urinary Bladder\"}],\"color\":[\"#f22c40\"],\"fill_alpha\":[0.8],\"height\":[39.0],\"index\":[\"Urinary Bladder\"],\"line_alpha\":[1.0],\"line_color\":[\"white\"],\"width\":[0.8],\"x\":[\"Urinary Bladder\"],\"y\":[19.5]}},\"id\":\"3729b62f-77a7-444c-bf73-82100f79b7ad\",\"type\":\"ColumnDataSource\"},{\"attributes\":{\"callback\":null,\"column_names\":[\"y\",\"x\",\"line_alpha\",\"color\",\"width\",\"fill_alpha\",\"height\",\"line_color\"],\"data\":{\"chart_index\":[{\"index\":\"Breast\"}],\"color\":[\"#f22c40\"],\"fill_alpha\":[0.8],\"height\":[131.0],\"index\":[\"Breast\"],\"line_alpha\":[1.0],\"line_color\":[\"white\"],\"width\":[0.8],\"x\":[\"Breast\"],\"y\":[65.5]}},\"id\":\"0b89dd2e-fcb2-47e2-a1b8-5b6efd389542\",\"type\":\"ColumnDataSource\"}],\"root_ids\":[\"fe8b455d-8c57-4185-b98d-fc77f53f7b45\"]},\"title\":\"Bokeh Application\",\"version\":\"0.11.1\"}};\n",
       "            var render_items = [{\"docid\":\"d5829a1a-6abf-466c-8b01-228e3bde0faf\",\"elementid\":\"aefb92bd-dbfb-486e-8cb7-27237acfcfee\",\"modelid\":\"fe8b455d-8c57-4185-b98d-fc77f53f7b45\",\"notebook_comms_target\":\"f75544a2-6023-48a0-a55a-410c74a419f2\"}];\n",
       "            \n",
       "            Bokeh.embed.embed_items(docs_json, render_items);\n",
       "        });\n",
       "      },\n",
       "      function(Bokeh) {\n",
       "      }\n",
       "    ];\n",
       "  \n",
       "    function run_inline_js() {\n",
       "      for (var i = 0; i < inline_js.length; i++) {\n",
       "        inline_js[i](window.Bokeh);\n",
       "      }\n",
       "    }\n",
       "  \n",
       "    if (window._bokeh_is_loading === 0) {\n",
       "      console.log(\"Bokeh: BokehJS loaded, going straight to plotting\");\n",
       "      run_inline_js();\n",
       "    } else {\n",
       "      load_libs(js_urls, function() {\n",
       "        console.log(\"Bokeh: BokehJS plotting callback run at\", now());\n",
       "        run_inline_js();\n",
       "      });\n",
       "    }\n",
       "  }(this));\n",
       "</script>"
      ]
     },
     "metadata": {},
     "output_type": "display_data"
    }
   ],
   "source": [
    "from bokeh.charts import Bar, output_file, show, hplot\n",
    "\n",
    "data = pd.DataFrame(df2.siterwho1.value_counts()[:10][::-1])\n",
    "\n",
    "data\n",
    "bar = Bar(data,values='siterwho1')\n",
    "show(bar);"
   ]
  },
  {
   "cell_type": "code",
   "execution_count": 14,
   "metadata": {
    "collapsed": false,
    "slideshow": {
     "slide_type": "skip"
    }
   },
   "outputs": [],
   "source": [
    "#  jupyter nbconvert --to slides IBASEPT2016.ipynb --reveal-prefix \"http://cdn.jsdelivr.net/reveal.js/2.5.0\"\n",
    "\n",
    "#from IPython import utils\n",
    "#from IPython.core.display import HTML\n",
    "#import os\n",
    "#def css_styling():\n",
    "#    styles = '<style>div.text_cell_render {font-family: \"Arial\";font-size: 18pt;line-height: 145%; /* added for some line spacing of text. */}\\n</style>'\n",
    "#    return HTML(styles)\n",
    "#css_styling()"
   ]
  },
  {
   "cell_type": "code",
   "execution_count": 15,
   "metadata": {
    "collapsed": false,
    "slideshow": {
     "slide_type": "skip"
    }
   },
   "outputs": [],
   "source": [
    "# Apply custom css\n",
    "#rom IPython.core.display import HTML\n",
    "\n",
    "#def css_styling():\n",
    "#    styles = open(\"custom.css\", \"r\").read()\n",
    "#    return HTML(styles)\n",
    "#css_styling()\n"
   ]
  },
  {
   "cell_type": "code",
   "execution_count": null,
   "metadata": {
    "collapsed": true
   },
   "outputs": [],
   "source": []
  }
 ],
 "metadata": {
  "celltoolbar": "Slideshow",
  "kernelspec": {
   "display_name": "Python 3",
   "language": "python",
   "name": "python3"
  },
  "language_info": {
   "codemirror_mode": {
    "name": "ipython",
    "version": 3
   },
   "file_extension": ".py",
   "mimetype": "text/x-python",
   "name": "python",
   "nbconvert_exporter": "python",
   "pygments_lexer": "ipython3",
   "version": "3.5.1"
  },
  "widgets": {
   "state": {},
   "version": "1.1.2"
  }
 },
 "nbformat": 4,
 "nbformat_minor": 0
}
