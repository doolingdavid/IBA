{
 "cells": [
  {
   "cell_type": "code",
   "execution_count": 3,
   "metadata": {
    "collapsed": false,
    "slideshow": {
     "slide_type": "skip"
    }
   },
   "outputs": [
    {
     "data": {
      "text/html": [
       "<script>\n",
       "code_show=true; \n",
       "function code_toggle() {\n",
       " if (code_show){\n",
       " $('div.input').hide();\n",
       " } else {\n",
       " $('div.input').show();\n",
       " }\n",
       " code_show = !code_show\n",
       "} \n",
       "$( document ).ready(code_toggle);\n",
       "</script>\n",
       "<form action=\"javascript:code_toggle()\"><input type=\"submit\" value=\"Click here to toggle on/off the raw code.\"></form>"
      ],
      "text/plain": [
       "<IPython.core.display.HTML object>"
      ]
     },
     "execution_count": 3,
     "metadata": {},
     "output_type": "execute_result"
    }
   ],
   "source": [
    "from IPython.display import HTML\n",
    "\n",
    "HTML('''<script>\n",
    "code_show=true; \n",
    "function code_toggle() {\n",
    " if (code_show){\n",
    " $('div.input').hide();\n",
    " } else {\n",
    " $('div.input').show();\n",
    " }\n",
    " code_show = !code_show\n",
    "} \n",
    "$( document ).ready(code_toggle);\n",
    "</script>\n",
    "<form action=\"javascript:code_toggle()\"><input type=\"submit\" value=\"Click here to toggle on/off the raw code.\"></form>''')  "
   ]
  },
  {
   "cell_type": "code",
   "execution_count": 1,
   "metadata": {
    "collapsed": false,
    "slideshow": {
     "slide_type": "skip"
    }
   },
   "outputs": [
    {
     "name": "stdout",
     "output_type": "stream",
     "text": [
      "\\\\iobsdc01\\SharedDocs\\SEER_MEDICARE\\SEER_MEDICARE_STAGING\n"
     ]
    }
   ],
   "source": [
    "import numpy as np\n",
    "import pandas as pd\n",
    "import matplotlib.pyplot as plt\n",
    "from pandas import Series, DataFrame\n",
    "import pytz\n",
    "from pytz import common_timezones, all_timezones\n",
    "import matplotlib\n",
    "matplotlib.style.use('ggplot')\n",
    "%matplotlib inline\n",
    "from datetime import datetime\n",
    "import scipy as sp\n",
    "import statsmodels.api as sm\n",
    "import statsmodels.formula.api as smf\n",
    "matplotlib.style.use('fivethirtyeight')\n",
    "matplotlib.style.use('seaborn-talk')\n",
    "import os\n",
    "import collections\n",
    "\n",
    "preDouble = \"\\\\\\\\iobsdc01\\\\SharedDocs\\\\SEER_MEDICARE\\\\SEER_MEDICARE_STAGING\"\n",
    "new = os.chdir(preDouble)\n",
    "print(preDouble)"
   ]
  },
  {
   "cell_type": "code",
   "execution_count": 2,
   "metadata": {
    "collapsed": true,
    "slideshow": {
     "slide_type": "skip"
    }
   },
   "outputs": [],
   "source": [
    "df = pd.read_pickle('dfpedsfFirsts.pickle')"
   ]
  },
  {
   "cell_type": "markdown",
   "metadata": {
    "slideshow": {
     "slide_type": "slide"
    }
   },
   "source": [
    "## <font color='steelblue'>Description of the SEER-Medicare Data Files format</font>\n",
    "\n",
    "Fixed width files. Data dictionary available to make the data not only machine readable but meaningful to humans\n",
    "\n",
    "* Patient Entitlement and Diagnosis Summary File (PEDSF)\n",
    "* Medicare Provider Analysis and Review (MEDPAR)\n",
    "* Carrier Claims (old file name Physician/Supplier Part B (NCH))\n",
    "* Outpatient Claims\n",
    "* Home Health Agency (HAA)\n",
    "* Hospice\n",
    "* Durable Medical Equipment (DME)\n",
    "* Medicare Part D Data"
   ]
  },
  {
   "cell_type": "markdown",
   "metadata": {
    "slideshow": {
     "slide_type": "slide"
    }
   },
   "source": [
    "## <font color='steelblue'>First order of business is to identify all the patients in the SEER-Medicare data who have received PBT</font>\n",
    "\n",
    "### <font color='steelblue'>Reminder:</font>\n",
    "\n",
    "The relevant HCPCS are:\n",
    "\n",
    "* 77520 - Proton trmt simple w/o comp\n",
    "* 77522 - Proton trmt simple w/comp\n",
    "* 77523 - Proton trmt intermediate\n",
    "* 77525 - Proton treatment complex\n",
    "\n",
    "as well as the HCPCS code S8030 (Scleral application of tantalum ring(s) for localization of lesions for proton beam therapy)."
   ]
  },
  {
   "cell_type": "markdown",
   "metadata": {
    "slideshow": {
     "slide_type": "slide"
    }
   },
   "source": [
    "### <font color='steelblue'>Use the Outpatient Claims and Carrier Claims files</font>\n",
    "\n",
    "\n",
    "* 218 Outpatient Claims files\n",
    "* 207 Carrier Claims files\n",
    "\n",
    "\n",
    "Loop through all of these files and capture the set of all the ```patient_id``` s corresponding to the PBT HCPCS codes\n",
    "\n",
    "**Result: 1584 unique patients appear in the claims files for claims in years 2006-2013**\n"
   ]
  },
  {
   "cell_type": "code",
   "execution_count": 4,
   "metadata": {
    "collapsed": true,
    "slideshow": {
     "slide_type": "skip"
    }
   },
   "outputs": [],
   "source": [
    "mask = (df['srvm1'] != 9999)\n",
    "dfall = df[mask]"
   ]
  },
  {
   "cell_type": "code",
   "execution_count": 5,
   "metadata": {
    "collapsed": true,
    "slideshow": {
     "slide_type": "skip"
    }
   },
   "outputs": [],
   "source": [
    "geomask = (dfall['elevation_1'] != dfall['FIPScombo_1']) \n",
    "\n",
    "dfall = dfall[geomask].copy()"
   ]
  },
  {
   "cell_type": "code",
   "execution_count": 6,
   "metadata": {
    "collapsed": true,
    "slideshow": {
     "slide_type": "skip"
    }
   },
   "outputs": [],
   "source": [
    "dfall['elevation_1'].replace('99999',np.nan,inplace=True)\n",
    "dfall['elevation_2'].replace('99999',np.nan,inplace=True)\n",
    "dfall['elevation_3'].replace('99999',np.nan,inplace=True)\n",
    "\n",
    "dfall['lat_1'].replace('99999',np.nan,inplace=True)\n",
    "dfall['lat_2'].replace('99999',np.nan,inplace=True)\n",
    "dfall['lat_3'].replace('99999',np.nan,inplace=True)\n",
    "\n",
    "dfall['lng_1'].replace('99999',np.nan,inplace=True)\n",
    "dfall['lng_2'].replace('99999',np.nan,inplace=True)\n",
    "dfall['lng_3'].replace('99999',np.nan,inplace=True)\n",
    "\n",
    "dfall['elevation_1'] = dfall['elevation_1'].astype('float')\n",
    "dfall['elevation_2'] = dfall['elevation_2'].astype('float')\n",
    "dfall['elevation_3'] = dfall['elevation_3'].astype('float')\n",
    "\n",
    "dfall['lat_1'] = dfall['lat_1'].astype('float')\n",
    "dfall['lat_2'] = dfall['lat_2'].astype('float')\n",
    "dfall['lat_3'] = dfall['lat_3'].astype('float')\n",
    "\n",
    "dfall['lng_1'] = dfall['lng_1'].astype('float')\n",
    "dfall['lng_2'] = dfall['lng_2'].astype('float')\n",
    "dfall['lng_3'] = dfall['lng_3'].astype('float')"
   ]
  },
  {
   "cell_type": "code",
   "execution_count": 8,
   "metadata": {
    "collapsed": true,
    "slideshow": {
     "slide_type": "skip"
    }
   },
   "outputs": [],
   "source": [
    "import pickle\n",
    "fileObject = open('patient_ids_from_outsaf.pickle', 'rb')\n",
    "b = pickle.load(fileObject)\n",
    "fileObject.close()\n",
    "treatmentindices_outsaf = list(set.union(*b))"
   ]
  },
  {
   "cell_type": "code",
   "execution_count": 9,
   "metadata": {
    "collapsed": true,
    "slideshow": {
     "slide_type": "skip"
    }
   },
   "outputs": [],
   "source": [
    "import pickle\n",
    "fileObject = open('patient_ids_from_nch.pickle', 'rb')\n",
    "b = pickle.load(fileObject)\n",
    "fileObject.close()\n",
    "treatmentindices_nch = list(set.union(*b))"
   ]
  },
  {
   "cell_type": "code",
   "execution_count": 10,
   "metadata": {
    "collapsed": true,
    "slideshow": {
     "slide_type": "skip"
    }
   },
   "outputs": [],
   "source": [
    "bigtreatmentindices = list(set(treatmentindices_nch+treatmentindices_outsaf))\n",
    "\n",
    "dfall.set_index('patient_id', inplace=True,drop=False)\n",
    "\n",
    "allindices = dfall.index"
   ]
  },
  {
   "cell_type": "code",
   "execution_count": 11,
   "metadata": {
    "collapsed": true,
    "slideshow": {
     "slide_type": "skip"
    }
   },
   "outputs": [],
   "source": [
    "bigtreatmentset = set(bigtreatmentindices)\n",
    "allset = set(allindices)\n",
    "\n",
    "\n",
    "alltreatmentindices = list(allset.intersection(bigtreatmentset))\n",
    "\n",
    "treatmentindices = alltreatmentindices\n",
    "#len(treatmentindices)"
   ]
  },
  {
   "cell_type": "markdown",
   "metadata": {
    "slideshow": {
     "slide_type": "skip"
    }
   },
   "source": [
    "### <font color='steelblue'>Now use the pedsf files to perform patient matching, using the ```patient_id``` 's found above</font>\n",
    "\n",
    "List of pedsf files (contains SEER cases for diagnosis year dates 2006-2011):\n",
    "\n",
    "* pedsf.nasopharynx.cancer.txt\n",
    "* pedsf.salivarygland.cancer.txt\n",
    "* pedsf.oropharynx.cancer.txt\n",
    "* pedsf.esophagus.cancer.txt\n",
    "* pedsf.brain.cancer.txt\n",
    "* pedsf.eyeandorbit.cancer.txt\n",
    "* pedsf.softtissue.cancer.txt\n",
    "* pedsf.prostate.cancer.file01.txt\n",
    "* pedsf.prostate.cancer.file02.txt\n",
    "* pedsf.prostate.cancer.file03.txt\n",
    "* pedsf.lung.cancer.file01.txt\n",
    "* pedsf.lung.cancer.file02.txt\n",
    "\n"
   ]
  },
  {
   "cell_type": "markdown",
   "metadata": {
    "slideshow": {
     "slide_type": "slide"
    }
   },
   "source": [
    "### <font color='steelblue'>The pedsf files contain one single row for each patient, and contain the information for up to 10 different primary tumors.</font>\n",
    "\n",
    "So the prostate cancer files contain all patients with a cancer diagnosis where the primary site is the prostate for ANY of the potentially 10 different primary tumors associated with that patient and where that prostate site tumor has a diagnosis date anywhere between 2006 and 2011.\n",
    "\n",
    " "
   ]
  },
  {
   "cell_type": "code",
   "execution_count": 12,
   "metadata": {
    "collapsed": true,
    "slideshow": {
     "slide_type": "skip"
    }
   },
   "outputs": [],
   "source": [
    "import pedsfhelp\n",
    "\n",
    "df2 = pedsfhelp.make_clean_dataframe('pedsf.salivarygland.cancer.txt')\n",
    "#print(df2.shape)"
   ]
  },
  {
   "cell_type": "markdown",
   "metadata": {
    "slideshow": {
     "slide_type": "slide"
    }
   },
   "source": [
    "For example, in the ```pedsf.salivarygland.cancer.txt```, the cancer sites for the first tumor listed for each patient has the following distribution:"
   ]
  },
  {
   "cell_type": "code",
   "execution_count": 23,
   "metadata": {
    "collapsed": false,
    "slideshow": {
     "slide_type": "skip"
    }
   },
   "outputs": [
    {
     "data": {
      "text/html": [
       "\n",
       "    <div class=\"bk-banner\">\n",
       "        <a href=\"http://bokeh.pydata.org\" target=\"_blank\" class=\"bk-logo bk-logo-small bk-logo-notebook\"></a>\n",
       "        <span id=\"1e533c92-4164-4b06-b982-8ee6e3bb823c\">Loading BokehJS ...</span>\n",
       "    </div>"
      ]
     },
     "metadata": {},
     "output_type": "display_data"
    },
    {
     "data": {
      "application/javascript": [
       "\n",
       "(function(global) {\n",
       "  function now() {\n",
       "    return new Date();\n",
       "  }\n",
       "\n",
       "  if (typeof (window._bokeh_onload_callbacks) === \"undefined\") {\n",
       "    window._bokeh_onload_callbacks = [];\n",
       "  }\n",
       "\n",
       "  function run_callbacks() {\n",
       "    window._bokeh_onload_callbacks.forEach(function(callback) { callback() });\n",
       "    delete window._bokeh_onload_callbacks\n",
       "    console.info(\"Bokeh: all callbacks have finished\");\n",
       "  }\n",
       "\n",
       "  function load_libs(js_urls, callback) {\n",
       "    window._bokeh_onload_callbacks.push(callback);\n",
       "    if (window._bokeh_is_loading > 0) {\n",
       "      console.log(\"Bokeh: BokehJS is being loaded, scheduling callback at\", now());\n",
       "      return null;\n",
       "    }\n",
       "    if (js_urls == null || js_urls.length === 0) {\n",
       "      run_callbacks();\n",
       "      return null;\n",
       "    }\n",
       "    console.log(\"Bokeh: BokehJS not loaded, scheduling load and callback at\", now());\n",
       "    window._bokeh_is_loading = js_urls.length;\n",
       "    for (var i = 0; i < js_urls.length; i++) {\n",
       "      var url = js_urls[i];\n",
       "      var s = document.createElement('script');\n",
       "      s.src = url;\n",
       "      s.async = false;\n",
       "      s.onreadystatechange = s.onload = function() {\n",
       "        window._bokeh_is_loading--;\n",
       "        if (window._bokeh_is_loading === 0) {\n",
       "          console.log(\"Bokeh: all BokehJS libraries loaded\");\n",
       "          run_callbacks()\n",
       "        }\n",
       "      };\n",
       "      s.onerror = function() {\n",
       "        console.warn(\"failed to load library \" + url);\n",
       "      };\n",
       "      console.log(\"Bokeh: injecting script tag for BokehJS library: \", url);\n",
       "      document.getElementsByTagName(\"head\")[0].appendChild(s);\n",
       "    }\n",
       "  };\n",
       "\n",
       "  var js_urls = ['https://cdn.pydata.org/bokeh/release/bokeh-0.11.1.min.js', 'https://cdn.pydata.org/bokeh/release/bokeh-widgets-0.11.1.min.js', 'https://cdn.pydata.org/bokeh/release/bokeh-compiler-0.11.1.min.js'];\n",
       "\n",
       "  var inline_js = [\n",
       "    function(Bokeh) {\n",
       "      Bokeh.set_log_level(\"info\");\n",
       "    },\n",
       "    \n",
       "    function(Bokeh) {\n",
       "      Bokeh.$(\"#1e533c92-4164-4b06-b982-8ee6e3bb823c\").text(\"BokehJS successfully loaded\");\n",
       "    },\n",
       "    function(Bokeh) {\n",
       "      console.log(\"Bokeh: injecting CSS: https://cdn.pydata.org/bokeh/release/bokeh-0.11.1.min.css\");\n",
       "      Bokeh.embed.inject_css(\"https://cdn.pydata.org/bokeh/release/bokeh-0.11.1.min.css\");\n",
       "      console.log(\"Bokeh: injecting CSS: https://cdn.pydata.org/bokeh/release/bokeh-widgets-0.11.1.min.css\");\n",
       "      Bokeh.embed.inject_css(\"https://cdn.pydata.org/bokeh/release/bokeh-widgets-0.11.1.min.css\");\n",
       "    }\n",
       "  ];\n",
       "\n",
       "  function run_inline_js() {\n",
       "    for (var i = 0; i < inline_js.length; i++) {\n",
       "      inline_js[i](window.Bokeh);\n",
       "    }\n",
       "  }\n",
       "\n",
       "  if (window._bokeh_is_loading === 0) {\n",
       "    console.log(\"Bokeh: BokehJS loaded, going straight to plotting\");\n",
       "    run_inline_js();\n",
       "  } else {\n",
       "    load_libs(js_urls, function() {\n",
       "      console.log(\"Bokeh: BokehJS plotting callback run at\", now());\n",
       "      run_inline_js();\n",
       "    });\n",
       "  }\n",
       "}(this));"
      ]
     },
     "metadata": {},
     "output_type": "display_data"
    }
   ],
   "source": [
    "# Import Bokeh modules for interactive plotting\n",
    "import bokeh.io\n",
    "import bokeh.mpl\n",
    "import bokeh.plotting\n",
    "\n",
    "# Set up Bokeh for inline viewing\n",
    "bokeh.io.output_notebook()"
   ]
  },
  {
   "cell_type": "code",
   "execution_count": 39,
   "metadata": {
    "collapsed": false,
    "slideshow": {
     "slide_type": "skip"
    }
   },
   "outputs": [
    {
     "data": {
      "text/html": [
       "\n",
       "\n",
       "    <div class=\"plotdiv\" id=\"ea184c8f-58bb-4ece-bb0d-5dd1416dca02\"></div>\n",
       "<script type=\"text/javascript\">\n",
       "  \n",
       "  (function(global) {\n",
       "    function now() {\n",
       "      return new Date();\n",
       "    }\n",
       "  \n",
       "    if (typeof (window._bokeh_onload_callbacks) === \"undefined\") {\n",
       "      window._bokeh_onload_callbacks = [];\n",
       "    }\n",
       "  \n",
       "    function run_callbacks() {\n",
       "      window._bokeh_onload_callbacks.forEach(function(callback) { callback() });\n",
       "      delete window._bokeh_onload_callbacks\n",
       "      console.info(\"Bokeh: all callbacks have finished\");\n",
       "    }\n",
       "  \n",
       "    function load_libs(js_urls, callback) {\n",
       "      window._bokeh_onload_callbacks.push(callback);\n",
       "      if (window._bokeh_is_loading > 0) {\n",
       "        console.log(\"Bokeh: BokehJS is being loaded, scheduling callback at\", now());\n",
       "        return null;\n",
       "      }\n",
       "      if (js_urls == null || js_urls.length === 0) {\n",
       "        run_callbacks();\n",
       "        return null;\n",
       "      }\n",
       "      console.log(\"Bokeh: BokehJS not loaded, scheduling load and callback at\", now());\n",
       "      window._bokeh_is_loading = js_urls.length;\n",
       "      for (var i = 0; i < js_urls.length; i++) {\n",
       "        var url = js_urls[i];\n",
       "        var s = document.createElement('script');\n",
       "        s.src = url;\n",
       "        s.async = false;\n",
       "        s.onreadystatechange = s.onload = function() {\n",
       "          window._bokeh_is_loading--;\n",
       "          if (window._bokeh_is_loading === 0) {\n",
       "            console.log(\"Bokeh: all BokehJS libraries loaded\");\n",
       "            run_callbacks()\n",
       "          }\n",
       "        };\n",
       "        s.onerror = function() {\n",
       "          console.warn(\"failed to load library \" + url);\n",
       "        };\n",
       "        console.log(\"Bokeh: injecting script tag for BokehJS library: \", url);\n",
       "        document.getElementsByTagName(\"head\")[0].appendChild(s);\n",
       "      }\n",
       "    };var element = document.getElementById(\"ea184c8f-58bb-4ece-bb0d-5dd1416dca02\");\n",
       "    if (element == null) {\n",
       "      console.log(\"Bokeh: ERROR: autoload.js configured with elementid 'ea184c8f-58bb-4ece-bb0d-5dd1416dca02' but no matching script tag was found. \")\n",
       "      return false;\n",
       "    }\n",
       "  \n",
       "    var js_urls = [];\n",
       "  \n",
       "    var inline_js = [\n",
       "      function(Bokeh) {\n",
       "        Bokeh.$(function() {\n",
       "            var docs_json = {\"80439c8c-81a2-4ff6-9216-5979eb08a4a5\":{\"roots\":{\"references\":[{\"attributes\":{\"data_source\":{\"id\":\"30c44b1d-6c08-4ccc-b533-0b0d411d4961\",\"type\":\"ColumnDataSource\"},\"glyph\":{\"id\":\"54686fa9-8d15-44ed-b905-492bfccec8ae\",\"type\":\"Rect\"},\"hover_glyph\":null,\"nonselection_glyph\":null,\"selection_glyph\":null},\"id\":\"a894a03a-7387-42e0-a478-3402aca8d102\",\"type\":\"GlyphRenderer\"},{\"attributes\":{\"callback\":null,\"column_names\":[\"width\",\"line_alpha\",\"y\",\"x\",\"color\",\"height\",\"fill_alpha\",\"line_color\"],\"data\":{\"chart_index\":[{\"index\":\"Melanoma of the Skin\"}],\"color\":[\"#f22c40\"],\"fill_alpha\":[0.8],\"height\":[96.0],\"index\":[\"Melanoma of the Skin\"],\"line_alpha\":[1.0],\"line_color\":[\"white\"],\"width\":[0.8],\"x\":[\"Melanoma of the Skin\"],\"y\":[48.0]}},\"id\":\"56b8b5e3-38ff-4289-9019-1a867e11ac50\",\"type\":\"ColumnDataSource\"},{\"attributes\":{\"callback\":null,\"column_names\":[\"width\",\"line_alpha\",\"y\",\"x\",\"color\",\"height\",\"fill_alpha\",\"line_color\"],\"data\":{\"chart_index\":[{\"index\":\"Lung and Bronchus\"}],\"color\":[\"#f22c40\"],\"fill_alpha\":[0.8],\"height\":[33.0],\"index\":[\"Lung and Bronchus\"],\"line_alpha\":[1.0],\"line_color\":[\"white\"],\"width\":[0.8],\"x\":[\"Lung and Bronchus\"],\"y\":[16.5]}},\"id\":\"836841d4-eb40-4099-8a59-568f75991097\",\"type\":\"ColumnDataSource\"},{\"attributes\":{\"plot\":{\"id\":\"2f150ba2-1c35-4af6-a7a8-045b13a343b2\",\"subtype\":\"Chart\",\"type\":\"Plot\"}},\"id\":\"ce886796-a4db-41c9-868b-95a5e3aecca9\",\"type\":\"HelpTool\"},{\"attributes\":{\"callback\":null,\"column_names\":[\"width\",\"line_alpha\",\"y\",\"x\",\"color\",\"height\",\"fill_alpha\",\"line_color\"],\"data\":{\"chart_index\":[{\"index\":\"Lung and Bronchus\"}],\"color\":[\"#f22c40\"],\"fill_alpha\":[0.8],\"height\":[33.0],\"index\":[\"Lung and Bronchus\"],\"line_alpha\":[1.0],\"line_color\":[\"white\"],\"width\":[0.8],\"x\":[\"Lung and Bronchus\"],\"y\":[16.5]}},\"id\":\"1d812c73-e33b-4946-bf2a-bd54565c1d5a\",\"type\":\"ColumnDataSource\"},{\"attributes\":{\"fill_alpha\":{\"field\":\"fill_alpha\"},\"fill_color\":{\"field\":\"color\"},\"height\":{\"field\":\"height\",\"units\":\"data\"},\"line_color\":{\"field\":\"line_color\"},\"width\":{\"field\":\"width\",\"units\":\"data\"},\"x\":{\"field\":\"x\"},\"y\":{\"field\":\"y\"}},\"id\":\"3c62d122-a13e-412e-b04d-190713cc68d8\",\"type\":\"Rect\"},{\"attributes\":{\"fill_alpha\":{\"field\":\"fill_alpha\"},\"fill_color\":{\"field\":\"color\"},\"height\":{\"field\":\"height\",\"units\":\"data\"},\"line_color\":{\"field\":\"line_color\"},\"width\":{\"field\":\"width\",\"units\":\"data\"},\"x\":{\"field\":\"x\"},\"y\":{\"field\":\"y\"}},\"id\":\"99236d1d-9bea-4a82-a478-69520a9818d2\",\"type\":\"Rect\"},{\"attributes\":{\"overlay\":{\"id\":\"e15dea56-c62b-4dc3-873a-6c270f4da468\",\"type\":\"BoxAnnotation\"},\"plot\":{\"id\":\"1a2947ff-3881-4122-9997-f08019aa1dfc\",\"subtype\":\"Chart\",\"type\":\"Plot\"}},\"id\":\"99a266d4-6a7d-42c2-84b2-dc8017c2b10f\",\"type\":\"BoxZoomTool\"},{\"attributes\":{\"data_source\":{\"id\":\"56b8b5e3-38ff-4289-9019-1a867e11ac50\",\"type\":\"ColumnDataSource\"},\"glyph\":{\"id\":\"eaf012e1-d52a-4c8e-a422-dc94f03f8720\",\"type\":\"Rect\"},\"hover_glyph\":null,\"nonselection_glyph\":null,\"selection_glyph\":null},\"id\":\"2979ff9e-2590-4531-a98d-2eaacb6d98e8\",\"type\":\"GlyphRenderer\"},{\"attributes\":{\"callback\":null,\"factors\":[\"Breast\",\"Chronic Lymphocytic Leukemia\",\"Kidney and Renal Pelvis\",\"Lung and Bronchus\",\"Melanoma of the Skin\",\"NHL - Nodal\",\"Prostate\",\"Salivary Gland\",\"Thyroid\",\"Urinary Bladder\"]},\"id\":\"c365adb6-6de4-461e-9179-932e78abe245\",\"type\":\"FactorRange\"},{\"attributes\":{\"data_source\":{\"id\":\"841a310c-ed4e-4828-b9cf-e63dbbc2ca7d\",\"type\":\"ColumnDataSource\"},\"glyph\":{\"id\":\"2ae94f70-e167-4595-9e3a-e7104ecc8fc5\",\"type\":\"Rect\"},\"hover_glyph\":null,\"nonselection_glyph\":null,\"selection_glyph\":null},\"id\":\"67631141-8fa7-4b44-85d8-0e07ab427d2e\",\"type\":\"GlyphRenderer\"},{\"attributes\":{\"overlay\":{\"id\":\"4939d03a-9c88-4fc5-afac-3b46b1fbaf2a\",\"type\":\"BoxAnnotation\"},\"plot\":{\"id\":\"2f150ba2-1c35-4af6-a7a8-045b13a343b2\",\"subtype\":\"Chart\",\"type\":\"Plot\"}},\"id\":\"616c27a8-3b4a-4595-a5bd-81bf599c0057\",\"type\":\"BoxZoomTool\"},{\"attributes\":{\"fill_alpha\":{\"field\":\"fill_alpha\"},\"fill_color\":{\"field\":\"color\"},\"height\":{\"field\":\"height\",\"units\":\"data\"},\"line_color\":{\"field\":\"line_color\"},\"width\":{\"field\":\"width\",\"units\":\"data\"},\"x\":{\"field\":\"x\"},\"y\":{\"field\":\"y\"}},\"id\":\"62ed9588-9e54-4cd1-9d06-1cf93bbeee2f\",\"type\":\"Rect\"},{\"attributes\":{\"callback\":null,\"column_names\":[\"width\",\"line_alpha\",\"y\",\"x\",\"color\",\"height\",\"fill_alpha\",\"line_color\"],\"data\":{\"chart_index\":[{\"index\":\"Prostate\"}],\"color\":[\"#f22c40\"],\"fill_alpha\":[0.8],\"height\":[190.0],\"index\":[\"Prostate\"],\"line_alpha\":[1.0],\"line_color\":[\"white\"],\"width\":[0.8],\"x\":[\"Prostate\"],\"y\":[95.0]}},\"id\":\"188f98c3-abfd-41c6-9139-60d03d547e0b\",\"type\":\"ColumnDataSource\"},{\"attributes\":{\"dimension\":1,\"plot\":{\"id\":\"2f150ba2-1c35-4af6-a7a8-045b13a343b2\",\"subtype\":\"Chart\",\"type\":\"Plot\"},\"ticker\":{\"id\":\"ce11a98a-d902-4805-81cb-a00294dbd8cd\",\"type\":\"BasicTicker\"}},\"id\":\"5b9568b9-e819-4df1-b554-581812cb53fe\",\"type\":\"Grid\"},{\"attributes\":{},\"id\":\"e8d1ed05-281b-45a2-885c-9fc6fb4ff306\",\"type\":\"CategoricalTickFormatter\"},{\"attributes\":{\"plot\":{\"id\":\"2f150ba2-1c35-4af6-a7a8-045b13a343b2\",\"subtype\":\"Chart\",\"type\":\"Plot\"}},\"id\":\"a5d73508-ce9b-4f40-8546-f0f9ec3ea7d0\",\"type\":\"ResetTool\"},{\"attributes\":{\"data_source\":{\"id\":\"dbee5500-1bea-4306-9278-bc89391953c5\",\"type\":\"ColumnDataSource\"},\"glyph\":{\"id\":\"a192acbd-3e83-46e3-b95d-cee08de5ed3a\",\"type\":\"Rect\"},\"hover_glyph\":null,\"nonselection_glyph\":null,\"selection_glyph\":null},\"id\":\"eeba92f9-9989-4562-a66c-d440d4c922ef\",\"type\":\"GlyphRenderer\"},{\"attributes\":{\"axis_label\":\"Sum( Siterwho1 )\",\"formatter\":{\"id\":\"1896800d-579b-4824-a8c3-419e8aa2175a\",\"type\":\"BasicTickFormatter\"},\"plot\":{\"id\":\"2f150ba2-1c35-4af6-a7a8-045b13a343b2\",\"subtype\":\"Chart\",\"type\":\"Plot\"},\"ticker\":{\"id\":\"ce11a98a-d902-4805-81cb-a00294dbd8cd\",\"type\":\"BasicTicker\"}},\"id\":\"ae31235b-aea8-4a72-bdd2-c3e61ae07445\",\"type\":\"LinearAxis\"},{\"attributes\":{},\"id\":\"9b2547ca-3576-4485-bd9f-b9006824949d\",\"type\":\"CategoricalTicker\"},{\"attributes\":{\"data_source\":{\"id\":\"d0887db1-ce3f-4596-90fb-364af478dede\",\"type\":\"ColumnDataSource\"},\"glyph\":{\"id\":\"c011e679-0d72-4cdf-aed1-1b9c2d20344c\",\"type\":\"Rect\"},\"hover_glyph\":null,\"nonselection_glyph\":null,\"selection_glyph\":null},\"id\":\"aa3fdcfa-15e5-4096-9eda-46710d92e0ec\",\"type\":\"GlyphRenderer\"},{\"attributes\":{\"data_source\":{\"id\":\"d03cbce7-073f-40ee-a9ed-222aa43481e5\",\"type\":\"ColumnDataSource\"},\"glyph\":{\"id\":\"7b74f1ef-73e1-40be-b9cd-7736a2942148\",\"type\":\"Rect\"},\"hover_glyph\":null,\"nonselection_glyph\":null,\"selection_glyph\":null},\"id\":\"60be18b3-acac-4dce-bcff-667597e7d2f9\",\"type\":\"GlyphRenderer\"},{\"attributes\":{\"data_source\":{\"id\":\"836841d4-eb40-4099-8a59-568f75991097\",\"type\":\"ColumnDataSource\"},\"glyph\":{\"id\":\"a4135bbf-1c0f-4cfe-842a-6b67ef255673\",\"type\":\"Rect\"},\"hover_glyph\":null,\"nonselection_glyph\":null,\"selection_glyph\":null},\"id\":\"a2861d94-9d34-4483-bb6d-e478c2f80645\",\"type\":\"GlyphRenderer\"},{\"attributes\":{\"fill_alpha\":{\"field\":\"fill_alpha\"},\"fill_color\":{\"field\":\"color\"},\"height\":{\"field\":\"height\",\"units\":\"data\"},\"line_color\":{\"field\":\"line_color\"},\"width\":{\"field\":\"width\",\"units\":\"data\"},\"x\":{\"field\":\"x\"},\"y\":{\"field\":\"y\"}},\"id\":\"9795eb3b-787c-4dd3-8584-db05c07d263a\",\"type\":\"Rect\"},{\"attributes\":{\"plot\":{\"id\":\"2f150ba2-1c35-4af6-a7a8-045b13a343b2\",\"subtype\":\"Chart\",\"type\":\"Plot\"}},\"id\":\"88a1b7d2-2f86-488f-bc38-a3b9ff82449c\",\"type\":\"PanTool\"},{\"attributes\":{\"bottom_units\":\"screen\",\"fill_alpha\":{\"value\":0.5},\"fill_color\":{\"value\":\"lightgrey\"},\"left_units\":\"screen\",\"level\":\"overlay\",\"line_alpha\":{\"value\":1.0},\"line_color\":{\"value\":\"black\"},\"line_dash\":[4,4],\"line_width\":{\"value\":2},\"plot\":null,\"render_mode\":\"css\",\"right_units\":\"screen\",\"top_units\":\"screen\"},\"id\":\"e15dea56-c62b-4dc3-873a-6c270f4da468\",\"type\":\"BoxAnnotation\"},{\"attributes\":{\"data_source\":{\"id\":\"1c03d5c7-28b0-4666-8d69-2f197db8e16e\",\"type\":\"ColumnDataSource\"},\"glyph\":{\"id\":\"82d0514d-b2be-44c2-80d2-bc8296d21ea2\",\"type\":\"Rect\"},\"hover_glyph\":null,\"nonselection_glyph\":null,\"selection_glyph\":null},\"id\":\"31dc1727-9136-490f-9dd5-2ec61ca8fe69\",\"type\":\"GlyphRenderer\"},{\"attributes\":{\"fill_alpha\":{\"field\":\"fill_alpha\"},\"fill_color\":{\"field\":\"color\"},\"height\":{\"field\":\"height\",\"units\":\"data\"},\"line_color\":{\"field\":\"line_color\"},\"width\":{\"field\":\"width\",\"units\":\"data\"},\"x\":{\"field\":\"x\"},\"y\":{\"field\":\"y\"}},\"id\":\"aca5b1a5-56f9-40a7-8d6d-401e6c86d0a8\",\"type\":\"Rect\"},{\"attributes\":{\"data_source\":{\"id\":\"8a0de16e-e5ee-44b6-9960-8e7bf83912b4\",\"type\":\"ColumnDataSource\"},\"glyph\":{\"id\":\"62ed9588-9e54-4cd1-9d06-1cf93bbeee2f\",\"type\":\"Rect\"},\"hover_glyph\":null,\"nonselection_glyph\":null,\"selection_glyph\":null},\"id\":\"d61e05b4-886a-4944-9ce5-f536896381d6\",\"type\":\"GlyphRenderer\"},{\"attributes\":{\"callback\":null,\"column_names\":[\"width\",\"line_alpha\",\"y\",\"x\",\"color\",\"height\",\"fill_alpha\",\"line_color\"],\"data\":{\"chart_index\":[{\"index\":\"Melanoma of the Skin\"}],\"color\":[\"#f22c40\"],\"fill_alpha\":[0.8],\"height\":[96.0],\"index\":[\"Melanoma of the Skin\"],\"line_alpha\":[1.0],\"line_color\":[\"white\"],\"width\":[0.8],\"x\":[\"Melanoma of the Skin\"],\"y\":[48.0]}},\"id\":\"1c03d5c7-28b0-4666-8d69-2f197db8e16e\",\"type\":\"ColumnDataSource\"},{\"attributes\":{\"dimension\":1,\"plot\":{\"id\":\"1a2947ff-3881-4122-9997-f08019aa1dfc\",\"subtype\":\"Chart\",\"type\":\"Plot\"},\"ticker\":{\"id\":\"04f1da4f-43c5-410f-8504-6f1145e17f66\",\"type\":\"BasicTicker\"}},\"id\":\"bfbfdf60-194a-43d4-98aa-3b324febcfb6\",\"type\":\"Grid\"},{\"attributes\":{\"callback\":null,\"column_names\":[\"width\",\"line_alpha\",\"y\",\"x\",\"color\",\"height\",\"fill_alpha\",\"line_color\"],\"data\":{\"chart_index\":[{\"index\":\"NHL - Nodal\"}],\"color\":[\"#f22c40\"],\"fill_alpha\":[0.8],\"height\":[31.0],\"index\":[\"NHL - Nodal\"],\"line_alpha\":[1.0],\"line_color\":[\"white\"],\"width\":[0.8],\"x\":[\"NHL - Nodal\"],\"y\":[15.5]}},\"id\":\"a8e73e5e-3492-4408-b74f-380a4b5ab100\",\"type\":\"ColumnDataSource\"},{\"attributes\":{\"below\":[{\"id\":\"607ef13f-6cc5-4cf3-aa1c-ea45bb7ef548\",\"type\":\"CategoricalAxis\"}],\"left\":[{\"id\":\"4c57e3e1-8be0-49a0-bda4-59b24dabc566\",\"type\":\"LinearAxis\"}],\"legend\":null,\"renderers\":[{\"id\":\"e15dea56-c62b-4dc3-873a-6c270f4da468\",\"type\":\"BoxAnnotation\"},{\"id\":\"8d6076e4-6c0d-4524-99f3-c1fdf1c639c1\",\"type\":\"GlyphRenderer\"},{\"id\":\"d3cabe49-e918-4c56-bdbe-85f6fd457bea\",\"type\":\"GlyphRenderer\"},{\"id\":\"aa3fdcfa-15e5-4096-9eda-46710d92e0ec\",\"type\":\"GlyphRenderer\"},{\"id\":\"67631141-8fa7-4b44-85d8-0e07ab427d2e\",\"type\":\"GlyphRenderer\"},{\"id\":\"c8396f53-144f-444c-abd5-4c2ff06f6e8e\",\"type\":\"GlyphRenderer\"},{\"id\":\"6f2bac69-cd0a-428b-bf0a-9780b637788a\",\"type\":\"GlyphRenderer\"},{\"id\":\"2979ff9e-2590-4531-a98d-2eaacb6d98e8\",\"type\":\"GlyphRenderer\"},{\"id\":\"c0a0a474-a7a3-4701-9506-6e65d6a02975\",\"type\":\"GlyphRenderer\"},{\"id\":\"74d96914-c8a2-4759-b276-e8f41d248b6b\",\"type\":\"GlyphRenderer\"},{\"id\":\"eeba92f9-9989-4562-a66c-d440d4c922ef\",\"type\":\"GlyphRenderer\"},{\"id\":\"607ef13f-6cc5-4cf3-aa1c-ea45bb7ef548\",\"type\":\"CategoricalAxis\"},{\"id\":\"4c57e3e1-8be0-49a0-bda4-59b24dabc566\",\"type\":\"LinearAxis\"},{\"id\":\"bfbfdf60-194a-43d4-98aa-3b324febcfb6\",\"type\":\"Grid\"}],\"title_text_font_size\":{\"value\":\"14pt\"},\"tool_events\":{\"id\":\"8b3cb7f7-5fa4-4703-ac75-5abeace0280a\",\"type\":\"ToolEvents\"},\"tools\":[{\"id\":\"c065f8b0-bde2-4d9b-97ca-772753f3ab45\",\"type\":\"PanTool\"},{\"id\":\"34fdd845-da4e-4c59-90d3-08406b9035ae\",\"type\":\"WheelZoomTool\"},{\"id\":\"99a266d4-6a7d-42c2-84b2-dc8017c2b10f\",\"type\":\"BoxZoomTool\"},{\"id\":\"e9f5abbb-d862-4ed5-9230-1730fe002e6b\",\"type\":\"PreviewSaveTool\"},{\"id\":\"2167afca-ff5e-4f31-8090-97669244447d\",\"type\":\"ResizeTool\"},{\"id\":\"2cbb5b64-b399-4619-b5f1-4df4fcc5210d\",\"type\":\"ResetTool\"},{\"id\":\"a6b35a51-3ac4-4cdb-b030-3e2eadc749e1\",\"type\":\"HelpTool\"}],\"x_mapper_type\":\"auto\",\"x_range\":{\"id\":\"61e75009-027b-4864-b755-e56067e038bb\",\"type\":\"FactorRange\"},\"xgrid\":false,\"xscale\":\"auto\",\"y_mapper_type\":\"auto\",\"y_range\":{\"id\":\"fd19075b-0019-4ae8-8b99-946311372ff9\",\"type\":\"Range1d\"},\"yscale\":\"auto\"},\"id\":\"1a2947ff-3881-4122-9997-f08019aa1dfc\",\"subtype\":\"Chart\",\"type\":\"Plot\"},{\"attributes\":{\"data_source\":{\"id\":\"7bf52fce-c700-4a37-9997-64526b41e128\",\"type\":\"ColumnDataSource\"},\"glyph\":{\"id\":\"aca5b1a5-56f9-40a7-8d6d-401e6c86d0a8\",\"type\":\"Rect\"},\"hover_glyph\":null,\"nonselection_glyph\":null,\"selection_glyph\":null},\"id\":\"91ac01d3-9a28-4dac-9eb2-8af9c98500e9\",\"type\":\"GlyphRenderer\"},{\"attributes\":{\"callback\":null,\"column_names\":[\"width\",\"line_alpha\",\"y\",\"x\",\"color\",\"height\",\"fill_alpha\",\"line_color\"],\"data\":{\"chart_index\":[{\"index\":\"NHL - Nodal\"}],\"color\":[\"#f22c40\"],\"fill_alpha\":[0.8],\"height\":[31.0],\"index\":[\"NHL - Nodal\"],\"line_alpha\":[1.0],\"line_color\":[\"white\"],\"width\":[0.8],\"x\":[\"NHL - Nodal\"],\"y\":[15.5]}},\"id\":\"841a310c-ed4e-4828-b9cf-e63dbbc2ca7d\",\"type\":\"ColumnDataSource\"},{\"attributes\":{\"fill_alpha\":{\"field\":\"fill_alpha\"},\"fill_color\":{\"field\":\"color\"},\"height\":{\"field\":\"height\",\"units\":\"data\"},\"line_color\":{\"field\":\"line_color\"},\"width\":{\"field\":\"width\",\"units\":\"data\"},\"x\":{\"field\":\"x\"},\"y\":{\"field\":\"y\"}},\"id\":\"c011e679-0d72-4cdf-aed1-1b9c2d20344c\",\"type\":\"Rect\"},{\"attributes\":{},\"id\":\"c4c1dc6b-7640-4613-b151-7b5d815a3999\",\"type\":\"CategoricalTickFormatter\"},{\"attributes\":{\"callback\":null,\"column_names\":[\"width\",\"line_alpha\",\"y\",\"x\",\"color\",\"height\",\"fill_alpha\",\"line_color\"],\"data\":{\"chart_index\":[{\"index\":\"Chronic Lymphocytic Leukemia\"}],\"color\":[\"#f22c40\"],\"fill_alpha\":[0.8],\"height\":[28.0],\"index\":[\"Chronic Lymphocytic Leukemia\"],\"line_alpha\":[1.0],\"line_color\":[\"white\"],\"width\":[0.8],\"x\":[\"Chronic Lymphocytic Leukemia\"],\"y\":[14.0]}},\"id\":\"d0887db1-ce3f-4596-90fb-364af478dede\",\"type\":\"ColumnDataSource\"},{\"attributes\":{\"callback\":null,\"column_names\":[\"width\",\"line_alpha\",\"y\",\"x\",\"color\",\"height\",\"fill_alpha\",\"line_color\"],\"data\":{\"chart_index\":[{\"index\":\"Salivary Gland\"}],\"color\":[\"#f22c40\"],\"fill_alpha\":[0.8],\"height\":[3242.0],\"index\":[\"Salivary Gland\"],\"line_alpha\":[1.0],\"line_color\":[\"white\"],\"width\":[0.8],\"x\":[\"Salivary Gland\"],\"y\":[1621.0]}},\"id\":\"dbee5500-1bea-4306-9278-bc89391953c5\",\"type\":\"ColumnDataSource\"},{\"attributes\":{\"plot\":{\"id\":\"1a2947ff-3881-4122-9997-f08019aa1dfc\",\"subtype\":\"Chart\",\"type\":\"Plot\"}},\"id\":\"a6b35a51-3ac4-4cdb-b030-3e2eadc749e1\",\"type\":\"HelpTool\"},{\"attributes\":{},\"id\":\"e0799822-619c-40a3-803a-b72467adb714\",\"type\":\"CategoricalTicker\"},{\"attributes\":{\"plot\":{\"id\":\"2f150ba2-1c35-4af6-a7a8-045b13a343b2\",\"subtype\":\"Chart\",\"type\":\"Plot\"}},\"id\":\"2c09cf0a-f9e9-46d4-a8fa-01a54fd6cb90\",\"type\":\"PreviewSaveTool\"},{\"attributes\":{},\"id\":\"fdbc4840-c10b-4537-989d-3fad90697f60\",\"type\":\"BasicTickFormatter\"},{\"attributes\":{\"fill_alpha\":{\"field\":\"fill_alpha\"},\"fill_color\":{\"field\":\"color\"},\"height\":{\"field\":\"height\",\"units\":\"data\"},\"line_color\":{\"field\":\"line_color\"},\"width\":{\"field\":\"width\",\"units\":\"data\"},\"x\":{\"field\":\"x\"},\"y\":{\"field\":\"y\"}},\"id\":\"4a619e9f-cdb2-4ca1-8078-fba45f996605\",\"type\":\"Rect\"},{\"attributes\":{\"data_source\":{\"id\":\"259a4e33-4042-4bad-bced-ac3735cefaad\",\"type\":\"ColumnDataSource\"},\"glyph\":{\"id\":\"9795eb3b-787c-4dd3-8584-db05c07d263a\",\"type\":\"Rect\"},\"hover_glyph\":null,\"nonselection_glyph\":null,\"selection_glyph\":null},\"id\":\"c0a0a474-a7a3-4701-9506-6e65d6a02975\",\"type\":\"GlyphRenderer\"},{\"attributes\":{\"callback\":null,\"column_names\":[\"width\",\"line_alpha\",\"y\",\"x\",\"color\",\"height\",\"fill_alpha\",\"line_color\"],\"data\":{\"chart_index\":[{\"index\":\"Urinary Bladder\"}],\"color\":[\"#f22c40\"],\"fill_alpha\":[0.8],\"height\":[39.0],\"index\":[\"Urinary Bladder\"],\"line_alpha\":[1.0],\"line_color\":[\"white\"],\"width\":[0.8],\"x\":[\"Urinary Bladder\"],\"y\":[19.5]}},\"id\":\"59549b1d-c48f-4ac6-aa02-84332b5258e5\",\"type\":\"ColumnDataSource\"},{\"attributes\":{},\"id\":\"04f1da4f-43c5-410f-8504-6f1145e17f66\",\"type\":\"BasicTicker\"},{\"attributes\":{\"formatter\":{\"id\":\"e8d1ed05-281b-45a2-885c-9fc6fb4ff306\",\"type\":\"CategoricalTickFormatter\"},\"major_label_orientation\":0.7853981633974483,\"plot\":{\"id\":\"2f150ba2-1c35-4af6-a7a8-045b13a343b2\",\"subtype\":\"Chart\",\"type\":\"Plot\"},\"ticker\":{\"id\":\"9b2547ca-3576-4485-bd9f-b9006824949d\",\"type\":\"CategoricalTicker\"}},\"id\":\"013dc930-5f66-4282-959b-cc63032a4e0e\",\"type\":\"CategoricalAxis\"},{\"attributes\":{\"data_source\":{\"id\":\"188f98c3-abfd-41c6-9139-60d03d547e0b\",\"type\":\"ColumnDataSource\"},\"glyph\":{\"id\":\"84396de6-dc1c-49d9-afc0-27e7921eef62\",\"type\":\"Rect\"},\"hover_glyph\":null,\"nonselection_glyph\":null,\"selection_glyph\":null},\"id\":\"ad07656d-da28-4bac-b35d-4d916d7b53fb\",\"type\":\"GlyphRenderer\"},{\"attributes\":{\"callback\":null,\"column_names\":[\"width\",\"line_alpha\",\"y\",\"x\",\"color\",\"height\",\"fill_alpha\",\"line_color\"],\"data\":{\"chart_index\":[{\"index\":\"Breast\"}],\"color\":[\"#f22c40\"],\"fill_alpha\":[0.8],\"height\":[131.0],\"index\":[\"Breast\"],\"line_alpha\":[1.0],\"line_color\":[\"white\"],\"width\":[0.8],\"x\":[\"Breast\"],\"y\":[65.5]}},\"id\":\"259a4e33-4042-4bad-bced-ac3735cefaad\",\"type\":\"ColumnDataSource\"},{\"attributes\":{\"callback\":null,\"column_names\":[\"width\",\"line_alpha\",\"y\",\"x\",\"color\",\"height\",\"fill_alpha\",\"line_color\"],\"data\":{\"chart_index\":[{\"index\":\"Chronic Lymphocytic Leukemia\"}],\"color\":[\"#f22c40\"],\"fill_alpha\":[0.8],\"height\":[28.0],\"index\":[\"Chronic Lymphocytic Leukemia\"],\"line_alpha\":[1.0],\"line_color\":[\"white\"],\"width\":[0.8],\"x\":[\"Chronic Lymphocytic Leukemia\"],\"y\":[14.0]}},\"id\":\"8a0de16e-e5ee-44b6-9960-8e7bf83912b4\",\"type\":\"ColumnDataSource\"},{\"attributes\":{\"callback\":null,\"column_names\":[\"width\",\"line_alpha\",\"y\",\"x\",\"color\",\"height\",\"fill_alpha\",\"line_color\"],\"data\":{\"chart_index\":[{\"index\":\"Kidney and Renal Pelvis\"}],\"color\":[\"#f22c40\"],\"fill_alpha\":[0.8],\"height\":[26.0],\"index\":[\"Kidney and Renal Pelvis\"],\"line_alpha\":[1.0],\"line_color\":[\"white\"],\"width\":[0.8],\"x\":[\"Kidney and Renal Pelvis\"],\"y\":[13.0]}},\"id\":\"d03cbce7-073f-40ee-a9ed-222aa43481e5\",\"type\":\"ColumnDataSource\"},{\"attributes\":{\"callback\":null,\"column_names\":[\"width\",\"line_alpha\",\"y\",\"x\",\"color\",\"height\",\"fill_alpha\",\"line_color\"],\"data\":{\"chart_index\":[{\"index\":\"Urinary Bladder\"}],\"color\":[\"#f22c40\"],\"fill_alpha\":[0.8],\"height\":[39.0],\"index\":[\"Urinary Bladder\"],\"line_alpha\":[1.0],\"line_color\":[\"white\"],\"width\":[0.8],\"x\":[\"Urinary Bladder\"],\"y\":[19.5]}},\"id\":\"41c91f26-3e58-44d2-be1d-9ab2bfd19c8d\",\"type\":\"ColumnDataSource\"},{\"attributes\":{},\"id\":\"8b3cb7f7-5fa4-4703-ac75-5abeace0280a\",\"type\":\"ToolEvents\"},{\"attributes\":{\"plot\":{\"id\":\"1a2947ff-3881-4122-9997-f08019aa1dfc\",\"subtype\":\"Chart\",\"type\":\"Plot\"}},\"id\":\"e9f5abbb-d862-4ed5-9230-1730fe002e6b\",\"type\":\"PreviewSaveTool\"},{\"attributes\":{\"fill_alpha\":{\"field\":\"fill_alpha\"},\"fill_color\":{\"field\":\"color\"},\"height\":{\"field\":\"height\",\"units\":\"data\"},\"line_color\":{\"field\":\"line_color\"},\"width\":{\"field\":\"width\",\"units\":\"data\"},\"x\":{\"field\":\"x\"},\"y\":{\"field\":\"y\"}},\"id\":\"9aeff0f9-6794-4e21-9fd3-a6cb439d6add\",\"type\":\"Rect\"},{\"attributes\":{\"fill_alpha\":{\"field\":\"fill_alpha\"},\"fill_color\":{\"field\":\"color\"},\"height\":{\"field\":\"height\",\"units\":\"data\"},\"line_color\":{\"field\":\"line_color\"},\"width\":{\"field\":\"width\",\"units\":\"data\"},\"x\":{\"field\":\"x\"},\"y\":{\"field\":\"y\"}},\"id\":\"47ead7e7-3371-49d7-9c0f-d80127f1ef34\",\"type\":\"Rect\"},{\"attributes\":{\"callback\":null,\"column_names\":[\"width\",\"line_alpha\",\"y\",\"x\",\"color\",\"height\",\"fill_alpha\",\"line_color\"],\"data\":{\"chart_index\":[{\"index\":\"Prostate\"}],\"color\":[\"#f22c40\"],\"fill_alpha\":[0.8],\"height\":[190.0],\"index\":[\"Prostate\"],\"line_alpha\":[1.0],\"line_color\":[\"white\"],\"width\":[0.8],\"x\":[\"Prostate\"],\"y\":[95.0]}},\"id\":\"7d60e4b5-c1de-4f1d-a75e-efc379a615cf\",\"type\":\"ColumnDataSource\"},{\"attributes\":{\"fill_alpha\":{\"field\":\"fill_alpha\"},\"fill_color\":{\"field\":\"color\"},\"height\":{\"field\":\"height\",\"units\":\"data\"},\"line_color\":{\"field\":\"line_color\"},\"width\":{\"field\":\"width\",\"units\":\"data\"},\"x\":{\"field\":\"x\"},\"y\":{\"field\":\"y\"}},\"id\":\"681dac03-0462-46db-9437-af54cbcfe4a1\",\"type\":\"Rect\"},{\"attributes\":{\"fill_alpha\":{\"field\":\"fill_alpha\"},\"fill_color\":{\"field\":\"color\"},\"height\":{\"field\":\"height\",\"units\":\"data\"},\"line_color\":{\"field\":\"line_color\"},\"width\":{\"field\":\"width\",\"units\":\"data\"},\"x\":{\"field\":\"x\"},\"y\":{\"field\":\"y\"}},\"id\":\"a192acbd-3e83-46e3-b95d-cee08de5ed3a\",\"type\":\"Rect\"},{\"attributes\":{\"data_source\":{\"id\":\"e2e36bcd-8e2b-4d36-977e-67d39b44d953\",\"type\":\"ColumnDataSource\"},\"glyph\":{\"id\":\"3c62d122-a13e-412e-b04d-190713cc68d8\",\"type\":\"Rect\"},\"hover_glyph\":null,\"nonselection_glyph\":null,\"selection_glyph\":null},\"id\":\"134fcf67-e573-46b9-9e2c-579a0744ec55\",\"type\":\"GlyphRenderer\"},{\"attributes\":{\"fill_alpha\":{\"field\":\"fill_alpha\"},\"fill_color\":{\"field\":\"color\"},\"height\":{\"field\":\"height\",\"units\":\"data\"},\"line_color\":{\"field\":\"line_color\"},\"width\":{\"field\":\"width\",\"units\":\"data\"},\"x\":{\"field\":\"x\"},\"y\":{\"field\":\"y\"}},\"id\":\"7b74f1ef-73e1-40be-b9cd-7736a2942148\",\"type\":\"Rect\"},{\"attributes\":{\"callback\":null,\"column_names\":[\"width\",\"line_alpha\",\"y\",\"x\",\"color\",\"height\",\"fill_alpha\",\"line_color\"],\"data\":{\"chart_index\":[{\"index\":\"Salivary Gland\"}],\"color\":[\"#f22c40\"],\"fill_alpha\":[0.8],\"height\":[3242.0],\"index\":[\"Salivary Gland\"],\"line_alpha\":[1.0],\"line_color\":[\"white\"],\"width\":[0.8],\"x\":[\"Salivary Gland\"],\"y\":[1621.0]}},\"id\":\"e2e36bcd-8e2b-4d36-977e-67d39b44d953\",\"type\":\"ColumnDataSource\"},{\"attributes\":{\"data_source\":{\"id\":\"beec7dcd-36bb-49d0-80aa-795063241682\",\"type\":\"ColumnDataSource\"},\"glyph\":{\"id\":\"4a619e9f-cdb2-4ca1-8078-fba45f996605\",\"type\":\"Rect\"},\"hover_glyph\":null,\"nonselection_glyph\":null,\"selection_glyph\":null},\"id\":\"d3cabe49-e918-4c56-bdbe-85f6fd457bea\",\"type\":\"GlyphRenderer\"},{\"attributes\":{\"below\":[{\"id\":\"013dc930-5f66-4282-959b-cc63032a4e0e\",\"type\":\"CategoricalAxis\"}],\"left\":[{\"id\":\"ae31235b-aea8-4a72-bdd2-c3e61ae07445\",\"type\":\"LinearAxis\"}],\"legend\":null,\"renderers\":[{\"id\":\"4939d03a-9c88-4fc5-afac-3b46b1fbaf2a\",\"type\":\"BoxAnnotation\"},{\"id\":\"a894a03a-7387-42e0-a478-3402aca8d102\",\"type\":\"GlyphRenderer\"},{\"id\":\"60be18b3-acac-4dce-bcff-667597e7d2f9\",\"type\":\"GlyphRenderer\"},{\"id\":\"d61e05b4-886a-4944-9ce5-f536896381d6\",\"type\":\"GlyphRenderer\"},{\"id\":\"068bff38-adfe-4943-8574-6eb9d189d626\",\"type\":\"GlyphRenderer\"},{\"id\":\"a2861d94-9d34-4483-bb6d-e478c2f80645\",\"type\":\"GlyphRenderer\"},{\"id\":\"ba1b7fee-20cb-4dc0-9fa2-a2037b15d1d7\",\"type\":\"GlyphRenderer\"},{\"id\":\"31dc1727-9136-490f-9dd5-2ec61ca8fe69\",\"type\":\"GlyphRenderer\"},{\"id\":\"91ac01d3-9a28-4dac-9eb2-8af9c98500e9\",\"type\":\"GlyphRenderer\"},{\"id\":\"ad07656d-da28-4bac-b35d-4d916d7b53fb\",\"type\":\"GlyphRenderer\"},{\"id\":\"134fcf67-e573-46b9-9e2c-579a0744ec55\",\"type\":\"GlyphRenderer\"},{\"id\":\"013dc930-5f66-4282-959b-cc63032a4e0e\",\"type\":\"CategoricalAxis\"},{\"id\":\"ae31235b-aea8-4a72-bdd2-c3e61ae07445\",\"type\":\"LinearAxis\"},{\"id\":\"5b9568b9-e819-4df1-b554-581812cb53fe\",\"type\":\"Grid\"}],\"title_text_font_size\":{\"value\":\"14pt\"},\"tool_events\":{\"id\":\"035ddd38-771d-4d7d-b100-53c21fb3ad89\",\"type\":\"ToolEvents\"},\"tools\":[{\"id\":\"88a1b7d2-2f86-488f-bc38-a3b9ff82449c\",\"type\":\"PanTool\"},{\"id\":\"5db38477-07d2-4c52-9a0f-9ccabfd4badc\",\"type\":\"WheelZoomTool\"},{\"id\":\"616c27a8-3b4a-4595-a5bd-81bf599c0057\",\"type\":\"BoxZoomTool\"},{\"id\":\"2c09cf0a-f9e9-46d4-a8fa-01a54fd6cb90\",\"type\":\"PreviewSaveTool\"},{\"id\":\"419bcc16-8dfe-43e4-923e-704337eabee8\",\"type\":\"ResizeTool\"},{\"id\":\"a5d73508-ce9b-4f40-8546-f0f9ec3ea7d0\",\"type\":\"ResetTool\"},{\"id\":\"ce886796-a4db-41c9-868b-95a5e3aecca9\",\"type\":\"HelpTool\"}],\"x_mapper_type\":\"auto\",\"x_range\":{\"id\":\"c365adb6-6de4-461e-9179-932e78abe245\",\"type\":\"FactorRange\"},\"xgrid\":false,\"xscale\":\"auto\",\"y_mapper_type\":\"auto\",\"y_range\":{\"id\":\"5b7b993c-774e-4624-937f-6040e1fc0af6\",\"type\":\"Range1d\"},\"yscale\":\"auto\"},\"id\":\"2f150ba2-1c35-4af6-a7a8-045b13a343b2\",\"subtype\":\"Chart\",\"type\":\"Plot\"},{\"attributes\":{\"data_source\":{\"id\":\"7d60e4b5-c1de-4f1d-a75e-efc379a615cf\",\"type\":\"ColumnDataSource\"},\"glyph\":{\"id\":\"9aeff0f9-6794-4e21-9fd3-a6cb439d6add\",\"type\":\"Rect\"},\"hover_glyph\":null,\"nonselection_glyph\":null,\"selection_glyph\":null},\"id\":\"74d96914-c8a2-4759-b276-e8f41d248b6b\",\"type\":\"GlyphRenderer\"},{\"attributes\":{\"plot\":{\"id\":\"2f150ba2-1c35-4af6-a7a8-045b13a343b2\",\"subtype\":\"Chart\",\"type\":\"Plot\"}},\"id\":\"5db38477-07d2-4c52-9a0f-9ccabfd4badc\",\"type\":\"WheelZoomTool\"},{\"attributes\":{\"callback\":null,\"column_names\":[\"width\",\"line_alpha\",\"y\",\"x\",\"color\",\"height\",\"fill_alpha\",\"line_color\"],\"data\":{\"chart_index\":[{\"index\":\"Kidney and Renal Pelvis\"}],\"color\":[\"#f22c40\"],\"fill_alpha\":[0.8],\"height\":[26.0],\"index\":[\"Kidney and Renal Pelvis\"],\"line_alpha\":[1.0],\"line_color\":[\"white\"],\"width\":[0.8],\"x\":[\"Kidney and Renal Pelvis\"],\"y\":[13.0]}},\"id\":\"beec7dcd-36bb-49d0-80aa-795063241682\",\"type\":\"ColumnDataSource\"},{\"attributes\":{\"fill_alpha\":{\"field\":\"fill_alpha\"},\"fill_color\":{\"field\":\"color\"},\"height\":{\"field\":\"height\",\"units\":\"data\"},\"line_color\":{\"field\":\"line_color\"},\"width\":{\"field\":\"width\",\"units\":\"data\"},\"x\":{\"field\":\"x\"},\"y\":{\"field\":\"y\"}},\"id\":\"8c9917a4-c6f8-4b3b-a945-7422dc0c9765\",\"type\":\"Rect\"},{\"attributes\":{\"data_source\":{\"id\":\"59549b1d-c48f-4ac6-aa02-84332b5258e5\",\"type\":\"ColumnDataSource\"},\"glyph\":{\"id\":\"99236d1d-9bea-4a82-a478-69520a9818d2\",\"type\":\"Rect\"},\"hover_glyph\":null,\"nonselection_glyph\":null,\"selection_glyph\":null},\"id\":\"6f2bac69-cd0a-428b-bf0a-9780b637788a\",\"type\":\"GlyphRenderer\"},{\"attributes\":{\"fill_alpha\":{\"field\":\"fill_alpha\"},\"fill_color\":{\"field\":\"color\"},\"height\":{\"field\":\"height\",\"units\":\"data\"},\"line_color\":{\"field\":\"line_color\"},\"width\":{\"field\":\"width\",\"units\":\"data\"},\"x\":{\"field\":\"x\"},\"y\":{\"field\":\"y\"}},\"id\":\"e6eef967-ee1f-4322-b221-097c172929da\",\"type\":\"Rect\"},{\"attributes\":{\"fill_alpha\":{\"field\":\"fill_alpha\"},\"fill_color\":{\"field\":\"color\"},\"height\":{\"field\":\"height\",\"units\":\"data\"},\"line_color\":{\"field\":\"line_color\"},\"width\":{\"field\":\"width\",\"units\":\"data\"},\"x\":{\"field\":\"x\"},\"y\":{\"field\":\"y\"}},\"id\":\"84396de6-dc1c-49d9-afc0-27e7921eef62\",\"type\":\"Rect\"},{\"attributes\":{\"data_source\":{\"id\":\"7925a724-12fe-4e55-8555-6d4ec3a39e0b\",\"type\":\"ColumnDataSource\"},\"glyph\":{\"id\":\"8c9917a4-c6f8-4b3b-a945-7422dc0c9765\",\"type\":\"Rect\"},\"hover_glyph\":null,\"nonselection_glyph\":null,\"selection_glyph\":null},\"id\":\"8d6076e4-6c0d-4524-99f3-c1fdf1c639c1\",\"type\":\"GlyphRenderer\"},{\"attributes\":{\"callback\":null,\"end\":3404.1},\"id\":\"5b7b993c-774e-4624-937f-6040e1fc0af6\",\"type\":\"Range1d\"},{\"attributes\":{},\"id\":\"035ddd38-771d-4d7d-b100-53c21fb3ad89\",\"type\":\"ToolEvents\"},{\"attributes\":{\"fill_alpha\":{\"field\":\"fill_alpha\"},\"fill_color\":{\"field\":\"color\"},\"height\":{\"field\":\"height\",\"units\":\"data\"},\"line_color\":{\"field\":\"line_color\"},\"width\":{\"field\":\"width\",\"units\":\"data\"},\"x\":{\"field\":\"x\"},\"y\":{\"field\":\"y\"}},\"id\":\"82d0514d-b2be-44c2-80d2-bc8296d21ea2\",\"type\":\"Rect\"},{\"attributes\":{\"data_source\":{\"id\":\"a8e73e5e-3492-4408-b74f-380a4b5ab100\",\"type\":\"ColumnDataSource\"},\"glyph\":{\"id\":\"47ead7e7-3371-49d7-9c0f-d80127f1ef34\",\"type\":\"Rect\"},\"hover_glyph\":null,\"nonselection_glyph\":null,\"selection_glyph\":null},\"id\":\"068bff38-adfe-4943-8574-6eb9d189d626\",\"type\":\"GlyphRenderer\"},{\"attributes\":{\"fill_alpha\":{\"field\":\"fill_alpha\"},\"fill_color\":{\"field\":\"color\"},\"height\":{\"field\":\"height\",\"units\":\"data\"},\"line_color\":{\"field\":\"line_color\"},\"width\":{\"field\":\"width\",\"units\":\"data\"},\"x\":{\"field\":\"x\"},\"y\":{\"field\":\"y\"}},\"id\":\"2ae94f70-e167-4595-9e3a-e7104ecc8fc5\",\"type\":\"Rect\"},{\"attributes\":{\"axis_label\":\"Sum( Siterwho1 )\",\"formatter\":{\"id\":\"fdbc4840-c10b-4537-989d-3fad90697f60\",\"type\":\"BasicTickFormatter\"},\"plot\":{\"id\":\"1a2947ff-3881-4122-9997-f08019aa1dfc\",\"subtype\":\"Chart\",\"type\":\"Plot\"},\"ticker\":{\"id\":\"04f1da4f-43c5-410f-8504-6f1145e17f66\",\"type\":\"BasicTicker\"}},\"id\":\"4c57e3e1-8be0-49a0-bda4-59b24dabc566\",\"type\":\"LinearAxis\"},{\"attributes\":{},\"id\":\"ce11a98a-d902-4805-81cb-a00294dbd8cd\",\"type\":\"BasicTicker\"},{\"attributes\":{\"plot\":{\"id\":\"1a2947ff-3881-4122-9997-f08019aa1dfc\",\"subtype\":\"Chart\",\"type\":\"Plot\"}},\"id\":\"2cbb5b64-b399-4619-b5f1-4df4fcc5210d\",\"type\":\"ResetTool\"},{\"attributes\":{\"callback\":null,\"end\":3404.1},\"id\":\"fd19075b-0019-4ae8-8b99-946311372ff9\",\"type\":\"Range1d\"},{\"attributes\":{\"plot\":{\"id\":\"1a2947ff-3881-4122-9997-f08019aa1dfc\",\"subtype\":\"Chart\",\"type\":\"Plot\"}},\"id\":\"2167afca-ff5e-4f31-8090-97669244447d\",\"type\":\"ResizeTool\"},{\"attributes\":{\"fill_alpha\":{\"field\":\"fill_alpha\"},\"fill_color\":{\"field\":\"color\"},\"height\":{\"field\":\"height\",\"units\":\"data\"},\"line_color\":{\"field\":\"line_color\"},\"width\":{\"field\":\"width\",\"units\":\"data\"},\"x\":{\"field\":\"x\"},\"y\":{\"field\":\"y\"}},\"id\":\"a4135bbf-1c0f-4cfe-842a-6b67ef255673\",\"type\":\"Rect\"},{\"attributes\":{\"plot\":{\"id\":\"1a2947ff-3881-4122-9997-f08019aa1dfc\",\"subtype\":\"Chart\",\"type\":\"Plot\"}},\"id\":\"c065f8b0-bde2-4d9b-97ca-772753f3ab45\",\"type\":\"PanTool\"},{\"attributes\":{\"callback\":null,\"factors\":[\"Breast\",\"Chronic Lymphocytic Leukemia\",\"Kidney and Renal Pelvis\",\"Lung and Bronchus\",\"Melanoma of the Skin\",\"NHL - Nodal\",\"Prostate\",\"Salivary Gland\",\"Thyroid\",\"Urinary Bladder\"]},\"id\":\"61e75009-027b-4864-b755-e56067e038bb\",\"type\":\"FactorRange\"},{\"attributes\":{\"fill_alpha\":{\"field\":\"fill_alpha\"},\"fill_color\":{\"field\":\"color\"},\"height\":{\"field\":\"height\",\"units\":\"data\"},\"line_color\":{\"field\":\"line_color\"},\"width\":{\"field\":\"width\",\"units\":\"data\"},\"x\":{\"field\":\"x\"},\"y\":{\"field\":\"y\"}},\"id\":\"eaf012e1-d52a-4c8e-a422-dc94f03f8720\",\"type\":\"Rect\"},{\"attributes\":{\"callback\":null,\"column_names\":[\"width\",\"line_alpha\",\"y\",\"x\",\"color\",\"height\",\"fill_alpha\",\"line_color\"],\"data\":{\"chart_index\":[{\"index\":\"Thyroid\"}],\"color\":[\"#f22c40\"],\"fill_alpha\":[0.8],\"height\":[26.0],\"index\":[\"Thyroid\"],\"line_alpha\":[1.0],\"line_color\":[\"white\"],\"width\":[0.8],\"x\":[\"Thyroid\"],\"y\":[13.0]}},\"id\":\"30c44b1d-6c08-4ccc-b533-0b0d411d4961\",\"type\":\"ColumnDataSource\"},{\"attributes\":{\"callback\":null,\"column_names\":[\"width\",\"line_alpha\",\"y\",\"x\",\"color\",\"height\",\"fill_alpha\",\"line_color\"],\"data\":{\"chart_index\":[{\"index\":\"Thyroid\"}],\"color\":[\"#f22c40\"],\"fill_alpha\":[0.8],\"height\":[26.0],\"index\":[\"Thyroid\"],\"line_alpha\":[1.0],\"line_color\":[\"white\"],\"width\":[0.8],\"x\":[\"Thyroid\"],\"y\":[13.0]}},\"id\":\"7925a724-12fe-4e55-8555-6d4ec3a39e0b\",\"type\":\"ColumnDataSource\"},{\"attributes\":{\"formatter\":{\"id\":\"c4c1dc6b-7640-4613-b151-7b5d815a3999\",\"type\":\"CategoricalTickFormatter\"},\"major_label_orientation\":0.7853981633974483,\"plot\":{\"id\":\"1a2947ff-3881-4122-9997-f08019aa1dfc\",\"subtype\":\"Chart\",\"type\":\"Plot\"},\"ticker\":{\"id\":\"e0799822-619c-40a3-803a-b72467adb714\",\"type\":\"CategoricalTicker\"}},\"id\":\"607ef13f-6cc5-4cf3-aa1c-ea45bb7ef548\",\"type\":\"CategoricalAxis\"},{\"attributes\":{\"data_source\":{\"id\":\"41c91f26-3e58-44d2-be1d-9ab2bfd19c8d\",\"type\":\"ColumnDataSource\"},\"glyph\":{\"id\":\"681dac03-0462-46db-9437-af54cbcfe4a1\",\"type\":\"Rect\"},\"hover_glyph\":null,\"nonselection_glyph\":null,\"selection_glyph\":null},\"id\":\"ba1b7fee-20cb-4dc0-9fa2-a2037b15d1d7\",\"type\":\"GlyphRenderer\"},{\"attributes\":{\"callback\":null,\"column_names\":[\"width\",\"line_alpha\",\"y\",\"x\",\"color\",\"height\",\"fill_alpha\",\"line_color\"],\"data\":{\"chart_index\":[{\"index\":\"Breast\"}],\"color\":[\"#f22c40\"],\"fill_alpha\":[0.8],\"height\":[131.0],\"index\":[\"Breast\"],\"line_alpha\":[1.0],\"line_color\":[\"white\"],\"width\":[0.8],\"x\":[\"Breast\"],\"y\":[65.5]}},\"id\":\"7bf52fce-c700-4a37-9997-64526b41e128\",\"type\":\"ColumnDataSource\"},{\"attributes\":{\"plot\":{\"id\":\"2f150ba2-1c35-4af6-a7a8-045b13a343b2\",\"subtype\":\"Chart\",\"type\":\"Plot\"}},\"id\":\"419bcc16-8dfe-43e4-923e-704337eabee8\",\"type\":\"ResizeTool\"},{\"attributes\":{\"data_source\":{\"id\":\"1d812c73-e33b-4946-bf2a-bd54565c1d5a\",\"type\":\"ColumnDataSource\"},\"glyph\":{\"id\":\"e6eef967-ee1f-4322-b221-097c172929da\",\"type\":\"Rect\"},\"hover_glyph\":null,\"nonselection_glyph\":null,\"selection_glyph\":null},\"id\":\"c8396f53-144f-444c-abd5-4c2ff06f6e8e\",\"type\":\"GlyphRenderer\"},{\"attributes\":{\"bottom_units\":\"screen\",\"fill_alpha\":{\"value\":0.5},\"fill_color\":{\"value\":\"lightgrey\"},\"left_units\":\"screen\",\"level\":\"overlay\",\"line_alpha\":{\"value\":1.0},\"line_color\":{\"value\":\"black\"},\"line_dash\":[4,4],\"line_width\":{\"value\":2},\"plot\":null,\"render_mode\":\"css\",\"right_units\":\"screen\",\"top_units\":\"screen\"},\"id\":\"4939d03a-9c88-4fc5-afac-3b46b1fbaf2a\",\"type\":\"BoxAnnotation\"},{\"attributes\":{\"fill_alpha\":{\"field\":\"fill_alpha\"},\"fill_color\":{\"field\":\"color\"},\"height\":{\"field\":\"height\",\"units\":\"data\"},\"line_color\":{\"field\":\"line_color\"},\"width\":{\"field\":\"width\",\"units\":\"data\"},\"x\":{\"field\":\"x\"},\"y\":{\"field\":\"y\"}},\"id\":\"54686fa9-8d15-44ed-b905-492bfccec8ae\",\"type\":\"Rect\"},{\"attributes\":{},\"id\":\"1896800d-579b-4824-a8c3-419e8aa2175a\",\"type\":\"BasicTickFormatter\"},{\"attributes\":{\"plot\":{\"id\":\"1a2947ff-3881-4122-9997-f08019aa1dfc\",\"subtype\":\"Chart\",\"type\":\"Plot\"}},\"id\":\"34fdd845-da4e-4c59-90d3-08406b9035ae\",\"type\":\"WheelZoomTool\"}],\"root_ids\":[\"2f150ba2-1c35-4af6-a7a8-045b13a343b2\",\"1a2947ff-3881-4122-9997-f08019aa1dfc\"]},\"title\":\"Bokeh Application\",\"version\":\"0.11.1\"}};\n",
       "            var render_items = [{\"docid\":\"80439c8c-81a2-4ff6-9216-5979eb08a4a5\",\"elementid\":\"ea184c8f-58bb-4ece-bb0d-5dd1416dca02\",\"modelid\":\"1a2947ff-3881-4122-9997-f08019aa1dfc\",\"notebook_comms_target\":\"5a8ef93b-ffc8-4930-a066-1aa65f4da498\"}];\n",
       "            \n",
       "            Bokeh.embed.embed_items(docs_json, render_items);\n",
       "        });\n",
       "      },\n",
       "      function(Bokeh) {\n",
       "      }\n",
       "    ];\n",
       "  \n",
       "    function run_inline_js() {\n",
       "      for (var i = 0; i < inline_js.length; i++) {\n",
       "        inline_js[i](window.Bokeh);\n",
       "      }\n",
       "    }\n",
       "  \n",
       "    if (window._bokeh_is_loading === 0) {\n",
       "      console.log(\"Bokeh: BokehJS loaded, going straight to plotting\");\n",
       "      run_inline_js();\n",
       "    } else {\n",
       "      load_libs(js_urls, function() {\n",
       "        console.log(\"Bokeh: BokehJS plotting callback run at\", now());\n",
       "        run_inline_js();\n",
       "      });\n",
       "    }\n",
       "  }(this));\n",
       "</script>"
      ]
     },
     "metadata": {},
     "output_type": "display_data"
    }
   ],
   "source": [
    "from bokeh.charts import Bar, output_file, show, hplot\n",
    "\n",
    "data = pd.DataFrame(df2.siterwho1.value_counts()[:10][::-1])\n",
    "\n",
    "data\n",
    "bar = Bar(data,values='siterwho1')\n",
    "show(bar);"
   ]
  },
  {
   "cell_type": "code",
   "execution_count": 43,
   "metadata": {
    "collapsed": false,
    "slideshow": {
     "slide_type": "skip"
    }
   },
   "outputs": [],
   "source": [
    "#from IPython import utils\n",
    "#from IPython.core.display import HTML\n",
    "#import os\n",
    "#def css_styling():\n",
    "#    styles = '<style>div.text_cell_render {font-family: \"Arial\";font-size: 18pt;line-height: 145%; /* added for some line spacing of text. */}\\n</style>'\n",
    "#    return HTML(styles)\n",
    "#css_styling()"
   ]
  },
  {
   "cell_type": "code",
   "execution_count": 46,
   "metadata": {
    "collapsed": false,
    "slideshow": {
     "slide_type": "skip"
    }
   },
   "outputs": [],
   "source": [
    "# Apply custom css\n",
    "#rom IPython.core.display import HTML\n",
    "\n",
    "#def css_styling():\n",
    "#    styles = open(\"custom.css\", \"r\").read()\n",
    "#    return HTML(styles)\n",
    "#css_styling()\n"
   ]
  },
  {
   "cell_type": "code",
   "execution_count": null,
   "metadata": {
    "collapsed": true
   },
   "outputs": [],
   "source": []
  }
 ],
 "metadata": {
  "celltoolbar": "Slideshow",
  "kernelspec": {
   "display_name": "Python 3",
   "language": "python",
   "name": "python3"
  },
  "language_info": {
   "codemirror_mode": {
    "name": "ipython",
    "version": 3
   },
   "file_extension": ".py",
   "mimetype": "text/x-python",
   "name": "python",
   "nbconvert_exporter": "python",
   "pygments_lexer": "ipython3",
   "version": "3.5.1"
  },
  "widgets": {
   "state": {},
   "version": "1.1.2"
  }
 },
 "nbformat": 4,
 "nbformat_minor": 0
}
