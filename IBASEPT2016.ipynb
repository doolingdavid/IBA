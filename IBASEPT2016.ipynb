{
 "cells": [
  {
   "cell_type": "code",
   "execution_count": 3,
   "metadata": {
    "collapsed": false,
    "slideshow": {
     "slide_type": "skip"
    }
   },
   "outputs": [
    {
     "data": {
      "text/html": [
       "<script>\n",
       "code_show=true; \n",
       "function code_toggle() {\n",
       " if (code_show){\n",
       " $('div.input').hide();\n",
       " } else {\n",
       " $('div.input').show();\n",
       " }\n",
       " code_show = !code_show\n",
       "} \n",
       "$( document ).ready(code_toggle);\n",
       "</script>\n",
       "<form action=\"javascript:code_toggle()\"><input type=\"submit\" value=\"Click here to toggle on/off the raw code.\"></form>"
      ],
      "text/plain": [
       "<IPython.core.display.HTML object>"
      ]
     },
     "execution_count": 3,
     "metadata": {},
     "output_type": "execute_result"
    }
   ],
   "source": [
    "from IPython.display import HTML\n",
    "\n",
    "HTML('''<script>\n",
    "code_show=true; \n",
    "function code_toggle() {\n",
    " if (code_show){\n",
    " $('div.input').hide();\n",
    " } else {\n",
    " $('div.input').show();\n",
    " }\n",
    " code_show = !code_show\n",
    "} \n",
    "$( document ).ready(code_toggle);\n",
    "</script>\n",
    "<form action=\"javascript:code_toggle()\"><input type=\"submit\" value=\"Click here to toggle on/off the raw code.\"></form>''')  "
   ]
  },
  {
   "cell_type": "code",
   "execution_count": 1,
   "metadata": {
    "collapsed": false,
    "slideshow": {
     "slide_type": "skip"
    }
   },
   "outputs": [
    {
     "name": "stdout",
     "output_type": "stream",
     "text": [
      "\\\\iobsdc01\\SharedDocs\\SEER_MEDICARE\\SEER_MEDICARE_STAGING\n"
     ]
    }
   ],
   "source": [
    "import numpy as np\n",
    "import pandas as pd\n",
    "import matplotlib.pyplot as plt\n",
    "from pandas import Series, DataFrame\n",
    "import pytz\n",
    "from pytz import common_timezones, all_timezones\n",
    "import matplotlib\n",
    "matplotlib.style.use('ggplot')\n",
    "%matplotlib inline\n",
    "from datetime import datetime\n",
    "import scipy as sp\n",
    "import statsmodels.api as sm\n",
    "import statsmodels.formula.api as smf\n",
    "matplotlib.style.use('fivethirtyeight')\n",
    "matplotlib.style.use('seaborn-talk')\n",
    "import os\n",
    "import collections\n",
    "\n",
    "preDouble = \"\\\\\\\\iobsdc01\\\\SharedDocs\\\\SEER_MEDICARE\\\\SEER_MEDICARE_STAGING\"\n",
    "new = os.chdir(preDouble)\n",
    "print(preDouble)"
   ]
  },
  {
   "cell_type": "code",
   "execution_count": 2,
   "metadata": {
    "collapsed": true,
    "slideshow": {
     "slide_type": "skip"
    }
   },
   "outputs": [],
   "source": [
    "df = pd.read_pickle('dfpedsfFirsts.pickle')"
   ]
  },
  {
   "cell_type": "markdown",
   "metadata": {
    "slideshow": {
     "slide_type": "slide"
    }
   },
   "source": [
    "## <font color='steelblue'>Description of the SEER-Medicare Data Files format</font>\n",
    "\n",
    "Fixed width files. Data dictionary available to make the data not only machine readable but meaningful to humans\n",
    "\n",
    "* Patient Entitlement and Diagnosis Summary File (PEDSF)\n",
    "* Medicare Provider Analysis and Review (MEDPAR)\n",
    "* Carrier Claims (old file name Physician/Supplier Part B (NCH))\n",
    "* Outpatient Claims\n",
    "* Home Health Agency (HAA)\n",
    "* Hospice\n",
    "* Durable Medical Equipment (DME)\n",
    "* Medicare Part D Data"
   ]
  },
  {
   "cell_type": "markdown",
   "metadata": {
    "slideshow": {
     "slide_type": "slide"
    }
   },
   "source": [
    "## <font color='steelblue'>First order of business is to identify all the patients in the SEER-Medicare data who have received PBT</font>\n",
    "\n",
    "### <font color='steelblue'>Reminder:</font>\n",
    "\n",
    "The relevant HCPCS are:\n",
    "\n",
    "* 77520 - Proton trmt simple w/o comp\n",
    "* 77522 - Proton trmt simple w/comp\n",
    "* 77523 - Proton trmt intermediate\n",
    "* 77525 - Proton treatment complex\n",
    "\n",
    "as well as the HCPCS code S8030 (Scleral application of tantalum ring(s) for localization of lesions for proton beam therapy)."
   ]
  },
  {
   "cell_type": "markdown",
   "metadata": {
    "slideshow": {
     "slide_type": "slide"
    }
   },
   "source": [
    "### <font color='steelblue'>Use the Outpatient Claims and Carrier Claims files</font>\n",
    "\n",
    "\n",
    "* 218 Outpatient Claims files\n",
    "* 207 Carrier Claims files\n",
    "\n",
    "\n",
    "Loop through all of these files and capture the set of all the ```patient_id``` s corresponding to the PBT HCPCS codes\n",
    "\n",
    "**Result: 1584 unique patients appear in the claims files for claims in years 2006-2013**\n"
   ]
  },
  {
   "cell_type": "code",
   "execution_count": 4,
   "metadata": {
    "collapsed": true,
    "slideshow": {
     "slide_type": "skip"
    }
   },
   "outputs": [],
   "source": [
    "mask = (df['srvm1'] != 9999)\n",
    "dfall = df[mask]"
   ]
  },
  {
   "cell_type": "code",
   "execution_count": 5,
   "metadata": {
    "collapsed": true,
    "slideshow": {
     "slide_type": "skip"
    }
   },
   "outputs": [],
   "source": [
    "geomask = (dfall['elevation_1'] != dfall['FIPScombo_1']) \n",
    "\n",
    "dfall = dfall[geomask].copy()"
   ]
  },
  {
   "cell_type": "code",
   "execution_count": 6,
   "metadata": {
    "collapsed": true,
    "slideshow": {
     "slide_type": "skip"
    }
   },
   "outputs": [],
   "source": [
    "dfall['elevation_1'].replace('99999',np.nan,inplace=True)\n",
    "dfall['elevation_2'].replace('99999',np.nan,inplace=True)\n",
    "dfall['elevation_3'].replace('99999',np.nan,inplace=True)\n",
    "\n",
    "dfall['lat_1'].replace('99999',np.nan,inplace=True)\n",
    "dfall['lat_2'].replace('99999',np.nan,inplace=True)\n",
    "dfall['lat_3'].replace('99999',np.nan,inplace=True)\n",
    "\n",
    "dfall['lng_1'].replace('99999',np.nan,inplace=True)\n",
    "dfall['lng_2'].replace('99999',np.nan,inplace=True)\n",
    "dfall['lng_3'].replace('99999',np.nan,inplace=True)\n",
    "\n",
    "dfall['elevation_1'] = dfall['elevation_1'].astype('float')\n",
    "dfall['elevation_2'] = dfall['elevation_2'].astype('float')\n",
    "dfall['elevation_3'] = dfall['elevation_3'].astype('float')\n",
    "\n",
    "dfall['lat_1'] = dfall['lat_1'].astype('float')\n",
    "dfall['lat_2'] = dfall['lat_2'].astype('float')\n",
    "dfall['lat_3'] = dfall['lat_3'].astype('float')\n",
    "\n",
    "dfall['lng_1'] = dfall['lng_1'].astype('float')\n",
    "dfall['lng_2'] = dfall['lng_2'].astype('float')\n",
    "dfall['lng_3'] = dfall['lng_3'].astype('float')"
   ]
  },
  {
   "cell_type": "code",
   "execution_count": 8,
   "metadata": {
    "collapsed": true,
    "slideshow": {
     "slide_type": "skip"
    }
   },
   "outputs": [],
   "source": [
    "import pickle\n",
    "fileObject = open('patient_ids_from_outsaf.pickle', 'rb')\n",
    "b = pickle.load(fileObject)\n",
    "fileObject.close()\n",
    "treatmentindices_outsaf = list(set.union(*b))"
   ]
  },
  {
   "cell_type": "code",
   "execution_count": 9,
   "metadata": {
    "collapsed": true,
    "slideshow": {
     "slide_type": "skip"
    }
   },
   "outputs": [],
   "source": [
    "import pickle\n",
    "fileObject = open('patient_ids_from_nch.pickle', 'rb')\n",
    "b = pickle.load(fileObject)\n",
    "fileObject.close()\n",
    "treatmentindices_nch = list(set.union(*b))"
   ]
  },
  {
   "cell_type": "code",
   "execution_count": 10,
   "metadata": {
    "collapsed": true,
    "slideshow": {
     "slide_type": "skip"
    }
   },
   "outputs": [],
   "source": [
    "bigtreatmentindices = list(set(treatmentindices_nch+treatmentindices_outsaf))\n",
    "\n",
    "dfall.set_index('patient_id', inplace=True,drop=False)\n",
    "\n",
    "allindices = dfall.index"
   ]
  },
  {
   "cell_type": "code",
   "execution_count": 11,
   "metadata": {
    "collapsed": true,
    "slideshow": {
     "slide_type": "skip"
    }
   },
   "outputs": [],
   "source": [
    "bigtreatmentset = set(bigtreatmentindices)\n",
    "allset = set(allindices)\n",
    "\n",
    "\n",
    "alltreatmentindices = list(allset.intersection(bigtreatmentset))\n",
    "\n",
    "treatmentindices = alltreatmentindices\n",
    "#len(treatmentindices)"
   ]
  },
  {
   "cell_type": "markdown",
   "metadata": {
    "slideshow": {
     "slide_type": "skip"
    }
   },
   "source": [
    "### <font color='steelblue'>Now use the pedsf files to perform patient matching, using the ```patient_id``` 's found above</font>\n",
    "\n",
    "List of pedsf files (contains SEER cases for diagnosis year dates 2006-2011):\n",
    "\n",
    "* pedsf.nasopharynx.cancer.txt\n",
    "* pedsf.salivarygland.cancer.txt\n",
    "* pedsf.oropharynx.cancer.txt\n",
    "* pedsf.esophagus.cancer.txt\n",
    "* pedsf.brain.cancer.txt\n",
    "* pedsf.eyeandorbit.cancer.txt\n",
    "* pedsf.softtissue.cancer.txt\n",
    "* pedsf.prostate.cancer.file01.txt\n",
    "* pedsf.prostate.cancer.file02.txt\n",
    "* pedsf.prostate.cancer.file03.txt\n",
    "* pedsf.lung.cancer.file01.txt\n",
    "* pedsf.lung.cancer.file02.txt\n",
    "\n"
   ]
  },
  {
   "cell_type": "markdown",
   "metadata": {
    "slideshow": {
     "slide_type": "slide"
    }
   },
   "source": [
    "### <font color='steelblue'>The pedsf files contain one single row for each patient, and contain the information for up to 10 different primary tumors.</font>\n",
    "\n",
    "So the prostate cancer files contain all patients with a cancer diagnosis where the primary site is the prostate for ANY of the potentially 10 different primary tumors associated with that patient and where that prostate site tumor has a diagnosis date anywhere between 2006 and 2011.\n",
    "\n",
    " "
   ]
  },
  {
   "cell_type": "code",
   "execution_count": 12,
   "metadata": {
    "collapsed": true,
    "slideshow": {
     "slide_type": "skip"
    }
   },
   "outputs": [],
   "source": [
    "import pedsfhelp\n",
    "\n",
    "df2 = pedsfhelp.make_clean_dataframe('pedsf.salivarygland.cancer.txt')\n",
    "#print(df2.shape)"
   ]
  },
  {
   "cell_type": "markdown",
   "metadata": {
    "slideshow": {
     "slide_type": "slide"
    }
   },
   "source": [
    "For example, in the ```pedsf.salivarygland.cancer.txt```, the cancer sites for the first tumor listed for each patient has the following distribution:"
   ]
  },
  {
   "cell_type": "code",
   "execution_count": 23,
   "metadata": {
    "collapsed": false,
    "slideshow": {
     "slide_type": "skip"
    }
   },
   "outputs": [
    {
     "data": {
      "text/html": [
       "\n",
       "    <div class=\"bk-banner\">\n",
       "        <a href=\"http://bokeh.pydata.org\" target=\"_blank\" class=\"bk-logo bk-logo-small bk-logo-notebook\"></a>\n",
       "        <span id=\"1e533c92-4164-4b06-b982-8ee6e3bb823c\">Loading BokehJS ...</span>\n",
       "    </div>"
      ]
     },
     "metadata": {},
     "output_type": "display_data"
    },
    {
     "data": {
      "application/javascript": [
       "\n",
       "(function(global) {\n",
       "  function now() {\n",
       "    return new Date();\n",
       "  }\n",
       "\n",
       "  if (typeof (window._bokeh_onload_callbacks) === \"undefined\") {\n",
       "    window._bokeh_onload_callbacks = [];\n",
       "  }\n",
       "\n",
       "  function run_callbacks() {\n",
       "    window._bokeh_onload_callbacks.forEach(function(callback) { callback() });\n",
       "    delete window._bokeh_onload_callbacks\n",
       "    console.info(\"Bokeh: all callbacks have finished\");\n",
       "  }\n",
       "\n",
       "  function load_libs(js_urls, callback) {\n",
       "    window._bokeh_onload_callbacks.push(callback);\n",
       "    if (window._bokeh_is_loading > 0) {\n",
       "      console.log(\"Bokeh: BokehJS is being loaded, scheduling callback at\", now());\n",
       "      return null;\n",
       "    }\n",
       "    if (js_urls == null || js_urls.length === 0) {\n",
       "      run_callbacks();\n",
       "      return null;\n",
       "    }\n",
       "    console.log(\"Bokeh: BokehJS not loaded, scheduling load and callback at\", now());\n",
       "    window._bokeh_is_loading = js_urls.length;\n",
       "    for (var i = 0; i < js_urls.length; i++) {\n",
       "      var url = js_urls[i];\n",
       "      var s = document.createElement('script');\n",
       "      s.src = url;\n",
       "      s.async = false;\n",
       "      s.onreadystatechange = s.onload = function() {\n",
       "        window._bokeh_is_loading--;\n",
       "        if (window._bokeh_is_loading === 0) {\n",
       "          console.log(\"Bokeh: all BokehJS libraries loaded\");\n",
       "          run_callbacks()\n",
       "        }\n",
       "      };\n",
       "      s.onerror = function() {\n",
       "        console.warn(\"failed to load library \" + url);\n",
       "      };\n",
       "      console.log(\"Bokeh: injecting script tag for BokehJS library: \", url);\n",
       "      document.getElementsByTagName(\"head\")[0].appendChild(s);\n",
       "    }\n",
       "  };\n",
       "\n",
       "  var js_urls = ['https://cdn.pydata.org/bokeh/release/bokeh-0.11.1.min.js', 'https://cdn.pydata.org/bokeh/release/bokeh-widgets-0.11.1.min.js', 'https://cdn.pydata.org/bokeh/release/bokeh-compiler-0.11.1.min.js'];\n",
       "\n",
       "  var inline_js = [\n",
       "    function(Bokeh) {\n",
       "      Bokeh.set_log_level(\"info\");\n",
       "    },\n",
       "    \n",
       "    function(Bokeh) {\n",
       "      Bokeh.$(\"#1e533c92-4164-4b06-b982-8ee6e3bb823c\").text(\"BokehJS successfully loaded\");\n",
       "    },\n",
       "    function(Bokeh) {\n",
       "      console.log(\"Bokeh: injecting CSS: https://cdn.pydata.org/bokeh/release/bokeh-0.11.1.min.css\");\n",
       "      Bokeh.embed.inject_css(\"https://cdn.pydata.org/bokeh/release/bokeh-0.11.1.min.css\");\n",
       "      console.log(\"Bokeh: injecting CSS: https://cdn.pydata.org/bokeh/release/bokeh-widgets-0.11.1.min.css\");\n",
       "      Bokeh.embed.inject_css(\"https://cdn.pydata.org/bokeh/release/bokeh-widgets-0.11.1.min.css\");\n",
       "    }\n",
       "  ];\n",
       "\n",
       "  function run_inline_js() {\n",
       "    for (var i = 0; i < inline_js.length; i++) {\n",
       "      inline_js[i](window.Bokeh);\n",
       "    }\n",
       "  }\n",
       "\n",
       "  if (window._bokeh_is_loading === 0) {\n",
       "    console.log(\"Bokeh: BokehJS loaded, going straight to plotting\");\n",
       "    run_inline_js();\n",
       "  } else {\n",
       "    load_libs(js_urls, function() {\n",
       "      console.log(\"Bokeh: BokehJS plotting callback run at\", now());\n",
       "      run_inline_js();\n",
       "    });\n",
       "  }\n",
       "}(this));"
      ]
     },
     "metadata": {},
     "output_type": "display_data"
    }
   ],
   "source": [
    "# Import Bokeh modules for interactive plotting\n",
    "import bokeh.io\n",
    "import bokeh.mpl\n",
    "import bokeh.plotting\n",
    "\n",
    "# Set up Bokeh for inline viewing\n",
    "bokeh.io.output_notebook()"
   ]
  },
  {
   "cell_type": "code",
   "execution_count": 36,
   "metadata": {
    "collapsed": false,
    "slideshow": {
     "slide_type": "skip"
    }
   },
   "outputs": [
    {
     "data": {
      "text/html": [
       "\n",
       "\n",
       "    <div class=\"plotdiv\" id=\"53ec2bde-67ca-488f-9ee8-ee661e686ddd\"></div>\n",
       "<script type=\"text/javascript\">\n",
       "  \n",
       "  (function(global) {\n",
       "    function now() {\n",
       "      return new Date();\n",
       "    }\n",
       "  \n",
       "    if (typeof (window._bokeh_onload_callbacks) === \"undefined\") {\n",
       "      window._bokeh_onload_callbacks = [];\n",
       "    }\n",
       "  \n",
       "    function run_callbacks() {\n",
       "      window._bokeh_onload_callbacks.forEach(function(callback) { callback() });\n",
       "      delete window._bokeh_onload_callbacks\n",
       "      console.info(\"Bokeh: all callbacks have finished\");\n",
       "    }\n",
       "  \n",
       "    function load_libs(js_urls, callback) {\n",
       "      window._bokeh_onload_callbacks.push(callback);\n",
       "      if (window._bokeh_is_loading > 0) {\n",
       "        console.log(\"Bokeh: BokehJS is being loaded, scheduling callback at\", now());\n",
       "        return null;\n",
       "      }\n",
       "      if (js_urls == null || js_urls.length === 0) {\n",
       "        run_callbacks();\n",
       "        return null;\n",
       "      }\n",
       "      console.log(\"Bokeh: BokehJS not loaded, scheduling load and callback at\", now());\n",
       "      window._bokeh_is_loading = js_urls.length;\n",
       "      for (var i = 0; i < js_urls.length; i++) {\n",
       "        var url = js_urls[i];\n",
       "        var s = document.createElement('script');\n",
       "        s.src = url;\n",
       "        s.async = false;\n",
       "        s.onreadystatechange = s.onload = function() {\n",
       "          window._bokeh_is_loading--;\n",
       "          if (window._bokeh_is_loading === 0) {\n",
       "            console.log(\"Bokeh: all BokehJS libraries loaded\");\n",
       "            run_callbacks()\n",
       "          }\n",
       "        };\n",
       "        s.onerror = function() {\n",
       "          console.warn(\"failed to load library \" + url);\n",
       "        };\n",
       "        console.log(\"Bokeh: injecting script tag for BokehJS library: \", url);\n",
       "        document.getElementsByTagName(\"head\")[0].appendChild(s);\n",
       "      }\n",
       "    };var element = document.getElementById(\"53ec2bde-67ca-488f-9ee8-ee661e686ddd\");\n",
       "    if (element == null) {\n",
       "      console.log(\"Bokeh: ERROR: autoload.js configured with elementid '53ec2bde-67ca-488f-9ee8-ee661e686ddd' but no matching script tag was found. \")\n",
       "      return false;\n",
       "    }\n",
       "  \n",
       "    var js_urls = [];\n",
       "  \n",
       "    var inline_js = [\n",
       "      function(Bokeh) {\n",
       "        Bokeh.$(function() {\n",
       "            var docs_json = {\"b21bbb7c-420a-45d6-a72e-0f30af3f6597\":{\"roots\":{\"references\":[{\"attributes\":{\"data_source\":{\"id\":\"30c44b1d-6c08-4ccc-b533-0b0d411d4961\",\"type\":\"ColumnDataSource\"},\"glyph\":{\"id\":\"54686fa9-8d15-44ed-b905-492bfccec8ae\",\"type\":\"Rect\"},\"hover_glyph\":null,\"nonselection_glyph\":null,\"selection_glyph\":null},\"id\":\"a894a03a-7387-42e0-a478-3402aca8d102\",\"type\":\"GlyphRenderer\"},{\"attributes\":{\"callback\":null,\"column_names\":[\"width\",\"line_alpha\",\"y\",\"x\",\"color\",\"height\",\"fill_alpha\",\"line_color\"],\"data\":{\"chart_index\":[{\"index\":\"Lung and Bronchus\"}],\"color\":[\"#f22c40\"],\"fill_alpha\":[0.8],\"height\":[33.0],\"index\":[\"Lung and Bronchus\"],\"line_alpha\":[1.0],\"line_color\":[\"white\"],\"width\":[0.8],\"x\":[\"Lung and Bronchus\"],\"y\":[16.5]}},\"id\":\"836841d4-eb40-4099-8a59-568f75991097\",\"type\":\"ColumnDataSource\"},{\"attributes\":{\"plot\":{\"id\":\"2f150ba2-1c35-4af6-a7a8-045b13a343b2\",\"subtype\":\"Chart\",\"type\":\"Plot\"}},\"id\":\"ce886796-a4db-41c9-868b-95a5e3aecca9\",\"type\":\"HelpTool\"},{\"attributes\":{\"callback\":null,\"column_names\":[\"width\",\"line_alpha\",\"y\",\"x\",\"color\",\"height\",\"fill_alpha\",\"line_color\"],\"data\":{\"chart_index\":[{\"index\":\"Melanoma of the Skin\"}],\"color\":[\"#f22c40\"],\"fill_alpha\":[0.8],\"height\":[96.0],\"index\":[\"Melanoma of the Skin\"],\"line_alpha\":[1.0],\"line_color\":[\"white\"],\"width\":[0.8],\"x\":[\"Melanoma of the Skin\"],\"y\":[48.0]}},\"id\":\"1c03d5c7-28b0-4666-8d69-2f197db8e16e\",\"type\":\"ColumnDataSource\"},{\"attributes\":{\"data_source\":{\"id\":\"188f98c3-abfd-41c6-9139-60d03d547e0b\",\"type\":\"ColumnDataSource\"},\"glyph\":{\"id\":\"84396de6-dc1c-49d9-afc0-27e7921eef62\",\"type\":\"Rect\"},\"hover_glyph\":null,\"nonselection_glyph\":null,\"selection_glyph\":null},\"id\":\"ad07656d-da28-4bac-b35d-4d916d7b53fb\",\"type\":\"GlyphRenderer\"},{\"attributes\":{\"callback\":null,\"factors\":[\"Breast\",\"Chronic Lymphocytic Leukemia\",\"Kidney and Renal Pelvis\",\"Lung and Bronchus\",\"Melanoma of the Skin\",\"NHL - Nodal\",\"Prostate\",\"Salivary Gland\",\"Thyroid\",\"Urinary Bladder\"]},\"id\":\"c365adb6-6de4-461e-9179-932e78abe245\",\"type\":\"FactorRange\"},{\"attributes\":{\"callback\":null,\"column_names\":[\"width\",\"line_alpha\",\"y\",\"x\",\"color\",\"height\",\"fill_alpha\",\"line_color\"],\"data\":{\"chart_index\":[{\"index\":\"Chronic Lymphocytic Leukemia\"}],\"color\":[\"#f22c40\"],\"fill_alpha\":[0.8],\"height\":[28.0],\"index\":[\"Chronic Lymphocytic Leukemia\"],\"line_alpha\":[1.0],\"line_color\":[\"white\"],\"width\":[0.8],\"x\":[\"Chronic Lymphocytic Leukemia\"],\"y\":[14.0]}},\"id\":\"8a0de16e-e5ee-44b6-9960-8e7bf83912b4\",\"type\":\"ColumnDataSource\"},{\"attributes\":{\"callback\":null,\"column_names\":[\"width\",\"line_alpha\",\"y\",\"x\",\"color\",\"height\",\"fill_alpha\",\"line_color\"],\"data\":{\"chart_index\":[{\"index\":\"Kidney and Renal Pelvis\"}],\"color\":[\"#f22c40\"],\"fill_alpha\":[0.8],\"height\":[26.0],\"index\":[\"Kidney and Renal Pelvis\"],\"line_alpha\":[1.0],\"line_color\":[\"white\"],\"width\":[0.8],\"x\":[\"Kidney and Renal Pelvis\"],\"y\":[13.0]}},\"id\":\"d03cbce7-073f-40ee-a9ed-222aa43481e5\",\"type\":\"ColumnDataSource\"},{\"attributes\":{\"callback\":null,\"column_names\":[\"width\",\"line_alpha\",\"y\",\"x\",\"color\",\"height\",\"fill_alpha\",\"line_color\"],\"data\":{\"chart_index\":[{\"index\":\"Urinary Bladder\"}],\"color\":[\"#f22c40\"],\"fill_alpha\":[0.8],\"height\":[39.0],\"index\":[\"Urinary Bladder\"],\"line_alpha\":[1.0],\"line_color\":[\"white\"],\"width\":[0.8],\"x\":[\"Urinary Bladder\"],\"y\":[19.5]}},\"id\":\"41c91f26-3e58-44d2-be1d-9ab2bfd19c8d\",\"type\":\"ColumnDataSource\"},{\"attributes\":{\"overlay\":{\"id\":\"4939d03a-9c88-4fc5-afac-3b46b1fbaf2a\",\"type\":\"BoxAnnotation\"},\"plot\":{\"id\":\"2f150ba2-1c35-4af6-a7a8-045b13a343b2\",\"subtype\":\"Chart\",\"type\":\"Plot\"}},\"id\":\"616c27a8-3b4a-4595-a5bd-81bf599c0057\",\"type\":\"BoxZoomTool\"},{\"attributes\":{\"fill_alpha\":{\"field\":\"fill_alpha\"},\"fill_color\":{\"field\":\"color\"},\"height\":{\"field\":\"height\",\"units\":\"data\"},\"line_color\":{\"field\":\"line_color\"},\"width\":{\"field\":\"width\",\"units\":\"data\"},\"x\":{\"field\":\"x\"},\"y\":{\"field\":\"y\"}},\"id\":\"62ed9588-9e54-4cd1-9d06-1cf93bbeee2f\",\"type\":\"Rect\"},{\"attributes\":{\"callback\":null,\"column_names\":[\"width\",\"line_alpha\",\"y\",\"x\",\"color\",\"height\",\"fill_alpha\",\"line_color\"],\"data\":{\"chart_index\":[{\"index\":\"Prostate\"}],\"color\":[\"#f22c40\"],\"fill_alpha\":[0.8],\"height\":[190.0],\"index\":[\"Prostate\"],\"line_alpha\":[1.0],\"line_color\":[\"white\"],\"width\":[0.8],\"x\":[\"Prostate\"],\"y\":[95.0]}},\"id\":\"188f98c3-abfd-41c6-9139-60d03d547e0b\",\"type\":\"ColumnDataSource\"},{\"attributes\":{\"dimension\":1,\"plot\":{\"id\":\"2f150ba2-1c35-4af6-a7a8-045b13a343b2\",\"subtype\":\"Chart\",\"type\":\"Plot\"},\"ticker\":{\"id\":\"ce11a98a-d902-4805-81cb-a00294dbd8cd\",\"type\":\"BasicTicker\"}},\"id\":\"5b9568b9-e819-4df1-b554-581812cb53fe\",\"type\":\"Grid\"},{\"attributes\":{},\"id\":\"e8d1ed05-281b-45a2-885c-9fc6fb4ff306\",\"type\":\"CategoricalTickFormatter\"},{\"attributes\":{\"plot\":{\"id\":\"2f150ba2-1c35-4af6-a7a8-045b13a343b2\",\"subtype\":\"Chart\",\"type\":\"Plot\"}},\"id\":\"a5d73508-ce9b-4f40-8546-f0f9ec3ea7d0\",\"type\":\"ResetTool\"},{\"attributes\":{\"fill_alpha\":{\"field\":\"fill_alpha\"},\"fill_color\":{\"field\":\"color\"},\"height\":{\"field\":\"height\",\"units\":\"data\"},\"line_color\":{\"field\":\"line_color\"},\"width\":{\"field\":\"width\",\"units\":\"data\"},\"x\":{\"field\":\"x\"},\"y\":{\"field\":\"y\"}},\"id\":\"47ead7e7-3371-49d7-9c0f-d80127f1ef34\",\"type\":\"Rect\"},{\"attributes\":{\"fill_alpha\":{\"field\":\"fill_alpha\"},\"fill_color\":{\"field\":\"color\"},\"height\":{\"field\":\"height\",\"units\":\"data\"},\"line_color\":{\"field\":\"line_color\"},\"width\":{\"field\":\"width\",\"units\":\"data\"},\"x\":{\"field\":\"x\"},\"y\":{\"field\":\"y\"}},\"id\":\"681dac03-0462-46db-9437-af54cbcfe4a1\",\"type\":\"Rect\"},{\"attributes\":{\"data_source\":{\"id\":\"e2e36bcd-8e2b-4d36-977e-67d39b44d953\",\"type\":\"ColumnDataSource\"},\"glyph\":{\"id\":\"3c62d122-a13e-412e-b04d-190713cc68d8\",\"type\":\"Rect\"},\"hover_glyph\":null,\"nonselection_glyph\":null,\"selection_glyph\":null},\"id\":\"134fcf67-e573-46b9-9e2c-579a0744ec55\",\"type\":\"GlyphRenderer\"},{\"attributes\":{\"fill_alpha\":{\"field\":\"fill_alpha\"},\"fill_color\":{\"field\":\"color\"},\"height\":{\"field\":\"height\",\"units\":\"data\"},\"line_color\":{\"field\":\"line_color\"},\"width\":{\"field\":\"width\",\"units\":\"data\"},\"x\":{\"field\":\"x\"},\"y\":{\"field\":\"y\"}},\"id\":\"7b74f1ef-73e1-40be-b9cd-7736a2942148\",\"type\":\"Rect\"},{\"attributes\":{},\"id\":\"9b2547ca-3576-4485-bd9f-b9006824949d\",\"type\":\"CategoricalTicker\"},{\"attributes\":{\"data_source\":{\"id\":\"836841d4-eb40-4099-8a59-568f75991097\",\"type\":\"ColumnDataSource\"},\"glyph\":{\"id\":\"a4135bbf-1c0f-4cfe-842a-6b67ef255673\",\"type\":\"Rect\"},\"hover_glyph\":null,\"nonselection_glyph\":null,\"selection_glyph\":null},\"id\":\"a2861d94-9d34-4483-bb6d-e478c2f80645\",\"type\":\"GlyphRenderer\"},{\"attributes\":{\"below\":[{\"id\":\"013dc930-5f66-4282-959b-cc63032a4e0e\",\"type\":\"CategoricalAxis\"}],\"left\":[{\"id\":\"ae31235b-aea8-4a72-bdd2-c3e61ae07445\",\"type\":\"LinearAxis\"}],\"legend\":null,\"renderers\":[{\"id\":\"4939d03a-9c88-4fc5-afac-3b46b1fbaf2a\",\"type\":\"BoxAnnotation\"},{\"id\":\"a894a03a-7387-42e0-a478-3402aca8d102\",\"type\":\"GlyphRenderer\"},{\"id\":\"60be18b3-acac-4dce-bcff-667597e7d2f9\",\"type\":\"GlyphRenderer\"},{\"id\":\"d61e05b4-886a-4944-9ce5-f536896381d6\",\"type\":\"GlyphRenderer\"},{\"id\":\"068bff38-adfe-4943-8574-6eb9d189d626\",\"type\":\"GlyphRenderer\"},{\"id\":\"a2861d94-9d34-4483-bb6d-e478c2f80645\",\"type\":\"GlyphRenderer\"},{\"id\":\"ba1b7fee-20cb-4dc0-9fa2-a2037b15d1d7\",\"type\":\"GlyphRenderer\"},{\"id\":\"31dc1727-9136-490f-9dd5-2ec61ca8fe69\",\"type\":\"GlyphRenderer\"},{\"id\":\"91ac01d3-9a28-4dac-9eb2-8af9c98500e9\",\"type\":\"GlyphRenderer\"},{\"id\":\"ad07656d-da28-4bac-b35d-4d916d7b53fb\",\"type\":\"GlyphRenderer\"},{\"id\":\"134fcf67-e573-46b9-9e2c-579a0744ec55\",\"type\":\"GlyphRenderer\"},{\"id\":\"013dc930-5f66-4282-959b-cc63032a4e0e\",\"type\":\"CategoricalAxis\"},{\"id\":\"ae31235b-aea8-4a72-bdd2-c3e61ae07445\",\"type\":\"LinearAxis\"},{\"id\":\"5b9568b9-e819-4df1-b554-581812cb53fe\",\"type\":\"Grid\"}],\"title_text_font_size\":{\"value\":\"14pt\"},\"tool_events\":{\"id\":\"035ddd38-771d-4d7d-b100-53c21fb3ad89\",\"type\":\"ToolEvents\"},\"tools\":[{\"id\":\"88a1b7d2-2f86-488f-bc38-a3b9ff82449c\",\"type\":\"PanTool\"},{\"id\":\"5db38477-07d2-4c52-9a0f-9ccabfd4badc\",\"type\":\"WheelZoomTool\"},{\"id\":\"616c27a8-3b4a-4595-a5bd-81bf599c0057\",\"type\":\"BoxZoomTool\"},{\"id\":\"2c09cf0a-f9e9-46d4-a8fa-01a54fd6cb90\",\"type\":\"PreviewSaveTool\"},{\"id\":\"419bcc16-8dfe-43e4-923e-704337eabee8\",\"type\":\"ResizeTool\"},{\"id\":\"a5d73508-ce9b-4f40-8546-f0f9ec3ea7d0\",\"type\":\"ResetTool\"},{\"id\":\"ce886796-a4db-41c9-868b-95a5e3aecca9\",\"type\":\"HelpTool\"}],\"x_mapper_type\":\"auto\",\"x_range\":{\"id\":\"c365adb6-6de4-461e-9179-932e78abe245\",\"type\":\"FactorRange\"},\"xgrid\":false,\"xscale\":\"auto\",\"y_mapper_type\":\"auto\",\"y_range\":{\"id\":\"5b7b993c-774e-4624-937f-6040e1fc0af6\",\"type\":\"Range1d\"},\"yscale\":\"auto\"},\"id\":\"2f150ba2-1c35-4af6-a7a8-045b13a343b2\",\"subtype\":\"Chart\",\"type\":\"Plot\"},{\"attributes\":{\"data_source\":{\"id\":\"d03cbce7-073f-40ee-a9ed-222aa43481e5\",\"type\":\"ColumnDataSource\"},\"glyph\":{\"id\":\"7b74f1ef-73e1-40be-b9cd-7736a2942148\",\"type\":\"Rect\"},\"hover_glyph\":null,\"nonselection_glyph\":null,\"selection_glyph\":null},\"id\":\"60be18b3-acac-4dce-bcff-667597e7d2f9\",\"type\":\"GlyphRenderer\"},{\"attributes\":{\"axis_label\":\"Sum( Siterwho1 )\",\"formatter\":{\"id\":\"1896800d-579b-4824-a8c3-419e8aa2175a\",\"type\":\"BasicTickFormatter\"},\"plot\":{\"id\":\"2f150ba2-1c35-4af6-a7a8-045b13a343b2\",\"subtype\":\"Chart\",\"type\":\"Plot\"},\"ticker\":{\"id\":\"ce11a98a-d902-4805-81cb-a00294dbd8cd\",\"type\":\"BasicTicker\"}},\"id\":\"ae31235b-aea8-4a72-bdd2-c3e61ae07445\",\"type\":\"LinearAxis\"},{\"attributes\":{\"plot\":{\"id\":\"2f150ba2-1c35-4af6-a7a8-045b13a343b2\",\"subtype\":\"Chart\",\"type\":\"Plot\"}},\"id\":\"5db38477-07d2-4c52-9a0f-9ccabfd4badc\",\"type\":\"WheelZoomTool\"},{\"attributes\":{\"plot\":{\"id\":\"2f150ba2-1c35-4af6-a7a8-045b13a343b2\",\"subtype\":\"Chart\",\"type\":\"Plot\"}},\"id\":\"88a1b7d2-2f86-488f-bc38-a3b9ff82449c\",\"type\":\"PanTool\"},{\"attributes\":{\"callback\":null,\"column_names\":[\"width\",\"line_alpha\",\"y\",\"x\",\"color\",\"height\",\"fill_alpha\",\"line_color\"],\"data\":{\"chart_index\":[{\"index\":\"Breast\"}],\"color\":[\"#f22c40\"],\"fill_alpha\":[0.8],\"height\":[131.0],\"index\":[\"Breast\"],\"line_alpha\":[1.0],\"line_color\":[\"white\"],\"width\":[0.8],\"x\":[\"Breast\"],\"y\":[65.5]}},\"id\":\"7bf52fce-c700-4a37-9997-64526b41e128\",\"type\":\"ColumnDataSource\"},{\"attributes\":{\"data_source\":{\"id\":\"1c03d5c7-28b0-4666-8d69-2f197db8e16e\",\"type\":\"ColumnDataSource\"},\"glyph\":{\"id\":\"82d0514d-b2be-44c2-80d2-bc8296d21ea2\",\"type\":\"Rect\"},\"hover_glyph\":null,\"nonselection_glyph\":null,\"selection_glyph\":null},\"id\":\"31dc1727-9136-490f-9dd5-2ec61ca8fe69\",\"type\":\"GlyphRenderer\"},{\"attributes\":{\"fill_alpha\":{\"field\":\"fill_alpha\"},\"fill_color\":{\"field\":\"color\"},\"height\":{\"field\":\"height\",\"units\":\"data\"},\"line_color\":{\"field\":\"line_color\"},\"width\":{\"field\":\"width\",\"units\":\"data\"},\"x\":{\"field\":\"x\"},\"y\":{\"field\":\"y\"}},\"id\":\"aca5b1a5-56f9-40a7-8d6d-401e6c86d0a8\",\"type\":\"Rect\"},{\"attributes\":{\"data_source\":{\"id\":\"8a0de16e-e5ee-44b6-9960-8e7bf83912b4\",\"type\":\"ColumnDataSource\"},\"glyph\":{\"id\":\"62ed9588-9e54-4cd1-9d06-1cf93bbeee2f\",\"type\":\"Rect\"},\"hover_glyph\":null,\"nonselection_glyph\":null,\"selection_glyph\":null},\"id\":\"d61e05b4-886a-4944-9ce5-f536896381d6\",\"type\":\"GlyphRenderer\"},{\"attributes\":{\"fill_alpha\":{\"field\":\"fill_alpha\"},\"fill_color\":{\"field\":\"color\"},\"height\":{\"field\":\"height\",\"units\":\"data\"},\"line_color\":{\"field\":\"line_color\"},\"width\":{\"field\":\"width\",\"units\":\"data\"},\"x\":{\"field\":\"x\"},\"y\":{\"field\":\"y\"}},\"id\":\"84396de6-dc1c-49d9-afc0-27e7921eef62\",\"type\":\"Rect\"},{\"attributes\":{\"formatter\":{\"id\":\"e8d1ed05-281b-45a2-885c-9fc6fb4ff306\",\"type\":\"CategoricalTickFormatter\"},\"major_label_orientation\":0.7853981633974483,\"plot\":{\"id\":\"2f150ba2-1c35-4af6-a7a8-045b13a343b2\",\"subtype\":\"Chart\",\"type\":\"Plot\"},\"ticker\":{\"id\":\"9b2547ca-3576-4485-bd9f-b9006824949d\",\"type\":\"CategoricalTicker\"}},\"id\":\"013dc930-5f66-4282-959b-cc63032a4e0e\",\"type\":\"CategoricalAxis\"},{\"attributes\":{\"callback\":null,\"end\":3404.1},\"id\":\"5b7b993c-774e-4624-937f-6040e1fc0af6\",\"type\":\"Range1d\"},{\"attributes\":{},\"id\":\"035ddd38-771d-4d7d-b100-53c21fb3ad89\",\"type\":\"ToolEvents\"},{\"attributes\":{\"fill_alpha\":{\"field\":\"fill_alpha\"},\"fill_color\":{\"field\":\"color\"},\"height\":{\"field\":\"height\",\"units\":\"data\"},\"line_color\":{\"field\":\"line_color\"},\"width\":{\"field\":\"width\",\"units\":\"data\"},\"x\":{\"field\":\"x\"},\"y\":{\"field\":\"y\"}},\"id\":\"82d0514d-b2be-44c2-80d2-bc8296d21ea2\",\"type\":\"Rect\"},{\"attributes\":{\"callback\":null,\"column_names\":[\"width\",\"line_alpha\",\"y\",\"x\",\"color\",\"height\",\"fill_alpha\",\"line_color\"],\"data\":{\"chart_index\":[{\"index\":\"NHL - Nodal\"}],\"color\":[\"#f22c40\"],\"fill_alpha\":[0.8],\"height\":[31.0],\"index\":[\"NHL - Nodal\"],\"line_alpha\":[1.0],\"line_color\":[\"white\"],\"width\":[0.8],\"x\":[\"NHL - Nodal\"],\"y\":[15.5]}},\"id\":\"a8e73e5e-3492-4408-b74f-380a4b5ab100\",\"type\":\"ColumnDataSource\"},{\"attributes\":{\"data_source\":{\"id\":\"a8e73e5e-3492-4408-b74f-380a4b5ab100\",\"type\":\"ColumnDataSource\"},\"glyph\":{\"id\":\"47ead7e7-3371-49d7-9c0f-d80127f1ef34\",\"type\":\"Rect\"},\"hover_glyph\":null,\"nonselection_glyph\":null,\"selection_glyph\":null},\"id\":\"068bff38-adfe-4943-8574-6eb9d189d626\",\"type\":\"GlyphRenderer\"},{\"attributes\":{\"data_source\":{\"id\":\"7bf52fce-c700-4a37-9997-64526b41e128\",\"type\":\"ColumnDataSource\"},\"glyph\":{\"id\":\"aca5b1a5-56f9-40a7-8d6d-401e6c86d0a8\",\"type\":\"Rect\"},\"hover_glyph\":null,\"nonselection_glyph\":null,\"selection_glyph\":null},\"id\":\"91ac01d3-9a28-4dac-9eb2-8af9c98500e9\",\"type\":\"GlyphRenderer\"},{\"attributes\":{},\"id\":\"ce11a98a-d902-4805-81cb-a00294dbd8cd\",\"type\":\"BasicTicker\"},{\"attributes\":{},\"id\":\"1896800d-579b-4824-a8c3-419e8aa2175a\",\"type\":\"BasicTickFormatter\"},{\"attributes\":{\"fill_alpha\":{\"field\":\"fill_alpha\"},\"fill_color\":{\"field\":\"color\"},\"height\":{\"field\":\"height\",\"units\":\"data\"},\"line_color\":{\"field\":\"line_color\"},\"width\":{\"field\":\"width\",\"units\":\"data\"},\"x\":{\"field\":\"x\"},\"y\":{\"field\":\"y\"}},\"id\":\"a4135bbf-1c0f-4cfe-842a-6b67ef255673\",\"type\":\"Rect\"},{\"attributes\":{\"callback\":null,\"column_names\":[\"width\",\"line_alpha\",\"y\",\"x\",\"color\",\"height\",\"fill_alpha\",\"line_color\"],\"data\":{\"chart_index\":[{\"index\":\"Salivary Gland\"}],\"color\":[\"#f22c40\"],\"fill_alpha\":[0.8],\"height\":[3242.0],\"index\":[\"Salivary Gland\"],\"line_alpha\":[1.0],\"line_color\":[\"white\"],\"width\":[0.8],\"x\":[\"Salivary Gland\"],\"y\":[1621.0]}},\"id\":\"e2e36bcd-8e2b-4d36-977e-67d39b44d953\",\"type\":\"ColumnDataSource\"},{\"attributes\":{\"callback\":null,\"column_names\":[\"width\",\"line_alpha\",\"y\",\"x\",\"color\",\"height\",\"fill_alpha\",\"line_color\"],\"data\":{\"chart_index\":[{\"index\":\"Thyroid\"}],\"color\":[\"#f22c40\"],\"fill_alpha\":[0.8],\"height\":[26.0],\"index\":[\"Thyroid\"],\"line_alpha\":[1.0],\"line_color\":[\"white\"],\"width\":[0.8],\"x\":[\"Thyroid\"],\"y\":[13.0]}},\"id\":\"30c44b1d-6c08-4ccc-b533-0b0d411d4961\",\"type\":\"ColumnDataSource\"},{\"attributes\":{\"fill_alpha\":{\"field\":\"fill_alpha\"},\"fill_color\":{\"field\":\"color\"},\"height\":{\"field\":\"height\",\"units\":\"data\"},\"line_color\":{\"field\":\"line_color\"},\"width\":{\"field\":\"width\",\"units\":\"data\"},\"x\":{\"field\":\"x\"},\"y\":{\"field\":\"y\"}},\"id\":\"3c62d122-a13e-412e-b04d-190713cc68d8\",\"type\":\"Rect\"},{\"attributes\":{\"data_source\":{\"id\":\"41c91f26-3e58-44d2-be1d-9ab2bfd19c8d\",\"type\":\"ColumnDataSource\"},\"glyph\":{\"id\":\"681dac03-0462-46db-9437-af54cbcfe4a1\",\"type\":\"Rect\"},\"hover_glyph\":null,\"nonselection_glyph\":null,\"selection_glyph\":null},\"id\":\"ba1b7fee-20cb-4dc0-9fa2-a2037b15d1d7\",\"type\":\"GlyphRenderer\"},{\"attributes\":{\"plot\":{\"id\":\"2f150ba2-1c35-4af6-a7a8-045b13a343b2\",\"subtype\":\"Chart\",\"type\":\"Plot\"}},\"id\":\"419bcc16-8dfe-43e4-923e-704337eabee8\",\"type\":\"ResizeTool\"},{\"attributes\":{\"plot\":{\"id\":\"2f150ba2-1c35-4af6-a7a8-045b13a343b2\",\"subtype\":\"Chart\",\"type\":\"Plot\"}},\"id\":\"2c09cf0a-f9e9-46d4-a8fa-01a54fd6cb90\",\"type\":\"PreviewSaveTool\"},{\"attributes\":{\"bottom_units\":\"screen\",\"fill_alpha\":{\"value\":0.5},\"fill_color\":{\"value\":\"lightgrey\"},\"left_units\":\"screen\",\"level\":\"overlay\",\"line_alpha\":{\"value\":1.0},\"line_color\":{\"value\":\"black\"},\"line_dash\":[4,4],\"line_width\":{\"value\":2},\"plot\":null,\"render_mode\":\"css\",\"right_units\":\"screen\",\"top_units\":\"screen\"},\"id\":\"4939d03a-9c88-4fc5-afac-3b46b1fbaf2a\",\"type\":\"BoxAnnotation\"},{\"attributes\":{\"fill_alpha\":{\"field\":\"fill_alpha\"},\"fill_color\":{\"field\":\"color\"},\"height\":{\"field\":\"height\",\"units\":\"data\"},\"line_color\":{\"field\":\"line_color\"},\"width\":{\"field\":\"width\",\"units\":\"data\"},\"x\":{\"field\":\"x\"},\"y\":{\"field\":\"y\"}},\"id\":\"54686fa9-8d15-44ed-b905-492bfccec8ae\",\"type\":\"Rect\"}],\"root_ids\":[\"2f150ba2-1c35-4af6-a7a8-045b13a343b2\"]},\"title\":\"Bokeh Application\",\"version\":\"0.11.1\"}};\n",
       "            var render_items = [{\"docid\":\"b21bbb7c-420a-45d6-a72e-0f30af3f6597\",\"elementid\":\"53ec2bde-67ca-488f-9ee8-ee661e686ddd\",\"modelid\":\"2f150ba2-1c35-4af6-a7a8-045b13a343b2\",\"notebook_comms_target\":\"17dc7a54-a4a1-452b-9c9f-79cc47b81b34\"}];\n",
       "            \n",
       "            Bokeh.embed.embed_items(docs_json, render_items);\n",
       "        });\n",
       "      },\n",
       "      function(Bokeh) {\n",
       "      }\n",
       "    ];\n",
       "  \n",
       "    function run_inline_js() {\n",
       "      for (var i = 0; i < inline_js.length; i++) {\n",
       "        inline_js[i](window.Bokeh);\n",
       "      }\n",
       "    }\n",
       "  \n",
       "    if (window._bokeh_is_loading === 0) {\n",
       "      console.log(\"Bokeh: BokehJS loaded, going straight to plotting\");\n",
       "      run_inline_js();\n",
       "    } else {\n",
       "      load_libs(js_urls, function() {\n",
       "        console.log(\"Bokeh: BokehJS plotting callback run at\", now());\n",
       "        run_inline_js();\n",
       "      });\n",
       "    }\n",
       "  }(this));\n",
       "</script>"
      ]
     },
     "metadata": {},
     "output_type": "display_data"
    },
    {
     "data": {
      "text/html": [
       "<p><code>&lt;Bokeh Notebook handle for <strong>In[36]</strong>&gt;</code></p>"
      ],
      "text/plain": [
       "<bokeh.io._CommsHandle at 0x3cb64748>"
      ]
     },
     "execution_count": 36,
     "metadata": {},
     "output_type": "execute_result"
    }
   ],
   "source": [
    "from bokeh.charts import Bar, output_file, show, hplot\n",
    "\n",
    "data = pd.DataFrame(df2.siterwho1.value_counts()[:10][::-1])\n",
    "\n",
    "data\n",
    "bar = Bar(data,values='siterwho1')\n",
    "show(bar)"
   ]
  },
  {
   "cell_type": "code",
   "execution_count": 37,
   "metadata": {
    "collapsed": false,
    "slideshow": {
     "slide_type": "slide"
    }
   },
   "outputs": [
    {
     "data": {
      "text/html": [
       "\n",
       "\n",
       "    <div class=\"plotdiv\" id=\"92310b73-7c65-4d17-9541-d67d3a30d105\"></div>\n",
       "<script type=\"text/javascript\">\n",
       "  \n",
       "  (function(global) {\n",
       "    function now() {\n",
       "      return new Date();\n",
       "    }\n",
       "  \n",
       "    if (typeof (window._bokeh_onload_callbacks) === \"undefined\") {\n",
       "      window._bokeh_onload_callbacks = [];\n",
       "    }\n",
       "  \n",
       "    function run_callbacks() {\n",
       "      window._bokeh_onload_callbacks.forEach(function(callback) { callback() });\n",
       "      delete window._bokeh_onload_callbacks\n",
       "      console.info(\"Bokeh: all callbacks have finished\");\n",
       "    }\n",
       "  \n",
       "    function load_libs(js_urls, callback) {\n",
       "      window._bokeh_onload_callbacks.push(callback);\n",
       "      if (window._bokeh_is_loading > 0) {\n",
       "        console.log(\"Bokeh: BokehJS is being loaded, scheduling callback at\", now());\n",
       "        return null;\n",
       "      }\n",
       "      if (js_urls == null || js_urls.length === 0) {\n",
       "        run_callbacks();\n",
       "        return null;\n",
       "      }\n",
       "      console.log(\"Bokeh: BokehJS not loaded, scheduling load and callback at\", now());\n",
       "      window._bokeh_is_loading = js_urls.length;\n",
       "      for (var i = 0; i < js_urls.length; i++) {\n",
       "        var url = js_urls[i];\n",
       "        var s = document.createElement('script');\n",
       "        s.src = url;\n",
       "        s.async = false;\n",
       "        s.onreadystatechange = s.onload = function() {\n",
       "          window._bokeh_is_loading--;\n",
       "          if (window._bokeh_is_loading === 0) {\n",
       "            console.log(\"Bokeh: all BokehJS libraries loaded\");\n",
       "            run_callbacks()\n",
       "          }\n",
       "        };\n",
       "        s.onerror = function() {\n",
       "          console.warn(\"failed to load library \" + url);\n",
       "        };\n",
       "        console.log(\"Bokeh: injecting script tag for BokehJS library: \", url);\n",
       "        document.getElementsByTagName(\"head\")[0].appendChild(s);\n",
       "      }\n",
       "    };var element = document.getElementById(\"92310b73-7c65-4d17-9541-d67d3a30d105\");\n",
       "    if (element == null) {\n",
       "      console.log(\"Bokeh: ERROR: autoload.js configured with elementid '92310b73-7c65-4d17-9541-d67d3a30d105' but no matching script tag was found. \")\n",
       "      return false;\n",
       "    }\n",
       "  \n",
       "    var js_urls = [];\n",
       "  \n",
       "    var inline_js = [\n",
       "      function(Bokeh) {\n",
       "        Bokeh.$(function() {\n",
       "            var docs_json = {\"c47fac10-8d0f-47a8-bae9-a7e77f4cde0a\":{\"roots\":{\"references\":[{\"attributes\":{\"plot\":{\"id\":\"1303e408-df0e-4473-8cff-a49fe6119149\",\"type\":\"Plot\"}},\"id\":\"089c5c47-d6da-4026-b5d5-ed55f116e2f4\",\"type\":\"ResizeTool\"},{\"attributes\":{},\"id\":\"8d33822d-4c05-4a2f-9b44-33b3c50f40a1\",\"type\":\"BasicTicker\"},{\"attributes\":{\"dimension\":1,\"grid_line_color\":{\"value\":\"#cbcbcb\"},\"grid_line_width\":{\"value\":1.3},\"plot\":{\"id\":\"1303e408-df0e-4473-8cff-a49fe6119149\",\"type\":\"Plot\"},\"ticker\":{\"id\":\"24a8d5a1-7cfd-4865-b974-86189ca1b8ea\",\"type\":\"BasicTicker\"}},\"id\":\"0b0a2f9b-cead-484d-bdad-d9a5055d63a6\",\"type\":\"Grid\"},{\"attributes\":{\"callback\":null,\"column_names\":[\"name\"],\"data\":{\"name\":\"ax_end\"}},\"id\":\"bdfe1ebe-7691-4a3d-90aa-9d5c35da7e4b\",\"type\":\"ColumnDataSource\"},{\"attributes\":{\"plot\":{\"id\":\"1303e408-df0e-4473-8cff-a49fe6119149\",\"type\":\"Plot\"}},\"id\":\"d5918a6f-5108-46df-8b60-9236ac5693b9\",\"type\":\"HelpTool\"},{\"attributes\":{\"callback\":null},\"id\":\"5513f19f-6a22-4011-88e6-53dc8457caa5\",\"type\":\"DataRange1d\"},{\"attributes\":{\"overlay\":{\"id\":\"c979aa76-7dc5-4eb0-9c7d-0ca143e4c04e\",\"type\":\"BoxAnnotation\"},\"plot\":{\"id\":\"1303e408-df0e-4473-8cff-a49fe6119149\",\"type\":\"Plot\"}},\"id\":\"abf01358-0f5d-40a9-ba0a-82461092f221\",\"type\":\"BoxZoomTool\"},{\"attributes\":{\"line_color\":{\"value\":\"#30A2DA\"},\"line_width\":{\"value\":2.275},\"x\":{\"field\":\"Series 0\"},\"y\":{\"field\":\"Series 1\"}},\"id\":\"f508fd42-a39d-40b7-abb5-3dcbb5749a9b\",\"type\":\"Line\"},{\"attributes\":{\"data_source\":{\"id\":\"3b40e2d2-634a-4d72-a33a-1872c5811758\",\"type\":\"ColumnDataSource\"},\"glyph\":{\"id\":\"f508fd42-a39d-40b7-abb5-3dcbb5749a9b\",\"type\":\"Line\"},\"hover_glyph\":null,\"nonselection_glyph\":null,\"selection_glyph\":null},\"id\":\"168971ca-956b-40e2-bab6-bae6ab6d1cbe\",\"type\":\"GlyphRenderer\"},{\"attributes\":{},\"id\":\"4fe76c45-147b-479f-985b-5f5af38e09fc\",\"type\":\"BasicTickFormatter\"},{\"attributes\":{\"plot\":{\"id\":\"1303e408-df0e-4473-8cff-a49fe6119149\",\"type\":\"Plot\"}},\"id\":\"c88e347f-4363-45ae-8b35-a1e9cde592d9\",\"type\":\"ResetTool\"},{\"attributes\":{\"callback\":null},\"id\":\"34cfc478-6462-4a22-9439-4f76f54aea2b\",\"type\":\"DataRange1d\"},{\"attributes\":{\"background_fill_color\":{\"value\":\"#f0f0f0\"},\"below\":[{\"id\":\"13086015-b82a-4b2d-9960-df51ac088eaf\",\"type\":\"LinearAxis\"}],\"left\":[{\"id\":\"6c58cdce-0ba8-471a-b0e6-2caae0ac26f2\",\"type\":\"LinearAxis\"}],\"plot_height\":572,\"plot_width\":832,\"renderers\":[{\"id\":\"13086015-b82a-4b2d-9960-df51ac088eaf\",\"type\":\"LinearAxis\"},{\"id\":\"6c9d86da-8d8e-4820-a07f-14f00baf2026\",\"type\":\"Grid\"},{\"id\":\"6c58cdce-0ba8-471a-b0e6-2caae0ac26f2\",\"type\":\"LinearAxis\"},{\"id\":\"0b0a2f9b-cead-484d-bdad-d9a5055d63a6\",\"type\":\"Grid\"},{\"id\":\"767237b0-caee-42ef-bf8f-6917b734cc1c\",\"type\":\"GlyphRenderer\"},{\"id\":\"c979aa76-7dc5-4eb0-9c7d-0ca143e4c04e\",\"type\":\"BoxAnnotation\"},{\"id\":\"168971ca-956b-40e2-bab6-bae6ab6d1cbe\",\"type\":\"GlyphRenderer\"}],\"tool_events\":{\"id\":\"2bdfac8b-0ec3-4da2-bd54-7273ec47438c\",\"type\":\"ToolEvents\"},\"tools\":[{\"id\":\"fba043ac-0ed1-4853-a5b0-a56b95db66a6\",\"type\":\"PanTool\"},{\"id\":\"a5de876f-d2fd-4ed1-9183-fc86e105c151\",\"type\":\"WheelZoomTool\"},{\"id\":\"abf01358-0f5d-40a9-ba0a-82461092f221\",\"type\":\"BoxZoomTool\"},{\"id\":\"691e583c-2e1b-459e-9b81-6bb772bc9467\",\"type\":\"PreviewSaveTool\"},{\"id\":\"089c5c47-d6da-4026-b5d5-ed55f116e2f4\",\"type\":\"ResizeTool\"},{\"id\":\"c88e347f-4363-45ae-8b35-a1e9cde592d9\",\"type\":\"ResetTool\"},{\"id\":\"d5918a6f-5108-46df-8b60-9236ac5693b9\",\"type\":\"HelpTool\"}],\"x_range\":{\"id\":\"5513f19f-6a22-4011-88e6-53dc8457caa5\",\"type\":\"DataRange1d\"},\"y_range\":{\"id\":\"34cfc478-6462-4a22-9439-4f76f54aea2b\",\"type\":\"DataRange1d\"}},\"id\":\"1303e408-df0e-4473-8cff-a49fe6119149\",\"type\":\"Plot\"},{\"attributes\":{\"axis_label\":\"exp(sin(x))\",\"axis_label_text_font\":\"sans-serif\",\"axis_label_text_font_size\":{\"value\":\"14.300000pt\"},\"formatter\":{\"id\":\"4fe76c45-147b-479f-985b-5f5af38e09fc\",\"type\":\"BasicTickFormatter\"},\"major_label_text_font\":\"sans-serif\",\"major_label_text_font_size\":{\"value\":\"13.000000pt\"},\"plot\":{\"id\":\"1303e408-df0e-4473-8cff-a49fe6119149\",\"type\":\"Plot\"},\"ticker\":{\"id\":\"24a8d5a1-7cfd-4865-b974-86189ca1b8ea\",\"type\":\"BasicTicker\"}},\"id\":\"6c58cdce-0ba8-471a-b0e6-2caae0ac26f2\",\"type\":\"LinearAxis\"},{\"attributes\":{\"plot\":{\"id\":\"1303e408-df0e-4473-8cff-a49fe6119149\",\"type\":\"Plot\"}},\"id\":\"691e583c-2e1b-459e-9b81-6bb772bc9467\",\"type\":\"PreviewSaveTool\"},{\"attributes\":{},\"id\":\"24a8d5a1-7cfd-4865-b974-86189ca1b8ea\",\"type\":\"BasicTicker\"},{\"attributes\":{},\"id\":\"8dadb660-1656-4d6b-9c7c-d71a8ed2bc87\",\"type\":\"BasicTickFormatter\"},{\"attributes\":{\"bottom_units\":\"screen\",\"fill_alpha\":{\"value\":0.5},\"fill_color\":{\"value\":\"lightgrey\"},\"left_units\":\"screen\",\"level\":\"overlay\",\"line_alpha\":{\"value\":1.0},\"line_color\":{\"value\":\"black\"},\"line_dash\":[4,4],\"line_width\":{\"value\":2},\"plot\":null,\"render_mode\":\"css\",\"right_units\":\"screen\",\"top_units\":\"screen\"},\"id\":\"c979aa76-7dc5-4eb0-9c7d-0ca143e4c04e\",\"type\":\"BoxAnnotation\"},{\"attributes\":{\"plot\":{\"id\":\"1303e408-df0e-4473-8cff-a49fe6119149\",\"type\":\"Plot\"}},\"id\":\"a5de876f-d2fd-4ed1-9183-fc86e105c151\",\"type\":\"WheelZoomTool\"},{\"attributes\":{},\"id\":\"08ddea48-6171-471b-8e06-7f886883c9e4\",\"type\":\"X\"},{\"attributes\":{},\"id\":\"2bdfac8b-0ec3-4da2-bd54-7273ec47438c\",\"type\":\"ToolEvents\"},{\"attributes\":{\"plot\":{\"id\":\"1303e408-df0e-4473-8cff-a49fe6119149\",\"type\":\"Plot\"}},\"id\":\"fba043ac-0ed1-4853-a5b0-a56b95db66a6\",\"type\":\"PanTool\"},{\"attributes\":{\"callback\":null,\"column_names\":[\"Series 0\",\"Series 1\"],\"data\":{\"Series 0\":[0.0,0.03157379551346526,0.06314759102693052,0.09472138654039577,0.12629518205386103,0.1578689775673263,0.18944277308079155,0.2210165685942568,0.25259036410772207,0.28416415962118735,0.3157379551346526,0.3473117506481178,0.3788855461615831,0.4104593416750484,0.4420331371885136,0.47360693270197884,0.5051807282154441,0.5367545237289094,0.5683283192423747,0.5999021147558399,0.6314759102693052,0.6630497057827704,0.6946235012962356,0.7261972968097009,0.7577710923231662,0.7893448878366315,0.8209186833500968,0.8524924788635619,0.8840662743770272,0.9156400698904925,0.9472138654039577,0.978787660917423,1.0103614564308883,1.0419352519443534,1.0735090474578188,1.105082842971284,1.1366566384847494,1.1682304339982146,1.1998042295116798,1.2313780250251452,1.2629518205386103,1.2945256160520755,1.326099411565541,1.357673207079006,1.3892470025924712,1.4208207981059366,1.4523945936194018,1.4839683891328672,1.5155421846463324,1.5471159801597976,1.578689775673263,1.6102635711867281,1.6418373667001935,1.6734111622136587,1.7049849577271239,1.7365587532405893,1.7681325487540545,1.7997063442675196,1.831280139780985,1.8628539352944502,1.8944277308079154,1.9260015263213808,1.957575321834846,1.9891491173483113,2.0207229128617765,2.0522967083752417,2.083870503888707,2.1154442994021725,2.1470180949156377,2.178591890429103,2.210165685942568,2.241739481456033,2.273313276969499,2.304887072482964,2.336460867996429,2.3680346635098943,2.3996084590233595,2.4311822545368247,2.4627560500502903,2.4943298455637555,2.5259036410772207,2.557477436590686,2.589051232104151,2.6206250276176166,2.652198823131082,2.683772618644547,2.715346414158012,2.7469202096714773,2.7784940051849425,2.810067800698408,2.8416415962118733,2.8732153917253385,2.9047891872388036,2.936362982752269,2.9679367782657344,2.9995105737791996,3.031084369292665,3.06265816480613,3.094231960319595,3.1258057558330608,3.157379551346526,3.188953346859991,3.2205271423734563,3.2521009378869215,3.283674733400387,3.3152485289138522,3.3468223244273174,3.3783961199407826,3.4099699154542478,3.441543710967713,3.4731175064811786,3.5046913019946437,3.536265097508109,3.567838893021574,3.5994126885350393,3.630986484048505,3.66256027956197,3.6941340750754352,3.7257078705889004,3.7572816661023656,3.7888554616158308,3.8204292571292964,3.8520030526427615,3.8835768481562267,3.915150643669692,3.946724439183157,3.9782982346966227,4.009872030210087,4.041445825723553,4.073019621237019,4.104593416750483,4.136167212263949,4.167741007777414,4.199314803290879,4.230888598804345,4.26246239431781,4.294036189831275,4.32560998534474,4.357183780858206,4.388757576371671,4.420331371885136,4.451905167398602,4.483478962912066,4.515052758425532,4.546626553938998,4.578200349452462,4.609774144965928,4.641347940479393,4.672921735992858,4.704495531506323,4.736069327019789,4.767643122533254,4.799216918046719,4.830790713560185,4.862364509073649,4.893938304587115,4.925512100100581,4.957085895614045,4.988659691127511,5.020233486640976,5.051807282154441,5.083381077667907,5.114954873181372,5.146528668694837,5.178102464208302,5.209676259721768,5.241250055235233,5.272823850748698,5.304397646262164,5.335971441775628,5.367545237289094,5.39911903280256,5.430692828316024,5.46226662382949,5.493840419342955,5.52541421485642,5.556988010369885,5.588561805883351,5.620135601396816,5.651709396910281,5.683283192423747,5.714856987937211,5.746430783450677,5.7780045789641425,5.809578374477607,5.841152169991073,5.872725965504538,5.904299761018003,5.935873556531469,5.967447352044934,5.999021147558399,6.030594943071864,6.06216873858533,6.093742534098795,6.12531632961226,6.1568901251257255,6.18846392063919,6.220037716152656,6.2516115116661215,6.283185307179586],\"Series 1\":[1.0,1.032066710193193,1.06509474236811,1.0990419686856636,1.1338590385547467,1.1694893717009793,1.205869249714291,1.2429280116798642,1.280588357317169,1.3187667585826122,1.357373978003129,1.3963156891872375,1.43549319210542,1.4748042129503036,1.514143775788897,1.5534051309114774,1.5924807228633202,1.631263179701016,1.66964630411034,1.70752604670041,1.7448014420667224,1.781375489084834,1.8171559583223198,1.852056111380977,1.8859953193255117,1.9188995700251097,1.9507018571257693,1.9813424463750258,2.010769018028521,2.0389366869778813,2.065807904960449,2.091352251666856,2.115546123692352,2.1383723320407357,2.159819620262366,2.1798821162847855,2.1985587315862603,2.2158525215932507,2.231770021087363,2.2463205680284206,2.2595156285854032,2.2713681353654755,2.28189184989156,2.291100759346508,2.299008516517379,2.3056279307712333,2.310970516801643,2.3150461068229617,2.3178625308700562,2.31942536889049,2.3197377773935446,2.318800392540108,2.316611310709119,2.313166146746749,2.3084581692788197,2.3024785116298387,2.2952164560291717,2.286659787884421,2.276795215955854,2.2656088532703764,2.253086752571653,2.2392154890237497,2.2239827817855113,2.2073781449757166,2.1893935574858236,2.1700241401056295,2.149268827550617,2.1271310222653583,2.1036192163743417,2.0787475679086995,2.0525364174999967,2.0250127321397344,1.9962104633854107,1.9661708085684515,1.9349423651288866,1.902581170152091,1.8691506194819663,1.834721263381775,1.7993704785399443,1.76318201918924,1.726245453126735,1.688655491383331,1.6505112230858856,1.611915269574767,1.5729728739848585,1.5337909441817827,1.4944770680985064,1.45513852109374,1.4158812849308142,1.3768090973583869,1.338022550092857,1.2996182513114372,1.2616880666402135,1.224318450155571,1.187589874213834,1.1515763640922652,1.1163451405738416,1.0819563708420734,1.048463025463559,1.0159108369037544,0.9843383530071922,0.9537770772201227,0.9242516860654116,0.8957803135022957,0.8683748913067124,0.8420415344665887,0.8167809607646872,0.7925889341752512,0.7694567223805192,0.7473715595679621,0.7263171066480085,0.7062739020869707,0.6872197976371077,0.6691303743270864,0.6519793351195335,0.6357388716225414,0.620380003139871,0.6058728871472596,0.5921871009822195,0.5792918951292285,0.5671564189724598,0.5557499202784664,0.5450419199681541,0.5350023639492195,0.5256017539162657,0.5168112590957664,0.508602810926732,0.5009491826348217,0.49382405558672593,0.4872020742111883,0.48105889115052036,0.4753712041685631,0.47011678619355435,0.4652745097222833,0.4608243666594987,0.45674748451728514,0.4530261397559505,0.449643768913155,0.4465849780433498,0.4438355508764182,0.4413824560036095,0.4392138533109907,0.4373190998059152,0.4356887549203291,0.4343145853257659,0.4331895692579986,0.4323079003237213,0.4316649907462889,0.43125747400126985,0.431083206794002,0.4311412703390218,0.431431970913577,0.43195683967277154,0.4327186317305288,0.4337213245267634,0.43497011551520304,0.4364714192165126,0.4382328636861217,0.44026328644391877,0.4425727299023206,0.4451724363088982,0.448074842188614,0.4512935722278919,0.4548434324874733,0.45874040276284245,0.4630016278297,0.46764540721758185,0.4726911830476462,0.4781595253515887,0.4840721141587195,0.49045171749898886,0.49732216432321025,0.5047083111905035,0.5126360014202448,0.5211320152554489,0.5302240094411421,0.5399404444902883,0.5503104977974729,0.561363960673862,0.5731311173238697,0.5856426037730906,0.5989292447976537,0.6130218670069435,0.6279510864043459,0.643747069003975,0.6604392634239649,0.6780561048164679,0.6966246900365388,0.7161704245993803,0.7367166427273991,0.7582842026400354,0.7808910601803364,0.8045518248868349,0.8292773036852312,0.8550740384630743,0.8819438448668473,0.9098833606835709,0.9388836130921276,0.9689296148432206,0.9999999999999998]}},\"id\":\"3b40e2d2-634a-4d72-a33a-1872c5811758\",\"type\":\"ColumnDataSource\"},{\"attributes\":{\"grid_line_color\":{\"value\":\"#cbcbcb\"},\"grid_line_width\":{\"value\":1.3},\"plot\":{\"id\":\"1303e408-df0e-4473-8cff-a49fe6119149\",\"type\":\"Plot\"},\"ticker\":{\"id\":\"8d33822d-4c05-4a2f-9b44-33b3c50f40a1\",\"type\":\"BasicTicker\"}},\"id\":\"6c9d86da-8d8e-4820-a07f-14f00baf2026\",\"type\":\"Grid\"},{\"attributes\":{\"data_source\":{\"id\":\"bdfe1ebe-7691-4a3d-90aa-9d5c35da7e4b\",\"type\":\"ColumnDataSource\"},\"glyph\":{\"id\":\"08ddea48-6171-471b-8e06-7f886883c9e4\",\"type\":\"X\"},\"hover_glyph\":null,\"nonselection_glyph\":null,\"selection_glyph\":null},\"id\":\"767237b0-caee-42ef-bf8f-6917b734cc1c\",\"type\":\"GlyphRenderer\"},{\"attributes\":{\"axis_label\":\"x\",\"axis_label_text_font\":\"sans-serif\",\"axis_label_text_font_size\":{\"value\":\"14.300000pt\"},\"formatter\":{\"id\":\"8dadb660-1656-4d6b-9c7c-d71a8ed2bc87\",\"type\":\"BasicTickFormatter\"},\"major_label_text_font\":\"sans-serif\",\"major_label_text_font_size\":{\"value\":\"13.000000pt\"},\"plot\":{\"id\":\"1303e408-df0e-4473-8cff-a49fe6119149\",\"type\":\"Plot\"},\"ticker\":{\"id\":\"8d33822d-4c05-4a2f-9b44-33b3c50f40a1\",\"type\":\"BasicTicker\"}},\"id\":\"13086015-b82a-4b2d-9960-df51ac088eaf\",\"type\":\"LinearAxis\"}],\"root_ids\":[\"1303e408-df0e-4473-8cff-a49fe6119149\"]},\"title\":\"Bokeh Application\",\"version\":\"0.11.1\"}};\n",
       "            var render_items = [{\"docid\":\"c47fac10-8d0f-47a8-bae9-a7e77f4cde0a\",\"elementid\":\"92310b73-7c65-4d17-9541-d67d3a30d105\",\"modelid\":\"1303e408-df0e-4473-8cff-a49fe6119149\",\"notebook_comms_target\":\"417ce63e-4a28-4ec2-b720-7a888ac7586f\"}];\n",
       "            \n",
       "            Bokeh.embed.embed_items(docs_json, render_items);\n",
       "        });\n",
       "      },\n",
       "      function(Bokeh) {\n",
       "      }\n",
       "    ];\n",
       "  \n",
       "    function run_inline_js() {\n",
       "      for (var i = 0; i < inline_js.length; i++) {\n",
       "        inline_js[i](window.Bokeh);\n",
       "      }\n",
       "    }\n",
       "  \n",
       "    if (window._bokeh_is_loading === 0) {\n",
       "      console.log(\"Bokeh: BokehJS loaded, going straight to plotting\");\n",
       "      run_inline_js();\n",
       "    } else {\n",
       "      load_libs(js_urls, function() {\n",
       "        console.log(\"Bokeh: BokehJS plotting callback run at\", now());\n",
       "        run_inline_js();\n",
       "      });\n",
       "    }\n",
       "  }(this));\n",
       "</script>"
      ]
     },
     "metadata": {},
     "output_type": "display_data"
    },
    {
     "data": {
      "text/html": [
       "<p><code>&lt;Bokeh Notebook handle for <strong>In[37]</strong>&gt;</code></p>"
      ],
      "text/plain": [
       "<bokeh.io._CommsHandle at 0x3c6c02b0>"
      ]
     },
     "execution_count": 37,
     "metadata": {},
     "output_type": "execute_result"
    }
   ],
   "source": [
    "# Generate data to plot\n",
    "x = np.linspace(0, 2 * np.pi, 200)\n",
    "y = np.exp(np.sin(np.sin(x)))\n",
    "\n",
    "# Make plot\n",
    "plt.plot(x, y)\n",
    "plt.xlim((0, 2 * np.pi))\n",
    "plt.xlabel('x')\n",
    "plt.ylabel('exp(sin(x))')\n",
    "\n",
    "# Make it interactive with Bokeh\n",
    "bokeh.plotting.show(bokeh.mpl.to_bokeh())"
   ]
  },
  {
   "cell_type": "code",
   "execution_count": 22,
   "metadata": {
    "collapsed": false,
    "slideshow": {
     "slide_type": "skip"
    }
   },
   "outputs": [
    {
     "data": {
      "text/html": [
       "<style>div.text_cell_render {font-family: \"Crimson Text\";font-size: 30pt;line-height: 145%; /* added for some line spacing of text. */}\n",
       "</style>"
      ],
      "text/plain": [
       "<IPython.core.display.HTML object>"
      ]
     },
     "execution_count": 22,
     "metadata": {},
     "output_type": "execute_result"
    }
   ],
   "source": [
    "from IPython import utils\n",
    "from IPython.core.display import HTML\n",
    "import os\n",
    "def css_styling():\n",
    "    styles = '<style>div.text_cell_render {font-family: \"Crimson Text\";font-size: 30pt;line-height: 145%; /* added for some line spacing of text. */}\\n</style>'\n",
    "    return HTML(styles)\n",
    "css_styling()"
   ]
  },
  {
   "cell_type": "code",
   "execution_count": null,
   "metadata": {
    "collapsed": true
   },
   "outputs": [],
   "source": []
  }
 ],
 "metadata": {
  "celltoolbar": "Slideshow",
  "kernelspec": {
   "display_name": "Python 3",
   "language": "python",
   "name": "python3"
  },
  "language_info": {
   "codemirror_mode": {
    "name": "ipython",
    "version": 3
   },
   "file_extension": ".py",
   "mimetype": "text/x-python",
   "name": "python",
   "nbconvert_exporter": "python",
   "pygments_lexer": "ipython3",
   "version": "3.5.1"
  },
  "widgets": {
   "state": {},
   "version": "1.1.2"
  }
 },
 "nbformat": 4,
 "nbformat_minor": 0
}
