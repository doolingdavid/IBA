{
 "cells": [
  {
   "cell_type": "code",
   "execution_count": 3,
   "metadata": {
    "collapsed": false,
    "slideshow": {
     "slide_type": "skip"
    }
   },
   "outputs": [
    {
     "data": {
      "text/html": [
       "<script>\n",
       "code_show=true; \n",
       "function code_toggle() {\n",
       " if (code_show){\n",
       " $('div.input').hide();\n",
       " } else {\n",
       " $('div.input').show();\n",
       " }\n",
       " code_show = !code_show\n",
       "} \n",
       "$( document ).ready(code_toggle);\n",
       "</script>\n",
       "<form action=\"javascript:code_toggle()\"><input type=\"submit\" value=\"Click here to toggle on/off the raw code.\"></form>"
      ],
      "text/plain": [
       "<IPython.core.display.HTML object>"
      ]
     },
     "execution_count": 3,
     "metadata": {},
     "output_type": "execute_result"
    }
   ],
   "source": [
    "from IPython.display import HTML\n",
    "\n",
    "HTML('''<script>\n",
    "code_show=true; \n",
    "function code_toggle() {\n",
    " if (code_show){\n",
    " $('div.input').hide();\n",
    " } else {\n",
    " $('div.input').show();\n",
    " }\n",
    " code_show = !code_show\n",
    "} \n",
    "$( document ).ready(code_toggle);\n",
    "</script>\n",
    "<form action=\"javascript:code_toggle()\"><input type=\"submit\" value=\"Click here to toggle on/off the raw code.\"></form>''')  "
   ]
  },
  {
   "cell_type": "code",
   "execution_count": 1,
   "metadata": {
    "collapsed": false,
    "slideshow": {
     "slide_type": "skip"
    }
   },
   "outputs": [
    {
     "name": "stdout",
     "output_type": "stream",
     "text": [
      "\\\\iobsdc01\\SharedDocs\\SEER_MEDICARE\\SEER_MEDICARE_STAGING\n"
     ]
    }
   ],
   "source": [
    "import numpy as np\n",
    "import pandas as pd\n",
    "import matplotlib.pyplot as plt\n",
    "from pandas import Series, DataFrame\n",
    "import pytz\n",
    "from pytz import common_timezones, all_timezones\n",
    "import matplotlib\n",
    "matplotlib.style.use('ggplot')\n",
    "%matplotlib inline\n",
    "from datetime import datetime\n",
    "import scipy as sp\n",
    "import statsmodels.api as sm\n",
    "import statsmodels.formula.api as smf\n",
    "matplotlib.style.use('fivethirtyeight')\n",
    "matplotlib.style.use('seaborn-talk')\n",
    "import os\n",
    "import collections\n",
    "\n",
    "preDouble = \"\\\\\\\\iobsdc01\\\\SharedDocs\\\\SEER_MEDICARE\\\\SEER_MEDICARE_STAGING\"\n",
    "new = os.chdir(preDouble)\n",
    "print(preDouble)"
   ]
  },
  {
   "cell_type": "code",
   "execution_count": 2,
   "metadata": {
    "collapsed": true,
    "slideshow": {
     "slide_type": "skip"
    }
   },
   "outputs": [],
   "source": [
    "df = pd.read_pickle('dfpedsfFirsts.pickle')"
   ]
  },
  {
   "cell_type": "markdown",
   "metadata": {
    "slideshow": {
     "slide_type": "slide"
    }
   },
   "source": [
    "## <font color='steelblue'>Description of the SEER-Medicare Data Files format</font>\n",
    "\n",
    "Fixed width files. Data dictionary available to make the data not only machine readable but meaningful to humans\n",
    "\n",
    "* Patient Entitlement and Diagnosis Summary File (PEDSF)\n",
    "* Medicare Provider Analysis and Review (MEDPAR)\n",
    "* Carrier Claims (old file name Physician/Supplier Part B (NCH))\n",
    "* Outpatient Claims\n",
    "* Home Health Agency (HAA)\n",
    "* Hospice\n",
    "* Durable Medical Equipment (DME)\n",
    "* Medicare Part D Data"
   ]
  },
  {
   "cell_type": "markdown",
   "metadata": {
    "slideshow": {
     "slide_type": "slide"
    }
   },
   "source": [
    "## <font color='steelblue'>First order of business is to identify all the patients in the SEER-Medicare data who have received PBT</font>\n",
    "\n",
    "### <font color='steelblue'>Reminder:</font>\n",
    "\n",
    "The relevant HCPCS are:\n",
    "\n",
    "* 77520 - Proton trmt simple w/o comp\n",
    "* 77522 - Proton trmt simple w/comp\n",
    "* 77523 - Proton trmt intermediate\n",
    "* 77525 - Proton treatment complex\n",
    "\n",
    "as well as the HCPCS code S8030 (Scleral application of tantalum ring(s) for localization of lesions for proton beam therapy)."
   ]
  },
  {
   "cell_type": "markdown",
   "metadata": {
    "slideshow": {
     "slide_type": "slide"
    }
   },
   "source": [
    "### <font color='steelblue'>Use the Outpatient Claims and Carrier Claims files</font>\n",
    "\n",
    "\n",
    "* 218 Outpatient Claims files\n",
    "* 207 Carrier Claims files\n",
    "\n",
    "\n",
    "Loop through all of these files and capture the set of all the ```patient_id``` s corresponding to the PBT HCPCS codes\n",
    "\n",
    "**Result: 1584 unique patients appear in the claims files for claims in years 2006-2013**\n"
   ]
  },
  {
   "cell_type": "code",
   "execution_count": 4,
   "metadata": {
    "collapsed": true,
    "slideshow": {
     "slide_type": "skip"
    }
   },
   "outputs": [],
   "source": [
    "mask = (df['srvm1'] != 9999)\n",
    "dfall = df[mask]"
   ]
  },
  {
   "cell_type": "code",
   "execution_count": 5,
   "metadata": {
    "collapsed": true,
    "slideshow": {
     "slide_type": "skip"
    }
   },
   "outputs": [],
   "source": [
    "geomask = (dfall['elevation_1'] != dfall['FIPScombo_1']) \n",
    "\n",
    "dfall = dfall[geomask].copy()"
   ]
  },
  {
   "cell_type": "code",
   "execution_count": 6,
   "metadata": {
    "collapsed": true,
    "slideshow": {
     "slide_type": "skip"
    }
   },
   "outputs": [],
   "source": [
    "dfall['elevation_1'].replace('99999',np.nan,inplace=True)\n",
    "dfall['elevation_2'].replace('99999',np.nan,inplace=True)\n",
    "dfall['elevation_3'].replace('99999',np.nan,inplace=True)\n",
    "\n",
    "dfall['lat_1'].replace('99999',np.nan,inplace=True)\n",
    "dfall['lat_2'].replace('99999',np.nan,inplace=True)\n",
    "dfall['lat_3'].replace('99999',np.nan,inplace=True)\n",
    "\n",
    "dfall['lng_1'].replace('99999',np.nan,inplace=True)\n",
    "dfall['lng_2'].replace('99999',np.nan,inplace=True)\n",
    "dfall['lng_3'].replace('99999',np.nan,inplace=True)\n",
    "\n",
    "dfall['elevation_1'] = dfall['elevation_1'].astype('float')\n",
    "dfall['elevation_2'] = dfall['elevation_2'].astype('float')\n",
    "dfall['elevation_3'] = dfall['elevation_3'].astype('float')\n",
    "\n",
    "dfall['lat_1'] = dfall['lat_1'].astype('float')\n",
    "dfall['lat_2'] = dfall['lat_2'].astype('float')\n",
    "dfall['lat_3'] = dfall['lat_3'].astype('float')\n",
    "\n",
    "dfall['lng_1'] = dfall['lng_1'].astype('float')\n",
    "dfall['lng_2'] = dfall['lng_2'].astype('float')\n",
    "dfall['lng_3'] = dfall['lng_3'].astype('float')"
   ]
  },
  {
   "cell_type": "code",
   "execution_count": 8,
   "metadata": {
    "collapsed": true,
    "slideshow": {
     "slide_type": "skip"
    }
   },
   "outputs": [],
   "source": [
    "import pickle\n",
    "fileObject = open('patient_ids_from_outsaf.pickle', 'rb')\n",
    "b = pickle.load(fileObject)\n",
    "fileObject.close()\n",
    "treatmentindices_outsaf = list(set.union(*b))"
   ]
  },
  {
   "cell_type": "code",
   "execution_count": 9,
   "metadata": {
    "collapsed": true,
    "slideshow": {
     "slide_type": "skip"
    }
   },
   "outputs": [],
   "source": [
    "import pickle\n",
    "fileObject = open('patient_ids_from_nch.pickle', 'rb')\n",
    "b = pickle.load(fileObject)\n",
    "fileObject.close()\n",
    "treatmentindices_nch = list(set.union(*b))"
   ]
  },
  {
   "cell_type": "code",
   "execution_count": 10,
   "metadata": {
    "collapsed": true,
    "slideshow": {
     "slide_type": "skip"
    }
   },
   "outputs": [],
   "source": [
    "bigtreatmentindices = list(set(treatmentindices_nch+treatmentindices_outsaf))\n",
    "\n",
    "dfall.set_index('patient_id', inplace=True,drop=False)\n",
    "\n",
    "allindices = dfall.index"
   ]
  },
  {
   "cell_type": "code",
   "execution_count": 11,
   "metadata": {
    "collapsed": true,
    "slideshow": {
     "slide_type": "skip"
    }
   },
   "outputs": [],
   "source": [
    "bigtreatmentset = set(bigtreatmentindices)\n",
    "allset = set(allindices)\n",
    "\n",
    "\n",
    "alltreatmentindices = list(allset.intersection(bigtreatmentset))\n",
    "\n",
    "treatmentindices = alltreatmentindices\n",
    "#len(treatmentindices)"
   ]
  },
  {
   "cell_type": "markdown",
   "metadata": {
    "slideshow": {
     "slide_type": "skip"
    }
   },
   "source": [
    "### <font color='steelblue'>Now use the pedsf files to perform patient matching, using the ```patient_id``` 's found above</font>\n",
    "\n",
    "List of pedsf files (contains SEER cases for diagnosis year dates 2006-2011):\n",
    "\n",
    "* pedsf.nasopharynx.cancer.txt\n",
    "* pedsf.salivarygland.cancer.txt\n",
    "* pedsf.oropharynx.cancer.txt\n",
    "* pedsf.esophagus.cancer.txt\n",
    "* pedsf.brain.cancer.txt\n",
    "* pedsf.eyeandorbit.cancer.txt\n",
    "* pedsf.softtissue.cancer.txt\n",
    "* pedsf.prostate.cancer.file01.txt\n",
    "* pedsf.prostate.cancer.file02.txt\n",
    "* pedsf.prostate.cancer.file03.txt\n",
    "* pedsf.lung.cancer.file01.txt\n",
    "* pedsf.lung.cancer.file02.txt\n",
    "\n"
   ]
  },
  {
   "cell_type": "markdown",
   "metadata": {
    "slideshow": {
     "slide_type": "slide"
    }
   },
   "source": [
    "### <font color='steelblue'>The pedsf files contain one single row for each patient, and contain the information for up to 10 different primary tumors.</font>\n",
    "\n",
    "So the prostate cancer files contain all patients with a cancer diagnosis where the primary site is the prostate for ANY of the potentially 10 different primary tumors associated with that patient and where that prostate site tumor has a diagnosis date anywhere between 2006 and 2011.\n",
    "\n",
    " "
   ]
  },
  {
   "cell_type": "code",
   "execution_count": 12,
   "metadata": {
    "collapsed": true,
    "slideshow": {
     "slide_type": "skip"
    }
   },
   "outputs": [],
   "source": [
    "import pedsfhelp\n",
    "\n",
    "df2 = pedsfhelp.make_clean_dataframe('pedsf.salivarygland.cancer.txt')\n",
    "#print(df2.shape)"
   ]
  },
  {
   "cell_type": "markdown",
   "metadata": {
    "slideshow": {
     "slide_type": "slide"
    }
   },
   "source": [
    "For example, in the ```pedsf.salivarygland.cancer.txt```, the cancer sites for the first tumor listed for each patient has the following distribution:"
   ]
  },
  {
   "cell_type": "code",
   "execution_count": 23,
   "metadata": {
    "collapsed": false,
    "slideshow": {
     "slide_type": "skip"
    }
   },
   "outputs": [
    {
     "data": {
      "text/html": [
       "\n",
       "    <div class=\"bk-banner\">\n",
       "        <a href=\"http://bokeh.pydata.org\" target=\"_blank\" class=\"bk-logo bk-logo-small bk-logo-notebook\"></a>\n",
       "        <span id=\"1e533c92-4164-4b06-b982-8ee6e3bb823c\">Loading BokehJS ...</span>\n",
       "    </div>"
      ]
     },
     "metadata": {},
     "output_type": "display_data"
    },
    {
     "data": {
      "application/javascript": [
       "\n",
       "(function(global) {\n",
       "  function now() {\n",
       "    return new Date();\n",
       "  }\n",
       "\n",
       "  if (typeof (window._bokeh_onload_callbacks) === \"undefined\") {\n",
       "    window._bokeh_onload_callbacks = [];\n",
       "  }\n",
       "\n",
       "  function run_callbacks() {\n",
       "    window._bokeh_onload_callbacks.forEach(function(callback) { callback() });\n",
       "    delete window._bokeh_onload_callbacks\n",
       "    console.info(\"Bokeh: all callbacks have finished\");\n",
       "  }\n",
       "\n",
       "  function load_libs(js_urls, callback) {\n",
       "    window._bokeh_onload_callbacks.push(callback);\n",
       "    if (window._bokeh_is_loading > 0) {\n",
       "      console.log(\"Bokeh: BokehJS is being loaded, scheduling callback at\", now());\n",
       "      return null;\n",
       "    }\n",
       "    if (js_urls == null || js_urls.length === 0) {\n",
       "      run_callbacks();\n",
       "      return null;\n",
       "    }\n",
       "    console.log(\"Bokeh: BokehJS not loaded, scheduling load and callback at\", now());\n",
       "    window._bokeh_is_loading = js_urls.length;\n",
       "    for (var i = 0; i < js_urls.length; i++) {\n",
       "      var url = js_urls[i];\n",
       "      var s = document.createElement('script');\n",
       "      s.src = url;\n",
       "      s.async = false;\n",
       "      s.onreadystatechange = s.onload = function() {\n",
       "        window._bokeh_is_loading--;\n",
       "        if (window._bokeh_is_loading === 0) {\n",
       "          console.log(\"Bokeh: all BokehJS libraries loaded\");\n",
       "          run_callbacks()\n",
       "        }\n",
       "      };\n",
       "      s.onerror = function() {\n",
       "        console.warn(\"failed to load library \" + url);\n",
       "      };\n",
       "      console.log(\"Bokeh: injecting script tag for BokehJS library: \", url);\n",
       "      document.getElementsByTagName(\"head\")[0].appendChild(s);\n",
       "    }\n",
       "  };\n",
       "\n",
       "  var js_urls = ['https://cdn.pydata.org/bokeh/release/bokeh-0.11.1.min.js', 'https://cdn.pydata.org/bokeh/release/bokeh-widgets-0.11.1.min.js', 'https://cdn.pydata.org/bokeh/release/bokeh-compiler-0.11.1.min.js'];\n",
       "\n",
       "  var inline_js = [\n",
       "    function(Bokeh) {\n",
       "      Bokeh.set_log_level(\"info\");\n",
       "    },\n",
       "    \n",
       "    function(Bokeh) {\n",
       "      Bokeh.$(\"#1e533c92-4164-4b06-b982-8ee6e3bb823c\").text(\"BokehJS successfully loaded\");\n",
       "    },\n",
       "    function(Bokeh) {\n",
       "      console.log(\"Bokeh: injecting CSS: https://cdn.pydata.org/bokeh/release/bokeh-0.11.1.min.css\");\n",
       "      Bokeh.embed.inject_css(\"https://cdn.pydata.org/bokeh/release/bokeh-0.11.1.min.css\");\n",
       "      console.log(\"Bokeh: injecting CSS: https://cdn.pydata.org/bokeh/release/bokeh-widgets-0.11.1.min.css\");\n",
       "      Bokeh.embed.inject_css(\"https://cdn.pydata.org/bokeh/release/bokeh-widgets-0.11.1.min.css\");\n",
       "    }\n",
       "  ];\n",
       "\n",
       "  function run_inline_js() {\n",
       "    for (var i = 0; i < inline_js.length; i++) {\n",
       "      inline_js[i](window.Bokeh);\n",
       "    }\n",
       "  }\n",
       "\n",
       "  if (window._bokeh_is_loading === 0) {\n",
       "    console.log(\"Bokeh: BokehJS loaded, going straight to plotting\");\n",
       "    run_inline_js();\n",
       "  } else {\n",
       "    load_libs(js_urls, function() {\n",
       "      console.log(\"Bokeh: BokehJS plotting callback run at\", now());\n",
       "      run_inline_js();\n",
       "    });\n",
       "  }\n",
       "}(this));"
      ]
     },
     "metadata": {},
     "output_type": "display_data"
    }
   ],
   "source": [
    "# Import Bokeh modules for interactive plotting\n",
    "import bokeh.io\n",
    "import bokeh.mpl\n",
    "import bokeh.plotting\n",
    "\n",
    "# Set up Bokeh for inline viewing\n",
    "bokeh.io.output_notebook()"
   ]
  },
  {
   "cell_type": "code",
   "execution_count": 36,
   "metadata": {
    "collapsed": false,
    "slideshow": {
     "slide_type": "skip"
    }
   },
   "outputs": [
    {
     "data": {
      "text/html": [
       "\n",
       "\n",
       "    <div class=\"plotdiv\" id=\"53ec2bde-67ca-488f-9ee8-ee661e686ddd\"></div>\n",
       "<script type=\"text/javascript\">\n",
       "  \n",
       "  (function(global) {\n",
       "    function now() {\n",
       "      return new Date();\n",
       "    }\n",
       "  \n",
       "    if (typeof (window._bokeh_onload_callbacks) === \"undefined\") {\n",
       "      window._bokeh_onload_callbacks = [];\n",
       "    }\n",
       "  \n",
       "    function run_callbacks() {\n",
       "      window._bokeh_onload_callbacks.forEach(function(callback) { callback() });\n",
       "      delete window._bokeh_onload_callbacks\n",
       "      console.info(\"Bokeh: all callbacks have finished\");\n",
       "    }\n",
       "  \n",
       "    function load_libs(js_urls, callback) {\n",
       "      window._bokeh_onload_callbacks.push(callback);\n",
       "      if (window._bokeh_is_loading > 0) {\n",
       "        console.log(\"Bokeh: BokehJS is being loaded, scheduling callback at\", now());\n",
       "        return null;\n",
       "      }\n",
       "      if (js_urls == null || js_urls.length === 0) {\n",
       "        run_callbacks();\n",
       "        return null;\n",
       "      }\n",
       "      console.log(\"Bokeh: BokehJS not loaded, scheduling load and callback at\", now());\n",
       "      window._bokeh_is_loading = js_urls.length;\n",
       "      for (var i = 0; i < js_urls.length; i++) {\n",
       "        var url = js_urls[i];\n",
       "        var s = document.createElement('script');\n",
       "        s.src = url;\n",
       "        s.async = false;\n",
       "        s.onreadystatechange = s.onload = function() {\n",
       "          window._bokeh_is_loading--;\n",
       "          if (window._bokeh_is_loading === 0) {\n",
       "            console.log(\"Bokeh: all BokehJS libraries loaded\");\n",
       "            run_callbacks()\n",
       "          }\n",
       "        };\n",
       "        s.onerror = function() {\n",
       "          console.warn(\"failed to load library \" + url);\n",
       "        };\n",
       "        console.log(\"Bokeh: injecting script tag for BokehJS library: \", url);\n",
       "        document.getElementsByTagName(\"head\")[0].appendChild(s);\n",
       "      }\n",
       "    };var element = document.getElementById(\"53ec2bde-67ca-488f-9ee8-ee661e686ddd\");\n",
       "    if (element == null) {\n",
       "      console.log(\"Bokeh: ERROR: autoload.js configured with elementid '53ec2bde-67ca-488f-9ee8-ee661e686ddd' but no matching script tag was found. \")\n",
       "      return false;\n",
       "    }\n",
       "  \n",
       "    var js_urls = [];\n",
       "  \n",
       "    var inline_js = [\n",
       "      function(Bokeh) {\n",
       "        Bokeh.$(function() {\n",
       "            var docs_json = {\"b21bbb7c-420a-45d6-a72e-0f30af3f6597\":{\"roots\":{\"references\":[{\"attributes\":{\"data_source\":{\"id\":\"30c44b1d-6c08-4ccc-b533-0b0d411d4961\",\"type\":\"ColumnDataSource\"},\"glyph\":{\"id\":\"54686fa9-8d15-44ed-b905-492bfccec8ae\",\"type\":\"Rect\"},\"hover_glyph\":null,\"nonselection_glyph\":null,\"selection_glyph\":null},\"id\":\"a894a03a-7387-42e0-a478-3402aca8d102\",\"type\":\"GlyphRenderer\"},{\"attributes\":{\"callback\":null,\"column_names\":[\"width\",\"line_alpha\",\"y\",\"x\",\"color\",\"height\",\"fill_alpha\",\"line_color\"],\"data\":{\"chart_index\":[{\"index\":\"Lung and Bronchus\"}],\"color\":[\"#f22c40\"],\"fill_alpha\":[0.8],\"height\":[33.0],\"index\":[\"Lung and Bronchus\"],\"line_alpha\":[1.0],\"line_color\":[\"white\"],\"width\":[0.8],\"x\":[\"Lung and Bronchus\"],\"y\":[16.5]}},\"id\":\"836841d4-eb40-4099-8a59-568f75991097\",\"type\":\"ColumnDataSource\"},{\"attributes\":{\"plot\":{\"id\":\"2f150ba2-1c35-4af6-a7a8-045b13a343b2\",\"subtype\":\"Chart\",\"type\":\"Plot\"}},\"id\":\"ce886796-a4db-41c9-868b-95a5e3aecca9\",\"type\":\"HelpTool\"},{\"attributes\":{\"callback\":null,\"column_names\":[\"width\",\"line_alpha\",\"y\",\"x\",\"color\",\"height\",\"fill_alpha\",\"line_color\"],\"data\":{\"chart_index\":[{\"index\":\"Melanoma of the Skin\"}],\"color\":[\"#f22c40\"],\"fill_alpha\":[0.8],\"height\":[96.0],\"index\":[\"Melanoma of the Skin\"],\"line_alpha\":[1.0],\"line_color\":[\"white\"],\"width\":[0.8],\"x\":[\"Melanoma of the Skin\"],\"y\":[48.0]}},\"id\":\"1c03d5c7-28b0-4666-8d69-2f197db8e16e\",\"type\":\"ColumnDataSource\"},{\"attributes\":{\"data_source\":{\"id\":\"188f98c3-abfd-41c6-9139-60d03d547e0b\",\"type\":\"ColumnDataSource\"},\"glyph\":{\"id\":\"84396de6-dc1c-49d9-afc0-27e7921eef62\",\"type\":\"Rect\"},\"hover_glyph\":null,\"nonselection_glyph\":null,\"selection_glyph\":null},\"id\":\"ad07656d-da28-4bac-b35d-4d916d7b53fb\",\"type\":\"GlyphRenderer\"},{\"attributes\":{\"callback\":null,\"factors\":[\"Breast\",\"Chronic Lymphocytic Leukemia\",\"Kidney and Renal Pelvis\",\"Lung and Bronchus\",\"Melanoma of the Skin\",\"NHL - Nodal\",\"Prostate\",\"Salivary Gland\",\"Thyroid\",\"Urinary Bladder\"]},\"id\":\"c365adb6-6de4-461e-9179-932e78abe245\",\"type\":\"FactorRange\"},{\"attributes\":{\"callback\":null,\"column_names\":[\"width\",\"line_alpha\",\"y\",\"x\",\"color\",\"height\",\"fill_alpha\",\"line_color\"],\"data\":{\"chart_index\":[{\"index\":\"Chronic Lymphocytic Leukemia\"}],\"color\":[\"#f22c40\"],\"fill_alpha\":[0.8],\"height\":[28.0],\"index\":[\"Chronic Lymphocytic Leukemia\"],\"line_alpha\":[1.0],\"line_color\":[\"white\"],\"width\":[0.8],\"x\":[\"Chronic Lymphocytic Leukemia\"],\"y\":[14.0]}},\"id\":\"8a0de16e-e5ee-44b6-9960-8e7bf83912b4\",\"type\":\"ColumnDataSource\"},{\"attributes\":{\"callback\":null,\"column_names\":[\"width\",\"line_alpha\",\"y\",\"x\",\"color\",\"height\",\"fill_alpha\",\"line_color\"],\"data\":{\"chart_index\":[{\"index\":\"Kidney and Renal Pelvis\"}],\"color\":[\"#f22c40\"],\"fill_alpha\":[0.8],\"height\":[26.0],\"index\":[\"Kidney and Renal Pelvis\"],\"line_alpha\":[1.0],\"line_color\":[\"white\"],\"width\":[0.8],\"x\":[\"Kidney and Renal Pelvis\"],\"y\":[13.0]}},\"id\":\"d03cbce7-073f-40ee-a9ed-222aa43481e5\",\"type\":\"ColumnDataSource\"},{\"attributes\":{\"callback\":null,\"column_names\":[\"width\",\"line_alpha\",\"y\",\"x\",\"color\",\"height\",\"fill_alpha\",\"line_color\"],\"data\":{\"chart_index\":[{\"index\":\"Urinary Bladder\"}],\"color\":[\"#f22c40\"],\"fill_alpha\":[0.8],\"height\":[39.0],\"index\":[\"Urinary Bladder\"],\"line_alpha\":[1.0],\"line_color\":[\"white\"],\"width\":[0.8],\"x\":[\"Urinary Bladder\"],\"y\":[19.5]}},\"id\":\"41c91f26-3e58-44d2-be1d-9ab2bfd19c8d\",\"type\":\"ColumnDataSource\"},{\"attributes\":{\"overlay\":{\"id\":\"4939d03a-9c88-4fc5-afac-3b46b1fbaf2a\",\"type\":\"BoxAnnotation\"},\"plot\":{\"id\":\"2f150ba2-1c35-4af6-a7a8-045b13a343b2\",\"subtype\":\"Chart\",\"type\":\"Plot\"}},\"id\":\"616c27a8-3b4a-4595-a5bd-81bf599c0057\",\"type\":\"BoxZoomTool\"},{\"attributes\":{\"fill_alpha\":{\"field\":\"fill_alpha\"},\"fill_color\":{\"field\":\"color\"},\"height\":{\"field\":\"height\",\"units\":\"data\"},\"line_color\":{\"field\":\"line_color\"},\"width\":{\"field\":\"width\",\"units\":\"data\"},\"x\":{\"field\":\"x\"},\"y\":{\"field\":\"y\"}},\"id\":\"62ed9588-9e54-4cd1-9d06-1cf93bbeee2f\",\"type\":\"Rect\"},{\"attributes\":{\"callback\":null,\"column_names\":[\"width\",\"line_alpha\",\"y\",\"x\",\"color\",\"height\",\"fill_alpha\",\"line_color\"],\"data\":{\"chart_index\":[{\"index\":\"Prostate\"}],\"color\":[\"#f22c40\"],\"fill_alpha\":[0.8],\"height\":[190.0],\"index\":[\"Prostate\"],\"line_alpha\":[1.0],\"line_color\":[\"white\"],\"width\":[0.8],\"x\":[\"Prostate\"],\"y\":[95.0]}},\"id\":\"188f98c3-abfd-41c6-9139-60d03d547e0b\",\"type\":\"ColumnDataSource\"},{\"attributes\":{\"dimension\":1,\"plot\":{\"id\":\"2f150ba2-1c35-4af6-a7a8-045b13a343b2\",\"subtype\":\"Chart\",\"type\":\"Plot\"},\"ticker\":{\"id\":\"ce11a98a-d902-4805-81cb-a00294dbd8cd\",\"type\":\"BasicTicker\"}},\"id\":\"5b9568b9-e819-4df1-b554-581812cb53fe\",\"type\":\"Grid\"},{\"attributes\":{},\"id\":\"e8d1ed05-281b-45a2-885c-9fc6fb4ff306\",\"type\":\"CategoricalTickFormatter\"},{\"attributes\":{\"plot\":{\"id\":\"2f150ba2-1c35-4af6-a7a8-045b13a343b2\",\"subtype\":\"Chart\",\"type\":\"Plot\"}},\"id\":\"a5d73508-ce9b-4f40-8546-f0f9ec3ea7d0\",\"type\":\"ResetTool\"},{\"attributes\":{\"fill_alpha\":{\"field\":\"fill_alpha\"},\"fill_color\":{\"field\":\"color\"},\"height\":{\"field\":\"height\",\"units\":\"data\"},\"line_color\":{\"field\":\"line_color\"},\"width\":{\"field\":\"width\",\"units\":\"data\"},\"x\":{\"field\":\"x\"},\"y\":{\"field\":\"y\"}},\"id\":\"47ead7e7-3371-49d7-9c0f-d80127f1ef34\",\"type\":\"Rect\"},{\"attributes\":{\"fill_alpha\":{\"field\":\"fill_alpha\"},\"fill_color\":{\"field\":\"color\"},\"height\":{\"field\":\"height\",\"units\":\"data\"},\"line_color\":{\"field\":\"line_color\"},\"width\":{\"field\":\"width\",\"units\":\"data\"},\"x\":{\"field\":\"x\"},\"y\":{\"field\":\"y\"}},\"id\":\"681dac03-0462-46db-9437-af54cbcfe4a1\",\"type\":\"Rect\"},{\"attributes\":{\"data_source\":{\"id\":\"e2e36bcd-8e2b-4d36-977e-67d39b44d953\",\"type\":\"ColumnDataSource\"},\"glyph\":{\"id\":\"3c62d122-a13e-412e-b04d-190713cc68d8\",\"type\":\"Rect\"},\"hover_glyph\":null,\"nonselection_glyph\":null,\"selection_glyph\":null},\"id\":\"134fcf67-e573-46b9-9e2c-579a0744ec55\",\"type\":\"GlyphRenderer\"},{\"attributes\":{\"fill_alpha\":{\"field\":\"fill_alpha\"},\"fill_color\":{\"field\":\"color\"},\"height\":{\"field\":\"height\",\"units\":\"data\"},\"line_color\":{\"field\":\"line_color\"},\"width\":{\"field\":\"width\",\"units\":\"data\"},\"x\":{\"field\":\"x\"},\"y\":{\"field\":\"y\"}},\"id\":\"7b74f1ef-73e1-40be-b9cd-7736a2942148\",\"type\":\"Rect\"},{\"attributes\":{},\"id\":\"9b2547ca-3576-4485-bd9f-b9006824949d\",\"type\":\"CategoricalTicker\"},{\"attributes\":{\"data_source\":{\"id\":\"836841d4-eb40-4099-8a59-568f75991097\",\"type\":\"ColumnDataSource\"},\"glyph\":{\"id\":\"a4135bbf-1c0f-4cfe-842a-6b67ef255673\",\"type\":\"Rect\"},\"hover_glyph\":null,\"nonselection_glyph\":null,\"selection_glyph\":null},\"id\":\"a2861d94-9d34-4483-bb6d-e478c2f80645\",\"type\":\"GlyphRenderer\"},{\"attributes\":{\"below\":[{\"id\":\"013dc930-5f66-4282-959b-cc63032a4e0e\",\"type\":\"CategoricalAxis\"}],\"left\":[{\"id\":\"ae31235b-aea8-4a72-bdd2-c3e61ae07445\",\"type\":\"LinearAxis\"}],\"legend\":null,\"renderers\":[{\"id\":\"4939d03a-9c88-4fc5-afac-3b46b1fbaf2a\",\"type\":\"BoxAnnotation\"},{\"id\":\"a894a03a-7387-42e0-a478-3402aca8d102\",\"type\":\"GlyphRenderer\"},{\"id\":\"60be18b3-acac-4dce-bcff-667597e7d2f9\",\"type\":\"GlyphRenderer\"},{\"id\":\"d61e05b4-886a-4944-9ce5-f536896381d6\",\"type\":\"GlyphRenderer\"},{\"id\":\"068bff38-adfe-4943-8574-6eb9d189d626\",\"type\":\"GlyphRenderer\"},{\"id\":\"a2861d94-9d34-4483-bb6d-e478c2f80645\",\"type\":\"GlyphRenderer\"},{\"id\":\"ba1b7fee-20cb-4dc0-9fa2-a2037b15d1d7\",\"type\":\"GlyphRenderer\"},{\"id\":\"31dc1727-9136-490f-9dd5-2ec61ca8fe69\",\"type\":\"GlyphRenderer\"},{\"id\":\"91ac01d3-9a28-4dac-9eb2-8af9c98500e9\",\"type\":\"GlyphRenderer\"},{\"id\":\"ad07656d-da28-4bac-b35d-4d916d7b53fb\",\"type\":\"GlyphRenderer\"},{\"id\":\"134fcf67-e573-46b9-9e2c-579a0744ec55\",\"type\":\"GlyphRenderer\"},{\"id\":\"013dc930-5f66-4282-959b-cc63032a4e0e\",\"type\":\"CategoricalAxis\"},{\"id\":\"ae31235b-aea8-4a72-bdd2-c3e61ae07445\",\"type\":\"LinearAxis\"},{\"id\":\"5b9568b9-e819-4df1-b554-581812cb53fe\",\"type\":\"Grid\"}],\"title_text_font_size\":{\"value\":\"14pt\"},\"tool_events\":{\"id\":\"035ddd38-771d-4d7d-b100-53c21fb3ad89\",\"type\":\"ToolEvents\"},\"tools\":[{\"id\":\"88a1b7d2-2f86-488f-bc38-a3b9ff82449c\",\"type\":\"PanTool\"},{\"id\":\"5db38477-07d2-4c52-9a0f-9ccabfd4badc\",\"type\":\"WheelZoomTool\"},{\"id\":\"616c27a8-3b4a-4595-a5bd-81bf599c0057\",\"type\":\"BoxZoomTool\"},{\"id\":\"2c09cf0a-f9e9-46d4-a8fa-01a54fd6cb90\",\"type\":\"PreviewSaveTool\"},{\"id\":\"419bcc16-8dfe-43e4-923e-704337eabee8\",\"type\":\"ResizeTool\"},{\"id\":\"a5d73508-ce9b-4f40-8546-f0f9ec3ea7d0\",\"type\":\"ResetTool\"},{\"id\":\"ce886796-a4db-41c9-868b-95a5e3aecca9\",\"type\":\"HelpTool\"}],\"x_mapper_type\":\"auto\",\"x_range\":{\"id\":\"c365adb6-6de4-461e-9179-932e78abe245\",\"type\":\"FactorRange\"},\"xgrid\":false,\"xscale\":\"auto\",\"y_mapper_type\":\"auto\",\"y_range\":{\"id\":\"5b7b993c-774e-4624-937f-6040e1fc0af6\",\"type\":\"Range1d\"},\"yscale\":\"auto\"},\"id\":\"2f150ba2-1c35-4af6-a7a8-045b13a343b2\",\"subtype\":\"Chart\",\"type\":\"Plot\"},{\"attributes\":{\"data_source\":{\"id\":\"d03cbce7-073f-40ee-a9ed-222aa43481e5\",\"type\":\"ColumnDataSource\"},\"glyph\":{\"id\":\"7b74f1ef-73e1-40be-b9cd-7736a2942148\",\"type\":\"Rect\"},\"hover_glyph\":null,\"nonselection_glyph\":null,\"selection_glyph\":null},\"id\":\"60be18b3-acac-4dce-bcff-667597e7d2f9\",\"type\":\"GlyphRenderer\"},{\"attributes\":{\"axis_label\":\"Sum( Siterwho1 )\",\"formatter\":{\"id\":\"1896800d-579b-4824-a8c3-419e8aa2175a\",\"type\":\"BasicTickFormatter\"},\"plot\":{\"id\":\"2f150ba2-1c35-4af6-a7a8-045b13a343b2\",\"subtype\":\"Chart\",\"type\":\"Plot\"},\"ticker\":{\"id\":\"ce11a98a-d902-4805-81cb-a00294dbd8cd\",\"type\":\"BasicTicker\"}},\"id\":\"ae31235b-aea8-4a72-bdd2-c3e61ae07445\",\"type\":\"LinearAxis\"},{\"attributes\":{\"plot\":{\"id\":\"2f150ba2-1c35-4af6-a7a8-045b13a343b2\",\"subtype\":\"Chart\",\"type\":\"Plot\"}},\"id\":\"5db38477-07d2-4c52-9a0f-9ccabfd4badc\",\"type\":\"WheelZoomTool\"},{\"attributes\":{\"plot\":{\"id\":\"2f150ba2-1c35-4af6-a7a8-045b13a343b2\",\"subtype\":\"Chart\",\"type\":\"Plot\"}},\"id\":\"88a1b7d2-2f86-488f-bc38-a3b9ff82449c\",\"type\":\"PanTool\"},{\"attributes\":{\"callback\":null,\"column_names\":[\"width\",\"line_alpha\",\"y\",\"x\",\"color\",\"height\",\"fill_alpha\",\"line_color\"],\"data\":{\"chart_index\":[{\"index\":\"Breast\"}],\"color\":[\"#f22c40\"],\"fill_alpha\":[0.8],\"height\":[131.0],\"index\":[\"Breast\"],\"line_alpha\":[1.0],\"line_color\":[\"white\"],\"width\":[0.8],\"x\":[\"Breast\"],\"y\":[65.5]}},\"id\":\"7bf52fce-c700-4a37-9997-64526b41e128\",\"type\":\"ColumnDataSource\"},{\"attributes\":{\"data_source\":{\"id\":\"1c03d5c7-28b0-4666-8d69-2f197db8e16e\",\"type\":\"ColumnDataSource\"},\"glyph\":{\"id\":\"82d0514d-b2be-44c2-80d2-bc8296d21ea2\",\"type\":\"Rect\"},\"hover_glyph\":null,\"nonselection_glyph\":null,\"selection_glyph\":null},\"id\":\"31dc1727-9136-490f-9dd5-2ec61ca8fe69\",\"type\":\"GlyphRenderer\"},{\"attributes\":{\"fill_alpha\":{\"field\":\"fill_alpha\"},\"fill_color\":{\"field\":\"color\"},\"height\":{\"field\":\"height\",\"units\":\"data\"},\"line_color\":{\"field\":\"line_color\"},\"width\":{\"field\":\"width\",\"units\":\"data\"},\"x\":{\"field\":\"x\"},\"y\":{\"field\":\"y\"}},\"id\":\"aca5b1a5-56f9-40a7-8d6d-401e6c86d0a8\",\"type\":\"Rect\"},{\"attributes\":{\"data_source\":{\"id\":\"8a0de16e-e5ee-44b6-9960-8e7bf83912b4\",\"type\":\"ColumnDataSource\"},\"glyph\":{\"id\":\"62ed9588-9e54-4cd1-9d06-1cf93bbeee2f\",\"type\":\"Rect\"},\"hover_glyph\":null,\"nonselection_glyph\":null,\"selection_glyph\":null},\"id\":\"d61e05b4-886a-4944-9ce5-f536896381d6\",\"type\":\"GlyphRenderer\"},{\"attributes\":{\"fill_alpha\":{\"field\":\"fill_alpha\"},\"fill_color\":{\"field\":\"color\"},\"height\":{\"field\":\"height\",\"units\":\"data\"},\"line_color\":{\"field\":\"line_color\"},\"width\":{\"field\":\"width\",\"units\":\"data\"},\"x\":{\"field\":\"x\"},\"y\":{\"field\":\"y\"}},\"id\":\"84396de6-dc1c-49d9-afc0-27e7921eef62\",\"type\":\"Rect\"},{\"attributes\":{\"formatter\":{\"id\":\"e8d1ed05-281b-45a2-885c-9fc6fb4ff306\",\"type\":\"CategoricalTickFormatter\"},\"major_label_orientation\":0.7853981633974483,\"plot\":{\"id\":\"2f150ba2-1c35-4af6-a7a8-045b13a343b2\",\"subtype\":\"Chart\",\"type\":\"Plot\"},\"ticker\":{\"id\":\"9b2547ca-3576-4485-bd9f-b9006824949d\",\"type\":\"CategoricalTicker\"}},\"id\":\"013dc930-5f66-4282-959b-cc63032a4e0e\",\"type\":\"CategoricalAxis\"},{\"attributes\":{\"callback\":null,\"end\":3404.1},\"id\":\"5b7b993c-774e-4624-937f-6040e1fc0af6\",\"type\":\"Range1d\"},{\"attributes\":{},\"id\":\"035ddd38-771d-4d7d-b100-53c21fb3ad89\",\"type\":\"ToolEvents\"},{\"attributes\":{\"fill_alpha\":{\"field\":\"fill_alpha\"},\"fill_color\":{\"field\":\"color\"},\"height\":{\"field\":\"height\",\"units\":\"data\"},\"line_color\":{\"field\":\"line_color\"},\"width\":{\"field\":\"width\",\"units\":\"data\"},\"x\":{\"field\":\"x\"},\"y\":{\"field\":\"y\"}},\"id\":\"82d0514d-b2be-44c2-80d2-bc8296d21ea2\",\"type\":\"Rect\"},{\"attributes\":{\"callback\":null,\"column_names\":[\"width\",\"line_alpha\",\"y\",\"x\",\"color\",\"height\",\"fill_alpha\",\"line_color\"],\"data\":{\"chart_index\":[{\"index\":\"NHL - Nodal\"}],\"color\":[\"#f22c40\"],\"fill_alpha\":[0.8],\"height\":[31.0],\"index\":[\"NHL - Nodal\"],\"line_alpha\":[1.0],\"line_color\":[\"white\"],\"width\":[0.8],\"x\":[\"NHL - Nodal\"],\"y\":[15.5]}},\"id\":\"a8e73e5e-3492-4408-b74f-380a4b5ab100\",\"type\":\"ColumnDataSource\"},{\"attributes\":{\"data_source\":{\"id\":\"a8e73e5e-3492-4408-b74f-380a4b5ab100\",\"type\":\"ColumnDataSource\"},\"glyph\":{\"id\":\"47ead7e7-3371-49d7-9c0f-d80127f1ef34\",\"type\":\"Rect\"},\"hover_glyph\":null,\"nonselection_glyph\":null,\"selection_glyph\":null},\"id\":\"068bff38-adfe-4943-8574-6eb9d189d626\",\"type\":\"GlyphRenderer\"},{\"attributes\":{\"data_source\":{\"id\":\"7bf52fce-c700-4a37-9997-64526b41e128\",\"type\":\"ColumnDataSource\"},\"glyph\":{\"id\":\"aca5b1a5-56f9-40a7-8d6d-401e6c86d0a8\",\"type\":\"Rect\"},\"hover_glyph\":null,\"nonselection_glyph\":null,\"selection_glyph\":null},\"id\":\"91ac01d3-9a28-4dac-9eb2-8af9c98500e9\",\"type\":\"GlyphRenderer\"},{\"attributes\":{},\"id\":\"ce11a98a-d902-4805-81cb-a00294dbd8cd\",\"type\":\"BasicTicker\"},{\"attributes\":{},\"id\":\"1896800d-579b-4824-a8c3-419e8aa2175a\",\"type\":\"BasicTickFormatter\"},{\"attributes\":{\"fill_alpha\":{\"field\":\"fill_alpha\"},\"fill_color\":{\"field\":\"color\"},\"height\":{\"field\":\"height\",\"units\":\"data\"},\"line_color\":{\"field\":\"line_color\"},\"width\":{\"field\":\"width\",\"units\":\"data\"},\"x\":{\"field\":\"x\"},\"y\":{\"field\":\"y\"}},\"id\":\"a4135bbf-1c0f-4cfe-842a-6b67ef255673\",\"type\":\"Rect\"},{\"attributes\":{\"callback\":null,\"column_names\":[\"width\",\"line_alpha\",\"y\",\"x\",\"color\",\"height\",\"fill_alpha\",\"line_color\"],\"data\":{\"chart_index\":[{\"index\":\"Salivary Gland\"}],\"color\":[\"#f22c40\"],\"fill_alpha\":[0.8],\"height\":[3242.0],\"index\":[\"Salivary Gland\"],\"line_alpha\":[1.0],\"line_color\":[\"white\"],\"width\":[0.8],\"x\":[\"Salivary Gland\"],\"y\":[1621.0]}},\"id\":\"e2e36bcd-8e2b-4d36-977e-67d39b44d953\",\"type\":\"ColumnDataSource\"},{\"attributes\":{\"callback\":null,\"column_names\":[\"width\",\"line_alpha\",\"y\",\"x\",\"color\",\"height\",\"fill_alpha\",\"line_color\"],\"data\":{\"chart_index\":[{\"index\":\"Thyroid\"}],\"color\":[\"#f22c40\"],\"fill_alpha\":[0.8],\"height\":[26.0],\"index\":[\"Thyroid\"],\"line_alpha\":[1.0],\"line_color\":[\"white\"],\"width\":[0.8],\"x\":[\"Thyroid\"],\"y\":[13.0]}},\"id\":\"30c44b1d-6c08-4ccc-b533-0b0d411d4961\",\"type\":\"ColumnDataSource\"},{\"attributes\":{\"fill_alpha\":{\"field\":\"fill_alpha\"},\"fill_color\":{\"field\":\"color\"},\"height\":{\"field\":\"height\",\"units\":\"data\"},\"line_color\":{\"field\":\"line_color\"},\"width\":{\"field\":\"width\",\"units\":\"data\"},\"x\":{\"field\":\"x\"},\"y\":{\"field\":\"y\"}},\"id\":\"3c62d122-a13e-412e-b04d-190713cc68d8\",\"type\":\"Rect\"},{\"attributes\":{\"data_source\":{\"id\":\"41c91f26-3e58-44d2-be1d-9ab2bfd19c8d\",\"type\":\"ColumnDataSource\"},\"glyph\":{\"id\":\"681dac03-0462-46db-9437-af54cbcfe4a1\",\"type\":\"Rect\"},\"hover_glyph\":null,\"nonselection_glyph\":null,\"selection_glyph\":null},\"id\":\"ba1b7fee-20cb-4dc0-9fa2-a2037b15d1d7\",\"type\":\"GlyphRenderer\"},{\"attributes\":{\"plot\":{\"id\":\"2f150ba2-1c35-4af6-a7a8-045b13a343b2\",\"subtype\":\"Chart\",\"type\":\"Plot\"}},\"id\":\"419bcc16-8dfe-43e4-923e-704337eabee8\",\"type\":\"ResizeTool\"},{\"attributes\":{\"plot\":{\"id\":\"2f150ba2-1c35-4af6-a7a8-045b13a343b2\",\"subtype\":\"Chart\",\"type\":\"Plot\"}},\"id\":\"2c09cf0a-f9e9-46d4-a8fa-01a54fd6cb90\",\"type\":\"PreviewSaveTool\"},{\"attributes\":{\"bottom_units\":\"screen\",\"fill_alpha\":{\"value\":0.5},\"fill_color\":{\"value\":\"lightgrey\"},\"left_units\":\"screen\",\"level\":\"overlay\",\"line_alpha\":{\"value\":1.0},\"line_color\":{\"value\":\"black\"},\"line_dash\":[4,4],\"line_width\":{\"value\":2},\"plot\":null,\"render_mode\":\"css\",\"right_units\":\"screen\",\"top_units\":\"screen\"},\"id\":\"4939d03a-9c88-4fc5-afac-3b46b1fbaf2a\",\"type\":\"BoxAnnotation\"},{\"attributes\":{\"fill_alpha\":{\"field\":\"fill_alpha\"},\"fill_color\":{\"field\":\"color\"},\"height\":{\"field\":\"height\",\"units\":\"data\"},\"line_color\":{\"field\":\"line_color\"},\"width\":{\"field\":\"width\",\"units\":\"data\"},\"x\":{\"field\":\"x\"},\"y\":{\"field\":\"y\"}},\"id\":\"54686fa9-8d15-44ed-b905-492bfccec8ae\",\"type\":\"Rect\"}],\"root_ids\":[\"2f150ba2-1c35-4af6-a7a8-045b13a343b2\"]},\"title\":\"Bokeh Application\",\"version\":\"0.11.1\"}};\n",
       "            var render_items = [{\"docid\":\"b21bbb7c-420a-45d6-a72e-0f30af3f6597\",\"elementid\":\"53ec2bde-67ca-488f-9ee8-ee661e686ddd\",\"modelid\":\"2f150ba2-1c35-4af6-a7a8-045b13a343b2\",\"notebook_comms_target\":\"17dc7a54-a4a1-452b-9c9f-79cc47b81b34\"}];\n",
       "            \n",
       "            Bokeh.embed.embed_items(docs_json, render_items);\n",
       "        });\n",
       "      },\n",
       "      function(Bokeh) {\n",
       "      }\n",
       "    ];\n",
       "  \n",
       "    function run_inline_js() {\n",
       "      for (var i = 0; i < inline_js.length; i++) {\n",
       "        inline_js[i](window.Bokeh);\n",
       "      }\n",
       "    }\n",
       "  \n",
       "    if (window._bokeh_is_loading === 0) {\n",
       "      console.log(\"Bokeh: BokehJS loaded, going straight to plotting\");\n",
       "      run_inline_js();\n",
       "    } else {\n",
       "      load_libs(js_urls, function() {\n",
       "        console.log(\"Bokeh: BokehJS plotting callback run at\", now());\n",
       "        run_inline_js();\n",
       "      });\n",
       "    }\n",
       "  }(this));\n",
       "</script>"
      ]
     },
     "metadata": {},
     "output_type": "display_data"
    },
    {
     "data": {
      "text/html": [
       "<p><code>&lt;Bokeh Notebook handle for <strong>In[36]</strong>&gt;</code></p>"
      ],
      "text/plain": [
       "<bokeh.io._CommsHandle at 0x3cb64748>"
      ]
     },
     "execution_count": 36,
     "metadata": {},
     "output_type": "execute_result"
    }
   ],
   "source": [
    "from bokeh.charts import Bar, output_file, show, hplot\n",
    "\n",
    "data = pd.DataFrame(df2.siterwho1.value_counts()[:10][::-1])\n",
    "\n",
    "data\n",
    "bar = Bar(data,values='siterwho1')\n",
    "show(bar)"
   ]
  },
  {
   "cell_type": "code",
   "execution_count": 33,
   "metadata": {
    "collapsed": false,
    "slideshow": {
     "slide_type": "slide"
    }
   },
   "outputs": [
    {
     "data": {
      "text/html": [
       "\n",
       "\n",
       "    <div class=\"plotdiv\" id=\"1276a453-6581-4ad3-ad36-2f794d51c67f\"></div>\n",
       "<script type=\"text/javascript\">\n",
       "  \n",
       "  (function(global) {\n",
       "    function now() {\n",
       "      return new Date();\n",
       "    }\n",
       "  \n",
       "    if (typeof (window._bokeh_onload_callbacks) === \"undefined\") {\n",
       "      window._bokeh_onload_callbacks = [];\n",
       "    }\n",
       "  \n",
       "    function run_callbacks() {\n",
       "      window._bokeh_onload_callbacks.forEach(function(callback) { callback() });\n",
       "      delete window._bokeh_onload_callbacks\n",
       "      console.info(\"Bokeh: all callbacks have finished\");\n",
       "    }\n",
       "  \n",
       "    function load_libs(js_urls, callback) {\n",
       "      window._bokeh_onload_callbacks.push(callback);\n",
       "      if (window._bokeh_is_loading > 0) {\n",
       "        console.log(\"Bokeh: BokehJS is being loaded, scheduling callback at\", now());\n",
       "        return null;\n",
       "      }\n",
       "      if (js_urls == null || js_urls.length === 0) {\n",
       "        run_callbacks();\n",
       "        return null;\n",
       "      }\n",
       "      console.log(\"Bokeh: BokehJS not loaded, scheduling load and callback at\", now());\n",
       "      window._bokeh_is_loading = js_urls.length;\n",
       "      for (var i = 0; i < js_urls.length; i++) {\n",
       "        var url = js_urls[i];\n",
       "        var s = document.createElement('script');\n",
       "        s.src = url;\n",
       "        s.async = false;\n",
       "        s.onreadystatechange = s.onload = function() {\n",
       "          window._bokeh_is_loading--;\n",
       "          if (window._bokeh_is_loading === 0) {\n",
       "            console.log(\"Bokeh: all BokehJS libraries loaded\");\n",
       "            run_callbacks()\n",
       "          }\n",
       "        };\n",
       "        s.onerror = function() {\n",
       "          console.warn(\"failed to load library \" + url);\n",
       "        };\n",
       "        console.log(\"Bokeh: injecting script tag for BokehJS library: \", url);\n",
       "        document.getElementsByTagName(\"head\")[0].appendChild(s);\n",
       "      }\n",
       "    };var element = document.getElementById(\"1276a453-6581-4ad3-ad36-2f794d51c67f\");\n",
       "    if (element == null) {\n",
       "      console.log(\"Bokeh: ERROR: autoload.js configured with elementid '1276a453-6581-4ad3-ad36-2f794d51c67f' but no matching script tag was found. \")\n",
       "      return false;\n",
       "    }\n",
       "  \n",
       "    var js_urls = [];\n",
       "  \n",
       "    var inline_js = [\n",
       "      function(Bokeh) {\n",
       "        Bokeh.$(function() {\n",
       "            var docs_json = {\"a86fcd24-6ce4-46e5-8b53-2f42aa576f70\":{\"roots\":{\"references\":[{\"attributes\":{},\"id\":\"54ebd2cc-9ff5-41f0-8bec-b5a3df366d05\",\"type\":\"CategoricalTickFormatter\"},{\"attributes\":{},\"id\":\"db00b764-7ae1-4f50-ba57-1b8a5155aa63\",\"type\":\"ToolEvents\"},{\"attributes\":{\"plot\":{\"id\":\"204f42df-74f4-4ed3-a7bc-67f24fa7a182\",\"type\":\"Plot\"}},\"id\":\"d0d6c87f-c4b3-4a35-8937-8f7fefe294b1\",\"type\":\"PreviewSaveTool\"},{\"attributes\":{},\"id\":\"d25d01b3-4b58-4067-957e-3b898dd41c92\",\"type\":\"BasicTicker\"},{\"attributes\":{},\"id\":\"62f04dd2-72fe-4bfd-b58f-7c300e9df85d\",\"type\":\"CategoricalTicker\"},{\"attributes\":{\"callback\":null,\"factors\":[\"Thyroid\",\"Kidney and Renal Pelvis\",\"Chronic Lymphocytic Leukemia\",\"NHL - Nodal\",\"Lung and Bronchus\",\"Urinary Bladder\",\"Melanoma of the Skin\",\"Breast\",\"Prostate\",\"Salivary Gland\"],\"offset\":-1.0},\"id\":\"f1d6927c-dead-4fec-9547-abc7e7dddae1\",\"type\":\"FactorRange\"},{\"attributes\":{},\"id\":\"42c50318-de58-4683-8b62-b85add20b1b9\",\"type\":\"BasicTickFormatter\"},{\"attributes\":{\"grid_line_color\":{\"value\":\"#cbcbcb\"},\"grid_line_width\":{\"value\":1.3},\"plot\":{\"id\":\"204f42df-74f4-4ed3-a7bc-67f24fa7a182\",\"type\":\"Plot\"},\"ticker\":{\"id\":\"d25d01b3-4b58-4067-957e-3b898dd41c92\",\"type\":\"BasicTicker\"}},\"id\":\"6fb42dc9-7ae3-4573-9946-7c2c1fa5ff6b\",\"type\":\"Grid\"},{\"attributes\":{\"background_fill_color\":{\"value\":\"#f0f0f0\"},\"below\":[{\"id\":\"1271ed98-0329-4d7a-a1c3-f974d86e863b\",\"type\":\"LinearAxis\"}],\"left\":[{\"id\":\"19885fe7-bc24-4a5b-bed1-522bbc06f490\",\"type\":\"CategoricalAxis\"}],\"plot_height\":572,\"plot_width\":832,\"renderers\":[{\"id\":\"1271ed98-0329-4d7a-a1c3-f974d86e863b\",\"type\":\"LinearAxis\"},{\"id\":\"6fb42dc9-7ae3-4573-9946-7c2c1fa5ff6b\",\"type\":\"Grid\"},{\"id\":\"19885fe7-bc24-4a5b-bed1-522bbc06f490\",\"type\":\"CategoricalAxis\"},{\"id\":\"f5bd7f67-44e6-4378-bce9-c8d1db0f58da\",\"type\":\"Grid\"},{\"id\":\"363caef0-c53a-4b47-98ec-1dd0db93ea90\",\"type\":\"GlyphRenderer\"},{\"id\":\"0bfe7abf-075f-49f9-923b-6b4561c10f93\",\"type\":\"BoxAnnotation\"}],\"tool_events\":{\"id\":\"db00b764-7ae1-4f50-ba57-1b8a5155aa63\",\"type\":\"ToolEvents\"},\"tools\":[{\"id\":\"61804d4c-2e95-4258-870c-024552d87df0\",\"type\":\"PanTool\"},{\"id\":\"feb5f5cf-0b60-4c7d-938e-651078999e7d\",\"type\":\"WheelZoomTool\"},{\"id\":\"4ccb244f-386f-4bf2-801c-295e38d47ceb\",\"type\":\"BoxZoomTool\"},{\"id\":\"d0d6c87f-c4b3-4a35-8937-8f7fefe294b1\",\"type\":\"PreviewSaveTool\"},{\"id\":\"7f124765-4bd0-4e5d-8e80-23390a1c2c86\",\"type\":\"ResizeTool\"},{\"id\":\"c440d90d-6625-40fb-85c1-c79d71f967a2\",\"type\":\"ResetTool\"},{\"id\":\"b6ce7754-2180-4715-a2ce-e7e442058564\",\"type\":\"HelpTool\"}],\"x_range\":{\"id\":\"1ef093bc-319a-4faf-a1a9-e0846993e303\",\"type\":\"DataRange1d\"},\"y_range\":{\"id\":\"f1d6927c-dead-4fec-9547-abc7e7dddae1\",\"type\":\"FactorRange\"}},\"id\":\"204f42df-74f4-4ed3-a7bc-67f24fa7a182\",\"type\":\"Plot\"},{\"attributes\":{\"plot\":{\"id\":\"204f42df-74f4-4ed3-a7bc-67f24fa7a182\",\"type\":\"Plot\"}},\"id\":\"7f124765-4bd0-4e5d-8e80-23390a1c2c86\",\"type\":\"ResizeTool\"},{\"attributes\":{\"axis_label_text_font\":\"sans-serif\",\"axis_label_text_font_size\":{\"value\":\"14.300000pt\"},\"formatter\":{\"id\":\"42c50318-de58-4683-8b62-b85add20b1b9\",\"type\":\"BasicTickFormatter\"},\"major_label_text_font\":\"sans-serif\",\"major_label_text_font_size\":{\"value\":\"13.000000pt\"},\"plot\":{\"id\":\"204f42df-74f4-4ed3-a7bc-67f24fa7a182\",\"type\":\"Plot\"},\"ticker\":{\"id\":\"d25d01b3-4b58-4067-957e-3b898dd41c92\",\"type\":\"BasicTicker\"}},\"id\":\"1271ed98-0329-4d7a-a1c3-f974d86e863b\",\"type\":\"LinearAxis\"},{\"attributes\":{\"callback\":null},\"id\":\"1ef093bc-319a-4faf-a1a9-e0846993e303\",\"type\":\"DataRange1d\"},{\"attributes\":{\"data_source\":{\"id\":\"405402c7-9dff-4118-9033-21908921d3d9\",\"type\":\"ColumnDataSource\"},\"glyph\":{\"id\":\"20b67d80-852e-422a-8c18-3bc6dcd46ebd\",\"type\":\"X\"},\"hover_glyph\":null,\"nonselection_glyph\":null,\"selection_glyph\":null},\"id\":\"363caef0-c53a-4b47-98ec-1dd0db93ea90\",\"type\":\"GlyphRenderer\"},{\"attributes\":{\"plot\":{\"id\":\"204f42df-74f4-4ed3-a7bc-67f24fa7a182\",\"type\":\"Plot\"}},\"id\":\"b6ce7754-2180-4715-a2ce-e7e442058564\",\"type\":\"HelpTool\"},{\"attributes\":{\"plot\":{\"id\":\"204f42df-74f4-4ed3-a7bc-67f24fa7a182\",\"type\":\"Plot\"}},\"id\":\"feb5f5cf-0b60-4c7d-938e-651078999e7d\",\"type\":\"WheelZoomTool\"},{\"attributes\":{\"axis_label_text_font\":\"sans-serif\",\"axis_label_text_font_size\":{\"value\":\"14.300000pt\"},\"formatter\":{\"id\":\"54ebd2cc-9ff5-41f0-8bec-b5a3df366d05\",\"type\":\"CategoricalTickFormatter\"},\"major_label_text_font\":\"sans-serif\",\"major_label_text_font_size\":{\"value\":\"13.000000pt\"},\"plot\":{\"id\":\"204f42df-74f4-4ed3-a7bc-67f24fa7a182\",\"type\":\"Plot\"},\"ticker\":{\"id\":\"62f04dd2-72fe-4bfd-b58f-7c300e9df85d\",\"type\":\"CategoricalTicker\"}},\"id\":\"19885fe7-bc24-4a5b-bed1-522bbc06f490\",\"type\":\"CategoricalAxis\"},{\"attributes\":{\"plot\":{\"id\":\"204f42df-74f4-4ed3-a7bc-67f24fa7a182\",\"type\":\"Plot\"}},\"id\":\"61804d4c-2e95-4258-870c-024552d87df0\",\"type\":\"PanTool\"},{\"attributes\":{},\"id\":\"20b67d80-852e-422a-8c18-3bc6dcd46ebd\",\"type\":\"X\"},{\"attributes\":{\"plot\":{\"id\":\"204f42df-74f4-4ed3-a7bc-67f24fa7a182\",\"type\":\"Plot\"}},\"id\":\"c440d90d-6625-40fb-85c1-c79d71f967a2\",\"type\":\"ResetTool\"},{\"attributes\":{\"dimension\":1,\"grid_line_color\":{\"value\":\"#cbcbcb\"},\"grid_line_width\":{\"value\":1.3},\"plot\":{\"id\":\"204f42df-74f4-4ed3-a7bc-67f24fa7a182\",\"type\":\"Plot\"},\"ticker\":{\"id\":\"62f04dd2-72fe-4bfd-b58f-7c300e9df85d\",\"type\":\"CategoricalTicker\"}},\"id\":\"f5bd7f67-44e6-4378-bce9-c8d1db0f58da\",\"type\":\"Grid\"},{\"attributes\":{\"callback\":null,\"column_names\":[\"name\"],\"data\":{\"name\":\"ax_end\"}},\"id\":\"405402c7-9dff-4118-9033-21908921d3d9\",\"type\":\"ColumnDataSource\"},{\"attributes\":{\"bottom_units\":\"screen\",\"fill_alpha\":{\"value\":0.5},\"fill_color\":{\"value\":\"lightgrey\"},\"left_units\":\"screen\",\"level\":\"overlay\",\"line_alpha\":{\"value\":1.0},\"line_color\":{\"value\":\"black\"},\"line_dash\":[4,4],\"line_width\":{\"value\":2},\"plot\":null,\"render_mode\":\"css\",\"right_units\":\"screen\",\"top_units\":\"screen\"},\"id\":\"0bfe7abf-075f-49f9-923b-6b4561c10f93\",\"type\":\"BoxAnnotation\"},{\"attributes\":{\"overlay\":{\"id\":\"0bfe7abf-075f-49f9-923b-6b4561c10f93\",\"type\":\"BoxAnnotation\"},\"plot\":{\"id\":\"204f42df-74f4-4ed3-a7bc-67f24fa7a182\",\"type\":\"Plot\"}},\"id\":\"4ccb244f-386f-4bf2-801c-295e38d47ceb\",\"type\":\"BoxZoomTool\"}],\"root_ids\":[\"204f42df-74f4-4ed3-a7bc-67f24fa7a182\"]},\"title\":\"Bokeh Application\",\"version\":\"0.11.1\"}};\n",
       "            var render_items = [{\"docid\":\"a86fcd24-6ce4-46e5-8b53-2f42aa576f70\",\"elementid\":\"1276a453-6581-4ad3-ad36-2f794d51c67f\",\"modelid\":\"204f42df-74f4-4ed3-a7bc-67f24fa7a182\",\"notebook_comms_target\":\"2e42c629-3515-47f3-af0c-a0d2ff57397c\"}];\n",
       "            \n",
       "            Bokeh.embed.embed_items(docs_json, render_items);\n",
       "        });\n",
       "      },\n",
       "      function(Bokeh) {\n",
       "      }\n",
       "    ];\n",
       "  \n",
       "    function run_inline_js() {\n",
       "      for (var i = 0; i < inline_js.length; i++) {\n",
       "        inline_js[i](window.Bokeh);\n",
       "      }\n",
       "    }\n",
       "  \n",
       "    if (window._bokeh_is_loading === 0) {\n",
       "      console.log(\"Bokeh: BokehJS loaded, going straight to plotting\");\n",
       "      run_inline_js();\n",
       "    } else {\n",
       "      load_libs(js_urls, function() {\n",
       "        console.log(\"Bokeh: BokehJS plotting callback run at\", now());\n",
       "        run_inline_js();\n",
       "      });\n",
       "    }\n",
       "  }(this));\n",
       "</script>"
      ]
     },
     "metadata": {},
     "output_type": "display_data"
    },
    {
     "data": {
      "text/html": [
       "<p><code>&lt;Bokeh Notebook handle for <strong>In[33]</strong>&gt;</code></p>"
      ],
      "text/plain": [
       "<bokeh.io._CommsHandle at 0x3c4d3fd0>"
      ]
     },
     "execution_count": 33,
     "metadata": {},
     "output_type": "execute_result"
    }
   ],
   "source": [
    "#df2.siterwho1.value_counts()[:10][::-1].plot(kind='barh');\n",
    "\n",
    "sites = df2.siterwho1.value_counts()[:10][::-1].index\n",
    "counts = df2.siterwho1.value_counts()[:10][::-1].values\n",
    "y_pos = np.arange(len(list(sites)))\n",
    "plt.barh(y_pos, counts, align='center');\n",
    "plt.yticks(y_pos,sites);\n",
    "\n",
    "# Make it interactive with Bokeh\n",
    "bokeh.plotting.show(bokeh.mpl.to_bokeh())"
   ]
  },
  {
   "cell_type": "code",
   "execution_count": 22,
   "metadata": {
    "collapsed": false,
    "slideshow": {
     "slide_type": "skip"
    }
   },
   "outputs": [
    {
     "data": {
      "text/html": [
       "<style>div.text_cell_render {font-family: \"Crimson Text\";font-size: 30pt;line-height: 145%; /* added for some line spacing of text. */}\n",
       "</style>"
      ],
      "text/plain": [
       "<IPython.core.display.HTML object>"
      ]
     },
     "execution_count": 22,
     "metadata": {},
     "output_type": "execute_result"
    }
   ],
   "source": [
    "from IPython import utils\n",
    "from IPython.core.display import HTML\n",
    "import os\n",
    "def css_styling():\n",
    "    styles = '<style>div.text_cell_render {font-family: \"Crimson Text\";font-size: 30pt;line-height: 145%; /* added for some line spacing of text. */}\\n</style>'\n",
    "    return HTML(styles)\n",
    "css_styling()"
   ]
  },
  {
   "cell_type": "code",
   "execution_count": null,
   "metadata": {
    "collapsed": true
   },
   "outputs": [],
   "source": []
  }
 ],
 "metadata": {
  "celltoolbar": "Slideshow",
  "kernelspec": {
   "display_name": "Python 3",
   "language": "python",
   "name": "python3"
  },
  "language_info": {
   "codemirror_mode": {
    "name": "ipython",
    "version": 3
   },
   "file_extension": ".py",
   "mimetype": "text/x-python",
   "name": "python",
   "nbconvert_exporter": "python",
   "pygments_lexer": "ipython3",
   "version": "3.5.1"
  },
  "widgets": {
   "state": {},
   "version": "1.1.2"
  }
 },
 "nbformat": 4,
 "nbformat_minor": 0
}
