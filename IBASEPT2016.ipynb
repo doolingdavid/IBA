{
 "cells": [
  {
   "cell_type": "code",
   "execution_count": 1,
   "metadata": {
    "collapsed": false,
    "slideshow": {
     "slide_type": "skip"
    }
   },
   "outputs": [
    {
     "data": {
      "text/html": [
       "<script>\n",
       "code_show=true; \n",
       "function code_toggle() {\n",
       " if (code_show){\n",
       " $('div.input').hide();\n",
       " } else {\n",
       " $('div.input').show();\n",
       " }\n",
       " code_show = !code_show\n",
       "} \n",
       "$( document ).ready(code_toggle);\n",
       "</script>\n",
       "<form action=\"javascript:code_toggle()\"><input type=\"submit\" value=\"Click here to toggle on/off the raw code.\"></form>"
      ],
      "text/plain": [
       "<IPython.core.display.HTML object>"
      ]
     },
     "execution_count": 1,
     "metadata": {},
     "output_type": "execute_result"
    }
   ],
   "source": [
    "from IPython.display import HTML\n",
    "\n",
    "HTML('''<script>\n",
    "code_show=true; \n",
    "function code_toggle() {\n",
    " if (code_show){\n",
    " $('div.input').hide();\n",
    " } else {\n",
    " $('div.input').show();\n",
    " }\n",
    " code_show = !code_show\n",
    "} \n",
    "$( document ).ready(code_toggle);\n",
    "</script>\n",
    "<form action=\"javascript:code_toggle()\"><input type=\"submit\" value=\"Click here to toggle on/off the raw code.\"></form>''')  "
   ]
  },
  {
   "cell_type": "code",
   "execution_count": 56,
   "metadata": {
    "collapsed": false,
    "slideshow": {
     "slide_type": "skip"
    }
   },
   "outputs": [
    {
     "data": {
      "text/html": [
       "<style>\n",
       "h1{color: steelblue;}\n",
       "h2{color: steelblue;}\n",
       "h3{color: steelblue;}\n",
       "h4{color: steelblue;}\n",
       "h5{color: steelblue;}\n",
       "/* etc */\n",
       "</style>"
      ],
      "text/plain": [
       "<IPython.core.display.HTML object>"
      ]
     },
     "metadata": {},
     "output_type": "display_data"
    }
   ],
   "source": [
    "%%html\n",
    "<style>\n",
    "h1{color: steelblue;}\n",
    "h2{color: steelblue;}\n",
    "h3{color: steelblue;}\n",
    "h4{color: steelblue;}\n",
    "h5{color: steelblue;}\n",
    "/* etc */\n",
    "</style>"
   ]
  },
  {
   "cell_type": "code",
   "execution_count": 57,
   "metadata": {
    "collapsed": false,
    "slideshow": {
     "slide_type": "skip"
    }
   },
   "outputs": [
    {
     "ename": "IndentationError",
     "evalue": "unexpected indent (<ipython-input-57-0bfb95217fb6>, line 10)",
     "output_type": "error",
     "traceback": [
      "\u001b[1;36m  File \u001b[1;32m\"<ipython-input-57-0bfb95217fb6>\"\u001b[1;36m, line \u001b[1;32m10\u001b[0m\n\u001b[1;33m    }\u001b[0m\n\u001b[1;37m    ^\u001b[0m\n\u001b[1;31mIndentationError\u001b[0m\u001b[1;31m:\u001b[0m unexpected indent\n"
     ]
    }
   ],
   "source": [
    "#%%html\n",
    "#<style>\n",
    "#h1{color: steelblue;}\n",
    "#h2{color: steelblue;}\n",
    "#h3{color: steelblue;}\n",
    "#h4{color: steelblue;}\n",
    "#h5{color: steelred;}\n",
    "#div.text_cell_render{font-size: 16pt;\n",
    "#                    font-family: \"Open Sans\", Tahoma, sans-serif;\n",
    "                    }\n",
    "##notebook{background-color: orange;}\n",
    "#/* etc */\n",
    "#</style>"
   ]
  },
  {
   "cell_type": "code",
   "execution_count": 2,
   "metadata": {
    "collapsed": false,
    "slideshow": {
     "slide_type": "skip"
    }
   },
   "outputs": [
    {
     "name": "stdout",
     "output_type": "stream",
     "text": [
      "\\\\iobsdc01\\SharedDocs\\SEER_MEDICARE\\SEER_MEDICARE_STAGING\n"
     ]
    }
   ],
   "source": [
    "import numpy as np\n",
    "import pandas as pd\n",
    "import matplotlib.pyplot as plt\n",
    "from pandas import Series, DataFrame\n",
    "import pytz\n",
    "from pytz import common_timezones, all_timezones\n",
    "import matplotlib\n",
    "matplotlib.style.use('ggplot')\n",
    "%matplotlib inline\n",
    "from datetime import datetime\n",
    "import scipy as sp\n",
    "import statsmodels.api as sm\n",
    "import statsmodels.formula.api as smf\n",
    "matplotlib.style.use('fivethirtyeight')\n",
    "matplotlib.style.use('seaborn-talk')\n",
    "import os\n",
    "import collections\n",
    "\n",
    "preDouble = \"\\\\\\\\iobsdc01\\\\SharedDocs\\\\SEER_MEDICARE\\\\SEER_MEDICARE_STAGING\"\n",
    "new = os.chdir(preDouble)\n",
    "print(preDouble)"
   ]
  },
  {
   "cell_type": "code",
   "execution_count": 3,
   "metadata": {
    "collapsed": true,
    "slideshow": {
     "slide_type": "skip"
    }
   },
   "outputs": [],
   "source": [
    "df = pd.read_pickle('dfpedsfFirsts.pickle')"
   ]
  },
  {
   "cell_type": "markdown",
   "metadata": {
    "slideshow": {
     "slide_type": "slide"
    }
   },
   "source": [
    "# Description of the SEER-Medicare Data Files format\n",
    "\n",
    "Fixed width files. Data dictionary available to make the data not only machine readable but meaningful to humans\n",
    "\n",
    "* Patient Entitlement and Diagnosis Summary File (PEDSF)\n",
    "* Medicare Provider Analysis and Review (MEDPAR)\n",
    "* Carrier Claims (old file name Physician/Supplier Part B (NCH))\n",
    "* Outpatient Claims\n",
    "* Home Health Agency (HAA)\n",
    "* Hospice\n",
    "* Durable Medical Equipment (DME)\n",
    "* Medicare Part D Data"
   ]
  },
  {
   "cell_type": "markdown",
   "metadata": {
    "slideshow": {
     "slide_type": "slide"
    }
   },
   "source": [
    "## First order of business is to identify all the patients in the SEER-Medicare data who have received PBT\n",
    "\n",
    "### Reminder\n",
    "\n",
    "The relevant HCPCS are:\n",
    "\n",
    "* 77520 - Proton trmt simple w/o comp\n",
    "* 77522 - Proton trmt simple w/comp\n",
    "* 77523 - Proton trmt intermediate\n",
    "* 77525 - Proton treatment complex\n",
    "\n",
    "as well as the HCPCS code S8030 (Scleral application of tantalum ring(s) for localization of lesions for proton beam therapy)."
   ]
  },
  {
   "cell_type": "markdown",
   "metadata": {
    "slideshow": {
     "slide_type": "slide"
    }
   },
   "source": [
    "### Use the Outpatient Claims and Carrier Claims files\n",
    "\n",
    "\n",
    "* 218 Outpatient Claims files\n",
    "* 207 Carrier Claims files\n",
    "\n",
    "\n",
    "Loop through all of these files and capture the set of all the ```patient_id``` s corresponding to the PBT HCPCS codes\n",
    "\n",
    "**Result: 1584 unique patients appear in the claims files for claims in years 2006-2013**\n"
   ]
  },
  {
   "cell_type": "code",
   "execution_count": 4,
   "metadata": {
    "collapsed": true,
    "slideshow": {
     "slide_type": "skip"
    }
   },
   "outputs": [],
   "source": [
    "mask = (df['srvm1'] != 9999)\n",
    "dfall = df[mask]"
   ]
  },
  {
   "cell_type": "code",
   "execution_count": 5,
   "metadata": {
    "collapsed": true,
    "slideshow": {
     "slide_type": "skip"
    }
   },
   "outputs": [],
   "source": [
    "geomask = (dfall['elevation_1'] != dfall['FIPScombo_1']) \n",
    "\n",
    "dfall = dfall[geomask].copy()"
   ]
  },
  {
   "cell_type": "code",
   "execution_count": 6,
   "metadata": {
    "collapsed": true,
    "slideshow": {
     "slide_type": "skip"
    }
   },
   "outputs": [],
   "source": [
    "dfall['elevation_1'].replace('99999',np.nan,inplace=True)\n",
    "dfall['elevation_2'].replace('99999',np.nan,inplace=True)\n",
    "dfall['elevation_3'].replace('99999',np.nan,inplace=True)\n",
    "\n",
    "dfall['lat_1'].replace('99999',np.nan,inplace=True)\n",
    "dfall['lat_2'].replace('99999',np.nan,inplace=True)\n",
    "dfall['lat_3'].replace('99999',np.nan,inplace=True)\n",
    "\n",
    "dfall['lng_1'].replace('99999',np.nan,inplace=True)\n",
    "dfall['lng_2'].replace('99999',np.nan,inplace=True)\n",
    "dfall['lng_3'].replace('99999',np.nan,inplace=True)\n",
    "\n",
    "dfall['elevation_1'] = dfall['elevation_1'].astype('float')\n",
    "dfall['elevation_2'] = dfall['elevation_2'].astype('float')\n",
    "dfall['elevation_3'] = dfall['elevation_3'].astype('float')\n",
    "\n",
    "dfall['lat_1'] = dfall['lat_1'].astype('float')\n",
    "dfall['lat_2'] = dfall['lat_2'].astype('float')\n",
    "dfall['lat_3'] = dfall['lat_3'].astype('float')\n",
    "\n",
    "dfall['lng_1'] = dfall['lng_1'].astype('float')\n",
    "dfall['lng_2'] = dfall['lng_2'].astype('float')\n",
    "dfall['lng_3'] = dfall['lng_3'].astype('float')"
   ]
  },
  {
   "cell_type": "code",
   "execution_count": 7,
   "metadata": {
    "collapsed": true,
    "slideshow": {
     "slide_type": "skip"
    }
   },
   "outputs": [],
   "source": [
    "import pickle\n",
    "fileObject = open('patient_ids_from_outsaf.pickle', 'rb')\n",
    "b = pickle.load(fileObject)\n",
    "fileObject.close()\n",
    "treatmentindices_outsaf = list(set.union(*b))"
   ]
  },
  {
   "cell_type": "code",
   "execution_count": 8,
   "metadata": {
    "collapsed": true,
    "slideshow": {
     "slide_type": "skip"
    }
   },
   "outputs": [],
   "source": [
    "import pickle\n",
    "fileObject = open('patient_ids_from_nch.pickle', 'rb')\n",
    "b = pickle.load(fileObject)\n",
    "fileObject.close()\n",
    "treatmentindices_nch = list(set.union(*b))"
   ]
  },
  {
   "cell_type": "code",
   "execution_count": 9,
   "metadata": {
    "collapsed": true,
    "slideshow": {
     "slide_type": "skip"
    }
   },
   "outputs": [],
   "source": [
    "bigtreatmentindices = list(set(treatmentindices_nch+treatmentindices_outsaf))\n",
    "\n",
    "dfall.set_index('patient_id', inplace=True,drop=False)\n",
    "\n",
    "allindices = dfall.index"
   ]
  },
  {
   "cell_type": "code",
   "execution_count": 10,
   "metadata": {
    "collapsed": true,
    "slideshow": {
     "slide_type": "skip"
    }
   },
   "outputs": [],
   "source": [
    "bigtreatmentset = set(bigtreatmentindices)\n",
    "allset = set(allindices)\n",
    "\n",
    "\n",
    "alltreatmentindices = list(allset.intersection(bigtreatmentset))\n",
    "\n",
    "treatmentindices = alltreatmentindices\n",
    "#len(treatmentindices)"
   ]
  },
  {
   "cell_type": "markdown",
   "metadata": {
    "slideshow": {
     "slide_type": "slide"
    }
   },
   "source": [
    "### Now use the pedsf files to perform patient matching, using the ```patient_id``` 's found above\n",
    "\n",
    "List of pedsf files (contains SEER cases for diagnosis year dates 2006-2011):\n",
    "\n",
    "* pedsf.nasopharynx.cancer.txt\n",
    "* pedsf.salivarygland.cancer.txt\n",
    "* pedsf.oropharynx.cancer.txt\n",
    "* pedsf.esophagus.cancer.txt\n",
    "* pedsf.brain.cancer.txt\n",
    "* pedsf.eyeandorbit.cancer.txt\n",
    "* pedsf.softtissue.cancer.txt\n",
    "* pedsf.prostate.cancer.file01.txt\n",
    "* pedsf.prostate.cancer.file02.txt\n",
    "* pedsf.prostate.cancer.file03.txt\n",
    "* pedsf.lung.cancer.file01.txt\n",
    "* pedsf.lung.cancer.file02.txt\n",
    "\n"
   ]
  },
  {
   "cell_type": "markdown",
   "metadata": {
    "slideshow": {
     "slide_type": "slide"
    }
   },
   "source": [
    "### The pedsf files contain one single row for each patient, and contain the information for up to 10 different primary tumors.\n",
    "\n",
    "So the prostate cancer files contain all patients with a cancer diagnosis where the primary site is the prostate for ANY of the potentially 10 different primary tumors associated with that patient and where that prostate site tumor has a diagnosis date anywhere between 2006 and 2011.\n",
    "\n",
    " "
   ]
  },
  {
   "cell_type": "code",
   "execution_count": 11,
   "metadata": {
    "collapsed": true,
    "slideshow": {
     "slide_type": "skip"
    }
   },
   "outputs": [],
   "source": [
    "import pedsfhelp\n",
    "\n",
    "df2 = pedsfhelp.make_clean_dataframe('pedsf.salivarygland.cancer.txt')\n",
    "#print(df2.shape)"
   ]
  },
  {
   "cell_type": "markdown",
   "metadata": {
    "slideshow": {
     "slide_type": "slide"
    }
   },
   "source": [
    "For example, in the ```pedsf.salivarygland.cancer.txt```, the cancer sites for the first tumor listed for each patient has the following distribution:"
   ]
  },
  {
   "cell_type": "code",
   "execution_count": 12,
   "metadata": {
    "collapsed": false,
    "slideshow": {
     "slide_type": "skip"
    }
   },
   "outputs": [],
   "source": [
    "# Import Bokeh modules for interactive plotting\n",
    "#import bokeh.io\n",
    "#import bokeh.mpl\n",
    "#import bokeh.plotting\n",
    "#from bokeh.resources import CDN\n",
    "\n",
    "# Set up Bokeh for inline viewing\n",
    "#bokeh.io.output_notebook(resources=CDN)"
   ]
  },
  {
   "cell_type": "code",
   "execution_count": 13,
   "metadata": {
    "collapsed": false,
    "slideshow": {
     "slide_type": "slide"
    }
   },
   "outputs": [
    {
     "data": {
      "image/png": "[encoded data removed]",
      "text/plain": [
       "<matplotlib.figure.Figure at 0x2c987160>"
      ]
     },
     "metadata": {},
     "output_type": "display_data"
    }
   ],
   "source": [
    "df2.siterwho1.value_counts()[:10][::-1].plot(kind='barh');"
   ]
  },
  {
   "cell_type": "code",
   "execution_count": 17,
   "metadata": {
    "collapsed": false,
    "slideshow": {
     "slide_type": "skip"
    }
   },
   "outputs": [
    {
     "data": {
      "text/html": [
       "\n",
       "    <div class=\"bk-banner\">\n",
       "        <a href=\"http://bokeh.pydata.org\" target=\"_blank\" class=\"bk-logo bk-logo-small bk-logo-notebook\"></a>\n",
       "        <span id=\"9eabd417-484d-4de2-ab37-7b29ac5b8afa\">Loading BokehJS ...</span>\n",
       "    </div>"
      ]
     },
     "metadata": {},
     "output_type": "display_data"
    },
    {
     "data": {
      "application/javascript": [
       "\n",
       "(function(global) {\n",
       "  function now() {\n",
       "    return new Date();\n",
       "  }\n",
       "\n",
       "  if (typeof (window._bokeh_onload_callbacks) === \"undefined\") {\n",
       "    window._bokeh_onload_callbacks = [];\n",
       "  }\n",
       "\n",
       "  function run_callbacks() {\n",
       "    window._bokeh_onload_callbacks.forEach(function(callback) { callback() });\n",
       "    delete window._bokeh_onload_callbacks\n",
       "    console.info(\"Bokeh: all callbacks have finished\");\n",
       "  }\n",
       "\n",
       "  function load_libs(js_urls, callback) {\n",
       "    window._bokeh_onload_callbacks.push(callback);\n",
       "    if (window._bokeh_is_loading > 0) {\n",
       "      console.log(\"Bokeh: BokehJS is being loaded, scheduling callback at\", now());\n",
       "      return null;\n",
       "    }\n",
       "    if (js_urls == null || js_urls.length === 0) {\n",
       "      run_callbacks();\n",
       "      return null;\n",
       "    }\n",
       "    console.log(\"Bokeh: BokehJS not loaded, scheduling load and callback at\", now());\n",
       "    window._bokeh_is_loading = js_urls.length;\n",
       "    for (var i = 0; i < js_urls.length; i++) {\n",
       "      var url = js_urls[i];\n",
       "      var s = document.createElement('script');\n",
       "      s.src = url;\n",
       "      s.async = false;\n",
       "      s.onreadystatechange = s.onload = function() {\n",
       "        window._bokeh_is_loading--;\n",
       "        if (window._bokeh_is_loading === 0) {\n",
       "          console.log(\"Bokeh: all BokehJS libraries loaded\");\n",
       "          run_callbacks()\n",
       "        }\n",
       "      };\n",
       "      s.onerror = function() {\n",
       "        console.warn(\"failed to load library \" + url);\n",
       "      };\n",
       "      console.log(\"Bokeh: injecting script tag for BokehJS library: \", url);\n",
       "      document.getElementsByTagName(\"head\")[0].appendChild(s);\n",
       "    }\n",
       "  };\n",
       "\n",
       "  var js_urls = ['https://cdn.pydata.org/bokeh/release/bokeh-0.11.1.min.js', 'https://cdn.pydata.org/bokeh/release/bokeh-widgets-0.11.1.min.js', 'https://cdn.pydata.org/bokeh/release/bokeh-compiler-0.11.1.min.js'];\n",
       "\n",
       "  var inline_js = [\n",
       "    function(Bokeh) {\n",
       "      Bokeh.set_log_level(\"info\");\n",
       "    },\n",
       "    \n",
       "    function(Bokeh) {\n",
       "      Bokeh.$(\"#9eabd417-484d-4de2-ab37-7b29ac5b8afa\").text(\"BokehJS successfully loaded\");\n",
       "    },\n",
       "    function(Bokeh) {\n",
       "      console.log(\"Bokeh: injecting CSS: https://cdn.pydata.org/bokeh/release/bokeh-0.11.1.min.css\");\n",
       "      Bokeh.embed.inject_css(\"https://cdn.pydata.org/bokeh/release/bokeh-0.11.1.min.css\");\n",
       "      console.log(\"Bokeh: injecting CSS: https://cdn.pydata.org/bokeh/release/bokeh-widgets-0.11.1.min.css\");\n",
       "      Bokeh.embed.inject_css(\"https://cdn.pydata.org/bokeh/release/bokeh-widgets-0.11.1.min.css\");\n",
       "    }\n",
       "  ];\n",
       "\n",
       "  function run_inline_js() {\n",
       "    for (var i = 0; i < inline_js.length; i++) {\n",
       "      inline_js[i](window.Bokeh);\n",
       "    }\n",
       "  }\n",
       "\n",
       "  if (window._bokeh_is_loading === 0) {\n",
       "    console.log(\"Bokeh: BokehJS loaded, going straight to plotting\");\n",
       "    run_inline_js();\n",
       "  } else {\n",
       "    load_libs(js_urls, function() {\n",
       "      console.log(\"Bokeh: BokehJS plotting callback run at\", now());\n",
       "      run_inline_js();\n",
       "    });\n",
       "  }\n",
       "}(this));"
      ]
     },
     "metadata": {},
     "output_type": "display_data"
    }
   ],
   "source": [
    "#from bokeh.io import output_notebook\n",
    "#from bokeh.resources import CDN\n",
    "#from bokeh.plotting import figure, show\n",
    "#output_notebook(resources=CDN)\n",
    "\n",
    "import bokeh.io\n",
    "import bokeh.mpl\n",
    "import bokeh.plotting\n",
    "\n",
    "from bokeh.resources import CDN\n",
    "bokeh.io.output_notebook(resources=CDN)"
   ]
  },
  {
   "cell_type": "code",
   "execution_count": 24,
   "metadata": {
    "collapsed": false,
    "slideshow": {
     "slide_type": "skip"
    }
   },
   "outputs": [
    {
     "data": {
      "text/html": [
       "\n",
       "\n",
       "    <div class=\"plotdiv\" id=\"b332bbdd-0139-4f21-b436-6cb8c5072b1a\"></div>\n",
       "<script type=\"text/javascript\">\n",
       "  \n",
       "  (function(global) {\n",
       "    function now() {\n",
       "      return new Date();\n",
       "    }\n",
       "  \n",
       "    if (typeof (window._bokeh_onload_callbacks) === \"undefined\") {\n",
       "      window._bokeh_onload_callbacks = [];\n",
       "    }\n",
       "  \n",
       "    function run_callbacks() {\n",
       "      window._bokeh_onload_callbacks.forEach(function(callback) { callback() });\n",
       "      delete window._bokeh_onload_callbacks\n",
       "      console.info(\"Bokeh: all callbacks have finished\");\n",
       "    }\n",
       "  \n",
       "    function load_libs(js_urls, callback) {\n",
       "      window._bokeh_onload_callbacks.push(callback);\n",
       "      if (window._bokeh_is_loading > 0) {\n",
       "        console.log(\"Bokeh: BokehJS is being loaded, scheduling callback at\", now());\n",
       "        return null;\n",
       "      }\n",
       "      if (js_urls == null || js_urls.length === 0) {\n",
       "        run_callbacks();\n",
       "        return null;\n",
       "      }\n",
       "      console.log(\"Bokeh: BokehJS not loaded, scheduling load and callback at\", now());\n",
       "      window._bokeh_is_loading = js_urls.length;\n",
       "      for (var i = 0; i < js_urls.length; i++) {\n",
       "        var url = js_urls[i];\n",
       "        var s = document.createElement('script');\n",
       "        s.src = url;\n",
       "        s.async = false;\n",
       "        s.onreadystatechange = s.onload = function() {\n",
       "          window._bokeh_is_loading--;\n",
       "          if (window._bokeh_is_loading === 0) {\n",
       "            console.log(\"Bokeh: all BokehJS libraries loaded\");\n",
       "            run_callbacks()\n",
       "          }\n",
       "        };\n",
       "        s.onerror = function() {\n",
       "          console.warn(\"failed to load library \" + url);\n",
       "        };\n",
       "        console.log(\"Bokeh: injecting script tag for BokehJS library: \", url);\n",
       "        document.getElementsByTagName(\"head\")[0].appendChild(s);\n",
       "      }\n",
       "    };var element = document.getElementById(\"b332bbdd-0139-4f21-b436-6cb8c5072b1a\");\n",
       "    if (element == null) {\n",
       "      console.log(\"Bokeh: ERROR: autoload.js configured with elementid 'b332bbdd-0139-4f21-b436-6cb8c5072b1a' but no matching script tag was found. \")\n",
       "      return false;\n",
       "    }\n",
       "  \n",
       "    var js_urls = [];\n",
       "  \n",
       "    var inline_js = [\n",
       "      function(Bokeh) {\n",
       "        Bokeh.$(function() {\n",
       "            var docs_json = {\"c8661ab7-4315-494b-b8cd-588a971cc907\":{\"roots\":{\"references\":[{\"attributes\":{},\"id\":\"63daee12-b520-4cd5-9a60-35b35303f41e\",\"type\":\"X\"},{\"attributes\":{\"plot\":{\"id\":\"1bb7ad1f-a46d-4169-a834-5fe979708a0a\",\"type\":\"Plot\"}},\"id\":\"e5e77a03-47b3-412e-b3a3-1f743af3dccb\",\"type\":\"ResetTool\"},{\"attributes\":{\"plot\":{\"id\":\"1bb7ad1f-a46d-4169-a834-5fe979708a0a\",\"type\":\"Plot\"}},\"id\":\"258fe4ef-14a9-46ed-9058-48eecc328fd7\",\"type\":\"PreviewSaveTool\"},{\"attributes\":{\"data_source\":{\"id\":\"989dbcbb-9600-4b1f-804d-b7148cd4ea7a\",\"type\":\"ColumnDataSource\"},\"glyph\":{\"id\":\"63daee12-b520-4cd5-9a60-35b35303f41e\",\"type\":\"X\"},\"hover_glyph\":null,\"nonselection_glyph\":null,\"selection_glyph\":null},\"id\":\"1b4c0f3b-6342-44b1-af17-09143866f15a\",\"type\":\"GlyphRenderer\"},{\"attributes\":{\"line_color\":{\"value\":\"#30A2DA\"},\"line_width\":{\"value\":2.275},\"x\":{\"field\":\"Series 0\"},\"y\":{\"field\":\"Series 1\"}},\"id\":\"3bee21dc-ffd5-441b-be7e-a8df80fff989\",\"type\":\"Line\"},{\"attributes\":{\"grid_line_color\":{\"value\":\"#cbcbcb\"},\"grid_line_width\":{\"value\":1.3},\"plot\":{\"id\":\"1bb7ad1f-a46d-4169-a834-5fe979708a0a\",\"type\":\"Plot\"},\"ticker\":{\"id\":\"495b854f-e980-464d-98f0-760cdd265946\",\"type\":\"BasicTicker\"}},\"id\":\"3b7f758f-4fcd-4dc6-b964-f1003ea97828\",\"type\":\"Grid\"},{\"attributes\":{\"callback\":null,\"column_names\":[\"name\"],\"data\":{\"name\":\"ax_end\"}},\"id\":\"989dbcbb-9600-4b1f-804d-b7148cd4ea7a\",\"type\":\"ColumnDataSource\"},{\"attributes\":{\"callback\":null,\"column_names\":[\"Series 0\",\"Series 1\"],\"data\":{\"Series 0\":[0.0,0.03157379551346526,0.06314759102693052,0.09472138654039577,0.12629518205386103,0.1578689775673263,0.18944277308079155,0.2210165685942568,0.25259036410772207,0.28416415962118735,0.3157379551346526,0.3473117506481178,0.3788855461615831,0.4104593416750484,0.4420331371885136,0.47360693270197884,0.5051807282154441,0.5367545237289094,0.5683283192423747,0.5999021147558399,0.6314759102693052,0.6630497057827704,0.6946235012962356,0.7261972968097009,0.7577710923231662,0.7893448878366315,0.8209186833500968,0.8524924788635619,0.8840662743770272,0.9156400698904925,0.9472138654039577,0.978787660917423,1.0103614564308883,1.0419352519443534,1.0735090474578188,1.105082842971284,1.1366566384847494,1.1682304339982146,1.1998042295116798,1.2313780250251452,1.2629518205386103,1.2945256160520755,1.326099411565541,1.357673207079006,1.3892470025924712,1.4208207981059366,1.4523945936194018,1.4839683891328672,1.5155421846463324,1.5471159801597976,1.578689775673263,1.6102635711867281,1.6418373667001935,1.6734111622136587,1.7049849577271239,1.7365587532405893,1.7681325487540545,1.7997063442675196,1.831280139780985,1.8628539352944502,1.8944277308079154,1.9260015263213808,1.957575321834846,1.9891491173483113,2.0207229128617765,2.0522967083752417,2.083870503888707,2.1154442994021725,2.1470180949156377,2.178591890429103,2.210165685942568,2.241739481456033,2.273313276969499,2.304887072482964,2.336460867996429,2.3680346635098943,2.3996084590233595,2.4311822545368247,2.4627560500502903,2.4943298455637555,2.5259036410772207,2.557477436590686,2.589051232104151,2.6206250276176166,2.652198823131082,2.683772618644547,2.715346414158012,2.7469202096714773,2.7784940051849425,2.810067800698408,2.8416415962118733,2.8732153917253385,2.9047891872388036,2.936362982752269,2.9679367782657344,2.9995105737791996,3.031084369292665,3.06265816480613,3.094231960319595,3.1258057558330608,3.157379551346526,3.188953346859991,3.2205271423734563,3.2521009378869215,3.283674733400387,3.3152485289138522,3.3468223244273174,3.3783961199407826,3.4099699154542478,3.441543710967713,3.4731175064811786,3.5046913019946437,3.536265097508109,3.567838893021574,3.5994126885350393,3.630986484048505,3.66256027956197,3.6941340750754352,3.7257078705889004,3.7572816661023656,3.7888554616158308,3.8204292571292964,3.8520030526427615,3.8835768481562267,3.915150643669692,3.946724439183157,3.9782982346966227,4.009872030210087,4.041445825723553,4.073019621237019,4.104593416750483,4.136167212263949,4.167741007777414,4.199314803290879,4.230888598804345,4.26246239431781,4.294036189831275,4.32560998534474,4.357183780858206,4.388757576371671,4.420331371885136,4.451905167398602,4.483478962912066,4.515052758425532,4.546626553938998,4.578200349452462,4.609774144965928,4.641347940479393,4.672921735992858,4.704495531506323,4.736069327019789,4.767643122533254,4.799216918046719,4.830790713560185,4.862364509073649,4.893938304587115,4.925512100100581,4.957085895614045,4.988659691127511,5.020233486640976,5.051807282154441,5.083381077667907,5.114954873181372,5.146528668694837,5.178102464208302,5.209676259721768,5.241250055235233,5.272823850748698,5.304397646262164,5.335971441775628,5.367545237289094,5.39911903280256,5.430692828316024,5.46226662382949,5.493840419342955,5.52541421485642,5.556988010369885,5.588561805883351,5.620135601396816,5.651709396910281,5.683283192423747,5.714856987937211,5.746430783450677,5.7780045789641425,5.809578374477607,5.841152169991073,5.872725965504538,5.904299761018003,5.935873556531469,5.967447352044934,5.999021147558399,6.030594943071864,6.06216873858533,6.093742534098795,6.12531632961226,6.1568901251257255,6.18846392063919,6.220037716152656,6.2516115116661215,6.283185307179586],\"Series 1\":[1.0,1.032066710193193,1.06509474236811,1.0990419686856636,1.1338590385547467,1.1694893717009793,1.205869249714291,1.2429280116798642,1.280588357317169,1.3187667585826122,1.357373978003129,1.3963156891872375,1.43549319210542,1.4748042129503036,1.514143775788897,1.5534051309114774,1.5924807228633202,1.631263179701016,1.66964630411034,1.70752604670041,1.7448014420667224,1.781375489084834,1.8171559583223198,1.852056111380977,1.8859953193255117,1.9188995700251097,1.9507018571257693,1.9813424463750258,2.010769018028521,2.0389366869778813,2.065807904960449,2.091352251666856,2.115546123692352,2.1383723320407357,2.159819620262366,2.1798821162847855,2.1985587315862603,2.2158525215932507,2.231770021087363,2.2463205680284206,2.2595156285854032,2.2713681353654755,2.28189184989156,2.291100759346508,2.299008516517379,2.3056279307712333,2.310970516801643,2.3150461068229617,2.3178625308700562,2.31942536889049,2.3197377773935446,2.318800392540108,2.316611310709119,2.313166146746749,2.3084581692788197,2.3024785116298387,2.2952164560291717,2.286659787884421,2.276795215955854,2.2656088532703764,2.253086752571653,2.2392154890237497,2.2239827817855113,2.2073781449757166,2.1893935574858236,2.1700241401056295,2.149268827550617,2.1271310222653583,2.1036192163743417,2.0787475679086995,2.0525364174999967,2.0250127321397344,1.9962104633854107,1.9661708085684515,1.9349423651288866,1.902581170152091,1.8691506194819663,1.834721263381775,1.7993704785399443,1.76318201918924,1.726245453126735,1.688655491383331,1.6505112230858856,1.611915269574767,1.5729728739848585,1.5337909441817827,1.4944770680985064,1.45513852109374,1.4158812849308142,1.3768090973583869,1.338022550092857,1.2996182513114372,1.2616880666402135,1.224318450155571,1.187589874213834,1.1515763640922652,1.1163451405738416,1.0819563708420734,1.048463025463559,1.0159108369037544,0.9843383530071922,0.9537770772201227,0.9242516860654116,0.8957803135022957,0.8683748913067124,0.8420415344665887,0.8167809607646872,0.7925889341752512,0.7694567223805192,0.7473715595679621,0.7263171066480085,0.7062739020869707,0.6872197976371077,0.6691303743270864,0.6519793351195335,0.6357388716225414,0.620380003139871,0.6058728871472596,0.5921871009822195,0.5792918951292285,0.5671564189724598,0.5557499202784664,0.5450419199681541,0.5350023639492195,0.5256017539162657,0.5168112590957664,0.508602810926732,0.5009491826348217,0.49382405558672593,0.4872020742111883,0.48105889115052036,0.4753712041685631,0.47011678619355435,0.4652745097222833,0.4608243666594987,0.45674748451728514,0.4530261397559505,0.449643768913155,0.4465849780433498,0.4438355508764182,0.4413824560036095,0.4392138533109907,0.4373190998059152,0.4356887549203291,0.4343145853257659,0.4331895692579986,0.4323079003237213,0.4316649907462889,0.43125747400126985,0.431083206794002,0.4311412703390218,0.431431970913577,0.43195683967277154,0.4327186317305288,0.4337213245267634,0.43497011551520304,0.4364714192165126,0.4382328636861217,0.44026328644391877,0.4425727299023206,0.4451724363088982,0.448074842188614,0.4512935722278919,0.4548434324874733,0.45874040276284245,0.4630016278297,0.46764540721758185,0.4726911830476462,0.4781595253515887,0.4840721141587195,0.49045171749898886,0.49732216432321025,0.5047083111905035,0.5126360014202448,0.5211320152554489,0.5302240094411421,0.5399404444902883,0.5503104977974729,0.561363960673862,0.5731311173238697,0.5856426037730906,0.5989292447976537,0.6130218670069435,0.6279510864043459,0.643747069003975,0.6604392634239649,0.6780561048164679,0.6966246900365388,0.7161704245993803,0.7367166427273991,0.7582842026400354,0.7808910601803364,0.8045518248868349,0.8292773036852312,0.8550740384630743,0.8819438448668473,0.9098833606835709,0.9388836130921276,0.9689296148432206,0.9999999999999998]}},\"id\":\"ee47e9b1-70fd-4a8a-a6a5-61056340a2e6\",\"type\":\"ColumnDataSource\"},{\"attributes\":{\"plot\":{\"id\":\"1bb7ad1f-a46d-4169-a834-5fe979708a0a\",\"type\":\"Plot\"}},\"id\":\"51ec9685-ac72-4d2e-a56f-594a36b0cb3d\",\"type\":\"PanTool\"},{\"attributes\":{\"callback\":null},\"id\":\"8136b20c-7626-4c38-8a46-e3ba8fe57e64\",\"type\":\"DataRange1d\"},{\"attributes\":{\"background_fill_color\":{\"value\":\"#f0f0f0\"},\"below\":[{\"id\":\"98eaf4bc-e159-469b-8081-5f2fe022c723\",\"type\":\"LinearAxis\"}],\"left\":[{\"id\":\"9fefb61d-1cdd-4161-bcbd-c41273a391b5\",\"type\":\"LinearAxis\"}],\"plot_height\":572,\"plot_width\":832,\"renderers\":[{\"id\":\"98eaf4bc-e159-469b-8081-5f2fe022c723\",\"type\":\"LinearAxis\"},{\"id\":\"3b7f758f-4fcd-4dc6-b964-f1003ea97828\",\"type\":\"Grid\"},{\"id\":\"9fefb61d-1cdd-4161-bcbd-c41273a391b5\",\"type\":\"LinearAxis\"},{\"id\":\"58653b16-186c-493a-a28f-2e87609bcb6a\",\"type\":\"Grid\"},{\"id\":\"1b4c0f3b-6342-44b1-af17-09143866f15a\",\"type\":\"GlyphRenderer\"},{\"id\":\"7f1ede2f-6f62-4f2d-a26f-c5fbd3886691\",\"type\":\"BoxAnnotation\"},{\"id\":\"0890d261-1330-4354-9f71-27cf27c0a310\",\"type\":\"GlyphRenderer\"}],\"tool_events\":{\"id\":\"1d7fbdb2-f3f3-42c0-9d0e-49d0725ea118\",\"type\":\"ToolEvents\"},\"tools\":[{\"id\":\"51ec9685-ac72-4d2e-a56f-594a36b0cb3d\",\"type\":\"PanTool\"},{\"id\":\"c8e71de2-6631-4a99-b17a-b00ecc1d971c\",\"type\":\"WheelZoomTool\"},{\"id\":\"48b301c6-f64a-4a9b-ac34-f53f8ad2f72c\",\"type\":\"BoxZoomTool\"},{\"id\":\"258fe4ef-14a9-46ed-9058-48eecc328fd7\",\"type\":\"PreviewSaveTool\"},{\"id\":\"ce9b6bff-aed4-40a3-90c8-84338f1aa453\",\"type\":\"ResizeTool\"},{\"id\":\"e5e77a03-47b3-412e-b3a3-1f743af3dccb\",\"type\":\"ResetTool\"},{\"id\":\"ebc82a5c-6fdc-42f7-ac06-de9a063ee268\",\"type\":\"HelpTool\"}],\"x_range\":{\"id\":\"b6e0ac97-1cf2-4fc5-aacb-f0469f82a3a6\",\"type\":\"DataRange1d\"},\"y_range\":{\"id\":\"8136b20c-7626-4c38-8a46-e3ba8fe57e64\",\"type\":\"DataRange1d\"}},\"id\":\"1bb7ad1f-a46d-4169-a834-5fe979708a0a\",\"type\":\"Plot\"},{\"attributes\":{},\"id\":\"4a6e6598-6eac-440a-907e-4bf800e9d938\",\"type\":\"BasicTickFormatter\"},{\"attributes\":{\"callback\":null},\"id\":\"b6e0ac97-1cf2-4fc5-aacb-f0469f82a3a6\",\"type\":\"DataRange1d\"},{\"attributes\":{\"plot\":{\"id\":\"1bb7ad1f-a46d-4169-a834-5fe979708a0a\",\"type\":\"Plot\"}},\"id\":\"ce9b6bff-aed4-40a3-90c8-84338f1aa453\",\"type\":\"ResizeTool\"},{\"attributes\":{\"bottom_units\":\"screen\",\"fill_alpha\":{\"value\":0.5},\"fill_color\":{\"value\":\"lightgrey\"},\"left_units\":\"screen\",\"level\":\"overlay\",\"line_alpha\":{\"value\":1.0},\"line_color\":{\"value\":\"black\"},\"line_dash\":[4,4],\"line_width\":{\"value\":2},\"plot\":null,\"render_mode\":\"css\",\"right_units\":\"screen\",\"top_units\":\"screen\"},\"id\":\"7f1ede2f-6f62-4f2d-a26f-c5fbd3886691\",\"type\":\"BoxAnnotation\"},{\"attributes\":{\"data_source\":{\"id\":\"ee47e9b1-70fd-4a8a-a6a5-61056340a2e6\",\"type\":\"ColumnDataSource\"},\"glyph\":{\"id\":\"3bee21dc-ffd5-441b-be7e-a8df80fff989\",\"type\":\"Line\"},\"hover_glyph\":null,\"nonselection_glyph\":null,\"selection_glyph\":null},\"id\":\"0890d261-1330-4354-9f71-27cf27c0a310\",\"type\":\"GlyphRenderer\"},{\"attributes\":{\"dimension\":1,\"grid_line_color\":{\"value\":\"#cbcbcb\"},\"grid_line_width\":{\"value\":1.3},\"plot\":{\"id\":\"1bb7ad1f-a46d-4169-a834-5fe979708a0a\",\"type\":\"Plot\"},\"ticker\":{\"id\":\"a3956af5-b4d7-41ea-ae3d-13eac12c829a\",\"type\":\"BasicTicker\"}},\"id\":\"58653b16-186c-493a-a28f-2e87609bcb6a\",\"type\":\"Grid\"},{\"attributes\":{},\"id\":\"ee24dd08-a0d2-439c-8361-c5620382e789\",\"type\":\"BasicTickFormatter\"},{\"attributes\":{\"plot\":{\"id\":\"1bb7ad1f-a46d-4169-a834-5fe979708a0a\",\"type\":\"Plot\"}},\"id\":\"ebc82a5c-6fdc-42f7-ac06-de9a063ee268\",\"type\":\"HelpTool\"},{\"attributes\":{},\"id\":\"495b854f-e980-464d-98f0-760cdd265946\",\"type\":\"BasicTicker\"},{\"attributes\":{\"overlay\":{\"id\":\"7f1ede2f-6f62-4f2d-a26f-c5fbd3886691\",\"type\":\"BoxAnnotation\"},\"plot\":{\"id\":\"1bb7ad1f-a46d-4169-a834-5fe979708a0a\",\"type\":\"Plot\"}},\"id\":\"48b301c6-f64a-4a9b-ac34-f53f8ad2f72c\",\"type\":\"BoxZoomTool\"},{\"attributes\":{},\"id\":\"a3956af5-b4d7-41ea-ae3d-13eac12c829a\",\"type\":\"BasicTicker\"},{\"attributes\":{},\"id\":\"1d7fbdb2-f3f3-42c0-9d0e-49d0725ea118\",\"type\":\"ToolEvents\"},{\"attributes\":{\"axis_label\":\"sin(sin(x))\",\"axis_label_text_font\":\"sans-serif\",\"axis_label_text_font_size\":{\"value\":\"14.300000pt\"},\"formatter\":{\"id\":\"ee24dd08-a0d2-439c-8361-c5620382e789\",\"type\":\"BasicTickFormatter\"},\"major_label_text_font\":\"sans-serif\",\"major_label_text_font_size\":{\"value\":\"13.000000pt\"},\"plot\":{\"id\":\"1bb7ad1f-a46d-4169-a834-5fe979708a0a\",\"type\":\"Plot\"},\"ticker\":{\"id\":\"a3956af5-b4d7-41ea-ae3d-13eac12c829a\",\"type\":\"BasicTicker\"}},\"id\":\"9fefb61d-1cdd-4161-bcbd-c41273a391b5\",\"type\":\"LinearAxis\"},{\"attributes\":{\"plot\":{\"id\":\"1bb7ad1f-a46d-4169-a834-5fe979708a0a\",\"type\":\"Plot\"}},\"id\":\"c8e71de2-6631-4a99-b17a-b00ecc1d971c\",\"type\":\"WheelZoomTool\"},{\"attributes\":{\"axis_label\":\"x\",\"axis_label_text_font\":\"sans-serif\",\"axis_label_text_font_size\":{\"value\":\"14.300000pt\"},\"formatter\":{\"id\":\"4a6e6598-6eac-440a-907e-4bf800e9d938\",\"type\":\"BasicTickFormatter\"},\"major_label_text_font\":\"sans-serif\",\"major_label_text_font_size\":{\"value\":\"13.000000pt\"},\"plot\":{\"id\":\"1bb7ad1f-a46d-4169-a834-5fe979708a0a\",\"type\":\"Plot\"},\"ticker\":{\"id\":\"495b854f-e980-464d-98f0-760cdd265946\",\"type\":\"BasicTicker\"}},\"id\":\"98eaf4bc-e159-469b-8081-5f2fe022c723\",\"type\":\"LinearAxis\"}],\"root_ids\":[\"1bb7ad1f-a46d-4169-a834-5fe979708a0a\"]},\"title\":\"Bokeh Application\",\"version\":\"0.11.1\"}};\n",
       "            var render_items = [{\"docid\":\"c8661ab7-4315-494b-b8cd-588a971cc907\",\"elementid\":\"b332bbdd-0139-4f21-b436-6cb8c5072b1a\",\"modelid\":\"1bb7ad1f-a46d-4169-a834-5fe979708a0a\",\"notebook_comms_target\":\"e9d19158-ab8c-4e11-a103-e2ce64ea6f3b\"}];\n",
       "            \n",
       "            Bokeh.embed.embed_items(docs_json, render_items);\n",
       "        });\n",
       "      },\n",
       "      function(Bokeh) {\n",
       "      }\n",
       "    ];\n",
       "  \n",
       "    function run_inline_js() {\n",
       "      for (var i = 0; i < inline_js.length; i++) {\n",
       "        inline_js[i](window.Bokeh);\n",
       "      }\n",
       "    }\n",
       "  \n",
       "    if (window._bokeh_is_loading === 0) {\n",
       "      console.log(\"Bokeh: BokehJS loaded, going straight to plotting\");\n",
       "      run_inline_js();\n",
       "    } else {\n",
       "      load_libs(js_urls, function() {\n",
       "        console.log(\"Bokeh: BokehJS plotting callback run at\", now());\n",
       "        run_inline_js();\n",
       "      });\n",
       "    }\n",
       "  }(this));\n",
       "</script>"
      ]
     },
     "metadata": {},
     "output_type": "display_data"
    }
   ],
   "source": [
    "# Generate data to plot\n",
    "x = np.linspace(0, 2 * np.pi, 200)\n",
    "y = np.exp(np.sin(np.sin(x)))\n",
    "\n",
    "# Make plot\n",
    "plt.plot(x, y)\n",
    "plt.xlim((0, 2 * np.pi))\n",
    "plt.xlabel('x')\n",
    "plt.ylabel('sin(sin(x))')\n",
    "\n",
    "# Make it interactive with Bokeh\n",
    "bokeh.plotting.show(bokeh.mpl.to_bokeh());"
   ]
  },
  {
   "cell_type": "code",
   "execution_count": 20,
   "metadata": {
    "collapsed": false,
    "slideshow": {
     "slide_type": "skip"
    }
   },
   "outputs": [],
   "source": [
    "from bokeh.charts import Bar, output_file, hplot\n",
    "import bokeh.mpl\n",
    "data = pd.DataFrame(df2.siterwho1.value_counts()[:10][::-1])\n",
    "\n",
    "data\n",
    "bar = Bar(data,values='siterwho1')\n",
    "#bokeh.plotting.show(bar);"
   ]
  },
  {
   "cell_type": "code",
   "execution_count": 22,
   "metadata": {
    "collapsed": false,
    "slideshow": {
     "slide_type": "slide"
    }
   },
   "outputs": [
    {
     "data": {
      "text/html": [
       "\n",
       "\n",
       "    <div class=\"plotdiv\" id=\"c7fb05ea-3d49-4b9c-ab86-c6e4dd4222ca\"></div>\n",
       "<script type=\"text/javascript\">\n",
       "  \n",
       "  (function(global) {\n",
       "    function now() {\n",
       "      return new Date();\n",
       "    }\n",
       "  \n",
       "    if (typeof (window._bokeh_onload_callbacks) === \"undefined\") {\n",
       "      window._bokeh_onload_callbacks = [];\n",
       "    }\n",
       "  \n",
       "    function run_callbacks() {\n",
       "      window._bokeh_onload_callbacks.forEach(function(callback) { callback() });\n",
       "      delete window._bokeh_onload_callbacks\n",
       "      console.info(\"Bokeh: all callbacks have finished\");\n",
       "    }\n",
       "  \n",
       "    function load_libs(js_urls, callback) {\n",
       "      window._bokeh_onload_callbacks.push(callback);\n",
       "      if (window._bokeh_is_loading > 0) {\n",
       "        console.log(\"Bokeh: BokehJS is being loaded, scheduling callback at\", now());\n",
       "        return null;\n",
       "      }\n",
       "      if (js_urls == null || js_urls.length === 0) {\n",
       "        run_callbacks();\n",
       "        return null;\n",
       "      }\n",
       "      console.log(\"Bokeh: BokehJS not loaded, scheduling load and callback at\", now());\n",
       "      window._bokeh_is_loading = js_urls.length;\n",
       "      for (var i = 0; i < js_urls.length; i++) {\n",
       "        var url = js_urls[i];\n",
       "        var s = document.createElement('script');\n",
       "        s.src = url;\n",
       "        s.async = false;\n",
       "        s.onreadystatechange = s.onload = function() {\n",
       "          window._bokeh_is_loading--;\n",
       "          if (window._bokeh_is_loading === 0) {\n",
       "            console.log(\"Bokeh: all BokehJS libraries loaded\");\n",
       "            run_callbacks()\n",
       "          }\n",
       "        };\n",
       "        s.onerror = function() {\n",
       "          console.warn(\"failed to load library \" + url);\n",
       "        };\n",
       "        console.log(\"Bokeh: injecting script tag for BokehJS library: \", url);\n",
       "        document.getElementsByTagName(\"head\")[0].appendChild(s);\n",
       "      }\n",
       "    };var element = document.getElementById(\"c7fb05ea-3d49-4b9c-ab86-c6e4dd4222ca\");\n",
       "    if (element == null) {\n",
       "      console.log(\"Bokeh: ERROR: autoload.js configured with elementid 'c7fb05ea-3d49-4b9c-ab86-c6e4dd4222ca' but no matching script tag was found. \")\n",
       "      return false;\n",
       "    }\n",
       "  \n",
       "    var js_urls = [];\n",
       "  \n",
       "    var inline_js = [\n",
       "      function(Bokeh) {\n",
       "        Bokeh.$(function() {\n",
       "            var docs_json = {\"322aa9d3-26d0-415b-a26f-e2cae5d0d8da\":{\"roots\":{\"references\":[{\"attributes\":{\"data_source\":{\"id\":\"aaa3c181-c515-41b5-a898-d35c1b697769\",\"type\":\"ColumnDataSource\"},\"glyph\":{\"id\":\"87b1e45f-847a-4d13-97e0-6b9f1dffc0b6\",\"type\":\"Rect\"},\"hover_glyph\":null,\"nonselection_glyph\":null,\"selection_glyph\":null},\"id\":\"d0cbb081-4532-4173-8524-8e6b4125e8ff\",\"type\":\"GlyphRenderer\"},{\"attributes\":{\"fill_alpha\":{\"field\":\"fill_alpha\"},\"fill_color\":{\"field\":\"color\"},\"height\":{\"field\":\"height\",\"units\":\"data\"},\"line_color\":{\"field\":\"line_color\"},\"width\":{\"field\":\"width\",\"units\":\"data\"},\"x\":{\"field\":\"x\"},\"y\":{\"field\":\"y\"}},\"id\":\"2991602e-64ee-43b3-b261-79014d368f61\",\"type\":\"Rect\"},{\"attributes\":{},\"id\":\"ccd3b0ac-e113-4b55-b672-00f9db6e6b4f\",\"type\":\"BasicTickFormatter\"},{\"attributes\":{\"fill_alpha\":{\"field\":\"fill_alpha\"},\"fill_color\":{\"field\":\"color\"},\"height\":{\"field\":\"height\",\"units\":\"data\"},\"line_color\":{\"field\":\"line_color\"},\"width\":{\"field\":\"width\",\"units\":\"data\"},\"x\":{\"field\":\"x\"},\"y\":{\"field\":\"y\"}},\"id\":\"f4218831-f90d-4093-ac18-ee110d915e74\",\"type\":\"Rect\"},{\"attributes\":{\"fill_alpha\":{\"field\":\"fill_alpha\"},\"fill_color\":{\"field\":\"color\"},\"height\":{\"field\":\"height\",\"units\":\"data\"},\"line_color\":{\"field\":\"line_color\"},\"width\":{\"field\":\"width\",\"units\":\"data\"},\"x\":{\"field\":\"x\"},\"y\":{\"field\":\"y\"}},\"id\":\"858fc79e-ac04-4ae7-a06a-057e0a486ee6\",\"type\":\"Rect\"},{\"attributes\":{\"formatter\":{\"id\":\"a7b457dd-3af4-4903-a2c0-b5ecd5fe12c0\",\"type\":\"CategoricalTickFormatter\"},\"major_label_orientation\":0.7853981633974483,\"plot\":{\"id\":\"6efe7365-8698-4e9a-b95d-06c8715f4ec4\",\"subtype\":\"Chart\",\"type\":\"Plot\"},\"ticker\":{\"id\":\"f727eb03-6e1f-4447-b364-1ce446831f70\",\"type\":\"CategoricalTicker\"}},\"id\":\"3931045a-038e-499b-aabb-da0ab7baeaf8\",\"type\":\"CategoricalAxis\"},{\"attributes\":{\"data_source\":{\"id\":\"f95c4cd7-ce43-4df5-935f-0bda6e9b02b7\",\"type\":\"ColumnDataSource\"},\"glyph\":{\"id\":\"41a3c262-a579-4747-839d-459c4ad538d7\",\"type\":\"Rect\"},\"hover_glyph\":null,\"nonselection_glyph\":null,\"selection_glyph\":null},\"id\":\"a86740b4-f733-44c3-b137-7772bb2c4d83\",\"type\":\"GlyphRenderer\"},{\"attributes\":{\"callback\":null,\"column_names\":[\"x\",\"line_color\",\"width\",\"fill_alpha\",\"color\",\"height\",\"y\",\"line_alpha\"],\"data\":{\"chart_index\":[{\"index\":\"Prostate\"}],\"color\":[\"#f22c40\"],\"fill_alpha\":[0.8],\"height\":[190.0],\"index\":[\"Prostate\"],\"line_alpha\":[1.0],\"line_color\":[\"white\"],\"width\":[0.8],\"x\":[\"Prostate\"],\"y\":[95.0]}},\"id\":\"5074345c-c299-4fff-8201-69d8b1433537\",\"type\":\"ColumnDataSource\"},{\"attributes\":{\"formatter\":{\"id\":\"e3b6e8ea-45d7-42d8-b5ae-e67ef829fe77\",\"type\":\"CategoricalTickFormatter\"},\"major_label_orientation\":0.7853981633974483,\"plot\":{\"id\":\"07d070dc-14a2-4a0e-b14a-9d0891c44adb\",\"subtype\":\"Chart\",\"type\":\"Plot\"},\"ticker\":{\"id\":\"59c16b45-b383-4b7d-97f2-d3863c7cc93e\",\"type\":\"CategoricalTicker\"}},\"id\":\"cc480451-3e43-458b-a0da-aeed07a04a00\",\"type\":\"CategoricalAxis\"},{\"attributes\":{\"fill_alpha\":{\"field\":\"fill_alpha\"},\"fill_color\":{\"field\":\"color\"},\"height\":{\"field\":\"height\",\"units\":\"data\"},\"line_color\":{\"field\":\"line_color\"},\"width\":{\"field\":\"width\",\"units\":\"data\"},\"x\":{\"field\":\"x\"},\"y\":{\"field\":\"y\"}},\"id\":\"e1b9ebbc-d512-4485-8cdb-5d25a2ca85c7\",\"type\":\"Rect\"},{\"attributes\":{\"callback\":null,\"column_names\":[\"x\",\"line_color\",\"width\",\"fill_alpha\",\"color\",\"height\",\"y\",\"line_alpha\"],\"data\":{\"chart_index\":[{\"index\":\"NHL - Nodal\"}],\"color\":[\"#f22c40\"],\"fill_alpha\":[0.8],\"height\":[31.0],\"index\":[\"NHL - Nodal\"],\"line_alpha\":[1.0],\"line_color\":[\"white\"],\"width\":[0.8],\"x\":[\"NHL - Nodal\"],\"y\":[15.5]}},\"id\":\"d6745367-e08b-4007-97d3-2bc425e00ecb\",\"type\":\"ColumnDataSource\"},{\"attributes\":{\"fill_alpha\":{\"field\":\"fill_alpha\"},\"fill_color\":{\"field\":\"color\"},\"height\":{\"field\":\"height\",\"units\":\"data\"},\"line_color\":{\"field\":\"line_color\"},\"width\":{\"field\":\"width\",\"units\":\"data\"},\"x\":{\"field\":\"x\"},\"y\":{\"field\":\"y\"}},\"id\":\"5f15eab1-54de-4122-8a54-ec575d852227\",\"type\":\"Rect\"},{\"attributes\":{\"data_source\":{\"id\":\"eb403c38-b8c3-457a-a7ca-99284242b392\",\"type\":\"ColumnDataSource\"},\"glyph\":{\"id\":\"539091a5-ec00-4391-9077-ad36d7b2f001\",\"type\":\"Rect\"},\"hover_glyph\":null,\"nonselection_glyph\":null,\"selection_glyph\":null},\"id\":\"8d64a6cd-3195-4088-b94a-2ea6f13a350d\",\"type\":\"GlyphRenderer\"},{\"attributes\":{\"formatter\":{\"id\":\"0744f47f-3f11-498d-9908-0136fe580119\",\"type\":\"CategoricalTickFormatter\"},\"major_label_orientation\":0.7853981633974483,\"plot\":{\"id\":\"47d9d0d6-6a32-47c5-9b9d-244c95592545\",\"subtype\":\"Chart\",\"type\":\"Plot\"},\"ticker\":{\"id\":\"d88ef595-9ea3-48bb-acb1-dc82f7c34258\",\"type\":\"CategoricalTicker\"}},\"id\":\"2ca8417c-b5c7-4353-8f5a-b3000b16c6da\",\"type\":\"CategoricalAxis\"},{\"attributes\":{\"fill_alpha\":{\"field\":\"fill_alpha\"},\"fill_color\":{\"field\":\"color\"},\"height\":{\"field\":\"height\",\"units\":\"data\"},\"line_color\":{\"field\":\"line_color\"},\"width\":{\"field\":\"width\",\"units\":\"data\"},\"x\":{\"field\":\"x\"},\"y\":{\"field\":\"y\"}},\"id\":\"4e7e663f-d329-44ae-b7b9-428d2316c9b2\",\"type\":\"Rect\"},{\"attributes\":{\"overlay\":{\"id\":\"f032756b-d3ae-4f00-8fef-3cbd558716af\",\"type\":\"BoxAnnotation\"},\"plot\":{\"id\":\"6efe7365-8698-4e9a-b95d-06c8715f4ec4\",\"subtype\":\"Chart\",\"type\":\"Plot\"}},\"id\":\"44227dcb-acb8-4fb4-ab61-12433e3cb535\",\"type\":\"BoxZoomTool\"},{\"attributes\":{\"callback\":null,\"column_names\":[\"x\",\"line_color\",\"width\",\"fill_alpha\",\"color\",\"height\",\"y\",\"line_alpha\"],\"data\":{\"chart_index\":[{\"index\":\"Urinary Bladder\"}],\"color\":[\"#f22c40\"],\"fill_alpha\":[0.8],\"height\":[39.0],\"index\":[\"Urinary Bladder\"],\"line_alpha\":[1.0],\"line_color\":[\"white\"],\"width\":[0.8],\"x\":[\"Urinary Bladder\"],\"y\":[19.5]}},\"id\":\"50c834d3-4ee0-4881-b108-661893b7e654\",\"type\":\"ColumnDataSource\"},{\"attributes\":{},\"id\":\"95ce8f33-4572-4566-882d-0964c57c7a1f\",\"type\":\"BasicTickFormatter\"},{\"attributes\":{\"data_source\":{\"id\":\"0e9f1dbb-7e27-4450-b20c-9fe7479ae6cb\",\"type\":\"ColumnDataSource\"},\"glyph\":{\"id\":\"30e30ed5-31a8-41ec-8443-56c96b5c5652\",\"type\":\"Rect\"},\"hover_glyph\":null,\"nonselection_glyph\":null,\"selection_glyph\":null},\"id\":\"f5341261-950a-44e0-afb5-7e426c5e6b6f\",\"type\":\"GlyphRenderer\"},{\"attributes\":{\"dimension\":1,\"plot\":{\"id\":\"6f7701e9-a28d-4c49-968b-a16ba937a1fd\",\"subtype\":\"Chart\",\"type\":\"Plot\"},\"ticker\":{\"id\":\"c700bd91-64ba-4862-9d6b-acb8b269caf1\",\"type\":\"BasicTicker\"}},\"id\":\"3ed7b388-ecb5-44a5-af07-e0603f07c3aa\",\"type\":\"Grid\"},{\"attributes\":{\"callback\":null,\"column_names\":[\"x\",\"line_color\",\"width\",\"fill_alpha\",\"color\",\"height\",\"y\",\"line_alpha\"],\"data\":{\"chart_index\":[{\"index\":\"Chronic Lymphocytic Leukemia\"}],\"color\":[\"#f22c40\"],\"fill_alpha\":[0.8],\"height\":[28.0],\"index\":[\"Chronic Lymphocytic Leukemia\"],\"line_alpha\":[1.0],\"line_color\":[\"white\"],\"width\":[0.8],\"x\":[\"Chronic Lymphocytic Leukemia\"],\"y\":[14.0]}},\"id\":\"ca2051db-5247-4698-859d-e24246905f78\",\"type\":\"ColumnDataSource\"},{\"attributes\":{\"axis_label\":\"Sum( Siterwho1 )\",\"formatter\":{\"id\":\"1645f0db-83e9-44bf-937f-8283ee65d60e\",\"type\":\"BasicTickFormatter\"},\"plot\":{\"id\":\"6efe7365-8698-4e9a-b95d-06c8715f4ec4\",\"subtype\":\"Chart\",\"type\":\"Plot\"},\"ticker\":{\"id\":\"d77d0b7c-3e90-4c6c-a460-6372806cfceb\",\"type\":\"BasicTicker\"}},\"id\":\"069ecf1c-3700-4229-addb-673f04171b9a\",\"type\":\"LinearAxis\"},{\"attributes\":{\"callback\":null,\"column_names\":[\"x\",\"line_color\",\"width\",\"fill_alpha\",\"color\",\"height\",\"y\",\"line_alpha\"],\"data\":{\"chart_index\":[{\"index\":\"Melanoma of the Skin\"}],\"color\":[\"#f22c40\"],\"fill_alpha\":[0.8],\"height\":[96.0],\"index\":[\"Melanoma of the Skin\"],\"line_alpha\":[1.0],\"line_color\":[\"white\"],\"width\":[0.8],\"x\":[\"Melanoma of the Skin\"],\"y\":[48.0]}},\"id\":\"7dafa5b6-5681-4bd7-a004-563b450c7754\",\"type\":\"ColumnDataSource\"},{\"attributes\":{\"callback\":null,\"column_names\":[\"x\",\"line_color\",\"width\",\"fill_alpha\",\"color\",\"height\",\"y\",\"line_alpha\"],\"data\":{\"chart_index\":[{\"index\":\"Breast\"}],\"color\":[\"#f22c40\"],\"fill_alpha\":[0.8],\"height\":[131.0],\"index\":[\"Breast\"],\"line_alpha\":[1.0],\"line_color\":[\"white\"],\"width\":[0.8],\"x\":[\"Breast\"],\"y\":[65.5]}},\"id\":\"8b878802-a0ce-4747-9381-9fb1e77902e7\",\"type\":\"ColumnDataSource\"},{\"attributes\":{\"fill_alpha\":{\"field\":\"fill_alpha\"},\"fill_color\":{\"field\":\"color\"},\"height\":{\"field\":\"height\",\"units\":\"data\"},\"line_color\":{\"field\":\"line_color\"},\"width\":{\"field\":\"width\",\"units\":\"data\"},\"x\":{\"field\":\"x\"},\"y\":{\"field\":\"y\"}},\"id\":\"0188d39b-5fe8-435f-ad4e-d6022bd57e81\",\"type\":\"Rect\"},{\"attributes\":{\"callback\":null,\"column_names\":[\"x\",\"line_color\",\"width\",\"fill_alpha\",\"color\",\"height\",\"y\",\"line_alpha\"],\"data\":{\"chart_index\":[{\"index\":\"NHL - Nodal\"}],\"color\":[\"#f22c40\"],\"fill_alpha\":[0.8],\"height\":[31.0],\"index\":[\"NHL - Nodal\"],\"line_alpha\":[1.0],\"line_color\":[\"white\"],\"width\":[0.8],\"x\":[\"NHL - Nodal\"],\"y\":[15.5]}},\"id\":\"d67aa6ca-58bd-4ed5-9850-cad877f75e73\",\"type\":\"ColumnDataSource\"},{\"attributes\":{\"fill_alpha\":{\"field\":\"fill_alpha\"},\"fill_color\":{\"field\":\"color\"},\"height\":{\"field\":\"height\",\"units\":\"data\"},\"line_color\":{\"field\":\"line_color\"},\"width\":{\"field\":\"width\",\"units\":\"data\"},\"x\":{\"field\":\"x\"},\"y\":{\"field\":\"y\"}},\"id\":\"2f0f646f-2bca-4f9d-ac9b-b32ba9eb23e1\",\"type\":\"Rect\"},{\"attributes\":{\"callback\":null,\"factors\":[\"Breast\",\"Chronic Lymphocytic Leukemia\",\"Kidney and Renal Pelvis\",\"Lung and Bronchus\",\"Melanoma of the Skin\",\"NHL - Nodal\",\"Prostate\",\"Salivary Gland\",\"Thyroid\",\"Urinary Bladder\"]},\"id\":\"8ab922c7-2b8f-4b93-8a5f-4d8d8c3330bf\",\"type\":\"FactorRange\"},{\"attributes\":{\"data_source\":{\"id\":\"d67aa6ca-58bd-4ed5-9850-cad877f75e73\",\"type\":\"ColumnDataSource\"},\"glyph\":{\"id\":\"7e0dc7c9-4a9c-41a7-88dc-72bd0df1eb4d\",\"type\":\"Rect\"},\"hover_glyph\":null,\"nonselection_glyph\":null,\"selection_glyph\":null},\"id\":\"bf26df66-97de-4f19-bd04-da0c0dbfa7c7\",\"type\":\"GlyphRenderer\"},{\"attributes\":{\"data_source\":{\"id\":\"4639bbf9-939f-4ce9-8cc3-a165c5d488a3\",\"type\":\"ColumnDataSource\"},\"glyph\":{\"id\":\"2967e6ef-f0ce-4b85-b58c-7fee6284ee9e\",\"type\":\"Rect\"},\"hover_glyph\":null,\"nonselection_glyph\":null,\"selection_glyph\":null},\"id\":\"c081f02b-1830-4462-8ce1-19ec7e288060\",\"type\":\"GlyphRenderer\"},{\"attributes\":{\"plot\":{\"id\":\"07d070dc-14a2-4a0e-b14a-9d0891c44adb\",\"subtype\":\"Chart\",\"type\":\"Plot\"}},\"id\":\"bc5ce69d-a84c-498b-bb9f-2249a1d46afa\",\"type\":\"ResetTool\"},{\"attributes\":{\"below\":[{\"id\":\"35161f1f-4dce-4981-8f2d-539af00fda1a\",\"type\":\"CategoricalAxis\"}],\"left\":[{\"id\":\"53e2dfef-6f22-48d5-b811-352d81ae353d\",\"type\":\"LinearAxis\"}],\"legend\":null,\"renderers\":[{\"id\":\"d745bef3-7bf1-44e1-8309-bb8645356250\",\"type\":\"BoxAnnotation\"},{\"id\":\"dafa8fb8-0a7f-4d0a-be04-864711b59cc1\",\"type\":\"GlyphRenderer\"},{\"id\":\"5de5555e-4a05-431a-b283-ede3cb476e27\",\"type\":\"GlyphRenderer\"},{\"id\":\"21e8f12d-dc07-438c-8c52-bffe7e1c5c34\",\"type\":\"GlyphRenderer\"},{\"id\":\"bf26df66-97de-4f19-bd04-da0c0dbfa7c7\",\"type\":\"GlyphRenderer\"},{\"id\":\"36ecc8fc-3250-45db-8968-1cb750391956\",\"type\":\"GlyphRenderer\"},{\"id\":\"ac0f5989-d015-45c1-bde4-a7a22ed35d04\",\"type\":\"GlyphRenderer\"},{\"id\":\"ab0d1d26-1c97-49fe-b422-b9afaa7272c5\",\"type\":\"GlyphRenderer\"},{\"id\":\"8d64a6cd-3195-4088-b94a-2ea6f13a350d\",\"type\":\"GlyphRenderer\"},{\"id\":\"4e68bbd8-75ca-42ed-939e-3ef447ea7187\",\"type\":\"GlyphRenderer\"},{\"id\":\"735143cf-1bcd-4ec5-a667-b27dc60c8f5f\",\"type\":\"GlyphRenderer\"},{\"id\":\"35161f1f-4dce-4981-8f2d-539af00fda1a\",\"type\":\"CategoricalAxis\"},{\"id\":\"53e2dfef-6f22-48d5-b811-352d81ae353d\",\"type\":\"LinearAxis\"},{\"id\":\"3ed7b388-ecb5-44a5-af07-e0603f07c3aa\",\"type\":\"Grid\"}],\"title_text_font_size\":{\"value\":\"14pt\"},\"tool_events\":{\"id\":\"3c587165-427e-47e1-862a-1af776f0a8ef\",\"type\":\"ToolEvents\"},\"tools\":[{\"id\":\"f44c7f95-c230-4fe3-a125-b4c4f9bc5b12\",\"type\":\"PanTool\"},{\"id\":\"de1434ee-0fa7-4a81-8ba5-f66956f11470\",\"type\":\"WheelZoomTool\"},{\"id\":\"31672b02-2f74-4835-9fdd-1e7c56fcedc3\",\"type\":\"BoxZoomTool\"},{\"id\":\"b943f642-ce16-476c-83d3-34a1f7bff04f\",\"type\":\"PreviewSaveTool\"},{\"id\":\"ff03fc74-a4be-4910-8cb7-74aa9f919ea2\",\"type\":\"ResizeTool\"},{\"id\":\"d64122bf-3f78-43ce-9026-53d029a0ce04\",\"type\":\"ResetTool\"},{\"id\":\"b077cfc8-2782-4da7-a30d-7857804396d2\",\"type\":\"HelpTool\"}],\"x_mapper_type\":\"auto\",\"x_range\":{\"id\":\"36653d7f-66b9-4006-a406-84846be94c5f\",\"type\":\"FactorRange\"},\"xgrid\":false,\"xscale\":\"auto\",\"y_mapper_type\":\"auto\",\"y_range\":{\"id\":\"b36ca9ed-2132-41a9-a767-69bc166f9be5\",\"type\":\"Range1d\"},\"yscale\":\"auto\"},\"id\":\"6f7701e9-a28d-4c49-968b-a16ba937a1fd\",\"subtype\":\"Chart\",\"type\":\"Plot\"},{\"attributes\":{\"data_source\":{\"id\":\"29f119fe-3eae-4c0b-98ed-4f3dcbe548f4\",\"type\":\"ColumnDataSource\"},\"glyph\":{\"id\":\"f5731774-158f-45a9-9e93-65d03ce7dea6\",\"type\":\"Rect\"},\"hover_glyph\":null,\"nonselection_glyph\":null,\"selection_glyph\":null},\"id\":\"0d271012-ce67-404c-ab12-3d3642e4475e\",\"type\":\"GlyphRenderer\"},{\"attributes\":{\"callback\":null,\"factors\":[\"Breast\",\"Chronic Lymphocytic Leukemia\",\"Kidney and Renal Pelvis\",\"Lung and Bronchus\",\"Melanoma of the Skin\",\"NHL - Nodal\",\"Prostate\",\"Salivary Gland\",\"Thyroid\",\"Urinary Bladder\"]},\"id\":\"29d54b4f-7454-49ad-893e-485526b649be\",\"type\":\"FactorRange\"},{\"attributes\":{\"plot\":{\"id\":\"6efe7365-8698-4e9a-b95d-06c8715f4ec4\",\"subtype\":\"Chart\",\"type\":\"Plot\"}},\"id\":\"09b2ac0c-c3e9-4c25-8225-33ce6e8711be\",\"type\":\"ResizeTool\"},{\"attributes\":{\"callback\":null,\"column_names\":[\"x\",\"line_color\",\"width\",\"fill_alpha\",\"color\",\"height\",\"y\",\"line_alpha\"],\"data\":{\"chart_index\":[{\"index\":\"Melanoma of the Skin\"}],\"color\":[\"#f22c40\"],\"fill_alpha\":[0.8],\"height\":[96.0],\"index\":[\"Melanoma of the Skin\"],\"line_alpha\":[1.0],\"line_color\":[\"white\"],\"width\":[0.8],\"x\":[\"Melanoma of the Skin\"],\"y\":[48.0]}},\"id\":\"587c0c53-17c0-49a3-9553-1500d45bb852\",\"type\":\"ColumnDataSource\"},{\"attributes\":{\"data_source\":{\"id\":\"93b81515-61fd-4fed-b06c-333a99ccf746\",\"type\":\"ColumnDataSource\"},\"glyph\":{\"id\":\"2aadb2b9-e41a-4a79-83cf-5d1853a90de5\",\"type\":\"Rect\"},\"hover_glyph\":null,\"nonselection_glyph\":null,\"selection_glyph\":null},\"id\":\"db151e31-0efb-438a-b96f-593a47cd2270\",\"type\":\"GlyphRenderer\"},{\"attributes\":{},\"id\":\"d77d0b7c-3e90-4c6c-a460-6372806cfceb\",\"type\":\"BasicTicker\"},{\"attributes\":{\"fill_alpha\":{\"field\":\"fill_alpha\"},\"fill_color\":{\"field\":\"color\"},\"height\":{\"field\":\"height\",\"units\":\"data\"},\"line_color\":{\"field\":\"line_color\"},\"width\":{\"field\":\"width\",\"units\":\"data\"},\"x\":{\"field\":\"x\"},\"y\":{\"field\":\"y\"}},\"id\":\"30e30ed5-31a8-41ec-8443-56c96b5c5652\",\"type\":\"Rect\"},{\"attributes\":{\"data_source\":{\"id\":\"943d2ef5-d667-49e2-aff9-dee24ed34e25\",\"type\":\"ColumnDataSource\"},\"glyph\":{\"id\":\"858fc79e-ac04-4ae7-a06a-057e0a486ee6\",\"type\":\"Rect\"},\"hover_glyph\":null,\"nonselection_glyph\":null,\"selection_glyph\":null},\"id\":\"ac0f5989-d015-45c1-bde4-a7a22ed35d04\",\"type\":\"GlyphRenderer\"},{\"attributes\":{\"fill_alpha\":{\"field\":\"fill_alpha\"},\"fill_color\":{\"field\":\"color\"},\"height\":{\"field\":\"height\",\"units\":\"data\"},\"line_color\":{\"field\":\"line_color\"},\"width\":{\"field\":\"width\",\"units\":\"data\"},\"x\":{\"field\":\"x\"},\"y\":{\"field\":\"y\"}},\"id\":\"6614ab38-9b07-4e8c-bdcb-4d9f794118fb\",\"type\":\"Rect\"},{\"attributes\":{\"data_source\":{\"id\":\"e58478ce-5109-4c53-b3a3-ec31afa7849c\",\"type\":\"ColumnDataSource\"},\"glyph\":{\"id\":\"b3d3f24c-99b0-4552-9aa0-0c10327fcdb4\",\"type\":\"Rect\"},\"hover_glyph\":null,\"nonselection_glyph\":null,\"selection_glyph\":null},\"id\":\"dff079e5-50b2-47cb-a945-4d0bb2cca6ba\",\"type\":\"GlyphRenderer\"},{\"attributes\":{\"callback\":null,\"column_names\":[\"x\",\"line_color\",\"width\",\"fill_alpha\",\"color\",\"height\",\"y\",\"line_alpha\"],\"data\":{\"chart_index\":[{\"index\":\"Lung and Bronchus\"}],\"color\":[\"#f22c40\"],\"fill_alpha\":[0.8],\"height\":[33.0],\"index\":[\"Lung and Bronchus\"],\"line_alpha\":[1.0],\"line_color\":[\"white\"],\"width\":[0.8],\"x\":[\"Lung and Bronchus\"],\"y\":[16.5]}},\"id\":\"dde3ede4-2078-4372-99c8-005d960478bf\",\"type\":\"ColumnDataSource\"},{\"attributes\":{\"data_source\":{\"id\":\"ca0f945e-47bc-4295-9ee9-d0af7dca9161\",\"type\":\"ColumnDataSource\"},\"glyph\":{\"id\":\"286eddbc-c24f-43b3-b9e2-dc26b44dd8b7\",\"type\":\"Rect\"},\"hover_glyph\":null,\"nonselection_glyph\":null,\"selection_glyph\":null},\"id\":\"9177100c-f851-4a5b-9c93-2defefeebf58\",\"type\":\"GlyphRenderer\"},{\"attributes\":{},\"id\":\"3c587165-427e-47e1-862a-1af776f0a8ef\",\"type\":\"ToolEvents\"},{\"attributes\":{\"callback\":null,\"column_names\":[\"x\",\"line_color\",\"width\",\"fill_alpha\",\"color\",\"height\",\"y\",\"line_alpha\"],\"data\":{\"chart_index\":[{\"index\":\"Thyroid\"}],\"color\":[\"#f22c40\"],\"fill_alpha\":[0.8],\"height\":[26.0],\"index\":[\"Thyroid\"],\"line_alpha\":[1.0],\"line_color\":[\"white\"],\"width\":[0.8],\"x\":[\"Thyroid\"],\"y\":[13.0]}},\"id\":\"15af02a9-81b0-46b0-9942-3206020d5ba7\",\"type\":\"ColumnDataSource\"},{\"attributes\":{\"data_source\":{\"id\":\"d6745367-e08b-4007-97d3-2bc425e00ecb\",\"type\":\"ColumnDataSource\"},\"glyph\":{\"id\":\"362c2dc7-846a-492d-acc0-cb3555a22072\",\"type\":\"Rect\"},\"hover_glyph\":null,\"nonselection_glyph\":null,\"selection_glyph\":null},\"id\":\"82127b15-106d-4103-a964-2cf1aa387538\",\"type\":\"GlyphRenderer\"},{\"attributes\":{},\"id\":\"f727eb03-6e1f-4447-b364-1ce446831f70\",\"type\":\"CategoricalTicker\"},{\"attributes\":{\"plot\":{\"id\":\"47d9d0d6-6a32-47c5-9b9d-244c95592545\",\"subtype\":\"Chart\",\"type\":\"Plot\"}},\"id\":\"ace111d3-f520-49bd-9091-689e51bb8205\",\"type\":\"ResizeTool\"},{\"attributes\":{\"fill_alpha\":{\"field\":\"fill_alpha\"},\"fill_color\":{\"field\":\"color\"},\"height\":{\"field\":\"height\",\"units\":\"data\"},\"line_color\":{\"field\":\"line_color\"},\"width\":{\"field\":\"width\",\"units\":\"data\"},\"x\":{\"field\":\"x\"},\"y\":{\"field\":\"y\"}},\"id\":\"ef86e915-1b89-43d9-a68d-c18aee834325\",\"type\":\"Rect\"},{\"attributes\":{},\"id\":\"6647aa79-d92f-4444-a0cb-d0596b1ff874\",\"type\":\"BasicTicker\"},{\"attributes\":{\"fill_alpha\":{\"field\":\"fill_alpha\"},\"fill_color\":{\"field\":\"color\"},\"height\":{\"field\":\"height\",\"units\":\"data\"},\"line_color\":{\"field\":\"line_color\"},\"width\":{\"field\":\"width\",\"units\":\"data\"},\"x\":{\"field\":\"x\"},\"y\":{\"field\":\"y\"}},\"id\":\"fcfc04e2-943a-4da5-990f-823f30e13c79\",\"type\":\"Rect\"},{\"attributes\":{\"data_source\":{\"id\":\"a7142c6d-3eff-4a10-bc19-d3a5664fdf82\",\"type\":\"ColumnDataSource\"},\"glyph\":{\"id\":\"e1b9ebbc-d512-4485-8cdb-5d25a2ca85c7\",\"type\":\"Rect\"},\"hover_glyph\":null,\"nonselection_glyph\":null,\"selection_glyph\":null},\"id\":\"ad66d128-19a6-4adf-9ab8-8fc4fd1fc817\",\"type\":\"GlyphRenderer\"},{\"attributes\":{\"callback\":null,\"column_names\":[\"x\",\"line_color\",\"width\",\"fill_alpha\",\"color\",\"height\",\"y\",\"line_alpha\"],\"data\":{\"chart_index\":[{\"index\":\"Breast\"}],\"color\":[\"#f22c40\"],\"fill_alpha\":[0.8],\"height\":[131.0],\"index\":[\"Breast\"],\"line_alpha\":[1.0],\"line_color\":[\"white\"],\"width\":[0.8],\"x\":[\"Breast\"],\"y\":[65.5]}},\"id\":\"eb403c38-b8c3-457a-a7ca-99284242b392\",\"type\":\"ColumnDataSource\"},{\"attributes\":{\"data_source\":{\"id\":\"50c834d3-4ee0-4881-b108-661893b7e654\",\"type\":\"ColumnDataSource\"},\"glyph\":{\"id\":\"6614ab38-9b07-4e8c-bdcb-4d9f794118fb\",\"type\":\"Rect\"},\"hover_glyph\":null,\"nonselection_glyph\":null,\"selection_glyph\":null},\"id\":\"636afacc-566f-4a2c-bdf7-46ee70c450d0\",\"type\":\"GlyphRenderer\"},{\"attributes\":{\"axis_label\":\"Sum( Siterwho1 )\",\"formatter\":{\"id\":\"58279990-b467-4503-bb20-e1cde04a7942\",\"type\":\"BasicTickFormatter\"},\"plot\":{\"id\":\"6f7701e9-a28d-4c49-968b-a16ba937a1fd\",\"subtype\":\"Chart\",\"type\":\"Plot\"},\"ticker\":{\"id\":\"c700bd91-64ba-4862-9d6b-acb8b269caf1\",\"type\":\"BasicTicker\"}},\"id\":\"53e2dfef-6f22-48d5-b811-352d81ae353d\",\"type\":\"LinearAxis\"},{\"attributes\":{\"fill_alpha\":{\"field\":\"fill_alpha\"},\"fill_color\":{\"field\":\"color\"},\"height\":{\"field\":\"height\",\"units\":\"data\"},\"line_color\":{\"field\":\"line_color\"},\"width\":{\"field\":\"width\",\"units\":\"data\"},\"x\":{\"field\":\"x\"},\"y\":{\"field\":\"y\"}},\"id\":\"001deee7-3758-48a7-85aa-708fb97c4474\",\"type\":\"Rect\"},{\"attributes\":{\"data_source\":{\"id\":\"0694c961-2f33-4204-a81a-58a14c578790\",\"type\":\"ColumnDataSource\"},\"glyph\":{\"id\":\"74f8c52c-9306-4f6c-9b41-44f9453d1342\",\"type\":\"Rect\"},\"hover_glyph\":null,\"nonselection_glyph\":null,\"selection_glyph\":null},\"id\":\"ab0d1d26-1c97-49fe-b422-b9afaa7272c5\",\"type\":\"GlyphRenderer\"},{\"attributes\":{\"data_source\":{\"id\":\"5074345c-c299-4fff-8201-69d8b1433537\",\"type\":\"ColumnDataSource\"},\"glyph\":{\"id\":\"0188d39b-5fe8-435f-ad4e-d6022bd57e81\",\"type\":\"Rect\"},\"hover_glyph\":null,\"nonselection_glyph\":null,\"selection_glyph\":null},\"id\":\"4e68bbd8-75ca-42ed-939e-3ef447ea7187\",\"type\":\"GlyphRenderer\"},{\"attributes\":{\"fill_alpha\":{\"field\":\"fill_alpha\"},\"fill_color\":{\"field\":\"color\"},\"height\":{\"field\":\"height\",\"units\":\"data\"},\"line_color\":{\"field\":\"line_color\"},\"width\":{\"field\":\"width\",\"units\":\"data\"},\"x\":{\"field\":\"x\"},\"y\":{\"field\":\"y\"}},\"id\":\"74f8c52c-9306-4f6c-9b41-44f9453d1342\",\"type\":\"Rect\"},{\"attributes\":{},\"id\":\"e49d8b00-a9eb-47ce-abb3-388e80b39feb\",\"type\":\"ToolEvents\"},{\"attributes\":{\"fill_alpha\":{\"field\":\"fill_alpha\"},\"fill_color\":{\"field\":\"color\"},\"height\":{\"field\":\"height\",\"units\":\"data\"},\"line_color\":{\"field\":\"line_color\"},\"width\":{\"field\":\"width\",\"units\":\"data\"},\"x\":{\"field\":\"x\"},\"y\":{\"field\":\"y\"}},\"id\":\"b98df9b1-ddbc-4d58-9531-064a1c2f584e\",\"type\":\"Rect\"},{\"attributes\":{\"plot\":{\"id\":\"6f7701e9-a28d-4c49-968b-a16ba937a1fd\",\"subtype\":\"Chart\",\"type\":\"Plot\"}},\"id\":\"b077cfc8-2782-4da7-a30d-7857804396d2\",\"type\":\"HelpTool\"},{\"attributes\":{},\"id\":\"257d3b2e-b462-4e8f-bad5-88d88edd7623\",\"type\":\"ToolEvents\"},{\"attributes\":{\"fill_alpha\":{\"field\":\"fill_alpha\"},\"fill_color\":{\"field\":\"color\"},\"height\":{\"field\":\"height\",\"units\":\"data\"},\"line_color\":{\"field\":\"line_color\"},\"width\":{\"field\":\"width\",\"units\":\"data\"},\"x\":{\"field\":\"x\"},\"y\":{\"field\":\"y\"}},\"id\":\"c484dbca-bbad-484b-8337-d5c8932ea54f\",\"type\":\"Rect\"},{\"attributes\":{\"plot\":{\"id\":\"07d070dc-14a2-4a0e-b14a-9d0891c44adb\",\"subtype\":\"Chart\",\"type\":\"Plot\"}},\"id\":\"be0dcdab-7517-48b5-a540-c439d7b3e6ae\",\"type\":\"PanTool\"},{\"attributes\":{\"callback\":null,\"column_names\":[\"x\",\"line_color\",\"width\",\"fill_alpha\",\"color\",\"height\",\"y\",\"line_alpha\"],\"data\":{\"chart_index\":[{\"index\":\"Melanoma of the Skin\"}],\"color\":[\"#f22c40\"],\"fill_alpha\":[0.8],\"height\":[96.0],\"index\":[\"Melanoma of the Skin\"],\"line_alpha\":[1.0],\"line_color\":[\"white\"],\"width\":[0.8],\"x\":[\"Melanoma of the Skin\"],\"y\":[48.0]}},\"id\":\"85882d8a-2c8c-4d24-b477-07d7f65f650f\",\"type\":\"ColumnDataSource\"},{\"attributes\":{\"fill_alpha\":{\"field\":\"fill_alpha\"},\"fill_color\":{\"field\":\"color\"},\"height\":{\"field\":\"height\",\"units\":\"data\"},\"line_color\":{\"field\":\"line_color\"},\"width\":{\"field\":\"width\",\"units\":\"data\"},\"x\":{\"field\":\"x\"},\"y\":{\"field\":\"y\"}},\"id\":\"41a3c262-a579-4747-839d-459c4ad538d7\",\"type\":\"Rect\"},{\"attributes\":{\"fill_alpha\":{\"field\":\"fill_alpha\"},\"fill_color\":{\"field\":\"color\"},\"height\":{\"field\":\"height\",\"units\":\"data\"},\"line_color\":{\"field\":\"line_color\"},\"width\":{\"field\":\"width\",\"units\":\"data\"},\"x\":{\"field\":\"x\"},\"y\":{\"field\":\"y\"}},\"id\":\"c11dcb45-bd39-4cde-9d8d-2cc1c19233fb\",\"type\":\"Rect\"},{\"attributes\":{\"data_source\":{\"id\":\"794bd83b-c84c-41cc-afc6-4868568a1960\",\"type\":\"ColumnDataSource\"},\"glyph\":{\"id\":\"d43aa397-d32e-4f5d-8286-ee7c76bb16f3\",\"type\":\"Rect\"},\"hover_glyph\":null,\"nonselection_glyph\":null,\"selection_glyph\":null},\"id\":\"bb572205-0332-4aea-ba31-e7b47bbda210\",\"type\":\"GlyphRenderer\"},{\"attributes\":{\"plot\":{\"id\":\"47d9d0d6-6a32-47c5-9b9d-244c95592545\",\"subtype\":\"Chart\",\"type\":\"Plot\"}},\"id\":\"b0399545-e193-411d-b9b5-636f8d937785\",\"type\":\"PanTool\"},{\"attributes\":{\"plot\":{\"id\":\"07d070dc-14a2-4a0e-b14a-9d0891c44adb\",\"subtype\":\"Chart\",\"type\":\"Plot\"}},\"id\":\"1040cc1a-8bd1-49f6-a27e-10855d321597\",\"type\":\"PreviewSaveTool\"},{\"attributes\":{},\"id\":\"a0d0cc77-dae3-46b8-b9eb-8de22a6812b6\",\"type\":\"CategoricalTicker\"},{\"attributes\":{\"plot\":{\"id\":\"07d070dc-14a2-4a0e-b14a-9d0891c44adb\",\"subtype\":\"Chart\",\"type\":\"Plot\"}},\"id\":\"b02cbd96-2c85-4777-b424-7287e00c65a1\",\"type\":\"HelpTool\"},{\"attributes\":{\"callback\":null,\"column_names\":[\"x\",\"line_color\",\"width\",\"fill_alpha\",\"color\",\"height\",\"y\",\"line_alpha\"],\"data\":{\"chart_index\":[{\"index\":\"Chronic Lymphocytic Leukemia\"}],\"color\":[\"#f22c40\"],\"fill_alpha\":[0.8],\"height\":[28.0],\"index\":[\"Chronic Lymphocytic Leukemia\"],\"line_alpha\":[1.0],\"line_color\":[\"white\"],\"width\":[0.8],\"x\":[\"Chronic Lymphocytic Leukemia\"],\"y\":[14.0]}},\"id\":\"794bd83b-c84c-41cc-afc6-4868568a1960\",\"type\":\"ColumnDataSource\"},{\"attributes\":{\"fill_alpha\":{\"field\":\"fill_alpha\"},\"fill_color\":{\"field\":\"color\"},\"height\":{\"field\":\"height\",\"units\":\"data\"},\"line_color\":{\"field\":\"line_color\"},\"width\":{\"field\":\"width\",\"units\":\"data\"},\"x\":{\"field\":\"x\"},\"y\":{\"field\":\"y\"}},\"id\":\"539091a5-ec00-4391-9077-ad36d7b2f001\",\"type\":\"Rect\"},{\"attributes\":{\"data_source\":{\"id\":\"dde3ede4-2078-4372-99c8-005d960478bf\",\"type\":\"ColumnDataSource\"},\"glyph\":{\"id\":\"91d2393e-54e5-48f8-b37c-df292f6602e3\",\"type\":\"Rect\"},\"hover_glyph\":null,\"nonselection_glyph\":null,\"selection_glyph\":null},\"id\":\"69e9bd12-d060-4627-b848-2fbd0bf5e368\",\"type\":\"GlyphRenderer\"},{\"attributes\":{\"callback\":null,\"column_names\":[\"x\",\"line_color\",\"width\",\"fill_alpha\",\"color\",\"height\",\"y\",\"line_alpha\"],\"data\":{\"chart_index\":[{\"index\":\"Kidney and Renal Pelvis\"}],\"color\":[\"#f22c40\"],\"fill_alpha\":[0.8],\"height\":[26.0],\"index\":[\"Kidney and Renal Pelvis\"],\"line_alpha\":[1.0],\"line_color\":[\"white\"],\"width\":[0.8],\"x\":[\"Kidney and Renal Pelvis\"],\"y\":[13.0]}},\"id\":\"aaa3c181-c515-41b5-a898-d35c1b697769\",\"type\":\"ColumnDataSource\"},{\"attributes\":{\"bottom_units\":\"screen\",\"fill_alpha\":{\"value\":0.5},\"fill_color\":{\"value\":\"lightgrey\"},\"left_units\":\"screen\",\"level\":\"overlay\",\"line_alpha\":{\"value\":1.0},\"line_color\":{\"value\":\"black\"},\"line_dash\":[4,4],\"line_width\":{\"value\":2},\"plot\":null,\"render_mode\":\"css\",\"right_units\":\"screen\",\"top_units\":\"screen\"},\"id\":\"1b624c63-33b6-4232-9eca-9faeab9ce835\",\"type\":\"BoxAnnotation\"},{\"attributes\":{\"data_source\":{\"id\":\"ca2051db-5247-4698-859d-e24246905f78\",\"type\":\"ColumnDataSource\"},\"glyph\":{\"id\":\"001deee7-3758-48a7-85aa-708fb97c4474\",\"type\":\"Rect\"},\"hover_glyph\":null,\"nonselection_glyph\":null,\"selection_glyph\":null},\"id\":\"83e61654-42c0-4f2f-9b83-61cb34c08b0f\",\"type\":\"GlyphRenderer\"},{\"attributes\":{\"bottom_units\":\"screen\",\"fill_alpha\":{\"value\":0.5},\"fill_color\":{\"value\":\"lightgrey\"},\"left_units\":\"screen\",\"level\":\"overlay\",\"line_alpha\":{\"value\":1.0},\"line_color\":{\"value\":\"black\"},\"line_dash\":[4,4],\"line_width\":{\"value\":2},\"plot\":null,\"render_mode\":\"css\",\"right_units\":\"screen\",\"top_units\":\"screen\"},\"id\":\"d745bef3-7bf1-44e1-8309-bb8645356250\",\"type\":\"BoxAnnotation\"},{\"attributes\":{\"callback\":null,\"column_names\":[\"x\",\"line_color\",\"width\",\"fill_alpha\",\"color\",\"height\",\"y\",\"line_alpha\"],\"data\":{\"chart_index\":[{\"index\":\"Prostate\"}],\"color\":[\"#f22c40\"],\"fill_alpha\":[0.8],\"height\":[190.0],\"index\":[\"Prostate\"],\"line_alpha\":[1.0],\"line_color\":[\"white\"],\"width\":[0.8],\"x\":[\"Prostate\"],\"y\":[95.0]}},\"id\":\"a7142c6d-3eff-4a10-bc19-d3a5664fdf82\",\"type\":\"ColumnDataSource\"},{\"attributes\":{\"plot\":{\"id\":\"6f7701e9-a28d-4c49-968b-a16ba937a1fd\",\"subtype\":\"Chart\",\"type\":\"Plot\"}},\"id\":\"b943f642-ce16-476c-83d3-34a1f7bff04f\",\"type\":\"PreviewSaveTool\"},{\"attributes\":{\"fill_alpha\":{\"field\":\"fill_alpha\"},\"fill_color\":{\"field\":\"color\"},\"height\":{\"field\":\"height\",\"units\":\"data\"},\"line_color\":{\"field\":\"line_color\"},\"width\":{\"field\":\"width\",\"units\":\"data\"},\"x\":{\"field\":\"x\"},\"y\":{\"field\":\"y\"}},\"id\":\"2967e6ef-f0ce-4b85-b58c-7fee6284ee9e\",\"type\":\"Rect\"},{\"attributes\":{},\"id\":\"c700bd91-64ba-4862-9d6b-acb8b269caf1\",\"type\":\"BasicTicker\"},{\"attributes\":{\"callback\":null,\"column_names\":[\"x\",\"line_color\",\"width\",\"fill_alpha\",\"color\",\"height\",\"y\",\"line_alpha\"],\"data\":{\"chart_index\":[{\"index\":\"Chronic Lymphocytic Leukemia\"}],\"color\":[\"#f22c40\"],\"fill_alpha\":[0.8],\"height\":[28.0],\"index\":[\"Chronic Lymphocytic Leukemia\"],\"line_alpha\":[1.0],\"line_color\":[\"white\"],\"width\":[0.8],\"x\":[\"Chronic Lymphocytic Leukemia\"],\"y\":[14.0]}},\"id\":\"4f952040-b41d-4085-878d-8328c58729c2\",\"type\":\"ColumnDataSource\"},{\"attributes\":{\"callback\":null,\"column_names\":[\"x\",\"line_color\",\"width\",\"fill_alpha\",\"color\",\"height\",\"y\",\"line_alpha\"],\"data\":{\"chart_index\":[{\"index\":\"Lung and Bronchus\"}],\"color\":[\"#f22c40\"],\"fill_alpha\":[0.8],\"height\":[33.0],\"index\":[\"Lung and Bronchus\"],\"line_alpha\":[1.0],\"line_color\":[\"white\"],\"width\":[0.8],\"x\":[\"Lung and Bronchus\"],\"y\":[16.5]}},\"id\":\"ca0f945e-47bc-4295-9ee9-d0af7dca9161\",\"type\":\"ColumnDataSource\"},{\"attributes\":{\"data_source\":{\"id\":\"5a4be95e-ebbf-4249-8757-71175bd77ed6\",\"type\":\"ColumnDataSource\"},\"glyph\":{\"id\":\"81744c63-ba94-4b62-9ada-62aa3f614256\",\"type\":\"Rect\"},\"hover_glyph\":null,\"nonselection_glyph\":null,\"selection_glyph\":null},\"id\":\"cd4d94a5-d25d-42c6-b14a-0e50aeb69a0d\",\"type\":\"GlyphRenderer\"},{\"attributes\":{\"fill_alpha\":{\"field\":\"fill_alpha\"},\"fill_color\":{\"field\":\"color\"},\"height\":{\"field\":\"height\",\"units\":\"data\"},\"line_color\":{\"field\":\"line_color\"},\"width\":{\"field\":\"width\",\"units\":\"data\"},\"x\":{\"field\":\"x\"},\"y\":{\"field\":\"y\"}},\"id\":\"91d2393e-54e5-48f8-b37c-df292f6602e3\",\"type\":\"Rect\"},{\"attributes\":{\"callback\":null,\"factors\":[\"Breast\",\"Chronic Lymphocytic Leukemia\",\"Kidney and Renal Pelvis\",\"Lung and Bronchus\",\"Melanoma of the Skin\",\"NHL - Nodal\",\"Prostate\",\"Salivary Gland\",\"Thyroid\",\"Urinary Bladder\"]},\"id\":\"207a44ae-bce4-4567-a2c5-cf02768141c5\",\"type\":\"FactorRange\"},{\"attributes\":{\"axis_label\":\"Sum( Siterwho1 )\",\"formatter\":{\"id\":\"95ce8f33-4572-4566-882d-0964c57c7a1f\",\"type\":\"BasicTickFormatter\"},\"plot\":{\"id\":\"07d070dc-14a2-4a0e-b14a-9d0891c44adb\",\"subtype\":\"Chart\",\"type\":\"Plot\"},\"ticker\":{\"id\":\"2dbb5c18-468a-43f3-ad0a-e3834f3a25fc\",\"type\":\"BasicTicker\"}},\"id\":\"42f49cd3-fa5f-4a37-85bb-c09cb79c5225\",\"type\":\"LinearAxis\"},{\"attributes\":{\"plot\":{\"id\":\"47d9d0d6-6a32-47c5-9b9d-244c95592545\",\"subtype\":\"Chart\",\"type\":\"Plot\"}},\"id\":\"0f4a9cc9-37d2-48b8-9bd5-4732d7d17b89\",\"type\":\"HelpTool\"},{\"attributes\":{\"plot\":{\"id\":\"6efe7365-8698-4e9a-b95d-06c8715f4ec4\",\"subtype\":\"Chart\",\"type\":\"Plot\"}},\"id\":\"e6a305a0-f3fd-415a-ad3b-a0b41ade6ccb\",\"type\":\"HelpTool\"},{\"attributes\":{\"overlay\":{\"id\":\"918205a3-518e-435e-906e-8e43ef53980e\",\"type\":\"BoxAnnotation\"},\"plot\":{\"id\":\"07d070dc-14a2-4a0e-b14a-9d0891c44adb\",\"subtype\":\"Chart\",\"type\":\"Plot\"}},\"id\":\"635575ba-d9e4-48b2-98f4-18e0949ed6e5\",\"type\":\"BoxZoomTool\"},{\"attributes\":{\"callback\":null,\"column_names\":[\"x\",\"line_color\",\"width\",\"fill_alpha\",\"color\",\"height\",\"y\",\"line_alpha\"],\"data\":{\"chart_index\":[{\"index\":\"Breast\"}],\"color\":[\"#f22c40\"],\"fill_alpha\":[0.8],\"height\":[131.0],\"index\":[\"Breast\"],\"line_alpha\":[1.0],\"line_color\":[\"white\"],\"width\":[0.8],\"x\":[\"Breast\"],\"y\":[65.5]}},\"id\":\"26bfd091-1502-46d5-98ee-fa72c5172961\",\"type\":\"ColumnDataSource\"},{\"attributes\":{\"callback\":null,\"column_names\":[\"x\",\"line_color\",\"width\",\"fill_alpha\",\"color\",\"height\",\"y\",\"line_alpha\"],\"data\":{\"chart_index\":[{\"index\":\"Salivary Gland\"}],\"color\":[\"#f22c40\"],\"fill_alpha\":[0.8],\"height\":[3242.0],\"index\":[\"Salivary Gland\"],\"line_alpha\":[1.0],\"line_color\":[\"white\"],\"width\":[0.8],\"x\":[\"Salivary Gland\"],\"y\":[1621.0]}},\"id\":\"e58478ce-5109-4c53-b3a3-ec31afa7849c\",\"type\":\"ColumnDataSource\"},{\"attributes\":{\"callback\":null,\"column_names\":[\"x\",\"line_color\",\"width\",\"fill_alpha\",\"color\",\"height\",\"y\",\"line_alpha\"],\"data\":{\"chart_index\":[{\"index\":\"NHL - Nodal\"}],\"color\":[\"#f22c40\"],\"fill_alpha\":[0.8],\"height\":[31.0],\"index\":[\"NHL - Nodal\"],\"line_alpha\":[1.0],\"line_color\":[\"white\"],\"width\":[0.8],\"x\":[\"NHL - Nodal\"],\"y\":[15.5]}},\"id\":\"f95c4cd7-ce43-4df5-935f-0bda6e9b02b7\",\"type\":\"ColumnDataSource\"},{\"attributes\":{\"callback\":null,\"column_names\":[\"x\",\"line_color\",\"width\",\"fill_alpha\",\"color\",\"height\",\"y\",\"line_alpha\"],\"data\":{\"chart_index\":[{\"index\":\"NHL - Nodal\"}],\"color\":[\"#f22c40\"],\"fill_alpha\":[0.8],\"height\":[31.0],\"index\":[\"NHL - Nodal\"],\"line_alpha\":[1.0],\"line_color\":[\"white\"],\"width\":[0.8],\"x\":[\"NHL - Nodal\"],\"y\":[15.5]}},\"id\":\"f2413991-53db-469c-b944-c5199109bede\",\"type\":\"ColumnDataSource\"},{\"attributes\":{\"fill_alpha\":{\"field\":\"fill_alpha\"},\"fill_color\":{\"field\":\"color\"},\"height\":{\"field\":\"height\",\"units\":\"data\"},\"line_color\":{\"field\":\"line_color\"},\"width\":{\"field\":\"width\",\"units\":\"data\"},\"x\":{\"field\":\"x\"},\"y\":{\"field\":\"y\"}},\"id\":\"be8c47fb-c04f-4c5e-8830-30bd6e1d7916\",\"type\":\"Rect\"},{\"attributes\":{\"data_source\":{\"id\":\"8b878802-a0ce-4747-9381-9fb1e77902e7\",\"type\":\"ColumnDataSource\"},\"glyph\":{\"id\":\"1fc11dda-dbed-4ad1-aa0a-e97e3fdc79ba\",\"type\":\"Rect\"},\"hover_glyph\":null,\"nonselection_glyph\":null,\"selection_glyph\":null},\"id\":\"cfc97077-a572-4ecd-834e-0a162616194d\",\"type\":\"GlyphRenderer\"},{\"attributes\":{\"fill_alpha\":{\"field\":\"fill_alpha\"},\"fill_color\":{\"field\":\"color\"},\"height\":{\"field\":\"height\",\"units\":\"data\"},\"line_color\":{\"field\":\"line_color\"},\"width\":{\"field\":\"width\",\"units\":\"data\"},\"x\":{\"field\":\"x\"},\"y\":{\"field\":\"y\"}},\"id\":\"2aadb2b9-e41a-4a79-83cf-5d1853a90de5\",\"type\":\"Rect\"},{\"attributes\":{\"data_source\":{\"id\":\"9b85081a-6f91-4bd9-9913-cd7b00b6ea05\",\"type\":\"ColumnDataSource\"},\"glyph\":{\"id\":\"03b6087c-7d70-4264-8e68-372ae3776d63\",\"type\":\"Rect\"},\"hover_glyph\":null,\"nonselection_glyph\":null,\"selection_glyph\":null},\"id\":\"dafa8fb8-0a7f-4d0a-be04-864711b59cc1\",\"type\":\"GlyphRenderer\"},{\"attributes\":{\"data_source\":{\"id\":\"6dad9a24-838e-4c84-884b-49b10e5acdcf\",\"type\":\"ColumnDataSource\"},\"glyph\":{\"id\":\"9a1e342d-776b-44c1-baa1-d2ed782bf804\",\"type\":\"Rect\"},\"hover_glyph\":null,\"nonselection_glyph\":null,\"selection_glyph\":null},\"id\":\"eb74fdcb-3f74-49b6-9503-f648094a591c\",\"type\":\"GlyphRenderer\"},{\"attributes\":{},\"id\":\"d88ef595-9ea3-48bb-acb1-dc82f7c34258\",\"type\":\"CategoricalTicker\"},{\"attributes\":{\"fill_alpha\":{\"field\":\"fill_alpha\"},\"fill_color\":{\"field\":\"color\"},\"height\":{\"field\":\"height\",\"units\":\"data\"},\"line_color\":{\"field\":\"line_color\"},\"width\":{\"field\":\"width\",\"units\":\"data\"},\"x\":{\"field\":\"x\"},\"y\":{\"field\":\"y\"}},\"id\":\"87b1e45f-847a-4d13-97e0-6b9f1dffc0b6\",\"type\":\"Rect\"},{\"attributes\":{},\"id\":\"2dbb5c18-468a-43f3-ad0a-e3834f3a25fc\",\"type\":\"BasicTicker\"},{\"attributes\":{\"callback\":null,\"column_names\":[\"x\",\"line_color\",\"width\",\"fill_alpha\",\"color\",\"height\",\"y\",\"line_alpha\"],\"data\":{\"chart_index\":[{\"index\":\"Lung and Bronchus\"}],\"color\":[\"#f22c40\"],\"fill_alpha\":[0.8],\"height\":[33.0],\"index\":[\"Lung and Bronchus\"],\"line_alpha\":[1.0],\"line_color\":[\"white\"],\"width\":[0.8],\"x\":[\"Lung and Bronchus\"],\"y\":[16.5]}},\"id\":\"5c639086-1394-4fe7-8eb6-5321d239df0f\",\"type\":\"ColumnDataSource\"},{\"attributes\":{\"data_source\":{\"id\":\"5c639086-1394-4fe7-8eb6-5321d239df0f\",\"type\":\"ColumnDataSource\"},\"glyph\":{\"id\":\"c11dcb45-bd39-4cde-9d8d-2cc1c19233fb\",\"type\":\"Rect\"},\"hover_glyph\":null,\"nonselection_glyph\":null,\"selection_glyph\":null},\"id\":\"36ecc8fc-3250-45db-8968-1cb750391956\",\"type\":\"GlyphRenderer\"},{\"attributes\":{\"callback\":null,\"end\":3404.1},\"id\":\"b36ca9ed-2132-41a9-a767-69bc166f9be5\",\"type\":\"Range1d\"},{\"attributes\":{\"axis_label\":\"Sum( Siterwho1 )\",\"formatter\":{\"id\":\"ccd3b0ac-e113-4b55-b672-00f9db6e6b4f\",\"type\":\"BasicTickFormatter\"},\"plot\":{\"id\":\"47d9d0d6-6a32-47c5-9b9d-244c95592545\",\"subtype\":\"Chart\",\"type\":\"Plot\"},\"ticker\":{\"id\":\"6647aa79-d92f-4444-a0cb-d0596b1ff874\",\"type\":\"BasicTicker\"}},\"id\":\"791e5277-9275-4ba5-9ccf-206547a62475\",\"type\":\"LinearAxis\"},{\"attributes\":{\"callback\":null,\"column_names\":[\"x\",\"line_color\",\"width\",\"fill_alpha\",\"color\",\"height\",\"y\",\"line_alpha\"],\"data\":{\"chart_index\":[{\"index\":\"Salivary Gland\"}],\"color\":[\"#f22c40\"],\"fill_alpha\":[0.8],\"height\":[3242.0],\"index\":[\"Salivary Gland\"],\"line_alpha\":[1.0],\"line_color\":[\"white\"],\"width\":[0.8],\"x\":[\"Salivary Gland\"],\"y\":[1621.0]}},\"id\":\"ebff630c-085e-49f6-96a5-cd598659e23a\",\"type\":\"ColumnDataSource\"},{\"attributes\":{\"callback\":null,\"column_names\":[\"x\",\"line_color\",\"width\",\"fill_alpha\",\"color\",\"height\",\"y\",\"line_alpha\"],\"data\":{\"chart_index\":[{\"index\":\"Prostate\"}],\"color\":[\"#f22c40\"],\"fill_alpha\":[0.8],\"height\":[190.0],\"index\":[\"Prostate\"],\"line_alpha\":[1.0],\"line_color\":[\"white\"],\"width\":[0.8],\"x\":[\"Prostate\"],\"y\":[95.0]}},\"id\":\"29f119fe-3eae-4c0b-98ed-4f3dcbe548f4\",\"type\":\"ColumnDataSource\"},{\"attributes\":{\"plot\":{\"id\":\"47d9d0d6-6a32-47c5-9b9d-244c95592545\",\"subtype\":\"Chart\",\"type\":\"Plot\"}},\"id\":\"e09baae2-834a-4d65-9f70-ddb69d73d318\",\"type\":\"WheelZoomTool\"},{\"attributes\":{\"callback\":null,\"end\":3404.1},\"id\":\"ed6d3db3-a4db-4f49-89a9-a29703070c12\",\"type\":\"Range1d\"},{\"attributes\":{\"callback\":null,\"column_names\":[\"x\",\"line_color\",\"width\",\"fill_alpha\",\"color\",\"height\",\"y\",\"line_alpha\"],\"data\":{\"chart_index\":[{\"index\":\"Melanoma of the Skin\"}],\"color\":[\"#f22c40\"],\"fill_alpha\":[0.8],\"height\":[96.0],\"index\":[\"Melanoma of the Skin\"],\"line_alpha\":[1.0],\"line_color\":[\"white\"],\"width\":[0.8],\"x\":[\"Melanoma of the Skin\"],\"y\":[48.0]}},\"id\":\"0694c961-2f33-4204-a81a-58a14c578790\",\"type\":\"ColumnDataSource\"},{\"attributes\":{\"data_source\":{\"id\":\"7dafa5b6-5681-4bd7-a004-563b450c7754\",\"type\":\"ColumnDataSource\"},\"glyph\":{\"id\":\"0242ddab-d03a-4564-9ffb-0756e368a072\",\"type\":\"Rect\"},\"hover_glyph\":null,\"nonselection_glyph\":null,\"selection_glyph\":null},\"id\":\"2b8277aa-a50b-4002-bf04-e71cc3b48b39\",\"type\":\"GlyphRenderer\"},{\"attributes\":{\"data_source\":{\"id\":\"ebff630c-085e-49f6-96a5-cd598659e23a\",\"type\":\"ColumnDataSource\"},\"glyph\":{\"id\":\"f4218831-f90d-4093-ac18-ee110d915e74\",\"type\":\"Rect\"},\"hover_glyph\":null,\"nonselection_glyph\":null,\"selection_glyph\":null},\"id\":\"735143cf-1bcd-4ec5-a667-b27dc60c8f5f\",\"type\":\"GlyphRenderer\"},{\"attributes\":{\"callback\":null,\"end\":3404.1},\"id\":\"ca2570b6-1201-4418-9a7d-13e07a2c49c6\",\"type\":\"Range1d\"},{\"attributes\":{\"dimension\":1,\"plot\":{\"id\":\"47d9d0d6-6a32-47c5-9b9d-244c95592545\",\"subtype\":\"Chart\",\"type\":\"Plot\"},\"ticker\":{\"id\":\"6647aa79-d92f-4444-a0cb-d0596b1ff874\",\"type\":\"BasicTicker\"}},\"id\":\"704e49f9-1f6a-4d4e-8bd5-e158c2d594f7\",\"type\":\"Grid\"},{\"attributes\":{\"plot\":{\"id\":\"6efe7365-8698-4e9a-b95d-06c8715f4ec4\",\"subtype\":\"Chart\",\"type\":\"Plot\"}},\"id\":\"3a411397-a691-476c-a18c-13350a9d227b\",\"type\":\"PreviewSaveTool\"},{\"attributes\":{\"callback\":null,\"column_names\":[\"x\",\"line_color\",\"width\",\"fill_alpha\",\"color\",\"height\",\"y\",\"line_alpha\"],\"data\":{\"chart_index\":[{\"index\":\"Kidney and Renal Pelvis\"}],\"color\":[\"#f22c40\"],\"fill_alpha\":[0.8],\"height\":[26.0],\"index\":[\"Kidney and Renal Pelvis\"],\"line_alpha\":[1.0],\"line_color\":[\"white\"],\"width\":[0.8],\"x\":[\"Kidney and Renal Pelvis\"],\"y\":[13.0]}},\"id\":\"9b85081a-6f91-4bd9-9913-cd7b00b6ea05\",\"type\":\"ColumnDataSource\"},{\"attributes\":{\"fill_alpha\":{\"field\":\"fill_alpha\"},\"fill_color\":{\"field\":\"color\"},\"height\":{\"field\":\"height\",\"units\":\"data\"},\"line_color\":{\"field\":\"line_color\"},\"width\":{\"field\":\"width\",\"units\":\"data\"},\"x\":{\"field\":\"x\"},\"y\":{\"field\":\"y\"}},\"id\":\"81744c63-ba94-4b62-9ada-62aa3f614256\",\"type\":\"Rect\"},{\"attributes\":{\"callback\":null,\"column_names\":[\"x\",\"line_color\",\"width\",\"fill_alpha\",\"color\",\"height\",\"y\",\"line_alpha\"],\"data\":{\"chart_index\":[{\"index\":\"Salivary Gland\"}],\"color\":[\"#f22c40\"],\"fill_alpha\":[0.8],\"height\":[3242.0],\"index\":[\"Salivary Gland\"],\"line_alpha\":[1.0],\"line_color\":[\"white\"],\"width\":[0.8],\"x\":[\"Salivary Gland\"],\"y\":[1621.0]}},\"id\":\"bb8e6a1e-904d-4278-bacf-82eda193e102\",\"type\":\"ColumnDataSource\"},{\"attributes\":{\"data_source\":{\"id\":\"f2413991-53db-469c-b944-c5199109bede\",\"type\":\"ColumnDataSource\"},\"glyph\":{\"id\":\"2f0f646f-2bca-4f9d-ac9b-b32ba9eb23e1\",\"type\":\"Rect\"},\"hover_glyph\":null,\"nonselection_glyph\":null,\"selection_glyph\":null},\"id\":\"e007e211-12ca-44df-8fac-1653efe2e427\",\"type\":\"GlyphRenderer\"},{\"attributes\":{\"plot\":{\"id\":\"6f7701e9-a28d-4c49-968b-a16ba937a1fd\",\"subtype\":\"Chart\",\"type\":\"Plot\"}},\"id\":\"de1434ee-0fa7-4a81-8ba5-f66956f11470\",\"type\":\"WheelZoomTool\"},{\"attributes\":{\"data_source\":{\"id\":\"15af02a9-81b0-46b0-9942-3206020d5ba7\",\"type\":\"ColumnDataSource\"},\"glyph\":{\"id\":\"83b8ec0b-4a78-4c0e-9a07-75f48f2d1d22\",\"type\":\"Rect\"},\"hover_glyph\":null,\"nonselection_glyph\":null,\"selection_glyph\":null},\"id\":\"9cd40214-fde3-4b18-acec-a2b3c569da9d\",\"type\":\"GlyphRenderer\"},{\"attributes\":{\"fill_alpha\":{\"field\":\"fill_alpha\"},\"fill_color\":{\"field\":\"color\"},\"height\":{\"field\":\"height\",\"units\":\"data\"},\"line_color\":{\"field\":\"line_color\"},\"width\":{\"field\":\"width\",\"units\":\"data\"},\"x\":{\"field\":\"x\"},\"y\":{\"field\":\"y\"}},\"id\":\"9a1e342d-776b-44c1-baa1-d2ed782bf804\",\"type\":\"Rect\"},{\"attributes\":{\"bottom_units\":\"screen\",\"fill_alpha\":{\"value\":0.5},\"fill_color\":{\"value\":\"lightgrey\"},\"left_units\":\"screen\",\"level\":\"overlay\",\"line_alpha\":{\"value\":1.0},\"line_color\":{\"value\":\"black\"},\"line_dash\":[4,4],\"line_width\":{\"value\":2},\"plot\":null,\"render_mode\":\"css\",\"right_units\":\"screen\",\"top_units\":\"screen\"},\"id\":\"918205a3-518e-435e-906e-8e43ef53980e\",\"type\":\"BoxAnnotation\"},{\"attributes\":{\"fill_alpha\":{\"field\":\"fill_alpha\"},\"fill_color\":{\"field\":\"color\"},\"height\":{\"field\":\"height\",\"units\":\"data\"},\"line_color\":{\"field\":\"line_color\"},\"width\":{\"field\":\"width\",\"units\":\"data\"},\"x\":{\"field\":\"x\"},\"y\":{\"field\":\"y\"}},\"id\":\"f5731774-158f-45a9-9e93-65d03ce7dea6\",\"type\":\"Rect\"},{\"attributes\":{\"below\":[{\"id\":\"3931045a-038e-499b-aabb-da0ab7baeaf8\",\"type\":\"CategoricalAxis\"}],\"left\":[{\"id\":\"069ecf1c-3700-4229-addb-673f04171b9a\",\"type\":\"LinearAxis\"}],\"legend\":null,\"renderers\":[{\"id\":\"f032756b-d3ae-4f00-8fef-3cbd558716af\",\"type\":\"BoxAnnotation\"},{\"id\":\"d0cbb081-4532-4173-8524-8e6b4125e8ff\",\"type\":\"GlyphRenderer\"},{\"id\":\"eb74fdcb-3f74-49b6-9503-f648094a591c\",\"type\":\"GlyphRenderer\"},{\"id\":\"83e61654-42c0-4f2f-9b83-61cb34c08b0f\",\"type\":\"GlyphRenderer\"},{\"id\":\"a86740b4-f733-44c3-b137-7772bb2c4d83\",\"type\":\"GlyphRenderer\"},{\"id\":\"69e9bd12-d060-4627-b848-2fbd0bf5e368\",\"type\":\"GlyphRenderer\"},{\"id\":\"eb05705a-f07d-49be-afdc-0a61c74e3793\",\"type\":\"GlyphRenderer\"},{\"id\":\"3e2d759f-4165-4f69-add1-54cf03f5126b\",\"type\":\"GlyphRenderer\"},{\"id\":\"1c57a515-cf5b-4fb7-b1e1-77e5a1d5f894\",\"type\":\"GlyphRenderer\"},{\"id\":\"0d271012-ce67-404c-ab12-3d3642e4475e\",\"type\":\"GlyphRenderer\"},{\"id\":\"3d2375fb-7f12-463c-8c10-459967caf60a\",\"type\":\"GlyphRenderer\"},{\"id\":\"3931045a-038e-499b-aabb-da0ab7baeaf8\",\"type\":\"CategoricalAxis\"},{\"id\":\"069ecf1c-3700-4229-addb-673f04171b9a\",\"type\":\"LinearAxis\"},{\"id\":\"22cc7e2a-8f5b-41df-bd14-54dcded281ca\",\"type\":\"Grid\"}],\"title_text_font_size\":{\"value\":\"14pt\"},\"tool_events\":{\"id\":\"e49d8b00-a9eb-47ce-abb3-388e80b39feb\",\"type\":\"ToolEvents\"},\"tools\":[{\"id\":\"3beaee05-c058-481c-abb2-5bc1b08aef39\",\"type\":\"PanTool\"},{\"id\":\"7f360951-83c2-4556-85bd-25ab7ffae51a\",\"type\":\"WheelZoomTool\"},{\"id\":\"44227dcb-acb8-4fb4-ab61-12433e3cb535\",\"type\":\"BoxZoomTool\"},{\"id\":\"3a411397-a691-476c-a18c-13350a9d227b\",\"type\":\"PreviewSaveTool\"},{\"id\":\"09b2ac0c-c3e9-4c25-8225-33ce6e8711be\",\"type\":\"ResizeTool\"},{\"id\":\"77db9287-4265-44e0-9c0a-e1a91073dff5\",\"type\":\"ResetTool\"},{\"id\":\"e6a305a0-f3fd-415a-ad3b-a0b41ade6ccb\",\"type\":\"HelpTool\"}],\"x_mapper_type\":\"auto\",\"x_range\":{\"id\":\"29d54b4f-7454-49ad-893e-485526b649be\",\"type\":\"FactorRange\"},\"xgrid\":false,\"xscale\":\"auto\",\"y_mapper_type\":\"auto\",\"y_range\":{\"id\":\"82f4c8a7-c95e-4c52-89ee-4cf9399e622b\",\"type\":\"Range1d\"},\"yscale\":\"auto\"},\"id\":\"6efe7365-8698-4e9a-b95d-06c8715f4ec4\",\"subtype\":\"Chart\",\"type\":\"Plot\"},{\"attributes\":{\"fill_alpha\":{\"field\":\"fill_alpha\"},\"fill_color\":{\"field\":\"color\"},\"height\":{\"field\":\"height\",\"units\":\"data\"},\"line_color\":{\"field\":\"line_color\"},\"width\":{\"field\":\"width\",\"units\":\"data\"},\"x\":{\"field\":\"x\"},\"y\":{\"field\":\"y\"}},\"id\":\"83b8ec0b-4a78-4c0e-9a07-75f48f2d1d22\",\"type\":\"Rect\"},{\"attributes\":{\"callback\":null,\"end\":3404.1},\"id\":\"82f4c8a7-c95e-4c52-89ee-4cf9399e622b\",\"type\":\"Range1d\"},{\"attributes\":{\"plot\":{\"id\":\"6f7701e9-a28d-4c49-968b-a16ba937a1fd\",\"subtype\":\"Chart\",\"type\":\"Plot\"}},\"id\":\"ff03fc74-a4be-4910-8cb7-74aa9f919ea2\",\"type\":\"ResizeTool\"},{\"attributes\":{\"data_source\":{\"id\":\"587c0c53-17c0-49a3-9553-1500d45bb852\",\"type\":\"ColumnDataSource\"},\"glyph\":{\"id\":\"e954845c-e3d4-4175-afa7-2e2ba113b23c\",\"type\":\"Rect\"},\"hover_glyph\":null,\"nonselection_glyph\":null,\"selection_glyph\":null},\"id\":\"3e2d759f-4165-4f69-add1-54cf03f5126b\",\"type\":\"GlyphRenderer\"},{\"attributes\":{\"callback\":null,\"column_names\":[\"x\",\"line_color\",\"width\",\"fill_alpha\",\"color\",\"height\",\"y\",\"line_alpha\"],\"data\":{\"chart_index\":[{\"index\":\"Prostate\"}],\"color\":[\"#f22c40\"],\"fill_alpha\":[0.8],\"height\":[190.0],\"index\":[\"Prostate\"],\"line_alpha\":[1.0],\"line_color\":[\"white\"],\"width\":[0.8],\"x\":[\"Prostate\"],\"y\":[95.0]}},\"id\":\"cd561fa0-5ebe-4009-9450-564622fcddff\",\"type\":\"ColumnDataSource\"},{\"attributes\":{},\"id\":\"e3b6e8ea-45d7-42d8-b5ae-e67ef829fe77\",\"type\":\"CategoricalTickFormatter\"},{\"attributes\":{\"fill_alpha\":{\"field\":\"fill_alpha\"},\"fill_color\":{\"field\":\"color\"},\"height\":{\"field\":\"height\",\"units\":\"data\"},\"line_color\":{\"field\":\"line_color\"},\"width\":{\"field\":\"width\",\"units\":\"data\"},\"x\":{\"field\":\"x\"},\"y\":{\"field\":\"y\"}},\"id\":\"d43aa397-d32e-4f5d-8286-ee7c76bb16f3\",\"type\":\"Rect\"},{\"attributes\":{\"fill_alpha\":{\"field\":\"fill_alpha\"},\"fill_color\":{\"field\":\"color\"},\"height\":{\"field\":\"height\",\"units\":\"data\"},\"line_color\":{\"field\":\"line_color\"},\"width\":{\"field\":\"width\",\"units\":\"data\"},\"x\":{\"field\":\"x\"},\"y\":{\"field\":\"y\"}},\"id\":\"e954845c-e3d4-4175-afa7-2e2ba113b23c\",\"type\":\"Rect\"},{\"attributes\":{\"formatter\":{\"id\":\"7237288f-d8ec-4ebd-902a-4bc8f2982bac\",\"type\":\"CategoricalTickFormatter\"},\"major_label_orientation\":0.7853981633974483,\"plot\":{\"id\":\"6f7701e9-a28d-4c49-968b-a16ba937a1fd\",\"subtype\":\"Chart\",\"type\":\"Plot\"},\"ticker\":{\"id\":\"a0d0cc77-dae3-46b8-b9eb-8de22a6812b6\",\"type\":\"CategoricalTicker\"}},\"id\":\"35161f1f-4dce-4981-8f2d-539af00fda1a\",\"type\":\"CategoricalAxis\"},{\"attributes\":{},\"id\":\"58279990-b467-4503-bb20-e1cde04a7942\",\"type\":\"BasicTickFormatter\"},{\"attributes\":{},\"id\":\"1645f0db-83e9-44bf-937f-8283ee65d60e\",\"type\":\"BasicTickFormatter\"},{\"attributes\":{\"plot\":{\"id\":\"07d070dc-14a2-4a0e-b14a-9d0891c44adb\",\"subtype\":\"Chart\",\"type\":\"Plot\"}},\"id\":\"2364003e-4360-4d1f-86a8-48582bd504b0\",\"type\":\"ResizeTool\"},{\"attributes\":{\"fill_alpha\":{\"field\":\"fill_alpha\"},\"fill_color\":{\"field\":\"color\"},\"height\":{\"field\":\"height\",\"units\":\"data\"},\"line_color\":{\"field\":\"line_color\"},\"width\":{\"field\":\"width\",\"units\":\"data\"},\"x\":{\"field\":\"x\"},\"y\":{\"field\":\"y\"}},\"id\":\"286eddbc-c24f-43b3-b9e2-dc26b44dd8b7\",\"type\":\"Rect\"},{\"attributes\":{\"data_source\":{\"id\":\"1ab63fcb-fd1f-4cd9-99c9-a935fbdcb6c6\",\"type\":\"ColumnDataSource\"},\"glyph\":{\"id\":\"0f86d62c-f1cb-4e63-a7cd-1e9add824d68\",\"type\":\"Rect\"},\"hover_glyph\":null,\"nonselection_glyph\":null,\"selection_glyph\":null},\"id\":\"57a37bd0-c165-4c3a-9338-b2e20f111e5e\",\"type\":\"GlyphRenderer\"},{\"attributes\":{\"fill_alpha\":{\"field\":\"fill_alpha\"},\"fill_color\":{\"field\":\"color\"},\"height\":{\"field\":\"height\",\"units\":\"data\"},\"line_color\":{\"field\":\"line_color\"},\"width\":{\"field\":\"width\",\"units\":\"data\"},\"x\":{\"field\":\"x\"},\"y\":{\"field\":\"y\"}},\"id\":\"0242ddab-d03a-4564-9ffb-0756e368a072\",\"type\":\"Rect\"},{\"attributes\":{\"plot\":{\"id\":\"6efe7365-8698-4e9a-b95d-06c8715f4ec4\",\"subtype\":\"Chart\",\"type\":\"Plot\"}},\"id\":\"3beaee05-c058-481c-abb2-5bc1b08aef39\",\"type\":\"PanTool\"},{\"attributes\":{\"callback\":null,\"column_names\":[\"x\",\"line_color\",\"width\",\"fill_alpha\",\"color\",\"height\",\"y\",\"line_alpha\"],\"data\":{\"chart_index\":[{\"index\":\"Breast\"}],\"color\":[\"#f22c40\"],\"fill_alpha\":[0.8],\"height\":[131.0],\"index\":[\"Breast\"],\"line_alpha\":[1.0],\"line_color\":[\"white\"],\"width\":[0.8],\"x\":[\"Breast\"],\"y\":[65.5]}},\"id\":\"1ab63fcb-fd1f-4cd9-99c9-a935fbdcb6c6\",\"type\":\"ColumnDataSource\"},{\"attributes\":{\"data_source\":{\"id\":\"bb8e6a1e-904d-4278-bacf-82eda193e102\",\"type\":\"ColumnDataSource\"},\"glyph\":{\"id\":\"ef86e915-1b89-43d9-a68d-c18aee834325\",\"type\":\"Rect\"},\"hover_glyph\":null,\"nonselection_glyph\":null,\"selection_glyph\":null},\"id\":\"3d2375fb-7f12-463c-8c10-459967caf60a\",\"type\":\"GlyphRenderer\"},{\"attributes\":{\"plot\":{\"id\":\"47d9d0d6-6a32-47c5-9b9d-244c95592545\",\"subtype\":\"Chart\",\"type\":\"Plot\"}},\"id\":\"b7f03825-31f4-4f72-855b-039504950231\",\"type\":\"PreviewSaveTool\"},{\"attributes\":{\"plot\":{\"id\":\"6f7701e9-a28d-4c49-968b-a16ba937a1fd\",\"subtype\":\"Chart\",\"type\":\"Plot\"}},\"id\":\"d64122bf-3f78-43ce-9026-53d029a0ce04\",\"type\":\"ResetTool\"},{\"attributes\":{},\"id\":\"7237288f-d8ec-4ebd-902a-4bc8f2982bac\",\"type\":\"CategoricalTickFormatter\"},{\"attributes\":{\"data_source\":{\"id\":\"db86852f-ab3a-44c1-8869-825011697d74\",\"type\":\"ColumnDataSource\"},\"glyph\":{\"id\":\"4e7e663f-d329-44ae-b7b9-428d2316c9b2\",\"type\":\"Rect\"},\"hover_glyph\":null,\"nonselection_glyph\":null,\"selection_glyph\":null},\"id\":\"f9c154f3-d0b5-4faa-975e-6dbe020ec761\",\"type\":\"GlyphRenderer\"},{\"attributes\":{\"callback\":null,\"column_names\":[\"x\",\"line_color\",\"width\",\"fill_alpha\",\"color\",\"height\",\"y\",\"line_alpha\"],\"data\":{\"chart_index\":[{\"index\":\"Salivary Gland\"}],\"color\":[\"#f22c40\"],\"fill_alpha\":[0.8],\"height\":[3242.0],\"index\":[\"Salivary Gland\"],\"line_alpha\":[1.0],\"line_color\":[\"white\"],\"width\":[0.8],\"x\":[\"Salivary Gland\"],\"y\":[1621.0]}},\"id\":\"d78fc63f-878e-4eb5-97ef-15966f205f1d\",\"type\":\"ColumnDataSource\"},{\"attributes\":{\"dimension\":1,\"plot\":{\"id\":\"07d070dc-14a2-4a0e-b14a-9d0891c44adb\",\"subtype\":\"Chart\",\"type\":\"Plot\"},\"ticker\":{\"id\":\"2dbb5c18-468a-43f3-ad0a-e3834f3a25fc\",\"type\":\"BasicTicker\"}},\"id\":\"7f871d4a-f82d-47a0-855e-4b417fc8e58c\",\"type\":\"Grid\"},{\"attributes\":{\"fill_alpha\":{\"field\":\"fill_alpha\"},\"fill_color\":{\"field\":\"color\"},\"height\":{\"field\":\"height\",\"units\":\"data\"},\"line_color\":{\"field\":\"line_color\"},\"width\":{\"field\":\"width\",\"units\":\"data\"},\"x\":{\"field\":\"x\"},\"y\":{\"field\":\"y\"}},\"id\":\"b92c1235-65f0-4950-aca8-7e279547b9d5\",\"type\":\"Rect\"},{\"attributes\":{\"overlay\":{\"id\":\"d745bef3-7bf1-44e1-8309-bb8645356250\",\"type\":\"BoxAnnotation\"},\"plot\":{\"id\":\"6f7701e9-a28d-4c49-968b-a16ba937a1fd\",\"subtype\":\"Chart\",\"type\":\"Plot\"}},\"id\":\"31672b02-2f74-4835-9fdd-1e7c56fcedc3\",\"type\":\"BoxZoomTool\"},{\"attributes\":{\"callback\":null,\"column_names\":[\"x\",\"line_color\",\"width\",\"fill_alpha\",\"color\",\"height\",\"y\",\"line_alpha\"],\"data\":{\"chart_index\":[{\"index\":\"Lung and Bronchus\"}],\"color\":[\"#f22c40\"],\"fill_alpha\":[0.8],\"height\":[33.0],\"index\":[\"Lung and Bronchus\"],\"line_alpha\":[1.0],\"line_color\":[\"white\"],\"width\":[0.8],\"x\":[\"Lung and Bronchus\"],\"y\":[16.5]}},\"id\":\"5a4be95e-ebbf-4249-8757-71175bd77ed6\",\"type\":\"ColumnDataSource\"},{\"attributes\":{\"callback\":null,\"column_names\":[\"x\",\"line_color\",\"width\",\"fill_alpha\",\"color\",\"height\",\"y\",\"line_alpha\"],\"data\":{\"chart_index\":[{\"index\":\"Thyroid\"}],\"color\":[\"#f22c40\"],\"fill_alpha\":[0.8],\"height\":[26.0],\"index\":[\"Thyroid\"],\"line_alpha\":[1.0],\"line_color\":[\"white\"],\"width\":[0.8],\"x\":[\"Thyroid\"],\"y\":[13.0]}},\"id\":\"168f15b6-a1ba-424b-aa8c-8b8dd552986f\",\"type\":\"ColumnDataSource\"},{\"attributes\":{\"plot\":{\"id\":\"07d070dc-14a2-4a0e-b14a-9d0891c44adb\",\"subtype\":\"Chart\",\"type\":\"Plot\"}},\"id\":\"1402e1c9-00c7-4e43-88b2-c0dba0814b61\",\"type\":\"WheelZoomTool\"},{\"attributes\":{\"plot\":{\"id\":\"6efe7365-8698-4e9a-b95d-06c8715f4ec4\",\"subtype\":\"Chart\",\"type\":\"Plot\"}},\"id\":\"7f360951-83c2-4556-85bd-25ab7ffae51a\",\"type\":\"WheelZoomTool\"},{\"attributes\":{\"callback\":null,\"column_names\":[\"x\",\"line_color\",\"width\",\"fill_alpha\",\"color\",\"height\",\"y\",\"line_alpha\"],\"data\":{\"chart_index\":[{\"index\":\"Urinary Bladder\"}],\"color\":[\"#f22c40\"],\"fill_alpha\":[0.8],\"height\":[39.0],\"index\":[\"Urinary Bladder\"],\"line_alpha\":[1.0],\"line_color\":[\"white\"],\"width\":[0.8],\"x\":[\"Urinary Bladder\"],\"y\":[19.5]}},\"id\":\"49e08bfc-62ad-4a43-a6e9-6b8e940843fb\",\"type\":\"ColumnDataSource\"},{\"attributes\":{\"callback\":null,\"column_names\":[\"x\",\"line_color\",\"width\",\"fill_alpha\",\"color\",\"height\",\"y\",\"line_alpha\"],\"data\":{\"chart_index\":[{\"index\":\"Thyroid\"}],\"color\":[\"#f22c40\"],\"fill_alpha\":[0.8],\"height\":[26.0],\"index\":[\"Thyroid\"],\"line_alpha\":[1.0],\"line_color\":[\"white\"],\"width\":[0.8],\"x\":[\"Thyroid\"],\"y\":[13.0]}},\"id\":\"6dad9a24-838e-4c84-884b-49b10e5acdcf\",\"type\":\"ColumnDataSource\"},{\"attributes\":{\"below\":[{\"id\":\"2ca8417c-b5c7-4353-8f5a-b3000b16c6da\",\"type\":\"CategoricalAxis\"}],\"left\":[{\"id\":\"791e5277-9275-4ba5-9ccf-206547a62475\",\"type\":\"LinearAxis\"}],\"legend\":null,\"renderers\":[{\"id\":\"1b624c63-33b6-4232-9eca-9faeab9ce835\",\"type\":\"BoxAnnotation\"},{\"id\":\"db151e31-0efb-438a-b96f-593a47cd2270\",\"type\":\"GlyphRenderer\"},{\"id\":\"99468470-e2c4-44d7-b516-5b4e7cf5cd82\",\"type\":\"GlyphRenderer\"},{\"id\":\"f5341261-950a-44e0-afb5-7e426c5e6b6f\",\"type\":\"GlyphRenderer\"},{\"id\":\"e007e211-12ca-44df-8fac-1653efe2e427\",\"type\":\"GlyphRenderer\"},{\"id\":\"cd4d94a5-d25d-42c6-b14a-0e50aeb69a0d\",\"type\":\"GlyphRenderer\"},{\"id\":\"636afacc-566f-4a2c-bdf7-46ee70c450d0\",\"type\":\"GlyphRenderer\"},{\"id\":\"2b8277aa-a50b-4002-bf04-e71cc3b48b39\",\"type\":\"GlyphRenderer\"},{\"id\":\"57a37bd0-c165-4c3a-9338-b2e20f111e5e\",\"type\":\"GlyphRenderer\"},{\"id\":\"b7a8500d-cc08-47ad-9072-bc0f145b0bb0\",\"type\":\"GlyphRenderer\"},{\"id\":\"dff079e5-50b2-47cb-a945-4d0bb2cca6ba\",\"type\":\"GlyphRenderer\"},{\"id\":\"2ca8417c-b5c7-4353-8f5a-b3000b16c6da\",\"type\":\"CategoricalAxis\"},{\"id\":\"791e5277-9275-4ba5-9ccf-206547a62475\",\"type\":\"LinearAxis\"},{\"id\":\"704e49f9-1f6a-4d4e-8bd5-e158c2d594f7\",\"type\":\"Grid\"}],\"title_text_font_size\":{\"value\":\"14pt\"},\"tool_events\":{\"id\":\"257d3b2e-b462-4e8f-bad5-88d88edd7623\",\"type\":\"ToolEvents\"},\"tools\":[{\"id\":\"b0399545-e193-411d-b9b5-636f8d937785\",\"type\":\"PanTool\"},{\"id\":\"e09baae2-834a-4d65-9f70-ddb69d73d318\",\"type\":\"WheelZoomTool\"},{\"id\":\"6687369b-a0a0-4cb4-8888-a7e0ba05dd97\",\"type\":\"BoxZoomTool\"},{\"id\":\"b7f03825-31f4-4f72-855b-039504950231\",\"type\":\"PreviewSaveTool\"},{\"id\":\"ace111d3-f520-49bd-9091-689e51bb8205\",\"type\":\"ResizeTool\"},{\"id\":\"cbd1c0d8-eece-4f76-bbc7-a414d6823c4f\",\"type\":\"ResetTool\"},{\"id\":\"0f4a9cc9-37d2-48b8-9bd5-4732d7d17b89\",\"type\":\"HelpTool\"}],\"x_mapper_type\":\"auto\",\"x_range\":{\"id\":\"207a44ae-bce4-4567-a2c5-cf02768141c5\",\"type\":\"FactorRange\"},\"xgrid\":false,\"xscale\":\"auto\",\"y_mapper_type\":\"auto\",\"y_range\":{\"id\":\"ca2570b6-1201-4418-9a7d-13e07a2c49c6\",\"type\":\"Range1d\"},\"yscale\":\"auto\"},\"id\":\"47d9d0d6-6a32-47c5-9b9d-244c95592545\",\"subtype\":\"Chart\",\"type\":\"Plot\"},{\"attributes\":{\"data_source\":{\"id\":\"d78fc63f-878e-4eb5-97ef-15966f205f1d\",\"type\":\"ColumnDataSource\"},\"glyph\":{\"id\":\"5f15eab1-54de-4122-8a54-ec575d852227\",\"type\":\"Rect\"},\"hover_glyph\":null,\"nonselection_glyph\":null,\"selection_glyph\":null},\"id\":\"2a73fa5d-1eed-4d7f-abd4-72548168b013\",\"type\":\"GlyphRenderer\"},{\"attributes\":{\"plot\":{\"id\":\"6efe7365-8698-4e9a-b95d-06c8715f4ec4\",\"subtype\":\"Chart\",\"type\":\"Plot\"}},\"id\":\"77db9287-4265-44e0-9c0a-e1a91073dff5\",\"type\":\"ResetTool\"},{\"attributes\":{},\"id\":\"a7b457dd-3af4-4903-a2c0-b5ecd5fe12c0\",\"type\":\"CategoricalTickFormatter\"},{\"attributes\":{},\"id\":\"0744f47f-3f11-498d-9908-0136fe580119\",\"type\":\"CategoricalTickFormatter\"},{\"attributes\":{\"dimension\":1,\"plot\":{\"id\":\"6efe7365-8698-4e9a-b95d-06c8715f4ec4\",\"subtype\":\"Chart\",\"type\":\"Plot\"},\"ticker\":{\"id\":\"d77d0b7c-3e90-4c6c-a460-6372806cfceb\",\"type\":\"BasicTicker\"}},\"id\":\"22cc7e2a-8f5b-41df-bd14-54dcded281ca\",\"type\":\"Grid\"},{\"attributes\":{\"below\":[{\"id\":\"cc480451-3e43-458b-a0da-aeed07a04a00\",\"type\":\"CategoricalAxis\"}],\"left\":[{\"id\":\"42f49cd3-fa5f-4a37-85bb-c09cb79c5225\",\"type\":\"LinearAxis\"}],\"legend\":null,\"renderers\":[{\"id\":\"918205a3-518e-435e-906e-8e43ef53980e\",\"type\":\"BoxAnnotation\"},{\"id\":\"f9c154f3-d0b5-4faa-975e-6dbe020ec761\",\"type\":\"GlyphRenderer\"},{\"id\":\"9cd40214-fde3-4b18-acec-a2b3c569da9d\",\"type\":\"GlyphRenderer\"},{\"id\":\"bb572205-0332-4aea-ba31-e7b47bbda210\",\"type\":\"GlyphRenderer\"},{\"id\":\"82127b15-106d-4103-a964-2cf1aa387538\",\"type\":\"GlyphRenderer\"},{\"id\":\"9177100c-f851-4a5b-9c93-2defefeebf58\",\"type\":\"GlyphRenderer\"},{\"id\":\"c081f02b-1830-4462-8ce1-19ec7e288060\",\"type\":\"GlyphRenderer\"},{\"id\":\"c7e8cdb1-9920-4f24-b5ac-3deba764f96d\",\"type\":\"GlyphRenderer\"},{\"id\":\"cfc97077-a572-4ecd-834e-0a162616194d\",\"type\":\"GlyphRenderer\"},{\"id\":\"ad66d128-19a6-4adf-9ab8-8fc4fd1fc817\",\"type\":\"GlyphRenderer\"},{\"id\":\"2a73fa5d-1eed-4d7f-abd4-72548168b013\",\"type\":\"GlyphRenderer\"},{\"id\":\"cc480451-3e43-458b-a0da-aeed07a04a00\",\"type\":\"CategoricalAxis\"},{\"id\":\"42f49cd3-fa5f-4a37-85bb-c09cb79c5225\",\"type\":\"LinearAxis\"},{\"id\":\"7f871d4a-f82d-47a0-855e-4b417fc8e58c\",\"type\":\"Grid\"}],\"title_text_font_size\":{\"value\":\"14pt\"},\"tool_events\":{\"id\":\"93d07fc8-1f11-4292-99b2-a6185d6e94ab\",\"type\":\"ToolEvents\"},\"tools\":[{\"id\":\"be0dcdab-7517-48b5-a540-c439d7b3e6ae\",\"type\":\"PanTool\"},{\"id\":\"1402e1c9-00c7-4e43-88b2-c0dba0814b61\",\"type\":\"WheelZoomTool\"},{\"id\":\"635575ba-d9e4-48b2-98f4-18e0949ed6e5\",\"type\":\"BoxZoomTool\"},{\"id\":\"1040cc1a-8bd1-49f6-a27e-10855d321597\",\"type\":\"PreviewSaveTool\"},{\"id\":\"2364003e-4360-4d1f-86a8-48582bd504b0\",\"type\":\"ResizeTool\"},{\"id\":\"bc5ce69d-a84c-498b-bb9f-2249a1d46afa\",\"type\":\"ResetTool\"},{\"id\":\"b02cbd96-2c85-4777-b424-7287e00c65a1\",\"type\":\"HelpTool\"}],\"x_mapper_type\":\"auto\",\"x_range\":{\"id\":\"8ab922c7-2b8f-4b93-8a5f-4d8d8c3330bf\",\"type\":\"FactorRange\"},\"xgrid\":false,\"xscale\":\"auto\",\"y_mapper_type\":\"auto\",\"y_range\":{\"id\":\"ed6d3db3-a4db-4f49-89a9-a29703070c12\",\"type\":\"Range1d\"},\"yscale\":\"auto\"},\"id\":\"07d070dc-14a2-4a0e-b14a-9d0891c44adb\",\"subtype\":\"Chart\",\"type\":\"Plot\"},{\"attributes\":{\"data_source\":{\"id\":\"49e08bfc-62ad-4a43-a6e9-6b8e940843fb\",\"type\":\"ColumnDataSource\"},\"glyph\":{\"id\":\"b92c1235-65f0-4950-aca8-7e279547b9d5\",\"type\":\"Rect\"},\"hover_glyph\":null,\"nonselection_glyph\":null,\"selection_glyph\":null},\"id\":\"eb05705a-f07d-49be-afdc-0a61c74e3793\",\"type\":\"GlyphRenderer\"},{\"attributes\":{\"fill_alpha\":{\"field\":\"fill_alpha\"},\"fill_color\":{\"field\":\"color\"},\"height\":{\"field\":\"height\",\"units\":\"data\"},\"line_color\":{\"field\":\"line_color\"},\"width\":{\"field\":\"width\",\"units\":\"data\"},\"x\":{\"field\":\"x\"},\"y\":{\"field\":\"y\"}},\"id\":\"1fc11dda-dbed-4ad1-aa0a-e97e3fdc79ba\",\"type\":\"Rect\"},{\"attributes\":{\"fill_alpha\":{\"field\":\"fill_alpha\"},\"fill_color\":{\"field\":\"color\"},\"height\":{\"field\":\"height\",\"units\":\"data\"},\"line_color\":{\"field\":\"line_color\"},\"width\":{\"field\":\"width\",\"units\":\"data\"},\"x\":{\"field\":\"x\"},\"y\":{\"field\":\"y\"}},\"id\":\"03b6087c-7d70-4264-8e68-372ae3776d63\",\"type\":\"Rect\"},{\"attributes\":{\"bottom_units\":\"screen\",\"fill_alpha\":{\"value\":0.5},\"fill_color\":{\"value\":\"lightgrey\"},\"left_units\":\"screen\",\"level\":\"overlay\",\"line_alpha\":{\"value\":1.0},\"line_color\":{\"value\":\"black\"},\"line_dash\":[4,4],\"line_width\":{\"value\":2},\"plot\":null,\"render_mode\":\"css\",\"right_units\":\"screen\",\"top_units\":\"screen\"},\"id\":\"f032756b-d3ae-4f00-8fef-3cbd558716af\",\"type\":\"BoxAnnotation\"},{\"attributes\":{\"callback\":null,\"column_names\":[\"x\",\"line_color\",\"width\",\"fill_alpha\",\"color\",\"height\",\"y\",\"line_alpha\"],\"data\":{\"chart_index\":[{\"index\":\"Kidney and Renal Pelvis\"}],\"color\":[\"#f22c40\"],\"fill_alpha\":[0.8],\"height\":[26.0],\"index\":[\"Kidney and Renal Pelvis\"],\"line_alpha\":[1.0],\"line_color\":[\"white\"],\"width\":[0.8],\"x\":[\"Kidney and Renal Pelvis\"],\"y\":[13.0]}},\"id\":\"db86852f-ab3a-44c1-8869-825011697d74\",\"type\":\"ColumnDataSource\"},{\"attributes\":{\"fill_alpha\":{\"field\":\"fill_alpha\"},\"fill_color\":{\"field\":\"color\"},\"height\":{\"field\":\"height\",\"units\":\"data\"},\"line_color\":{\"field\":\"line_color\"},\"width\":{\"field\":\"width\",\"units\":\"data\"},\"x\":{\"field\":\"x\"},\"y\":{\"field\":\"y\"}},\"id\":\"f68bd78a-8347-4690-b286-00a94060d7e6\",\"type\":\"Rect\"},{\"attributes\":{\"fill_alpha\":{\"field\":\"fill_alpha\"},\"fill_color\":{\"field\":\"color\"},\"height\":{\"field\":\"height\",\"units\":\"data\"},\"line_color\":{\"field\":\"line_color\"},\"width\":{\"field\":\"width\",\"units\":\"data\"},\"x\":{\"field\":\"x\"},\"y\":{\"field\":\"y\"}},\"id\":\"362c2dc7-846a-492d-acc0-cb3555a22072\",\"type\":\"Rect\"},{\"attributes\":{\"callback\":null,\"column_names\":[\"x\",\"line_color\",\"width\",\"fill_alpha\",\"color\",\"height\",\"y\",\"line_alpha\"],\"data\":{\"chart_index\":[{\"index\":\"Kidney and Renal Pelvis\"}],\"color\":[\"#f22c40\"],\"fill_alpha\":[0.8],\"height\":[26.0],\"index\":[\"Kidney and Renal Pelvis\"],\"line_alpha\":[1.0],\"line_color\":[\"white\"],\"width\":[0.8],\"x\":[\"Kidney and Renal Pelvis\"],\"y\":[13.0]}},\"id\":\"93b81515-61fd-4fed-b06c-333a99ccf746\",\"type\":\"ColumnDataSource\"},{\"attributes\":{\"callback\":null,\"column_names\":[\"x\",\"line_color\",\"width\",\"fill_alpha\",\"color\",\"height\",\"y\",\"line_alpha\"],\"data\":{\"chart_index\":[{\"index\":\"Urinary Bladder\"}],\"color\":[\"#f22c40\"],\"fill_alpha\":[0.8],\"height\":[39.0],\"index\":[\"Urinary Bladder\"],\"line_alpha\":[1.0],\"line_color\":[\"white\"],\"width\":[0.8],\"x\":[\"Urinary Bladder\"],\"y\":[19.5]}},\"id\":\"943d2ef5-d667-49e2-aff9-dee24ed34e25\",\"type\":\"ColumnDataSource\"},{\"attributes\":{},\"id\":\"93d07fc8-1f11-4292-99b2-a6185d6e94ab\",\"type\":\"ToolEvents\"},{\"attributes\":{\"callback\":null,\"column_names\":[\"x\",\"line_color\",\"width\",\"fill_alpha\",\"color\",\"height\",\"y\",\"line_alpha\"],\"data\":{\"chart_index\":[{\"index\":\"Thyroid\"}],\"color\":[\"#f22c40\"],\"fill_alpha\":[0.8],\"height\":[26.0],\"index\":[\"Thyroid\"],\"line_alpha\":[1.0],\"line_color\":[\"white\"],\"width\":[0.8],\"x\":[\"Thyroid\"],\"y\":[13.0]}},\"id\":\"ffef45ca-9041-4cb5-9e91-e583fce9fd36\",\"type\":\"ColumnDataSource\"},{\"attributes\":{\"overlay\":{\"id\":\"1b624c63-33b6-4232-9eca-9faeab9ce835\",\"type\":\"BoxAnnotation\"},\"plot\":{\"id\":\"47d9d0d6-6a32-47c5-9b9d-244c95592545\",\"subtype\":\"Chart\",\"type\":\"Plot\"}},\"id\":\"6687369b-a0a0-4cb4-8888-a7e0ba05dd97\",\"type\":\"BoxZoomTool\"},{\"attributes\":{\"data_source\":{\"id\":\"168f15b6-a1ba-424b-aa8c-8b8dd552986f\",\"type\":\"ColumnDataSource\"},\"glyph\":{\"id\":\"c484dbca-bbad-484b-8337-d5c8932ea54f\",\"type\":\"Rect\"},\"hover_glyph\":null,\"nonselection_glyph\":null,\"selection_glyph\":null},\"id\":\"99468470-e2c4-44d7-b516-5b4e7cf5cd82\",\"type\":\"GlyphRenderer\"},{\"attributes\":{\"data_source\":{\"id\":\"cd561fa0-5ebe-4009-9450-564622fcddff\",\"type\":\"ColumnDataSource\"},\"glyph\":{\"id\":\"f68bd78a-8347-4690-b286-00a94060d7e6\",\"type\":\"Rect\"},\"hover_glyph\":null,\"nonselection_glyph\":null,\"selection_glyph\":null},\"id\":\"b7a8500d-cc08-47ad-9072-bc0f145b0bb0\",\"type\":\"GlyphRenderer\"},{\"attributes\":{\"data_source\":{\"id\":\"85882d8a-2c8c-4d24-b477-07d7f65f650f\",\"type\":\"ColumnDataSource\"},\"glyph\":{\"id\":\"fcfc04e2-943a-4da5-990f-823f30e13c79\",\"type\":\"Rect\"},\"hover_glyph\":null,\"nonselection_glyph\":null,\"selection_glyph\":null},\"id\":\"c7e8cdb1-9920-4f24-b5ac-3deba764f96d\",\"type\":\"GlyphRenderer\"},{\"attributes\":{\"data_source\":{\"id\":\"26bfd091-1502-46d5-98ee-fa72c5172961\",\"type\":\"ColumnDataSource\"},\"glyph\":{\"id\":\"b98df9b1-ddbc-4d58-9531-064a1c2f584e\",\"type\":\"Rect\"},\"hover_glyph\":null,\"nonselection_glyph\":null,\"selection_glyph\":null},\"id\":\"1c57a515-cf5b-4fb7-b1e1-77e5a1d5f894\",\"type\":\"GlyphRenderer\"},{\"attributes\":{\"fill_alpha\":{\"field\":\"fill_alpha\"},\"fill_color\":{\"field\":\"color\"},\"height\":{\"field\":\"height\",\"units\":\"data\"},\"line_color\":{\"field\":\"line_color\"},\"width\":{\"field\":\"width\",\"units\":\"data\"},\"x\":{\"field\":\"x\"},\"y\":{\"field\":\"y\"}},\"id\":\"7e0dc7c9-4a9c-41a7-88dc-72bd0df1eb4d\",\"type\":\"Rect\"},{\"attributes\":{\"callback\":null,\"column_names\":[\"x\",\"line_color\",\"width\",\"fill_alpha\",\"color\",\"height\",\"y\",\"line_alpha\"],\"data\":{\"chart_index\":[{\"index\":\"Urinary Bladder\"}],\"color\":[\"#f22c40\"],\"fill_alpha\":[0.8],\"height\":[39.0],\"index\":[\"Urinary Bladder\"],\"line_alpha\":[1.0],\"line_color\":[\"white\"],\"width\":[0.8],\"x\":[\"Urinary Bladder\"],\"y\":[19.5]}},\"id\":\"4639bbf9-939f-4ce9-8cc3-a165c5d488a3\",\"type\":\"ColumnDataSource\"},{\"attributes\":{\"callback\":null,\"factors\":[\"Breast\",\"Chronic Lymphocytic Leukemia\",\"Kidney and Renal Pelvis\",\"Lung and Bronchus\",\"Melanoma of the Skin\",\"NHL - Nodal\",\"Prostate\",\"Salivary Gland\",\"Thyroid\",\"Urinary Bladder\"]},\"id\":\"36653d7f-66b9-4006-a406-84846be94c5f\",\"type\":\"FactorRange\"},{\"attributes\":{},\"id\":\"59c16b45-b383-4b7d-97f2-d3863c7cc93e\",\"type\":\"CategoricalTicker\"},{\"attributes\":{\"callback\":null,\"column_names\":[\"x\",\"line_color\",\"width\",\"fill_alpha\",\"color\",\"height\",\"y\",\"line_alpha\"],\"data\":{\"chart_index\":[{\"index\":\"Chronic Lymphocytic Leukemia\"}],\"color\":[\"#f22c40\"],\"fill_alpha\":[0.8],\"height\":[28.0],\"index\":[\"Chronic Lymphocytic Leukemia\"],\"line_alpha\":[1.0],\"line_color\":[\"white\"],\"width\":[0.8],\"x\":[\"Chronic Lymphocytic Leukemia\"],\"y\":[14.0]}},\"id\":\"0e9f1dbb-7e27-4450-b20c-9fe7479ae6cb\",\"type\":\"ColumnDataSource\"},{\"attributes\":{\"data_source\":{\"id\":\"4f952040-b41d-4085-878d-8328c58729c2\",\"type\":\"ColumnDataSource\"},\"glyph\":{\"id\":\"2991602e-64ee-43b3-b261-79014d368f61\",\"type\":\"Rect\"},\"hover_glyph\":null,\"nonselection_glyph\":null,\"selection_glyph\":null},\"id\":\"21e8f12d-dc07-438c-8c52-bffe7e1c5c34\",\"type\":\"GlyphRenderer\"},{\"attributes\":{\"data_source\":{\"id\":\"ffef45ca-9041-4cb5-9e91-e583fce9fd36\",\"type\":\"ColumnDataSource\"},\"glyph\":{\"id\":\"be8c47fb-c04f-4c5e-8830-30bd6e1d7916\",\"type\":\"Rect\"},\"hover_glyph\":null,\"nonselection_glyph\":null,\"selection_glyph\":null},\"id\":\"5de5555e-4a05-431a-b283-ede3cb476e27\",\"type\":\"GlyphRenderer\"},{\"attributes\":{\"fill_alpha\":{\"field\":\"fill_alpha\"},\"fill_color\":{\"field\":\"color\"},\"height\":{\"field\":\"height\",\"units\":\"data\"},\"line_color\":{\"field\":\"line_color\"},\"width\":{\"field\":\"width\",\"units\":\"data\"},\"x\":{\"field\":\"x\"},\"y\":{\"field\":\"y\"}},\"id\":\"b3d3f24c-99b0-4552-9aa0-0c10327fcdb4\",\"type\":\"Rect\"},{\"attributes\":{\"fill_alpha\":{\"field\":\"fill_alpha\"},\"fill_color\":{\"field\":\"color\"},\"height\":{\"field\":\"height\",\"units\":\"data\"},\"line_color\":{\"field\":\"line_color\"},\"width\":{\"field\":\"width\",\"units\":\"data\"},\"x\":{\"field\":\"x\"},\"y\":{\"field\":\"y\"}},\"id\":\"0f86d62c-f1cb-4e63-a7cd-1e9add824d68\",\"type\":\"Rect\"},{\"attributes\":{\"plot\":{\"id\":\"6f7701e9-a28d-4c49-968b-a16ba937a1fd\",\"subtype\":\"Chart\",\"type\":\"Plot\"}},\"id\":\"f44c7f95-c230-4fe3-a125-b4c4f9bc5b12\",\"type\":\"PanTool\"},{\"attributes\":{\"plot\":{\"id\":\"47d9d0d6-6a32-47c5-9b9d-244c95592545\",\"subtype\":\"Chart\",\"type\":\"Plot\"}},\"id\":\"cbd1c0d8-eece-4f76-bbc7-a414d6823c4f\",\"type\":\"ResetTool\"}],\"root_ids\":[\"6efe7365-8698-4e9a-b95d-06c8715f4ec4\",\"47d9d0d6-6a32-47c5-9b9d-244c95592545\",\"6f7701e9-a28d-4c49-968b-a16ba937a1fd\",\"07d070dc-14a2-4a0e-b14a-9d0891c44adb\"]},\"title\":\"Bokeh Application\",\"version\":\"0.11.1\"}};\n",
       "            var render_items = [{\"docid\":\"322aa9d3-26d0-415b-a26f-e2cae5d0d8da\",\"elementid\":\"c7fb05ea-3d49-4b9c-ab86-c6e4dd4222ca\",\"modelid\":\"07d070dc-14a2-4a0e-b14a-9d0891c44adb\",\"notebook_comms_target\":\"d57f9512-5dc6-4321-bda0-ee0e2beda422\"}];\n",
       "            \n",
       "            Bokeh.embed.embed_items(docs_json, render_items);\n",
       "        });\n",
       "      },\n",
       "      function(Bokeh) {\n",
       "      }\n",
       "    ];\n",
       "  \n",
       "    function run_inline_js() {\n",
       "      for (var i = 0; i < inline_js.length; i++) {\n",
       "        inline_js[i](window.Bokeh);\n",
       "      }\n",
       "    }\n",
       "  \n",
       "    if (window._bokeh_is_loading === 0) {\n",
       "      console.log(\"Bokeh: BokehJS loaded, going straight to plotting\");\n",
       "      run_inline_js();\n",
       "    } else {\n",
       "      load_libs(js_urls, function() {\n",
       "        console.log(\"Bokeh: BokehJS plotting callback run at\", now());\n",
       "        run_inline_js();\n",
       "      });\n",
       "    }\n",
       "  }(this));\n",
       "</script>"
      ]
     },
     "metadata": {},
     "output_type": "display_data"
    }
   ],
   "source": [
    "bokeh.plotting.show(bar);"
   ]
  },
  {
   "cell_type": "code",
   "execution_count": null,
   "metadata": {
    "collapsed": true
   },
   "outputs": [],
   "source": []
  }
 ],
 "metadata": {
  "celltoolbar": "Slideshow",
  "kernelspec": {
   "display_name": "Python 3",
   "language": "python",
   "name": "python3"
  },
  "language_info": {
   "codemirror_mode": {
    "name": "ipython",
    "version": 3
   },
   "file_extension": ".py",
   "mimetype": "text/x-python",
   "name": "python",
   "nbconvert_exporter": "python",
   "pygments_lexer": "ipython3",
   "version": "3.5.1"
  },
  "widgets": {
   "state": {},
   "version": "1.1.2"
  }
 },
 "nbformat": 4,
 "nbformat_minor": 0
}
