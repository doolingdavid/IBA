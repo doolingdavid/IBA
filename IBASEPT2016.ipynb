{
 "cells": [
  {
   "cell_type": "code",
   "execution_count": 2,
   "metadata": {
    "collapsed": false,
    "slideshow": {
     "slide_type": "skip"
    }
   },
   "outputs": [
    {
     "data": {
      "text/html": [
       "<script>\n",
       "code_show=true; \n",
       "function code_toggle() {\n",
       " if (code_show){\n",
       " $('div.input').hide();\n",
       " } else {\n",
       " $('div.input').show();\n",
       " }\n",
       " code_show = !code_show\n",
       "} \n",
       "$( document ).ready(code_toggle);\n",
       "</script>\n",
       "<form action=\"javascript:code_toggle()\"><input type=\"submit\" value=\"Click here to toggle on/off the raw code.\"></form>"
      ],
      "text/plain": [
       "<IPython.core.display.HTML object>"
      ]
     },
     "execution_count": 2,
     "metadata": {},
     "output_type": "execute_result"
    }
   ],
   "source": [
    "from IPython.display import HTML\n",
    "\n",
    "HTML('''<script>\n",
    "code_show=true; \n",
    "function code_toggle() {\n",
    " if (code_show){\n",
    " $('div.input').hide();\n",
    " } else {\n",
    " $('div.input').show();\n",
    " }\n",
    " code_show = !code_show\n",
    "} \n",
    "$( document ).ready(code_toggle);\n",
    "</script>\n",
    "<form action=\"javascript:code_toggle()\"><input type=\"submit\" value=\"Click here to toggle on/off the raw code.\"></form>''')  "
   ]
  },
  {
   "cell_type": "code",
   "execution_count": 3,
   "metadata": {
    "collapsed": false,
    "slideshow": {
     "slide_type": "skip"
    }
   },
   "outputs": [],
   "source": [
    "import numpy as np\n",
    "import pandas as pd\n",
    "import matplotlib.pyplot as plt\n",
    "from pandas import Series, DataFrame\n",
    "import pytz\n",
    "from pytz import common_timezones, all_timezones\n",
    "import matplotlib\n",
    "matplotlib.style.use('ggplot')\n",
    "%matplotlib inline\n",
    "from datetime import datetime\n",
    "import scipy as sp\n",
    "import statsmodels.api as sm\n",
    "import statsmodels.formula.api as smf\n",
    "matplotlib.style.use('fivethirtyeight')\n",
    "matplotlib.style.use('seaborn-talk')\n",
    "import os\n",
    "import collections\n",
    "\n",
    "preDouble = \"\\\\\\\\iobsdc01\\\\SharedDocs\\\\SEER_MEDICARE\\\\SEER_MEDICARE_STAGING\"\n",
    "new = os.chdir(preDouble)\n",
    "#print(preDouble)"
   ]
  },
  {
   "cell_type": "code",
   "execution_count": 4,
   "metadata": {
    "collapsed": true,
    "slideshow": {
     "slide_type": "skip"
    }
   },
   "outputs": [],
   "source": [
    "df = pd.read_pickle('dfpedsfFirsts.pickle')"
   ]
  },
  {
   "cell_type": "markdown",
   "metadata": {
    "slideshow": {
     "slide_type": "slide"
    }
   },
   "source": [
    "# <font color='steelblue'>Description of the SEER-Medicare Data Files format</font>\n",
    "\n",
    "Fixed width files. Data dictionary available to make the data not only machine readable but meaningful to humans\n",
    "\n",
    "* Patient Entitlement and Diagnosis Summary File (PEDSF)\n",
    "* Medicare Provider Analysis and Review (MEDPAR)\n",
    "* Carrier Claims (old file name Physician/Supplier Part B (NCH))\n",
    "* Outpatient Claims\n",
    "* Home Health Agency (HAA)\n",
    "* Hospice\n",
    "* Durable Medical Equipment (DME)\n",
    "* Medicare Part D Data"
   ]
  },
  {
   "cell_type": "markdown",
   "metadata": {
    "slideshow": {
     "slide_type": "slide"
    }
   },
   "source": [
    "## <font color='steelblue'>First order of business is to identify all the patients in the SEER-Medicare data who have received PBT</font>\n",
    "\n",
    "### <font color='steelblue'>Reminder</font>\n",
    "\n",
    "The relevant HCPCS are:\n",
    "\n",
    "* 77520 - Proton trmt simple w/o comp\n",
    "* 77522 - Proton trmt simple w/comp\n",
    "* 77523 - Proton trmt intermediate\n",
    "* 77525 - Proton treatment complex\n",
    "\n",
    "as well as the HCPCS code S8030 (Scleral application of tantalum ring(s) for localization of lesions for proton beam therapy)."
   ]
  },
  {
   "cell_type": "markdown",
   "metadata": {
    "slideshow": {
     "slide_type": "slide"
    }
   },
   "source": [
    "### <font color='steelblue'>Use the Outpatient Claims and Carrier Claims files</font>\n",
    "\n",
    "\n",
    "* 218 Outpatient Claims files\n",
    "* 207 Carrier Claims files\n",
    "\n",
    "\n",
    "Loop through all of these files and capture the set of all the ```patient_id``` s corresponding to the PBT HCPCS codes\n",
    "\n",
    "**Result: 1584 unique patients appear in the claims files for claims in years 2006-2013**\n"
   ]
  },
  {
   "cell_type": "code",
   "execution_count": 5,
   "metadata": {
    "collapsed": true,
    "slideshow": {
     "slide_type": "skip"
    }
   },
   "outputs": [],
   "source": [
    "mask = (df['srvm1'] != 9999)\n",
    "dfall = df[mask]"
   ]
  },
  {
   "cell_type": "code",
   "execution_count": 6,
   "metadata": {
    "collapsed": true,
    "slideshow": {
     "slide_type": "skip"
    }
   },
   "outputs": [],
   "source": [
    "geomask = (dfall['elevation_1'] != dfall['FIPScombo_1']) \n",
    "\n",
    "dfall = dfall[geomask].copy()"
   ]
  },
  {
   "cell_type": "code",
   "execution_count": 7,
   "metadata": {
    "collapsed": true,
    "slideshow": {
     "slide_type": "skip"
    }
   },
   "outputs": [],
   "source": [
    "dfall['elevation_1'].replace('99999',np.nan,inplace=True)\n",
    "dfall['elevation_2'].replace('99999',np.nan,inplace=True)\n",
    "dfall['elevation_3'].replace('99999',np.nan,inplace=True)\n",
    "\n",
    "dfall['lat_1'].replace('99999',np.nan,inplace=True)\n",
    "dfall['lat_2'].replace('99999',np.nan,inplace=True)\n",
    "dfall['lat_3'].replace('99999',np.nan,inplace=True)\n",
    "\n",
    "dfall['lng_1'].replace('99999',np.nan,inplace=True)\n",
    "dfall['lng_2'].replace('99999',np.nan,inplace=True)\n",
    "dfall['lng_3'].replace('99999',np.nan,inplace=True)\n",
    "\n",
    "dfall['elevation_1'] = dfall['elevation_1'].astype('float')\n",
    "dfall['elevation_2'] = dfall['elevation_2'].astype('float')\n",
    "dfall['elevation_3'] = dfall['elevation_3'].astype('float')\n",
    "\n",
    "dfall['lat_1'] = dfall['lat_1'].astype('float')\n",
    "dfall['lat_2'] = dfall['lat_2'].astype('float')\n",
    "dfall['lat_3'] = dfall['lat_3'].astype('float')\n",
    "\n",
    "dfall['lng_1'] = dfall['lng_1'].astype('float')\n",
    "dfall['lng_2'] = dfall['lng_2'].astype('float')\n",
    "dfall['lng_3'] = dfall['lng_3'].astype('float')"
   ]
  },
  {
   "cell_type": "code",
   "execution_count": 8,
   "metadata": {
    "collapsed": true,
    "slideshow": {
     "slide_type": "skip"
    }
   },
   "outputs": [],
   "source": [
    "import pickle\n",
    "fileObject = open('patient_ids_from_outsaf.pickle', 'rb')\n",
    "b = pickle.load(fileObject)\n",
    "fileObject.close()\n",
    "treatmentindices_outsaf = list(set.union(*b))"
   ]
  },
  {
   "cell_type": "code",
   "execution_count": 9,
   "metadata": {
    "collapsed": true,
    "slideshow": {
     "slide_type": "skip"
    }
   },
   "outputs": [],
   "source": [
    "import pickle\n",
    "fileObject = open('patient_ids_from_nch.pickle', 'rb')\n",
    "b = pickle.load(fileObject)\n",
    "fileObject.close()\n",
    "treatmentindices_nch = list(set.union(*b))"
   ]
  },
  {
   "cell_type": "code",
   "execution_count": 10,
   "metadata": {
    "collapsed": true,
    "slideshow": {
     "slide_type": "skip"
    }
   },
   "outputs": [],
   "source": [
    "bigtreatmentindices = list(set(treatmentindices_nch+treatmentindices_outsaf))\n",
    "\n",
    "dfall.set_index('patient_id', inplace=True,drop=False)\n",
    "\n",
    "allindices = dfall.index"
   ]
  },
  {
   "cell_type": "code",
   "execution_count": 11,
   "metadata": {
    "collapsed": true,
    "slideshow": {
     "slide_type": "skip"
    }
   },
   "outputs": [],
   "source": [
    "bigtreatmentset = set(bigtreatmentindices)\n",
    "allset = set(allindices)\n",
    "\n",
    "\n",
    "alltreatmentindices = list(allset.intersection(bigtreatmentset))\n",
    "\n",
    "treatmentindices = alltreatmentindices\n",
    "#len(treatmentindices)"
   ]
  },
  {
   "cell_type": "markdown",
   "metadata": {
    "slideshow": {
     "slide_type": "slide"
    }
   },
   "source": [
    "### <font color='steelblue'>Now use the pedsf files to perform patient matching, using the ```patient_id``` 's found above</font>\n",
    "\n",
    "List of pedsf files (contains SEER cases for diagnosis year dates 2006-2011):\n",
    "\n",
    "* pedsf.nasopharynx.cancer.txt\n",
    "* pedsf.salivarygland.cancer.txt\n",
    "* pedsf.oropharynx.cancer.txt\n",
    "* pedsf.esophagus.cancer.txt\n",
    "* pedsf.brain.cancer.txt\n",
    "* pedsf.eyeandorbit.cancer.txt\n",
    "* pedsf.softtissue.cancer.txt\n",
    "* pedsf.prostate.cancer.file01.txt\n",
    "* pedsf.prostate.cancer.file02.txt\n",
    "* pedsf.prostate.cancer.file03.txt\n",
    "* pedsf.lung.cancer.file01.txt\n",
    "* pedsf.lung.cancer.file02.txt\n",
    "\n"
   ]
  },
  {
   "cell_type": "markdown",
   "metadata": {
    "slideshow": {
     "slide_type": "slide"
    }
   },
   "source": [
    "### <font color='steelblue'>The pedsf files contain one single row for each patient, and contain the information for up to 10 different primary tumors</font>\n",
    "\n",
    "So the prostate cancer files contain all patients with a cancer diagnosis where the primary site is the prostate for ANY of the potentially 10 different primary tumors associated with that patient and where that prostate site tumor has a diagnosis date anywhere between 2006 and 2011.\n",
    "\n",
    " "
   ]
  },
  {
   "cell_type": "code",
   "execution_count": 12,
   "metadata": {
    "collapsed": true,
    "slideshow": {
     "slide_type": "skip"
    }
   },
   "outputs": [],
   "source": [
    "import pedsfhelp\n",
    "\n",
    "df2 = pedsfhelp.make_clean_dataframe('pedsf.salivarygland.cancer.txt')\n",
    "#print(df2.shape)"
   ]
  },
  {
   "cell_type": "markdown",
   "metadata": {
    "slideshow": {
     "slide_type": "slide"
    }
   },
   "source": [
    "For example, in the ```pedsf.salivarygland.cancer.txt```, the cancer sites for the first tumor listed for each patient has the following distribution:"
   ]
  },
  {
   "cell_type": "code",
   "execution_count": 13,
   "metadata": {
    "collapsed": false,
    "slideshow": {
     "slide_type": "slide"
    }
   },
   "outputs": [
    {
     "data": {
      "image/png": "[encoded data removed]",
      "text/plain": [
       "<matplotlib.figure.Figure at 0x2a5072b0>"
      ]
     },
     "metadata": {},
     "output_type": "display_data"
    }
   ],
   "source": [
    "df2.siterwho1.value_counts()[:10][::-1].plot(kind='barh');"
   ]
  },
  {
   "cell_type": "code",
   "execution_count": 14,
   "metadata": {
    "collapsed": false,
    "slideshow": {
     "slide_type": "skip"
    }
   },
   "outputs": [
    {
     "data": {
      "text/html": [
       "\n",
       "    <div class=\"bk-banner\">\n",
       "        <a href=\"http://bokeh.pydata.org\" target=\"_blank\" class=\"bk-logo bk-logo-small bk-logo-notebook\"></a>\n",
       "        <span id=\"c862a642-8b85-4e1e-a7d7-44bd6d64c136\">Loading BokehJS ...</span>\n",
       "    </div>"
      ]
     },
     "metadata": {},
     "output_type": "display_data"
    },
    {
     "data": {
      "application/javascript": [
       "\n",
       "(function(global) {\n",
       "  function now() {\n",
       "    return new Date();\n",
       "  }\n",
       "\n",
       "  if (typeof (window._bokeh_onload_callbacks) === \"undefined\") {\n",
       "    window._bokeh_onload_callbacks = [];\n",
       "  }\n",
       "\n",
       "  function run_callbacks() {\n",
       "    window._bokeh_onload_callbacks.forEach(function(callback) { callback() });\n",
       "    delete window._bokeh_onload_callbacks\n",
       "    console.info(\"Bokeh: all callbacks have finished\");\n",
       "  }\n",
       "\n",
       "  function load_libs(js_urls, callback) {\n",
       "    window._bokeh_onload_callbacks.push(callback);\n",
       "    if (window._bokeh_is_loading > 0) {\n",
       "      console.log(\"Bokeh: BokehJS is being loaded, scheduling callback at\", now());\n",
       "      return null;\n",
       "    }\n",
       "    if (js_urls == null || js_urls.length === 0) {\n",
       "      run_callbacks();\n",
       "      return null;\n",
       "    }\n",
       "    console.log(\"Bokeh: BokehJS not loaded, scheduling load and callback at\", now());\n",
       "    window._bokeh_is_loading = js_urls.length;\n",
       "    for (var i = 0; i < js_urls.length; i++) {\n",
       "      var url = js_urls[i];\n",
       "      var s = document.createElement('script');\n",
       "      s.src = url;\n",
       "      s.async = false;\n",
       "      s.onreadystatechange = s.onload = function() {\n",
       "        window._bokeh_is_loading--;\n",
       "        if (window._bokeh_is_loading === 0) {\n",
       "          console.log(\"Bokeh: all BokehJS libraries loaded\");\n",
       "          run_callbacks()\n",
       "        }\n",
       "      };\n",
       "      s.onerror = function() {\n",
       "        console.warn(\"failed to load library \" + url);\n",
       "      };\n",
       "      console.log(\"Bokeh: injecting script tag for BokehJS library: \", url);\n",
       "      document.getElementsByTagName(\"head\")[0].appendChild(s);\n",
       "    }\n",
       "  };\n",
       "\n",
       "  var js_urls = ['https://cdn.pydata.org/bokeh/release/bokeh-0.11.1.min.js', 'https://cdn.pydata.org/bokeh/release/bokeh-widgets-0.11.1.min.js', 'https://cdn.pydata.org/bokeh/release/bokeh-compiler-0.11.1.min.js'];\n",
       "\n",
       "  var inline_js = [\n",
       "    function(Bokeh) {\n",
       "      Bokeh.set_log_level(\"info\");\n",
       "    },\n",
       "    \n",
       "    function(Bokeh) {\n",
       "      Bokeh.$(\"#c862a642-8b85-4e1e-a7d7-44bd6d64c136\").text(\"BokehJS successfully loaded\");\n",
       "    },\n",
       "    function(Bokeh) {\n",
       "      console.log(\"Bokeh: injecting CSS: https://cdn.pydata.org/bokeh/release/bokeh-0.11.1.min.css\");\n",
       "      Bokeh.embed.inject_css(\"https://cdn.pydata.org/bokeh/release/bokeh-0.11.1.min.css\");\n",
       "      console.log(\"Bokeh: injecting CSS: https://cdn.pydata.org/bokeh/release/bokeh-widgets-0.11.1.min.css\");\n",
       "      Bokeh.embed.inject_css(\"https://cdn.pydata.org/bokeh/release/bokeh-widgets-0.11.1.min.css\");\n",
       "    }\n",
       "  ];\n",
       "\n",
       "  function run_inline_js() {\n",
       "    for (var i = 0; i < inline_js.length; i++) {\n",
       "      inline_js[i](window.Bokeh);\n",
       "    }\n",
       "  }\n",
       "\n",
       "  if (window._bokeh_is_loading === 0) {\n",
       "    console.log(\"Bokeh: BokehJS loaded, going straight to plotting\");\n",
       "    run_inline_js();\n",
       "  } else {\n",
       "    load_libs(js_urls, function() {\n",
       "      console.log(\"Bokeh: BokehJS plotting callback run at\", now());\n",
       "      run_inline_js();\n",
       "    });\n",
       "  }\n",
       "}(this));"
      ]
     },
     "metadata": {},
     "output_type": "display_data"
    }
   ],
   "source": [
    "#from bokeh.io import output_notebook\n",
    "#from bokeh.resources import CDN\n",
    "#from bokeh.plotting import figure, show\n",
    "#output_notebook(resources=CDN)\n",
    "\n",
    "import bokeh.io\n",
    "import bokeh.mpl\n",
    "import bokeh.plotting\n",
    "\n",
    "from bokeh.resources import CDN\n",
    "bokeh.io.output_notebook(resources=CDN)"
   ]
  },
  {
   "cell_type": "code",
   "execution_count": 15,
   "metadata": {
    "collapsed": false,
    "slideshow": {
     "slide_type": "slide"
    }
   },
   "outputs": [
    {
     "data": {
      "text/html": [
       "\n",
       "\n",
       "    <div class=\"plotdiv\" id=\"1093faac-5f96-4c5d-bbdc-add31a34157c\"></div>\n",
       "<script type=\"text/javascript\">\n",
       "  \n",
       "  (function(global) {\n",
       "    function now() {\n",
       "      return new Date();\n",
       "    }\n",
       "  \n",
       "    if (typeof (window._bokeh_onload_callbacks) === \"undefined\") {\n",
       "      window._bokeh_onload_callbacks = [];\n",
       "    }\n",
       "  \n",
       "    function run_callbacks() {\n",
       "      window._bokeh_onload_callbacks.forEach(function(callback) { callback() });\n",
       "      delete window._bokeh_onload_callbacks\n",
       "      console.info(\"Bokeh: all callbacks have finished\");\n",
       "    }\n",
       "  \n",
       "    function load_libs(js_urls, callback) {\n",
       "      window._bokeh_onload_callbacks.push(callback);\n",
       "      if (window._bokeh_is_loading > 0) {\n",
       "        console.log(\"Bokeh: BokehJS is being loaded, scheduling callback at\", now());\n",
       "        return null;\n",
       "      }\n",
       "      if (js_urls == null || js_urls.length === 0) {\n",
       "        run_callbacks();\n",
       "        return null;\n",
       "      }\n",
       "      console.log(\"Bokeh: BokehJS not loaded, scheduling load and callback at\", now());\n",
       "      window._bokeh_is_loading = js_urls.length;\n",
       "      for (var i = 0; i < js_urls.length; i++) {\n",
       "        var url = js_urls[i];\n",
       "        var s = document.createElement('script');\n",
       "        s.src = url;\n",
       "        s.async = false;\n",
       "        s.onreadystatechange = s.onload = function() {\n",
       "          window._bokeh_is_loading--;\n",
       "          if (window._bokeh_is_loading === 0) {\n",
       "            console.log(\"Bokeh: all BokehJS libraries loaded\");\n",
       "            run_callbacks()\n",
       "          }\n",
       "        };\n",
       "        s.onerror = function() {\n",
       "          console.warn(\"failed to load library \" + url);\n",
       "        };\n",
       "        console.log(\"Bokeh: injecting script tag for BokehJS library: \", url);\n",
       "        document.getElementsByTagName(\"head\")[0].appendChild(s);\n",
       "      }\n",
       "    };var element = document.getElementById(\"1093faac-5f96-4c5d-bbdc-add31a34157c\");\n",
       "    if (element == null) {\n",
       "      console.log(\"Bokeh: ERROR: autoload.js configured with elementid '1093faac-5f96-4c5d-bbdc-add31a34157c' but no matching script tag was found. \")\n",
       "      return false;\n",
       "    }\n",
       "  \n",
       "    var js_urls = [];\n",
       "  \n",
       "    var inline_js = [\n",
       "      function(Bokeh) {\n",
       "        Bokeh.$(function() {\n",
       "            var docs_json = {\"6cf9b3c2-7670-4105-8ded-b932ff5a1cb6\":{\"roots\":{\"references\":[{\"attributes\":{\"data_source\":{\"id\":\"7f817a33-36c4-4c3c-aa98-7a32cdf867d1\",\"type\":\"ColumnDataSource\"},\"glyph\":{\"id\":\"ff2df9e7-a76b-4362-8612-3b784643c65b\",\"type\":\"X\"},\"hover_glyph\":null,\"nonselection_glyph\":null,\"selection_glyph\":null},\"id\":\"ea1e2f0e-ba58-4cb0-a492-d2c28e8fcfdc\",\"type\":\"GlyphRenderer\"},{\"attributes\":{\"callback\":null},\"id\":\"5d4204bb-9a98-45b3-9b98-bd349e2acc6d\",\"type\":\"DataRange1d\"},{\"attributes\":{\"bottom_units\":\"screen\",\"fill_alpha\":{\"value\":0.5},\"fill_color\":{\"value\":\"lightgrey\"},\"left_units\":\"screen\",\"level\":\"overlay\",\"line_alpha\":{\"value\":1.0},\"line_color\":{\"value\":\"black\"},\"line_dash\":[4,4],\"line_width\":{\"value\":2},\"plot\":null,\"render_mode\":\"css\",\"right_units\":\"screen\",\"top_units\":\"screen\"},\"id\":\"36e47ff6-655d-4d7f-9f16-14fa5343ae09\",\"type\":\"BoxAnnotation\"},{\"attributes\":{\"plot\":{\"id\":\"964a725c-1f96-4fac-ada5-86a7b11c2f1a\",\"type\":\"Plot\"}},\"id\":\"02231dd6-8f65-495d-9976-2f8d7d9f555c\",\"type\":\"WheelZoomTool\"},{\"attributes\":{\"plot\":{\"id\":\"964a725c-1f96-4fac-ada5-86a7b11c2f1a\",\"type\":\"Plot\"}},\"id\":\"fabd9f3e-55ec-4825-b30a-c725e79967cf\",\"type\":\"PanTool\"},{\"attributes\":{},\"id\":\"ea6383f7-d7aa-4b10-97c5-90d2adceb575\",\"type\":\"BasicTickFormatter\"},{\"attributes\":{\"grid_line_color\":{\"value\":\"#cbcbcb\"},\"grid_line_width\":{\"value\":1.3},\"plot\":{\"id\":\"964a725c-1f96-4fac-ada5-86a7b11c2f1a\",\"type\":\"Plot\"},\"ticker\":{\"id\":\"092fe1fa-483c-4c8f-89d4-a96d8248990d\",\"type\":\"BasicTicker\"}},\"id\":\"0310c87c-08de-4bab-b10c-347b10a94744\",\"type\":\"Grid\"},{\"attributes\":{\"dimension\":1,\"grid_line_color\":{\"value\":\"#cbcbcb\"},\"grid_line_width\":{\"value\":1.3},\"plot\":{\"id\":\"964a725c-1f96-4fac-ada5-86a7b11c2f1a\",\"type\":\"Plot\"},\"ticker\":{\"id\":\"34f6699b-8be6-4c82-9d9f-e10c6c203f99\",\"type\":\"BasicTicker\"}},\"id\":\"29f730fc-ee61-4ce1-9e09-a74a4c3e6dd6\",\"type\":\"Grid\"},{\"attributes\":{\"plot\":{\"id\":\"964a725c-1f96-4fac-ada5-86a7b11c2f1a\",\"type\":\"Plot\"}},\"id\":\"c719e791-9c5a-4a2a-8df3-5c2aaa2538e7\",\"type\":\"HelpTool\"},{\"attributes\":{\"line_color\":{\"value\":\"#30A2DA\"},\"line_width\":{\"value\":2.275},\"x\":{\"field\":\"Series 0\"},\"y\":{\"field\":\"Series 1\"}},\"id\":\"80447a87-079c-4af2-a3bb-ce0d9e8f2220\",\"type\":\"Line\"},{\"attributes\":{},\"id\":\"120dcd45-efc7-435f-9e99-475fbc60b8d0\",\"type\":\"ToolEvents\"},{\"attributes\":{\"plot\":{\"id\":\"964a725c-1f96-4fac-ada5-86a7b11c2f1a\",\"type\":\"Plot\"}},\"id\":\"1a0f4161-0627-4c1e-a0e4-add615a04f9d\",\"type\":\"ResetTool\"},{\"attributes\":{},\"id\":\"0895cc2a-2ff6-4ae6-940b-52609623791a\",\"type\":\"BasicTickFormatter\"},{\"attributes\":{\"background_fill_color\":{\"value\":\"#f0f0f0\"},\"below\":[{\"id\":\"ab88ee53-793d-4681-98ba-d13c81c5c859\",\"type\":\"LinearAxis\"}],\"left\":[{\"id\":\"f5894838-c8f0-47bc-ad6d-97de81b4cf86\",\"type\":\"LinearAxis\"}],\"plot_height\":572,\"plot_width\":832,\"renderers\":[{\"id\":\"ab88ee53-793d-4681-98ba-d13c81c5c859\",\"type\":\"LinearAxis\"},{\"id\":\"0310c87c-08de-4bab-b10c-347b10a94744\",\"type\":\"Grid\"},{\"id\":\"f5894838-c8f0-47bc-ad6d-97de81b4cf86\",\"type\":\"LinearAxis\"},{\"id\":\"29f730fc-ee61-4ce1-9e09-a74a4c3e6dd6\",\"type\":\"Grid\"},{\"id\":\"ea1e2f0e-ba58-4cb0-a492-d2c28e8fcfdc\",\"type\":\"GlyphRenderer\"},{\"id\":\"36e47ff6-655d-4d7f-9f16-14fa5343ae09\",\"type\":\"BoxAnnotation\"},{\"id\":\"4e25e145-6ee4-4344-8d5f-e4beb3892d76\",\"type\":\"GlyphRenderer\"}],\"tool_events\":{\"id\":\"120dcd45-efc7-435f-9e99-475fbc60b8d0\",\"type\":\"ToolEvents\"},\"tools\":[{\"id\":\"fabd9f3e-55ec-4825-b30a-c725e79967cf\",\"type\":\"PanTool\"},{\"id\":\"02231dd6-8f65-495d-9976-2f8d7d9f555c\",\"type\":\"WheelZoomTool\"},{\"id\":\"2d20af96-e875-4cf3-9dc7-38b446649cc5\",\"type\":\"BoxZoomTool\"},{\"id\":\"7671d2f5-18e9-4662-a35b-c8d86a67a8e0\",\"type\":\"PreviewSaveTool\"},{\"id\":\"2e64c759-564b-434c-ae26-7283f3b7056f\",\"type\":\"ResizeTool\"},{\"id\":\"1a0f4161-0627-4c1e-a0e4-add615a04f9d\",\"type\":\"ResetTool\"},{\"id\":\"c719e791-9c5a-4a2a-8df3-5c2aaa2538e7\",\"type\":\"HelpTool\"}],\"x_range\":{\"id\":\"ae4b3d70-43f7-4e1e-9ca1-29186cfed621\",\"type\":\"DataRange1d\"},\"y_range\":{\"id\":\"5d4204bb-9a98-45b3-9b98-bd349e2acc6d\",\"type\":\"DataRange1d\"}},\"id\":\"964a725c-1f96-4fac-ada5-86a7b11c2f1a\",\"type\":\"Plot\"},{\"attributes\":{},\"id\":\"34f6699b-8be6-4c82-9d9f-e10c6c203f99\",\"type\":\"BasicTicker\"},{\"attributes\":{\"callback\":null},\"id\":\"ae4b3d70-43f7-4e1e-9ca1-29186cfed621\",\"type\":\"DataRange1d\"},{\"attributes\":{\"callback\":null,\"column_names\":[\"Series 0\",\"Series 1\"],\"data\":{\"Series 0\":[0.0,0.03157379551346526,0.06314759102693052,0.09472138654039577,0.12629518205386103,0.1578689775673263,0.18944277308079155,0.2210165685942568,0.25259036410772207,0.28416415962118735,0.3157379551346526,0.3473117506481178,0.3788855461615831,0.4104593416750484,0.4420331371885136,0.47360693270197884,0.5051807282154441,0.5367545237289094,0.5683283192423747,0.5999021147558399,0.6314759102693052,0.6630497057827704,0.6946235012962356,0.7261972968097009,0.7577710923231662,0.7893448878366315,0.8209186833500968,0.8524924788635619,0.8840662743770272,0.9156400698904925,0.9472138654039577,0.978787660917423,1.0103614564308883,1.0419352519443534,1.0735090474578188,1.105082842971284,1.1366566384847494,1.1682304339982146,1.1998042295116798,1.2313780250251452,1.2629518205386103,1.2945256160520755,1.326099411565541,1.357673207079006,1.3892470025924712,1.4208207981059366,1.4523945936194018,1.4839683891328672,1.5155421846463324,1.5471159801597976,1.578689775673263,1.6102635711867281,1.6418373667001935,1.6734111622136587,1.7049849577271239,1.7365587532405893,1.7681325487540545,1.7997063442675196,1.831280139780985,1.8628539352944502,1.8944277308079154,1.9260015263213808,1.957575321834846,1.9891491173483113,2.0207229128617765,2.0522967083752417,2.083870503888707,2.1154442994021725,2.1470180949156377,2.178591890429103,2.210165685942568,2.241739481456033,2.273313276969499,2.304887072482964,2.336460867996429,2.3680346635098943,2.3996084590233595,2.4311822545368247,2.4627560500502903,2.4943298455637555,2.5259036410772207,2.557477436590686,2.589051232104151,2.6206250276176166,2.652198823131082,2.683772618644547,2.715346414158012,2.7469202096714773,2.7784940051849425,2.810067800698408,2.8416415962118733,2.8732153917253385,2.9047891872388036,2.936362982752269,2.9679367782657344,2.9995105737791996,3.031084369292665,3.06265816480613,3.094231960319595,3.1258057558330608,3.157379551346526,3.188953346859991,3.2205271423734563,3.2521009378869215,3.283674733400387,3.3152485289138522,3.3468223244273174,3.3783961199407826,3.4099699154542478,3.441543710967713,3.4731175064811786,3.5046913019946437,3.536265097508109,3.567838893021574,3.5994126885350393,3.630986484048505,3.66256027956197,3.6941340750754352,3.7257078705889004,3.7572816661023656,3.7888554616158308,3.8204292571292964,3.8520030526427615,3.8835768481562267,3.915150643669692,3.946724439183157,3.9782982346966227,4.009872030210087,4.041445825723553,4.073019621237019,4.104593416750483,4.136167212263949,4.167741007777414,4.199314803290879,4.230888598804345,4.26246239431781,4.294036189831275,4.32560998534474,4.357183780858206,4.388757576371671,4.420331371885136,4.451905167398602,4.483478962912066,4.515052758425532,4.546626553938998,4.578200349452462,4.609774144965928,4.641347940479393,4.672921735992858,4.704495531506323,4.736069327019789,4.767643122533254,4.799216918046719,4.830790713560185,4.862364509073649,4.893938304587115,4.925512100100581,4.957085895614045,4.988659691127511,5.020233486640976,5.051807282154441,5.083381077667907,5.114954873181372,5.146528668694837,5.178102464208302,5.209676259721768,5.241250055235233,5.272823850748698,5.304397646262164,5.335971441775628,5.367545237289094,5.39911903280256,5.430692828316024,5.46226662382949,5.493840419342955,5.52541421485642,5.556988010369885,5.588561805883351,5.620135601396816,5.651709396910281,5.683283192423747,5.714856987937211,5.746430783450677,5.7780045789641425,5.809578374477607,5.841152169991073,5.872725965504538,5.904299761018003,5.935873556531469,5.967447352044934,5.999021147558399,6.030594943071864,6.06216873858533,6.093742534098795,6.12531632961226,6.1568901251257255,6.18846392063919,6.220037716152656,6.2516115116661215,6.283185307179586],\"Series 1\":[1.0,1.032066710193193,1.06509474236811,1.0990419686856636,1.1338590385547467,1.1694893717009793,1.205869249714291,1.2429280116798642,1.280588357317169,1.3187667585826122,1.357373978003129,1.3963156891872375,1.43549319210542,1.4748042129503036,1.514143775788897,1.5534051309114774,1.5924807228633202,1.631263179701016,1.66964630411034,1.70752604670041,1.7448014420667224,1.781375489084834,1.8171559583223198,1.852056111380977,1.8859953193255117,1.9188995700251097,1.9507018571257693,1.9813424463750258,2.010769018028521,2.0389366869778813,2.065807904960449,2.091352251666856,2.115546123692352,2.1383723320407357,2.159819620262366,2.1798821162847855,2.1985587315862603,2.2158525215932507,2.231770021087363,2.2463205680284206,2.2595156285854032,2.2713681353654755,2.28189184989156,2.291100759346508,2.299008516517379,2.3056279307712333,2.310970516801643,2.3150461068229617,2.3178625308700562,2.31942536889049,2.3197377773935446,2.318800392540108,2.316611310709119,2.313166146746749,2.3084581692788197,2.3024785116298387,2.2952164560291717,2.286659787884421,2.276795215955854,2.2656088532703764,2.253086752571653,2.2392154890237497,2.2239827817855113,2.2073781449757166,2.1893935574858236,2.1700241401056295,2.149268827550617,2.1271310222653583,2.1036192163743417,2.0787475679086995,2.0525364174999967,2.0250127321397344,1.9962104633854107,1.9661708085684515,1.9349423651288866,1.902581170152091,1.8691506194819663,1.834721263381775,1.7993704785399443,1.76318201918924,1.726245453126735,1.688655491383331,1.6505112230858856,1.611915269574767,1.5729728739848585,1.5337909441817827,1.4944770680985064,1.45513852109374,1.4158812849308142,1.3768090973583869,1.338022550092857,1.2996182513114372,1.2616880666402135,1.224318450155571,1.187589874213834,1.1515763640922652,1.1163451405738416,1.0819563708420734,1.048463025463559,1.0159108369037544,0.9843383530071922,0.9537770772201227,0.9242516860654116,0.8957803135022957,0.8683748913067124,0.8420415344665887,0.8167809607646872,0.7925889341752512,0.7694567223805192,0.7473715595679621,0.7263171066480085,0.7062739020869707,0.6872197976371077,0.6691303743270864,0.6519793351195335,0.6357388716225414,0.620380003139871,0.6058728871472596,0.5921871009822195,0.5792918951292285,0.5671564189724598,0.5557499202784664,0.5450419199681541,0.5350023639492195,0.5256017539162657,0.5168112590957664,0.508602810926732,0.5009491826348217,0.49382405558672593,0.4872020742111883,0.48105889115052036,0.4753712041685631,0.47011678619355435,0.4652745097222833,0.4608243666594987,0.45674748451728514,0.4530261397559505,0.449643768913155,0.4465849780433498,0.4438355508764182,0.4413824560036095,0.4392138533109907,0.4373190998059152,0.4356887549203291,0.4343145853257659,0.4331895692579986,0.4323079003237213,0.4316649907462889,0.43125747400126985,0.431083206794002,0.4311412703390218,0.431431970913577,0.43195683967277154,0.4327186317305288,0.4337213245267634,0.43497011551520304,0.4364714192165126,0.4382328636861217,0.44026328644391877,0.4425727299023206,0.4451724363088982,0.448074842188614,0.4512935722278919,0.4548434324874733,0.45874040276284245,0.4630016278297,0.46764540721758185,0.4726911830476462,0.4781595253515887,0.4840721141587195,0.49045171749898886,0.49732216432321025,0.5047083111905035,0.5126360014202448,0.5211320152554489,0.5302240094411421,0.5399404444902883,0.5503104977974729,0.561363960673862,0.5731311173238697,0.5856426037730906,0.5989292447976537,0.6130218670069435,0.6279510864043459,0.643747069003975,0.6604392634239649,0.6780561048164679,0.6966246900365388,0.7161704245993803,0.7367166427273991,0.7582842026400354,0.7808910601803364,0.8045518248868349,0.8292773036852312,0.8550740384630743,0.8819438448668473,0.9098833606835709,0.9388836130921276,0.9689296148432206,0.9999999999999998]}},\"id\":\"2f9a45ae-f9c6-40b6-834f-4b9d6a64f740\",\"type\":\"ColumnDataSource\"},{\"attributes\":{\"axis_label\":\"x\",\"axis_label_text_font\":\"sans-serif\",\"axis_label_text_font_size\":{\"value\":\"14.300000pt\"},\"formatter\":{\"id\":\"0895cc2a-2ff6-4ae6-940b-52609623791a\",\"type\":\"BasicTickFormatter\"},\"major_label_text_font\":\"sans-serif\",\"major_label_text_font_size\":{\"value\":\"13.000000pt\"},\"plot\":{\"id\":\"964a725c-1f96-4fac-ada5-86a7b11c2f1a\",\"type\":\"Plot\"},\"ticker\":{\"id\":\"092fe1fa-483c-4c8f-89d4-a96d8248990d\",\"type\":\"BasicTicker\"}},\"id\":\"ab88ee53-793d-4681-98ba-d13c81c5c859\",\"type\":\"LinearAxis\"},{\"attributes\":{\"plot\":{\"id\":\"964a725c-1f96-4fac-ada5-86a7b11c2f1a\",\"type\":\"Plot\"}},\"id\":\"7671d2f5-18e9-4662-a35b-c8d86a67a8e0\",\"type\":\"PreviewSaveTool\"},{\"attributes\":{\"data_source\":{\"id\":\"2f9a45ae-f9c6-40b6-834f-4b9d6a64f740\",\"type\":\"ColumnDataSource\"},\"glyph\":{\"id\":\"80447a87-079c-4af2-a3bb-ce0d9e8f2220\",\"type\":\"Line\"},\"hover_glyph\":null,\"nonselection_glyph\":null,\"selection_glyph\":null},\"id\":\"4e25e145-6ee4-4344-8d5f-e4beb3892d76\",\"type\":\"GlyphRenderer\"},{\"attributes\":{\"plot\":{\"id\":\"964a725c-1f96-4fac-ada5-86a7b11c2f1a\",\"type\":\"Plot\"}},\"id\":\"2e64c759-564b-434c-ae26-7283f3b7056f\",\"type\":\"ResizeTool\"},{\"attributes\":{\"callback\":null,\"column_names\":[\"name\"],\"data\":{\"name\":\"ax_end\"}},\"id\":\"7f817a33-36c4-4c3c-aa98-7a32cdf867d1\",\"type\":\"ColumnDataSource\"},{\"attributes\":{\"overlay\":{\"id\":\"36e47ff6-655d-4d7f-9f16-14fa5343ae09\",\"type\":\"BoxAnnotation\"},\"plot\":{\"id\":\"964a725c-1f96-4fac-ada5-86a7b11c2f1a\",\"type\":\"Plot\"}},\"id\":\"2d20af96-e875-4cf3-9dc7-38b446649cc5\",\"type\":\"BoxZoomTool\"},{\"attributes\":{\"axis_label\":\"sin(sin(x))\",\"axis_label_text_font\":\"sans-serif\",\"axis_label_text_font_size\":{\"value\":\"14.300000pt\"},\"formatter\":{\"id\":\"ea6383f7-d7aa-4b10-97c5-90d2adceb575\",\"type\":\"BasicTickFormatter\"},\"major_label_text_font\":\"sans-serif\",\"major_label_text_font_size\":{\"value\":\"13.000000pt\"},\"plot\":{\"id\":\"964a725c-1f96-4fac-ada5-86a7b11c2f1a\",\"type\":\"Plot\"},\"ticker\":{\"id\":\"34f6699b-8be6-4c82-9d9f-e10c6c203f99\",\"type\":\"BasicTicker\"}},\"id\":\"f5894838-c8f0-47bc-ad6d-97de81b4cf86\",\"type\":\"LinearAxis\"},{\"attributes\":{},\"id\":\"ff2df9e7-a76b-4362-8612-3b784643c65b\",\"type\":\"X\"},{\"attributes\":{},\"id\":\"092fe1fa-483c-4c8f-89d4-a96d8248990d\",\"type\":\"BasicTicker\"}],\"root_ids\":[\"964a725c-1f96-4fac-ada5-86a7b11c2f1a\"]},\"title\":\"Bokeh Application\",\"version\":\"0.11.1\"}};\n",
       "            var render_items = [{\"docid\":\"6cf9b3c2-7670-4105-8ded-b932ff5a1cb6\",\"elementid\":\"1093faac-5f96-4c5d-bbdc-add31a34157c\",\"modelid\":\"964a725c-1f96-4fac-ada5-86a7b11c2f1a\",\"notebook_comms_target\":\"7a80c4b1-8f9b-439d-8cae-7156e3d1c914\"}];\n",
       "            \n",
       "            Bokeh.embed.embed_items(docs_json, render_items);\n",
       "        });\n",
       "      },\n",
       "      function(Bokeh) {\n",
       "      }\n",
       "    ];\n",
       "  \n",
       "    function run_inline_js() {\n",
       "      for (var i = 0; i < inline_js.length; i++) {\n",
       "        inline_js[i](window.Bokeh);\n",
       "      }\n",
       "    }\n",
       "  \n",
       "    if (window._bokeh_is_loading === 0) {\n",
       "      console.log(\"Bokeh: BokehJS loaded, going straight to plotting\");\n",
       "      run_inline_js();\n",
       "    } else {\n",
       "      load_libs(js_urls, function() {\n",
       "        console.log(\"Bokeh: BokehJS plotting callback run at\", now());\n",
       "        run_inline_js();\n",
       "      });\n",
       "    }\n",
       "  }(this));\n",
       "</script>"
      ]
     },
     "metadata": {},
     "output_type": "display_data"
    }
   ],
   "source": [
    "# Generate data to plot\n",
    "x = np.linspace(0, 2 * np.pi, 200)\n",
    "y = np.exp(np.sin(np.sin(x)))\n",
    "\n",
    "# Make plot\n",
    "plt.plot(x, y)\n",
    "plt.xlim((0, 2 * np.pi))\n",
    "plt.xlabel('x')\n",
    "plt.ylabel('sin(sin(x))')\n",
    "\n",
    "# Make it interactive with Bokeh\n",
    "bokeh.plotting.show(bokeh.mpl.to_bokeh());"
   ]
  },
  {
   "cell_type": "code",
   "execution_count": 16,
   "metadata": {
    "collapsed": false,
    "slideshow": {
     "slide_type": "skip"
    }
   },
   "outputs": [],
   "source": [
    "from bokeh.charts import Bar, output_file, hplot\n",
    "import bokeh.mpl\n",
    "data = pd.DataFrame(df2.siterwho1.value_counts()[:10][::-1])\n",
    "\n",
    "data\n",
    "bar = Bar(data,values='siterwho1')\n",
    "#bokeh.plotting.show(bar);"
   ]
  },
  {
   "cell_type": "code",
   "execution_count": 17,
   "metadata": {
    "collapsed": false,
    "slideshow": {
     "slide_type": "slide"
    }
   },
   "outputs": [
    {
     "data": {
      "text/html": [
       "\n",
       "\n",
       "    <div class=\"plotdiv\" id=\"90cf751f-6ccf-4d23-bf8f-21eafe813404\"></div>\n",
       "<script type=\"text/javascript\">\n",
       "  \n",
       "  (function(global) {\n",
       "    function now() {\n",
       "      return new Date();\n",
       "    }\n",
       "  \n",
       "    if (typeof (window._bokeh_onload_callbacks) === \"undefined\") {\n",
       "      window._bokeh_onload_callbacks = [];\n",
       "    }\n",
       "  \n",
       "    function run_callbacks() {\n",
       "      window._bokeh_onload_callbacks.forEach(function(callback) { callback() });\n",
       "      delete window._bokeh_onload_callbacks\n",
       "      console.info(\"Bokeh: all callbacks have finished\");\n",
       "    }\n",
       "  \n",
       "    function load_libs(js_urls, callback) {\n",
       "      window._bokeh_onload_callbacks.push(callback);\n",
       "      if (window._bokeh_is_loading > 0) {\n",
       "        console.log(\"Bokeh: BokehJS is being loaded, scheduling callback at\", now());\n",
       "        return null;\n",
       "      }\n",
       "      if (js_urls == null || js_urls.length === 0) {\n",
       "        run_callbacks();\n",
       "        return null;\n",
       "      }\n",
       "      console.log(\"Bokeh: BokehJS not loaded, scheduling load and callback at\", now());\n",
       "      window._bokeh_is_loading = js_urls.length;\n",
       "      for (var i = 0; i < js_urls.length; i++) {\n",
       "        var url = js_urls[i];\n",
       "        var s = document.createElement('script');\n",
       "        s.src = url;\n",
       "        s.async = false;\n",
       "        s.onreadystatechange = s.onload = function() {\n",
       "          window._bokeh_is_loading--;\n",
       "          if (window._bokeh_is_loading === 0) {\n",
       "            console.log(\"Bokeh: all BokehJS libraries loaded\");\n",
       "            run_callbacks()\n",
       "          }\n",
       "        };\n",
       "        s.onerror = function() {\n",
       "          console.warn(\"failed to load library \" + url);\n",
       "        };\n",
       "        console.log(\"Bokeh: injecting script tag for BokehJS library: \", url);\n",
       "        document.getElementsByTagName(\"head\")[0].appendChild(s);\n",
       "      }\n",
       "    };var element = document.getElementById(\"90cf751f-6ccf-4d23-bf8f-21eafe813404\");\n",
       "    if (element == null) {\n",
       "      console.log(\"Bokeh: ERROR: autoload.js configured with elementid '90cf751f-6ccf-4d23-bf8f-21eafe813404' but no matching script tag was found. \")\n",
       "      return false;\n",
       "    }\n",
       "  \n",
       "    var js_urls = [];\n",
       "  \n",
       "    var inline_js = [\n",
       "      function(Bokeh) {\n",
       "        Bokeh.$(function() {\n",
       "            var docs_json = {\"e1aba9da-2072-4ed9-aafc-2293f084fd1e\":{\"roots\":{\"references\":[{\"attributes\":{\"callback\":null,\"column_names\":[\"line_alpha\",\"fill_alpha\",\"color\",\"height\",\"y\",\"x\",\"line_color\",\"width\"],\"data\":{\"chart_index\":[{\"index\":\"Melanoma of the Skin\"}],\"color\":[\"#f22c40\"],\"fill_alpha\":[0.8],\"height\":[96.0],\"index\":[\"Melanoma of the Skin\"],\"line_alpha\":[1.0],\"line_color\":[\"white\"],\"width\":[0.8],\"x\":[\"Melanoma of the Skin\"],\"y\":[48.0]}},\"id\":\"bde1bf79-c7e7-4ef4-a0b2-56131d4ffd57\",\"type\":\"ColumnDataSource\"},{\"attributes\":{\"data_source\":{\"id\":\"bde1bf79-c7e7-4ef4-a0b2-56131d4ffd57\",\"type\":\"ColumnDataSource\"},\"glyph\":{\"id\":\"e56bfb39-324c-4ed6-93d8-941af8375138\",\"type\":\"Rect\"},\"hover_glyph\":null,\"nonselection_glyph\":null,\"selection_glyph\":null},\"id\":\"b9716b0d-e17b-4101-bfd0-d1a457bb8831\",\"type\":\"GlyphRenderer\"},{\"attributes\":{\"bottom_units\":\"screen\",\"fill_alpha\":{\"value\":0.5},\"fill_color\":{\"value\":\"lightgrey\"},\"left_units\":\"screen\",\"level\":\"overlay\",\"line_alpha\":{\"value\":1.0},\"line_color\":{\"value\":\"black\"},\"line_dash\":[4,4],\"line_width\":{\"value\":2},\"plot\":null,\"render_mode\":\"css\",\"right_units\":\"screen\",\"top_units\":\"screen\"},\"id\":\"539110c5-0196-4303-bbf0-cd80978fd623\",\"type\":\"BoxAnnotation\"},{\"attributes\":{},\"id\":\"2a21b53b-d57f-4594-a7a7-0b6d78023e51\",\"type\":\"CategoricalTickFormatter\"},{\"attributes\":{\"below\":[{\"id\":\"50c7b56a-5244-4a17-84fe-16abbe472463\",\"type\":\"CategoricalAxis\"}],\"left\":[{\"id\":\"c75ac732-0283-4074-88ae-8af2fd0873ae\",\"type\":\"LinearAxis\"}],\"legend\":null,\"renderers\":[{\"id\":\"539110c5-0196-4303-bbf0-cd80978fd623\",\"type\":\"BoxAnnotation\"},{\"id\":\"2b9ef827-e205-4db8-99ed-55f34a79c28c\",\"type\":\"GlyphRenderer\"},{\"id\":\"afc8b78c-7b04-4308-96dd-f4f2d335d4d9\",\"type\":\"GlyphRenderer\"},{\"id\":\"13506d89-b2b5-4f23-8c80-072f6a11dbb3\",\"type\":\"GlyphRenderer\"},{\"id\":\"10b77641-c227-409c-b36c-64d069e6fa27\",\"type\":\"GlyphRenderer\"},{\"id\":\"74119651-826c-4068-a5a7-b8f7b00c2e74\",\"type\":\"GlyphRenderer\"},{\"id\":\"113bdc43-0df4-4b96-b35b-aaa458503e58\",\"type\":\"GlyphRenderer\"},{\"id\":\"b9716b0d-e17b-4101-bfd0-d1a457bb8831\",\"type\":\"GlyphRenderer\"},{\"id\":\"bf5517d2-2091-4ba4-bd09-db5e8af169c1\",\"type\":\"GlyphRenderer\"},{\"id\":\"234a172f-4229-4a80-a5be-2cde60322806\",\"type\":\"GlyphRenderer\"},{\"id\":\"f2922c0b-7560-45d3-82ef-6703adf6d680\",\"type\":\"GlyphRenderer\"},{\"id\":\"50c7b56a-5244-4a17-84fe-16abbe472463\",\"type\":\"CategoricalAxis\"},{\"id\":\"c75ac732-0283-4074-88ae-8af2fd0873ae\",\"type\":\"LinearAxis\"},{\"id\":\"26b55ef7-bb1a-46d1-9bff-dc481d8f23b0\",\"type\":\"Grid\"}],\"title_text_font_size\":{\"value\":\"14pt\"},\"tool_events\":{\"id\":\"0b9a6b4b-299f-45e0-95f6-e2acd136d888\",\"type\":\"ToolEvents\"},\"tools\":[{\"id\":\"8ef41228-6858-486a-92a5-6f2edcb2adaa\",\"type\":\"PanTool\"},{\"id\":\"8f48eb48-2159-4a8a-8d2b-7dc0be45aa9f\",\"type\":\"WheelZoomTool\"},{\"id\":\"d7c862c7-8e0b-4880-afb7-dea62164e159\",\"type\":\"BoxZoomTool\"},{\"id\":\"ceb5fea2-7681-4479-8ae4-cf7e0770df68\",\"type\":\"PreviewSaveTool\"},{\"id\":\"ca2518c6-668a-4acd-930d-45589b7cea82\",\"type\":\"ResizeTool\"},{\"id\":\"bfc7d4cd-c7a6-4a9a-9b94-5a156978eff0\",\"type\":\"ResetTool\"},{\"id\":\"bb3332e4-102b-4918-99d6-ca74bef6df62\",\"type\":\"HelpTool\"}],\"x_mapper_type\":\"auto\",\"x_range\":{\"id\":\"04c310a1-0364-4de5-9fb9-cb1b82d68124\",\"type\":\"FactorRange\"},\"xgrid\":false,\"xscale\":\"auto\",\"y_mapper_type\":\"auto\",\"y_range\":{\"id\":\"8d6897da-2764-4493-8751-97ef7ec11176\",\"type\":\"Range1d\"},\"yscale\":\"auto\"},\"id\":\"77c6a2e6-f39c-49ea-87b5-65f05dda06e7\",\"subtype\":\"Chart\",\"type\":\"Plot\"},{\"attributes\":{\"data_source\":{\"id\":\"61705163-de56-40de-b619-ec7ddb720b7c\",\"type\":\"ColumnDataSource\"},\"glyph\":{\"id\":\"8a034423-4ba1-4ad4-b65b-d778b172e17a\",\"type\":\"Rect\"},\"hover_glyph\":null,\"nonselection_glyph\":null,\"selection_glyph\":null},\"id\":\"f2922c0b-7560-45d3-82ef-6703adf6d680\",\"type\":\"GlyphRenderer\"},{\"attributes\":{\"plot\":{\"id\":\"77c6a2e6-f39c-49ea-87b5-65f05dda06e7\",\"subtype\":\"Chart\",\"type\":\"Plot\"}},\"id\":\"8f48eb48-2159-4a8a-8d2b-7dc0be45aa9f\",\"type\":\"WheelZoomTool\"},{\"attributes\":{},\"id\":\"0b9a6b4b-299f-45e0-95f6-e2acd136d888\",\"type\":\"ToolEvents\"},{\"attributes\":{\"data_source\":{\"id\":\"75bd19c5-cdd0-4b23-9758-c9ae2204272b\",\"type\":\"ColumnDataSource\"},\"glyph\":{\"id\":\"04fed3f6-7c6b-4a06-a957-f4e257a572c2\",\"type\":\"Rect\"},\"hover_glyph\":null,\"nonselection_glyph\":null,\"selection_glyph\":null},\"id\":\"113bdc43-0df4-4b96-b35b-aaa458503e58\",\"type\":\"GlyphRenderer\"},{\"attributes\":{\"callback\":null,\"column_names\":[\"line_alpha\",\"fill_alpha\",\"color\",\"height\",\"y\",\"x\",\"line_color\",\"width\"],\"data\":{\"chart_index\":[{\"index\":\"NHL - Nodal\"}],\"color\":[\"#f22c40\"],\"fill_alpha\":[0.8],\"height\":[31.0],\"index\":[\"NHL - Nodal\"],\"line_alpha\":[1.0],\"line_color\":[\"white\"],\"width\":[0.8],\"x\":[\"NHL - Nodal\"],\"y\":[15.5]}},\"id\":\"4144a687-c5ba-47f2-9d49-3dd1daa88cbd\",\"type\":\"ColumnDataSource\"},{\"attributes\":{\"formatter\":{\"id\":\"2a21b53b-d57f-4594-a7a7-0b6d78023e51\",\"type\":\"CategoricalTickFormatter\"},\"major_label_orientation\":0.7853981633974483,\"plot\":{\"id\":\"77c6a2e6-f39c-49ea-87b5-65f05dda06e7\",\"subtype\":\"Chart\",\"type\":\"Plot\"},\"ticker\":{\"id\":\"c33525d4-0001-4d7b-bc4a-53161bb94095\",\"type\":\"CategoricalTicker\"}},\"id\":\"50c7b56a-5244-4a17-84fe-16abbe472463\",\"type\":\"CategoricalAxis\"},{\"attributes\":{\"fill_alpha\":{\"field\":\"fill_alpha\"},\"fill_color\":{\"field\":\"color\"},\"height\":{\"field\":\"height\",\"units\":\"data\"},\"line_color\":{\"field\":\"line_color\"},\"width\":{\"field\":\"width\",\"units\":\"data\"},\"x\":{\"field\":\"x\"},\"y\":{\"field\":\"y\"}},\"id\":\"a9c52f10-3784-4acd-ad76-b79d1c403652\",\"type\":\"Rect\"},{\"attributes\":{\"callback\":null,\"column_names\":[\"line_alpha\",\"fill_alpha\",\"color\",\"height\",\"y\",\"x\",\"line_color\",\"width\"],\"data\":{\"chart_index\":[{\"index\":\"Urinary Bladder\"}],\"color\":[\"#f22c40\"],\"fill_alpha\":[0.8],\"height\":[39.0],\"index\":[\"Urinary Bladder\"],\"line_alpha\":[1.0],\"line_color\":[\"white\"],\"width\":[0.8],\"x\":[\"Urinary Bladder\"],\"y\":[19.5]}},\"id\":\"75bd19c5-cdd0-4b23-9758-c9ae2204272b\",\"type\":\"ColumnDataSource\"},{\"attributes\":{\"data_source\":{\"id\":\"55e136c3-e809-449c-9aed-df4ee5250e03\",\"type\":\"ColumnDataSource\"},\"glyph\":{\"id\":\"30c8035c-a615-49b7-b208-2627f49ba24f\",\"type\":\"Rect\"},\"hover_glyph\":null,\"nonselection_glyph\":null,\"selection_glyph\":null},\"id\":\"afc8b78c-7b04-4308-96dd-f4f2d335d4d9\",\"type\":\"GlyphRenderer\"},{\"attributes\":{\"plot\":{\"id\":\"77c6a2e6-f39c-49ea-87b5-65f05dda06e7\",\"subtype\":\"Chart\",\"type\":\"Plot\"}},\"id\":\"ceb5fea2-7681-4479-8ae4-cf7e0770df68\",\"type\":\"PreviewSaveTool\"},{\"attributes\":{\"fill_alpha\":{\"field\":\"fill_alpha\"},\"fill_color\":{\"field\":\"color\"},\"height\":{\"field\":\"height\",\"units\":\"data\"},\"line_color\":{\"field\":\"line_color\"},\"width\":{\"field\":\"width\",\"units\":\"data\"},\"x\":{\"field\":\"x\"},\"y\":{\"field\":\"y\"}},\"id\":\"d1ef4856-a94c-4dc3-8ead-5894025c9e82\",\"type\":\"Rect\"},{\"attributes\":{\"data_source\":{\"id\":\"93fd4f68-6119-43d9-ad12-e64b6549efb2\",\"type\":\"ColumnDataSource\"},\"glyph\":{\"id\":\"bd5d9e9f-5ac3-44e9-addc-fdda12c224b2\",\"type\":\"Rect\"},\"hover_glyph\":null,\"nonselection_glyph\":null,\"selection_glyph\":null},\"id\":\"2b9ef827-e205-4db8-99ed-55f34a79c28c\",\"type\":\"GlyphRenderer\"},{\"attributes\":{\"fill_alpha\":{\"field\":\"fill_alpha\"},\"fill_color\":{\"field\":\"color\"},\"height\":{\"field\":\"height\",\"units\":\"data\"},\"line_color\":{\"field\":\"line_color\"},\"width\":{\"field\":\"width\",\"units\":\"data\"},\"x\":{\"field\":\"x\"},\"y\":{\"field\":\"y\"}},\"id\":\"30c8035c-a615-49b7-b208-2627f49ba24f\",\"type\":\"Rect\"},{\"attributes\":{\"data_source\":{\"id\":\"cd9cc019-265c-4880-bb0a-d52e36869ae5\",\"type\":\"ColumnDataSource\"},\"glyph\":{\"id\":\"c79539c9-dced-49bb-9795-9946925b7bf8\",\"type\":\"Rect\"},\"hover_glyph\":null,\"nonselection_glyph\":null,\"selection_glyph\":null},\"id\":\"74119651-826c-4068-a5a7-b8f7b00c2e74\",\"type\":\"GlyphRenderer\"},{\"attributes\":{\"dimension\":1,\"plot\":{\"id\":\"77c6a2e6-f39c-49ea-87b5-65f05dda06e7\",\"subtype\":\"Chart\",\"type\":\"Plot\"},\"ticker\":{\"id\":\"d9517d78-dd69-4ccd-9013-53aedbae9e41\",\"type\":\"BasicTicker\"}},\"id\":\"26b55ef7-bb1a-46d1-9bff-dc481d8f23b0\",\"type\":\"Grid\"},{\"attributes\":{\"callback\":null,\"factors\":[\"Breast\",\"Chronic Lymphocytic Leukemia\",\"Kidney and Renal Pelvis\",\"Lung and Bronchus\",\"Melanoma of the Skin\",\"NHL - Nodal\",\"Prostate\",\"Salivary Gland\",\"Thyroid\",\"Urinary Bladder\"]},\"id\":\"04c310a1-0364-4de5-9fb9-cb1b82d68124\",\"type\":\"FactorRange\"},{\"attributes\":{\"fill_alpha\":{\"field\":\"fill_alpha\"},\"fill_color\":{\"field\":\"color\"},\"height\":{\"field\":\"height\",\"units\":\"data\"},\"line_color\":{\"field\":\"line_color\"},\"width\":{\"field\":\"width\",\"units\":\"data\"},\"x\":{\"field\":\"x\"},\"y\":{\"field\":\"y\"}},\"id\":\"8a034423-4ba1-4ad4-b65b-d778b172e17a\",\"type\":\"Rect\"},{\"attributes\":{\"plot\":{\"id\":\"77c6a2e6-f39c-49ea-87b5-65f05dda06e7\",\"subtype\":\"Chart\",\"type\":\"Plot\"}},\"id\":\"8ef41228-6858-486a-92a5-6f2edcb2adaa\",\"type\":\"PanTool\"},{\"attributes\":{\"fill_alpha\":{\"field\":\"fill_alpha\"},\"fill_color\":{\"field\":\"color\"},\"height\":{\"field\":\"height\",\"units\":\"data\"},\"line_color\":{\"field\":\"line_color\"},\"width\":{\"field\":\"width\",\"units\":\"data\"},\"x\":{\"field\":\"x\"},\"y\":{\"field\":\"y\"}},\"id\":\"8fce6222-4a29-452e-aeac-c66226fe4581\",\"type\":\"Rect\"},{\"attributes\":{\"callback\":null,\"column_names\":[\"line_alpha\",\"fill_alpha\",\"color\",\"height\",\"y\",\"x\",\"line_color\",\"width\"],\"data\":{\"chart_index\":[{\"index\":\"Salivary Gland\"}],\"color\":[\"#f22c40\"],\"fill_alpha\":[0.8],\"height\":[3242.0],\"index\":[\"Salivary Gland\"],\"line_alpha\":[1.0],\"line_color\":[\"white\"],\"width\":[0.8],\"x\":[\"Salivary Gland\"],\"y\":[1621.0]}},\"id\":\"61705163-de56-40de-b619-ec7ddb720b7c\",\"type\":\"ColumnDataSource\"},{\"attributes\":{},\"id\":\"c33525d4-0001-4d7b-bc4a-53161bb94095\",\"type\":\"CategoricalTicker\"},{\"attributes\":{},\"id\":\"d9517d78-dd69-4ccd-9013-53aedbae9e41\",\"type\":\"BasicTicker\"},{\"attributes\":{\"plot\":{\"id\":\"77c6a2e6-f39c-49ea-87b5-65f05dda06e7\",\"subtype\":\"Chart\",\"type\":\"Plot\"}},\"id\":\"bb3332e4-102b-4918-99d6-ca74bef6df62\",\"type\":\"HelpTool\"},{\"attributes\":{\"callback\":null,\"column_names\":[\"line_alpha\",\"fill_alpha\",\"color\",\"height\",\"y\",\"x\",\"line_color\",\"width\"],\"data\":{\"chart_index\":[{\"index\":\"Lung and Bronchus\"}],\"color\":[\"#f22c40\"],\"fill_alpha\":[0.8],\"height\":[33.0],\"index\":[\"Lung and Bronchus\"],\"line_alpha\":[1.0],\"line_color\":[\"white\"],\"width\":[0.8],\"x\":[\"Lung and Bronchus\"],\"y\":[16.5]}},\"id\":\"cd9cc019-265c-4880-bb0a-d52e36869ae5\",\"type\":\"ColumnDataSource\"},{\"attributes\":{\"data_source\":{\"id\":\"4144a687-c5ba-47f2-9d49-3dd1daa88cbd\",\"type\":\"ColumnDataSource\"},\"glyph\":{\"id\":\"8fce6222-4a29-452e-aeac-c66226fe4581\",\"type\":\"Rect\"},\"hover_glyph\":null,\"nonselection_glyph\":null,\"selection_glyph\":null},\"id\":\"10b77641-c227-409c-b36c-64d069e6fa27\",\"type\":\"GlyphRenderer\"},{\"attributes\":{\"fill_alpha\":{\"field\":\"fill_alpha\"},\"fill_color\":{\"field\":\"color\"},\"height\":{\"field\":\"height\",\"units\":\"data\"},\"line_color\":{\"field\":\"line_color\"},\"width\":{\"field\":\"width\",\"units\":\"data\"},\"x\":{\"field\":\"x\"},\"y\":{\"field\":\"y\"}},\"id\":\"04fed3f6-7c6b-4a06-a957-f4e257a572c2\",\"type\":\"Rect\"},{\"attributes\":{\"fill_alpha\":{\"field\":\"fill_alpha\"},\"fill_color\":{\"field\":\"color\"},\"height\":{\"field\":\"height\",\"units\":\"data\"},\"line_color\":{\"field\":\"line_color\"},\"width\":{\"field\":\"width\",\"units\":\"data\"},\"x\":{\"field\":\"x\"},\"y\":{\"field\":\"y\"}},\"id\":\"bd5d9e9f-5ac3-44e9-addc-fdda12c224b2\",\"type\":\"Rect\"},{\"attributes\":{\"callback\":null,\"column_names\":[\"line_alpha\",\"fill_alpha\",\"color\",\"height\",\"y\",\"x\",\"line_color\",\"width\"],\"data\":{\"chart_index\":[{\"index\":\"Breast\"}],\"color\":[\"#f22c40\"],\"fill_alpha\":[0.8],\"height\":[131.0],\"index\":[\"Breast\"],\"line_alpha\":[1.0],\"line_color\":[\"white\"],\"width\":[0.8],\"x\":[\"Breast\"],\"y\":[65.5]}},\"id\":\"307d92c1-6ce3-47e8-b177-8d39501d2657\",\"type\":\"ColumnDataSource\"},{\"attributes\":{\"callback\":null,\"column_names\":[\"line_alpha\",\"fill_alpha\",\"color\",\"height\",\"y\",\"x\",\"line_color\",\"width\"],\"data\":{\"chart_index\":[{\"index\":\"Chronic Lymphocytic Leukemia\"}],\"color\":[\"#f22c40\"],\"fill_alpha\":[0.8],\"height\":[28.0],\"index\":[\"Chronic Lymphocytic Leukemia\"],\"line_alpha\":[1.0],\"line_color\":[\"white\"],\"width\":[0.8],\"x\":[\"Chronic Lymphocytic Leukemia\"],\"y\":[14.0]}},\"id\":\"908164d2-36d1-4538-b7f8-e907486fda8b\",\"type\":\"ColumnDataSource\"},{\"attributes\":{\"callback\":null,\"column_names\":[\"line_alpha\",\"fill_alpha\",\"color\",\"height\",\"y\",\"x\",\"line_color\",\"width\"],\"data\":{\"chart_index\":[{\"index\":\"Kidney and Renal Pelvis\"}],\"color\":[\"#f22c40\"],\"fill_alpha\":[0.8],\"height\":[26.0],\"index\":[\"Kidney and Renal Pelvis\"],\"line_alpha\":[1.0],\"line_color\":[\"white\"],\"width\":[0.8],\"x\":[\"Kidney and Renal Pelvis\"],\"y\":[13.0]}},\"id\":\"55e136c3-e809-449c-9aed-df4ee5250e03\",\"type\":\"ColumnDataSource\"},{\"attributes\":{\"axis_label\":\"Sum( Siterwho1 )\",\"formatter\":{\"id\":\"109caefa-4ed1-4ad1-accc-54cb13e85899\",\"type\":\"BasicTickFormatter\"},\"plot\":{\"id\":\"77c6a2e6-f39c-49ea-87b5-65f05dda06e7\",\"subtype\":\"Chart\",\"type\":\"Plot\"},\"ticker\":{\"id\":\"d9517d78-dd69-4ccd-9013-53aedbae9e41\",\"type\":\"BasicTicker\"}},\"id\":\"c75ac732-0283-4074-88ae-8af2fd0873ae\",\"type\":\"LinearAxis\"},{\"attributes\":{\"fill_alpha\":{\"field\":\"fill_alpha\"},\"fill_color\":{\"field\":\"color\"},\"height\":{\"field\":\"height\",\"units\":\"data\"},\"line_color\":{\"field\":\"line_color\"},\"width\":{\"field\":\"width\",\"units\":\"data\"},\"x\":{\"field\":\"x\"},\"y\":{\"field\":\"y\"}},\"id\":\"e56bfb39-324c-4ed6-93d8-941af8375138\",\"type\":\"Rect\"},{\"attributes\":{\"callback\":null,\"column_names\":[\"line_alpha\",\"fill_alpha\",\"color\",\"height\",\"y\",\"x\",\"line_color\",\"width\"],\"data\":{\"chart_index\":[{\"index\":\"Thyroid\"}],\"color\":[\"#f22c40\"],\"fill_alpha\":[0.8],\"height\":[26.0],\"index\":[\"Thyroid\"],\"line_alpha\":[1.0],\"line_color\":[\"white\"],\"width\":[0.8],\"x\":[\"Thyroid\"],\"y\":[13.0]}},\"id\":\"93fd4f68-6119-43d9-ad12-e64b6549efb2\",\"type\":\"ColumnDataSource\"},{\"attributes\":{\"data_source\":{\"id\":\"908164d2-36d1-4538-b7f8-e907486fda8b\",\"type\":\"ColumnDataSource\"},\"glyph\":{\"id\":\"a9c52f10-3784-4acd-ad76-b79d1c403652\",\"type\":\"Rect\"},\"hover_glyph\":null,\"nonselection_glyph\":null,\"selection_glyph\":null},\"id\":\"13506d89-b2b5-4f23-8c80-072f6a11dbb3\",\"type\":\"GlyphRenderer\"},{\"attributes\":{\"callback\":null,\"column_names\":[\"line_alpha\",\"fill_alpha\",\"color\",\"height\",\"y\",\"x\",\"line_color\",\"width\"],\"data\":{\"chart_index\":[{\"index\":\"Prostate\"}],\"color\":[\"#f22c40\"],\"fill_alpha\":[0.8],\"height\":[190.0],\"index\":[\"Prostate\"],\"line_alpha\":[1.0],\"line_color\":[\"white\"],\"width\":[0.8],\"x\":[\"Prostate\"],\"y\":[95.0]}},\"id\":\"1c1136a1-ef49-4170-bdb8-bc878663c89b\",\"type\":\"ColumnDataSource\"},{\"attributes\":{\"callback\":null,\"end\":3404.1},\"id\":\"8d6897da-2764-4493-8751-97ef7ec11176\",\"type\":\"Range1d\"},{\"attributes\":{\"overlay\":{\"id\":\"539110c5-0196-4303-bbf0-cd80978fd623\",\"type\":\"BoxAnnotation\"},\"plot\":{\"id\":\"77c6a2e6-f39c-49ea-87b5-65f05dda06e7\",\"subtype\":\"Chart\",\"type\":\"Plot\"}},\"id\":\"d7c862c7-8e0b-4880-afb7-dea62164e159\",\"type\":\"BoxZoomTool\"},{\"attributes\":{\"plot\":{\"id\":\"77c6a2e6-f39c-49ea-87b5-65f05dda06e7\",\"subtype\":\"Chart\",\"type\":\"Plot\"}},\"id\":\"bfc7d4cd-c7a6-4a9a-9b94-5a156978eff0\",\"type\":\"ResetTool\"},{\"attributes\":{\"data_source\":{\"id\":\"1c1136a1-ef49-4170-bdb8-bc878663c89b\",\"type\":\"ColumnDataSource\"},\"glyph\":{\"id\":\"0541d9bf-63e5-4c03-be76-5d6bc74a077e\",\"type\":\"Rect\"},\"hover_glyph\":null,\"nonselection_glyph\":null,\"selection_glyph\":null},\"id\":\"234a172f-4229-4a80-a5be-2cde60322806\",\"type\":\"GlyphRenderer\"},{\"attributes\":{\"fill_alpha\":{\"field\":\"fill_alpha\"},\"fill_color\":{\"field\":\"color\"},\"height\":{\"field\":\"height\",\"units\":\"data\"},\"line_color\":{\"field\":\"line_color\"},\"width\":{\"field\":\"width\",\"units\":\"data\"},\"x\":{\"field\":\"x\"},\"y\":{\"field\":\"y\"}},\"id\":\"c79539c9-dced-49bb-9795-9946925b7bf8\",\"type\":\"Rect\"},{\"attributes\":{\"data_source\":{\"id\":\"307d92c1-6ce3-47e8-b177-8d39501d2657\",\"type\":\"ColumnDataSource\"},\"glyph\":{\"id\":\"d1ef4856-a94c-4dc3-8ead-5894025c9e82\",\"type\":\"Rect\"},\"hover_glyph\":null,\"nonselection_glyph\":null,\"selection_glyph\":null},\"id\":\"bf5517d2-2091-4ba4-bd09-db5e8af169c1\",\"type\":\"GlyphRenderer\"},{\"attributes\":{\"fill_alpha\":{\"field\":\"fill_alpha\"},\"fill_color\":{\"field\":\"color\"},\"height\":{\"field\":\"height\",\"units\":\"data\"},\"line_color\":{\"field\":\"line_color\"},\"width\":{\"field\":\"width\",\"units\":\"data\"},\"x\":{\"field\":\"x\"},\"y\":{\"field\":\"y\"}},\"id\":\"0541d9bf-63e5-4c03-be76-5d6bc74a077e\",\"type\":\"Rect\"},{\"attributes\":{\"plot\":{\"id\":\"77c6a2e6-f39c-49ea-87b5-65f05dda06e7\",\"subtype\":\"Chart\",\"type\":\"Plot\"}},\"id\":\"ca2518c6-668a-4acd-930d-45589b7cea82\",\"type\":\"ResizeTool\"},{\"attributes\":{},\"id\":\"109caefa-4ed1-4ad1-accc-54cb13e85899\",\"type\":\"BasicTickFormatter\"}],\"root_ids\":[\"77c6a2e6-f39c-49ea-87b5-65f05dda06e7\"]},\"title\":\"Bokeh Application\",\"version\":\"0.11.1\"}};\n",
       "            var render_items = [{\"docid\":\"e1aba9da-2072-4ed9-aafc-2293f084fd1e\",\"elementid\":\"90cf751f-6ccf-4d23-bf8f-21eafe813404\",\"modelid\":\"77c6a2e6-f39c-49ea-87b5-65f05dda06e7\",\"notebook_comms_target\":\"71e95613-ebf5-4268-8e8d-0c60bf4b8e96\"}];\n",
       "            \n",
       "            Bokeh.embed.embed_items(docs_json, render_items);\n",
       "        });\n",
       "      },\n",
       "      function(Bokeh) {\n",
       "      }\n",
       "    ];\n",
       "  \n",
       "    function run_inline_js() {\n",
       "      for (var i = 0; i < inline_js.length; i++) {\n",
       "        inline_js[i](window.Bokeh);\n",
       "      }\n",
       "    }\n",
       "  \n",
       "    if (window._bokeh_is_loading === 0) {\n",
       "      console.log(\"Bokeh: BokehJS loaded, going straight to plotting\");\n",
       "      run_inline_js();\n",
       "    } else {\n",
       "      load_libs(js_urls, function() {\n",
       "        console.log(\"Bokeh: BokehJS plotting callback run at\", now());\n",
       "        run_inline_js();\n",
       "      });\n",
       "    }\n",
       "  }(this));\n",
       "</script>"
      ]
     },
     "metadata": {},
     "output_type": "display_data"
    }
   ],
   "source": [
    "bokeh.plotting.show(bar);"
   ]
  },
  {
   "cell_type": "code",
   "execution_count": 21,
   "metadata": {
    "collapsed": false,
    "slideshow": {
     "slide_type": "skip"
    }
   },
   "outputs": [
    {
     "data": {
      "text/html": [
       "\n",
       "    <div class=\"bk-banner\">\n",
       "        <a href=\"http://bokeh.pydata.org\" target=\"_blank\" class=\"bk-logo bk-logo-small bk-logo-notebook\"></a>\n",
       "        <span id=\"84cf7975-8653-49bf-ae04-eaef0972cc12\">Loading BokehJS ...</span>\n",
       "    </div>"
      ]
     },
     "metadata": {},
     "output_type": "display_data"
    },
    {
     "data": {
      "application/javascript": [
       "\n",
       "(function(global) {\n",
       "  function now() {\n",
       "    return new Date();\n",
       "  }\n",
       "\n",
       "  if (typeof (window._bokeh_onload_callbacks) === \"undefined\") {\n",
       "    window._bokeh_onload_callbacks = [];\n",
       "  }\n",
       "\n",
       "  function run_callbacks() {\n",
       "    window._bokeh_onload_callbacks.forEach(function(callback) { callback() });\n",
       "    delete window._bokeh_onload_callbacks\n",
       "    console.info(\"Bokeh: all callbacks have finished\");\n",
       "  }\n",
       "\n",
       "  function load_libs(js_urls, callback) {\n",
       "    window._bokeh_onload_callbacks.push(callback);\n",
       "    if (window._bokeh_is_loading > 0) {\n",
       "      console.log(\"Bokeh: BokehJS is being loaded, scheduling callback at\", now());\n",
       "      return null;\n",
       "    }\n",
       "    if (js_urls == null || js_urls.length === 0) {\n",
       "      run_callbacks();\n",
       "      return null;\n",
       "    }\n",
       "    console.log(\"Bokeh: BokehJS not loaded, scheduling load and callback at\", now());\n",
       "    window._bokeh_is_loading = js_urls.length;\n",
       "    for (var i = 0; i < js_urls.length; i++) {\n",
       "      var url = js_urls[i];\n",
       "      var s = document.createElement('script');\n",
       "      s.src = url;\n",
       "      s.async = false;\n",
       "      s.onreadystatechange = s.onload = function() {\n",
       "        window._bokeh_is_loading--;\n",
       "        if (window._bokeh_is_loading === 0) {\n",
       "          console.log(\"Bokeh: all BokehJS libraries loaded\");\n",
       "          run_callbacks()\n",
       "        }\n",
       "      };\n",
       "      s.onerror = function() {\n",
       "        console.warn(\"failed to load library \" + url);\n",
       "      };\n",
       "      console.log(\"Bokeh: injecting script tag for BokehJS library: \", url);\n",
       "      document.getElementsByTagName(\"head\")[0].appendChild(s);\n",
       "    }\n",
       "  };\n",
       "\n",
       "  var js_urls = ['https://cdn.pydata.org/bokeh/release/bokeh-0.11.1.min.js', 'https://cdn.pydata.org/bokeh/release/bokeh-widgets-0.11.1.min.js', 'https://cdn.pydata.org/bokeh/release/bokeh-compiler-0.11.1.min.js'];\n",
       "\n",
       "  var inline_js = [\n",
       "    function(Bokeh) {\n",
       "      Bokeh.set_log_level(\"info\");\n",
       "    },\n",
       "    \n",
       "    function(Bokeh) {\n",
       "      Bokeh.$(\"#84cf7975-8653-49bf-ae04-eaef0972cc12\").text(\"BokehJS successfully loaded\");\n",
       "    },\n",
       "    function(Bokeh) {\n",
       "      console.log(\"Bokeh: injecting CSS: https://cdn.pydata.org/bokeh/release/bokeh-0.11.1.min.css\");\n",
       "      Bokeh.embed.inject_css(\"https://cdn.pydata.org/bokeh/release/bokeh-0.11.1.min.css\");\n",
       "      console.log(\"Bokeh: injecting CSS: https://cdn.pydata.org/bokeh/release/bokeh-widgets-0.11.1.min.css\");\n",
       "      Bokeh.embed.inject_css(\"https://cdn.pydata.org/bokeh/release/bokeh-widgets-0.11.1.min.css\");\n",
       "    }\n",
       "  ];\n",
       "\n",
       "  function run_inline_js() {\n",
       "    for (var i = 0; i < inline_js.length; i++) {\n",
       "      inline_js[i](window.Bokeh);\n",
       "    }\n",
       "  }\n",
       "\n",
       "  if (window._bokeh_is_loading === 0) {\n",
       "    console.log(\"Bokeh: BokehJS loaded, going straight to plotting\");\n",
       "    run_inline_js();\n",
       "  } else {\n",
       "    load_libs(js_urls, function() {\n",
       "      console.log(\"Bokeh: BokehJS plotting callback run at\", now());\n",
       "      run_inline_js();\n",
       "    });\n",
       "  }\n",
       "}(this));"
      ]
     },
     "metadata": {},
     "output_type": "display_data"
    },
    {
     "data": {
      "text/plain": [
       "<bokeh.models.renderers.GlyphRenderer at 0x2a507c88>"
      ]
     },
     "execution_count": 21,
     "metadata": {},
     "output_type": "execute_result"
    }
   ],
   "source": [
    "x = np.arange(0,2*np.pi, .01)\n",
    "\n",
    "import bokeh.plotting as bplt\n",
    "bplt.output_notebook()\n",
    "p = bplt.figure()\n",
    "p.line(x, np.sin(x), color=\"red\")\n",
    "#bplt.show(p)"
   ]
  },
  {
   "cell_type": "code",
   "execution_count": 23,
   "metadata": {
    "collapsed": false,
    "slideshow": {
     "slide_type": "slide"
    }
   },
   "outputs": [
    {
     "data": {
      "text/html": [
       "\n",
       "\n",
       "    <div class=\"plotdiv\" id=\"5eec2bc6-1cae-44d2-8f2b-796c51042e30\"></div>\n",
       "<script type=\"text/javascript\">\n",
       "  \n",
       "  (function(global) {\n",
       "    function now() {\n",
       "      return new Date();\n",
       "    }\n",
       "  \n",
       "    if (typeof (window._bokeh_onload_callbacks) === \"undefined\") {\n",
       "      window._bokeh_onload_callbacks = [];\n",
       "    }\n",
       "  \n",
       "    function run_callbacks() {\n",
       "      window._bokeh_onload_callbacks.forEach(function(callback) { callback() });\n",
       "      delete window._bokeh_onload_callbacks\n",
       "      console.info(\"Bokeh: all callbacks have finished\");\n",
       "    }\n",
       "  \n",
       "    function load_libs(js_urls, callback) {\n",
       "      window._bokeh_onload_callbacks.push(callback);\n",
       "      if (window._bokeh_is_loading > 0) {\n",
       "        console.log(\"Bokeh: BokehJS is being loaded, scheduling callback at\", now());\n",
       "        return null;\n",
       "      }\n",
       "      if (js_urls == null || js_urls.length === 0) {\n",
       "        run_callbacks();\n",
       "        return null;\n",
       "      }\n",
       "      console.log(\"Bokeh: BokehJS not loaded, scheduling load and callback at\", now());\n",
       "      window._bokeh_is_loading = js_urls.length;\n",
       "      for (var i = 0; i < js_urls.length; i++) {\n",
       "        var url = js_urls[i];\n",
       "        var s = document.createElement('script');\n",
       "        s.src = url;\n",
       "        s.async = false;\n",
       "        s.onreadystatechange = s.onload = function() {\n",
       "          window._bokeh_is_loading--;\n",
       "          if (window._bokeh_is_loading === 0) {\n",
       "            console.log(\"Bokeh: all BokehJS libraries loaded\");\n",
       "            run_callbacks()\n",
       "          }\n",
       "        };\n",
       "        s.onerror = function() {\n",
       "          console.warn(\"failed to load library \" + url);\n",
       "        };\n",
       "        console.log(\"Bokeh: injecting script tag for BokehJS library: \", url);\n",
       "        document.getElementsByTagName(\"head\")[0].appendChild(s);\n",
       "      }\n",
       "    };var element = document.getElementById(\"5eec2bc6-1cae-44d2-8f2b-796c51042e30\");\n",
       "    if (element == null) {\n",
       "      console.log(\"Bokeh: ERROR: autoload.js configured with elementid '5eec2bc6-1cae-44d2-8f2b-796c51042e30' but no matching script tag was found. \")\n",
       "      return false;\n",
       "    }\n",
       "  \n",
       "    var js_urls = [];\n",
       "  \n",
       "    var inline_js = [\n",
       "      function(Bokeh) {\n",
       "        Bokeh.$(function() {\n",
       "            var docs_json = {\"0961b071-9366-49dd-b332-da6180fabca9\":{\"roots\":{\"references\":[{\"attributes\":{\"callback\":null},\"id\":\"cddc38b9-c26c-4c64-a3ce-b0f84ee10ce9\",\"type\":\"DataRange1d\"},{\"attributes\":{\"data_source\":{\"id\":\"bde1bf79-c7e7-4ef4-a0b2-56131d4ffd57\",\"type\":\"ColumnDataSource\"},\"glyph\":{\"id\":\"e56bfb39-324c-4ed6-93d8-941af8375138\",\"type\":\"Rect\"},\"hover_glyph\":null,\"nonselection_glyph\":null,\"selection_glyph\":null},\"id\":\"b9716b0d-e17b-4101-bfd0-d1a457bb8831\",\"type\":\"GlyphRenderer\"},{\"attributes\":{\"bottom_units\":\"screen\",\"fill_alpha\":{\"value\":0.5},\"fill_color\":{\"value\":\"lightgrey\"},\"left_units\":\"screen\",\"level\":\"overlay\",\"line_alpha\":{\"value\":1.0},\"line_color\":{\"value\":\"black\"},\"line_dash\":[4,4],\"line_width\":{\"value\":2},\"plot\":null,\"render_mode\":\"css\",\"right_units\":\"screen\",\"top_units\":\"screen\"},\"id\":\"539110c5-0196-4303-bbf0-cd80978fd623\",\"type\":\"BoxAnnotation\"},{\"attributes\":{\"dimension\":1,\"plot\":{\"id\":\"e3bf29b7-8769-4f0c-a8cd-bf6843e38c06\",\"subtype\":\"Figure\",\"type\":\"Plot\"},\"ticker\":{\"id\":\"45924ef7-0046-49ff-9895-dfc373e95956\",\"type\":\"BasicTicker\"}},\"id\":\"206ee274-8cdf-47aa-b880-ebf9c33997d2\",\"type\":\"Grid\"},{\"attributes\":{\"data_source\":{\"id\":\"61705163-de56-40de-b619-ec7ddb720b7c\",\"type\":\"ColumnDataSource\"},\"glyph\":{\"id\":\"8a034423-4ba1-4ad4-b65b-d778b172e17a\",\"type\":\"Rect\"},\"hover_glyph\":null,\"nonselection_glyph\":null,\"selection_glyph\":null},\"id\":\"f2922c0b-7560-45d3-82ef-6703adf6d680\",\"type\":\"GlyphRenderer\"},{\"attributes\":{\"plot\":{\"id\":\"e7fdde06-bc88-4387-92a0-c9b96dfb67bc\",\"subtype\":\"Figure\",\"type\":\"Plot\"}},\"id\":\"3bf8f1a4-00b8-47f1-bef1-f3d5011ca884\",\"type\":\"ResizeTool\"},{\"attributes\":{\"data_source\":{\"id\":\"75bd19c5-cdd0-4b23-9758-c9ae2204272b\",\"type\":\"ColumnDataSource\"},\"glyph\":{\"id\":\"04fed3f6-7c6b-4a06-a957-f4e257a572c2\",\"type\":\"Rect\"},\"hover_glyph\":null,\"nonselection_glyph\":null,\"selection_glyph\":null},\"id\":\"113bdc43-0df4-4b96-b35b-aaa458503e58\",\"type\":\"GlyphRenderer\"},{\"attributes\":{\"plot\":{\"id\":\"e3bf29b7-8769-4f0c-a8cd-bf6843e38c06\",\"subtype\":\"Figure\",\"type\":\"Plot\"}},\"id\":\"6cd5f986-77fc-47c0-afbe-e83570f60fd5\",\"type\":\"ResetTool\"},{\"attributes\":{\"fill_alpha\":{\"field\":\"fill_alpha\"},\"fill_color\":{\"field\":\"color\"},\"height\":{\"field\":\"height\",\"units\":\"data\"},\"line_color\":{\"field\":\"line_color\"},\"width\":{\"field\":\"width\",\"units\":\"data\"},\"x\":{\"field\":\"x\"},\"y\":{\"field\":\"y\"}},\"id\":\"a9c52f10-3784-4acd-ad76-b79d1c403652\",\"type\":\"Rect\"},{\"attributes\":{\"formatter\":{\"id\":\"bf2c7d73-727a-4a17-ab9b-c91f525c6415\",\"type\":\"BasicTickFormatter\"},\"plot\":{\"id\":\"0e66aaae-c0ae-463b-aab5-b475c7c4a4cb\",\"subtype\":\"Figure\",\"type\":\"Plot\"},\"ticker\":{\"id\":\"93898cdf-5b10-40a3-996b-7c3670bb4ba4\",\"type\":\"BasicTicker\"}},\"id\":\"ed15765a-c794-4453-a77f-5824d042466a\",\"type\":\"LinearAxis\"},{\"attributes\":{\"plot\":{\"id\":\"c220b2c0-c838-4938-baf3-c9a2eb85abd3\",\"subtype\":\"Figure\",\"type\":\"Plot\"}},\"id\":\"5d26f58b-4ed3-4d0a-b81c-bfbc43b1e420\",\"type\":\"PanTool\"},{\"attributes\":{},\"id\":\"8964425d-c1e4-4c82-965c-adee41b85793\",\"type\":\"BasicTicker\"},{\"attributes\":{\"plot\":{\"id\":\"e7fdde06-bc88-4387-92a0-c9b96dfb67bc\",\"subtype\":\"Figure\",\"type\":\"Plot\"}},\"id\":\"e0f14c98-822e-4615-8c99-fd8b4067c5ab\",\"type\":\"HelpTool\"},{\"attributes\":{\"data_source\":{\"id\":\"55e136c3-e809-449c-9aed-df4ee5250e03\",\"type\":\"ColumnDataSource\"},\"glyph\":{\"id\":\"30c8035c-a615-49b7-b208-2627f49ba24f\",\"type\":\"Rect\"},\"hover_glyph\":null,\"nonselection_glyph\":null,\"selection_glyph\":null},\"id\":\"afc8b78c-7b04-4308-96dd-f4f2d335d4d9\",\"type\":\"GlyphRenderer\"},{\"attributes\":{\"below\":[{\"id\":\"715299af-a68b-4da6-9165-e2ff6eb671ad\",\"type\":\"LinearAxis\"}],\"left\":[{\"id\":\"2d96e87e-7d9e-4c9b-84c7-9fb7e83edaa4\",\"type\":\"LinearAxis\"}],\"renderers\":[{\"id\":\"715299af-a68b-4da6-9165-e2ff6eb671ad\",\"type\":\"LinearAxis\"},{\"id\":\"77c9511b-2210-4a9d-a39d-109886f965c1\",\"type\":\"Grid\"},{\"id\":\"2d96e87e-7d9e-4c9b-84c7-9fb7e83edaa4\",\"type\":\"LinearAxis\"},{\"id\":\"206ee274-8cdf-47aa-b880-ebf9c33997d2\",\"type\":\"Grid\"},{\"id\":\"23db3610-271e-4cf5-aeb8-6ba42a0df5e1\",\"type\":\"BoxAnnotation\"},{\"id\":\"1e178166-085f-40d9-87d7-565b116da8eb\",\"type\":\"GlyphRenderer\"}],\"tool_events\":{\"id\":\"11eb2e62-9b19-4098-874f-7d1580d6b6ad\",\"type\":\"ToolEvents\"},\"tools\":[{\"id\":\"50e53ee0-02df-4293-af7b-c2b6057dfb15\",\"type\":\"PanTool\"},{\"id\":\"cf8150e1-d927-4c75-b4c9-79c3641b4c41\",\"type\":\"WheelZoomTool\"},{\"id\":\"5463d737-2e35-4f6e-a2a7-534118a12fd2\",\"type\":\"BoxZoomTool\"},{\"id\":\"e9848832-0629-4b10-b49c-c190dcd69ebd\",\"type\":\"PreviewSaveTool\"},{\"id\":\"13bce9db-6aa5-4d99-808e-8e0c3406e249\",\"type\":\"ResizeTool\"},{\"id\":\"6cd5f986-77fc-47c0-afbe-e83570f60fd5\",\"type\":\"ResetTool\"},{\"id\":\"0377a355-e0e2-4355-b6c3-aafef70fa20b\",\"type\":\"HelpTool\"}],\"x_range\":{\"id\":\"81826e8f-eb69-40ea-86b6-68095bd9c184\",\"type\":\"DataRange1d\"},\"y_range\":{\"id\":\"90078930-88cf-4737-93a2-cec44376be64\",\"type\":\"DataRange1d\"}},\"id\":\"e3bf29b7-8769-4f0c-a8cd-bf6843e38c06\",\"subtype\":\"Figure\",\"type\":\"Plot\"},{\"attributes\":{\"callback\":null,\"factors\":[\"Breast\",\"Chronic Lymphocytic Leukemia\",\"Kidney and Renal Pelvis\",\"Lung and Bronchus\",\"Melanoma of the Skin\",\"NHL - Nodal\",\"Prostate\",\"Salivary Gland\",\"Thyroid\",\"Urinary Bladder\"]},\"id\":\"04c310a1-0364-4de5-9fb9-cb1b82d68124\",\"type\":\"FactorRange\"},{\"attributes\":{\"plot\":{\"id\":\"77c6a2e6-f39c-49ea-87b5-65f05dda06e7\",\"subtype\":\"Chart\",\"type\":\"Plot\"}},\"id\":\"ceb5fea2-7681-4479-8ae4-cf7e0770df68\",\"type\":\"PreviewSaveTool\"},{\"attributes\":{\"callback\":null},\"id\":\"c5e2be78-9dcb-430f-b31c-f48223995dcd\",\"type\":\"DataRange1d\"},{\"attributes\":{\"data_source\":{\"id\":\"93fd4f68-6119-43d9-ad12-e64b6549efb2\",\"type\":\"ColumnDataSource\"},\"glyph\":{\"id\":\"bd5d9e9f-5ac3-44e9-addc-fdda12c224b2\",\"type\":\"Rect\"},\"hover_glyph\":null,\"nonselection_glyph\":null,\"selection_glyph\":null},\"id\":\"2b9ef827-e205-4db8-99ed-55f34a79c28c\",\"type\":\"GlyphRenderer\"},{\"attributes\":{\"plot\":{\"id\":\"e3bf29b7-8769-4f0c-a8cd-bf6843e38c06\",\"subtype\":\"Figure\",\"type\":\"Plot\"}},\"id\":\"0377a355-e0e2-4355-b6c3-aafef70fa20b\",\"type\":\"HelpTool\"},{\"attributes\":{\"bottom_units\":\"screen\",\"fill_alpha\":{\"value\":0.5},\"fill_color\":{\"value\":\"lightgrey\"},\"left_units\":\"screen\",\"level\":\"overlay\",\"line_alpha\":{\"value\":1.0},\"line_color\":{\"value\":\"black\"},\"line_dash\":[4,4],\"line_width\":{\"value\":2},\"plot\":null,\"render_mode\":\"css\",\"right_units\":\"screen\",\"top_units\":\"screen\"},\"id\":\"23db3610-271e-4cf5-aeb8-6ba42a0df5e1\",\"type\":\"BoxAnnotation\"},{\"attributes\":{\"formatter\":{\"id\":\"cc84adec-5ef2-497a-988e-ce70c9748fb3\",\"type\":\"BasicTickFormatter\"},\"plot\":{\"id\":\"e7fdde06-bc88-4387-92a0-c9b96dfb67bc\",\"subtype\":\"Figure\",\"type\":\"Plot\"},\"ticker\":{\"id\":\"a61e24bc-253f-4a57-9def-aab29051af1a\",\"type\":\"BasicTicker\"}},\"id\":\"08648bec-36c4-46c6-ad97-0d9eaae45dda\",\"type\":\"LinearAxis\"},{\"attributes\":{},\"id\":\"e7315357-2051-44c7-8a25-c83c86cbb20d\",\"type\":\"BasicTicker\"},{\"attributes\":{\"bottom_units\":\"screen\",\"fill_alpha\":{\"value\":0.5},\"fill_color\":{\"value\":\"lightgrey\"},\"left_units\":\"screen\",\"level\":\"overlay\",\"line_alpha\":{\"value\":1.0},\"line_color\":{\"value\":\"black\"},\"line_dash\":[4,4],\"line_width\":{\"value\":2},\"plot\":null,\"render_mode\":\"css\",\"right_units\":\"screen\",\"top_units\":\"screen\"},\"id\":\"da03d72b-8863-4bb4-a6f6-793be285b9f5\",\"type\":\"BoxAnnotation\"},{\"attributes\":{\"dimension\":1,\"plot\":{\"id\":\"0e66aaae-c0ae-463b-aab5-b475c7c4a4cb\",\"subtype\":\"Figure\",\"type\":\"Plot\"},\"ticker\":{\"id\":\"93898cdf-5b10-40a3-996b-7c3670bb4ba4\",\"type\":\"BasicTicker\"}},\"id\":\"d6c14c8f-9eea-4d44-9603-ca36f68d27ac\",\"type\":\"Grid\"},{\"attributes\":{\"callback\":null,\"column_names\":[\"line_alpha\",\"fill_alpha\",\"color\",\"height\",\"y\",\"x\",\"line_color\",\"width\"],\"data\":{\"chart_index\":[{\"index\":\"Thyroid\"}],\"color\":[\"#f22c40\"],\"fill_alpha\":[0.8],\"height\":[26.0],\"index\":[\"Thyroid\"],\"line_alpha\":[1.0],\"line_color\":[\"white\"],\"width\":[0.8],\"x\":[\"Thyroid\"],\"y\":[13.0]}},\"id\":\"93fd4f68-6119-43d9-ad12-e64b6549efb2\",\"type\":\"ColumnDataSource\"},{\"attributes\":{\"plot\":{\"id\":\"c220b2c0-c838-4938-baf3-c9a2eb85abd3\",\"subtype\":\"Figure\",\"type\":\"Plot\"}},\"id\":\"d3f3d0b1-dbe5-4b4f-9fb7-db6b323929ef\",\"type\":\"WheelZoomTool\"},{\"attributes\":{},\"id\":\"bf876d24-b5b4-41d8-ac34-735679007c1f\",\"type\":\"BasicTicker\"},{\"attributes\":{\"fill_alpha\":{\"field\":\"fill_alpha\"},\"fill_color\":{\"field\":\"color\"},\"height\":{\"field\":\"height\",\"units\":\"data\"},\"line_color\":{\"field\":\"line_color\"},\"width\":{\"field\":\"width\",\"units\":\"data\"},\"x\":{\"field\":\"x\"},\"y\":{\"field\":\"y\"}},\"id\":\"8a034423-4ba1-4ad4-b65b-d778b172e17a\",\"type\":\"Rect\"},{\"attributes\":{\"plot\":{\"id\":\"e7fdde06-bc88-4387-92a0-c9b96dfb67bc\",\"subtype\":\"Figure\",\"type\":\"Plot\"}},\"id\":\"f10021e0-2b29-43a9-9788-27e28513a3b9\",\"type\":\"PreviewSaveTool\"},{\"attributes\":{\"fill_alpha\":{\"field\":\"fill_alpha\"},\"fill_color\":{\"field\":\"color\"},\"height\":{\"field\":\"height\",\"units\":\"data\"},\"line_color\":{\"field\":\"line_color\"},\"width\":{\"field\":\"width\",\"units\":\"data\"},\"x\":{\"field\":\"x\"},\"y\":{\"field\":\"y\"}},\"id\":\"8fce6222-4a29-452e-aeac-c66226fe4581\",\"type\":\"Rect\"},{\"attributes\":{\"line_alpha\":{\"value\":0.1},\"line_color\":{\"value\":\"#1f77b4\"},\"x\":{\"field\":\"x\"},\"y\":{\"field\":\"y\"}},\"id\":\"c8c0ff67-8ecb-43eb-b110-081a45a131da\",\"type\":\"Line\"},{\"attributes\":{\"plot\":{\"id\":\"e7fdde06-bc88-4387-92a0-c9b96dfb67bc\",\"subtype\":\"Figure\",\"type\":\"Plot\"}},\"id\":\"89595aca-6279-47a1-8469-8f1d13e68933\",\"type\":\"PanTool\"},{\"attributes\":{\"formatter\":{\"id\":\"14914de6-6d13-4b67-8c83-45fd3c7814cd\",\"type\":\"BasicTickFormatter\"},\"plot\":{\"id\":\"e3bf29b7-8769-4f0c-a8cd-bf6843e38c06\",\"subtype\":\"Figure\",\"type\":\"Plot\"},\"ticker\":{\"id\":\"8964425d-c1e4-4c82-965c-adee41b85793\",\"type\":\"BasicTicker\"}},\"id\":\"715299af-a68b-4da6-9165-e2ff6eb671ad\",\"type\":\"LinearAxis\"},{\"attributes\":{\"plot\":{\"id\":\"0e66aaae-c0ae-463b-aab5-b475c7c4a4cb\",\"subtype\":\"Figure\",\"type\":\"Plot\"},\"ticker\":{\"id\":\"e7315357-2051-44c7-8a25-c83c86cbb20d\",\"type\":\"BasicTicker\"}},\"id\":\"5f3ff2e5-32a5-4db4-9cb2-7e5776abd9db\",\"type\":\"Grid\"},{\"attributes\":{\"data_source\":{\"id\":\"362cdb01-2a3d-469c-9f81-01e0a89c4fbe\",\"type\":\"ColumnDataSource\"},\"glyph\":{\"id\":\"a7659155-1954-4010-959e-9ee29f301384\",\"type\":\"Line\"},\"hover_glyph\":null,\"nonselection_glyph\":{\"id\":\"c8c0ff67-8ecb-43eb-b110-081a45a131da\",\"type\":\"Line\"},\"selection_glyph\":null},\"id\":\"1e178166-085f-40d9-87d7-565b116da8eb\",\"type\":\"GlyphRenderer\"},{\"attributes\":{},\"id\":\"14914de6-6d13-4b67-8c83-45fd3c7814cd\",\"type\":\"BasicTickFormatter\"},{\"attributes\":{\"plot\":{\"id\":\"77c6a2e6-f39c-49ea-87b5-65f05dda06e7\",\"subtype\":\"Chart\",\"type\":\"Plot\"}},\"id\":\"8ef41228-6858-486a-92a5-6f2edcb2adaa\",\"type\":\"PanTool\"},{\"attributes\":{},\"id\":\"8ba45b99-ed3f-4af2-84eb-a70d239132db\",\"type\":\"ToolEvents\"},{\"attributes\":{\"callback\":null,\"column_names\":[\"line_alpha\",\"fill_alpha\",\"color\",\"height\",\"y\",\"x\",\"line_color\",\"width\"],\"data\":{\"chart_index\":[{\"index\":\"Lung and Bronchus\"}],\"color\":[\"#f22c40\"],\"fill_alpha\":[0.8],\"height\":[33.0],\"index\":[\"Lung and Bronchus\"],\"line_alpha\":[1.0],\"line_color\":[\"white\"],\"width\":[0.8],\"x\":[\"Lung and Bronchus\"],\"y\":[16.5]}},\"id\":\"cd9cc019-265c-4880-bb0a-d52e36869ae5\",\"type\":\"ColumnDataSource\"},{\"attributes\":{},\"id\":\"226bdc78-6f16-475f-be5d-031f6f35b82f\",\"type\":\"BasicTickFormatter\"},{\"attributes\":{\"callback\":null,\"column_names\":[\"line_alpha\",\"fill_alpha\",\"color\",\"height\",\"y\",\"x\",\"line_color\",\"width\"],\"data\":{\"chart_index\":[{\"index\":\"Salivary Gland\"}],\"color\":[\"#f22c40\"],\"fill_alpha\":[0.8],\"height\":[3242.0],\"index\":[\"Salivary Gland\"],\"line_alpha\":[1.0],\"line_color\":[\"white\"],\"width\":[0.8],\"x\":[\"Salivary Gland\"],\"y\":[1621.0]}},\"id\":\"61705163-de56-40de-b619-ec7ddb720b7c\",\"type\":\"ColumnDataSource\"},{\"attributes\":{\"fill_alpha\":{\"field\":\"fill_alpha\"},\"fill_color\":{\"field\":\"color\"},\"height\":{\"field\":\"height\",\"units\":\"data\"},\"line_color\":{\"field\":\"line_color\"},\"width\":{\"field\":\"width\",\"units\":\"data\"},\"x\":{\"field\":\"x\"},\"y\":{\"field\":\"y\"}},\"id\":\"04fed3f6-7c6b-4a06-a957-f4e257a572c2\",\"type\":\"Rect\"},{\"attributes\":{},\"id\":\"d9517d78-dd69-4ccd-9013-53aedbae9e41\",\"type\":\"BasicTicker\"},{\"attributes\":{\"callback\":null,\"column_names\":[\"line_alpha\",\"fill_alpha\",\"color\",\"height\",\"y\",\"x\",\"line_color\",\"width\"],\"data\":{\"chart_index\":[{\"index\":\"Breast\"}],\"color\":[\"#f22c40\"],\"fill_alpha\":[0.8],\"height\":[131.0],\"index\":[\"Breast\"],\"line_alpha\":[1.0],\"line_color\":[\"white\"],\"width\":[0.8],\"x\":[\"Breast\"],\"y\":[65.5]}},\"id\":\"307d92c1-6ce3-47e8-b177-8d39501d2657\",\"type\":\"ColumnDataSource\"},{\"attributes\":{\"plot\":{\"id\":\"0e66aaae-c0ae-463b-aab5-b475c7c4a4cb\",\"subtype\":\"Figure\",\"type\":\"Plot\"}},\"id\":\"2b302481-0404-4081-8b39-3eb53d8abd50\",\"type\":\"ResizeTool\"},{\"attributes\":{\"formatter\":{\"id\":\"226bdc78-6f16-475f-be5d-031f6f35b82f\",\"type\":\"BasicTickFormatter\"},\"plot\":{\"id\":\"c220b2c0-c838-4938-baf3-c9a2eb85abd3\",\"subtype\":\"Figure\",\"type\":\"Plot\"},\"ticker\":{\"id\":\"bf876d24-b5b4-41d8-ac34-735679007c1f\",\"type\":\"BasicTicker\"}},\"id\":\"9f09ee4c-4796-4f88-811e-a3a79e8229bb\",\"type\":\"LinearAxis\"},{\"attributes\":{\"callback\":null,\"column_names\":[\"line_alpha\",\"fill_alpha\",\"color\",\"height\",\"y\",\"x\",\"line_color\",\"width\"],\"data\":{\"chart_index\":[{\"index\":\"Chronic Lymphocytic Leukemia\"}],\"color\":[\"#f22c40\"],\"fill_alpha\":[0.8],\"height\":[28.0],\"index\":[\"Chronic Lymphocytic Leukemia\"],\"line_alpha\":[1.0],\"line_color\":[\"white\"],\"width\":[0.8],\"x\":[\"Chronic Lymphocytic Leukemia\"],\"y\":[14.0]}},\"id\":\"908164d2-36d1-4538-b7f8-e907486fda8b\",\"type\":\"ColumnDataSource\"},{\"attributes\":{\"plot\":{\"id\":\"77c6a2e6-f39c-49ea-87b5-65f05dda06e7\",\"subtype\":\"Chart\",\"type\":\"Plot\"}},\"id\":\"bfc7d4cd-c7a6-4a9a-9b94-5a156978eff0\",\"type\":\"ResetTool\"},{\"attributes\":{\"callback\":null,\"column_names\":[\"line_alpha\",\"fill_alpha\",\"color\",\"height\",\"y\",\"x\",\"line_color\",\"width\"],\"data\":{\"chart_index\":[{\"index\":\"Kidney and Renal Pelvis\"}],\"color\":[\"#f22c40\"],\"fill_alpha\":[0.8],\"height\":[26.0],\"index\":[\"Kidney and Renal Pelvis\"],\"line_alpha\":[1.0],\"line_color\":[\"white\"],\"width\":[0.8],\"x\":[\"Kidney and Renal Pelvis\"],\"y\":[13.0]}},\"id\":\"55e136c3-e809-449c-9aed-df4ee5250e03\",\"type\":\"ColumnDataSource\"},{\"attributes\":{},\"id\":\"cc84adec-5ef2-497a-988e-ce70c9748fb3\",\"type\":\"BasicTickFormatter\"},{\"attributes\":{\"data_source\":{\"id\":\"cd9cc019-265c-4880-bb0a-d52e36869ae5\",\"type\":\"ColumnDataSource\"},\"glyph\":{\"id\":\"c79539c9-dced-49bb-9795-9946925b7bf8\",\"type\":\"Rect\"},\"hover_glyph\":null,\"nonselection_glyph\":null,\"selection_glyph\":null},\"id\":\"74119651-826c-4068-a5a7-b8f7b00c2e74\",\"type\":\"GlyphRenderer\"},{\"attributes\":{\"callback\":null,\"column_names\":[\"line_alpha\",\"fill_alpha\",\"color\",\"height\",\"y\",\"x\",\"line_color\",\"width\"],\"data\":{\"chart_index\":[{\"index\":\"NHL - Nodal\"}],\"color\":[\"#f22c40\"],\"fill_alpha\":[0.8],\"height\":[31.0],\"index\":[\"NHL - Nodal\"],\"line_alpha\":[1.0],\"line_color\":[\"white\"],\"width\":[0.8],\"x\":[\"NHL - Nodal\"],\"y\":[15.5]}},\"id\":\"4144a687-c5ba-47f2-9d49-3dd1daa88cbd\",\"type\":\"ColumnDataSource\"},{\"attributes\":{\"bottom_units\":\"screen\",\"fill_alpha\":{\"value\":0.5},\"fill_color\":{\"value\":\"lightgrey\"},\"left_units\":\"screen\",\"level\":\"overlay\",\"line_alpha\":{\"value\":1.0},\"line_color\":{\"value\":\"black\"},\"line_dash\":[4,4],\"line_width\":{\"value\":2},\"plot\":null,\"render_mode\":\"css\",\"right_units\":\"screen\",\"top_units\":\"screen\"},\"id\":\"2461695c-93cf-4c3a-b74d-fa8771b86b80\",\"type\":\"BoxAnnotation\"},{\"attributes\":{},\"id\":\"7e20229a-5ba6-403f-9599-8c6efa59e0a3\",\"type\":\"BasicTicker\"},{\"attributes\":{\"line_color\":{\"value\":\"red\"},\"x\":{\"field\":\"x\"},\"y\":{\"field\":\"y\"}},\"id\":\"bae55553-19c2-47a4-aefe-02ca9978889e\",\"type\":\"Line\"},{\"attributes\":{\"callback\":null,\"column_names\":[\"line_alpha\",\"fill_alpha\",\"color\",\"height\",\"y\",\"x\",\"line_color\",\"width\"],\"data\":{\"chart_index\":[{\"index\":\"Prostate\"}],\"color\":[\"#f22c40\"],\"fill_alpha\":[0.8],\"height\":[190.0],\"index\":[\"Prostate\"],\"line_alpha\":[1.0],\"line_color\":[\"white\"],\"width\":[0.8],\"x\":[\"Prostate\"],\"y\":[95.0]}},\"id\":\"1c1136a1-ef49-4170-bdb8-bc878663c89b\",\"type\":\"ColumnDataSource\"},{\"attributes\":{\"data_source\":{\"id\":\"307d92c1-6ce3-47e8-b177-8d39501d2657\",\"type\":\"ColumnDataSource\"},\"glyph\":{\"id\":\"d1ef4856-a94c-4dc3-8ead-5894025c9e82\",\"type\":\"Rect\"},\"hover_glyph\":null,\"nonselection_glyph\":null,\"selection_glyph\":null},\"id\":\"bf5517d2-2091-4ba4-bd09-db5e8af169c1\",\"type\":\"GlyphRenderer\"},{\"attributes\":{\"callback\":null,\"column_names\":[\"line_alpha\",\"fill_alpha\",\"color\",\"height\",\"y\",\"x\",\"line_color\",\"width\"],\"data\":{\"chart_index\":[{\"index\":\"Melanoma of the Skin\"}],\"color\":[\"#f22c40\"],\"fill_alpha\":[0.8],\"height\":[96.0],\"index\":[\"Melanoma of the Skin\"],\"line_alpha\":[1.0],\"line_color\":[\"white\"],\"width\":[0.8],\"x\":[\"Melanoma of the Skin\"],\"y\":[48.0]}},\"id\":\"bde1bf79-c7e7-4ef4-a0b2-56131d4ffd57\",\"type\":\"ColumnDataSource\"},{\"attributes\":{\"data_source\":{\"id\":\"908164d2-36d1-4538-b7f8-e907486fda8b\",\"type\":\"ColumnDataSource\"},\"glyph\":{\"id\":\"a9c52f10-3784-4acd-ad76-b79d1c403652\",\"type\":\"Rect\"},\"hover_glyph\":null,\"nonselection_glyph\":null,\"selection_glyph\":null},\"id\":\"13506d89-b2b5-4f23-8c80-072f6a11dbb3\",\"type\":\"GlyphRenderer\"},{\"attributes\":{\"below\":[{\"id\":\"50c7b56a-5244-4a17-84fe-16abbe472463\",\"type\":\"CategoricalAxis\"}],\"left\":[{\"id\":\"c75ac732-0283-4074-88ae-8af2fd0873ae\",\"type\":\"LinearAxis\"}],\"legend\":null,\"renderers\":[{\"id\":\"539110c5-0196-4303-bbf0-cd80978fd623\",\"type\":\"BoxAnnotation\"},{\"id\":\"2b9ef827-e205-4db8-99ed-55f34a79c28c\",\"type\":\"GlyphRenderer\"},{\"id\":\"afc8b78c-7b04-4308-96dd-f4f2d335d4d9\",\"type\":\"GlyphRenderer\"},{\"id\":\"13506d89-b2b5-4f23-8c80-072f6a11dbb3\",\"type\":\"GlyphRenderer\"},{\"id\":\"10b77641-c227-409c-b36c-64d069e6fa27\",\"type\":\"GlyphRenderer\"},{\"id\":\"74119651-826c-4068-a5a7-b8f7b00c2e74\",\"type\":\"GlyphRenderer\"},{\"id\":\"113bdc43-0df4-4b96-b35b-aaa458503e58\",\"type\":\"GlyphRenderer\"},{\"id\":\"b9716b0d-e17b-4101-bfd0-d1a457bb8831\",\"type\":\"GlyphRenderer\"},{\"id\":\"bf5517d2-2091-4ba4-bd09-db5e8af169c1\",\"type\":\"GlyphRenderer\"},{\"id\":\"234a172f-4229-4a80-a5be-2cde60322806\",\"type\":\"GlyphRenderer\"},{\"id\":\"f2922c0b-7560-45d3-82ef-6703adf6d680\",\"type\":\"GlyphRenderer\"},{\"id\":\"50c7b56a-5244-4a17-84fe-16abbe472463\",\"type\":\"CategoricalAxis\"},{\"id\":\"c75ac732-0283-4074-88ae-8af2fd0873ae\",\"type\":\"LinearAxis\"},{\"id\":\"26b55ef7-bb1a-46d1-9bff-dc481d8f23b0\",\"type\":\"Grid\"}],\"title_text_font_size\":{\"value\":\"14pt\"},\"tool_events\":{\"id\":\"0b9a6b4b-299f-45e0-95f6-e2acd136d888\",\"type\":\"ToolEvents\"},\"tools\":[{\"id\":\"8ef41228-6858-486a-92a5-6f2edcb2adaa\",\"type\":\"PanTool\"},{\"id\":\"8f48eb48-2159-4a8a-8d2b-7dc0be45aa9f\",\"type\":\"WheelZoomTool\"},{\"id\":\"d7c862c7-8e0b-4880-afb7-dea62164e159\",\"type\":\"BoxZoomTool\"},{\"id\":\"ceb5fea2-7681-4479-8ae4-cf7e0770df68\",\"type\":\"PreviewSaveTool\"},{\"id\":\"ca2518c6-668a-4acd-930d-45589b7cea82\",\"type\":\"ResizeTool\"},{\"id\":\"bfc7d4cd-c7a6-4a9a-9b94-5a156978eff0\",\"type\":\"ResetTool\"},{\"id\":\"bb3332e4-102b-4918-99d6-ca74bef6df62\",\"type\":\"HelpTool\"}],\"x_mapper_type\":\"auto\",\"x_range\":{\"id\":\"04c310a1-0364-4de5-9fb9-cb1b82d68124\",\"type\":\"FactorRange\"},\"xgrid\":false,\"xscale\":\"auto\",\"y_mapper_type\":\"auto\",\"y_range\":{\"id\":\"8d6897da-2764-4493-8751-97ef7ec11176\",\"type\":\"Range1d\"},\"yscale\":\"auto\"},\"id\":\"77c6a2e6-f39c-49ea-87b5-65f05dda06e7\",\"subtype\":\"Chart\",\"type\":\"Plot\"},{\"attributes\":{\"plot\":{\"id\":\"c220b2c0-c838-4938-baf3-c9a2eb85abd3\",\"subtype\":\"Figure\",\"type\":\"Plot\"}},\"id\":\"6b17fe4e-dda6-420d-907d-14b02eeeb130\",\"type\":\"PreviewSaveTool\"},{\"attributes\":{\"plot\":{\"id\":\"0e66aaae-c0ae-463b-aab5-b475c7c4a4cb\",\"subtype\":\"Figure\",\"type\":\"Plot\"}},\"id\":\"9be0b0b2-ab14-48cf-ae0a-cfbf4d8f2f69\",\"type\":\"WheelZoomTool\"},{\"attributes\":{\"below\":[{\"id\":\"2b32cba0-6f98-44c0-a08c-45139fb12f12\",\"type\":\"LinearAxis\"}],\"left\":[{\"id\":\"ed15765a-c794-4453-a77f-5824d042466a\",\"type\":\"LinearAxis\"}],\"renderers\":[{\"id\":\"2b32cba0-6f98-44c0-a08c-45139fb12f12\",\"type\":\"LinearAxis\"},{\"id\":\"5f3ff2e5-32a5-4db4-9cb2-7e5776abd9db\",\"type\":\"Grid\"},{\"id\":\"ed15765a-c794-4453-a77f-5824d042466a\",\"type\":\"LinearAxis\"},{\"id\":\"d6c14c8f-9eea-4d44-9603-ca36f68d27ac\",\"type\":\"Grid\"},{\"id\":\"da03d72b-8863-4bb4-a6f6-793be285b9f5\",\"type\":\"BoxAnnotation\"}],\"tool_events\":{\"id\":\"6a215d72-9fde-4447-8955-b6043af232cb\",\"type\":\"ToolEvents\"},\"tools\":[{\"id\":\"5cdfee45-757e-4923-a09f-214d886987b7\",\"type\":\"PanTool\"},{\"id\":\"9be0b0b2-ab14-48cf-ae0a-cfbf4d8f2f69\",\"type\":\"WheelZoomTool\"},{\"id\":\"c589a70f-4db6-4b9d-aff4-bf3c2c2c665b\",\"type\":\"BoxZoomTool\"},{\"id\":\"1cce62e6-9243-4895-aeba-d7643ae5f6cd\",\"type\":\"PreviewSaveTool\"},{\"id\":\"2b302481-0404-4081-8b39-3eb53d8abd50\",\"type\":\"ResizeTool\"},{\"id\":\"a61cc2e8-d139-4e68-8e8a-4bbe76997c86\",\"type\":\"ResetTool\"},{\"id\":\"aeca6da3-370b-45b0-b481-eab8a73da7c7\",\"type\":\"HelpTool\"}],\"x_range\":{\"id\":\"84d318c5-110f-4392-9a6b-5aa6b1bf86f1\",\"type\":\"DataRange1d\"},\"y_range\":{\"id\":\"0711ca37-bef7-4282-8b02-8340885b190e\",\"type\":\"DataRange1d\"}},\"id\":\"0e66aaae-c0ae-463b-aab5-b475c7c4a4cb\",\"subtype\":\"Figure\",\"type\":\"Plot\"},{\"attributes\":{\"overlay\":{\"id\":\"2461695c-93cf-4c3a-b74d-fa8771b86b80\",\"type\":\"BoxAnnotation\"},\"plot\":{\"id\":\"e7fdde06-bc88-4387-92a0-c9b96dfb67bc\",\"subtype\":\"Figure\",\"type\":\"Plot\"}},\"id\":\"6623d4d0-02b5-44f6-a943-7a205f87d698\",\"type\":\"BoxZoomTool\"},{\"attributes\":{\"callback\":null},\"id\":\"90078930-88cf-4737-93a2-cec44376be64\",\"type\":\"DataRange1d\"},{\"attributes\":{\"plot\":{\"id\":\"0e66aaae-c0ae-463b-aab5-b475c7c4a4cb\",\"subtype\":\"Figure\",\"type\":\"Plot\"}},\"id\":\"5cdfee45-757e-4923-a09f-214d886987b7\",\"type\":\"PanTool\"},{\"attributes\":{},\"id\":\"109caefa-4ed1-4ad1-accc-54cb13e85899\",\"type\":\"BasicTickFormatter\"},{\"attributes\":{\"below\":[{\"id\":\"02053ccf-3258-4a84-8efa-80dbc62e1485\",\"type\":\"LinearAxis\"}],\"left\":[{\"id\":\"9f09ee4c-4796-4f88-811e-a3a79e8229bb\",\"type\":\"LinearAxis\"}],\"renderers\":[{\"id\":\"02053ccf-3258-4a84-8efa-80dbc62e1485\",\"type\":\"LinearAxis\"},{\"id\":\"ea605146-4088-41ea-97f1-4e5abfc1c722\",\"type\":\"Grid\"},{\"id\":\"9f09ee4c-4796-4f88-811e-a3a79e8229bb\",\"type\":\"LinearAxis\"},{\"id\":\"77aab1a7-324d-425c-8a53-3e89c45dd8d0\",\"type\":\"Grid\"},{\"id\":\"1152e443-6c8b-4e79-9a96-ec6e06bd1702\",\"type\":\"BoxAnnotation\"},{\"id\":\"07e75e51-54ec-4f60-bc07-aded0e3a9d96\",\"type\":\"GlyphRenderer\"}],\"tool_events\":{\"id\":\"8ba45b99-ed3f-4af2-84eb-a70d239132db\",\"type\":\"ToolEvents\"},\"tools\":[{\"id\":\"5d26f58b-4ed3-4d0a-b81c-bfbc43b1e420\",\"type\":\"PanTool\"},{\"id\":\"d3f3d0b1-dbe5-4b4f-9fb7-db6b323929ef\",\"type\":\"WheelZoomTool\"},{\"id\":\"1c9123de-8461-48b8-b671-8249d321f936\",\"type\":\"BoxZoomTool\"},{\"id\":\"6b17fe4e-dda6-420d-907d-14b02eeeb130\",\"type\":\"PreviewSaveTool\"},{\"id\":\"2bb63800-fab7-4a7e-be5e-d5e86e23b608\",\"type\":\"ResizeTool\"},{\"id\":\"82436ada-7c24-48aa-94da-3dc30c95b156\",\"type\":\"ResetTool\"},{\"id\":\"b1b33da3-cd34-4c2a-b9f8-dfa7b9e67862\",\"type\":\"HelpTool\"}],\"x_range\":{\"id\":\"e3340cf8-e568-4421-959f-dfbb2359ec91\",\"type\":\"DataRange1d\"},\"y_range\":{\"id\":\"c5e2be78-9dcb-430f-b31c-f48223995dcd\",\"type\":\"DataRange1d\"}},\"id\":\"c220b2c0-c838-4938-baf3-c9a2eb85abd3\",\"subtype\":\"Figure\",\"type\":\"Plot\"},{\"attributes\":{\"data_source\":{\"id\":\"f9c53b56-d460-4cac-8470-33819fbde484\",\"type\":\"ColumnDataSource\"},\"glyph\":{\"id\":\"bae55553-19c2-47a4-aefe-02ca9978889e\",\"type\":\"Line\"},\"hover_glyph\":null,\"nonselection_glyph\":{\"id\":\"de07ff56-ca31-4273-b5be-498eb250e9a3\",\"type\":\"Line\"},\"selection_glyph\":null},\"id\":\"07e75e51-54ec-4f60-bc07-aded0e3a9d96\",\"type\":\"GlyphRenderer\"},{\"attributes\":{},\"id\":\"2a21b53b-d57f-4594-a7a7-0b6d78023e51\",\"type\":\"CategoricalTickFormatter\"},{\"attributes\":{},\"id\":\"3a63d85b-94f4-4f46-bc4e-5f4dc29454f8\",\"type\":\"BasicTickFormatter\"},{\"attributes\":{\"plot\":{\"id\":\"77c6a2e6-f39c-49ea-87b5-65f05dda06e7\",\"subtype\":\"Chart\",\"type\":\"Plot\"}},\"id\":\"8f48eb48-2159-4a8a-8d2b-7dc0be45aa9f\",\"type\":\"WheelZoomTool\"},{\"attributes\":{},\"id\":\"0b9a6b4b-299f-45e0-95f6-e2acd136d888\",\"type\":\"ToolEvents\"},{\"attributes\":{},\"id\":\"bf2c7d73-727a-4a17-ab9b-c91f525c6415\",\"type\":\"BasicTickFormatter\"},{\"attributes\":{\"formatter\":{\"id\":\"2a21b53b-d57f-4594-a7a7-0b6d78023e51\",\"type\":\"CategoricalTickFormatter\"},\"major_label_orientation\":0.7853981633974483,\"plot\":{\"id\":\"77c6a2e6-f39c-49ea-87b5-65f05dda06e7\",\"subtype\":\"Chart\",\"type\":\"Plot\"},\"ticker\":{\"id\":\"c33525d4-0001-4d7b-bc4a-53161bb94095\",\"type\":\"CategoricalTicker\"}},\"id\":\"50c7b56a-5244-4a17-84fe-16abbe472463\",\"type\":\"CategoricalAxis\"},{\"attributes\":{\"formatter\":{\"id\":\"a393e07a-0df8-4830-843e-856e71f49b49\",\"type\":\"BasicTickFormatter\"},\"plot\":{\"id\":\"e3bf29b7-8769-4f0c-a8cd-bf6843e38c06\",\"subtype\":\"Figure\",\"type\":\"Plot\"},\"ticker\":{\"id\":\"45924ef7-0046-49ff-9895-dfc373e95956\",\"type\":\"BasicTicker\"}},\"id\":\"2d96e87e-7d9e-4c9b-84c7-9fb7e83edaa4\",\"type\":\"LinearAxis\"},{\"attributes\":{\"plot\":{\"id\":\"c220b2c0-c838-4938-baf3-c9a2eb85abd3\",\"subtype\":\"Figure\",\"type\":\"Plot\"}},\"id\":\"82436ada-7c24-48aa-94da-3dc30c95b156\",\"type\":\"ResetTool\"},{\"attributes\":{},\"id\":\"93898cdf-5b10-40a3-996b-7c3670bb4ba4\",\"type\":\"BasicTicker\"},{\"attributes\":{\"formatter\":{\"id\":\"3a63d85b-94f4-4f46-bc4e-5f4dc29454f8\",\"type\":\"BasicTickFormatter\"},\"plot\":{\"id\":\"0e66aaae-c0ae-463b-aab5-b475c7c4a4cb\",\"subtype\":\"Figure\",\"type\":\"Plot\"},\"ticker\":{\"id\":\"e7315357-2051-44c7-8a25-c83c86cbb20d\",\"type\":\"BasicTicker\"}},\"id\":\"2b32cba0-6f98-44c0-a08c-45139fb12f12\",\"type\":\"LinearAxis\"},{\"attributes\":{\"dimension\":1,\"plot\":{\"id\":\"c220b2c0-c838-4938-baf3-c9a2eb85abd3\",\"subtype\":\"Figure\",\"type\":\"Plot\"},\"ticker\":{\"id\":\"bf876d24-b5b4-41d8-ac34-735679007c1f\",\"type\":\"BasicTicker\"}},\"id\":\"77aab1a7-324d-425c-8a53-3e89c45dd8d0\",\"type\":\"Grid\"},{\"attributes\":{\"plot\":{\"id\":\"77c6a2e6-f39c-49ea-87b5-65f05dda06e7\",\"subtype\":\"Chart\",\"type\":\"Plot\"}},\"id\":\"bb3332e4-102b-4918-99d6-ca74bef6df62\",\"type\":\"HelpTool\"},{\"attributes\":{\"plot\":{\"id\":\"c220b2c0-c838-4938-baf3-c9a2eb85abd3\",\"subtype\":\"Figure\",\"type\":\"Plot\"}},\"id\":\"2bb63800-fab7-4a7e-be5e-d5e86e23b608\",\"type\":\"ResizeTool\"},{\"attributes\":{\"fill_alpha\":{\"field\":\"fill_alpha\"},\"fill_color\":{\"field\":\"color\"},\"height\":{\"field\":\"height\",\"units\":\"data\"},\"line_color\":{\"field\":\"line_color\"},\"width\":{\"field\":\"width\",\"units\":\"data\"},\"x\":{\"field\":\"x\"},\"y\":{\"field\":\"y\"}},\"id\":\"d1ef4856-a94c-4dc3-8ead-5894025c9e82\",\"type\":\"Rect\"},{\"attributes\":{},\"id\":\"541319d9-604d-481f-8b99-14106ecec9fe\",\"type\":\"BasicTickFormatter\"},{\"attributes\":{\"plot\":{\"id\":\"e7fdde06-bc88-4387-92a0-c9b96dfb67bc\",\"subtype\":\"Figure\",\"type\":\"Plot\"}},\"id\":\"b6fce035-ca53-4c83-aff7-9fd89bc30725\",\"type\":\"WheelZoomTool\"},{\"attributes\":{\"plot\":{\"id\":\"0e66aaae-c0ae-463b-aab5-b475c7c4a4cb\",\"subtype\":\"Figure\",\"type\":\"Plot\"}},\"id\":\"1cce62e6-9243-4895-aeba-d7643ae5f6cd\",\"type\":\"PreviewSaveTool\"},{\"attributes\":{\"callback\":null,\"column_names\":[\"y\",\"x\"],\"data\":{\"x\":[0.0,0.01,0.02,0.03,0.04,0.05,0.06,0.07,0.08,0.09,0.1,0.11,0.12,0.13,0.14,0.15,0.16,0.17,0.18,0.19,0.2,0.21,0.22,0.23,0.24,0.25,0.26,0.27,0.28,0.29,0.3,0.31,0.32,0.33,0.34,0.35000000000000003,0.36,0.37,0.38,0.39,0.4,0.41000000000000003,0.42,0.43,0.44,0.45,0.46,0.47000000000000003,0.48,0.49,0.5,0.51,0.52,0.53,0.54,0.55,0.56,0.5700000000000001,0.58,0.59,0.6,0.61,0.62,0.63,0.64,0.65,0.66,0.67,0.68,0.6900000000000001,0.7000000000000001,0.71,0.72,0.73,0.74,0.75,0.76,0.77,0.78,0.79,0.8,0.81,0.8200000000000001,0.8300000000000001,0.84,0.85,0.86,0.87,0.88,0.89,0.9,0.91,0.92,0.93,0.9400000000000001,0.9500000000000001,0.96,0.97,0.98,0.99,1.0,1.01,1.02,1.03,1.04,1.05,1.06,1.07,1.08,1.09,1.1,1.11,1.12,1.1300000000000001,1.1400000000000001,1.1500000000000001,1.16,1.17,1.18,1.19,1.2,1.21,1.22,1.23,1.24,1.25,1.26,1.27,1.28,1.29,1.3,1.31,1.32,1.33,1.34,1.35,1.36,1.37,1.3800000000000001,1.3900000000000001,1.4000000000000001,1.41,1.42,1.43,1.44,1.45,1.46,1.47,1.48,1.49,1.5,1.51,1.52,1.53,1.54,1.55,1.56,1.57,1.58,1.59,1.6,1.61,1.62,1.6300000000000001,1.6400000000000001,1.6500000000000001,1.6600000000000001,1.67,1.68,1.69,1.7,1.71,1.72,1.73,1.74,1.75,1.76,1.77,1.78,1.79,1.8,1.81,1.82,1.83,1.84,1.85,1.86,1.87,1.8800000000000001,1.8900000000000001,1.9000000000000001,1.9100000000000001,1.92,1.93,1.94,1.95,1.96,1.97,1.98,1.99,2.0,2.0100000000000002,2.02,2.0300000000000002,2.04,2.05,2.06,2.07,2.08,2.09,2.1,2.11,2.12,2.13,2.14,2.15,2.16,2.17,2.18,2.19,2.2,2.21,2.22,2.23,2.24,2.25,2.2600000000000002,2.27,2.2800000000000002,2.29,2.3000000000000003,2.31,2.32,2.33,2.34,2.35,2.36,2.37,2.38,2.39,2.4,2.41,2.42,2.43,2.44,2.45,2.46,2.47,2.48,2.49,2.5,2.5100000000000002,2.52,2.5300000000000002,2.54,2.5500000000000003,2.56,2.57,2.58,2.59,2.6,2.61,2.62,2.63,2.64,2.65,2.66,2.67,2.68,2.69,2.7,2.71,2.72,2.73,2.74,2.75,2.7600000000000002,2.77,2.7800000000000002,2.79,2.8000000000000003,2.81,2.82,2.83,2.84,2.85,2.86,2.87,2.88,2.89,2.9,2.91,2.92,2.93,2.94,2.95,2.96,2.97,2.98,2.99,3.0,3.0100000000000002,3.02,3.0300000000000002,3.04,3.0500000000000003,3.06,3.0700000000000003,3.08,3.09,3.1,3.11,3.12,3.13,3.14,3.15,3.16,3.17,3.18,3.19,3.2,3.21,3.22,3.23,3.24,3.25,3.2600000000000002,3.27,3.2800000000000002,3.29,3.3000000000000003,3.31,3.3200000000000003,3.33,3.34,3.35,3.36,3.37,3.38,3.39,3.4,3.41,3.42,3.43,3.44,3.45,3.46,3.47,3.48,3.49,3.5,3.5100000000000002,3.52,3.5300000000000002,3.54,3.5500000000000003,3.56,3.5700000000000003,3.58,3.59,3.6,3.61,3.62,3.63,3.64,3.65,3.66,3.67,3.68,3.69,3.7,3.71,3.72,3.73,3.74,3.75,3.7600000000000002,3.77,3.7800000000000002,3.79,3.8000000000000003,3.81,3.8200000000000003,3.83,3.84,3.85,3.86,3.87,3.88,3.89,3.9,3.91,3.92,3.93,3.94,3.95,3.96,3.97,3.98,3.99,4.0,4.01,4.0200000000000005,4.03,4.04,4.05,4.0600000000000005,4.07,4.08,4.09,4.1,4.11,4.12,4.13,4.14,4.15,4.16,4.17,4.18,4.19,4.2,4.21,4.22,4.23,4.24,4.25,4.26,4.2700000000000005,4.28,4.29,4.3,4.3100000000000005,4.32,4.33,4.34,4.3500000000000005,4.36,4.37,4.38,4.39,4.4,4.41,4.42,4.43,4.44,4.45,4.46,4.47,4.48,4.49,4.5,4.51,4.5200000000000005,4.53,4.54,4.55,4.5600000000000005,4.57,4.58,4.59,4.6000000000000005,4.61,4.62,4.63,4.64,4.65,4.66,4.67,4.68,4.69,4.7,4.71,4.72,4.73,4.74,4.75,4.76,4.7700000000000005,4.78,4.79,4.8,4.8100000000000005,4.82,4.83,4.84,4.8500000000000005,4.86,4.87,4.88,4.89,4.9,4.91,4.92,4.93,4.94,4.95,4.96,4.97,4.98,4.99,5.0,5.01,5.0200000000000005,5.03,5.04,5.05,5.0600000000000005,5.07,5.08,5.09,5.1000000000000005,5.11,5.12,5.13,5.14,5.15,5.16,5.17,5.18,5.19,5.2,5.21,5.22,5.23,5.24,5.25,5.26,5.2700000000000005,5.28,5.29,5.3,5.3100000000000005,5.32,5.33,5.34,5.3500000000000005,5.36,5.37,5.38,5.39,5.4,5.41,5.42,5.43,5.44,5.45,5.46,5.47,5.48,5.49,5.5,5.51,5.5200000000000005,5.53,5.54,5.55,5.5600000000000005,5.57,5.58,5.59,5.6000000000000005,5.61,5.62,5.63,5.64,5.65,5.66,5.67,5.68,5.69,5.7,5.71,5.72,5.73,5.74,5.75,5.76,5.7700000000000005,5.78,5.79,5.8,5.8100000000000005,5.82,5.83,5.84,5.8500000000000005,5.86,5.87,5.88,5.89,5.9,5.91,5.92,5.93,5.94,5.95,5.96,5.97,5.98,5.99,6.0,6.01,6.0200000000000005,6.03,6.04,6.05,6.0600000000000005,6.07,6.08,6.09,6.1000000000000005,6.11,6.12,6.13,6.140000000000001,6.15,6.16,6.17,6.18,6.19,6.2,6.21,6.22,6.23,6.24,6.25,6.26,6.2700000000000005,6.28],\"y\":[0.0,0.009999833334166664,0.01999866669333308,0.02999550020249566,0.03998933418663416,0.04997916927067833,0.059964006479444595,0.06994284733753277,0.0799146939691727,0.08987854919801104,0.09983341664682815,0.10977830083717481,0.11971220728891936,0.12963414261969486,0.1395431146442365,0.14943813247359922,0.15931820661424598,0.16918234906699603,0.17902957342582418,0.18885889497650057,0.19866933079506122,0.20845989984609956,0.21822962308086932,0.2279775235351884,0.23770262642713458,0.24740395925452294,0.2570805518921551,0.26673143668883115,0.27635564856411376,0.28595222510483553,0.29552020666133955,0.3050586364434435,0.31456656061611776,0.32404302839486837,0.3334870921408144,0.3428978074554514,0.35227423327508994,0.361615431964962,0.3709204694129827,0.3801884151231614,0.3894183423086505,0.39860932798442295,0.40776045305957015,0.41687080242921076,0.4259394650659996,0.43496553411123023,0.4439481069655198,0.45288628537906833,0.46177917554148284,0.470625888171158,0.479425538604203,0.4881772468829075,0.49688013784373675,0.5055333412048469,0.5141359916531131,0.5226872289306592,0.5311861979208834,0.5396320487339693,0.5480239367918736,0.5563610229127838,0.5646424733950354,0.5728674601004813,0.5810351605373051,0.5891447579422695,0.5971954413623921,0.6051864057360395,0.6131168519734338,0.6209859870365597,0.6287930240184686,0.636537182221968,0.6442176872376911,0.6518337710215366,0.6593846719714731,0.6668696350036979,0.674287911628145,0.6816387600233341,0.6889214451105513,0.6961352386273567,0.7032794192004103,0.7103532724176078,0.7173560908995228,0.7242871743701426,0.7311458297268959,0.7379313711099628,0.7446431199708593,0.7512804051402927,0.757842562895277,0.7643289370255051,0.7707388788989693,0.7770717475268238,0.7833269096274834,0.7895037396899505,0.795601620036366,0.8016199408837772,0.8075581004051143,0.8134155047893737,0.8191915683009983,0.8248857133384501,0.8304973704919705,0.8360259786005205,0.8414709848078965,0.8468318446180152,0.852108021949363,0.8572989891886034,0.8624042272433384,0.867423225594017,0.8723554823449863,0.8772005042746817,0.8819578068849475,0.8866269144494873,0.8912073600614354,0.8956986856800476,0.9001004421765051,0.904412189378826,0.9086334961158833,0.9127639402605211,0.9168031087717669,0.9207505977361357,0.9246060124080203,0.9283689672491666,0.9320390859672263,0.935616001553386,0.9390993563190676,0.9424888019316975,0.945783999449539,0.9489846193555862,0.9520903415905158,0.9551008555846923,0.9580158602892249,0.9608350642060727,0.963558185417193,0.966184951612734,0.9687151001182652,0.9711483779210446,0.9734845416953194,0.9757233578266591,0.9778646024353163,0.9799080613986142,0.9818535303723598,0.9837008148112766,0.9854497299884603,0.9871001010138504,0.9886517628517197,0.9901045603371778,0.9914583481916864,0.9927129910375885,0.9938683634116449,0.9949243497775809,0.99588084453764,0.9967377520431434,0.9974949866040544,0.9981524724975481,0.998710143975583,0.999167945271476,0.9995258306054791,0.999783764189357,0.9999417202299663,0.9999996829318346,0.9999576464987401,0.9998156151342908,0.9995736030415051,0.9992316344213905,0.998789743470524,0.9982479743776325,0.9976063813191737,0.9968650284539189,0.9960239899165367,0.9950833498101802,0.994043202198076,0.9929036510941185,0.9916648104524686,0.990326804156158,0.9888897660047015,0.9873538397007164,0.9857191788355535,0.9839859468739369,0.9821543171376185,0.9802244727880455,0.9781966068080447,0.9760709219825242,0.9738476308781951,0.9715269558223153,0.9691091288804563,0.9665943918332975,0.9639829961524481,0.9612752029752999,0.9584712830789142,0.955571516852944,0.9525761942715953,0.9494856148646305,0.9463000876874145,0.9430199312900105,0.9396454736853249,0.9361770523163061,0.9326150140222005,0.9289597150038693,0.9252115207881683,0.9213708061913954,0.9174379552818098,0.9134133613412252,0.9092974268256817,0.9050905633252009,0.9007931915226273,0.8964057411515598,0.8919286509533796,0.8873623686333755,0.8827073508159741,0.8779640629990781,0.8731329795075164,0.8682145834456126,0.8632093666488737,0.8581178296348089,0.8529404815528762,0.8476778401335698,0.8423304316366457,0.8368987907984977,0.8313834607786831,0.8257849931056082,0.8201039476213741,0.814340892425796,0.8084964038195901,0.8025710662467472,0.7965654722360865,0.7904802223420048,0.7843159250844198,0.7780731968879212,0.7717526620201257,0.7653549525292535,0.7588807081809218,0.7523305763941708,0.74570521217672,0.7390052780594708,0.7322314440302514,0.7253843874668195,0.7184647930691263,0.7114733527908443,0.7044107657701761,0.6972777382599378,0.6900749835569364,0.6828032219306397,0.675463180551151,0.6680555934164909,0.6605812012792007,0.6530407515722648,0.6454349983343708,0.6377647021345036,0.6300306299958922,0.6222335553193046,0.6143742578057118,0.6064535233783147,0.5984721441039564,0.5904309181139127,0.5823306495240819,0.5741721483545723,0.5659562304487028,0.5576837173914166,0.5493554364271266,0.5409722203769886,0.5325349075556212,0.5240443416872761,0.5155013718214642,0.5069068522480534,0.49826164241183857,0.4895666068265995,0.48082261498864826,0.47203054128988264,0.4631912649303452,0.45430566983030646,0.44537464454187115,0.4363990821601263,0.4273798802338298,0.418317940675659,0.4092141696720173,0.4000694775924195,0.3908847788984522,0.3816609920523317,0.3723990394250553,0.3630998472041683,0.3537643453011427,0.34439346725839,0.33498815015590466,0.32554933451756,0.3160779642170538,0.30657498638352293,0.2970413513068324,0.2874780123425444,0.2778859258165868,0.2682660509296179,0.25861934966111083,0.24894678667315256,0.23924932921398243,0.2295279470212642,0.21978361222511694,0.21001729925089915,0.20022998472177053,0.19042264736102704,0.18059626789423291,0.17075182895114532,0.16089031496745576,0.15101271208634384,0.1411200080598672,0.1312131921501838,0.12129325503062975,0.11136118868664958,0.10141798631660186,0.09146464223243675,0.08150215176026912,0.07153151114084326,0.06155371742991315,0.05156976839853464,0.04158066243329049,0.031587398436453896,0.02159097572609596,0.011592393936158275,0.0015926529164868282,-0.008407247367148618,-0.01840630693305381,-0.02840352588360379,-0.03839790450523538,-0.04838844336841415,-0.058374143427580086,-0.06835400612104778,-0.0783270334708653,-0.0882922281826076,-0.09824859374510868,-0.10819513453010837,-0.11813085589181781,-0.12805476426637968,-0.13796586727122728,-0.14786317380431852,-0.15774569414324865,-0.16761244004421832,-0.17746242484086058,-0.18729466354290317,-0.19710817293466984,-0.20690197167339974,-0.21667508038737962,-0.22642652177388314,-0.236155320696897,-0.24586050428463702,-0.2555411020268312,-0.26519614587177337,-0.274824670323124,-0.28442571253646254,-0.2939983124155676,-0.30354151270842933,-0.3130543591029702,-0.322535900322479,-0.3319851882207341,-0.34140127787682095,-0.35078322768961984,-0.36013009947196856,-0.3694409585444771,-0.37871487382899804,-0.3879509179417303,-0.3971481672859602,-0.4063057021444168,-0.41542260677124626,-0.4244979694835826,-0.43353088275271773,-0.44252044329485246,-0.45146575216142315,-0.4603659148289983,-0.46922004128872713,-0.47802724613534286,-0.48678664865569937,-0.4954973729168449,-0.5041585478536115,-0.5127693073557238,-0.5213287903544065,-0.5298361409084934,-0.5382905082900176,-0.5466910470692872,-0.5550369171994238,-0.56332728410037,-0.5715613187423437,-0.5797381977287431,-0.5878571033784827,-0.5959172238077642,-0.6039177530112606,-0.6118578909427193,-0.6197368435949633,-0.6275538230792937,-0.6353080477042756,-0.6429987420539088,-0.6506251370651673,-0.6581864701049049,-0.6656819850461192,-0.6731109323435617,-0.680472569108694,-0.6877661591839738,-0.694990973216472,-0.7021462887308054,-0.7092313902013861,-0.7162455691239705,-0.7231881240865121,-0.7300583608392995,-0.7368555923643832,-0.7435791389442746,-0.7502283282299189,-0.7568024953079282,-0.7633009827670734,-0.7697231407640244,-0.7760683270883323,-0.7823359072266528,-0.788525254426195,-0.7946357497573974,-0.8006667821758177,-0.8066177485832405,-0.8124880538879843,-0.8182771110644103,-0.8239843412116258,-0.8296091736113709,-0.8351510457850935,-0.8406094035501945,-0.8459837010754465,-0.8512734009355745,-0.8564779741650012,-0.8615969003107405,-0.8666296674844443,-0.8715757724135882,-0.8764347204918014,-0.8812060258283253,-0.8858892112966027,-0.8904838085819885,-0.8949893582285835,-0.8994054096851777,-0.9037315213503057,-0.9079672606164054,-0.9121122039130803,-0.9161659367494549,-0.920128053755624,-0.9239981587231879,-0.9277758646448755,-0.9314607937532425,-0.9350525775584494,-0.9385508568851079,-0.941955281908201,-0.9452655121880633,-0.9484812167044256,-0.9516020738895161,-0.9546277716602164,-0.9575580074492711,-0.9603924882355434,-0.9631309305733167,-0.9657730606206388,-0.9683186141667072,-0.9707673366582883,-0.9731189832251739,-0.9753733187046665,-0.977530117665097,-0.9795891644283669,-0.9815502530915156,-0.9834131875473108,-0.9851777815038595,-0.9868438585032365,-0.9884112519391306,-0.9898798050735039,-0.991249371052267,-0.9925198129199632,-0.9936910036334645,-0.9947628260746756,-0.9957351730622453,-0.9966079473622855,-0.9973810616980933,-0.9980544387588794,-0.9986280112074989,-0.9991017216871848,-0.999475522827284,-0.999749377247994,-0.9999232575641008,-0.999997146387718,-0.9999710363300245,-0.9998449300020044,-0.9996188400141854,-0.999292788975378,-0.9988668094904142,-0.9983409441568876,-0.9977152455608933,-0.9969897762717695,-0.9961646088358407,-0.9952398257691626,-0.9942155195492713,-0.9930917926059354,-0.9918687573109126,-0.9905465359667132,-0.9891252607943698,-0.9876050739202153,-0.9859861273616704,-0.9842685830120416,-0.9824526126243325,-0.9805383977940689,-0.9785261299411385,-0.9764160102906497,-0.9742082498528091,-0.9719030694018208,-0.9695006994538088,-0.967001380243766,-0.9644053617015305,-0.9617129034267934,-0.9589242746631385,-0.9560397542711181,-0.9530596307003675,-0.9499842019607608,-0.9468137755926089,-0.9435486686359066,-0.9401892075986283,-0.9367357284240789,-0.9331885764572976,-0.9295481064105251,-0.9258146823277321,-0.9219886775482163,-0.918070474669267,-0.914060465507907,-0.9099590510617106,-0.9057666414687044,-0.9014836559663548,-0.8971105228496424,-0.8926476794282346,-0.8880955719827542,-0.8834546557201531,-0.8787253947281899,-0.8739082619290224,-0.8690037390319161,-0.8640123164850744,-0.858934493426592,-0.8537707776345433,-0.8485216854762041,-0.8431877418564167,-0.8377694801650978,-0.8322674422239013,-0.8266821782320357,-0.821014246711247,-0.8152642144499634,-0.8094326564466194,-0.8035201558521553,-0.7975273039117043,-0.791454699905466,-0.7853029510887806,-0.7790726726314031,-0.7727644875559871,-0.7663790266757843,-0.759916928531561,-0.7533788393277465,-0.7467654128678123,-0.7400773104888944,-0.7333152009956565,-0.726479760593413,-0.7195716728205075,-0.7125916284799615,-0.7055403255703919,-0.6984184692162135,-0.6912267715971264,-0.6839659518769006,-0.6766367361314568,-0.669239857276262,-0.6617760549930369,-0.6542460756557914,-0.6466506722561834,-0.6389906043282237,-0.6312666378723208,-0.6234795452786853,-0.6156301052500863,-0.6077191027239858,-0.5997473287940438,-0.5917155806310094,-0.5836246614030073,-0.5754753801952172,-0.5672685519289686,-0.5590049972802488,-0.5506855425976376,-0.5423110198196698,-0.5338822663916443,-0.5254001251818792,-0.5168654443974288,-0.5082790774992583,-0.49964188311690244,-0.49095472496260095,-0.48221847174493154,-0.47343399708193507,-0.46460217941375737,-0.4557239019148047,-0.44680005240543,-0.4378315232631469,-0.4288192113333959,-0.4197640178398589,-0.41066684829434086,-0.4015286124062146,-0.39235022399145386,-0.38313260088125134,-0.373876664830236,-0.3645833414243013,-0.35525355998804264,-0.34588825349182883,-0.3364883584585042,-0.32705481486974064,-0.31758856607203484,-0.3080905586823781,-0.2985617424935936,-0.2890030703793611,-0.27941549819892586,-0.26979998470151617,-0.26015749143046807,-0.2504889826270749,-0.2407954251341592,-0.23107778829939224,-0.22133704387835867,-0.21157416593738504,-0.2017901307561289,-0.19198591672995502,-0.18216250427209502,-0.17232087571561025,-0.1624620152151542,-0.15258690864856114,-0.14269654351825772,-0.13279190885251674,-0.12287399510655005,-0.11294379406346737,-0.10300229873509785,-0.0930505032626889,-0.0830894028174964,-0.07311999350126308,-0.06314327224661277,-0.053160236717356125,-0.04317188520872868,-0.03317921654755682,-0.02318322999237945,-0.013184925133521251,-0.0031853017931379904]}},\"id\":\"362cdb01-2a3d-469c-9f81-01e0a89c4fbe\",\"type\":\"ColumnDataSource\"},{\"attributes\":{},\"id\":\"6a215d72-9fde-4447-8955-b6043af232cb\",\"type\":\"ToolEvents\"},{\"attributes\":{\"callback\":null},\"id\":\"81826e8f-eb69-40ea-86b6-68095bd9c184\",\"type\":\"DataRange1d\"},{\"attributes\":{\"dimension\":1,\"plot\":{\"id\":\"77c6a2e6-f39c-49ea-87b5-65f05dda06e7\",\"subtype\":\"Chart\",\"type\":\"Plot\"},\"ticker\":{\"id\":\"d9517d78-dd69-4ccd-9013-53aedbae9e41\",\"type\":\"BasicTicker\"}},\"id\":\"26b55ef7-bb1a-46d1-9bff-dc481d8f23b0\",\"type\":\"Grid\"},{\"attributes\":{\"overlay\":{\"id\":\"da03d72b-8863-4bb4-a6f6-793be285b9f5\",\"type\":\"BoxAnnotation\"},\"plot\":{\"id\":\"0e66aaae-c0ae-463b-aab5-b475c7c4a4cb\",\"subtype\":\"Figure\",\"type\":\"Plot\"}},\"id\":\"c589a70f-4db6-4b9d-aff4-bf3c2c2c665b\",\"type\":\"BoxZoomTool\"},{\"attributes\":{\"data_source\":{\"id\":\"1c1136a1-ef49-4170-bdb8-bc878663c89b\",\"type\":\"ColumnDataSource\"},\"glyph\":{\"id\":\"0541d9bf-63e5-4c03-be76-5d6bc74a077e\",\"type\":\"Rect\"},\"hover_glyph\":null,\"nonselection_glyph\":null,\"selection_glyph\":null},\"id\":\"234a172f-4229-4a80-a5be-2cde60322806\",\"type\":\"GlyphRenderer\"},{\"attributes\":{\"callback\":null},\"id\":\"0711ca37-bef7-4282-8b02-8340885b190e\",\"type\":\"DataRange1d\"},{\"attributes\":{\"plot\":{\"id\":\"c220b2c0-c838-4938-baf3-c9a2eb85abd3\",\"subtype\":\"Figure\",\"type\":\"Plot\"},\"ticker\":{\"id\":\"abde418f-adcc-4862-999a-50ad56e0df36\",\"type\":\"BasicTicker\"}},\"id\":\"ea605146-4088-41ea-97f1-4e5abfc1c722\",\"type\":\"Grid\"},{\"attributes\":{\"callback\":null,\"column_names\":[\"y\",\"x\"],\"data\":{\"x\":[0.0,0.01,0.02,0.03,0.04,0.05,0.06,0.07,0.08,0.09,0.1,0.11,0.12,0.13,0.14,0.15,0.16,0.17,0.18,0.19,0.2,0.21,0.22,0.23,0.24,0.25,0.26,0.27,0.28,0.29,0.3,0.31,0.32,0.33,0.34,0.35000000000000003,0.36,0.37,0.38,0.39,0.4,0.41000000000000003,0.42,0.43,0.44,0.45,0.46,0.47000000000000003,0.48,0.49,0.5,0.51,0.52,0.53,0.54,0.55,0.56,0.5700000000000001,0.58,0.59,0.6,0.61,0.62,0.63,0.64,0.65,0.66,0.67,0.68,0.6900000000000001,0.7000000000000001,0.71,0.72,0.73,0.74,0.75,0.76,0.77,0.78,0.79,0.8,0.81,0.8200000000000001,0.8300000000000001,0.84,0.85,0.86,0.87,0.88,0.89,0.9,0.91,0.92,0.93,0.9400000000000001,0.9500000000000001,0.96,0.97,0.98,0.99,1.0,1.01,1.02,1.03,1.04,1.05,1.06,1.07,1.08,1.09,1.1,1.11,1.12,1.1300000000000001,1.1400000000000001,1.1500000000000001,1.16,1.17,1.18,1.19,1.2,1.21,1.22,1.23,1.24,1.25,1.26,1.27,1.28,1.29,1.3,1.31,1.32,1.33,1.34,1.35,1.36,1.37,1.3800000000000001,1.3900000000000001,1.4000000000000001,1.41,1.42,1.43,1.44,1.45,1.46,1.47,1.48,1.49,1.5,1.51,1.52,1.53,1.54,1.55,1.56,1.57,1.58,1.59,1.6,1.61,1.62,1.6300000000000001,1.6400000000000001,1.6500000000000001,1.6600000000000001,1.67,1.68,1.69,1.7,1.71,1.72,1.73,1.74,1.75,1.76,1.77,1.78,1.79,1.8,1.81,1.82,1.83,1.84,1.85,1.86,1.87,1.8800000000000001,1.8900000000000001,1.9000000000000001,1.9100000000000001,1.92,1.93,1.94,1.95,1.96,1.97,1.98,1.99,2.0,2.0100000000000002,2.02,2.0300000000000002,2.04,2.05,2.06,2.07,2.08,2.09,2.1,2.11,2.12,2.13,2.14,2.15,2.16,2.17,2.18,2.19,2.2,2.21,2.22,2.23,2.24,2.25,2.2600000000000002,2.27,2.2800000000000002,2.29,2.3000000000000003,2.31,2.32,2.33,2.34,2.35,2.36,2.37,2.38,2.39,2.4,2.41,2.42,2.43,2.44,2.45,2.46,2.47,2.48,2.49,2.5,2.5100000000000002,2.52,2.5300000000000002,2.54,2.5500000000000003,2.56,2.57,2.58,2.59,2.6,2.61,2.62,2.63,2.64,2.65,2.66,2.67,2.68,2.69,2.7,2.71,2.72,2.73,2.74,2.75,2.7600000000000002,2.77,2.7800000000000002,2.79,2.8000000000000003,2.81,2.82,2.83,2.84,2.85,2.86,2.87,2.88,2.89,2.9,2.91,2.92,2.93,2.94,2.95,2.96,2.97,2.98,2.99,3.0,3.0100000000000002,3.02,3.0300000000000002,3.04,3.0500000000000003,3.06,3.0700000000000003,3.08,3.09,3.1,3.11,3.12,3.13,3.14,3.15,3.16,3.17,3.18,3.19,3.2,3.21,3.22,3.23,3.24,3.25,3.2600000000000002,3.27,3.2800000000000002,3.29,3.3000000000000003,3.31,3.3200000000000003,3.33,3.34,3.35,3.36,3.37,3.38,3.39,3.4,3.41,3.42,3.43,3.44,3.45,3.46,3.47,3.48,3.49,3.5,3.5100000000000002,3.52,3.5300000000000002,3.54,3.5500000000000003,3.56,3.5700000000000003,3.58,3.59,3.6,3.61,3.62,3.63,3.64,3.65,3.66,3.67,3.68,3.69,3.7,3.71,3.72,3.73,3.74,3.75,3.7600000000000002,3.77,3.7800000000000002,3.79,3.8000000000000003,3.81,3.8200000000000003,3.83,3.84,3.85,3.86,3.87,3.88,3.89,3.9,3.91,3.92,3.93,3.94,3.95,3.96,3.97,3.98,3.99,4.0,4.01,4.0200000000000005,4.03,4.04,4.05,4.0600000000000005,4.07,4.08,4.09,4.1,4.11,4.12,4.13,4.14,4.15,4.16,4.17,4.18,4.19,4.2,4.21,4.22,4.23,4.24,4.25,4.26,4.2700000000000005,4.28,4.29,4.3,4.3100000000000005,4.32,4.33,4.34,4.3500000000000005,4.36,4.37,4.38,4.39,4.4,4.41,4.42,4.43,4.44,4.45,4.46,4.47,4.48,4.49,4.5,4.51,4.5200000000000005,4.53,4.54,4.55,4.5600000000000005,4.57,4.58,4.59,4.6000000000000005,4.61,4.62,4.63,4.64,4.65,4.66,4.67,4.68,4.69,4.7,4.71,4.72,4.73,4.74,4.75,4.76,4.7700000000000005,4.78,4.79,4.8,4.8100000000000005,4.82,4.83,4.84,4.8500000000000005,4.86,4.87,4.88,4.89,4.9,4.91,4.92,4.93,4.94,4.95,4.96,4.97,4.98,4.99,5.0,5.01,5.0200000000000005,5.03,5.04,5.05,5.0600000000000005,5.07,5.08,5.09,5.1000000000000005,5.11,5.12,5.13,5.14,5.15,5.16,5.17,5.18,5.19,5.2,5.21,5.22,5.23,5.24,5.25,5.26,5.2700000000000005,5.28,5.29,5.3,5.3100000000000005,5.32,5.33,5.34,5.3500000000000005,5.36,5.37,5.38,5.39,5.4,5.41,5.42,5.43,5.44,5.45,5.46,5.47,5.48,5.49,5.5,5.51,5.5200000000000005,5.53,5.54,5.55,5.5600000000000005,5.57,5.58,5.59,5.6000000000000005,5.61,5.62,5.63,5.64,5.65,5.66,5.67,5.68,5.69,5.7,5.71,5.72,5.73,5.74,5.75,5.76,5.7700000000000005,5.78,5.79,5.8,5.8100000000000005,5.82,5.83,5.84,5.8500000000000005,5.86,5.87,5.88,5.89,5.9,5.91,5.92,5.93,5.94,5.95,5.96,5.97,5.98,5.99,6.0,6.01,6.0200000000000005,6.03,6.04,6.05,6.0600000000000005,6.07,6.08,6.09,6.1000000000000005,6.11,6.12,6.13,6.140000000000001,6.15,6.16,6.17,6.18,6.19,6.2,6.21,6.22,6.23,6.24,6.25,6.26,6.2700000000000005,6.28],\"y\":[0.0,0.009999833334166664,0.01999866669333308,0.02999550020249566,0.03998933418663416,0.04997916927067833,0.059964006479444595,0.06994284733753277,0.0799146939691727,0.08987854919801104,0.09983341664682815,0.10977830083717481,0.11971220728891936,0.12963414261969486,0.1395431146442365,0.14943813247359922,0.15931820661424598,0.16918234906699603,0.17902957342582418,0.18885889497650057,0.19866933079506122,0.20845989984609956,0.21822962308086932,0.2279775235351884,0.23770262642713458,0.24740395925452294,0.2570805518921551,0.26673143668883115,0.27635564856411376,0.28595222510483553,0.29552020666133955,0.3050586364434435,0.31456656061611776,0.32404302839486837,0.3334870921408144,0.3428978074554514,0.35227423327508994,0.361615431964962,0.3709204694129827,0.3801884151231614,0.3894183423086505,0.39860932798442295,0.40776045305957015,0.41687080242921076,0.4259394650659996,0.43496553411123023,0.4439481069655198,0.45288628537906833,0.46177917554148284,0.470625888171158,0.479425538604203,0.4881772468829075,0.49688013784373675,0.5055333412048469,0.5141359916531131,0.5226872289306592,0.5311861979208834,0.5396320487339693,0.5480239367918736,0.5563610229127838,0.5646424733950354,0.5728674601004813,0.5810351605373051,0.5891447579422695,0.5971954413623921,0.6051864057360395,0.6131168519734338,0.6209859870365597,0.6287930240184686,0.636537182221968,0.6442176872376911,0.6518337710215366,0.6593846719714731,0.6668696350036979,0.674287911628145,0.6816387600233341,0.6889214451105513,0.6961352386273567,0.7032794192004103,0.7103532724176078,0.7173560908995228,0.7242871743701426,0.7311458297268959,0.7379313711099628,0.7446431199708593,0.7512804051402927,0.757842562895277,0.7643289370255051,0.7707388788989693,0.7770717475268238,0.7833269096274834,0.7895037396899505,0.795601620036366,0.8016199408837772,0.8075581004051143,0.8134155047893737,0.8191915683009983,0.8248857133384501,0.8304973704919705,0.8360259786005205,0.8414709848078965,0.8468318446180152,0.852108021949363,0.8572989891886034,0.8624042272433384,0.867423225594017,0.8723554823449863,0.8772005042746817,0.8819578068849475,0.8866269144494873,0.8912073600614354,0.8956986856800476,0.9001004421765051,0.904412189378826,0.9086334961158833,0.9127639402605211,0.9168031087717669,0.9207505977361357,0.9246060124080203,0.9283689672491666,0.9320390859672263,0.935616001553386,0.9390993563190676,0.9424888019316975,0.945783999449539,0.9489846193555862,0.9520903415905158,0.9551008555846923,0.9580158602892249,0.9608350642060727,0.963558185417193,0.966184951612734,0.9687151001182652,0.9711483779210446,0.9734845416953194,0.9757233578266591,0.9778646024353163,0.9799080613986142,0.9818535303723598,0.9837008148112766,0.9854497299884603,0.9871001010138504,0.9886517628517197,0.9901045603371778,0.9914583481916864,0.9927129910375885,0.9938683634116449,0.9949243497775809,0.99588084453764,0.9967377520431434,0.9974949866040544,0.9981524724975481,0.998710143975583,0.999167945271476,0.9995258306054791,0.999783764189357,0.9999417202299663,0.9999996829318346,0.9999576464987401,0.9998156151342908,0.9995736030415051,0.9992316344213905,0.998789743470524,0.9982479743776325,0.9976063813191737,0.9968650284539189,0.9960239899165367,0.9950833498101802,0.994043202198076,0.9929036510941185,0.9916648104524686,0.990326804156158,0.9888897660047015,0.9873538397007164,0.9857191788355535,0.9839859468739369,0.9821543171376185,0.9802244727880455,0.9781966068080447,0.9760709219825242,0.9738476308781951,0.9715269558223153,0.9691091288804563,0.9665943918332975,0.9639829961524481,0.9612752029752999,0.9584712830789142,0.955571516852944,0.9525761942715953,0.9494856148646305,0.9463000876874145,0.9430199312900105,0.9396454736853249,0.9361770523163061,0.9326150140222005,0.9289597150038693,0.9252115207881683,0.9213708061913954,0.9174379552818098,0.9134133613412252,0.9092974268256817,0.9050905633252009,0.9007931915226273,0.8964057411515598,0.8919286509533796,0.8873623686333755,0.8827073508159741,0.8779640629990781,0.8731329795075164,0.8682145834456126,0.8632093666488737,0.8581178296348089,0.8529404815528762,0.8476778401335698,0.8423304316366457,0.8368987907984977,0.8313834607786831,0.8257849931056082,0.8201039476213741,0.814340892425796,0.8084964038195901,0.8025710662467472,0.7965654722360865,0.7904802223420048,0.7843159250844198,0.7780731968879212,0.7717526620201257,0.7653549525292535,0.7588807081809218,0.7523305763941708,0.74570521217672,0.7390052780594708,0.7322314440302514,0.7253843874668195,0.7184647930691263,0.7114733527908443,0.7044107657701761,0.6972777382599378,0.6900749835569364,0.6828032219306397,0.675463180551151,0.6680555934164909,0.6605812012792007,0.6530407515722648,0.6454349983343708,0.6377647021345036,0.6300306299958922,0.6222335553193046,0.6143742578057118,0.6064535233783147,0.5984721441039564,0.5904309181139127,0.5823306495240819,0.5741721483545723,0.5659562304487028,0.5576837173914166,0.5493554364271266,0.5409722203769886,0.5325349075556212,0.5240443416872761,0.5155013718214642,0.5069068522480534,0.49826164241183857,0.4895666068265995,0.48082261498864826,0.47203054128988264,0.4631912649303452,0.45430566983030646,0.44537464454187115,0.4363990821601263,0.4273798802338298,0.418317940675659,0.4092141696720173,0.4000694775924195,0.3908847788984522,0.3816609920523317,0.3723990394250553,0.3630998472041683,0.3537643453011427,0.34439346725839,0.33498815015590466,0.32554933451756,0.3160779642170538,0.30657498638352293,0.2970413513068324,0.2874780123425444,0.2778859258165868,0.2682660509296179,0.25861934966111083,0.24894678667315256,0.23924932921398243,0.2295279470212642,0.21978361222511694,0.21001729925089915,0.20022998472177053,0.19042264736102704,0.18059626789423291,0.17075182895114532,0.16089031496745576,0.15101271208634384,0.1411200080598672,0.1312131921501838,0.12129325503062975,0.11136118868664958,0.10141798631660186,0.09146464223243675,0.08150215176026912,0.07153151114084326,0.06155371742991315,0.05156976839853464,0.04158066243329049,0.031587398436453896,0.02159097572609596,0.011592393936158275,0.0015926529164868282,-0.008407247367148618,-0.01840630693305381,-0.02840352588360379,-0.03839790450523538,-0.04838844336841415,-0.058374143427580086,-0.06835400612104778,-0.0783270334708653,-0.0882922281826076,-0.09824859374510868,-0.10819513453010837,-0.11813085589181781,-0.12805476426637968,-0.13796586727122728,-0.14786317380431852,-0.15774569414324865,-0.16761244004421832,-0.17746242484086058,-0.18729466354290317,-0.19710817293466984,-0.20690197167339974,-0.21667508038737962,-0.22642652177388314,-0.236155320696897,-0.24586050428463702,-0.2555411020268312,-0.26519614587177337,-0.274824670323124,-0.28442571253646254,-0.2939983124155676,-0.30354151270842933,-0.3130543591029702,-0.322535900322479,-0.3319851882207341,-0.34140127787682095,-0.35078322768961984,-0.36013009947196856,-0.3694409585444771,-0.37871487382899804,-0.3879509179417303,-0.3971481672859602,-0.4063057021444168,-0.41542260677124626,-0.4244979694835826,-0.43353088275271773,-0.44252044329485246,-0.45146575216142315,-0.4603659148289983,-0.46922004128872713,-0.47802724613534286,-0.48678664865569937,-0.4954973729168449,-0.5041585478536115,-0.5127693073557238,-0.5213287903544065,-0.5298361409084934,-0.5382905082900176,-0.5466910470692872,-0.5550369171994238,-0.56332728410037,-0.5715613187423437,-0.5797381977287431,-0.5878571033784827,-0.5959172238077642,-0.6039177530112606,-0.6118578909427193,-0.6197368435949633,-0.6275538230792937,-0.6353080477042756,-0.6429987420539088,-0.6506251370651673,-0.6581864701049049,-0.6656819850461192,-0.6731109323435617,-0.680472569108694,-0.6877661591839738,-0.694990973216472,-0.7021462887308054,-0.7092313902013861,-0.7162455691239705,-0.7231881240865121,-0.7300583608392995,-0.7368555923643832,-0.7435791389442746,-0.7502283282299189,-0.7568024953079282,-0.7633009827670734,-0.7697231407640244,-0.7760683270883323,-0.7823359072266528,-0.788525254426195,-0.7946357497573974,-0.8006667821758177,-0.8066177485832405,-0.8124880538879843,-0.8182771110644103,-0.8239843412116258,-0.8296091736113709,-0.8351510457850935,-0.8406094035501945,-0.8459837010754465,-0.8512734009355745,-0.8564779741650012,-0.8615969003107405,-0.8666296674844443,-0.8715757724135882,-0.8764347204918014,-0.8812060258283253,-0.8858892112966027,-0.8904838085819885,-0.8949893582285835,-0.8994054096851777,-0.9037315213503057,-0.9079672606164054,-0.9121122039130803,-0.9161659367494549,-0.920128053755624,-0.9239981587231879,-0.9277758646448755,-0.9314607937532425,-0.9350525775584494,-0.9385508568851079,-0.941955281908201,-0.9452655121880633,-0.9484812167044256,-0.9516020738895161,-0.9546277716602164,-0.9575580074492711,-0.9603924882355434,-0.9631309305733167,-0.9657730606206388,-0.9683186141667072,-0.9707673366582883,-0.9731189832251739,-0.9753733187046665,-0.977530117665097,-0.9795891644283669,-0.9815502530915156,-0.9834131875473108,-0.9851777815038595,-0.9868438585032365,-0.9884112519391306,-0.9898798050735039,-0.991249371052267,-0.9925198129199632,-0.9936910036334645,-0.9947628260746756,-0.9957351730622453,-0.9966079473622855,-0.9973810616980933,-0.9980544387588794,-0.9986280112074989,-0.9991017216871848,-0.999475522827284,-0.999749377247994,-0.9999232575641008,-0.999997146387718,-0.9999710363300245,-0.9998449300020044,-0.9996188400141854,-0.999292788975378,-0.9988668094904142,-0.9983409441568876,-0.9977152455608933,-0.9969897762717695,-0.9961646088358407,-0.9952398257691626,-0.9942155195492713,-0.9930917926059354,-0.9918687573109126,-0.9905465359667132,-0.9891252607943698,-0.9876050739202153,-0.9859861273616704,-0.9842685830120416,-0.9824526126243325,-0.9805383977940689,-0.9785261299411385,-0.9764160102906497,-0.9742082498528091,-0.9719030694018208,-0.9695006994538088,-0.967001380243766,-0.9644053617015305,-0.9617129034267934,-0.9589242746631385,-0.9560397542711181,-0.9530596307003675,-0.9499842019607608,-0.9468137755926089,-0.9435486686359066,-0.9401892075986283,-0.9367357284240789,-0.9331885764572976,-0.9295481064105251,-0.9258146823277321,-0.9219886775482163,-0.918070474669267,-0.914060465507907,-0.9099590510617106,-0.9057666414687044,-0.9014836559663548,-0.8971105228496424,-0.8926476794282346,-0.8880955719827542,-0.8834546557201531,-0.8787253947281899,-0.8739082619290224,-0.8690037390319161,-0.8640123164850744,-0.858934493426592,-0.8537707776345433,-0.8485216854762041,-0.8431877418564167,-0.8377694801650978,-0.8322674422239013,-0.8266821782320357,-0.821014246711247,-0.8152642144499634,-0.8094326564466194,-0.8035201558521553,-0.7975273039117043,-0.791454699905466,-0.7853029510887806,-0.7790726726314031,-0.7727644875559871,-0.7663790266757843,-0.759916928531561,-0.7533788393277465,-0.7467654128678123,-0.7400773104888944,-0.7333152009956565,-0.726479760593413,-0.7195716728205075,-0.7125916284799615,-0.7055403255703919,-0.6984184692162135,-0.6912267715971264,-0.6839659518769006,-0.6766367361314568,-0.669239857276262,-0.6617760549930369,-0.6542460756557914,-0.6466506722561834,-0.6389906043282237,-0.6312666378723208,-0.6234795452786853,-0.6156301052500863,-0.6077191027239858,-0.5997473287940438,-0.5917155806310094,-0.5836246614030073,-0.5754753801952172,-0.5672685519289686,-0.5590049972802488,-0.5506855425976376,-0.5423110198196698,-0.5338822663916443,-0.5254001251818792,-0.5168654443974288,-0.5082790774992583,-0.49964188311690244,-0.49095472496260095,-0.48221847174493154,-0.47343399708193507,-0.46460217941375737,-0.4557239019148047,-0.44680005240543,-0.4378315232631469,-0.4288192113333959,-0.4197640178398589,-0.41066684829434086,-0.4015286124062146,-0.39235022399145386,-0.38313260088125134,-0.373876664830236,-0.3645833414243013,-0.35525355998804264,-0.34588825349182883,-0.3364883584585042,-0.32705481486974064,-0.31758856607203484,-0.3080905586823781,-0.2985617424935936,-0.2890030703793611,-0.27941549819892586,-0.26979998470151617,-0.26015749143046807,-0.2504889826270749,-0.2407954251341592,-0.23107778829939224,-0.22133704387835867,-0.21157416593738504,-0.2017901307561289,-0.19198591672995502,-0.18216250427209502,-0.17232087571561025,-0.1624620152151542,-0.15258690864856114,-0.14269654351825772,-0.13279190885251674,-0.12287399510655005,-0.11294379406346737,-0.10300229873509785,-0.0930505032626889,-0.0830894028174964,-0.07311999350126308,-0.06314327224661277,-0.053160236717356125,-0.04317188520872868,-0.03317921654755682,-0.02318322999237945,-0.013184925133521251,-0.0031853017931379904]}},\"id\":\"f9c53b56-d460-4cac-8470-33819fbde484\",\"type\":\"ColumnDataSource\"},{\"attributes\":{\"bottom_units\":\"screen\",\"fill_alpha\":{\"value\":0.5},\"fill_color\":{\"value\":\"lightgrey\"},\"left_units\":\"screen\",\"level\":\"overlay\",\"line_alpha\":{\"value\":1.0},\"line_color\":{\"value\":\"black\"},\"line_dash\":[4,4],\"line_width\":{\"value\":2},\"plot\":null,\"render_mode\":\"css\",\"right_units\":\"screen\",\"top_units\":\"screen\"},\"id\":\"1152e443-6c8b-4e79-9a96-ec6e06bd1702\",\"type\":\"BoxAnnotation\"},{\"attributes\":{\"plot\":{\"id\":\"e3bf29b7-8769-4f0c-a8cd-bf6843e38c06\",\"subtype\":\"Figure\",\"type\":\"Plot\"}},\"id\":\"e9848832-0629-4b10-b49c-c190dcd69ebd\",\"type\":\"PreviewSaveTool\"},{\"attributes\":{\"plot\":{\"id\":\"e7fdde06-bc88-4387-92a0-c9b96dfb67bc\",\"subtype\":\"Figure\",\"type\":\"Plot\"},\"ticker\":{\"id\":\"7e20229a-5ba6-403f-9599-8c6efa59e0a3\",\"type\":\"BasicTicker\"}},\"id\":\"de115206-b77f-4cf7-8675-b2902529fe70\",\"type\":\"Grid\"},{\"attributes\":{\"formatter\":{\"id\":\"e3f749c5-93a9-4af7-af6b-60c411bcffb9\",\"type\":\"BasicTickFormatter\"},\"plot\":{\"id\":\"c220b2c0-c838-4938-baf3-c9a2eb85abd3\",\"subtype\":\"Figure\",\"type\":\"Plot\"},\"ticker\":{\"id\":\"abde418f-adcc-4862-999a-50ad56e0df36\",\"type\":\"BasicTicker\"}},\"id\":\"02053ccf-3258-4a84-8efa-80dbc62e1485\",\"type\":\"LinearAxis\"},{\"attributes\":{\"callback\":null},\"id\":\"58904d18-c57d-4784-a46e-bab3aab02967\",\"type\":\"DataRange1d\"},{\"attributes\":{\"plot\":{\"id\":\"0e66aaae-c0ae-463b-aab5-b475c7c4a4cb\",\"subtype\":\"Figure\",\"type\":\"Plot\"}},\"id\":\"a61cc2e8-d139-4e68-8e8a-4bbe76997c86\",\"type\":\"ResetTool\"},{\"attributes\":{\"plot\":{\"id\":\"e3bf29b7-8769-4f0c-a8cd-bf6843e38c06\",\"subtype\":\"Figure\",\"type\":\"Plot\"}},\"id\":\"50e53ee0-02df-4293-af7b-c2b6057dfb15\",\"type\":\"PanTool\"},{\"attributes\":{\"formatter\":{\"id\":\"541319d9-604d-481f-8b99-14106ecec9fe\",\"type\":\"BasicTickFormatter\"},\"plot\":{\"id\":\"e7fdde06-bc88-4387-92a0-c9b96dfb67bc\",\"subtype\":\"Figure\",\"type\":\"Plot\"},\"ticker\":{\"id\":\"7e20229a-5ba6-403f-9599-8c6efa59e0a3\",\"type\":\"BasicTicker\"}},\"id\":\"c624f229-69ec-4ea7-9ae3-566250ef0929\",\"type\":\"LinearAxis\"},{\"attributes\":{\"callback\":null,\"end\":3404.1},\"id\":\"8d6897da-2764-4493-8751-97ef7ec11176\",\"type\":\"Range1d\"},{\"attributes\":{},\"id\":\"c33525d4-0001-4d7b-bc4a-53161bb94095\",\"type\":\"CategoricalTicker\"},{\"attributes\":{},\"id\":\"a61e24bc-253f-4a57-9def-aab29051af1a\",\"type\":\"BasicTicker\"},{\"attributes\":{\"callback\":null},\"id\":\"84d318c5-110f-4392-9a6b-5aa6b1bf86f1\",\"type\":\"DataRange1d\"},{\"attributes\":{\"plot\":{\"id\":\"e3bf29b7-8769-4f0c-a8cd-bf6843e38c06\",\"subtype\":\"Figure\",\"type\":\"Plot\"}},\"id\":\"cf8150e1-d927-4c75-b4c9-79c3641b4c41\",\"type\":\"WheelZoomTool\"},{\"attributes\":{},\"id\":\"45924ef7-0046-49ff-9895-dfc373e95956\",\"type\":\"BasicTicker\"},{\"attributes\":{\"plot\":{\"id\":\"e3bf29b7-8769-4f0c-a8cd-bf6843e38c06\",\"subtype\":\"Figure\",\"type\":\"Plot\"}},\"id\":\"13bce9db-6aa5-4d99-808e-8e0c3406e249\",\"type\":\"ResizeTool\"},{\"attributes\":{},\"id\":\"adb4afc3-a84b-40a4-be7c-87d6c75925e1\",\"type\":\"ToolEvents\"},{\"attributes\":{},\"id\":\"e3f749c5-93a9-4af7-af6b-60c411bcffb9\",\"type\":\"BasicTickFormatter\"},{\"attributes\":{\"callback\":null},\"id\":\"e3340cf8-e568-4421-959f-dfbb2359ec91\",\"type\":\"DataRange1d\"},{\"attributes\":{\"below\":[{\"id\":\"c624f229-69ec-4ea7-9ae3-566250ef0929\",\"type\":\"LinearAxis\"}],\"left\":[{\"id\":\"08648bec-36c4-46c6-ad97-0d9eaae45dda\",\"type\":\"LinearAxis\"}],\"renderers\":[{\"id\":\"c624f229-69ec-4ea7-9ae3-566250ef0929\",\"type\":\"LinearAxis\"},{\"id\":\"de115206-b77f-4cf7-8675-b2902529fe70\",\"type\":\"Grid\"},{\"id\":\"08648bec-36c4-46c6-ad97-0d9eaae45dda\",\"type\":\"LinearAxis\"},{\"id\":\"a9b4a9a5-0a11-4820-ae9a-f18d350077b0\",\"type\":\"Grid\"},{\"id\":\"2461695c-93cf-4c3a-b74d-fa8771b86b80\",\"type\":\"BoxAnnotation\"}],\"tool_events\":{\"id\":\"adb4afc3-a84b-40a4-be7c-87d6c75925e1\",\"type\":\"ToolEvents\"},\"tools\":[{\"id\":\"89595aca-6279-47a1-8469-8f1d13e68933\",\"type\":\"PanTool\"},{\"id\":\"b6fce035-ca53-4c83-aff7-9fd89bc30725\",\"type\":\"WheelZoomTool\"},{\"id\":\"6623d4d0-02b5-44f6-a943-7a205f87d698\",\"type\":\"BoxZoomTool\"},{\"id\":\"f10021e0-2b29-43a9-9788-27e28513a3b9\",\"type\":\"PreviewSaveTool\"},{\"id\":\"3bf8f1a4-00b8-47f1-bef1-f3d5011ca884\",\"type\":\"ResizeTool\"},{\"id\":\"0a67bd09-c387-45ca-8861-d8ec9d895fef\",\"type\":\"ResetTool\"},{\"id\":\"e0f14c98-822e-4615-8c99-fd8b4067c5ab\",\"type\":\"HelpTool\"}],\"x_range\":{\"id\":\"58904d18-c57d-4784-a46e-bab3aab02967\",\"type\":\"DataRange1d\"},\"y_range\":{\"id\":\"cddc38b9-c26c-4c64-a3ce-b0f84ee10ce9\",\"type\":\"DataRange1d\"}},\"id\":\"e7fdde06-bc88-4387-92a0-c9b96dfb67bc\",\"subtype\":\"Figure\",\"type\":\"Plot\"},{\"attributes\":{\"axis_label\":\"Sum( Siterwho1 )\",\"formatter\":{\"id\":\"109caefa-4ed1-4ad1-accc-54cb13e85899\",\"type\":\"BasicTickFormatter\"},\"plot\":{\"id\":\"77c6a2e6-f39c-49ea-87b5-65f05dda06e7\",\"subtype\":\"Chart\",\"type\":\"Plot\"},\"ticker\":{\"id\":\"d9517d78-dd69-4ccd-9013-53aedbae9e41\",\"type\":\"BasicTicker\"}},\"id\":\"c75ac732-0283-4074-88ae-8af2fd0873ae\",\"type\":\"LinearAxis\"},{\"attributes\":{\"fill_alpha\":{\"field\":\"fill_alpha\"},\"fill_color\":{\"field\":\"color\"},\"height\":{\"field\":\"height\",\"units\":\"data\"},\"line_color\":{\"field\":\"line_color\"},\"width\":{\"field\":\"width\",\"units\":\"data\"},\"x\":{\"field\":\"x\"},\"y\":{\"field\":\"y\"}},\"id\":\"e56bfb39-324c-4ed6-93d8-941af8375138\",\"type\":\"Rect\"},{\"attributes\":{\"fill_alpha\":{\"field\":\"fill_alpha\"},\"fill_color\":{\"field\":\"color\"},\"height\":{\"field\":\"height\",\"units\":\"data\"},\"line_color\":{\"field\":\"line_color\"},\"width\":{\"field\":\"width\",\"units\":\"data\"},\"x\":{\"field\":\"x\"},\"y\":{\"field\":\"y\"}},\"id\":\"30c8035c-a615-49b7-b208-2627f49ba24f\",\"type\":\"Rect\"},{\"attributes\":{\"plot\":{\"id\":\"77c6a2e6-f39c-49ea-87b5-65f05dda06e7\",\"subtype\":\"Chart\",\"type\":\"Plot\"}},\"id\":\"ca2518c6-668a-4acd-930d-45589b7cea82\",\"type\":\"ResizeTool\"},{\"attributes\":{\"plot\":{\"id\":\"0e66aaae-c0ae-463b-aab5-b475c7c4a4cb\",\"subtype\":\"Figure\",\"type\":\"Plot\"}},\"id\":\"aeca6da3-370b-45b0-b481-eab8a73da7c7\",\"type\":\"HelpTool\"},{\"attributes\":{\"overlay\":{\"id\":\"23db3610-271e-4cf5-aeb8-6ba42a0df5e1\",\"type\":\"BoxAnnotation\"},\"plot\":{\"id\":\"e3bf29b7-8769-4f0c-a8cd-bf6843e38c06\",\"subtype\":\"Figure\",\"type\":\"Plot\"}},\"id\":\"5463d737-2e35-4f6e-a2a7-534118a12fd2\",\"type\":\"BoxZoomTool\"},{\"attributes\":{\"fill_alpha\":{\"field\":\"fill_alpha\"},\"fill_color\":{\"field\":\"color\"},\"height\":{\"field\":\"height\",\"units\":\"data\"},\"line_color\":{\"field\":\"line_color\"},\"width\":{\"field\":\"width\",\"units\":\"data\"},\"x\":{\"field\":\"x\"},\"y\":{\"field\":\"y\"}},\"id\":\"bd5d9e9f-5ac3-44e9-addc-fdda12c224b2\",\"type\":\"Rect\"},{\"attributes\":{\"data_source\":{\"id\":\"4144a687-c5ba-47f2-9d49-3dd1daa88cbd\",\"type\":\"ColumnDataSource\"},\"glyph\":{\"id\":\"8fce6222-4a29-452e-aeac-c66226fe4581\",\"type\":\"Rect\"},\"hover_glyph\":null,\"nonselection_glyph\":null,\"selection_glyph\":null},\"id\":\"10b77641-c227-409c-b36c-64d069e6fa27\",\"type\":\"GlyphRenderer\"},{\"attributes\":{\"plot\":{\"id\":\"e7fdde06-bc88-4387-92a0-c9b96dfb67bc\",\"subtype\":\"Figure\",\"type\":\"Plot\"}},\"id\":\"0a67bd09-c387-45ca-8861-d8ec9d895fef\",\"type\":\"ResetTool\"},{\"attributes\":{},\"id\":\"abde418f-adcc-4862-999a-50ad56e0df36\",\"type\":\"BasicTicker\"},{\"attributes\":{\"line_alpha\":{\"value\":0.1},\"line_color\":{\"value\":\"#1f77b4\"},\"x\":{\"field\":\"x\"},\"y\":{\"field\":\"y\"}},\"id\":\"de07ff56-ca31-4273-b5be-498eb250e9a3\",\"type\":\"Line\"},{\"attributes\":{\"fill_alpha\":{\"field\":\"fill_alpha\"},\"fill_color\":{\"field\":\"color\"},\"height\":{\"field\":\"height\",\"units\":\"data\"},\"line_color\":{\"field\":\"line_color\"},\"width\":{\"field\":\"width\",\"units\":\"data\"},\"x\":{\"field\":\"x\"},\"y\":{\"field\":\"y\"}},\"id\":\"c79539c9-dced-49bb-9795-9946925b7bf8\",\"type\":\"Rect\"},{\"attributes\":{\"plot\":{\"id\":\"e3bf29b7-8769-4f0c-a8cd-bf6843e38c06\",\"subtype\":\"Figure\",\"type\":\"Plot\"},\"ticker\":{\"id\":\"8964425d-c1e4-4c82-965c-adee41b85793\",\"type\":\"BasicTicker\"}},\"id\":\"77c9511b-2210-4a9d-a39d-109886f965c1\",\"type\":\"Grid\"},{\"attributes\":{\"dimension\":1,\"plot\":{\"id\":\"e7fdde06-bc88-4387-92a0-c9b96dfb67bc\",\"subtype\":\"Figure\",\"type\":\"Plot\"},\"ticker\":{\"id\":\"a61e24bc-253f-4a57-9def-aab29051af1a\",\"type\":\"BasicTicker\"}},\"id\":\"a9b4a9a5-0a11-4820-ae9a-f18d350077b0\",\"type\":\"Grid\"},{\"attributes\":{\"overlay\":{\"id\":\"1152e443-6c8b-4e79-9a96-ec6e06bd1702\",\"type\":\"BoxAnnotation\"},\"plot\":{\"id\":\"c220b2c0-c838-4938-baf3-c9a2eb85abd3\",\"subtype\":\"Figure\",\"type\":\"Plot\"}},\"id\":\"1c9123de-8461-48b8-b671-8249d321f936\",\"type\":\"BoxZoomTool\"},{\"attributes\":{\"overlay\":{\"id\":\"539110c5-0196-4303-bbf0-cd80978fd623\",\"type\":\"BoxAnnotation\"},\"plot\":{\"id\":\"77c6a2e6-f39c-49ea-87b5-65f05dda06e7\",\"subtype\":\"Chart\",\"type\":\"Plot\"}},\"id\":\"d7c862c7-8e0b-4880-afb7-dea62164e159\",\"type\":\"BoxZoomTool\"},{\"attributes\":{\"fill_alpha\":{\"field\":\"fill_alpha\"},\"fill_color\":{\"field\":\"color\"},\"height\":{\"field\":\"height\",\"units\":\"data\"},\"line_color\":{\"field\":\"line_color\"},\"width\":{\"field\":\"width\",\"units\":\"data\"},\"x\":{\"field\":\"x\"},\"y\":{\"field\":\"y\"}},\"id\":\"0541d9bf-63e5-4c03-be76-5d6bc74a077e\",\"type\":\"Rect\"},{\"attributes\":{\"line_color\":{\"value\":\"red\"},\"x\":{\"field\":\"x\"},\"y\":{\"field\":\"y\"}},\"id\":\"a7659155-1954-4010-959e-9ee29f301384\",\"type\":\"Line\"},{\"attributes\":{},\"id\":\"a393e07a-0df8-4830-843e-856e71f49b49\",\"type\":\"BasicTickFormatter\"},{\"attributes\":{\"callback\":null,\"column_names\":[\"line_alpha\",\"fill_alpha\",\"color\",\"height\",\"y\",\"x\",\"line_color\",\"width\"],\"data\":{\"chart_index\":[{\"index\":\"Urinary Bladder\"}],\"color\":[\"#f22c40\"],\"fill_alpha\":[0.8],\"height\":[39.0],\"index\":[\"Urinary Bladder\"],\"line_alpha\":[1.0],\"line_color\":[\"white\"],\"width\":[0.8],\"x\":[\"Urinary Bladder\"],\"y\":[19.5]}},\"id\":\"75bd19c5-cdd0-4b23-9758-c9ae2204272b\",\"type\":\"ColumnDataSource\"},{\"attributes\":{},\"id\":\"11eb2e62-9b19-4098-874f-7d1580d6b6ad\",\"type\":\"ToolEvents\"},{\"attributes\":{\"plot\":{\"id\":\"c220b2c0-c838-4938-baf3-c9a2eb85abd3\",\"subtype\":\"Figure\",\"type\":\"Plot\"}},\"id\":\"b1b33da3-cd34-4c2a-b9f8-dfa7b9e67862\",\"type\":\"HelpTool\"}],\"root_ids\":[\"77c6a2e6-f39c-49ea-87b5-65f05dda06e7\",\"e7fdde06-bc88-4387-92a0-c9b96dfb67bc\",\"0e66aaae-c0ae-463b-aab5-b475c7c4a4cb\",\"e3bf29b7-8769-4f0c-a8cd-bf6843e38c06\",\"c220b2c0-c838-4938-baf3-c9a2eb85abd3\"]},\"title\":\"Bokeh Application\",\"version\":\"0.11.1\"}};\n",
       "            var render_items = [{\"docid\":\"0961b071-9366-49dd-b332-da6180fabca9\",\"elementid\":\"5eec2bc6-1cae-44d2-8f2b-796c51042e30\",\"modelid\":\"c220b2c0-c838-4938-baf3-c9a2eb85abd3\",\"notebook_comms_target\":\"43e7d51e-ae8c-4c86-9f01-7aa1a14c5f1d\"}];\n",
       "            \n",
       "            Bokeh.embed.embed_items(docs_json, render_items);\n",
       "        });\n",
       "      },\n",
       "      function(Bokeh) {\n",
       "      }\n",
       "    ];\n",
       "  \n",
       "    function run_inline_js() {\n",
       "      for (var i = 0; i < inline_js.length; i++) {\n",
       "        inline_js[i](window.Bokeh);\n",
       "      }\n",
       "    }\n",
       "  \n",
       "    if (window._bokeh_is_loading === 0) {\n",
       "      console.log(\"Bokeh: BokehJS loaded, going straight to plotting\");\n",
       "      run_inline_js();\n",
       "    } else {\n",
       "      load_libs(js_urls, function() {\n",
       "        console.log(\"Bokeh: BokehJS plotting callback run at\", now());\n",
       "        run_inline_js();\n",
       "      });\n",
       "    }\n",
       "  }(this));\n",
       "</script>"
      ]
     },
     "metadata": {},
     "output_type": "display_data"
    }
   ],
   "source": [
    "bplt.show(p);"
   ]
  },
  {
   "cell_type": "code",
   "execution_count": null,
   "metadata": {
    "collapsed": true
   },
   "outputs": [],
   "source": []
  }
 ],
 "metadata": {
  "celltoolbar": "Slideshow",
  "kernelspec": {
   "display_name": "Python 3",
   "language": "python",
   "name": "python3"
  },
  "language_info": {
   "codemirror_mode": {
    "name": "ipython",
    "version": 3
   },
   "file_extension": ".py",
   "mimetype": "text/x-python",
   "name": "python",
   "nbconvert_exporter": "python",
   "pygments_lexer": "ipython3",
   "version": "3.5.1"
  },
  "widgets": {
   "state": {},
   "version": "1.1.2"
  }
 },
 "nbformat": 4,
 "nbformat_minor": 0
}
