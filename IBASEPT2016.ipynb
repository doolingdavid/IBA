{
 "cells": [
  {
   "cell_type": "code",
   "execution_count": 1,
   "metadata": {
    "collapsed": false,
    "slideshow": {
     "slide_type": "skip"
    }
   },
   "outputs": [
    {
     "data": {
      "text/html": [
       "<script>\n",
       "code_show=true; \n",
       "function code_toggle() {\n",
       " if (code_show){\n",
       " $('div.input').hide();\n",
       " } else {\n",
       " $('div.input').show();\n",
       " }\n",
       " code_show = !code_show\n",
       "} \n",
       "$( document ).ready(code_toggle);\n",
       "</script>\n",
       "<form action=\"javascript:code_toggle()\"><input type=\"submit\" value=\"Click here to toggle on/off the raw code.\"></form>"
      ],
      "text/plain": [
       "<IPython.core.display.HTML object>"
      ]
     },
     "execution_count": 1,
     "metadata": {},
     "output_type": "execute_result"
    }
   ],
   "source": [
    "from IPython.display import HTML\n",
    "\n",
    "HTML('''<script>\n",
    "code_show=true; \n",
    "function code_toggle() {\n",
    " if (code_show){\n",
    " $('div.input').hide();\n",
    " } else {\n",
    " $('div.input').show();\n",
    " }\n",
    " code_show = !code_show\n",
    "} \n",
    "$( document ).ready(code_toggle);\n",
    "</script>\n",
    "<form action=\"javascript:code_toggle()\"><input type=\"submit\" value=\"Click here to toggle on/off the raw code.\"></form>''')  "
   ]
  },
  {
   "cell_type": "code",
   "execution_count": 2,
   "metadata": {
    "collapsed": false,
    "slideshow": {
     "slide_type": "skip"
    }
   },
   "outputs": [],
   "source": [
    "import numpy as np\n",
    "import pandas as pd\n",
    "import matplotlib.pyplot as plt\n",
    "from pandas import Series, DataFrame\n",
    "import pytz\n",
    "from pytz import common_timezones, all_timezones\n",
    "import matplotlib\n",
    "matplotlib.style.use('ggplot')\n",
    "%matplotlib inline\n",
    "from datetime import datetime\n",
    "import scipy as sp\n",
    "import statsmodels.api as sm\n",
    "import statsmodels.formula.api as smf\n",
    "matplotlib.style.use('fivethirtyeight')\n",
    "matplotlib.style.use('seaborn-talk')\n",
    "import os\n",
    "import collections\n",
    "\n",
    "preDouble = \"\\\\\\\\iobsdc01\\\\SharedDocs\\\\SEER_MEDICARE\\\\SEER_MEDICARE_STAGING\"\n",
    "new = os.chdir(preDouble)\n",
    "#print(preDouble)"
   ]
  },
  {
   "cell_type": "code",
   "execution_count": 3,
   "metadata": {
    "collapsed": true,
    "slideshow": {
     "slide_type": "skip"
    }
   },
   "outputs": [],
   "source": [
    "df = pd.read_pickle('dfpedsfFirsts.pickle')"
   ]
  },
  {
   "cell_type": "markdown",
   "metadata": {
    "slideshow": {
     "slide_type": "slide"
    }
   },
   "source": [
    "# <font color='#E56717'>SEER-Medicare Data Files</font>\n",
    "\n",
    "\n",
    "* <span style=\"font-size:1.5em;\">Patient Entitlement and Diagnosis Summary File (PEDSF)</span>\n",
    "* <span style=\"font-size:1.5em;\">Medicare Provider Analysis and Review (MEDPAR)</span>\n",
    "*  <span style=\"font-size:1.5em;\">Carrier Claims (old file name Physician/Supplier Part B (NCH))</span>\n",
    "*  <span style=\"font-size:1.5em;\">Outpatient Claims</span>\n",
    "*  <span style=\"font-size:1.5em;\">Home Health Agency (HAA)</span>\n",
    "*  <span style=\"font-size:1.5em;\">Hospice</span>\n",
    "*  <span style=\"font-size:1.5em;\">Durable Medical Equipment (DME)</span>\n",
    "*  <span style=\"font-size:1.5em;\">Medicare Part D Data</span>"
   ]
  },
  {
   "cell_type": "code",
   "execution_count": 15,
   "metadata": {
    "collapsed": true,
    "slideshow": {
     "slide_type": "skip"
    }
   },
   "outputs": [],
   "source": [
    "papaya = '#E56717'"
   ]
  },
  {
   "cell_type": "markdown",
   "metadata": {
    "slideshow": {
     "slide_type": "slide"
    }
   },
   "source": [
    "# <font color='#E56717'>First order of business is to identify all the patients in the SEER-Medicare data who have received PBT</font>\n",
    "\n",
    "\n",
    "\n",
    "<span style=\"font-size:1.5em;\">The relevant HCPCS are:</span>\n",
    "\n",
    "* <span style=\"font-size:1.5em;\">77520 - Proton trmt simple w/o comp</span>\n",
    "* <span style=\"font-size:1.5em;\">77522 - Proton trmt simple w/comp</span>\n",
    "* <span style=\"font-size:1.5em;\">77523 - Proton trmt intermediate</span>\n",
    "* <span style=\"font-size:1.5em;\">77525 - Proton treatment complex</span>\n",
    "\n",
    "<span style=\"font-size:1.5em;\">as well as the HCPCS code S8030 (Scleral application of tantalum ring(s) for localization of lesions for proton beam therapy)</span>"
   ]
  },
  {
   "cell_type": "markdown",
   "metadata": {
    "slideshow": {
     "slide_type": "slide"
    }
   },
   "source": [
    "# <font color='#E56717'>Use the Outpatient Claims and Carrier Claims files</font>\n",
    "\n",
    "\n",
    "* <span style=\"font-size:1.5em;\">218 Outpatient Claims files</span>\n",
    "* <span style=\"font-size:1.5em;\">207 Carrier Claims files</span>\n",
    "\n",
    "\n",
    "<span style=\"font-size:1.5em;\">Loop through all of these files and capture the set of all the</span> <span style=\"font-size:1.5em;font-family:Consolas,Monaco;\">patient_id</span> <span style=\"font-size:1.5em;\">s corresponding to the PBT HCPCS codes</span>\n",
    "\n",
    "<span style=\"font-size:1.8em;\">**Result: 1584 unique PBT patients appear in the claims files for claims in years 2006-2013**</span>\n"
   ]
  },
  {
   "cell_type": "code",
   "execution_count": 4,
   "metadata": {
    "collapsed": true,
    "slideshow": {
     "slide_type": "skip"
    }
   },
   "outputs": [],
   "source": [
    "mask = (df['srvm1'] != 9999)\n",
    "dfall = df[mask]"
   ]
  },
  {
   "cell_type": "code",
   "execution_count": 5,
   "metadata": {
    "collapsed": true,
    "slideshow": {
     "slide_type": "skip"
    }
   },
   "outputs": [],
   "source": [
    "geomask = (dfall['elevation_1'] != dfall['FIPScombo_1']) \n",
    "\n",
    "dfall = dfall[geomask].copy()"
   ]
  },
  {
   "cell_type": "code",
   "execution_count": 6,
   "metadata": {
    "collapsed": true,
    "slideshow": {
     "slide_type": "skip"
    }
   },
   "outputs": [],
   "source": [
    "dfall['elevation_1'].replace('99999',np.nan,inplace=True)\n",
    "dfall['elevation_2'].replace('99999',np.nan,inplace=True)\n",
    "dfall['elevation_3'].replace('99999',np.nan,inplace=True)\n",
    "\n",
    "dfall['lat_1'].replace('99999',np.nan,inplace=True)\n",
    "dfall['lat_2'].replace('99999',np.nan,inplace=True)\n",
    "dfall['lat_3'].replace('99999',np.nan,inplace=True)\n",
    "\n",
    "dfall['lng_1'].replace('99999',np.nan,inplace=True)\n",
    "dfall['lng_2'].replace('99999',np.nan,inplace=True)\n",
    "dfall['lng_3'].replace('99999',np.nan,inplace=True)\n",
    "\n",
    "dfall['elevation_1'] = dfall['elevation_1'].astype('float')\n",
    "dfall['elevation_2'] = dfall['elevation_2'].astype('float')\n",
    "dfall['elevation_3'] = dfall['elevation_3'].astype('float')\n",
    "\n",
    "dfall['lat_1'] = dfall['lat_1'].astype('float')\n",
    "dfall['lat_2'] = dfall['lat_2'].astype('float')\n",
    "dfall['lat_3'] = dfall['lat_3'].astype('float')\n",
    "\n",
    "dfall['lng_1'] = dfall['lng_1'].astype('float')\n",
    "dfall['lng_2'] = dfall['lng_2'].astype('float')\n",
    "dfall['lng_3'] = dfall['lng_3'].astype('float')"
   ]
  },
  {
   "cell_type": "code",
   "execution_count": 7,
   "metadata": {
    "collapsed": true,
    "slideshow": {
     "slide_type": "skip"
    }
   },
   "outputs": [],
   "source": [
    "import pickle\n",
    "fileObject = open('patient_ids_from_outsaf.pickle', 'rb')\n",
    "b = pickle.load(fileObject)\n",
    "fileObject.close()\n",
    "treatmentindices_outsaf = list(set.union(*b))"
   ]
  },
  {
   "cell_type": "code",
   "execution_count": 8,
   "metadata": {
    "collapsed": true,
    "slideshow": {
     "slide_type": "skip"
    }
   },
   "outputs": [],
   "source": [
    "import pickle\n",
    "fileObject = open('patient_ids_from_nch.pickle', 'rb')\n",
    "b = pickle.load(fileObject)\n",
    "fileObject.close()\n",
    "treatmentindices_nch = list(set.union(*b))"
   ]
  },
  {
   "cell_type": "code",
   "execution_count": 9,
   "metadata": {
    "collapsed": true,
    "slideshow": {
     "slide_type": "skip"
    }
   },
   "outputs": [],
   "source": [
    "bigtreatmentindices = list(set(treatmentindices_nch+treatmentindices_outsaf))\n",
    "\n",
    "dfall.set_index('patient_id', inplace=True,drop=False)\n",
    "\n",
    "allindices = dfall.index"
   ]
  },
  {
   "cell_type": "code",
   "execution_count": 10,
   "metadata": {
    "collapsed": true,
    "slideshow": {
     "slide_type": "skip"
    }
   },
   "outputs": [],
   "source": [
    "bigtreatmentset = set(bigtreatmentindices)\n",
    "allset = set(allindices)\n",
    "\n",
    "\n",
    "alltreatmentindices = list(allset.intersection(bigtreatmentset))\n",
    "\n",
    "treatmentindices = alltreatmentindices\n",
    "#len(treatmentindices)"
   ]
  },
  {
   "cell_type": "markdown",
   "metadata": {
    "slideshow": {
     "slide_type": "slide"
    }
   },
   "source": [
    "# <font color='#E56717'>Now use the pedsf files to perform patient matching, using the <span style=\"font-family:Consolas;\">patient_id</span> s found above</font>\n",
    "\n",
    "<span style=\"font-size:1.5em;\">List of pedsf files (contains SEER cases for diagnosis year dates 2006-2011):</span>\n",
    "\n",
    "* <span style=\"font-size:1.3em;\">pedsf.nasopharynx.cancer.txt</span>\n",
    "* <span style=\"font-size:1.3em;\">pedsf.salivarygland.cancer.txt</span>\n",
    "* <span style=\"font-size:1.3em;\">pedsf.oropharynx.cancer.txt</span>\n",
    "* <span style=\"font-size:1.3em;\">pedsf.esophagus.cancer.txt</span>\n",
    "* <span style=\"font-size:1.3em;\">pedsf.brain.cancer.txt</span>\n",
    "* <span style=\"font-size:1.3em;\">pedsf.eyeandorbit.cancer.txt</span>\n",
    "* <span style=\"font-size:1.3em;\">pedsf.softtissue.cancer.txt</span>\n",
    "* <span style=\"font-size:1.3em;\">pedsf.prostate.cancer.file01.txt</span>\n",
    "* <span style=\"font-size:1.3em;\">pedsf.prostate.cancer.file02.txt</span>\n",
    "* <span style=\"font-size:1.3em;\">pedsf.prostate.cancer.file03.txt</span>\n",
    "* <span style=\"font-size:1.3em;\">pedsf.lung.cancer.file01.txt</span>\n",
    "* <span style=\"font-size:1.3em;\">pedsf.lung.cancer.file02.txt</span>\n",
    "\n"
   ]
  },
  {
   "cell_type": "markdown",
   "metadata": {
    "slideshow": {
     "slide_type": "slide"
    }
   },
   "source": [
    "# <font color='E56717'>The pedsf files contain one single row for each patient, and contain the information for up to 10 different primary tumors</font>\n",
    "\n",
    "<span style=\"font-size:1.5em;\">So the prostate cancer files contain all patients with a cancer diagnosis where the primary site is the prostate for ANY of the potentially 10 different primary tumors associated with that patient and where that prostate site tumor has a diagnosis date anywhere between 2006 and 2011.</span>\n",
    "\n",
    " "
   ]
  },
  {
   "cell_type": "code",
   "execution_count": 11,
   "metadata": {
    "collapsed": true,
    "slideshow": {
     "slide_type": "skip"
    }
   },
   "outputs": [],
   "source": [
    "import pedsfhelp\n",
    "\n",
    "df2 = pedsfhelp.make_clean_dataframe('pedsf.salivarygland.cancer.txt')\n",
    "#print(df2.shape)"
   ]
  },
  {
   "cell_type": "markdown",
   "metadata": {
    "slideshow": {
     "slide_type": "slide"
    }
   },
   "source": [
    "For example, in the ```pedsf.salivarygland.cancer.txt```, the cancer sites for the first tumor listed for each patient has the following distribution:"
   ]
  },
  {
   "cell_type": "code",
   "execution_count": 17,
   "metadata": {
    "collapsed": false,
    "slideshow": {
     "slide_type": "slide"
    }
   },
   "outputs": [
    {
     "data": {
      "image/png": "[encoded data removed]",
      "text/plain": [
       "<matplotlib.figure.Figure at 0x31897588>"
      ]
     },
     "metadata": {},
     "output_type": "display_data"
    }
   ],
   "source": [
    "df2.siterwho1.value_counts()[:10][::-1].plot(kind='barh',\n",
    "                                            color='#E56717');"
   ]
  },
  {
   "cell_type": "code",
   "execution_count": null,
   "metadata": {
    "collapsed": true
   },
   "outputs": [],
   "source": []
  }
 ],
 "metadata": {
  "celltoolbar": "Slideshow",
  "kernelspec": {
   "display_name": "Python 3",
   "language": "python",
   "name": "python3"
  },
  "language_info": {
   "codemirror_mode": {
    "name": "ipython",
    "version": 3
   },
   "file_extension": ".py",
   "mimetype": "text/x-python",
   "name": "python",
   "nbconvert_exporter": "python",
   "pygments_lexer": "ipython3",
   "version": "3.5.1"
  },
  "widgets": {
   "state": {},
   "version": "1.1.2"
  }
 },
 "nbformat": 4,
 "nbformat_minor": 0
}
