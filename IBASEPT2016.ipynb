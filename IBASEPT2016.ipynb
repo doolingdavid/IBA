{
 "cells": [
  {
   "cell_type": "code",
   "execution_count": 1,
   "metadata": {
    "collapsed": false,
    "slideshow": {
     "slide_type": "skip"
    }
   },
   "outputs": [
    {
     "data": {
      "text/html": [
       "<script>\n",
       "code_show=true; \n",
       "function code_toggle() {\n",
       " if (code_show){\n",
       " $('div.input').hide();\n",
       " } else {\n",
       " $('div.input').show();\n",
       " }\n",
       " code_show = !code_show\n",
       "} \n",
       "$( document ).ready(code_toggle);\n",
       "</script>\n",
       "<form action=\"javascript:code_toggle()\"><input type=\"submit\" value=\"Click here to toggle on/off the raw code.\"></form>"
      ],
      "text/plain": [
       "<IPython.core.display.HTML object>"
      ]
     },
     "execution_count": 1,
     "metadata": {},
     "output_type": "execute_result"
    }
   ],
   "source": [
    "from IPython.display import HTML\n",
    "\n",
    "HTML('''<script>\n",
    "code_show=true; \n",
    "function code_toggle() {\n",
    " if (code_show){\n",
    " $('div.input').hide();\n",
    " } else {\n",
    " $('div.input').show();\n",
    " }\n",
    " code_show = !code_show\n",
    "} \n",
    "$( document ).ready(code_toggle);\n",
    "</script>\n",
    "<form action=\"javascript:code_toggle()\"><input type=\"submit\" value=\"Click here to toggle on/off the raw code.\"></form>''')  "
   ]
  },
  {
   "cell_type": "code",
   "execution_count": 2,
   "metadata": {
    "collapsed": false,
    "slideshow": {
     "slide_type": "skip"
    }
   },
   "outputs": [
    {
     "name": "stdout",
     "output_type": "stream",
     "text": [
      "\\\\iobsdc01\\SharedDocs\\SEER_MEDICARE\\SEER_MEDICARE_STAGING\n"
     ]
    }
   ],
   "source": [
    "import numpy as np\n",
    "import pandas as pd\n",
    "import matplotlib.pyplot as plt\n",
    "from pandas import Series, DataFrame\n",
    "import pytz\n",
    "from pytz import common_timezones, all_timezones\n",
    "import matplotlib\n",
    "matplotlib.style.use('ggplot')\n",
    "%matplotlib inline\n",
    "from datetime import datetime\n",
    "import scipy as sp\n",
    "import statsmodels.api as sm\n",
    "import statsmodels.formula.api as smf\n",
    "matplotlib.style.use('fivethirtyeight')\n",
    "matplotlib.style.use('seaborn-talk')\n",
    "import os\n",
    "import collections\n",
    "\n",
    "preDouble = \"\\\\\\\\iobsdc01\\\\SharedDocs\\\\SEER_MEDICARE\\\\SEER_MEDICARE_STAGING\"\n",
    "new = os.chdir(preDouble)\n",
    "print(preDouble)"
   ]
  },
  {
   "cell_type": "code",
   "execution_count": 3,
   "metadata": {
    "collapsed": true,
    "slideshow": {
     "slide_type": "skip"
    }
   },
   "outputs": [],
   "source": [
    "df = pd.read_pickle('dfpedsfFirsts.pickle')"
   ]
  },
  {
   "cell_type": "markdown",
   "metadata": {
    "slideshow": {
     "slide_type": "slide"
    }
   },
   "source": [
    "## <font color='steelblue'>Description of the SEER-Medicare Data Files format</font>\n",
    "\n",
    "Fixed width files. Data dictionary available to make the data not only machine readable but meaningful to humans\n",
    "\n",
    "* Patient Entitlement and Diagnosis Summary File (PEDSF)\n",
    "* Medicare Provider Analysis and Review (MEDPAR)\n",
    "* Carrier Claims (old file name Physician/Supplier Part B (NCH))\n",
    "* Outpatient Claims\n",
    "* Home Health Agency (HAA)\n",
    "* Hospice\n",
    "* Durable Medical Equipment (DME)\n",
    "* Medicare Part D Data"
   ]
  },
  {
   "cell_type": "markdown",
   "metadata": {
    "slideshow": {
     "slide_type": "slide"
    }
   },
   "source": [
    "## <font color='steelblue'>First order of business is to identify all the patients in the SEER-Medicare data who have received PBT</font>\n",
    "\n",
    "### <font color='steelblue'>Reminder:</font>\n",
    "\n",
    "The relevant HCPCS are:\n",
    "\n",
    "* 77520 - Proton trmt simple w/o comp\n",
    "* 77522 - Proton trmt simple w/comp\n",
    "* 77523 - Proton trmt intermediate\n",
    "* 77525 - Proton treatment complex\n",
    "\n",
    "as well as the HCPCS code S8030 (Scleral application of tantalum ring(s) for localization of lesions for proton beam therapy)."
   ]
  },
  {
   "cell_type": "markdown",
   "metadata": {
    "slideshow": {
     "slide_type": "slide"
    }
   },
   "source": [
    "### <font color='steelblue'>Use the Outpatient Claims and Carrier Claims files</font>\n",
    "\n",
    "\n",
    "* 218 Outpatient Claims files\n",
    "* 207 Carrier Claims files\n",
    "\n",
    "\n",
    "Loop through all of these files and capture the set of all the ```patient_id``` s corresponding to the PBT HCPCS codes\n",
    "\n",
    "**Result: 1584 unique patients appear in the claims files for claims in years 2006-2013**\n"
   ]
  },
  {
   "cell_type": "code",
   "execution_count": 4,
   "metadata": {
    "collapsed": true,
    "slideshow": {
     "slide_type": "skip"
    }
   },
   "outputs": [],
   "source": [
    "mask = (df['srvm1'] != 9999)\n",
    "dfall = df[mask]"
   ]
  },
  {
   "cell_type": "code",
   "execution_count": 5,
   "metadata": {
    "collapsed": true,
    "slideshow": {
     "slide_type": "skip"
    }
   },
   "outputs": [],
   "source": [
    "geomask = (dfall['elevation_1'] != dfall['FIPScombo_1']) \n",
    "\n",
    "dfall = dfall[geomask].copy()"
   ]
  },
  {
   "cell_type": "code",
   "execution_count": 6,
   "metadata": {
    "collapsed": true,
    "slideshow": {
     "slide_type": "skip"
    }
   },
   "outputs": [],
   "source": [
    "dfall['elevation_1'].replace('99999',np.nan,inplace=True)\n",
    "dfall['elevation_2'].replace('99999',np.nan,inplace=True)\n",
    "dfall['elevation_3'].replace('99999',np.nan,inplace=True)\n",
    "\n",
    "dfall['lat_1'].replace('99999',np.nan,inplace=True)\n",
    "dfall['lat_2'].replace('99999',np.nan,inplace=True)\n",
    "dfall['lat_3'].replace('99999',np.nan,inplace=True)\n",
    "\n",
    "dfall['lng_1'].replace('99999',np.nan,inplace=True)\n",
    "dfall['lng_2'].replace('99999',np.nan,inplace=True)\n",
    "dfall['lng_3'].replace('99999',np.nan,inplace=True)\n",
    "\n",
    "dfall['elevation_1'] = dfall['elevation_1'].astype('float')\n",
    "dfall['elevation_2'] = dfall['elevation_2'].astype('float')\n",
    "dfall['elevation_3'] = dfall['elevation_3'].astype('float')\n",
    "\n",
    "dfall['lat_1'] = dfall['lat_1'].astype('float')\n",
    "dfall['lat_2'] = dfall['lat_2'].astype('float')\n",
    "dfall['lat_3'] = dfall['lat_3'].astype('float')\n",
    "\n",
    "dfall['lng_1'] = dfall['lng_1'].astype('float')\n",
    "dfall['lng_2'] = dfall['lng_2'].astype('float')\n",
    "dfall['lng_3'] = dfall['lng_3'].astype('float')"
   ]
  },
  {
   "cell_type": "code",
   "execution_count": 7,
   "metadata": {
    "collapsed": true,
    "slideshow": {
     "slide_type": "skip"
    }
   },
   "outputs": [],
   "source": [
    "import pickle\n",
    "fileObject = open('patient_ids_from_outsaf.pickle', 'rb')\n",
    "b = pickle.load(fileObject)\n",
    "fileObject.close()\n",
    "treatmentindices_outsaf = list(set.union(*b))"
   ]
  },
  {
   "cell_type": "code",
   "execution_count": 8,
   "metadata": {
    "collapsed": true,
    "slideshow": {
     "slide_type": "skip"
    }
   },
   "outputs": [],
   "source": [
    "import pickle\n",
    "fileObject = open('patient_ids_from_nch.pickle', 'rb')\n",
    "b = pickle.load(fileObject)\n",
    "fileObject.close()\n",
    "treatmentindices_nch = list(set.union(*b))"
   ]
  },
  {
   "cell_type": "code",
   "execution_count": 9,
   "metadata": {
    "collapsed": true,
    "slideshow": {
     "slide_type": "skip"
    }
   },
   "outputs": [],
   "source": [
    "bigtreatmentindices = list(set(treatmentindices_nch+treatmentindices_outsaf))\n",
    "\n",
    "dfall.set_index('patient_id', inplace=True,drop=False)\n",
    "\n",
    "allindices = dfall.index"
   ]
  },
  {
   "cell_type": "code",
   "execution_count": 10,
   "metadata": {
    "collapsed": true,
    "slideshow": {
     "slide_type": "skip"
    }
   },
   "outputs": [],
   "source": [
    "bigtreatmentset = set(bigtreatmentindices)\n",
    "allset = set(allindices)\n",
    "\n",
    "\n",
    "alltreatmentindices = list(allset.intersection(bigtreatmentset))\n",
    "\n",
    "treatmentindices = alltreatmentindices\n",
    "#len(treatmentindices)"
   ]
  },
  {
   "cell_type": "markdown",
   "metadata": {
    "slideshow": {
     "slide_type": "skip"
    }
   },
   "source": [
    "### <font color='steelblue'>Now use the pedsf files to perform patient matching, using the ```patient_id``` 's found above</font>\n",
    "\n",
    "List of pedsf files (contains SEER cases for diagnosis year dates 2006-2011):\n",
    "\n",
    "* pedsf.nasopharynx.cancer.txt\n",
    "* pedsf.salivarygland.cancer.txt\n",
    "* pedsf.oropharynx.cancer.txt\n",
    "* pedsf.esophagus.cancer.txt\n",
    "* pedsf.brain.cancer.txt\n",
    "* pedsf.eyeandorbit.cancer.txt\n",
    "* pedsf.softtissue.cancer.txt\n",
    "* pedsf.prostate.cancer.file01.txt\n",
    "* pedsf.prostate.cancer.file02.txt\n",
    "* pedsf.prostate.cancer.file03.txt\n",
    "* pedsf.lung.cancer.file01.txt\n",
    "* pedsf.lung.cancer.file02.txt\n",
    "\n"
   ]
  },
  {
   "cell_type": "markdown",
   "metadata": {
    "slideshow": {
     "slide_type": "slide"
    }
   },
   "source": [
    "### <font color='steelblue'>The pedsf files contain one single row for each patient, and contain the information for up to 10 different primary tumors.</font>\n",
    "\n",
    "So the prostate cancer files contain all patients with a cancer diagnosis where the primary site is the prostate for ANY of the potentially 10 different primary tumors associated with that patient and where that prostate site tumor has a diagnosis date anywhere between 2006 and 2011.\n",
    "\n",
    " "
   ]
  },
  {
   "cell_type": "code",
   "execution_count": 11,
   "metadata": {
    "collapsed": true,
    "slideshow": {
     "slide_type": "skip"
    }
   },
   "outputs": [],
   "source": [
    "import pedsfhelp\n",
    "\n",
    "df2 = pedsfhelp.make_clean_dataframe('pedsf.salivarygland.cancer.txt')\n",
    "#print(df2.shape)"
   ]
  },
  {
   "cell_type": "markdown",
   "metadata": {
    "slideshow": {
     "slide_type": "slide"
    }
   },
   "source": [
    "For example, in the ```pedsf.salivarygland.cancer.txt```, the cancer sites for the first tumor listed for each patient has the following distribution:"
   ]
  },
  {
   "cell_type": "code",
   "execution_count": 12,
   "metadata": {
    "collapsed": false,
    "slideshow": {
     "slide_type": "skip"
    }
   },
   "outputs": [],
   "source": [
    "# Import Bokeh modules for interactive plotting\n",
    "#import bokeh.io\n",
    "#import bokeh.mpl\n",
    "#import bokeh.plotting\n",
    "#from bokeh.resources import CDN\n",
    "\n",
    "# Set up Bokeh for inline viewing\n",
    "#bokeh.io.output_notebook(resources=CDN)"
   ]
  },
  {
   "cell_type": "code",
   "execution_count": 13,
   "metadata": {
    "collapsed": false,
    "slideshow": {
     "slide_type": "slide"
    }
   },
   "outputs": [
    {
     "data": {
      "image/png": "[encoded data removed]",
      "text/plain": [
       "<matplotlib.figure.Figure at 0x2c987160>"
      ]
     },
     "metadata": {},
     "output_type": "display_data"
    }
   ],
   "source": [
    "df2.siterwho1.value_counts()[:10][::-1].plot(kind='barh');"
   ]
  },
  {
   "cell_type": "code",
   "execution_count": 14,
   "metadata": {
    "collapsed": false,
    "slideshow": {
     "slide_type": "slide"
    }
   },
   "outputs": [
    {
     "data": {
      "text/html": [
       "\n",
       "    <div class=\"bk-banner\">\n",
       "        <a href=\"http://bokeh.pydata.org\" target=\"_blank\" class=\"bk-logo bk-logo-small bk-logo-notebook\"></a>\n",
       "        <span id=\"94e9b379-cec9-4660-a9ba-2240b5a55a5c\">Loading BokehJS ...</span>\n",
       "    </div>"
      ]
     },
     "metadata": {},
     "output_type": "display_data"
    },
    {
     "data": {
      "application/javascript": [
       "\n",
       "(function(global) {\n",
       "  function now() {\n",
       "    return new Date();\n",
       "  }\n",
       "\n",
       "  if (typeof (window._bokeh_onload_callbacks) === \"undefined\") {\n",
       "    window._bokeh_onload_callbacks = [];\n",
       "  }\n",
       "\n",
       "  function run_callbacks() {\n",
       "    window._bokeh_onload_callbacks.forEach(function(callback) { callback() });\n",
       "    delete window._bokeh_onload_callbacks\n",
       "    console.info(\"Bokeh: all callbacks have finished\");\n",
       "  }\n",
       "\n",
       "  function load_libs(js_urls, callback) {\n",
       "    window._bokeh_onload_callbacks.push(callback);\n",
       "    if (window._bokeh_is_loading > 0) {\n",
       "      console.log(\"Bokeh: BokehJS is being loaded, scheduling callback at\", now());\n",
       "      return null;\n",
       "    }\n",
       "    if (js_urls == null || js_urls.length === 0) {\n",
       "      run_callbacks();\n",
       "      return null;\n",
       "    }\n",
       "    console.log(\"Bokeh: BokehJS not loaded, scheduling load and callback at\", now());\n",
       "    window._bokeh_is_loading = js_urls.length;\n",
       "    for (var i = 0; i < js_urls.length; i++) {\n",
       "      var url = js_urls[i];\n",
       "      var s = document.createElement('script');\n",
       "      s.src = url;\n",
       "      s.async = false;\n",
       "      s.onreadystatechange = s.onload = function() {\n",
       "        window._bokeh_is_loading--;\n",
       "        if (window._bokeh_is_loading === 0) {\n",
       "          console.log(\"Bokeh: all BokehJS libraries loaded\");\n",
       "          run_callbacks()\n",
       "        }\n",
       "      };\n",
       "      s.onerror = function() {\n",
       "        console.warn(\"failed to load library \" + url);\n",
       "      };\n",
       "      console.log(\"Bokeh: injecting script tag for BokehJS library: \", url);\n",
       "      document.getElementsByTagName(\"head\")[0].appendChild(s);\n",
       "    }\n",
       "  };\n",
       "\n",
       "  var js_urls = ['https://cdn.pydata.org/bokeh/release/bokeh-0.11.1.min.js', 'https://cdn.pydata.org/bokeh/release/bokeh-widgets-0.11.1.min.js', 'https://cdn.pydata.org/bokeh/release/bokeh-compiler-0.11.1.min.js'];\n",
       "\n",
       "  var inline_js = [\n",
       "    function(Bokeh) {\n",
       "      Bokeh.set_log_level(\"info\");\n",
       "    },\n",
       "    \n",
       "    function(Bokeh) {\n",
       "      Bokeh.$(\"#94e9b379-cec9-4660-a9ba-2240b5a55a5c\").text(\"BokehJS successfully loaded\");\n",
       "    },\n",
       "    function(Bokeh) {\n",
       "      console.log(\"Bokeh: injecting CSS: https://cdn.pydata.org/bokeh/release/bokeh-0.11.1.min.css\");\n",
       "      Bokeh.embed.inject_css(\"https://cdn.pydata.org/bokeh/release/bokeh-0.11.1.min.css\");\n",
       "      console.log(\"Bokeh: injecting CSS: https://cdn.pydata.org/bokeh/release/bokeh-widgets-0.11.1.min.css\");\n",
       "      Bokeh.embed.inject_css(\"https://cdn.pydata.org/bokeh/release/bokeh-widgets-0.11.1.min.css\");\n",
       "    }\n",
       "  ];\n",
       "\n",
       "  function run_inline_js() {\n",
       "    for (var i = 0; i < inline_js.length; i++) {\n",
       "      inline_js[i](window.Bokeh);\n",
       "    }\n",
       "  }\n",
       "\n",
       "  if (window._bokeh_is_loading === 0) {\n",
       "    console.log(\"Bokeh: BokehJS loaded, going straight to plotting\");\n",
       "    run_inline_js();\n",
       "  } else {\n",
       "    load_libs(js_urls, function() {\n",
       "      console.log(\"Bokeh: BokehJS plotting callback run at\", now());\n",
       "      run_inline_js();\n",
       "    });\n",
       "  }\n",
       "}(this));"
      ]
     },
     "metadata": {},
     "output_type": "display_data"
    }
   ],
   "source": [
    "from bokeh.io import output_notebook\n",
    "from bokeh.resources import CDN\n",
    "from bokeh.plotting import figure, show\n",
    "output_notebook(resources=CDN)"
   ]
  },
  {
   "cell_type": "code",
   "execution_count": 16,
   "metadata": {
    "collapsed": false,
    "slideshow": {
     "slide_type": "slide"
    }
   },
   "outputs": [
    {
     "data": {
      "text/html": [
       "\n",
       "\n",
       "    <div class=\"plotdiv\" id=\"d421b65f-0d15-46d6-b416-61f7abdeb554\"></div>\n",
       "<script type=\"text/javascript\">\n",
       "  \n",
       "  (function(global) {\n",
       "    function now() {\n",
       "      return new Date();\n",
       "    }\n",
       "  \n",
       "    if (typeof (window._bokeh_onload_callbacks) === \"undefined\") {\n",
       "      window._bokeh_onload_callbacks = [];\n",
       "    }\n",
       "  \n",
       "    function run_callbacks() {\n",
       "      window._bokeh_onload_callbacks.forEach(function(callback) { callback() });\n",
       "      delete window._bokeh_onload_callbacks\n",
       "      console.info(\"Bokeh: all callbacks have finished\");\n",
       "    }\n",
       "  \n",
       "    function load_libs(js_urls, callback) {\n",
       "      window._bokeh_onload_callbacks.push(callback);\n",
       "      if (window._bokeh_is_loading > 0) {\n",
       "        console.log(\"Bokeh: BokehJS is being loaded, scheduling callback at\", now());\n",
       "        return null;\n",
       "      }\n",
       "      if (js_urls == null || js_urls.length === 0) {\n",
       "        run_callbacks();\n",
       "        return null;\n",
       "      }\n",
       "      console.log(\"Bokeh: BokehJS not loaded, scheduling load and callback at\", now());\n",
       "      window._bokeh_is_loading = js_urls.length;\n",
       "      for (var i = 0; i < js_urls.length; i++) {\n",
       "        var url = js_urls[i];\n",
       "        var s = document.createElement('script');\n",
       "        s.src = url;\n",
       "        s.async = false;\n",
       "        s.onreadystatechange = s.onload = function() {\n",
       "          window._bokeh_is_loading--;\n",
       "          if (window._bokeh_is_loading === 0) {\n",
       "            console.log(\"Bokeh: all BokehJS libraries loaded\");\n",
       "            run_callbacks()\n",
       "          }\n",
       "        };\n",
       "        s.onerror = function() {\n",
       "          console.warn(\"failed to load library \" + url);\n",
       "        };\n",
       "        console.log(\"Bokeh: injecting script tag for BokehJS library: \", url);\n",
       "        document.getElementsByTagName(\"head\")[0].appendChild(s);\n",
       "      }\n",
       "    };var element = document.getElementById(\"d421b65f-0d15-46d6-b416-61f7abdeb554\");\n",
       "    if (element == null) {\n",
       "      console.log(\"Bokeh: ERROR: autoload.js configured with elementid 'd421b65f-0d15-46d6-b416-61f7abdeb554' but no matching script tag was found. \")\n",
       "      return false;\n",
       "    }\n",
       "  \n",
       "    var js_urls = [];\n",
       "  \n",
       "    var inline_js = [\n",
       "      function(Bokeh) {\n",
       "        Bokeh.$(function() {\n",
       "            var docs_json = {\"da31465b-79d3-4dc8-ad9d-0f6f108b1bd7\":{\"roots\":{\"references\":[{\"attributes\":{},\"id\":\"d88ef595-9ea3-48bb-acb1-dc82f7c34258\",\"type\":\"CategoricalTicker\"},{\"attributes\":{\"data_source\":{\"id\":\"aaa3c181-c515-41b5-a898-d35c1b697769\",\"type\":\"ColumnDataSource\"},\"glyph\":{\"id\":\"87b1e45f-847a-4d13-97e0-6b9f1dffc0b6\",\"type\":\"Rect\"},\"hover_glyph\":null,\"nonselection_glyph\":null,\"selection_glyph\":null},\"id\":\"d0cbb081-4532-4173-8524-8e6b4125e8ff\",\"type\":\"GlyphRenderer\"},{\"attributes\":{\"fill_alpha\":{\"field\":\"fill_alpha\"},\"fill_color\":{\"field\":\"color\"},\"height\":{\"field\":\"height\",\"units\":\"data\"},\"line_color\":{\"field\":\"line_color\"},\"width\":{\"field\":\"width\",\"units\":\"data\"},\"x\":{\"field\":\"x\"},\"y\":{\"field\":\"y\"}},\"id\":\"87b1e45f-847a-4d13-97e0-6b9f1dffc0b6\",\"type\":\"Rect\"},{\"attributes\":{},\"id\":\"ccd3b0ac-e113-4b55-b672-00f9db6e6b4f\",\"type\":\"BasicTickFormatter\"},{\"attributes\":{\"formatter\":{\"id\":\"a7b457dd-3af4-4903-a2c0-b5ecd5fe12c0\",\"type\":\"CategoricalTickFormatter\"},\"major_label_orientation\":0.7853981633974483,\"plot\":{\"id\":\"6efe7365-8698-4e9a-b95d-06c8715f4ec4\",\"subtype\":\"Chart\",\"type\":\"Plot\"},\"ticker\":{\"id\":\"f727eb03-6e1f-4447-b364-1ce446831f70\",\"type\":\"CategoricalTicker\"}},\"id\":\"3931045a-038e-499b-aabb-da0ab7baeaf8\",\"type\":\"CategoricalAxis\"},{\"attributes\":{\"plot\":{\"id\":\"6efe7365-8698-4e9a-b95d-06c8715f4ec4\",\"subtype\":\"Chart\",\"type\":\"Plot\"}},\"id\":\"09b2ac0c-c3e9-4c25-8225-33ce6e8711be\",\"type\":\"ResizeTool\"},{\"attributes\":{},\"id\":\"d77d0b7c-3e90-4c6c-a460-6372806cfceb\",\"type\":\"BasicTicker\"},{\"attributes\":{\"fill_alpha\":{\"field\":\"fill_alpha\"},\"fill_color\":{\"field\":\"color\"},\"height\":{\"field\":\"height\",\"units\":\"data\"},\"line_color\":{\"field\":\"line_color\"},\"width\":{\"field\":\"width\",\"units\":\"data\"},\"x\":{\"field\":\"x\"},\"y\":{\"field\":\"y\"}},\"id\":\"6614ab38-9b07-4e8c-bdcb-4d9f794118fb\",\"type\":\"Rect\"},{\"attributes\":{\"callback\":null,\"column_names\":[\"x\",\"line_color\",\"width\",\"fill_alpha\",\"color\",\"height\",\"y\",\"line_alpha\"],\"data\":{\"chart_index\":[{\"index\":\"Chronic Lymphocytic Leukemia\"}],\"color\":[\"#f22c40\"],\"fill_alpha\":[0.8],\"height\":[28.0],\"index\":[\"Chronic Lymphocytic Leukemia\"],\"line_alpha\":[1.0],\"line_color\":[\"white\"],\"width\":[0.8],\"x\":[\"Chronic Lymphocytic Leukemia\"],\"y\":[14.0]}},\"id\":\"0e9f1dbb-7e27-4450-b20c-9fe7479ae6cb\",\"type\":\"ColumnDataSource\"},{\"attributes\":{\"callback\":null,\"column_names\":[\"x\",\"line_color\",\"width\",\"fill_alpha\",\"color\",\"height\",\"y\",\"line_alpha\"],\"data\":{\"chart_index\":[{\"index\":\"Prostate\"}],\"color\":[\"#f22c40\"],\"fill_alpha\":[0.8],\"height\":[190.0],\"index\":[\"Prostate\"],\"line_alpha\":[1.0],\"line_color\":[\"white\"],\"width\":[0.8],\"x\":[\"Prostate\"],\"y\":[95.0]}},\"id\":\"29f119fe-3eae-4c0b-98ed-4f3dcbe548f4\",\"type\":\"ColumnDataSource\"},{\"attributes\":{\"plot\":{\"id\":\"47d9d0d6-6a32-47c5-9b9d-244c95592545\",\"subtype\":\"Chart\",\"type\":\"Plot\"}},\"id\":\"e09baae2-834a-4d65-9f70-ddb69d73d318\",\"type\":\"WheelZoomTool\"},{\"attributes\":{\"formatter\":{\"id\":\"0744f47f-3f11-498d-9908-0136fe580119\",\"type\":\"CategoricalTickFormatter\"},\"major_label_orientation\":0.7853981633974483,\"plot\":{\"id\":\"47d9d0d6-6a32-47c5-9b9d-244c95592545\",\"subtype\":\"Chart\",\"type\":\"Plot\"},\"ticker\":{\"id\":\"d88ef595-9ea3-48bb-acb1-dc82f7c34258\",\"type\":\"CategoricalTicker\"}},\"id\":\"2ca8417c-b5c7-4353-8f5a-b3000b16c6da\",\"type\":\"CategoricalAxis\"},{\"attributes\":{\"overlay\":{\"id\":\"f032756b-d3ae-4f00-8fef-3cbd558716af\",\"type\":\"BoxAnnotation\"},\"plot\":{\"id\":\"6efe7365-8698-4e9a-b95d-06c8715f4ec4\",\"subtype\":\"Chart\",\"type\":\"Plot\"}},\"id\":\"44227dcb-acb8-4fb4-ab61-12433e3cb535\",\"type\":\"BoxZoomTool\"},{\"attributes\":{\"callback\":null,\"column_names\":[\"x\",\"line_color\",\"width\",\"fill_alpha\",\"color\",\"height\",\"y\",\"line_alpha\"],\"data\":{\"chart_index\":[{\"index\":\"Urinary Bladder\"}],\"color\":[\"#f22c40\"],\"fill_alpha\":[0.8],\"height\":[39.0],\"index\":[\"Urinary Bladder\"],\"line_alpha\":[1.0],\"line_color\":[\"white\"],\"width\":[0.8],\"x\":[\"Urinary Bladder\"],\"y\":[19.5]}},\"id\":\"50c834d3-4ee0-4881-b108-661893b7e654\",\"type\":\"ColumnDataSource\"},{\"attributes\":{\"data_source\":{\"id\":\"7dafa5b6-5681-4bd7-a004-563b450c7754\",\"type\":\"ColumnDataSource\"},\"glyph\":{\"id\":\"0242ddab-d03a-4564-9ffb-0756e368a072\",\"type\":\"Rect\"},\"hover_glyph\":null,\"nonselection_glyph\":null,\"selection_glyph\":null},\"id\":\"2b8277aa-a50b-4002-bf04-e71cc3b48b39\",\"type\":\"GlyphRenderer\"},{\"attributes\":{\"data_source\":{\"id\":\"0e9f1dbb-7e27-4450-b20c-9fe7479ae6cb\",\"type\":\"ColumnDataSource\"},\"glyph\":{\"id\":\"30e30ed5-31a8-41ec-8443-56c96b5c5652\",\"type\":\"Rect\"},\"hover_glyph\":null,\"nonselection_glyph\":null,\"selection_glyph\":null},\"id\":\"f5341261-950a-44e0-afb5-7e426c5e6b6f\",\"type\":\"GlyphRenderer\"},{\"attributes\":{\"callback\":null,\"end\":3404.1},\"id\":\"ca2570b6-1201-4418-9a7d-13e07a2c49c6\",\"type\":\"Range1d\"},{\"attributes\":{\"dimension\":1,\"plot\":{\"id\":\"47d9d0d6-6a32-47c5-9b9d-244c95592545\",\"subtype\":\"Chart\",\"type\":\"Plot\"},\"ticker\":{\"id\":\"6647aa79-d92f-4444-a0cb-d0596b1ff874\",\"type\":\"BasicTicker\"}},\"id\":\"704e49f9-1f6a-4d4e-8bd5-e158c2d594f7\",\"type\":\"Grid\"},{\"attributes\":{\"plot\":{\"id\":\"6efe7365-8698-4e9a-b95d-06c8715f4ec4\",\"subtype\":\"Chart\",\"type\":\"Plot\"}},\"id\":\"3a411397-a691-476c-a18c-13350a9d227b\",\"type\":\"PreviewSaveTool\"},{\"attributes\":{\"callback\":null,\"column_names\":[\"x\",\"line_color\",\"width\",\"fill_alpha\",\"color\",\"height\",\"y\",\"line_alpha\"],\"data\":{\"chart_index\":[{\"index\":\"Chronic Lymphocytic Leukemia\"}],\"color\":[\"#f22c40\"],\"fill_alpha\":[0.8],\"height\":[28.0],\"index\":[\"Chronic Lymphocytic Leukemia\"],\"line_alpha\":[1.0],\"line_color\":[\"white\"],\"width\":[0.8],\"x\":[\"Chronic Lymphocytic Leukemia\"],\"y\":[14.0]}},\"id\":\"ca2051db-5247-4698-859d-e24246905f78\",\"type\":\"ColumnDataSource\"},{\"attributes\":{\"fill_alpha\":{\"field\":\"fill_alpha\"},\"fill_color\":{\"field\":\"color\"},\"height\":{\"field\":\"height\",\"units\":\"data\"},\"line_color\":{\"field\":\"line_color\"},\"width\":{\"field\":\"width\",\"units\":\"data\"},\"x\":{\"field\":\"x\"},\"y\":{\"field\":\"y\"}},\"id\":\"81744c63-ba94-4b62-9ada-62aa3f614256\",\"type\":\"Rect\"},{\"attributes\":{\"callback\":null,\"column_names\":[\"x\",\"line_color\",\"width\",\"fill_alpha\",\"color\",\"height\",\"y\",\"line_alpha\"],\"data\":{\"chart_index\":[{\"index\":\"Salivary Gland\"}],\"color\":[\"#f22c40\"],\"fill_alpha\":[0.8],\"height\":[3242.0],\"index\":[\"Salivary Gland\"],\"line_alpha\":[1.0],\"line_color\":[\"white\"],\"width\":[0.8],\"x\":[\"Salivary Gland\"],\"y\":[1621.0]}},\"id\":\"bb8e6a1e-904d-4278-bacf-82eda193e102\",\"type\":\"ColumnDataSource\"},{\"attributes\":{\"axis_label\":\"Sum( Siterwho1 )\",\"formatter\":{\"id\":\"1645f0db-83e9-44bf-937f-8283ee65d60e\",\"type\":\"BasicTickFormatter\"},\"plot\":{\"id\":\"6efe7365-8698-4e9a-b95d-06c8715f4ec4\",\"subtype\":\"Chart\",\"type\":\"Plot\"},\"ticker\":{\"id\":\"d77d0b7c-3e90-4c6c-a460-6372806cfceb\",\"type\":\"BasicTicker\"}},\"id\":\"069ecf1c-3700-4229-addb-673f04171b9a\",\"type\":\"LinearAxis\"},{\"attributes\":{\"data_source\":{\"id\":\"f2413991-53db-469c-b944-c5199109bede\",\"type\":\"ColumnDataSource\"},\"glyph\":{\"id\":\"2f0f646f-2bca-4f9d-ac9b-b32ba9eb23e1\",\"type\":\"Rect\"},\"hover_glyph\":null,\"nonselection_glyph\":null,\"selection_glyph\":null},\"id\":\"e007e211-12ca-44df-8fac-1653efe2e427\",\"type\":\"GlyphRenderer\"},{\"attributes\":{\"callback\":null,\"column_names\":[\"x\",\"line_color\",\"width\",\"fill_alpha\",\"color\",\"height\",\"y\",\"line_alpha\"],\"data\":{\"chart_index\":[{\"index\":\"Melanoma of the Skin\"}],\"color\":[\"#f22c40\"],\"fill_alpha\":[0.8],\"height\":[96.0],\"index\":[\"Melanoma of the Skin\"],\"line_alpha\":[1.0],\"line_color\":[\"white\"],\"width\":[0.8],\"x\":[\"Melanoma of the Skin\"],\"y\":[48.0]}},\"id\":\"7dafa5b6-5681-4bd7-a004-563b450c7754\",\"type\":\"ColumnDataSource\"},{\"attributes\":{\"fill_alpha\":{\"field\":\"fill_alpha\"},\"fill_color\":{\"field\":\"color\"},\"height\":{\"field\":\"height\",\"units\":\"data\"},\"line_color\":{\"field\":\"line_color\"},\"width\":{\"field\":\"width\",\"units\":\"data\"},\"x\":{\"field\":\"x\"},\"y\":{\"field\":\"y\"}},\"id\":\"9a1e342d-776b-44c1-baa1-d2ed782bf804\",\"type\":\"Rect\"},{\"attributes\":{\"fill_alpha\":{\"field\":\"fill_alpha\"},\"fill_color\":{\"field\":\"color\"},\"height\":{\"field\":\"height\",\"units\":\"data\"},\"line_color\":{\"field\":\"line_color\"},\"width\":{\"field\":\"width\",\"units\":\"data\"},\"x\":{\"field\":\"x\"},\"y\":{\"field\":\"y\"}},\"id\":\"f5731774-158f-45a9-9e93-65d03ce7dea6\",\"type\":\"Rect\"},{\"attributes\":{\"below\":[{\"id\":\"3931045a-038e-499b-aabb-da0ab7baeaf8\",\"type\":\"CategoricalAxis\"}],\"left\":[{\"id\":\"069ecf1c-3700-4229-addb-673f04171b9a\",\"type\":\"LinearAxis\"}],\"legend\":null,\"renderers\":[{\"id\":\"f032756b-d3ae-4f00-8fef-3cbd558716af\",\"type\":\"BoxAnnotation\"},{\"id\":\"d0cbb081-4532-4173-8524-8e6b4125e8ff\",\"type\":\"GlyphRenderer\"},{\"id\":\"eb74fdcb-3f74-49b6-9503-f648094a591c\",\"type\":\"GlyphRenderer\"},{\"id\":\"83e61654-42c0-4f2f-9b83-61cb34c08b0f\",\"type\":\"GlyphRenderer\"},{\"id\":\"a86740b4-f733-44c3-b137-7772bb2c4d83\",\"type\":\"GlyphRenderer\"},{\"id\":\"69e9bd12-d060-4627-b848-2fbd0bf5e368\",\"type\":\"GlyphRenderer\"},{\"id\":\"eb05705a-f07d-49be-afdc-0a61c74e3793\",\"type\":\"GlyphRenderer\"},{\"id\":\"3e2d759f-4165-4f69-add1-54cf03f5126b\",\"type\":\"GlyphRenderer\"},{\"id\":\"1c57a515-cf5b-4fb7-b1e1-77e5a1d5f894\",\"type\":\"GlyphRenderer\"},{\"id\":\"0d271012-ce67-404c-ab12-3d3642e4475e\",\"type\":\"GlyphRenderer\"},{\"id\":\"3d2375fb-7f12-463c-8c10-459967caf60a\",\"type\":\"GlyphRenderer\"},{\"id\":\"3931045a-038e-499b-aabb-da0ab7baeaf8\",\"type\":\"CategoricalAxis\"},{\"id\":\"069ecf1c-3700-4229-addb-673f04171b9a\",\"type\":\"LinearAxis\"},{\"id\":\"22cc7e2a-8f5b-41df-bd14-54dcded281ca\",\"type\":\"Grid\"}],\"title_text_font_size\":{\"value\":\"14pt\"},\"tool_events\":{\"id\":\"e49d8b00-a9eb-47ce-abb3-388e80b39feb\",\"type\":\"ToolEvents\"},\"tools\":[{\"id\":\"3beaee05-c058-481c-abb2-5bc1b08aef39\",\"type\":\"PanTool\"},{\"id\":\"7f360951-83c2-4556-85bd-25ab7ffae51a\",\"type\":\"WheelZoomTool\"},{\"id\":\"44227dcb-acb8-4fb4-ab61-12433e3cb535\",\"type\":\"BoxZoomTool\"},{\"id\":\"3a411397-a691-476c-a18c-13350a9d227b\",\"type\":\"PreviewSaveTool\"},{\"id\":\"09b2ac0c-c3e9-4c25-8225-33ce6e8711be\",\"type\":\"ResizeTool\"},{\"id\":\"77db9287-4265-44e0-9c0a-e1a91073dff5\",\"type\":\"ResetTool\"},{\"id\":\"e6a305a0-f3fd-415a-ad3b-a0b41ade6ccb\",\"type\":\"HelpTool\"}],\"x_mapper_type\":\"auto\",\"x_range\":{\"id\":\"29d54b4f-7454-49ad-893e-485526b649be\",\"type\":\"FactorRange\"},\"xgrid\":false,\"xscale\":\"auto\",\"y_mapper_type\":\"auto\",\"y_range\":{\"id\":\"82f4c8a7-c95e-4c52-89ee-4cf9399e622b\",\"type\":\"Range1d\"},\"yscale\":\"auto\"},\"id\":\"6efe7365-8698-4e9a-b95d-06c8715f4ec4\",\"subtype\":\"Chart\",\"type\":\"Plot\"},{\"attributes\":{\"callback\":null,\"end\":3404.1},\"id\":\"82f4c8a7-c95e-4c52-89ee-4cf9399e622b\",\"type\":\"Range1d\"},{\"attributes\":{\"data_source\":{\"id\":\"168f15b6-a1ba-424b-aa8c-8b8dd552986f\",\"type\":\"ColumnDataSource\"},\"glyph\":{\"id\":\"c484dbca-bbad-484b-8337-d5c8932ea54f\",\"type\":\"Rect\"},\"hover_glyph\":null,\"nonselection_glyph\":null,\"selection_glyph\":null},\"id\":\"99468470-e2c4-44d7-b516-5b4e7cf5cd82\",\"type\":\"GlyphRenderer\"},{\"attributes\":{\"data_source\":{\"id\":\"587c0c53-17c0-49a3-9553-1500d45bb852\",\"type\":\"ColumnDataSource\"},\"glyph\":{\"id\":\"e954845c-e3d4-4175-afa7-2e2ba113b23c\",\"type\":\"Rect\"},\"hover_glyph\":null,\"nonselection_glyph\":null,\"selection_glyph\":null},\"id\":\"3e2d759f-4165-4f69-add1-54cf03f5126b\",\"type\":\"GlyphRenderer\"},{\"attributes\":{\"callback\":null,\"column_names\":[\"x\",\"line_color\",\"width\",\"fill_alpha\",\"color\",\"height\",\"y\",\"line_alpha\"],\"data\":{\"chart_index\":[{\"index\":\"Prostate\"}],\"color\":[\"#f22c40\"],\"fill_alpha\":[0.8],\"height\":[190.0],\"index\":[\"Prostate\"],\"line_alpha\":[1.0],\"line_color\":[\"white\"],\"width\":[0.8],\"x\":[\"Prostate\"],\"y\":[95.0]}},\"id\":\"cd561fa0-5ebe-4009-9450-564622fcddff\",\"type\":\"ColumnDataSource\"},{\"attributes\":{\"callback\":null,\"column_names\":[\"x\",\"line_color\",\"width\",\"fill_alpha\",\"color\",\"height\",\"y\",\"line_alpha\"],\"data\":{\"chart_index\":[{\"index\":\"Melanoma of the Skin\"}],\"color\":[\"#f22c40\"],\"fill_alpha\":[0.8],\"height\":[96.0],\"index\":[\"Melanoma of the Skin\"],\"line_alpha\":[1.0],\"line_color\":[\"white\"],\"width\":[0.8],\"x\":[\"Melanoma of the Skin\"],\"y\":[48.0]}},\"id\":\"587c0c53-17c0-49a3-9553-1500d45bb852\",\"type\":\"ColumnDataSource\"},{\"attributes\":{\"data_source\":{\"id\":\"f95c4cd7-ce43-4df5-935f-0bda6e9b02b7\",\"type\":\"ColumnDataSource\"},\"glyph\":{\"id\":\"41a3c262-a579-4747-839d-459c4ad538d7\",\"type\":\"Rect\"},\"hover_glyph\":null,\"nonselection_glyph\":null,\"selection_glyph\":null},\"id\":\"a86740b4-f733-44c3-b137-7772bb2c4d83\",\"type\":\"GlyphRenderer\"},{\"attributes\":{\"fill_alpha\":{\"field\":\"fill_alpha\"},\"fill_color\":{\"field\":\"color\"},\"height\":{\"field\":\"height\",\"units\":\"data\"},\"line_color\":{\"field\":\"line_color\"},\"width\":{\"field\":\"width\",\"units\":\"data\"},\"x\":{\"field\":\"x\"},\"y\":{\"field\":\"y\"}},\"id\":\"e954845c-e3d4-4175-afa7-2e2ba113b23c\",\"type\":\"Rect\"},{\"attributes\":{\"data_source\":{\"id\":\"93b81515-61fd-4fed-b06c-333a99ccf746\",\"type\":\"ColumnDataSource\"},\"glyph\":{\"id\":\"2aadb2b9-e41a-4a79-83cf-5d1853a90de5\",\"type\":\"Rect\"},\"hover_glyph\":null,\"nonselection_glyph\":null,\"selection_glyph\":null},\"id\":\"db151e31-0efb-438a-b96f-593a47cd2270\",\"type\":\"GlyphRenderer\"},{\"attributes\":{\"fill_alpha\":{\"field\":\"fill_alpha\"},\"fill_color\":{\"field\":\"color\"},\"height\":{\"field\":\"height\",\"units\":\"data\"},\"line_color\":{\"field\":\"line_color\"},\"width\":{\"field\":\"width\",\"units\":\"data\"},\"x\":{\"field\":\"x\"},\"y\":{\"field\":\"y\"}},\"id\":\"30e30ed5-31a8-41ec-8443-56c96b5c5652\",\"type\":\"Rect\"},{\"attributes\":{\"fill_alpha\":{\"field\":\"fill_alpha\"},\"fill_color\":{\"field\":\"color\"},\"height\":{\"field\":\"height\",\"units\":\"data\"},\"line_color\":{\"field\":\"line_color\"},\"width\":{\"field\":\"width\",\"units\":\"data\"},\"x\":{\"field\":\"x\"},\"y\":{\"field\":\"y\"}},\"id\":\"2f0f646f-2bca-4f9d-ac9b-b32ba9eb23e1\",\"type\":\"Rect\"},{\"attributes\":{\"axis_label\":\"Sum( Siterwho1 )\",\"formatter\":{\"id\":\"ccd3b0ac-e113-4b55-b672-00f9db6e6b4f\",\"type\":\"BasicTickFormatter\"},\"plot\":{\"id\":\"47d9d0d6-6a32-47c5-9b9d-244c95592545\",\"subtype\":\"Chart\",\"type\":\"Plot\"},\"ticker\":{\"id\":\"6647aa79-d92f-4444-a0cb-d0596b1ff874\",\"type\":\"BasicTicker\"}},\"id\":\"791e5277-9275-4ba5-9ccf-206547a62475\",\"type\":\"LinearAxis\"},{\"attributes\":{\"data_source\":{\"id\":\"e58478ce-5109-4c53-b3a3-ec31afa7849c\",\"type\":\"ColumnDataSource\"},\"glyph\":{\"id\":\"b3d3f24c-99b0-4552-9aa0-0c10327fcdb4\",\"type\":\"Rect\"},\"hover_glyph\":null,\"nonselection_glyph\":null,\"selection_glyph\":null},\"id\":\"dff079e5-50b2-47cb-a945-4d0bb2cca6ba\",\"type\":\"GlyphRenderer\"},{\"attributes\":{\"fill_alpha\":{\"field\":\"fill_alpha\"},\"fill_color\":{\"field\":\"color\"},\"height\":{\"field\":\"height\",\"units\":\"data\"},\"line_color\":{\"field\":\"line_color\"},\"width\":{\"field\":\"width\",\"units\":\"data\"},\"x\":{\"field\":\"x\"},\"y\":{\"field\":\"y\"}},\"id\":\"b3d3f24c-99b0-4552-9aa0-0c10327fcdb4\",\"type\":\"Rect\"},{\"attributes\":{},\"id\":\"1645f0db-83e9-44bf-937f-8283ee65d60e\",\"type\":\"BasicTickFormatter\"},{\"attributes\":{\"plot\":{\"id\":\"47d9d0d6-6a32-47c5-9b9d-244c95592545\",\"subtype\":\"Chart\",\"type\":\"Plot\"}},\"id\":\"ace111d3-f520-49bd-9091-689e51bb8205\",\"type\":\"ResizeTool\"},{\"attributes\":{\"data_source\":{\"id\":\"1ab63fcb-fd1f-4cd9-99c9-a935fbdcb6c6\",\"type\":\"ColumnDataSource\"},\"glyph\":{\"id\":\"0f86d62c-f1cb-4e63-a7cd-1e9add824d68\",\"type\":\"Rect\"},\"hover_glyph\":null,\"nonselection_glyph\":null,\"selection_glyph\":null},\"id\":\"57a37bd0-c165-4c3a-9338-b2e20f111e5e\",\"type\":\"GlyphRenderer\"},{\"attributes\":{\"fill_alpha\":{\"field\":\"fill_alpha\"},\"fill_color\":{\"field\":\"color\"},\"height\":{\"field\":\"height\",\"units\":\"data\"},\"line_color\":{\"field\":\"line_color\"},\"width\":{\"field\":\"width\",\"units\":\"data\"},\"x\":{\"field\":\"x\"},\"y\":{\"field\":\"y\"}},\"id\":\"0242ddab-d03a-4564-9ffb-0756e368a072\",\"type\":\"Rect\"},{\"attributes\":{\"plot\":{\"id\":\"6efe7365-8698-4e9a-b95d-06c8715f4ec4\",\"subtype\":\"Chart\",\"type\":\"Plot\"}},\"id\":\"3beaee05-c058-481c-abb2-5bc1b08aef39\",\"type\":\"PanTool\"},{\"attributes\":{\"callback\":null,\"column_names\":[\"x\",\"line_color\",\"width\",\"fill_alpha\",\"color\",\"height\",\"y\",\"line_alpha\"],\"data\":{\"chart_index\":[{\"index\":\"Urinary Bladder\"}],\"color\":[\"#f22c40\"],\"fill_alpha\":[0.8],\"height\":[39.0],\"index\":[\"Urinary Bladder\"],\"line_alpha\":[1.0],\"line_color\":[\"white\"],\"width\":[0.8],\"x\":[\"Urinary Bladder\"],\"y\":[19.5]}},\"id\":\"49e08bfc-62ad-4a43-a6e9-6b8e940843fb\",\"type\":\"ColumnDataSource\"},{\"attributes\":{\"callback\":null,\"column_names\":[\"x\",\"line_color\",\"width\",\"fill_alpha\",\"color\",\"height\",\"y\",\"line_alpha\"],\"data\":{\"chart_index\":[{\"index\":\"Lung and Bronchus\"}],\"color\":[\"#f22c40\"],\"fill_alpha\":[0.8],\"height\":[33.0],\"index\":[\"Lung and Bronchus\"],\"line_alpha\":[1.0],\"line_color\":[\"white\"],\"width\":[0.8],\"x\":[\"Lung and Bronchus\"],\"y\":[16.5]}},\"id\":\"dde3ede4-2078-4372-99c8-005d960478bf\",\"type\":\"ColumnDataSource\"},{\"attributes\":{},\"id\":\"f727eb03-6e1f-4447-b364-1ce446831f70\",\"type\":\"CategoricalTicker\"},{\"attributes\":{\"data_source\":{\"id\":\"bb8e6a1e-904d-4278-bacf-82eda193e102\",\"type\":\"ColumnDataSource\"},\"glyph\":{\"id\":\"ef86e915-1b89-43d9-a68d-c18aee834325\",\"type\":\"Rect\"},\"hover_glyph\":null,\"nonselection_glyph\":null,\"selection_glyph\":null},\"id\":\"3d2375fb-7f12-463c-8c10-459967caf60a\",\"type\":\"GlyphRenderer\"},{\"attributes\":{\"plot\":{\"id\":\"47d9d0d6-6a32-47c5-9b9d-244c95592545\",\"subtype\":\"Chart\",\"type\":\"Plot\"}},\"id\":\"b7f03825-31f4-4f72-855b-039504950231\",\"type\":\"PreviewSaveTool\"},{\"attributes\":{\"callback\":null,\"column_names\":[\"x\",\"line_color\",\"width\",\"fill_alpha\",\"color\",\"height\",\"y\",\"line_alpha\"],\"data\":{\"chart_index\":[{\"index\":\"Breast\"}],\"color\":[\"#f22c40\"],\"fill_alpha\":[0.8],\"height\":[131.0],\"index\":[\"Breast\"],\"line_alpha\":[1.0],\"line_color\":[\"white\"],\"width\":[0.8],\"x\":[\"Breast\"],\"y\":[65.5]}},\"id\":\"26bfd091-1502-46d5-98ee-fa72c5172961\",\"type\":\"ColumnDataSource\"},{\"attributes\":{\"fill_alpha\":{\"field\":\"fill_alpha\"},\"fill_color\":{\"field\":\"color\"},\"height\":{\"field\":\"height\",\"units\":\"data\"},\"line_color\":{\"field\":\"line_color\"},\"width\":{\"field\":\"width\",\"units\":\"data\"},\"x\":{\"field\":\"x\"},\"y\":{\"field\":\"y\"}},\"id\":\"ef86e915-1b89-43d9-a68d-c18aee834325\",\"type\":\"Rect\"},{\"attributes\":{\"fill_alpha\":{\"field\":\"fill_alpha\"},\"fill_color\":{\"field\":\"color\"},\"height\":{\"field\":\"height\",\"units\":\"data\"},\"line_color\":{\"field\":\"line_color\"},\"width\":{\"field\":\"width\",\"units\":\"data\"},\"x\":{\"field\":\"x\"},\"y\":{\"field\":\"y\"}},\"id\":\"2aadb2b9-e41a-4a79-83cf-5d1853a90de5\",\"type\":\"Rect\"},{\"attributes\":{\"fill_alpha\":{\"field\":\"fill_alpha\"},\"fill_color\":{\"field\":\"color\"},\"height\":{\"field\":\"height\",\"units\":\"data\"},\"line_color\":{\"field\":\"line_color\"},\"width\":{\"field\":\"width\",\"units\":\"data\"},\"x\":{\"field\":\"x\"},\"y\":{\"field\":\"y\"}},\"id\":\"b92c1235-65f0-4950-aca8-7e279547b9d5\",\"type\":\"Rect\"},{\"attributes\":{\"data_source\":{\"id\":\"50c834d3-4ee0-4881-b108-661893b7e654\",\"type\":\"ColumnDataSource\"},\"glyph\":{\"id\":\"6614ab38-9b07-4e8c-bdcb-4d9f794118fb\",\"type\":\"Rect\"},\"hover_glyph\":null,\"nonselection_glyph\":null,\"selection_glyph\":null},\"id\":\"636afacc-566f-4a2c-bdf7-46ee70c450d0\",\"type\":\"GlyphRenderer\"},{\"attributes\":{\"fill_alpha\":{\"field\":\"fill_alpha\"},\"fill_color\":{\"field\":\"color\"},\"height\":{\"field\":\"height\",\"units\":\"data\"},\"line_color\":{\"field\":\"line_color\"},\"width\":{\"field\":\"width\",\"units\":\"data\"},\"x\":{\"field\":\"x\"},\"y\":{\"field\":\"y\"}},\"id\":\"f68bd78a-8347-4690-b286-00a94060d7e6\",\"type\":\"Rect\"},{\"attributes\":{\"callback\":null,\"column_names\":[\"x\",\"line_color\",\"width\",\"fill_alpha\",\"color\",\"height\",\"y\",\"line_alpha\"],\"data\":{\"chart_index\":[{\"index\":\"Thyroid\"}],\"color\":[\"#f22c40\"],\"fill_alpha\":[0.8],\"height\":[26.0],\"index\":[\"Thyroid\"],\"line_alpha\":[1.0],\"line_color\":[\"white\"],\"width\":[0.8],\"x\":[\"Thyroid\"],\"y\":[13.0]}},\"id\":\"168f15b6-a1ba-424b-aa8c-8b8dd552986f\",\"type\":\"ColumnDataSource\"},{\"attributes\":{\"callback\":null,\"factors\":[\"Breast\",\"Chronic Lymphocytic Leukemia\",\"Kidney and Renal Pelvis\",\"Lung and Bronchus\",\"Melanoma of the Skin\",\"NHL - Nodal\",\"Prostate\",\"Salivary Gland\",\"Thyroid\",\"Urinary Bladder\"]},\"id\":\"207a44ae-bce4-4567-a2c5-cf02768141c5\",\"type\":\"FactorRange\"},{\"attributes\":{\"plot\":{\"id\":\"6efe7365-8698-4e9a-b95d-06c8715f4ec4\",\"subtype\":\"Chart\",\"type\":\"Plot\"}},\"id\":\"7f360951-83c2-4556-85bd-25ab7ffae51a\",\"type\":\"WheelZoomTool\"},{\"attributes\":{\"callback\":null,\"column_names\":[\"x\",\"line_color\",\"width\",\"fill_alpha\",\"color\",\"height\",\"y\",\"line_alpha\"],\"data\":{\"chart_index\":[{\"index\":\"Breast\"}],\"color\":[\"#f22c40\"],\"fill_alpha\":[0.8],\"height\":[131.0],\"index\":[\"Breast\"],\"line_alpha\":[1.0],\"line_color\":[\"white\"],\"width\":[0.8],\"x\":[\"Breast\"],\"y\":[65.5]}},\"id\":\"1ab63fcb-fd1f-4cd9-99c9-a935fbdcb6c6\",\"type\":\"ColumnDataSource\"},{\"attributes\":{},\"id\":\"e49d8b00-a9eb-47ce-abb3-388e80b39feb\",\"type\":\"ToolEvents\"},{\"attributes\":{\"fill_alpha\":{\"field\":\"fill_alpha\"},\"fill_color\":{\"field\":\"color\"},\"height\":{\"field\":\"height\",\"units\":\"data\"},\"line_color\":{\"field\":\"line_color\"},\"width\":{\"field\":\"width\",\"units\":\"data\"},\"x\":{\"field\":\"x\"},\"y\":{\"field\":\"y\"}},\"id\":\"b98df9b1-ddbc-4d58-9531-064a1c2f584e\",\"type\":\"Rect\"},{\"attributes\":{\"callback\":null,\"column_names\":[\"x\",\"line_color\",\"width\",\"fill_alpha\",\"color\",\"height\",\"y\",\"line_alpha\"],\"data\":{\"chart_index\":[{\"index\":\"Thyroid\"}],\"color\":[\"#f22c40\"],\"fill_alpha\":[0.8],\"height\":[26.0],\"index\":[\"Thyroid\"],\"line_alpha\":[1.0],\"line_color\":[\"white\"],\"width\":[0.8],\"x\":[\"Thyroid\"],\"y\":[13.0]}},\"id\":\"6dad9a24-838e-4c84-884b-49b10e5acdcf\",\"type\":\"ColumnDataSource\"},{\"attributes\":{},\"id\":\"257d3b2e-b462-4e8f-bad5-88d88edd7623\",\"type\":\"ToolEvents\"},{\"attributes\":{\"below\":[{\"id\":\"2ca8417c-b5c7-4353-8f5a-b3000b16c6da\",\"type\":\"CategoricalAxis\"}],\"left\":[{\"id\":\"791e5277-9275-4ba5-9ccf-206547a62475\",\"type\":\"LinearAxis\"}],\"legend\":null,\"renderers\":[{\"id\":\"1b624c63-33b6-4232-9eca-9faeab9ce835\",\"type\":\"BoxAnnotation\"},{\"id\":\"db151e31-0efb-438a-b96f-593a47cd2270\",\"type\":\"GlyphRenderer\"},{\"id\":\"99468470-e2c4-44d7-b516-5b4e7cf5cd82\",\"type\":\"GlyphRenderer\"},{\"id\":\"f5341261-950a-44e0-afb5-7e426c5e6b6f\",\"type\":\"GlyphRenderer\"},{\"id\":\"e007e211-12ca-44df-8fac-1653efe2e427\",\"type\":\"GlyphRenderer\"},{\"id\":\"cd4d94a5-d25d-42c6-b14a-0e50aeb69a0d\",\"type\":\"GlyphRenderer\"},{\"id\":\"636afacc-566f-4a2c-bdf7-46ee70c450d0\",\"type\":\"GlyphRenderer\"},{\"id\":\"2b8277aa-a50b-4002-bf04-e71cc3b48b39\",\"type\":\"GlyphRenderer\"},{\"id\":\"57a37bd0-c165-4c3a-9338-b2e20f111e5e\",\"type\":\"GlyphRenderer\"},{\"id\":\"b7a8500d-cc08-47ad-9072-bc0f145b0bb0\",\"type\":\"GlyphRenderer\"},{\"id\":\"dff079e5-50b2-47cb-a945-4d0bb2cca6ba\",\"type\":\"GlyphRenderer\"},{\"id\":\"2ca8417c-b5c7-4353-8f5a-b3000b16c6da\",\"type\":\"CategoricalAxis\"},{\"id\":\"791e5277-9275-4ba5-9ccf-206547a62475\",\"type\":\"LinearAxis\"},{\"id\":\"704e49f9-1f6a-4d4e-8bd5-e158c2d594f7\",\"type\":\"Grid\"}],\"title_text_font_size\":{\"value\":\"14pt\"},\"tool_events\":{\"id\":\"257d3b2e-b462-4e8f-bad5-88d88edd7623\",\"type\":\"ToolEvents\"},\"tools\":[{\"id\":\"b0399545-e193-411d-b9b5-636f8d937785\",\"type\":\"PanTool\"},{\"id\":\"e09baae2-834a-4d65-9f70-ddb69d73d318\",\"type\":\"WheelZoomTool\"},{\"id\":\"6687369b-a0a0-4cb4-8888-a7e0ba05dd97\",\"type\":\"BoxZoomTool\"},{\"id\":\"b7f03825-31f4-4f72-855b-039504950231\",\"type\":\"PreviewSaveTool\"},{\"id\":\"ace111d3-f520-49bd-9091-689e51bb8205\",\"type\":\"ResizeTool\"},{\"id\":\"cbd1c0d8-eece-4f76-bbc7-a414d6823c4f\",\"type\":\"ResetTool\"},{\"id\":\"0f4a9cc9-37d2-48b8-9bd5-4732d7d17b89\",\"type\":\"HelpTool\"}],\"x_mapper_type\":\"auto\",\"x_range\":{\"id\":\"207a44ae-bce4-4567-a2c5-cf02768141c5\",\"type\":\"FactorRange\"},\"xgrid\":false,\"xscale\":\"auto\",\"y_mapper_type\":\"auto\",\"y_range\":{\"id\":\"ca2570b6-1201-4418-9a7d-13e07a2c49c6\",\"type\":\"Range1d\"},\"yscale\":\"auto\"},\"id\":\"47d9d0d6-6a32-47c5-9b9d-244c95592545\",\"subtype\":\"Chart\",\"type\":\"Plot\"},{\"attributes\":{\"fill_alpha\":{\"field\":\"fill_alpha\"},\"fill_color\":{\"field\":\"color\"},\"height\":{\"field\":\"height\",\"units\":\"data\"},\"line_color\":{\"field\":\"line_color\"},\"width\":{\"field\":\"width\",\"units\":\"data\"},\"x\":{\"field\":\"x\"},\"y\":{\"field\":\"y\"}},\"id\":\"41a3c262-a579-4747-839d-459c4ad538d7\",\"type\":\"Rect\"},{\"attributes\":{\"plot\":{\"id\":\"6efe7365-8698-4e9a-b95d-06c8715f4ec4\",\"subtype\":\"Chart\",\"type\":\"Plot\"}},\"id\":\"77db9287-4265-44e0-9c0a-e1a91073dff5\",\"type\":\"ResetTool\"},{\"attributes\":{\"plot\":{\"id\":\"47d9d0d6-6a32-47c5-9b9d-244c95592545\",\"subtype\":\"Chart\",\"type\":\"Plot\"}},\"id\":\"b0399545-e193-411d-b9b5-636f8d937785\",\"type\":\"PanTool\"},{\"attributes\":{},\"id\":\"a7b457dd-3af4-4903-a2c0-b5ecd5fe12c0\",\"type\":\"CategoricalTickFormatter\"},{\"attributes\":{},\"id\":\"0744f47f-3f11-498d-9908-0136fe580119\",\"type\":\"CategoricalTickFormatter\"},{\"attributes\":{\"data_source\":{\"id\":\"49e08bfc-62ad-4a43-a6e9-6b8e940843fb\",\"type\":\"ColumnDataSource\"},\"glyph\":{\"id\":\"b92c1235-65f0-4950-aca8-7e279547b9d5\",\"type\":\"Rect\"},\"hover_glyph\":null,\"nonselection_glyph\":null,\"selection_glyph\":null},\"id\":\"eb05705a-f07d-49be-afdc-0a61c74e3793\",\"type\":\"GlyphRenderer\"},{\"attributes\":{\"data_source\":{\"id\":\"dde3ede4-2078-4372-99c8-005d960478bf\",\"type\":\"ColumnDataSource\"},\"glyph\":{\"id\":\"91d2393e-54e5-48f8-b37c-df292f6602e3\",\"type\":\"Rect\"},\"hover_glyph\":null,\"nonselection_glyph\":null,\"selection_glyph\":null},\"id\":\"69e9bd12-d060-4627-b848-2fbd0bf5e368\",\"type\":\"GlyphRenderer\"},{\"attributes\":{\"callback\":null,\"column_names\":[\"x\",\"line_color\",\"width\",\"fill_alpha\",\"color\",\"height\",\"y\",\"line_alpha\"],\"data\":{\"chart_index\":[{\"index\":\"Kidney and Renal Pelvis\"}],\"color\":[\"#f22c40\"],\"fill_alpha\":[0.8],\"height\":[26.0],\"index\":[\"Kidney and Renal Pelvis\"],\"line_alpha\":[1.0],\"line_color\":[\"white\"],\"width\":[0.8],\"x\":[\"Kidney and Renal Pelvis\"],\"y\":[13.0]}},\"id\":\"aaa3c181-c515-41b5-a898-d35c1b697769\",\"type\":\"ColumnDataSource\"},{\"attributes\":{\"bottom_units\":\"screen\",\"fill_alpha\":{\"value\":0.5},\"fill_color\":{\"value\":\"lightgrey\"},\"left_units\":\"screen\",\"level\":\"overlay\",\"line_alpha\":{\"value\":1.0},\"line_color\":{\"value\":\"black\"},\"line_dash\":[4,4],\"line_width\":{\"value\":2},\"plot\":null,\"render_mode\":\"css\",\"right_units\":\"screen\",\"top_units\":\"screen\"},\"id\":\"1b624c63-33b6-4232-9eca-9faeab9ce835\",\"type\":\"BoxAnnotation\"},{\"attributes\":{\"bottom_units\":\"screen\",\"fill_alpha\":{\"value\":0.5},\"fill_color\":{\"value\":\"lightgrey\"},\"left_units\":\"screen\",\"level\":\"overlay\",\"line_alpha\":{\"value\":1.0},\"line_color\":{\"value\":\"black\"},\"line_dash\":[4,4],\"line_width\":{\"value\":2},\"plot\":null,\"render_mode\":\"css\",\"right_units\":\"screen\",\"top_units\":\"screen\"},\"id\":\"f032756b-d3ae-4f00-8fef-3cbd558716af\",\"type\":\"BoxAnnotation\"},{\"attributes\":{\"data_source\":{\"id\":\"ca2051db-5247-4698-859d-e24246905f78\",\"type\":\"ColumnDataSource\"},\"glyph\":{\"id\":\"001deee7-3758-48a7-85aa-708fb97c4474\",\"type\":\"Rect\"},\"hover_glyph\":null,\"nonselection_glyph\":null,\"selection_glyph\":null},\"id\":\"83e61654-42c0-4f2f-9b83-61cb34c08b0f\",\"type\":\"GlyphRenderer\"},{\"attributes\":{\"fill_alpha\":{\"field\":\"fill_alpha\"},\"fill_color\":{\"field\":\"color\"},\"height\":{\"field\":\"height\",\"units\":\"data\"},\"line_color\":{\"field\":\"line_color\"},\"width\":{\"field\":\"width\",\"units\":\"data\"},\"x\":{\"field\":\"x\"},\"y\":{\"field\":\"y\"}},\"id\":\"001deee7-3758-48a7-85aa-708fb97c4474\",\"type\":\"Rect\"},{\"attributes\":{\"fill_alpha\":{\"field\":\"fill_alpha\"},\"fill_color\":{\"field\":\"color\"},\"height\":{\"field\":\"height\",\"units\":\"data\"},\"line_color\":{\"field\":\"line_color\"},\"width\":{\"field\":\"width\",\"units\":\"data\"},\"x\":{\"field\":\"x\"},\"y\":{\"field\":\"y\"}},\"id\":\"c484dbca-bbad-484b-8337-d5c8932ea54f\",\"type\":\"Rect\"},{\"attributes\":{\"callback\":null,\"column_names\":[\"x\",\"line_color\",\"width\",\"fill_alpha\",\"color\",\"height\",\"y\",\"line_alpha\"],\"data\":{\"chart_index\":[{\"index\":\"Kidney and Renal Pelvis\"}],\"color\":[\"#f22c40\"],\"fill_alpha\":[0.8],\"height\":[26.0],\"index\":[\"Kidney and Renal Pelvis\"],\"line_alpha\":[1.0],\"line_color\":[\"white\"],\"width\":[0.8],\"x\":[\"Kidney and Renal Pelvis\"],\"y\":[13.0]}},\"id\":\"93b81515-61fd-4fed-b06c-333a99ccf746\",\"type\":\"ColumnDataSource\"},{\"attributes\":{\"dimension\":1,\"plot\":{\"id\":\"6efe7365-8698-4e9a-b95d-06c8715f4ec4\",\"subtype\":\"Chart\",\"type\":\"Plot\"},\"ticker\":{\"id\":\"d77d0b7c-3e90-4c6c-a460-6372806cfceb\",\"type\":\"BasicTicker\"}},\"id\":\"22cc7e2a-8f5b-41df-bd14-54dcded281ca\",\"type\":\"Grid\"},{\"attributes\":{\"overlay\":{\"id\":\"1b624c63-33b6-4232-9eca-9faeab9ce835\",\"type\":\"BoxAnnotation\"},\"plot\":{\"id\":\"47d9d0d6-6a32-47c5-9b9d-244c95592545\",\"subtype\":\"Chart\",\"type\":\"Plot\"}},\"id\":\"6687369b-a0a0-4cb4-8888-a7e0ba05dd97\",\"type\":\"BoxZoomTool\"},{\"attributes\":{\"data_source\":{\"id\":\"5a4be95e-ebbf-4249-8757-71175bd77ed6\",\"type\":\"ColumnDataSource\"},\"glyph\":{\"id\":\"81744c63-ba94-4b62-9ada-62aa3f614256\",\"type\":\"Rect\"},\"hover_glyph\":null,\"nonselection_glyph\":null,\"selection_glyph\":null},\"id\":\"cd4d94a5-d25d-42c6-b14a-0e50aeb69a0d\",\"type\":\"GlyphRenderer\"},{\"attributes\":{\"callback\":null,\"column_names\":[\"x\",\"line_color\",\"width\",\"fill_alpha\",\"color\",\"height\",\"y\",\"line_alpha\"],\"data\":{\"chart_index\":[{\"index\":\"Lung and Bronchus\"}],\"color\":[\"#f22c40\"],\"fill_alpha\":[0.8],\"height\":[33.0],\"index\":[\"Lung and Bronchus\"],\"line_alpha\":[1.0],\"line_color\":[\"white\"],\"width\":[0.8],\"x\":[\"Lung and Bronchus\"],\"y\":[16.5]}},\"id\":\"5a4be95e-ebbf-4249-8757-71175bd77ed6\",\"type\":\"ColumnDataSource\"},{\"attributes\":{\"fill_alpha\":{\"field\":\"fill_alpha\"},\"fill_color\":{\"field\":\"color\"},\"height\":{\"field\":\"height\",\"units\":\"data\"},\"line_color\":{\"field\":\"line_color\"},\"width\":{\"field\":\"width\",\"units\":\"data\"},\"x\":{\"field\":\"x\"},\"y\":{\"field\":\"y\"}},\"id\":\"91d2393e-54e5-48f8-b37c-df292f6602e3\",\"type\":\"Rect\"},{\"attributes\":{\"data_source\":{\"id\":\"29f119fe-3eae-4c0b-98ed-4f3dcbe548f4\",\"type\":\"ColumnDataSource\"},\"glyph\":{\"id\":\"f5731774-158f-45a9-9e93-65d03ce7dea6\",\"type\":\"Rect\"},\"hover_glyph\":null,\"nonselection_glyph\":null,\"selection_glyph\":null},\"id\":\"0d271012-ce67-404c-ab12-3d3642e4475e\",\"type\":\"GlyphRenderer\"},{\"attributes\":{\"data_source\":{\"id\":\"cd561fa0-5ebe-4009-9450-564622fcddff\",\"type\":\"ColumnDataSource\"},\"glyph\":{\"id\":\"f68bd78a-8347-4690-b286-00a94060d7e6\",\"type\":\"Rect\"},\"hover_glyph\":null,\"nonselection_glyph\":null,\"selection_glyph\":null},\"id\":\"b7a8500d-cc08-47ad-9072-bc0f145b0bb0\",\"type\":\"GlyphRenderer\"},{\"attributes\":{\"data_source\":{\"id\":\"26bfd091-1502-46d5-98ee-fa72c5172961\",\"type\":\"ColumnDataSource\"},\"glyph\":{\"id\":\"b98df9b1-ddbc-4d58-9531-064a1c2f584e\",\"type\":\"Rect\"},\"hover_glyph\":null,\"nonselection_glyph\":null,\"selection_glyph\":null},\"id\":\"1c57a515-cf5b-4fb7-b1e1-77e5a1d5f894\",\"type\":\"GlyphRenderer\"},{\"attributes\":{\"plot\":{\"id\":\"47d9d0d6-6a32-47c5-9b9d-244c95592545\",\"subtype\":\"Chart\",\"type\":\"Plot\"}},\"id\":\"0f4a9cc9-37d2-48b8-9bd5-4732d7d17b89\",\"type\":\"HelpTool\"},{\"attributes\":{\"plot\":{\"id\":\"6efe7365-8698-4e9a-b95d-06c8715f4ec4\",\"subtype\":\"Chart\",\"type\":\"Plot\"}},\"id\":\"e6a305a0-f3fd-415a-ad3b-a0b41ade6ccb\",\"type\":\"HelpTool\"},{\"attributes\":{\"callback\":null,\"column_names\":[\"x\",\"line_color\",\"width\",\"fill_alpha\",\"color\",\"height\",\"y\",\"line_alpha\"],\"data\":{\"chart_index\":[{\"index\":\"Salivary Gland\"}],\"color\":[\"#f22c40\"],\"fill_alpha\":[0.8],\"height\":[3242.0],\"index\":[\"Salivary Gland\"],\"line_alpha\":[1.0],\"line_color\":[\"white\"],\"width\":[0.8],\"x\":[\"Salivary Gland\"],\"y\":[1621.0]}},\"id\":\"e58478ce-5109-4c53-b3a3-ec31afa7849c\",\"type\":\"ColumnDataSource\"},{\"attributes\":{\"callback\":null,\"column_names\":[\"x\",\"line_color\",\"width\",\"fill_alpha\",\"color\",\"height\",\"y\",\"line_alpha\"],\"data\":{\"chart_index\":[{\"index\":\"NHL - Nodal\"}],\"color\":[\"#f22c40\"],\"fill_alpha\":[0.8],\"height\":[31.0],\"index\":[\"NHL - Nodal\"],\"line_alpha\":[1.0],\"line_color\":[\"white\"],\"width\":[0.8],\"x\":[\"NHL - Nodal\"],\"y\":[15.5]}},\"id\":\"f95c4cd7-ce43-4df5-935f-0bda6e9b02b7\",\"type\":\"ColumnDataSource\"},{\"attributes\":{\"callback\":null,\"column_names\":[\"x\",\"line_color\",\"width\",\"fill_alpha\",\"color\",\"height\",\"y\",\"line_alpha\"],\"data\":{\"chart_index\":[{\"index\":\"NHL - Nodal\"}],\"color\":[\"#f22c40\"],\"fill_alpha\":[0.8],\"height\":[31.0],\"index\":[\"NHL - Nodal\"],\"line_alpha\":[1.0],\"line_color\":[\"white\"],\"width\":[0.8],\"x\":[\"NHL - Nodal\"],\"y\":[15.5]}},\"id\":\"f2413991-53db-469c-b944-c5199109bede\",\"type\":\"ColumnDataSource\"},{\"attributes\":{\"callback\":null,\"factors\":[\"Breast\",\"Chronic Lymphocytic Leukemia\",\"Kidney and Renal Pelvis\",\"Lung and Bronchus\",\"Melanoma of the Skin\",\"NHL - Nodal\",\"Prostate\",\"Salivary Gland\",\"Thyroid\",\"Urinary Bladder\"]},\"id\":\"29d54b4f-7454-49ad-893e-485526b649be\",\"type\":\"FactorRange\"},{\"attributes\":{\"fill_alpha\":{\"field\":\"fill_alpha\"},\"fill_color\":{\"field\":\"color\"},\"height\":{\"field\":\"height\",\"units\":\"data\"},\"line_color\":{\"field\":\"line_color\"},\"width\":{\"field\":\"width\",\"units\":\"data\"},\"x\":{\"field\":\"x\"},\"y\":{\"field\":\"y\"}},\"id\":\"0f86d62c-f1cb-4e63-a7cd-1e9add824d68\",\"type\":\"Rect\"},{\"attributes\":{\"plot\":{\"id\":\"47d9d0d6-6a32-47c5-9b9d-244c95592545\",\"subtype\":\"Chart\",\"type\":\"Plot\"}},\"id\":\"cbd1c0d8-eece-4f76-bbc7-a414d6823c4f\",\"type\":\"ResetTool\"},{\"attributes\":{},\"id\":\"6647aa79-d92f-4444-a0cb-d0596b1ff874\",\"type\":\"BasicTicker\"},{\"attributes\":{\"data_source\":{\"id\":\"6dad9a24-838e-4c84-884b-49b10e5acdcf\",\"type\":\"ColumnDataSource\"},\"glyph\":{\"id\":\"9a1e342d-776b-44c1-baa1-d2ed782bf804\",\"type\":\"Rect\"},\"hover_glyph\":null,\"nonselection_glyph\":null,\"selection_glyph\":null},\"id\":\"eb74fdcb-3f74-49b6-9503-f648094a591c\",\"type\":\"GlyphRenderer\"}],\"root_ids\":[\"6efe7365-8698-4e9a-b95d-06c8715f4ec4\",\"47d9d0d6-6a32-47c5-9b9d-244c95592545\"]},\"title\":\"Bokeh Application\",\"version\":\"0.11.1\"}};\n",
       "            var render_items = [{\"docid\":\"da31465b-79d3-4dc8-ad9d-0f6f108b1bd7\",\"elementid\":\"d421b65f-0d15-46d6-b416-61f7abdeb554\",\"modelid\":\"47d9d0d6-6a32-47c5-9b9d-244c95592545\",\"notebook_comms_target\":\"61d3f1f1-1620-4bfe-b2f9-84285941629e\"}];\n",
       "            \n",
       "            Bokeh.embed.embed_items(docs_json, render_items);\n",
       "        });\n",
       "      },\n",
       "      function(Bokeh) {\n",
       "      }\n",
       "    ];\n",
       "  \n",
       "    function run_inline_js() {\n",
       "      for (var i = 0; i < inline_js.length; i++) {\n",
       "        inline_js[i](window.Bokeh);\n",
       "      }\n",
       "    }\n",
       "  \n",
       "    if (window._bokeh_is_loading === 0) {\n",
       "      console.log(\"Bokeh: BokehJS loaded, going straight to plotting\");\n",
       "      run_inline_js();\n",
       "    } else {\n",
       "      load_libs(js_urls, function() {\n",
       "        console.log(\"Bokeh: BokehJS plotting callback run at\", now());\n",
       "        run_inline_js();\n",
       "      });\n",
       "    }\n",
       "  }(this));\n",
       "</script>"
      ]
     },
     "metadata": {},
     "output_type": "display_data"
    }
   ],
   "source": [
    "from bokeh.charts import Bar, output_file, hplot\n",
    "import bokeh.mpl\n",
    "data = pd.DataFrame(df2.siterwho1.value_counts()[:10][::-1])\n",
    "\n",
    "data\n",
    "bar = Bar(data,values='siterwho1')\n",
    "bokeh.charts.show(bar);"
   ]
  },
  {
   "cell_type": "code",
   "execution_count": null,
   "metadata": {
    "collapsed": true
   },
   "outputs": [],
   "source": []
  }
 ],
 "metadata": {
  "celltoolbar": "Slideshow",
  "kernelspec": {
   "display_name": "Python 3",
   "language": "python",
   "name": "python3"
  },
  "language_info": {
   "codemirror_mode": {
    "name": "ipython",
    "version": 3
   },
   "file_extension": ".py",
   "mimetype": "text/x-python",
   "name": "python",
   "nbconvert_exporter": "python",
   "pygments_lexer": "ipython3",
   "version": "3.5.1"
  },
  "widgets": {
   "state": {},
   "version": "1.1.2"
  }
 },
 "nbformat": 4,
 "nbformat_minor": 0
}
