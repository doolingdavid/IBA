{
 "cells": [
  {
   "cell_type": "code",
   "execution_count": 1,
   "metadata": {
    "collapsed": true,
    "slideshow": {
     "slide_type": "skip"
    }
   },
   "outputs": [],
   "source": [
    "import numpy as np\n",
    "import pandas as pd\n",
    "import matplotlib.pyplot as plt\n",
    "from pandas import Series, DataFrame\n",
    "import pytz\n",
    "from pytz import common_timezones, all_timezones\n",
    "import matplotlib\n",
    "matplotlib.style.use('ggplot')\n",
    "%matplotlib inline\n",
    "from datetime import datetime\n",
    "import scipy as sp\n",
    "import statsmodels.api as sm\n",
    "import statsmodels.formula.api as smf\n",
    "matplotlib.style.use('fivethirtyeight')\n",
    "matplotlib.style.use('seaborn-talk')\n",
    "import os\n",
    "import collections\n",
    "\n",
    "preDouble = \"\\\\\\\\iobsdc01\\\\SharedDocs\\\\SEER_MEDICARE\\\\SEER_MEDICARE_STAGING\"\n",
    "new = os.chdir(preDouble)\n",
    "#print(preDouble)"
   ]
  },
  {
   "cell_type": "code",
   "execution_count": 2,
   "metadata": {
    "collapsed": true,
    "slideshow": {
     "slide_type": "skip"
    }
   },
   "outputs": [],
   "source": [
    "import pickle\n",
    "fileObject = open('control_indicies.pickle', 'rb')\n",
    "b = pickle.load(fileObject)\n",
    "fileObject.close()\n",
    "controlindices = list(b)"
   ]
  },
  {
   "cell_type": "code",
   "execution_count": 3,
   "metadata": {
    "collapsed": true,
    "slideshow": {
     "slide_type": "skip"
    }
   },
   "outputs": [],
   "source": [
    "import pickle\n",
    "fileObject = open('treatment_indicies.pickle', 'rb')\n",
    "b = pickle.load(fileObject)\n",
    "fileObject.close()\n",
    "treatmentindices = list(b)\n"
   ]
  },
  {
   "cell_type": "code",
   "execution_count": 5,
   "metadata": {
    "collapsed": false,
    "slideshow": {
     "slide_type": "skip"
    }
   },
   "outputs": [],
   "source": [
    "import pickle\n",
    "fileObject = open('pure_control_indicies.pickle', 'rb')\n",
    "b = pickle.load(fileObject)\n",
    "fileObject.close()\n",
    "purecontrolindices = list(b)"
   ]
  },
  {
   "cell_type": "code",
   "execution_count": 6,
   "metadata": {
    "collapsed": true,
    "slideshow": {
     "slide_type": "skip"
    }
   },
   "outputs": [],
   "source": [
    "import pickle\n",
    "fileObject = open('pure_treatment_indicies.pickle', 'rb')\n",
    "b = pickle.load(fileObject)\n",
    "fileObject.close()\n",
    "puretreatmentindices = list(b)"
   ]
  },
  {
   "cell_type": "code",
   "execution_count": 7,
   "metadata": {
    "collapsed": true,
    "slideshow": {
     "slide_type": "skip"
    }
   },
   "outputs": [],
   "source": [
    "df = pd.read_pickle('dfpedsfFirsts.pickle')"
   ]
  },
  {
   "cell_type": "code",
   "execution_count": 8,
   "metadata": {
    "collapsed": true,
    "slideshow": {
     "slide_type": "skip"
    }
   },
   "outputs": [],
   "source": [
    "mask = (df['srvm1'] != 9999)\n",
    "dfall = df[mask]"
   ]
  },
  {
   "cell_type": "code",
   "execution_count": 9,
   "metadata": {
    "collapsed": true,
    "slideshow": {
     "slide_type": "skip"
    }
   },
   "outputs": [],
   "source": [
    "geomask = (dfall['elevation_1'] != dfall['FIPScombo_1']) \n",
    "\n",
    "dfall = dfall[geomask].copy()"
   ]
  },
  {
   "cell_type": "code",
   "execution_count": 10,
   "metadata": {
    "collapsed": true,
    "slideshow": {
     "slide_type": "skip"
    }
   },
   "outputs": [],
   "source": [
    "dfall['elevation_1'].replace('99999',np.nan,inplace=True)\n",
    "dfall['elevation_2'].replace('99999',np.nan,inplace=True)\n",
    "dfall['elevation_3'].replace('99999',np.nan,inplace=True)\n",
    "\n",
    "dfall['lat_1'].replace('99999',np.nan,inplace=True)\n",
    "dfall['lat_2'].replace('99999',np.nan,inplace=True)\n",
    "dfall['lat_3'].replace('99999',np.nan,inplace=True)\n",
    "\n",
    "dfall['lng_1'].replace('99999',np.nan,inplace=True)\n",
    "dfall['lng_2'].replace('99999',np.nan,inplace=True)\n",
    "dfall['lng_3'].replace('99999',np.nan,inplace=True)\n",
    "\n",
    "dfall['elevation_1'] = dfall['elevation_1'].astype('float')\n",
    "dfall['elevation_2'] = dfall['elevation_2'].astype('float')\n",
    "dfall['elevation_3'] = dfall['elevation_3'].astype('float')\n",
    "\n",
    "dfall['lat_1'] = dfall['lat_1'].astype('float')\n",
    "dfall['lat_2'] = dfall['lat_2'].astype('float')\n",
    "dfall['lat_3'] = dfall['lat_3'].astype('float')\n",
    "\n",
    "dfall['lng_1'] = dfall['lng_1'].astype('float')\n",
    "dfall['lng_2'] = dfall['lng_2'].astype('float')\n",
    "dfall['lng_3'] = dfall['lng_3'].astype('float')"
   ]
  },
  {
   "cell_type": "code",
   "execution_count": 11,
   "metadata": {
    "collapsed": true,
    "slideshow": {
     "slide_type": "skip"
    }
   },
   "outputs": [],
   "source": [
    "dfall.set_index('patient_id', inplace=True,drop=False)"
   ]
  },
  {
   "cell_type": "code",
   "execution_count": 12,
   "metadata": {
    "collapsed": false,
    "slideshow": {
     "slide_type": "skip"
    }
   },
   "outputs": [
    {
     "data": {
      "text/plain": [
       "(916, 916)"
      ]
     },
     "execution_count": 12,
     "metadata": {},
     "output_type": "execute_result"
    }
   ],
   "source": [
    "dfall.patient_id.isin(treatmentindices).sum(), dfall.patient_id.isin(controlindices).sum()"
   ]
  },
  {
   "cell_type": "code",
   "execution_count": 13,
   "metadata": {
    "collapsed": false,
    "slideshow": {
     "slide_type": "skip"
    }
   },
   "outputs": [
    {
     "data": {
      "text/plain": [
       "(790, 790)"
      ]
     },
     "execution_count": 13,
     "metadata": {},
     "output_type": "execute_result"
    }
   ],
   "source": [
    "dfall.patient_id.isin(puretreatmentindices).sum(), dfall.patient_id.isin(purecontrolindices).sum()"
   ]
  },
  {
   "cell_type": "code",
   "execution_count": 14,
   "metadata": {
    "collapsed": true,
    "slideshow": {
     "slide_type": "skip"
    }
   },
   "outputs": [],
   "source": [
    "dfalltreatment = dfall.loc[treatmentindices].copy()\n",
    "dfallcontrol = dfall.loc[controlindices].copy()\n",
    "dfallpuretreatment = dfall.loc[puretreatmentindices].copy()\n",
    "dfallpurecontrol = dfall.loc[purecontrolindices].copy()"
   ]
  },
  {
   "cell_type": "code",
   "execution_count": 15,
   "metadata": {
    "collapsed": true,
    "slideshow": {
     "slide_type": "skip"
    }
   },
   "outputs": [],
   "source": [
    "prostate_filter_all = dfall.site1.str.contains('prostate',case=False,na=False) | \\\n",
    "              dfall.site1.str.contains('prostate',case=False,na=False)\n",
    "    \n",
    "prostate_filter_treatment = dfalltreatment.site1.str.contains('prostate',case=False,na=False) | \\\n",
    "              dfalltreatment.site1.str.contains('prostate',case=False,na=False)\n",
    "    \n",
    "prostate_filter_control = dfallcontrol.site1.str.contains('prostate',case=False,na=False) | \\\n",
    "              dfallcontrol.site1.str.contains('prostate',case=False,na=False)\n",
    "    \n",
    "    \n",
    "prostate_filter_pure_treatment = dfallpuretreatment.site1.str.contains('prostate',case=False,na=False) | \\\n",
    "              dfallpuretreatment.site1.str.contains('prostate',case=False,na=False)\n",
    "    \n",
    "prostate_filter_pure_control = dfallpurecontrol.site1.str.contains('prostate',case=False,na=False) | \\\n",
    "              dfallpurecontrol.site1.str.contains('prostate',case=False,na=False)"
   ]
  },
  {
   "cell_type": "code",
   "execution_count": 16,
   "metadata": {
    "collapsed": true,
    "slideshow": {
     "slide_type": "skip"
    }
   },
   "outputs": [],
   "source": [
    "catcols = ['m_sex','marst1','srace','nhiade','grade1',\n",
    "           'site1',\n",
    "          'histrec1',\n",
    "           'modx1','stat_rec']\n",
    "\n",
    "\n",
    "goodcols = ['m_sex','marst1', 'srace','nhiade',\n",
    "           'grade1','site1',\n",
    "           'lat1','histrec1',\n",
    "           'modx1','stat_rec','birthyr',\n",
    "           'agedx1',\n",
    "           'yrdx1','elevation_1',\n",
    "           'lng_1']"
   ]
  },
  {
   "cell_type": "code",
   "execution_count": 17,
   "metadata": {
    "collapsed": true,
    "slideshow": {
     "slide_type": "skip"
    }
   },
   "outputs": [],
   "source": [
    "resgoodcontrol = pd.concat([pd.get_dummies(dfallcontrol[col],prefix=col) for col in catcols], axis=1)\n",
    "\n",
    "resgoodtreatment = pd.concat([pd.get_dummies(dfalltreatment[col],prefix=col) for col in catcols], axis=1)\n",
    "\n",
    "resgoodpop = pd.concat([pd.get_dummies(dfall[col],prefix=col) for col in catcols], axis=1)"
   ]
  },
  {
   "cell_type": "code",
   "execution_count": 18,
   "metadata": {
    "collapsed": true,
    "slideshow": {
     "slide_type": "skip"
    }
   },
   "outputs": [],
   "source": [
    "resgoodpurecontrol = pd.concat([pd.get_dummies(dfallpurecontrol[col],prefix=col) for col in catcols], axis=1)\n",
    "\n",
    "resgoodpuretreatment = pd.concat([pd.get_dummies(dfallpuretreatment[col],prefix=col) for col in catcols], axis=1)\n",
    "\n",
    "resgoodpurepop = pd.concat([pd.get_dummies(dfall[col],prefix=col) for col in catcols], axis=1)"
   ]
  },
  {
   "cell_type": "code",
   "execution_count": 19,
   "metadata": {
    "collapsed": true,
    "slideshow": {
     "slide_type": "skip"
    }
   },
   "outputs": [],
   "source": [
    "resgoodcontrol['birthyr'] = dfallcontrol['birthyr']\n",
    "resgoodcontrol['agedx1'] = dfallcontrol['agedx1']\n",
    "\n",
    "resgoodcontrol['yrdx1'] = dfallcontrol['yrdx1']\n",
    "\n",
    "resgoodcontrol['lat_1'] = dfallcontrol['lat_1']\n",
    "\n",
    "resgoodcontrol['lng_1'] = dfallcontrol['lng_1']\n",
    "\n",
    "resgoodcontrol['srvm1'] = dfallcontrol['srvm1']\n",
    "\n",
    "resgoodcontrol['elevation_1'] = dfallcontrol['elevation_1']"
   ]
  },
  {
   "cell_type": "code",
   "execution_count": 20,
   "metadata": {
    "collapsed": true,
    "slideshow": {
     "slide_type": "skip"
    }
   },
   "outputs": [],
   "source": [
    "resgoodpurecontrol['birthyr'] = dfallpurecontrol['birthyr']\n",
    "resgoodpurecontrol['agedx1'] = dfallpurecontrol['agedx1']\n",
    "\n",
    "resgoodpurecontrol['yrdx1'] = dfallpurecontrol['yrdx1']\n",
    "\n",
    "resgoodpurecontrol['lat_1'] = dfallpurecontrol['lat_1']\n",
    "\n",
    "resgoodpurecontrol['lng_1'] = dfallpurecontrol['lng_1']\n",
    "\n",
    "resgoodpurecontrol['srvm1'] = dfallpurecontrol['srvm1']\n",
    "\n",
    "resgoodpurecontrol['elevation_1'] = dfallpurecontrol['elevation_1']"
   ]
  },
  {
   "cell_type": "code",
   "execution_count": 25,
   "metadata": {
    "collapsed": true,
    "slideshow": {
     "slide_type": "skip"
    }
   },
   "outputs": [],
   "source": [
    "resgoodtreatment['birthyr'] = dfalltreatment['birthyr']\n",
    "resgoodtreatment['agedx1'] = dfalltreatment['agedx1']\n",
    "\n",
    "resgoodtreatment['yrdx1'] = dfalltreatment['yrdx1']\n",
    "\n",
    "\n",
    "\n",
    "resgoodtreatment['lat_1'] = dfalltreatment['lat_1']\n",
    "\n",
    "resgoodtreatment['lng_1'] = dfalltreatment['lng_1']\n",
    "\n",
    "resgoodtreatment['srvm1'] = dfalltreatment['srvm1']\n",
    "\n",
    "resgoodtreatment['elevation_1'] = dfalltreatment['elevation_1']"
   ]
  },
  {
   "cell_type": "code",
   "execution_count": 21,
   "metadata": {
    "collapsed": true,
    "slideshow": {
     "slide_type": "skip"
    }
   },
   "outputs": [],
   "source": [
    "resgoodpuretreatment['birthyr'] = dfallpuretreatment['birthyr']\n",
    "resgoodpuretreatment['agedx1'] = dfallpuretreatment['agedx1']\n",
    "\n",
    "resgoodpuretreatment['yrdx1'] = dfallpuretreatment['yrdx1']\n",
    "\n",
    "\n",
    "\n",
    "resgoodpuretreatment['lat_1'] = dfallpuretreatment['lat_1']\n",
    "\n",
    "resgoodpuretreatment['lng_1'] = dfallpuretreatment['lng_1']\n",
    "\n",
    "resgoodpuretreatment['srvm1'] = dfallpuretreatment['srvm1']\n",
    "\n",
    "resgoodpuretreatment['elevation_1'] = dfallpuretreatment['elevation_1']"
   ]
  },
  {
   "cell_type": "code",
   "execution_count": 22,
   "metadata": {
    "collapsed": true,
    "slideshow": {
     "slide_type": "skip"
    }
   },
   "outputs": [],
   "source": [
    "resgoodpop['birthyr'] = dfall['birthyr']\n",
    "resgoodpop['agedx1'] = dfall['agedx1']\n",
    "\n",
    "resgoodpop['yrdx1'] = dfall['yrdx1']\n",
    "\n",
    "\n",
    "\n",
    "\n",
    "resgoodpop['lat_1'] = dfall['lat_1']\n",
    "\n",
    "resgoodpop['lng_1'] = dfall['lng_1']\n",
    "\n",
    "resgoodpop['srvm1'] = dfall['srvm1']\n",
    "\n",
    "resgoodpop['elevation_1'] = dfall['elevation_1']"
   ]
  },
  {
   "cell_type": "code",
   "execution_count": 23,
   "metadata": {
    "collapsed": true,
    "slideshow": {
     "slide_type": "skip"
    }
   },
   "outputs": [],
   "source": [
    "beamfilter = dfall.rad1.str.contains('beam radiation',case=False,na=False)"
   ]
  },
  {
   "cell_type": "markdown",
   "metadata": {
    "slideshow": {
     "slide_type": "slide"
    }
   },
   "source": [
    "# <font color=\"#E56717\">Kaplan-Meier Survival Curves</font>\n",
    "\n",
    "# <font color=\"#E56717\">Kaplna-Meier Survival Curves afer performing the patient matching</font>"
   ]
  },
  {
   "cell_type": "markdown",
   "metadata": {
    "slideshow": {
     "slide_type": "slide"
    }
   },
   "source": [
    "# <font color=\"#E56717\">Prostate Cancer</font>"
   ]
  },
  {
   "cell_type": "code",
   "execution_count": 26,
   "metadata": {
    "collapsed": false,
    "slideshow": {
     "slide_type": "skip"
    }
   },
   "outputs": [
    {
     "data": {
      "text/plain": [
       "<lifelines.KaplanMeierFitter: fitted with 772 observations, 732 censored>"
      ]
     },
     "execution_count": 26,
     "metadata": {},
     "output_type": "execute_result"
    }
   ],
   "source": [
    "from lifelines import KaplanMeierFitter\n",
    "\n",
    "kmfpop = KaplanMeierFitter()\n",
    "kmfcontrol = KaplanMeierFitter()\n",
    "kmftreatment = KaplanMeierFitter()\n",
    "kmfpurecontrol = KaplanMeierFitter()\n",
    "kmfpuretreatment = KaplanMeierFitter()\n",
    "\n",
    "Tcontrol = resgoodcontrol[prostate_filter_control][\"srvm1\"]\n",
    "Econtrol = resgoodcontrol[prostate_filter_control][\"stat_rec_Dead\"]\n",
    "\n",
    "Tpurecontrol = resgoodpurecontrol[prostate_filter_pure_control][\"srvm1\"]\n",
    "Epurecontrol = resgoodpurecontrol[prostate_filter_pure_control][\"stat_rec_Dead\"]\n",
    "\n",
    "Ttreatment = resgoodtreatment[prostate_filter_treatment][\"srvm1\"]\n",
    "Etreatment = resgoodtreatment[prostate_filter_treatment][\"stat_rec_Dead\"]\n",
    "\n",
    "Tpuretreatment = resgoodpuretreatment[prostate_filter_pure_treatment][\"srvm1\"]\n",
    "Epuretreatment = resgoodpuretreatment[prostate_filter_pure_treatment][\"stat_rec_Dead\"]\n",
    "\n",
    "Tpop = resgoodpop[prostate_filter_all & beamfilter][\"srvm1\"]\n",
    "Epop = resgoodpop[prostate_filter_all & beamfilter][\"stat_rec_Dead\"]\n",
    "\n",
    "kmfpop.fit(Tpop, event_observed=Epop,label='All Prostate Cancer (all beam radiation treatment modalities) group');\n",
    "kmfcontrol.fit(Tcontrol, event_observed=Econtrol,label='Non PBT group (control group)')\n",
    "kmftreatment.fit(Ttreatment, event_observed=Etreatment, label='PBT group (treatment group)')\n",
    "\n",
    "kmfpurecontrol.fit(Tpurecontrol, event_observed=Epurecontrol,label='All IMRT group (control group)')\n",
    "kmfpuretreatment.fit(Tpuretreatment, event_observed=Epuretreatment, label='pure PBT group (treatment group; no IMRT)')\n"
   ]
  },
  {
   "cell_type": "code",
   "execution_count": null,
   "metadata": {
    "collapsed": true
   },
   "outputs": [],
   "source": []
  }
 ],
 "metadata": {
  "celltoolbar": "Slideshow",
  "kernelspec": {
   "display_name": "Python 3",
   "language": "python",
   "name": "python3"
  },
  "language_info": {
   "codemirror_mode": {
    "name": "ipython",
    "version": 3
   },
   "file_extension": ".py",
   "mimetype": "text/x-python",
   "name": "python",
   "nbconvert_exporter": "python",
   "pygments_lexer": "ipython3",
   "version": "3.5.1"
  },
  "widgets": {
   "state": {},
   "version": "1.1.2"
  }
 },
 "nbformat": 4,
 "nbformat_minor": 0
}
