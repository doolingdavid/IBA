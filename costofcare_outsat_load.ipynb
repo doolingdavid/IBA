{
 "cells": [
  {
   "cell_type": "code",
   "execution_count": 1,
   "metadata": {
    "collapsed": true
   },
   "outputs": [],
   "source": [
    "import numpy as np\n",
    "import pandas as pd\n",
    "import matplotlib.pyplot as plt\n",
    "from pandas import Series, DataFrame\n",
    "import pytz\n",
    "from pytz import common_timezones, all_timezones\n",
    "import matplotlib\n",
    "matplotlib.style.use('ggplot')\n",
    "%matplotlib inline\n",
    "from datetime import datetime\n",
    "import scipy as sp\n",
    "import statsmodels.api as sm\n",
    "import statsmodels.formula.api as smf\n",
    "matplotlib.style.use('fivethirtyeight')\n",
    "matplotlib.style.use('seaborn-talk')\n",
    "import os\n",
    "import collections"
   ]
  },
  {
   "cell_type": "code",
   "execution_count": 2,
   "metadata": {
    "collapsed": false
   },
   "outputs": [
    {
     "name": "stdout",
     "output_type": "stream",
     "text": [
      "\\\\iobsdc01\\SharedDocs\\SEER_MEDICARE\\SEER_MEDICARE_STAGING\n"
     ]
    }
   ],
   "source": [
    "preDouble = \"\\\\\\\\iobsdc01\\\\SharedDocs\\\\SEER_MEDICARE\\\\SEER_MEDICARE_STAGING\"\n",
    "new = os.chdir(preDouble)\n",
    "print(preDouble)"
   ]
  },
  {
   "cell_type": "code",
   "execution_count": 3,
   "metadata": {
    "collapsed": true
   },
   "outputs": [],
   "source": [
    "import pickle\n",
    "fileObject = open('control_indicies.pickle', 'rb')\n",
    "b = pickle.load(fileObject)\n",
    "fileObject.close()\n",
    "controlindices = list(b)"
   ]
  },
  {
   "cell_type": "code",
   "execution_count": 4,
   "metadata": {
    "collapsed": true
   },
   "outputs": [],
   "source": [
    "import pickle\n",
    "fileObject = open('treatment_indicies.pickle', 'rb')\n",
    "b = pickle.load(fileObject)\n",
    "fileObject.close()\n",
    "treatmentindices = list(b)"
   ]
  },
  {
   "cell_type": "code",
   "execution_count": 5,
   "metadata": {
    "collapsed": false
   },
   "outputs": [
    {
     "name": "stdout",
     "output_type": "stream",
     "text": [
      "1031 1031\n"
     ]
    }
   ],
   "source": [
    "print(len(controlindices), len(treatmentindices))"
   ]
  },
  {
   "cell_type": "code",
   "execution_count": 6,
   "metadata": {
    "collapsed": true
   },
   "outputs": [],
   "source": [
    "dg = pd.read_pickle('goodindices_costofcare_outsaf.pickle')"
   ]
  },
  {
   "cell_type": "markdown",
   "metadata": {},
   "source": [
    "Dg contains the dataframe created in costofcare.ipynb, that grabs all the rows of the outsaf claims files corresonding to controlindices and treatmentindices.\n",
    "\n",
    "Now we need to add in the modx1 information as well as the site1 information from the pedsf files."
   ]
  },
  {
   "cell_type": "code",
   "execution_count": 7,
   "metadata": {
    "collapsed": false
   },
   "outputs": [
    {
     "data": {
      "text/html": [
       "<div>\n",
       "<table border=\"1\" class=\"dataframe\">\n",
       "  <thead>\n",
       "    <tr style=\"text-align: right;\">\n",
       "      <th></th>\n",
       "      <th>patient_id</th>\n",
       "      <th>claim_from_date</th>\n",
       "      <th>link_num</th>\n",
       "      <th>rec_count</th>\n",
       "      <th>hcpcs</th>\n",
       "      <th>tot_chrg</th>\n",
       "      <th>tot_line</th>\n",
       "      <th>seg_line</th>\n",
       "    </tr>\n",
       "  </thead>\n",
       "  <tbody>\n",
       "    <tr>\n",
       "      <th>0</th>\n",
       "      <td>0244410011</td>\n",
       "      <td>12192006</td>\n",
       "      <td>1042840</td>\n",
       "      <td>1</td>\n",
       "      <td>NaN</td>\n",
       "      <td>5242.49</td>\n",
       "      <td>8</td>\n",
       "      <td>8</td>\n",
       "    </tr>\n",
       "    <tr>\n",
       "      <th>1</th>\n",
       "      <td>0244410011</td>\n",
       "      <td>12192006</td>\n",
       "      <td>1042840</td>\n",
       "      <td>2</td>\n",
       "      <td>NaN</td>\n",
       "      <td>5242.49</td>\n",
       "      <td>8</td>\n",
       "      <td>8</td>\n",
       "    </tr>\n",
       "    <tr>\n",
       "      <th>2</th>\n",
       "      <td>0244410011</td>\n",
       "      <td>12192006</td>\n",
       "      <td>1042840</td>\n",
       "      <td>3</td>\n",
       "      <td>NaN</td>\n",
       "      <td>5242.49</td>\n",
       "      <td>8</td>\n",
       "      <td>8</td>\n",
       "    </tr>\n",
       "    <tr>\n",
       "      <th>3</th>\n",
       "      <td>0244410011</td>\n",
       "      <td>12192006</td>\n",
       "      <td>1042840</td>\n",
       "      <td>4</td>\n",
       "      <td>NaN</td>\n",
       "      <td>5242.49</td>\n",
       "      <td>8</td>\n",
       "      <td>8</td>\n",
       "    </tr>\n",
       "    <tr>\n",
       "      <th>4</th>\n",
       "      <td>0244410011</td>\n",
       "      <td>12192006</td>\n",
       "      <td>1042840</td>\n",
       "      <td>5</td>\n",
       "      <td>NaN</td>\n",
       "      <td>5242.49</td>\n",
       "      <td>8</td>\n",
       "      <td>8</td>\n",
       "    </tr>\n",
       "    <tr>\n",
       "      <th>5</th>\n",
       "      <td>0244410011</td>\n",
       "      <td>12192006</td>\n",
       "      <td>1042840</td>\n",
       "      <td>6</td>\n",
       "      <td>66984</td>\n",
       "      <td>5242.49</td>\n",
       "      <td>8</td>\n",
       "      <td>8</td>\n",
       "    </tr>\n",
       "    <tr>\n",
       "      <th>6</th>\n",
       "      <td>0244410011</td>\n",
       "      <td>12192006</td>\n",
       "      <td>1042840</td>\n",
       "      <td>7</td>\n",
       "      <td>NaN</td>\n",
       "      <td>5242.49</td>\n",
       "      <td>8</td>\n",
       "      <td>8</td>\n",
       "    </tr>\n",
       "    <tr>\n",
       "      <th>7</th>\n",
       "      <td>0244410011</td>\n",
       "      <td>12192006</td>\n",
       "      <td>1042840</td>\n",
       "      <td>8</td>\n",
       "      <td>NaN</td>\n",
       "      <td>5242.49</td>\n",
       "      <td>8</td>\n",
       "      <td>8</td>\n",
       "    </tr>\n",
       "    <tr>\n",
       "      <th>8</th>\n",
       "      <td>0244410011</td>\n",
       "      <td>6242006</td>\n",
       "      <td>1285544</td>\n",
       "      <td>1</td>\n",
       "      <td>NaN</td>\n",
       "      <td>1142.80</td>\n",
       "      <td>8</td>\n",
       "      <td>8</td>\n",
       "    </tr>\n",
       "    <tr>\n",
       "      <th>9</th>\n",
       "      <td>0244410011</td>\n",
       "      <td>6242006</td>\n",
       "      <td>1285544</td>\n",
       "      <td>2</td>\n",
       "      <td>80048</td>\n",
       "      <td>1142.80</td>\n",
       "      <td>8</td>\n",
       "      <td>8</td>\n",
       "    </tr>\n",
       "    <tr>\n",
       "      <th>10</th>\n",
       "      <td>0244410011</td>\n",
       "      <td>6242006</td>\n",
       "      <td>1285544</td>\n",
       "      <td>3</td>\n",
       "      <td>82550</td>\n",
       "      <td>1142.80</td>\n",
       "      <td>8</td>\n",
       "      <td>8</td>\n",
       "    </tr>\n",
       "    <tr>\n",
       "      <th>11</th>\n",
       "      <td>0244410011</td>\n",
       "      <td>6242006</td>\n",
       "      <td>1285544</td>\n",
       "      <td>4</td>\n",
       "      <td>85025</td>\n",
       "      <td>1142.80</td>\n",
       "      <td>8</td>\n",
       "      <td>8</td>\n",
       "    </tr>\n",
       "    <tr>\n",
       "      <th>12</th>\n",
       "      <td>0244410011</td>\n",
       "      <td>6242006</td>\n",
       "      <td>1285544</td>\n",
       "      <td>5</td>\n",
       "      <td>99284</td>\n",
       "      <td>1142.80</td>\n",
       "      <td>8</td>\n",
       "      <td>8</td>\n",
       "    </tr>\n",
       "    <tr>\n",
       "      <th>13</th>\n",
       "      <td>0244410011</td>\n",
       "      <td>6242006</td>\n",
       "      <td>1285544</td>\n",
       "      <td>6</td>\n",
       "      <td>93005</td>\n",
       "      <td>1142.80</td>\n",
       "      <td>8</td>\n",
       "      <td>8</td>\n",
       "    </tr>\n",
       "    <tr>\n",
       "      <th>14</th>\n",
       "      <td>0244410011</td>\n",
       "      <td>6242006</td>\n",
       "      <td>1285544</td>\n",
       "      <td>7</td>\n",
       "      <td>C8952</td>\n",
       "      <td>1142.80</td>\n",
       "      <td>8</td>\n",
       "      <td>8</td>\n",
       "    </tr>\n",
       "    <tr>\n",
       "      <th>15</th>\n",
       "      <td>0244410011</td>\n",
       "      <td>6242006</td>\n",
       "      <td>1285544</td>\n",
       "      <td>8</td>\n",
       "      <td>NaN</td>\n",
       "      <td>1142.80</td>\n",
       "      <td>8</td>\n",
       "      <td>8</td>\n",
       "    </tr>\n",
       "    <tr>\n",
       "      <th>16</th>\n",
       "      <td>0244410011</td>\n",
       "      <td>9032006</td>\n",
       "      <td>1461376</td>\n",
       "      <td>1</td>\n",
       "      <td>71020</td>\n",
       "      <td>554.50</td>\n",
       "      <td>3</td>\n",
       "      <td>3</td>\n",
       "    </tr>\n",
       "    <tr>\n",
       "      <th>17</th>\n",
       "      <td>0244410011</td>\n",
       "      <td>9032006</td>\n",
       "      <td>1461376</td>\n",
       "      <td>2</td>\n",
       "      <td>99283</td>\n",
       "      <td>554.50</td>\n",
       "      <td>3</td>\n",
       "      <td>3</td>\n",
       "    </tr>\n",
       "    <tr>\n",
       "      <th>18</th>\n",
       "      <td>0244410011</td>\n",
       "      <td>9032006</td>\n",
       "      <td>1461376</td>\n",
       "      <td>3</td>\n",
       "      <td>NaN</td>\n",
       "      <td>554.50</td>\n",
       "      <td>3</td>\n",
       "      <td>3</td>\n",
       "    </tr>\n",
       "    <tr>\n",
       "      <th>19</th>\n",
       "      <td>0244410011</td>\n",
       "      <td>10032006</td>\n",
       "      <td>1569833</td>\n",
       "      <td>1</td>\n",
       "      <td>88305</td>\n",
       "      <td>165.38</td>\n",
       "      <td>2</td>\n",
       "      <td>2</td>\n",
       "    </tr>\n",
       "    <tr>\n",
       "      <th>20</th>\n",
       "      <td>0244410011</td>\n",
       "      <td>10032006</td>\n",
       "      <td>1569833</td>\n",
       "      <td>2</td>\n",
       "      <td>NaN</td>\n",
       "      <td>165.38</td>\n",
       "      <td>2</td>\n",
       "      <td>2</td>\n",
       "    </tr>\n",
       "    <tr>\n",
       "      <th>21</th>\n",
       "      <td>0244410011</td>\n",
       "      <td>10262006</td>\n",
       "      <td>1597331</td>\n",
       "      <td>1</td>\n",
       "      <td>71020</td>\n",
       "      <td>275.59</td>\n",
       "      <td>2</td>\n",
       "      <td>2</td>\n",
       "    </tr>\n",
       "    <tr>\n",
       "      <th>22</th>\n",
       "      <td>0244410011</td>\n",
       "      <td>10262006</td>\n",
       "      <td>1597331</td>\n",
       "      <td>2</td>\n",
       "      <td>NaN</td>\n",
       "      <td>275.59</td>\n",
       "      <td>2</td>\n",
       "      <td>2</td>\n",
       "    </tr>\n",
       "    <tr>\n",
       "      <th>23</th>\n",
       "      <td>0244410011</td>\n",
       "      <td>1112006</td>\n",
       "      <td>1630010</td>\n",
       "      <td>1</td>\n",
       "      <td>G0103</td>\n",
       "      <td>611.60</td>\n",
       "      <td>8</td>\n",
       "      <td>8</td>\n",
       "    </tr>\n",
       "    <tr>\n",
       "      <th>24</th>\n",
       "      <td>0244410011</td>\n",
       "      <td>1112006</td>\n",
       "      <td>1630010</td>\n",
       "      <td>2</td>\n",
       "      <td>80048</td>\n",
       "      <td>611.60</td>\n",
       "      <td>8</td>\n",
       "      <td>8</td>\n",
       "    </tr>\n",
       "    <tr>\n",
       "      <th>25</th>\n",
       "      <td>0244410011</td>\n",
       "      <td>1112006</td>\n",
       "      <td>1630010</td>\n",
       "      <td>3</td>\n",
       "      <td>80061</td>\n",
       "      <td>611.60</td>\n",
       "      <td>8</td>\n",
       "      <td>8</td>\n",
       "    </tr>\n",
       "    <tr>\n",
       "      <th>26</th>\n",
       "      <td>0244410011</td>\n",
       "      <td>1112006</td>\n",
       "      <td>1630010</td>\n",
       "      <td>4</td>\n",
       "      <td>80076</td>\n",
       "      <td>611.60</td>\n",
       "      <td>8</td>\n",
       "      <td>8</td>\n",
       "    </tr>\n",
       "    <tr>\n",
       "      <th>27</th>\n",
       "      <td>0244410011</td>\n",
       "      <td>1112006</td>\n",
       "      <td>1630010</td>\n",
       "      <td>5</td>\n",
       "      <td>83036</td>\n",
       "      <td>611.60</td>\n",
       "      <td>8</td>\n",
       "      <td>8</td>\n",
       "    </tr>\n",
       "    <tr>\n",
       "      <th>28</th>\n",
       "      <td>0244410011</td>\n",
       "      <td>1112006</td>\n",
       "      <td>1630010</td>\n",
       "      <td>6</td>\n",
       "      <td>84443</td>\n",
       "      <td>611.60</td>\n",
       "      <td>8</td>\n",
       "      <td>8</td>\n",
       "    </tr>\n",
       "    <tr>\n",
       "      <th>29</th>\n",
       "      <td>0244410011</td>\n",
       "      <td>1112006</td>\n",
       "      <td>1630010</td>\n",
       "      <td>7</td>\n",
       "      <td>85025</td>\n",
       "      <td>611.60</td>\n",
       "      <td>8</td>\n",
       "      <td>8</td>\n",
       "    </tr>\n",
       "  </tbody>\n",
       "</table>\n",
       "</div>"
      ],
      "text/plain": [
       "    patient_id  claim_from_date  link_num  rec_count  hcpcs  tot_chrg  \\\n",
       "0   0244410011         12192006   1042840          1    NaN   5242.49   \n",
       "1   0244410011         12192006   1042840          2    NaN   5242.49   \n",
       "2   0244410011         12192006   1042840          3    NaN   5242.49   \n",
       "3   0244410011         12192006   1042840          4    NaN   5242.49   \n",
       "4   0244410011         12192006   1042840          5    NaN   5242.49   \n",
       "5   0244410011         12192006   1042840          6  66984   5242.49   \n",
       "6   0244410011         12192006   1042840          7    NaN   5242.49   \n",
       "7   0244410011         12192006   1042840          8    NaN   5242.49   \n",
       "8   0244410011          6242006   1285544          1    NaN   1142.80   \n",
       "9   0244410011          6242006   1285544          2  80048   1142.80   \n",
       "10  0244410011          6242006   1285544          3  82550   1142.80   \n",
       "11  0244410011          6242006   1285544          4  85025   1142.80   \n",
       "12  0244410011          6242006   1285544          5  99284   1142.80   \n",
       "13  0244410011          6242006   1285544          6  93005   1142.80   \n",
       "14  0244410011          6242006   1285544          7  C8952   1142.80   \n",
       "15  0244410011          6242006   1285544          8    NaN   1142.80   \n",
       "16  0244410011          9032006   1461376          1  71020    554.50   \n",
       "17  0244410011          9032006   1461376          2  99283    554.50   \n",
       "18  0244410011          9032006   1461376          3    NaN    554.50   \n",
       "19  0244410011         10032006   1569833          1  88305    165.38   \n",
       "20  0244410011         10032006   1569833          2    NaN    165.38   \n",
       "21  0244410011         10262006   1597331          1  71020    275.59   \n",
       "22  0244410011         10262006   1597331          2    NaN    275.59   \n",
       "23  0244410011          1112006   1630010          1  G0103    611.60   \n",
       "24  0244410011          1112006   1630010          2  80048    611.60   \n",
       "25  0244410011          1112006   1630010          3  80061    611.60   \n",
       "26  0244410011          1112006   1630010          4  80076    611.60   \n",
       "27  0244410011          1112006   1630010          5  83036    611.60   \n",
       "28  0244410011          1112006   1630010          6  84443    611.60   \n",
       "29  0244410011          1112006   1630010          7  85025    611.60   \n",
       "\n",
       "    tot_line  seg_line  \n",
       "0          8         8  \n",
       "1          8         8  \n",
       "2          8         8  \n",
       "3          8         8  \n",
       "4          8         8  \n",
       "5          8         8  \n",
       "6          8         8  \n",
       "7          8         8  \n",
       "8          8         8  \n",
       "9          8         8  \n",
       "10         8         8  \n",
       "11         8         8  \n",
       "12         8         8  \n",
       "13         8         8  \n",
       "14         8         8  \n",
       "15         8         8  \n",
       "16         3         3  \n",
       "17         3         3  \n",
       "18         3         3  \n",
       "19         2         2  \n",
       "20         2         2  \n",
       "21         2         2  \n",
       "22         2         2  \n",
       "23         8         8  \n",
       "24         8         8  \n",
       "25         8         8  \n",
       "26         8         8  \n",
       "27         8         8  \n",
       "28         8         8  \n",
       "29         8         8  "
      ]
     },
     "execution_count": 7,
     "metadata": {},
     "output_type": "execute_result"
    }
   ],
   "source": [
    "krazykols = ['patient_id','claim_from_date',\n",
    "            'link_num','rec_count','hcpcs','tot_chrg','tot_line',\n",
    "            'seg_line']\n",
    "\n",
    "dg[krazykols].head(30)"
   ]
  },
  {
   "cell_type": "code",
   "execution_count": 8,
   "metadata": {
    "collapsed": true
   },
   "outputs": [],
   "source": [
    "dg['claim_from_date'] = dg['claim_from_date'].apply(str)\n",
    "dg['claim_from_date'] = dg['claim_from_date'].apply(lambda x: x.rjust(8, '0'))"
   ]
  },
  {
   "cell_type": "code",
   "execution_count": 9,
   "metadata": {
    "collapsed": true
   },
   "outputs": [],
   "source": [
    "dg['claim_from_date'] = pd.to_datetime(dg['claim_from_date'], format='%m%d%Y')\n",
    "dg['claim_from_date_day'] = dg['claim_from_date'].dt.day\n",
    "dg['claim_from_date_month'] = dg['claim_from_date'].dt.month\n",
    "dg['claim_from_date_year'] = dg['claim_from_date'].dt.year"
   ]
  },
  {
   "cell_type": "markdown",
   "metadata": {},
   "source": [
    "## Now need to load in the stuff from the pedsf big file.\n",
    "\n",
    "We need to only compute the total cost of care for each patient_id, where the 'claim_from_date' is later in time than the diagnosis date."
   ]
  },
  {
   "cell_type": "code",
   "execution_count": 10,
   "metadata": {
    "collapsed": true
   },
   "outputs": [],
   "source": [
    "df = pd.read_pickle('dfpedsfFirsts.pickle')"
   ]
  },
  {
   "cell_type": "code",
   "execution_count": 11,
   "metadata": {
    "collapsed": true
   },
   "outputs": [],
   "source": [
    "df = df.set_index('patient_id',drop=False)"
   ]
  },
  {
   "cell_type": "code",
   "execution_count": 13,
   "metadata": {
    "collapsed": false
   },
   "outputs": [
    {
     "name": "stdout",
     "output_type": "stream",
     "text": [
      "2062 1031 1031\n"
     ]
    }
   ],
   "source": [
    "goodindices = controlindices + treatmentindices\n",
    "print(len(goodindices),len(controlindices),len(treatmentindices))"
   ]
  },
  {
   "cell_type": "code",
   "execution_count": 14,
   "metadata": {
    "collapsed": false
   },
   "outputs": [],
   "source": [
    "df_all_good_indices = df.loc[goodindices].copy()"
   ]
  },
  {
   "cell_type": "code",
   "execution_count": 15,
   "metadata": {
    "collapsed": false
   },
   "outputs": [
    {
     "data": {
      "text/plain": [
       "patient_id\n",
       "8835051335    2009\n",
       "8880063314    2008\n",
       "8865006343    2007\n",
       "8833080450    2010\n",
       "8887079350    2006\n",
       "8855021414    2011\n",
       "8834065023    2008\n",
       "8876047420    2010\n",
       "8840048462    2011\n",
       "8874062373    2008\n",
       "Name: yrdx1, dtype: int64"
      ]
     },
     "execution_count": 15,
     "metadata": {},
     "output_type": "execute_result"
    }
   ],
   "source": [
    "df_all_good_indices.yrdx1.head(10)"
   ]
  },
  {
   "cell_type": "code",
   "execution_count": 16,
   "metadata": {
    "collapsed": false
   },
   "outputs": [
    {
     "data": {
      "text/plain": [
       "patient_id\n",
       "8835051335    Apr\n",
       "8880063314    Dec\n",
       "8865006343    Jul\n",
       "8833080450    Jul\n",
       "8887079350    Jun\n",
       "8855021414    Apr\n",
       "8834065023    Oct\n",
       "8876047420    Jan\n",
       "8840048462    Jul\n",
       "8874062373    Apr\n",
       "Name: modx1, dtype: object"
      ]
     },
     "execution_count": 16,
     "metadata": {},
     "output_type": "execute_result"
    }
   ],
   "source": [
    "df_all_good_indices.modx1.head(10)"
   ]
  },
  {
   "cell_type": "code",
   "execution_count": 18,
   "metadata": {
    "collapsed": false
   },
   "outputs": [
    {
     "data": {
      "text/plain": [
       "Prostate gland               1854\n",
       "Choroid                        86\n",
       "Upper lobe, lung               62\n",
       "Lower lobe, lung               14\n",
       "Frontal lobe                   10\n",
       "Cerebral meninges               6\n",
       "Lower third of esophagus        6\n",
       "Lung, NOS                       4\n",
       "Parotid gland                   4\n",
       "Parietal lobe                   4\n",
       "Acoustic nerve                  2\n",
       "Cervical esophagus              2\n",
       "Middle third of esophagus       2\n",
       "Ciliary body                    2\n",
       "Main bronchus                   2\n",
       "Temporal lobe                   2\n",
       "Name: site1, dtype: int64"
      ]
     },
     "execution_count": 18,
     "metadata": {},
     "output_type": "execute_result"
    }
   ],
   "source": [
    "df_all_good_indices.site1.value_counts()"
   ]
  },
  {
   "cell_type": "code",
   "execution_count": 19,
   "metadata": {
    "collapsed": true
   },
   "outputs": [],
   "source": [
    "del df"
   ]
  },
  {
   "cell_type": "code",
   "execution_count": 20,
   "metadata": {
    "collapsed": true
   },
   "outputs": [],
   "source": [
    "monthdict = {'Jan': '01',\n",
    "            'Feb': '02',\n",
    "            'Mar': '03',\n",
    "            'Apr': '04',\n",
    "            'May': '05',\n",
    "            'Jun': '06',\n",
    "            'Jul': '07',\n",
    "            'Aug': '08',\n",
    "            'Sep': '09',\n",
    "            'Oct': '10',\n",
    "            'Nov': '11',\n",
    "            'Dec': '12'}"
   ]
  },
  {
   "cell_type": "code",
   "execution_count": 21,
   "metadata": {
    "collapsed": false
   },
   "outputs": [
    {
     "data": {
      "text/plain": [
       "patient_id\n",
       "8835051335    04\n",
       "8880063314    12\n",
       "8865006343    07\n",
       "8833080450    07\n",
       "8887079350    06\n",
       "Name: month1, dtype: object"
      ]
     },
     "execution_count": 21,
     "metadata": {},
     "output_type": "execute_result"
    }
   ],
   "source": [
    "df_all_good_indices['month1'] = df_all_good_indices['modx1'].replace(monthdict)\n",
    "df_all_good_indices['month1'].head()\n"
   ]
  },
  {
   "cell_type": "code",
   "execution_count": 22,
   "metadata": {
    "collapsed": false
   },
   "outputs": [
    {
     "data": {
      "text/plain": [
       "8"
      ]
     },
     "execution_count": 22,
     "metadata": {},
     "output_type": "execute_result"
    }
   ],
   "source": [
    "df_all_good_indices['month1'].isnull().sum()"
   ]
  },
  {
   "cell_type": "markdown",
   "metadata": {},
   "source": [
    "# We need to remove from treatmentindices and controlindices any patient_ids that correspond to either a key or value of the d_c_t dictionary that corresponds to any of the 8 patient_ids indicated above."
   ]
  },
  {
   "cell_type": "code",
   "execution_count": 24,
   "metadata": {
    "collapsed": false
   },
   "outputs": [],
   "source": [
    "d_t_c = dict(zip(treatmentindices, controlindices))\n",
    "d_c_t = dict(zip(controlindices, treatmentindices))"
   ]
  },
  {
   "cell_type": "code",
   "execution_count": 25,
   "metadata": {
    "collapsed": true
   },
   "outputs": [],
   "source": [
    "goodcols_eval = ['m_sex','marst1','srace','nhiade','grade1','site1','lat1','lat_1','lng_1','histrec1',\n",
    "            'modx1','birthyr','agedx1','yrdx1']"
   ]
  },
  {
   "cell_type": "code",
   "execution_count": 27,
   "metadata": {
    "collapsed": false
   },
   "outputs": [
    {
     "data": {
      "text/html": [
       "<div>\n",
       "<table border=\"1\" class=\"dataframe\">\n",
       "  <thead>\n",
       "    <tr style=\"text-align: right;\">\n",
       "      <th></th>\n",
       "      <th>m_sex</th>\n",
       "      <th>marst1</th>\n",
       "      <th>srace</th>\n",
       "      <th>nhiade</th>\n",
       "      <th>grade1</th>\n",
       "      <th>site1</th>\n",
       "      <th>lat1</th>\n",
       "      <th>lat_1</th>\n",
       "      <th>lng_1</th>\n",
       "      <th>histrec1</th>\n",
       "      <th>modx1</th>\n",
       "      <th>birthyr</th>\n",
       "      <th>agedx1</th>\n",
       "      <th>yrdx1</th>\n",
       "    </tr>\n",
       "    <tr>\n",
       "      <th>patient_id</th>\n",
       "      <th></th>\n",
       "      <th></th>\n",
       "      <th></th>\n",
       "      <th></th>\n",
       "      <th></th>\n",
       "      <th></th>\n",
       "      <th></th>\n",
       "      <th></th>\n",
       "      <th></th>\n",
       "      <th></th>\n",
       "      <th></th>\n",
       "      <th></th>\n",
       "      <th></th>\n",
       "      <th></th>\n",
       "    </tr>\n",
       "  </thead>\n",
       "  <tbody>\n",
       "    <tr>\n",
       "      <th>8835051335</th>\n",
       "      <td>Male</td>\n",
       "      <td>Married (including common law)</td>\n",
       "      <td>Black</td>\n",
       "      <td>Non-Spanish-Hispanic-Latino</td>\n",
       "      <td>Grade II; grade ii; grade 2; moderately differ...</td>\n",
       "      <td>Prostate gland</td>\n",
       "      <td>Not a paired site</td>\n",
       "      <td>33.9533</td>\n",
       "      <td>-117.396</td>\n",
       "      <td>8140-8398: adenomas and adenocarcinomas</td>\n",
       "      <td>Apr</td>\n",
       "      <td>1939</td>\n",
       "      <td>69</td>\n",
       "      <td>2009</td>\n",
       "    </tr>\n",
       "    <tr>\n",
       "      <th>8893000334</th>\n",
       "      <td>Male</td>\n",
       "      <td>Married (including common law)</td>\n",
       "      <td>Black</td>\n",
       "      <td>Non-Spanish-Hispanic-Latino</td>\n",
       "      <td>Grade II; grade ii; grade 2; moderately differ...</td>\n",
       "      <td>Prostate gland</td>\n",
       "      <td>Not a paired site</td>\n",
       "      <td>34.9592</td>\n",
       "      <td>-116.419</td>\n",
       "      <td>8140-8398: adenomas and adenocarcinomas</td>\n",
       "      <td>Apr</td>\n",
       "      <td>1939</td>\n",
       "      <td>69</td>\n",
       "      <td>2009</td>\n",
       "    </tr>\n",
       "  </tbody>\n",
       "</table>\n",
       "</div>"
      ],
      "text/plain": [
       "           m_sex                          marst1  srace  \\\n",
       "patient_id                                                \n",
       "8835051335  Male  Married (including common law)  Black   \n",
       "8893000334  Male  Married (including common law)  Black   \n",
       "\n",
       "                                 nhiade  \\\n",
       "patient_id                                \n",
       "8835051335  Non-Spanish-Hispanic-Latino   \n",
       "8893000334  Non-Spanish-Hispanic-Latino   \n",
       "\n",
       "                                                       grade1           site1  \\\n",
       "patient_id                                                                      \n",
       "8835051335  Grade II; grade ii; grade 2; moderately differ...  Prostate gland   \n",
       "8893000334  Grade II; grade ii; grade 2; moderately differ...  Prostate gland   \n",
       "\n",
       "                         lat1    lat_1    lng_1  \\\n",
       "patient_id                                        \n",
       "8835051335  Not a paired site  33.9533 -117.396   \n",
       "8893000334  Not a paired site  34.9592 -116.419   \n",
       "\n",
       "                                           histrec1 modx1  birthyr  agedx1  \\\n",
       "patient_id                                                                   \n",
       "8835051335  8140-8398: adenomas and adenocarcinomas   Apr     1939      69   \n",
       "8893000334  8140-8398: adenomas and adenocarcinomas   Apr     1939      69   \n",
       "\n",
       "            yrdx1  \n",
       "patient_id         \n",
       "8835051335   2009  \n",
       "8893000334   2009  "
      ]
     },
     "execution_count": 27,
     "metadata": {},
     "output_type": "execute_result"
    }
   ],
   "source": [
    "df_all_good_indices[goodcols_eval].loc[[controlindices[0],treatmentindices[0]]]"
   ]
  },
  {
   "cell_type": "code",
   "execution_count": 29,
   "metadata": {
    "collapsed": false
   },
   "outputs": [],
   "source": [
    "bad_month_indices_filter = df_all_good_indices['month1'].isnull()"
   ]
  },
  {
   "cell_type": "code",
   "execution_count": 31,
   "metadata": {
    "collapsed": false
   },
   "outputs": [
    {
     "data": {
      "text/plain": [
       "patient_id\n",
       "8821004315    NaN\n",
       "8871012452    NaN\n",
       "8850026350    NaN\n",
       "8894012311    NaN\n",
       "8840093440    NaN\n",
       "8843057443    NaN\n",
       "8860084330    NaN\n",
       "8891049399    NaN\n",
       "Name: month1, dtype: object"
      ]
     },
     "execution_count": 31,
     "metadata": {},
     "output_type": "execute_result"
    }
   ],
   "source": [
    "df_all_good_indices[bad_month_indices_filter].month1"
   ]
  },
  {
   "cell_type": "markdown",
   "metadata": {},
   "source": [
    "## In order to do the paired tests, we need to elminate they key-value pairs in d_t_c, where any of the above 8 patient_ids appear as either a key or a value."
   ]
  },
  {
   "cell_type": "code",
   "execution_count": 33,
   "metadata": {
    "collapsed": false
   },
   "outputs": [
    {
     "name": "stdout",
     "output_type": "stream",
     "text": [
      "['8821004315', '8871012452', '8850026350', '8894012311', '8840093440', '8843057443', '8860084330', '8891049399']\n"
     ]
    }
   ],
   "source": [
    "to_drop = list(df_all_good_indices[bad_month_indices_filter].month1.index)\n",
    "print(to_drop)"
   ]
  },
  {
   "cell_type": "code",
   "execution_count": 35,
   "metadata": {
    "collapsed": false
   },
   "outputs": [
    {
     "data": {
      "text/plain": [
       "False"
      ]
     },
     "execution_count": 35,
     "metadata": {},
     "output_type": "execute_result"
    }
   ],
   "source": [
    "to_drop[0] in d_t_c.keys()"
   ]
  },
  {
   "cell_type": "code",
   "execution_count": 36,
   "metadata": {
    "collapsed": false
   },
   "outputs": [
    {
     "data": {
      "text/plain": [
       "True"
      ]
     },
     "execution_count": 36,
     "metadata": {},
     "output_type": "execute_result"
    }
   ],
   "source": [
    "to_drop[0] in d_t_c.values()"
   ]
  },
  {
   "cell_type": "code",
   "execution_count": 43,
   "metadata": {
    "collapsed": false
   },
   "outputs": [
    {
     "data": {
      "text/plain": [
       "True"
      ]
     },
     "execution_count": 43,
     "metadata": {},
     "output_type": "execute_result"
    }
   ],
   "source": [
    "d_c_t[to_drop[3]] in to_drop"
   ]
  },
  {
   "cell_type": "code",
   "execution_count": 47,
   "metadata": {
    "collapsed": false
   },
   "outputs": [
    {
     "data": {
      "text/plain": [
       "True"
      ]
     },
     "execution_count": 47,
     "metadata": {},
     "output_type": "execute_result"
    }
   ],
   "source": [
    "to_drop[7] in d_t_c.keys()"
   ]
  },
  {
   "cell_type": "markdown",
   "metadata": {},
   "source": [
    "```to_drop[4], to_drop[5], to_drop[6], to_drop[7]``` are all in d_t_c.keys().\n",
    "So we just need to drop those key-value pairs. OK"
   ]
  },
  {
   "cell_type": "code",
   "execution_count": 48,
   "metadata": {
    "collapsed": true
   },
   "outputs": [],
   "source": [
    "for i in (4,5,6,7):\n",
    "    del d_t_c[to_drop[i]]"
   ]
  },
  {
   "cell_type": "code",
   "execution_count": 49,
   "metadata": {
    "collapsed": false
   },
   "outputs": [
    {
     "name": "stdout",
     "output_type": "stream",
     "text": [
      "1027 1027\n"
     ]
    }
   ],
   "source": [
    "goodtreatmentindices = d_t_c.keys()\n",
    "goodcontrolindices = d_t_c.values()\n",
    "print(len(goodtreatmentindices), len(goodcontrolindices))"
   ]
  },
  {
   "cell_type": "code",
   "execution_count": 51,
   "metadata": {
    "collapsed": false
   },
   "outputs": [],
   "source": [
    "df_all_good_indices = df_all_good_indices.loc[list(goodcontrolindices) + list(goodtreatmentindices)]"
   ]
  },
  {
   "cell_type": "code",
   "execution_count": 52,
   "metadata": {
    "collapsed": false
   },
   "outputs": [
    {
     "data": {
      "text/plain": [
       "0"
      ]
     },
     "execution_count": 52,
     "metadata": {},
     "output_type": "execute_result"
    }
   ],
   "source": [
    "df_all_good_indices['month1'].isnull().sum()  # should be zero"
   ]
  },
  {
   "cell_type": "code",
   "execution_count": null,
   "metadata": {
    "collapsed": true
   },
   "outputs": [],
   "source": []
  }
 ],
 "metadata": {
  "kernelspec": {
   "display_name": "Python 3",
   "language": "python",
   "name": "python3"
  },
  "language_info": {
   "codemirror_mode": {
    "name": "ipython",
    "version": 3
   },
   "file_extension": ".py",
   "mimetype": "text/x-python",
   "name": "python",
   "nbconvert_exporter": "python",
   "pygments_lexer": "ipython3",
   "version": "3.5.1"
  },
  "widgets": {
   "state": {},
   "version": "1.1.2"
  }
 },
 "nbformat": 4,
 "nbformat_minor": 0
}
