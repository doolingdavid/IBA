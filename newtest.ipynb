{
 "cells": [
  {
   "cell_type": "code",
   "execution_count": 1,
   "metadata": {
    "collapsed": true
   },
   "outputs": [],
   "source": [
    "import numpy as np\n",
    "import pandas as pd\n",
    "import matplotlib.pyplot as plt\n",
    "from pandas import Series, DataFrame\n",
    "import pytz\n",
    "from pytz import common_timezones, all_timezones\n",
    "import matplotlib\n",
    "matplotlib.style.use('ggplot')\n",
    "%matplotlib inline\n",
    "from datetime import datetime\n",
    "import scipy as sp\n",
    "import statsmodels.api as sm\n",
    "import statsmodels.formula.api as smf\n",
    "matplotlib.style.use('fivethirtyeight')\n",
    "matplotlib.style.use('seaborn-talk')\n",
    "import os\n",
    "import collections"
   ]
  },
  {
   "cell_type": "code",
   "execution_count": 2,
   "metadata": {
    "collapsed": false
   },
   "outputs": [
    {
     "name": "stdout",
     "output_type": "stream",
     "text": [
      "\\\\iobsdc01\\SharedDocs\\SEER_MEDICARE\\SEER_MEDICARE_STAGING\n"
     ]
    }
   ],
   "source": [
    "\n",
    "preDouble = \"\\\\\\\\iobsdc01\\\\SharedDocs\\\\SEER_MEDICARE\\\\SEER_MEDICARE_STAGING\"\n",
    "new = os.chdir(preDouble)\n",
    "print(preDouble)"
   ]
  },
  {
   "cell_type": "code",
   "execution_count": 3,
   "metadata": {
    "collapsed": true
   },
   "outputs": [],
   "source": [
    "import pedsfhelp"
   ]
  },
  {
   "cell_type": "code",
   "execution_count": 4,
   "metadata": {
    "collapsed": false
   },
   "outputs": [
    {
     "name": "stdout",
     "output_type": "stream",
     "text": [
      "(1645, 496)\n"
     ]
    }
   ],
   "source": [
    "df1 = pedsfhelp.make_clean_dataframe('pedsf.nasopharynx.cancer.txt')\n",
    "print(df1.shape)"
   ]
  },
  {
   "cell_type": "markdown",
   "metadata": {},
   "source": [
    "For all non-custom requests, patients have been selected if the cancer(s) requested appeared in the site array (sitewho1-10) and the associated year of diagnosis (yrdx1-10) fell in the year of diagnosis window requested."
   ]
  },
  {
   "cell_type": "code",
   "execution_count": 7,
   "metadata": {
    "collapsed": false
   },
   "outputs": [
    {
     "data": {
      "text/plain": [
       "Nasopharynx                          1445\n",
       "Prostate                               51\n",
       "Breast                                 22\n",
       "Lung and Bronchus                      15\n",
       "Melanoma of the Skin                   14\n",
       "NHL - Nodal                             7\n",
       "Urinary Bladder                         6\n",
       "Tonsil                                  6\n",
       "Gum and Other Mouth                     5\n",
       "Sigmoid Colon                           5\n",
       "Kidney and Renal Pelvis                 5\n",
       "Larynx                                  4\n",
       "Nose, Nasal Cavity and Middle Ear       4\n",
       "Oropharynx                              3\n",
       "Rectum                                  3\n",
       "Liver                                   3\n",
       "Rectosigmoid Junction                   3\n",
       "Chronic Lymphocytic Leukemia            3\n",
       "Corpus Uteri                            3\n",
       "Floor of Mouth                          3\n",
       "Miscellaneous                           3\n",
       "Tongue                                  3\n",
       "Hypopharynx                             2\n",
       "NHL - Extranodal                        2\n",
       "Thyroid                                 2\n",
       "Transverse Colon                        2\n",
       "Cervix Uteri                            2\n",
       "Myeloma                                 2\n",
       "Ovary                                   1\n",
       "Descending Colon                        1\n",
       "Appendix                                1\n",
       "Ureter                                  1\n",
       "Ascending Colon                         1\n",
       "Anus, Anal Canal and Anorectum          1\n",
       "Esophagus                               1\n",
       "Gallbladder                             1\n",
       "Pancreas                                1\n",
       "Eye and Orbit                           1\n",
       "Acute Myeloid Leukemia                  1\n",
       "Cecum                                   1\n",
       "Hepatic Flexure                         1\n",
       "Bones and Joints                        1\n",
       "Salivary Gland                          1\n",
       "Small Intestine                         1\n",
       "Hodkin - Nodal                          1\n",
       "Name: siterwho1, dtype: int64"
      ]
     },
     "execution_count": 7,
     "metadata": {},
     "output_type": "execute_result"
    }
   ],
   "source": [
    "df1.siterwho1.value_counts()"
   ]
  },
  {
   "cell_type": "code",
   "execution_count": 8,
   "metadata": {
    "collapsed": false
   },
   "outputs": [
    {
     "data": {
      "text/plain": [
       "Nasopharynx    1445\n",
       "Name: siterwho1, dtype: int64"
      ]
     },
     "execution_count": 8,
     "metadata": {},
     "output_type": "execute_result"
    }
   ],
   "source": [
    "df1 = df1[df1.siterwho1.str.contains('nasopharynx',case=False,na=False)]\n",
    "df1.siterwho1.value_counts()"
   ]
  },
  {
   "cell_type": "code",
   "execution_count": 9,
   "metadata": {
    "collapsed": false
   },
   "outputs": [
    {
     "name": "stdout",
     "output_type": "stream",
     "text": [
      "(4098, 496)\n"
     ]
    }
   ],
   "source": [
    "df2 = pedsfhelp.make_clean_dataframe('pedsf.salivarygland.cancer.txt')\n",
    "print(df2.shape)"
   ]
  },
  {
   "cell_type": "code",
   "execution_count": 10,
   "metadata": {
    "collapsed": false
   },
   "outputs": [
    {
     "data": {
      "text/plain": [
       "Salivary Gland                         3242\n",
       "Prostate                                190\n",
       "Breast                                  131\n",
       "Melanoma of the Skin                     96\n",
       "Urinary Bladder                          39\n",
       "Lung and Bronchus                        33\n",
       "NHL - Nodal                              31\n",
       "Chronic Lymphocytic Leukemia             28\n",
       "Thyroid                                  26\n",
       "Kidney and Renal Pelvis                  26\n",
       "Corpus Uteri                             17\n",
       "Other Non-Epithelial Skin                16\n",
       "Miscellaneous                            16\n",
       "Lip                                      16\n",
       "Sigmoid Colon                            16\n",
       "Rectum                                   14\n",
       "Gum and Other Mouth                      14\n",
       "Larynx                                   14\n",
       "NHL - Extranodal                         13\n",
       "Ascending Colon                           8\n",
       "Cecum                                     8\n",
       "Tongue                                    8\n",
       "Eye and Orbit                             7\n",
       "Myeloma                                   6\n",
       "Transverse Colon                          6\n",
       "Brain                                     5\n",
       "Stomach                                   5\n",
       "Tonsil                                    5\n",
       "Soft Tissue including Heart               4\n",
       "Nose, Nasal Cavity and Middle Ear         4\n",
       "Hodkin - Nodal                            4\n",
       "Cervix Uteri                              4\n",
       "Rectosigmoid Junction                     4\n",
       "Vulva                                     3\n",
       "Descending Colon                          3\n",
       "Liver                                     2\n",
       "Splenic Flexure                           2\n",
       "Esophagus                                 2\n",
       "Other Endocrine including Thymus          2\n",
       "Pancreas                                  2\n",
       "Cranial Nerves Other Nervous System       2\n",
       "Ovary                                     2\n",
       "Acute Myeloid Leukemia                    2\n",
       "Other Urinary Organs                      2\n",
       "Nasopharynx                               2\n",
       "Hepatic Flexure                           2\n",
       "Other Lymphocytic Leukemia                2\n",
       "Penis                                     1\n",
       "Anus, Anal Canal and Anorectum            1\n",
       "Acute Lymphocytic Leukemia                1\n",
       "Testis                                    1\n",
       "Large Intestine, NOS                      1\n",
       "Ureter                                    1\n",
       "Other Oral Cavity and Pharynx             1\n",
       "Small Intestine                           1\n",
       "Oropharynx                                1\n",
       "Other Bilary                              1\n",
       "Peritoneum, Omentum and Mesentery         1\n",
       "Mesothelioma                              1\n",
       "Name: siterwho1, dtype: int64"
      ]
     },
     "execution_count": 10,
     "metadata": {},
     "output_type": "execute_result"
    }
   ],
   "source": [
    "df2.siterwho1.value_counts()"
   ]
  },
  {
   "cell_type": "code",
   "execution_count": 11,
   "metadata": {
    "collapsed": false
   },
   "outputs": [
    {
     "data": {
      "text/plain": [
       "Salivary Gland    3242\n",
       "Name: siterwho1, dtype: int64"
      ]
     },
     "execution_count": 11,
     "metadata": {},
     "output_type": "execute_result"
    }
   ],
   "source": [
    "df2 = df2[df2.siterwho1.str.contains('salivary',case=False,na=False)]\n",
    "df2.siterwho1.value_counts()"
   ]
  },
  {
   "cell_type": "code",
   "execution_count": 12,
   "metadata": {
    "collapsed": false
   },
   "outputs": [
    {
     "name": "stdout",
     "output_type": "stream",
     "text": [
      "(1373, 496)\n"
     ]
    }
   ],
   "source": [
    "df3 = pedsfhelp.make_clean_dataframe('pedsf.oropharynx.cancer.txt')\n",
    "print(df3.shape)"
   ]
  },
  {
   "cell_type": "code",
   "execution_count": 13,
   "metadata": {
    "collapsed": false
   },
   "outputs": [
    {
     "data": {
      "text/plain": [
       "Oropharynx                             1080\n",
       "Prostate                                 44\n",
       "Lung and Bronchus                        25\n",
       "Gum and Other Mouth                      25\n",
       "Larynx                                   23\n",
       "Breast                                   23\n",
       "Hypopharynx                              14\n",
       "Urinary Bladder                          14\n",
       "Tongue                                   12\n",
       "Tonsil                                   12\n",
       "Floor of Mouth                           11\n",
       "Melanoma of the Skin                      9\n",
       "Esophagus                                 7\n",
       "Miscellaneous                             6\n",
       "NHL - Nodal                               6\n",
       "Other Oral Cavity and Pharynx             6\n",
       "Rectum                                    5\n",
       "Corpus Uteri                              4\n",
       "Nasopharynx                               4\n",
       "Transverse Colon                          3\n",
       "Thyroid                                   3\n",
       "Ascending Colon                           3\n",
       "Ovary                                     2\n",
       "Chronic Lymphocytic Leukemia              2\n",
       "NHL - Extranodal                          2\n",
       "Cervix Uteri                              2\n",
       "Sigmoid Colon                             2\n",
       "Liver                                     2\n",
       "Soft Tissue including Heart               1\n",
       "Chronic Myeloid Leukemia                  1\n",
       "Stomach                                   1\n",
       "Lip                                       1\n",
       "Kaposi Sarcoma                            1\n",
       "Rectosigmoid Junction                     1\n",
       "Anus, Anal Canal and Anorectum            1\n",
       "Splenic Flexure                           1\n",
       "Myeloma                                   1\n",
       "Descending Colon                          1\n",
       "Other Female Genital Organs               1\n",
       "Acute Monocytic Leukemia                  1\n",
       "Gallbladder                               1\n",
       "Ureter                                    1\n",
       "Pancreas                                  1\n",
       "Vagina                                    1\n",
       "Brain                                     1\n",
       "Cranial Nerves Other Nervous System       1\n",
       "Kidney and Renal Pelvis                   1\n",
       "Cecum                                     1\n",
       "Bones and Joints                          1\n",
       "Hodkin - Nodal                            1\n",
       "Name: siterwho1, dtype: int64"
      ]
     },
     "execution_count": 13,
     "metadata": {},
     "output_type": "execute_result"
    }
   ],
   "source": [
    "df3.siterwho1.value_counts()"
   ]
  },
  {
   "cell_type": "code",
   "execution_count": 14,
   "metadata": {
    "collapsed": false
   },
   "outputs": [
    {
     "data": {
      "text/plain": [
       "Oropharynx    1080\n",
       "Name: siterwho1, dtype: int64"
      ]
     },
     "execution_count": 14,
     "metadata": {},
     "output_type": "execute_result"
    }
   ],
   "source": [
    "df3 = df3[df3.siterwho1.str.contains('oropharynx',case=False,na=False)]\n",
    "df3.siterwho1.value_counts()"
   ]
  },
  {
   "cell_type": "code",
   "execution_count": 15,
   "metadata": {
    "collapsed": false
   },
   "outputs": [
    {
     "name": "stdout",
     "output_type": "stream",
     "text": [
      "(16572, 496)\n"
     ]
    }
   ],
   "source": [
    "df4 = pedsfhelp.make_clean_dataframe('pedsf.esophagus.cancer.txt')\n",
    "print(df4.shape)"
   ]
  },
  {
   "cell_type": "code",
   "execution_count": 16,
   "metadata": {
    "collapsed": false
   },
   "outputs": [
    {
     "data": {
      "text/plain": [
       "Esophagus                              13497\n",
       "Prostate                                 868\n",
       "Breast                                   267\n",
       "Lung and Bronchus                        262\n",
       "Urinary Bladder                          191\n",
       "Melanoma of the Skin                     162\n",
       "Larynx                                   122\n",
       "Sigmoid Colon                             77\n",
       "Kidney and Renal Pelvis                   74\n",
       "Stomach                                   70\n",
       "Tongue                                    69\n",
       "NHL - Nodal                               68\n",
       "Rectum                                    67\n",
       "Miscellaneous                             53\n",
       "Cecum                                     52\n",
       "Corpus Uteri                              40\n",
       "NHL - Extranodal                          40\n",
       "Hypopharynx                               38\n",
       "Gum and Other Mouth                       35\n",
       "Tonsil                                    34\n",
       "Cervix Uteri                              31\n",
       "Ascending Colon                           31\n",
       "Floor of Mouth                            29\n",
       "Myeloma                                   27\n",
       "Rectosigmoid Junction                     27\n",
       "Descending Colon                          26\n",
       "Transverse Colon                          25\n",
       "Thyroid                                   22\n",
       "Chronic Lymphocytic Leukemia              21\n",
       "Hodkin - Nodal                            17\n",
       "                                       ...  \n",
       "Splenic Flexure                            9\n",
       "Other Bilary                               8\n",
       "Oropharynx                                 7\n",
       "Penis                                      6\n",
       "Salivary Gland                             6\n",
       "Testis                                     6\n",
       "Other Oral Cavity and Pharynx              6\n",
       "Other Lymphocytic Leukemia                 6\n",
       "Nasopharynx                                6\n",
       "Small Intestine                            5\n",
       "Chronic Myeloid Leukemia                   5\n",
       "Eye and Orbit                              5\n",
       "Brain                                      4\n",
       "Ureter                                     4\n",
       "Nose, Nasal Cavity and Middle Ear          4\n",
       "Acute Myeloid Leukemia                     4\n",
       "Other Endocrine including Thymus           3\n",
       "Kaposi Sarcoma                             3\n",
       "Ovary                                      3\n",
       "Other Myeloid/Monocytic Leukemia           2\n",
       "Mesothelioma                               2\n",
       "Cranial Nerves Other Nervous System        2\n",
       "Gallbladder                                2\n",
       "Other Urinary Organs                       2\n",
       "Vagina                                     2\n",
       "Retroperitoneum                            2\n",
       "Appendix                                   2\n",
       "Other Male Genital Organs                  1\n",
       "Pleura                                     1\n",
       "Other Acute Leukemia                       1\n",
       "Name: siterwho1, dtype: int64"
      ]
     },
     "execution_count": 16,
     "metadata": {},
     "output_type": "execute_result"
    }
   ],
   "source": [
    "df4.siterwho1.value_counts()"
   ]
  },
  {
   "cell_type": "code",
   "execution_count": 17,
   "metadata": {
    "collapsed": false
   },
   "outputs": [
    {
     "data": {
      "text/plain": [
       "Esophagus    13497\n",
       "Name: siterwho1, dtype: int64"
      ]
     },
     "execution_count": 17,
     "metadata": {},
     "output_type": "execute_result"
    }
   ],
   "source": [
    "df4 = df4[df4.siterwho1.str.contains('esophagus',case=False,na=False)]\n",
    "df4.siterwho1.value_counts()"
   ]
  },
  {
   "cell_type": "code",
   "execution_count": 18,
   "metadata": {
    "collapsed": false
   },
   "outputs": [
    {
     "name": "stdout",
     "output_type": "stream",
     "text": [
      "(48050, 496)\n"
     ]
    }
   ],
   "source": [
    "df5 = pedsfhelp.make_clean_dataframe('pedsf.brain.cancer.txt')\n",
    "print(df5.shape)"
   ]
  },
  {
   "cell_type": "code",
   "execution_count": 19,
   "metadata": {
    "collapsed": false
   },
   "outputs": [
    {
     "data": {
      "text/plain": [
       "Cranial Nerves Other Nervous System                  23536\n",
       "Brain                                                15180\n",
       "Breast                                                1959\n",
       "Prostate                                              1544\n",
       "Lung and Bronchus                                     1006\n",
       "Melanoma of the Skin                                   623\n",
       "Urinary Bladder                                        371\n",
       "Kidney and Renal Pelvis                                370\n",
       "Corpus Uteri                                           294\n",
       "NHL - Nodal                                            243\n",
       "Thyroid                                                235\n",
       "Miscellaneous                                          211\n",
       "Sigmoid Colon                                          184\n",
       "Cervix Uteri                                           161\n",
       "Cecum                                                  159\n",
       "Rectum                                                 139\n",
       "NHL - Extranodal                                       137\n",
       "Ascending Colon                                        132\n",
       "Chronic Lymphocytic Leukemia                           118\n",
       "Ovary                                                  106\n",
       "Other Endocrine including Thymus                       103\n",
       "Myeloma                                                 97\n",
       "Pancreas                                                86\n",
       "Stomach                                                 75\n",
       "Transverse Colon                                        57\n",
       "Rectosigmoid Junction                                   53\n",
       "Larynx                                                  45\n",
       "Soft Tissue including Heart                             44\n",
       "Tongue                                                  43\n",
       "Descending Colon                                        42\n",
       "                                                     ...  \n",
       "Peritoneum, Omentum and Mesentery                       15\n",
       "Vagina                                                  13\n",
       "Nose, Nasal Cavity and Middle Ear                       13\n",
       "Mesothelioma                                            12\n",
       "Ureter                                                  12\n",
       "Nasopharynx                                             11\n",
       "Testis                                                  10\n",
       "Retroperitoneum                                          8\n",
       "Hypopharynx                                              7\n",
       "Other Lymphocytic Leukemia                               7\n",
       "Appendix                                                 7\n",
       "Floor of Mouth                                           7\n",
       "Intrahepatic Bile Duct                                   6\n",
       "Other Female Genital Organs                              6\n",
       "Gallbladder                                              6\n",
       "Other Urinary Organs                                     5\n",
       "Penis                                                    5\n",
       "Other Male Genital Organs                                5\n",
       "Kaposi Sarcoma                                           5\n",
       "Uterus, NOS                                              5\n",
       "Other Oral Cavity and Pharynx                            4\n",
       "Acute Lymphocytic Leukemia                               4\n",
       "Other Digestive Organs                                   3\n",
       "Oropharynx                                               3\n",
       "Other Acute Leukemia                                     2\n",
       "Acute Monocytic Leukemia                                 2\n",
       "Aleukemic, subleukemic and NOS                           2\n",
       "Other Myeloid/Monocytic Leukemia                         1\n",
       "Trachea, Mediastinum and Other Respiratory Organs        1\n",
       "Hodgkin - Extranodal                                     1\n",
       "Name: siterwho1, dtype: int64"
      ]
     },
     "execution_count": 19,
     "metadata": {},
     "output_type": "execute_result"
    }
   ],
   "source": [
    "df5.siterwho1.value_counts()"
   ]
  },
  {
   "cell_type": "code",
   "execution_count": 21,
   "metadata": {
    "collapsed": false
   },
   "outputs": [
    {
     "data": {
      "text/plain": [
       "Cranial Nerves Other Nervous System    23536\n",
       "Brain                                  15180\n",
       "Name: siterwho1, dtype: int64"
      ]
     },
     "execution_count": 21,
     "metadata": {},
     "output_type": "execute_result"
    }
   ],
   "source": [
    "df5 = df5[df5.siterwho1.str.contains('cranial',case=False,na=False) | \\\n",
    "         df5.siterwho1.str.contains('brain',case=False,na=False)]\n",
    "df5.siterwho1.value_counts()"
   ]
  },
  {
   "cell_type": "code",
   "execution_count": 22,
   "metadata": {
    "collapsed": false
   },
   "outputs": [
    {
     "name": "stdout",
     "output_type": "stream",
     "text": [
      "(2773, 496)\n"
     ]
    }
   ],
   "source": [
    "df6 = pedsfhelp.make_clean_dataframe('pedsf.eyeandorbit.cancer.txt')\n",
    "print(df6.shape)"
   ]
  },
  {
   "cell_type": "code",
   "execution_count": 23,
   "metadata": {
    "collapsed": false
   },
   "outputs": [
    {
     "data": {
      "text/plain": [
       "Eye and Orbit                        2326\n",
       "Prostate                              115\n",
       "Breast                                 71\n",
       "Melanoma of the Skin                   69\n",
       "Lung and Bronchus                      23\n",
       "Urinary Bladder                        18\n",
       "NHL - Nodal                            16\n",
       "Chronic Lymphocytic Leukemia           11\n",
       "Kidney and Renal Pelvis                11\n",
       "Sigmoid Colon                           9\n",
       "Corpus Uteri                            9\n",
       "Larynx                                  8\n",
       "Miscellaneous                           7\n",
       "Cecum                                   6\n",
       "Cervix Uteri                            6\n",
       "NHL - Extranodal                        5\n",
       "Other Non-Epithelial Skin               5\n",
       "Gum and Other Mouth                     4\n",
       "Tonsil                                  4\n",
       "Rectum                                  4\n",
       "Anus, Anal Canal and Anorectum          3\n",
       "Thyroid                                 3\n",
       "Transverse Colon                        3\n",
       "Hepatic Flexure                         3\n",
       "Ascending Colon                         3\n",
       "Ovary                                   3\n",
       "Nose, Nasal Cavity and Middle Ear       2\n",
       "Small Intestine                         2\n",
       "Rectosigmoid Junction                   2\n",
       "Tongue                                  2\n",
       "Other Endocrine including Thymus        2\n",
       "Lip                                     2\n",
       "Salivary Gland                          2\n",
       "Liver                                   2\n",
       "Penis                                   2\n",
       "Stomach                                 1\n",
       "Descending Colon                        1\n",
       "Ureter                                  1\n",
       "Pancreas                                1\n",
       "Acute Myeloid Leukemia                  1\n",
       "Esophagus                               1\n",
       "Soft Tissue including Heart             1\n",
       "Chronic Myeloid Leukemia                1\n",
       "Myeloma                                 1\n",
       "Hodkin - Nodal                          1\n",
       "Name: siterwho1, dtype: int64"
      ]
     },
     "execution_count": 23,
     "metadata": {},
     "output_type": "execute_result"
    }
   ],
   "source": [
    "df6.siterwho1.value_counts()"
   ]
  },
  {
   "cell_type": "code",
   "execution_count": 24,
   "metadata": {
    "collapsed": false
   },
   "outputs": [
    {
     "data": {
      "text/plain": [
       "Eye and Orbit    2326\n",
       "Name: siterwho1, dtype: int64"
      ]
     },
     "execution_count": 24,
     "metadata": {},
     "output_type": "execute_result"
    }
   ],
   "source": [
    "df6 = df6[df6.siterwho1.str.contains('eye',case=False,na=False)]\n",
    "df6.siterwho1.value_counts()"
   ]
  },
  {
   "cell_type": "code",
   "execution_count": 25,
   "metadata": {
    "collapsed": false
   },
   "outputs": [
    {
     "name": "stdout",
     "output_type": "stream",
     "text": [
      "(8741, 496)\n"
     ]
    }
   ],
   "source": [
    "df7 = pedsfhelp.make_clean_dataframe('pedsf.softtissue.cancer.txt')\n",
    "print(df7.shape)"
   ]
  },
  {
   "cell_type": "code",
   "execution_count": 26,
   "metadata": {
    "collapsed": false
   },
   "outputs": [
    {
     "data": {
      "text/plain": [
       "Soft Tissue including Heart            6968\n",
       "Prostate                                435\n",
       "Breast                                  305\n",
       "Melanoma of the Skin                    171\n",
       "Urinary Bladder                          97\n",
       "Lung and Bronchus                        78\n",
       "Corpus Uteri                             61\n",
       "Rectum                                   37\n",
       "Kidney and Renal Pelvis                  35\n",
       "NHL - Nodal                              33\n",
       "Miscellaneous                            33\n",
       "Thyroid                                  31\n",
       "Chronic Lymphocytic Leukemia             28\n",
       "NHL - Extranodal                         23\n",
       "Other Non-Epithelial Skin                23\n",
       "Larynx                                   22\n",
       "Cecum                                    22\n",
       "Ovary                                    19\n",
       "Cervix Uteri                             18\n",
       "Sigmoid Colon                            18\n",
       "Ascending Colon                          15\n",
       "Myeloma                                  14\n",
       "Tongue                                   13\n",
       "Hodkin - Nodal                           12\n",
       "Vulva                                    11\n",
       "Descending Colon                         11\n",
       "Stomach                                  11\n",
       "Bones and Joints                         11\n",
       "Small Intestine                           9\n",
       "Anus, Anal Canal and Anorectum            9\n",
       "                                       ... \n",
       "Transverse Colon                          7\n",
       "Liver                                     7\n",
       "Tonsil                                    7\n",
       "Other Male Genital Organs                 7\n",
       "Other Endocrine including Thymus          6\n",
       "Other Bilary                              6\n",
       "Vagina                                    5\n",
       "Acute Myeloid Leukemia                    5\n",
       "Hepatic Flexure                           5\n",
       "Large Intestine, NOS                      4\n",
       "Nose, Nasal Cavity and Middle Ear         4\n",
       "Eye and Orbit                             4\n",
       "Other Digestive Organs                    3\n",
       "Other Lymphocytic Leukemia                3\n",
       "Salivary Gland                            3\n",
       "Other Urinary Organs                      3\n",
       "Floor of Mouth                            3\n",
       "Other Oral Cavity and Pharynx             3\n",
       "Hypopharynx                               3\n",
       "Pancreas                                  3\n",
       "Ureter                                    2\n",
       "Nasopharynx                               2\n",
       "Uterus, NOS                               2\n",
       "Oropharynx                                1\n",
       "Cranial Nerves Other Nervous System       1\n",
       "Peritoneum, Omentum and Mesentery         1\n",
       "Acute Lymphocytic Leukemia                1\n",
       "Mesothelioma                              1\n",
       "Penis                                     1\n",
       "Appendix                                  1\n",
       "Name: siterwho1, dtype: int64"
      ]
     },
     "execution_count": 26,
     "metadata": {},
     "output_type": "execute_result"
    }
   ],
   "source": [
    "df7.siterwho1.value_counts()"
   ]
  },
  {
   "cell_type": "code",
   "execution_count": 27,
   "metadata": {
    "collapsed": false
   },
   "outputs": [
    {
     "data": {
      "text/plain": [
       "Soft Tissue including Heart    6968\n",
       "Name: siterwho1, dtype: int64"
      ]
     },
     "execution_count": 27,
     "metadata": {},
     "output_type": "execute_result"
    }
   ],
   "source": [
    "df7 = df7[df7.siterwho1.str.contains('soft',case=False,na=False)]\n",
    "df7.siterwho1.value_counts()"
   ]
  },
  {
   "cell_type": "code",
   "execution_count": 28,
   "metadata": {
    "collapsed": false
   },
   "outputs": [
    {
     "name": "stdout",
     "output_type": "stream",
     "text": [
      "(119999, 496)\n"
     ]
    }
   ],
   "source": [
    "df8 = pedsfhelp.make_clean_dataframe('pedsf.prostate.cancer.file01.txt')\n",
    "print(df8.shape)"
   ]
  },
  {
   "cell_type": "code",
   "execution_count": 29,
   "metadata": {
    "collapsed": false
   },
   "outputs": [
    {
     "data": {
      "text/plain": [
       "Prostate                                             109339\n",
       "Urinary Bladder                                        2388\n",
       "Melanoma of the Skin                                   1741\n",
       "Kidney and Renal Pelvis                                 729\n",
       "Lung and Bronchus                                       601\n",
       "Sigmoid Colon                                           535\n",
       "NHL - Nodal                                             418\n",
       "Rectum                                                  353\n",
       "Cecum                                                   271\n",
       "Ascending Colon                                         259\n",
       "Chronic Lymphocytic Leukemia                            254\n",
       "Larynx                                                  239\n",
       "Miscellaneous                                           239\n",
       "NHL - Extranodal                                        194\n",
       "Thyroid                                                 187\n",
       "Rectosigmoid Junction                                   172\n",
       "Myeloma                                                 129\n",
       "Stomach                                                 120\n",
       "Descending Colon                                        100\n",
       "Transverse Colon                                         98\n",
       "Tongue                                                   96\n",
       "Lip                                                      90\n",
       "Small Intestine                                          85\n",
       "Soft Tissue including Heart                              82\n",
       "Hepatic Flexure                                          78\n",
       "Other Non-Epithelial Skin                                78\n",
       "Esophagus                                                78\n",
       "Testis                                                   75\n",
       "Hodkin - Nodal                                           73\n",
       "Tonsil                                                   68\n",
       "                                                      ...  \n",
       "Other Urinary Organs                                     31\n",
       "Floor of Mouth                                           28\n",
       "Other Lymphocytic Leukemia                               27\n",
       "Nasopharynx                                              25\n",
       "Brain                                                    24\n",
       "Hypopharynx                                              22\n",
       "Other Bilary                                             20\n",
       "Anus, Anal Canal and Anorectum                           18\n",
       "Nose, Nasal Cavity and Middle Ear                        18\n",
       "Acute Myeloid Leukemia                                   17\n",
       "Appendix                                                 16\n",
       "Kaposi Sarcoma                                           14\n",
       "Other Male Genital Organs                                13\n",
       "Bones and Joints                                         12\n",
       "Oropharynx                                               11\n",
       "Cranial Nerves Other Nervous System                       8\n",
       "Other Endocrine including Thymus                          7\n",
       "Gallbladder                                               7\n",
       "Other Oral Cavity and Pharynx                             6\n",
       "Retroperitoneum                                           6\n",
       "Mesothelioma                                              6\n",
       "Peritoneum, Omentum and Mesentery                         4\n",
       "Other Digestive Organs                                    4\n",
       "Aleukemic, subleukemic and NOS                            4\n",
       "Intrahepatic Bile Duct                                    3\n",
       "Other Acute Leukemia                                      2\n",
       "Trachea, Mediastinum and Other Respiratory Organs         2\n",
       "Other Myeloid/Monocytic Leukemia                          2\n",
       "Pleura                                                    1\n",
       "Acute Monocytic Leukemia                                  1\n",
       "Name: siterwho1, dtype: int64"
      ]
     },
     "execution_count": 29,
     "metadata": {},
     "output_type": "execute_result"
    }
   ],
   "source": [
    "df8.siterwho1.value_counts()"
   ]
  },
  {
   "cell_type": "code",
   "execution_count": 30,
   "metadata": {
    "collapsed": false
   },
   "outputs": [
    {
     "data": {
      "text/plain": [
       "Prostate    109339\n",
       "Name: siterwho1, dtype: int64"
      ]
     },
     "execution_count": 30,
     "metadata": {},
     "output_type": "execute_result"
    }
   ],
   "source": [
    "df8 = df8[df8.siterwho1.str.contains('prostate',case=False,na=False)]\n",
    "df8.siterwho1.value_counts()"
   ]
  },
  {
   "cell_type": "code",
   "execution_count": 31,
   "metadata": {
    "collapsed": false
   },
   "outputs": [
    {
     "name": "stdout",
     "output_type": "stream",
     "text": [
      "(120000, 496)\n"
     ]
    }
   ],
   "source": [
    "df9 = pedsfhelp.make_clean_dataframe('pedsf.prostate.cancer.file02.txt')\n",
    "print(df9.shape)"
   ]
  },
  {
   "cell_type": "code",
   "execution_count": 32,
   "metadata": {
    "collapsed": false
   },
   "outputs": [
    {
     "data": {
      "text/plain": [
       "Prostate                                             110986\n",
       "Urinary Bladder                                        2155\n",
       "Melanoma of the Skin                                   1577\n",
       "Kidney and Renal Pelvis                                 642\n",
       "Lung and Bronchus                                       487\n",
       "Sigmoid Colon                                           413\n",
       "NHL - Nodal                                             307\n",
       "Rectum                                                  277\n",
       "Miscellaneous                                           217\n",
       "Cecum                                                   215\n",
       "Ascending Colon                                         197\n",
       "Chronic Lymphocytic Leukemia                            188\n",
       "Larynx                                                  181\n",
       "NHL - Extranodal                                        180\n",
       "Thyroid                                                 169\n",
       "Stomach                                                 109\n",
       "Myeloma                                                 108\n",
       "Tongue                                                  106\n",
       "Transverse Colon                                        101\n",
       "Rectosigmoid Junction                                    97\n",
       "Descending Colon                                         84\n",
       "Soft Tissue including Heart                              73\n",
       "Other Non-Epithelial Skin                                64\n",
       "Esophagus                                                59\n",
       "Breast                                                   58\n",
       "Tonsil                                                   57\n",
       "Pancreas                                                 51\n",
       "Liver                                                    50\n",
       "Hepatic Flexure                                          45\n",
       "Chronic Myeloid Leukemia                                 44\n",
       "                                                      ...  \n",
       "Penis                                                    26\n",
       "Other Urinary Organs                                     23\n",
       "Floor of Mouth                                           20\n",
       "Acute Myeloid Leukemia                                   19\n",
       "Brain                                                    17\n",
       "Hypopharynx                                              17\n",
       "Nose, Nasal Cavity and Middle Ear                        16\n",
       "Other Endocrine including Thymus                         16\n",
       "Other Bilary                                             13\n",
       "Bones and Joints                                         13\n",
       "Kaposi Sarcoma                                           13\n",
       "Nasopharynx                                              10\n",
       "Appendix                                                 10\n",
       "Oropharynx                                                7\n",
       "Other Male Genital Organs                                 7\n",
       "Acute Monocytic Leukemia                                  5\n",
       "Retroperitoneum                                           5\n",
       "Intrahepatic Bile Duct                                    4\n",
       "Other Oral Cavity and Pharynx                             4\n",
       "Other Digestive Organs                                    4\n",
       "Mesothelioma                                              3\n",
       "Cranial Nerves Other Nervous System                       3\n",
       "Gallbladder                                               3\n",
       "Other Myeloid/Monocytic Leukemia                          2\n",
       "Hodgkin - Extranodal                                      2\n",
       "Aleukemic, subleukemic and NOS                            2\n",
       "Trachea, Mediastinum and Other Respiratory Organs         2\n",
       "Acute Lymphocytic Leukemia                                2\n",
       "Peritoneum, Omentum and Mesentery                         2\n",
       "Other Acute Leukemia                                      1\n",
       "Name: siterwho1, dtype: int64"
      ]
     },
     "execution_count": 32,
     "metadata": {},
     "output_type": "execute_result"
    }
   ],
   "source": [
    "df9.siterwho1.value_counts()"
   ]
  },
  {
   "cell_type": "code",
   "execution_count": 33,
   "metadata": {
    "collapsed": false
   },
   "outputs": [
    {
     "data": {
      "text/plain": [
       "Prostate    110986\n",
       "Name: siterwho1, dtype: int64"
      ]
     },
     "execution_count": 33,
     "metadata": {},
     "output_type": "execute_result"
    }
   ],
   "source": [
    "df9 = df9[df9.siterwho1.str.contains('prostate',case=False,na=False)]\n",
    "df9.siterwho1.value_counts()"
   ]
  },
  {
   "cell_type": "code",
   "execution_count": 34,
   "metadata": {
    "collapsed": false
   },
   "outputs": [
    {
     "name": "stdout",
     "output_type": "stream",
     "text": [
      "(28274, 496)\n"
     ]
    }
   ],
   "source": [
    "df10 = pedsfhelp.make_clean_dataframe('pedsf.prostate.cancer.file03.txt')\n",
    "print(df10.shape)"
   ]
  },
  {
   "cell_type": "code",
   "execution_count": 35,
   "metadata": {
    "collapsed": false
   },
   "outputs": [
    {
     "data": {
      "text/plain": [
       "Prostate    26052\n",
       "Name: siterwho1, dtype: int64"
      ]
     },
     "execution_count": 35,
     "metadata": {},
     "output_type": "execute_result"
    }
   ],
   "source": [
    "df10 = df10[df10.siterwho1.str.contains('prostate',case=False,na=False)]\n",
    "df10.siterwho1.value_counts()"
   ]
  },
  {
   "cell_type": "code",
   "execution_count": 36,
   "metadata": {
    "collapsed": false
   },
   "outputs": [
    {
     "name": "stdout",
     "output_type": "stream",
     "text": [
      "(119999, 496)\n"
     ]
    }
   ],
   "source": [
    "df11 = pedsfhelp.make_clean_dataframe('pedsf.lung.cancer.file01.txt')\n",
    "print(df11.shape)"
   ]
  },
  {
   "cell_type": "code",
   "execution_count": 38,
   "metadata": {
    "collapsed": false
   },
   "outputs": [
    {
     "data": {
      "text/plain": [
       "Lung and Bronchus                                    98819\n",
       "Prostate                                              4683\n",
       "Breast                                                3686\n",
       "Urinary Bladder                                       2134\n",
       "Melanoma of the Skin                                  1018\n",
       "Larynx                                                 837\n",
       "Kidney and Renal Pelvis                                663\n",
       "Sigmoid Colon                                          588\n",
       "NHL - Nodal                                            570\n",
       "Cervix Uteri                                           563\n",
       "Rectum                                                 490\n",
       "Corpus Uteri                                           473\n",
       "Cecum                                                  391\n",
       "Miscellaneous                                          389\n",
       "Ascending Colon                                        331\n",
       "Chronic Lymphocytic Leukemia                           270\n",
       "Thyroid                                                259\n",
       "NHL - Extranodal                                       255\n",
       "Tongue                                                 214\n",
       "Rectosigmoid Junction                                  203\n",
       "Vulva                                                  187\n",
       "Transverse Colon                                       161\n",
       "Stomach                                                157\n",
       "Gum and Other Mouth                                    143\n",
       "Esophagus                                              135\n",
       "Floor of Mouth                                         131\n",
       "Tonsil                                                 130\n",
       "Ovary                                                  120\n",
       "Lip                                                    113\n",
       "Pancreas                                               113\n",
       "                                                     ...  \n",
       "Nasopharynx                                             34\n",
       "Oropharynx                                              33\n",
       "Acute Myeloid Leukemia                                  32\n",
       "Vagina                                                  31\n",
       "Other Bilary                                            28\n",
       "Brain                                                   28\n",
       "Other Endocrine including Thymus                        23\n",
       "Other Urinary Organs                                    22\n",
       "Gallbladder                                             17\n",
       "Other Lymphocytic Leukemia                              17\n",
       "Other Oral Cavity and Pharynx                           16\n",
       "Bones and Joints                                        16\n",
       "Appendix                                                15\n",
       "Mesothelioma                                            14\n",
       "Cranial Nerves Other Nervous System                     13\n",
       "Other Female Genital Organs                              9\n",
       "Other Male Genital Organs                                8\n",
       "Retroperitoneum                                          8\n",
       "Aleukemic, subleukemic and NOS                           8\n",
       "Peritoneum, Omentum and Mesentery                        6\n",
       "Trachea, Mediastinum and Other Respiratory Organs        6\n",
       "Uterus, NOS                                              5\n",
       "Other Acute Leukemia                                     4\n",
       "Intrahepatic Bile Duct                                   3\n",
       "Other Digestive Organs                                   3\n",
       "Kaposi Sarcoma                                           2\n",
       "Hodgkin - Extranodal                                     2\n",
       "Acute Lymphocytic Leukemia                               2\n",
       "Pleura                                                   1\n",
       "Acute Monocytic Leukemia                                 1\n",
       "Name: siterwho1, dtype: int64"
      ]
     },
     "execution_count": 38,
     "metadata": {},
     "output_type": "execute_result"
    }
   ],
   "source": [
    "df11.siterwho1.value_counts()"
   ]
  },
  {
   "cell_type": "code",
   "execution_count": 39,
   "metadata": {
    "collapsed": false
   },
   "outputs": [
    {
     "data": {
      "text/plain": [
       "Lung and Bronchus    98819\n",
       "Name: siterwho1, dtype: int64"
      ]
     },
     "execution_count": 39,
     "metadata": {},
     "output_type": "execute_result"
    }
   ],
   "source": [
    "df11 = df11[df11.siterwho1.str.contains('lung',case=False,na=False)]\n",
    "df11.siterwho1.value_counts()"
   ]
  },
  {
   "cell_type": "code",
   "execution_count": 40,
   "metadata": {
    "collapsed": false
   },
   "outputs": [
    {
     "name": "stdout",
     "output_type": "stream",
     "text": [
      "(115358, 496)\n"
     ]
    }
   ],
   "source": [
    "\n",
    "df12 = pedsfhelp.make_clean_dataframe('pedsf.lung.cancer.file02.txt')\n",
    "print(df12.shape)"
   ]
  },
  {
   "cell_type": "code",
   "execution_count": 41,
   "metadata": {
    "collapsed": false
   },
   "outputs": [
    {
     "data": {
      "text/plain": [
       "Lung and Bronchus    97514\n",
       "Name: siterwho1, dtype: int64"
      ]
     },
     "execution_count": 41,
     "metadata": {},
     "output_type": "execute_result"
    }
   ],
   "source": [
    "df12 = df12[df12.siterwho1.str.contains('lung',case=False,na=False)]\n",
    "df12.siterwho1.value_counts()"
   ]
  },
  {
   "cell_type": "code",
   "execution_count": 42,
   "metadata": {
    "collapsed": false
   },
   "outputs": [
    {
     "name": "stdout",
     "output_type": "stream",
     "text": [
      "(509984, 496)\n"
     ]
    }
   ],
   "source": [
    "df = pd.concat([df1,df2,df3,df4,df5,df6,\n",
    "                df7,df8,df9,df10,df11,df12],ignore_index=True)\n",
    "\n",
    "print(df.shape)"
   ]
  },
  {
   "cell_type": "code",
   "execution_count": 43,
   "metadata": {
    "collapsed": true
   },
   "outputs": [],
   "source": [
    "del df1\n",
    "del df2\n",
    "del df3\n",
    "del df4\n",
    "del df5\n",
    "del df6\n",
    "del df7\n",
    "del df8\n",
    "del df9\n",
    "del df10\n",
    "del df11\n",
    "del df12"
   ]
  },
  {
   "cell_type": "code",
   "execution_count": 44,
   "metadata": {
    "collapsed": true
   },
   "outputs": [],
   "source": [
    "#store = HDFStore(\"pedsf.h5\")\n",
    "#store['dfpedsf'] = df\n",
    "#store.close()\n",
    "\n",
    "df.to_pickle('dfpedsfFirsts.pickle')"
   ]
  },
  {
   "cell_type": "code",
   "execution_count": 45,
   "metadata": {
    "collapsed": false
   },
   "outputs": [
    {
     "data": {
      "text/plain": [
       "<matplotlib.axes._subplots.AxesSubplot at 0x198b49048>"
      ]
     },
     "execution_count": 45,
     "metadata": {},
     "output_type": "execute_result"
    },
    {
     "data": {
      "image/png": "[encoded data removed]",
      "text/plain": [
       "<matplotlib.figure.Figure at 0x2013116d8>"
      ]
     },
     "metadata": {},
     "output_type": "display_data"
    }
   ],
   "source": [
    "one = df.payer_dx1.dropna().value_counts(normalize=True).sort_index()\n",
    "two = df.payer_dx2.dropna().value_counts(normalize=True).sort_index()\n",
    "\n",
    "three = df.payer_dx3.dropna().value_counts(normalize=True).sort_index()\n",
    "\n",
    "dfager = pd.DataFrame({'payer_dx1': one,\n",
    "                      'payer_dx2': two,\n",
    "                      'payer_dx3': three})\n",
    "\n",
    "dfager.plot(kind='barh')\n"
   ]
  },
  {
   "cell_type": "code",
   "execution_count": 46,
   "metadata": {
    "collapsed": false
   },
   "outputs": [
    {
     "data": {
      "text/plain": [
       "<matplotlib.axes._subplots.AxesSubplot at 0x207e74dd8>"
      ]
     },
     "execution_count": 46,
     "metadata": {},
     "output_type": "execute_result"
    },
    {
     "data": {
      "image/png": "[encoded data removed]",
      "text/plain": [
       "<matplotlib.figure.Figure at 0x207deb278>"
      ]
     },
     "metadata": {},
     "output_type": "display_data"
    }
   ],
   "source": [
    "one = df.ager1.dropna().value_counts(normalize=True).sort_index()\n",
    "two = df.ager2.dropna().value_counts(normalize=True).sort_index()\n",
    "\n",
    "three = df.ager3.dropna().value_counts(normalize=True).sort_index()\n",
    "\n",
    "dfager = pd.DataFrame({'ager1': one,\n",
    "                      'ager2': two,\n",
    "                      'ager3': three})\n",
    "\n",
    "dfager.plot(kind='barh')"
   ]
  },
  {
   "cell_type": "code",
   "execution_count": 47,
   "metadata": {
    "collapsed": false
   },
   "outputs": [
    {
     "name": "stdout",
     "output_type": "stream",
     "text": [
      "['casereg', 'patient_id', 'casenumber', 'fivepct', 'medicaredateofdeath', 'birthm', 'birthyr', 'm_sex', 'race', 'state', 'county', 'zip5', 'urbrur', 'urban', 's_sex', 'rac_recb', 'rac_recy', 'rac_reca', 'icd_code', 'cod89v', 'cod10v', 'codkm', 'codpub', 'nhiade', 'ser_dodm', 'ser_dody', 'deathflag', 'srace', 'origin', 'origrecb', 'stat_rec', 'census_pov_ind', 'yr_brth', 'count', 'numprims', 'resnrec', 'plc_brth_cnt', 'plc_brth_state', 'reg1', 'marst1', 'agedx1', 'seq1', 'modx1', 'yrdx1', 'site1', 'lat1', 'hist1', 'beh1', 'grade1', 'dxconf1', 'e10pn1', 'cstum1', 'dajcct1', 'dajccn1', 'dajccm1', 'dajccstg1', 'dss77s1', 'dss00s1', 'sxprif1', 'sxscof1', 'sxsitf1', 'nosrg1', 'rad1', 'radsurg1', 'ager1', 'siterwho1', 'icdot09_1', 'iccc3who1', 'histrec1', 'hisrcb1', 'statecd1', 'cnty1', 'cssch1', 'srvm1', 'insrecpb1', 'payer_dx1', 'reg2', 'marst2', 'agedx2', 'seq2', 'modx2', 'yrdx2', 'site2', 'lat2', 'hist2', 'beh2', 'grade2', 'dxconf2', 'e10pn2', 'cstum2', 'dajcct2', 'dajccn2', 'dajccm2', 'dajccstg2', 'dss77s2', 'dss00s2', 'sxprif2', 'sxscof2', 'sxsitf2', 'nosrg2', 'rad2', 'radsurg2', 'ager2', 'siterwho2', 'icdot09_2', 'iccc3who2', 'histrec2', 'hisrcb2', 'statecd2', 'cnty2', 'cssch2', 'srvm2', 'insrecpb2', 'payer_dx2', 'reg3', 'marst3', 'agedx3', 'seq3', 'modx3', 'yrdx3', 'site3', 'lat3', 'hist3', 'beh3', 'grade3', 'dxconf3', 'e10pn3', 'cstum3', 'dajcct3', 'dajccn3', 'dajccm3', 'dajccstg3', 'dss77s3', 'dss00s3', 'sxprif3', 'sxscof3', 'sxsitf3', 'nosrg3', 'rad3', 'radsurg3', 'ager3', 'siterwho3', 'icdot09_3', 'iccc3who3', 'histrec3', 'hisrcb3', 'statecd3', 'cnty3', 'cssch3', 'srvm3', 'insrecpb3', 'payer_dx3', 'reg4', 'marst4', 'agedx4', 'seq4', 'modx4', 'yrdx4', 'site4', 'lat4', 'hist4', 'beh4', 'grade4', 'dxconf4', 'e10pn4', 'cstum4', 'dajcct4', 'dajccn4', 'dajccm4', 'dajccstg4', 'dss77s4', 'dss00s4', 'sxprif4', 'sxscof4', 'sxsitf4', 'nosrg4', 'rad4', 'radsurg4', 'ager4', 'siterwho4', 'icdot09_4', 'iccc3who4', 'histrec4', 'hisrcb4', 'statecd4', 'cnty4', 'cssch4', 'srvm4', 'insrecpb4', 'payer_dx4', 'reg5', 'marst5', 'agedx5', 'seq5', 'modx5', 'yrdx5', 'site5', 'lat5', 'hist5', 'beh5', 'grade5', 'dxconf5', 'e10pn5', 'cstum5', 'dajcct5', 'dajccn5', 'dajccm5', 'dajccstg5', 'dss77s5', 'dss00s5', 'sxprif5', 'sxscof5', 'sxsitf5', 'nosrg5', 'rad5', 'radsurg5', 'ager5', 'siterwho5', 'icdot09_5', 'iccc3who5', 'histrec5', 'hisrcb5', 'statecd5', 'cnty5', 'cssch5', 'srvm5', 'insrecpb5', 'payer_dx5', 'reg6', 'marst6', 'agedx6', 'seq6', 'modx6', 'yrdx6', 'site6', 'lat6', 'hist6', 'beh6', 'grade6', 'dxconf6', 'e10pn6', 'cstum6', 'dajcct6', 'dajccn6', 'dajccm6', 'dajccstg6', 'dss77s6', 'dss00s6', 'sxprif6', 'sxscof6', 'sxsitf6', 'nosrg6', 'rad6', 'radsurg6', 'ager6', 'siterwho6', 'icdot09_6', 'iccc3who6', 'histrec6', 'hisrcb6', 'statecd6', 'cnty6', 'cssch6', 'srvm6', 'insrecpb6', 'payer_dx6', 'reg7', 'marst7', 'agedx7', 'seq7', 'modx7', 'yrdx7', 'site7', 'lat7', 'hist7', 'beh7', 'grade7', 'dxconf7', 'e10pn7', 'cstum7', 'dajcct7', 'dajccn7', 'dajccm7', 'dajccstg7', 'dss77s7', 'dss00s7', 'sxprif7', 'sxscof7', 'sxsitf7', 'nosrg7', 'rad7', 'radsurg7', 'ager7', 'siterwho7', 'icdot09_7', 'iccc3who7', 'histrec7', 'hisrcb7', 'statecd7', 'cnty7', 'cssch7', 'srvm7', 'insrecpb7', 'payer_dx7', 'reg8', 'marst8', 'agedx8', 'seq8', 'modx8', 'yrdx8', 'site8', 'lat8', 'hist8', 'beh8', 'grade8', 'dxconf8', 'e10pn8', 'cstum8', 'dajcct8', 'dajccn8', 'dajccm8', 'dajccstg8', 'dss77s8', 'dss00s8', 'sxprif8', 'sxscof8', 'sxsitf8', 'nosrg8', 'rad8', 'radsurg8', 'ager8', 'siterwho8', 'icdot09_8', 'iccc3who8', 'histrec8', 'hisrcb8', 'statecd8', 'cnty8', 'cssch8', 'srvm8', 'insrecpb8', 'payer_dx8', 'reg9', 'marst9', 'agedx9', 'seq9', 'modx9', 'yrdx9', 'site9', 'lat9', 'hist9', 'beh9', 'grade9', 'dxconf9', 'e10pn9', 'cstum9', 'dajcct9', 'dajccn9', 'dajccm9', 'dajccstg9', 'dss77s9', 'dss00s9', 'sxprif9', 'sxscof9', 'sxsitf9', 'nosrg9', 'rad9', 'radsurg9', 'ager9', 'siterwho9', 'icdot09_9', 'iccc3who9', 'histrec9', 'hisrcb9', 'statecd9', 'cnty9', 'cssch9', 'srvm9', 'insrecpb9', 'payer_dx9', 'reg10', 'marst10', 'agedx10', 'seq10', 'modx10', 'yrdx10', 'site10', 'lat10', 'hist10', 'beh10', 'grade10', 'dxconf10', 'e10pn10', 'cstum10', 'dajcct10', 'dajccn10', 'dajccm10', 'dajccstg10', 'dss77s10', 'dss00s10', 'sxprif10', 'sxscof10', 'sxsitf10', 'nosrg10', 'rad10', 'radsurg10', 'ager10', 'siterwho10', 'icdot09_10', 'iccc3who10', 'histrec10', 'hisrcb10', 'statecd10', 'cnty10', 'cssch10', 'srvm10', 'insrecpb10', 'payer_dx10', 'ST_CNTY', 'FIPScombo', 'ST_CNTY_ORIG', 'STATE', 'elevation', 'lat', 'lng', 'countystate', 'ST_CNTY_1', 'ST_CNTY_2', 'ST_CNTY_3', 'ST_CNTY_4', 'ST_CNTY_5', 'ST_CNTY_6', 'ST_CNTY_7', 'ST_CNTY_8', 'ST_CNTY_9', 'ST_CNTY_10', 'FIPScombo_1', 'FIPScombo_2', 'FIPScombo_3', 'FIPScombo_4', 'FIPScombo_5', 'FIPScombo_6', 'FIPScombo_7', 'FIPScombo_8', 'FIPScombo_9', 'FIPScombo_10', 'elevation_1', 'elevation_2', 'elevation_3', 'elevation_4', 'elevation_5', 'elevation_6', 'elevation_7', 'elevation_8', 'elevation_9', 'elevation_10', 'lat_1', 'lat_2', 'lat_3', 'lat_4', 'lat_5', 'lat_6', 'lat_7', 'lat_8', 'lat_9', 'lat_10', 'lng_1', 'lng_2', 'lng_3', 'lng_4', 'lng_5', 'lng_6', 'lng_7', 'lng_8', 'lng_9', 'lng_10', 'countystate_1', 'countystate_2', 'countystate_3', 'countystate_4', 'countystate_5', 'countystate_6', 'countystate_7', 'countystate_8', 'countystate_9', 'countystate_10', 'icdot09_1_description', 'icdot09_2_description', 'icdot09_3_description', 'icdot09_4_description', 'icdot09_5_description', 'icdot09_6_description', 'icdot09_7_description', 'icdot09_8_description', 'icdot09_9_description', 'icdot09_10_description']\n"
     ]
    }
   ],
   "source": [
    "print(list(df.columns))\n"
   ]
  },
  {
   "cell_type": "code",
   "execution_count": 48,
   "metadata": {
    "collapsed": true
   },
   "outputs": [],
   "source": [
    "mask = (df['cstum1'] != \"Unknown; size not stated; not stated in patient record\") & \\\n",
    "(df['cstum1'] != \"Microscopic focus or foci only; no size of focus is given\") & \\\n",
    "(df['cstum1'] != \"989 millimeters or larger\") & \\\n",
    "(df['cstum1'] != \"Not applicable\") & \\\n",
    "(df['cstum1'] != \"Unknown age\") & \\\n",
    "(df['cstum1'] != \"Described as less than 1 cm\") & \\\n",
    "(df['cstum1'] != \"Described as less than 2 cm\") & \\\n",
    "(df['cstum1'] != \"Described as less than 3 cm\") & \\\n",
    "(df['cstum1'] != 'Indicates no mass or no tumor found; for example, when a tumor of a stated primary site is not found, but the tumor has metastasized') & \\\n",
    "(df['cstum1'] != \"Described as less than 4 cm\") & \\\n",
    "(df['cstum1'] != \"Described as less than 5 cm\") & \\\n",
    "(df['cstum1'] != \"Not applicable\") & \\\n",
    "(df['cstum1'] != 'Not applicable') & \\\n",
    "(df['cstum1'] != 996) & \\\n",
    "(df['cstum1'] != 997) & \\\n",
    "(df['cstum1'] != 998) & \\\n",
    "(df['srvm1'] != 9999)\n",
    "dfall = df[mask]"
   ]
  },
  {
   "cell_type": "code",
   "execution_count": 49,
   "metadata": {
    "collapsed": true
   },
   "outputs": [],
   "source": [
    "geomask = (dfall['elevation_1'] != dfall['FIPScombo_1']) \n",
    "\n",
    "dfall = dfall[geomask].copy()"
   ]
  },
  {
   "cell_type": "code",
   "execution_count": 50,
   "metadata": {
    "collapsed": true
   },
   "outputs": [],
   "source": [
    "dfall['elevation_1'].replace('99999',np.nan,inplace=True)\n",
    "dfall['elevation_2'].replace('99999',np.nan,inplace=True)\n",
    "dfall['elevation_3'].replace('99999',np.nan,inplace=True)\n",
    "\n",
    "dfall['lat_1'].replace('99999',np.nan,inplace=True)\n",
    "dfall['lat_2'].replace('99999',np.nan,inplace=True)\n",
    "dfall['lat_3'].replace('99999',np.nan,inplace=True)\n",
    "\n",
    "dfall['lng_1'].replace('99999',np.nan,inplace=True)\n",
    "dfall['lng_2'].replace('99999',np.nan,inplace=True)\n",
    "dfall['lng_3'].replace('99999',np.nan,inplace=True)\n",
    "\n",
    "dfall['elevation_1'] = dfall['elevation_1'].astype('float')\n",
    "dfall['elevation_2'] = dfall['elevation_2'].astype('float')\n",
    "dfall['elevation_3'] = dfall['elevation_3'].astype('float')\n",
    "\n",
    "dfall['lat_1'] = dfall['lat_1'].astype('float')\n",
    "dfall['lat_2'] = dfall['lat_2'].astype('float')\n",
    "dfall['lat_3'] = dfall['lat_3'].astype('float')\n",
    "\n",
    "dfall['lng_1'] = dfall['lng_1'].astype('float')\n",
    "dfall['lng_2'] = dfall['lng_2'].astype('float')\n",
    "dfall['lng_3'] = dfall['lng_3'].astype('float')"
   ]
  },
  {
   "cell_type": "code",
   "execution_count": 51,
   "metadata": {
    "collapsed": true
   },
   "outputs": [],
   "source": [
    "import pickle\n",
    "fileObject = open('patient_ids_from_outsaf.pickle', 'rb')\n",
    "b = pickle.load(fileObject)\n",
    "fileObject.close()\n",
    "treatmentindices_outsaf = list(set.union(*b))"
   ]
  },
  {
   "cell_type": "code",
   "execution_count": 52,
   "metadata": {
    "collapsed": true
   },
   "outputs": [],
   "source": [
    "\n",
    "import pickle\n",
    "fileObject = open('patient_ids_from_nch.pickle', 'rb')\n",
    "b = pickle.load(fileObject)\n",
    "fileObject.close()\n",
    "treatmentindices_nch = list(set.union(*b))"
   ]
  },
  {
   "cell_type": "code",
   "execution_count": 53,
   "metadata": {
    "collapsed": true
   },
   "outputs": [],
   "source": [
    "bigtreatmentindices = list(set(treatmentindices_nch+treatmentindices_outsaf))\n",
    "\n",
    "dfall.set_index('patient_id', inplace=True,drop=False)\n",
    "\n",
    "allindices = dfall.index"
   ]
  },
  {
   "cell_type": "code",
   "execution_count": 54,
   "metadata": {
    "collapsed": false
   },
   "outputs": [
    {
     "data": {
      "text/plain": [
       "337"
      ]
     },
     "execution_count": 54,
     "metadata": {},
     "output_type": "execute_result"
    }
   ],
   "source": [
    "bigtreatmentset = set(bigtreatmentindices)\n",
    "allset = set(allindices)\n",
    "\n",
    "\n",
    "alltreatmentindices = list(allset.intersection(bigtreatmentset))\n",
    "\n",
    "treatmentindices = alltreatmentindices\n",
    "len(treatmentindices)"
   ]
  },
  {
   "cell_type": "code",
   "execution_count": 55,
   "metadata": {
    "collapsed": false
   },
   "outputs": [
    {
     "data": {
      "text/plain": [
       "None; diagnosed at autopsy                                                  135946\n",
       "Beam radiation                                                               69199\n",
       "Patient or patient's guardian refused radiation therapy                       3283\n",
       "Radiation recommended, unknown if administered                                1586\n",
       "Unknown if radiation administered                                             1375\n",
       "Radiation, NOS - method or source not provided                                1136\n",
       "Radioactive implants                                                          1093\n",
       "Combination of beam radiation with radioactive implants or radioisotopes       392\n",
       "Radioisotopes                                                                  182\n",
       "Name: rad1, dtype: int64"
      ]
     },
     "execution_count": 55,
     "metadata": {},
     "output_type": "execute_result"
    }
   ],
   "source": [
    "dfall.rad1.value_counts()"
   ]
  },
  {
   "cell_type": "code",
   "execution_count": 56,
   "metadata": {
    "collapsed": true
   },
   "outputs": [],
   "source": [
    "non_rad = dfall.rad1.str.contains('None',case=False,na=False)\n",
    "refused_rad = dfall.rad1.str.contains('refused',case=False,na=False)\n",
    "unknown_rad = dfall.rad1.str.contains('unknown',case=False,na=False)"
   ]
  },
  {
   "cell_type": "code",
   "execution_count": 57,
   "metadata": {
    "collapsed": false
   },
   "outputs": [
    {
     "data": {
      "text/plain": [
       "337"
      ]
     },
     "execution_count": 57,
     "metadata": {},
     "output_type": "execute_result"
    }
   ],
   "source": [
    "dfall.patient_id.isin(treatmentindices).sum()"
   ]
  },
  {
   "cell_type": "code",
   "execution_count": 59,
   "metadata": {
    "collapsed": false
   },
   "outputs": [],
   "source": [
    "\n",
    "non_rad1 = dfall.rad1.str.contains('None',case=False,na=False)\n",
    "refused_rad1 = dfall.rad1.str.contains('refused',case=False,na=False)\n",
    "unknown_rad1 = dfall.rad1.str.contains('unknown',case=False,na=False)"
   ]
  },
  {
   "cell_type": "code",
   "execution_count": 60,
   "metadata": {
    "collapsed": true
   },
   "outputs": [],
   "source": [
    "one = ~non_rad1 & ~refused_rad1 & ~unknown_rad1\n",
    "\n",
    "had_rad = one"
   ]
  },
  {
   "cell_type": "code",
   "execution_count": 61,
   "metadata": {
    "collapsed": false
   },
   "outputs": [
    {
     "data": {
      "text/plain": [
       "72002"
      ]
     },
     "execution_count": 61,
     "metadata": {},
     "output_type": "execute_result"
    }
   ],
   "source": [
    "had_rad.sum()"
   ]
  },
  {
   "cell_type": "code",
   "execution_count": 62,
   "metadata": {
    "collapsed": false
   },
   "outputs": [
    {
     "data": {
      "text/plain": [
       "(509984, 496)"
      ]
     },
     "execution_count": 62,
     "metadata": {},
     "output_type": "execute_result"
    }
   ],
   "source": [
    "df.shape"
   ]
  },
  {
   "cell_type": "code",
   "execution_count": 63,
   "metadata": {
    "collapsed": false
   },
   "outputs": [
    {
     "data": {
      "text/plain": [
       "261"
      ]
     },
     "execution_count": 63,
     "metadata": {},
     "output_type": "execute_result"
    }
   ],
   "source": [
    "had_rad[dfall.patient_id.isin(treatmentindices)].sum()"
   ]
  },
  {
   "cell_type": "code",
   "execution_count": 64,
   "metadata": {
    "collapsed": true
   },
   "outputs": [],
   "source": [
    "smalltreatmentindices = had_rad[dfall.patient_id.isin(treatmentindices)].index\n",
    "smallcontrolindices = had_rad[~dfall.patient_id.isin(treatmentindices)].index"
   ]
  },
  {
   "cell_type": "code",
   "execution_count": 65,
   "metadata": {
    "collapsed": false
   },
   "outputs": [
    {
     "data": {
      "text/plain": [
       "(213855,)"
      ]
     },
     "execution_count": 65,
     "metadata": {},
     "output_type": "execute_result"
    }
   ],
   "source": [
    "smallcontrolindices.shape"
   ]
  },
  {
   "cell_type": "code",
   "execution_count": 66,
   "metadata": {
    "collapsed": false
   },
   "outputs": [
    {
     "data": {
      "text/plain": [
       "(337,)"
      ]
     },
     "execution_count": 66,
     "metadata": {},
     "output_type": "execute_result"
    }
   ],
   "source": [
    "smalltreatmentindices.shape\n"
   ]
  },
  {
   "cell_type": "code",
   "execution_count": 67,
   "metadata": {
    "collapsed": false
   },
   "outputs": [
    {
     "data": {
      "text/plain": [
       "(337, 496)"
      ]
     },
     "execution_count": 67,
     "metadata": {},
     "output_type": "execute_result"
    }
   ],
   "source": [
    "dfalltreatment = dfall.loc[smalltreatmentindices].copy()\n",
    "dfalltreatment.shape"
   ]
  },
  {
   "cell_type": "code",
   "execution_count": 68,
   "metadata": {
    "collapsed": false
   },
   "outputs": [
    {
     "data": {
      "text/plain": [
       "(213855, 496)"
      ]
     },
     "execution_count": 68,
     "metadata": {},
     "output_type": "execute_result"
    }
   ],
   "source": [
    "dfallcontrol = dfall.loc[smallcontrolindices].copy()\n",
    "dfallcontrol.shape"
   ]
  },
  {
   "cell_type": "code",
   "execution_count": 69,
   "metadata": {
    "collapsed": false
   },
   "outputs": [
    {
     "data": {
      "text/html": [
       "<div>\n",
       "<table border=\"1\" class=\"dataframe\">\n",
       "  <thead>\n",
       "    <tr style=\"text-align: right;\">\n",
       "      <th></th>\n",
       "      <th>stat_rec</th>\n",
       "      <th>srvm1</th>\n",
       "    </tr>\n",
       "    <tr>\n",
       "      <th>patient_id</th>\n",
       "      <th></th>\n",
       "      <th></th>\n",
       "    </tr>\n",
       "  </thead>\n",
       "  <tbody>\n",
       "    <tr>\n",
       "      <th>4416199024</th>\n",
       "      <td>Alive</td>\n",
       "      <td>49</td>\n",
       "    </tr>\n",
       "    <tr>\n",
       "      <th>4498154002</th>\n",
       "      <td>Alive</td>\n",
       "      <td>82</td>\n",
       "    </tr>\n",
       "    <tr>\n",
       "      <th>8819018344</th>\n",
       "      <td>Alive</td>\n",
       "      <td>48</td>\n",
       "    </tr>\n",
       "    <tr>\n",
       "      <th>8832054323</th>\n",
       "      <td>Alive</td>\n",
       "      <td>65</td>\n",
       "    </tr>\n",
       "    <tr>\n",
       "      <th>8833022382</th>\n",
       "      <td>Dead</td>\n",
       "      <td>15</td>\n",
       "    </tr>\n",
       "  </tbody>\n",
       "</table>\n",
       "</div>"
      ],
      "text/plain": [
       "           stat_rec  srvm1\n",
       "patient_id                \n",
       "4416199024    Alive     49\n",
       "4498154002    Alive     82\n",
       "8819018344    Alive     48\n",
       "8832054323    Alive     65\n",
       "8833022382     Dead     15"
      ]
     },
     "execution_count": 69,
     "metadata": {},
     "output_type": "execute_result"
    }
   ],
   "source": [
    "dfalltreatment[['stat_rec','srvm1']].head()"
   ]
  },
  {
   "cell_type": "markdown",
   "metadata": {},
   "source": [
    "## So we are going to match patients in the treatment group with their nearest neighbors in the control group\n",
    "\n",
    "In order to find the nearest neighbors in the high-dimensional feature space, we need to first do some preprocessing of the data. The first step is to \"one-hot-encode\" the categorical features."
   ]
  },
  {
   "cell_type": "code",
   "execution_count": 70,
   "metadata": {
    "collapsed": true
   },
   "outputs": [],
   "source": [
    "dfalltreatment['cstum1']= dfalltreatment['cstum1'].astype('float')\n",
    "dfallcontrol['cstum1'] = dfallcontrol['cstum1'].astype('float')"
   ]
  },
  {
   "cell_type": "code",
   "execution_count": 71,
   "metadata": {
    "collapsed": false
   },
   "outputs": [
    {
     "data": {
      "image/png": "[encoded data removed]",
      "text/plain": [
       "<matplotlib.figure.Figure at 0x207c10fd0>"
      ]
     },
     "metadata": {},
     "output_type": "display_data"
    }
   ],
   "source": [
    "ax = dfalltreatment.elevation_1.plot(kind='kde',label='treatment')\n",
    "dfallcontrol.elevation_1.plot(kind='kde',label='control')\n",
    "plt.legend();\n"
   ]
  },
  {
   "cell_type": "code",
   "execution_count": 72,
   "metadata": {
    "collapsed": true
   },
   "outputs": [],
   "source": [
    "catcols = ['m_sex','marst1','srace','nhiade','grade1',\n",
    "           'site1','lat1',\n",
    "          'histrec1',\n",
    "           'modx1','stat_rec']"
   ]
  },
  {
   "cell_type": "code",
   "execution_count": 73,
   "metadata": {
    "collapsed": true
   },
   "outputs": [],
   "source": [
    "goodcols = ['m_sex','marst1', 'srace','nhiade',\n",
    "           'grade1','site1',\n",
    "           'lat1','histrec1',\n",
    "           'modx1','stat_rec','birthyr',\n",
    "           'agedx1',\n",
    "           'yrdx1','elevation_1',\n",
    "           'lat_1']"
   ]
  },
  {
   "cell_type": "code",
   "execution_count": 74,
   "metadata": {
    "collapsed": true
   },
   "outputs": [],
   "source": [
    "dfpop = pd.concat([dfallcontrol, dfalltreatment])"
   ]
  },
  {
   "cell_type": "markdown",
   "metadata": {},
   "source": [
    "## Before matching, let's look at the Kaplan-Meier curves"
   ]
  },
  {
   "cell_type": "code",
   "execution_count": 75,
   "metadata": {
    "collapsed": true
   },
   "outputs": [],
   "source": [
    "resgoodcontrol = pd.concat([pd.get_dummies(dfallcontrol[col],prefix=col) for col in catcols], axis=1)\n",
    "\n",
    "resgoodtreatment = pd.concat([pd.get_dummies(dfalltreatment[col],prefix=col) for col in catcols], axis=1)\n",
    "\n",
    "resgoodpop = pd.concat([pd.get_dummies(dfpop[col],prefix=col) for col in catcols], axis=1)"
   ]
  },
  {
   "cell_type": "code",
   "execution_count": 76,
   "metadata": {
    "collapsed": false
   },
   "outputs": [
    {
     "name": "stdout",
     "output_type": "stream",
     "text": [
      "['m_sex', 'marst1', 'srace', 'nhiade', 'grade1', 'site1', 'lat1', 'histrec1', 'modx1', 'stat_rec', 'birthyr', 'agedx1', 'yrdx1', 'elevation_1', 'lat_1']\n"
     ]
    }
   ],
   "source": [
    "print(goodcols)"
   ]
  },
  {
   "cell_type": "code",
   "execution_count": 77,
   "metadata": {
    "collapsed": true
   },
   "outputs": [],
   "source": [
    "resgoodcontrol['birthyr'] = dfallcontrol['birthyr']\n",
    "resgoodcontrol['agedx1'] = dfallcontrol['agedx1']\n",
    "\n",
    "resgoodcontrol['yrdx1'] = dfallcontrol['yrdx1']\n",
    "\n",
    "resgoodcontrol['lat_1'] = dfallcontrol['lat_1']\n",
    "\n",
    "resgoodcontrol['lng_1'] = dfallcontrol['lng_1']\n",
    "\n",
    "resgoodcontrol['srvm1'] = dfallcontrol['srvm1']"
   ]
  },
  {
   "cell_type": "code",
   "execution_count": 78,
   "metadata": {
    "collapsed": true
   },
   "outputs": [],
   "source": [
    "resgoodtreatment['birthyr'] = dfalltreatment['birthyr']\n",
    "resgoodtreatment['agedx1'] = dfalltreatment['agedx1']\n",
    "\n",
    "resgoodtreatment['yrdx1'] = dfalltreatment['yrdx1']\n",
    "\n",
    "resgoodtreatment['lat_1'] = dfalltreatment['lat_1']\n",
    "\n",
    "resgoodtreatment['lng_1'] = dfalltreatment['lng_1']\n",
    "\n",
    "resgoodtreatment['srvm1'] = dfalltreatment['srvm1']\n"
   ]
  },
  {
   "cell_type": "code",
   "execution_count": 79,
   "metadata": {
    "collapsed": true
   },
   "outputs": [],
   "source": [
    "resgoodpop['birthyr'] = dfpop['birthyr']\n",
    "resgoodpop['agedx1'] = dfpop['agedx1']\n",
    "\n",
    "resgoodpop['yrdx1'] = dfpop['yrdx1']\n",
    "\n",
    "\n",
    "resgoodpop['lat_1'] = dfpop['lat_1']\n",
    "\n",
    "resgoodpop['lng_1'] = dfpop['lng_1']\n",
    "\n",
    "resgoodpop['srvm1'] = dfpop['srvm1']"
   ]
  },
  {
   "cell_type": "markdown",
   "metadata": {},
   "source": [
    "## After performing the matching between the control and treatment groups, we can see how the Kaplan-Meier curves differ\n",
    "\n",
    "Below is how it looks **before** matching patients in the control and treatment groups together in pairs."
   ]
  },
  {
   "cell_type": "code",
   "execution_count": 80,
   "metadata": {
    "collapsed": false
   },
   "outputs": [
    {
     "data": {
      "text/plain": [
       "<lifelines.KaplanMeierFitter: fitted with 337 observations, 229 censored>"
      ]
     },
     "execution_count": 80,
     "metadata": {},
     "output_type": "execute_result"
    }
   ],
   "source": [
    "from lifelines import KaplanMeierFitter\n",
    "\n",
    "kmfpop = KaplanMeierFitter()\n",
    "kmfcontrol = KaplanMeierFitter()\n",
    "kmftreatment = KaplanMeierFitter()\n",
    "\n",
    "Tcontrol = resgoodpop.loc[smallcontrolindices][\"srvm1\"]\n",
    "Econtrol = resgoodpop.loc[smallcontrolindices][\"stat_rec_Dead\"]\n",
    "\n",
    "Ttreatment = resgoodpop.loc[smalltreatmentindices][\"srvm1\"]\n",
    "Etreatment = resgoodpop.loc[smalltreatmentindices][\"stat_rec_Dead\"]\n",
    "\n",
    "Tpop = resgoodpop[\"srvm1\"]\n",
    "Epop = resgoodpop[\"stat_rec_Dead\"]\n",
    "\n",
    "kmfpop.fit(Tpop, event_observed=Epop,label='All Radiation group');\n",
    "kmfcontrol.fit(Tcontrol, event_observed=Econtrol,label='Non PT group (control group)')\n",
    "kmftreatment.fit(Ttreatment, event_observed=Etreatment, label='PT group (treatment group)')"
   ]
  },
  {
   "cell_type": "code",
   "execution_count": 81,
   "metadata": {
    "collapsed": false
   },
   "outputs": [
    {
     "data": {
      "image/png": "[encoded data removed]",
      "text/plain": [
       "<matplotlib.figure.Figure at 0x207b7ac50>"
      ]
     },
     "metadata": {},
     "output_type": "display_data"
    }
   ],
   "source": [
    "ax = kmfcontrol.plot()\n",
    "kmftreatment.plot(ax=ax)\n",
    "plt.title(\"Kaplan-Meier Curve (95% CI) \\n Pre-Matching\");"
   ]
  },
  {
   "cell_type": "markdown",
   "metadata": {},
   "source": [
    "## Clearly, there is a difference between these survival curves\n",
    "\n",
    "But one can argue that we are not really comparing apples to apples when we calculate these two survival curves. To answer this objection, we need to perform patient matching, so that we are really comparing apples to apples and that any marked difference in the survival curves can be confidently attributed to the difference in treatment modalities."
   ]
  },
  {
   "cell_type": "code",
   "execution_count": 82,
   "metadata": {
    "collapsed": true
   },
   "outputs": [],
   "source": [
    "resgoodpop['birthyr'] = resgoodpop['birthyr'].astype('int')\n",
    "resgoodpop['agedx1'] = resgoodpop['agedx1'].astype('float')\n",
    "\n",
    "\n",
    "\n",
    "resgoodpop['lat_1'] = resgoodpop['lat_1'].astype('float')\n",
    "\n",
    "\n",
    "resgoodpop['lng_1'] = resgoodpop['lng_1'].astype('float')\n",
    "\n",
    "\n",
    "resgoodpop['srvm1'] = resgoodpop['srvm1'].astype('float')\n",
    "\n",
    "\n",
    "newcolumns = list(resgoodpop.columns)\n",
    "\n",
    "newcolumns.remove('srvm1')\n",
    "newcolumns.remove('stat_rec_Alive')\n",
    "newcolumns.remove('stat_rec_Dead')\n",
    "newcolumns.remove('m_sex_Male')\n",
    "\n",
    "resgreatpop = resgoodpop[newcolumns].copy()"
   ]
  },
  {
   "cell_type": "code",
   "execution_count": 83,
   "metadata": {
    "collapsed": false
   },
   "outputs": [
    {
     "data": {
      "text/plain": [
       "<matplotlib.axes._subplots.AxesSubplot at 0x207b7ec88>"
      ]
     },
     "execution_count": 83,
     "metadata": {},
     "output_type": "execute_result"
    },
    {
     "data": {
      "image/png": "[encoded data removed]",
      "text/plain": [
       "<matplotlib.figure.Figure at 0x207b46ef0>"
      ]
     },
     "metadata": {},
     "output_type": "display_data"
    }
   ],
   "source": [
    "resgoodpop['agedx1'].plot(kind='kde')"
   ]
  },
  {
   "cell_type": "code",
   "execution_count": 84,
   "metadata": {
    "collapsed": true
   },
   "outputs": [],
   "source": [
    "resgreatpop['patient_id'] = resgreatpop.index\n",
    "leaguefilter = (resgreatpop['patient_id'].loc[smalltreatmentindices])\n",
    "resgreatpop['League'] = resgreatpop['patient_id'].isin(smalltreatmentindices).astype('int')\n",
    "del resgreatpop['patient_id']\n",
    "dftree = resgreatpop.copy()\n",
    "\n",
    "y = dftree['League'].copy()\n",
    "del dftree['League']"
   ]
  },
  {
   "cell_type": "code",
   "execution_count": 85,
   "metadata": {
    "collapsed": true
   },
   "outputs": [],
   "source": [
    "from sklearn.metrics import roc_curve, auc\n",
    "from sklearn.preprocessing import label_binarize, StandardScaler\n",
    "from sklearn.multiclass import OneVsRestClassifier\n",
    "\n",
    "import numpy as np\n",
    "import pandas as pd\n",
    "import datetime\n",
    "import matplotlib.pyplot as plot\n",
    "#import psycopg2\n",
    "import random\n",
    "from sklearn import ensemble\n",
    "from sklearn.metrics import mean_squared_error, mean_absolute_error\n",
    "from sklearn.cross_validation import StratifiedShuffleSplit\n",
    "import pylab as plot\n",
    "from pandas import DataFrame, Series\n",
    "from sklearn import metrics\n",
    "from sklearn.neighbors import KNeighborsClassifier\n",
    "from sklearn.cross_validation import KFold\n",
    "from sklearn.feature_extraction import DictVectorizer\n",
    "from sklearn import feature_extraction\n",
    "from sklearn.cross_validation import train_test_split\n",
    "from sklearn.feature_extraction import DictVectorizer as DV\n",
    "from sklearn.linear_model import LinearRegression\n",
    "from sklearn.cross_validation import cross_val_score\n",
    "from sklearn.preprocessing import StandardScaler\n",
    "from sklearn.linear_model import SGDRegressor\n",
    "from sklearn.linear_model.logistic import LogisticRegression\n",
    "from sklearn.metrics import confusion_matrix\n",
    "from sklearn.metrics import accuracy_score\n",
    "from sklearn.metrics import roc_curve, auc\n",
    "from sklearn.tree import DecisionTreeClassifier\n",
    "from sklearn.metrics import classification_report\n",
    "from sklearn.pipeline import Pipeline\n",
    "from sklearn.grid_search import GridSearchCV\n",
    "from sklearn.grid_search import ParameterGrid\n",
    "from sklearn.decomposition import PCA\n",
    "from mpl_toolkits.mplot3d import Axes3D\n",
    "#from sklearn.neural_network import MultilayerPerceptronClassifier\n",
    "from sklearn.neural_network import BernoulliRBM\n",
    "from sklearn.svm import SVC\n",
    "import pylab as pl\n",
    "from sklearn.decomposition import RandomizedPCA\n",
    "from itertools import cycle\n",
    "from sklearn.cross_validation import ShuffleSplit\n",
    "from scipy.stats import sem\n",
    "from pprint import pprint\n",
    "from math import sqrt, fabs, exp\n",
    "import matplotlib.pyplot as plot\n",
    "from sklearn.cross_validation import train_test_split\n",
    "from sklearn import ensemble\n",
    "from sklearn.metrics import roc_auc_score, roc_curve\n",
    "import numpy\n",
    "from sklearn.preprocessing import OneHotEncoder\n",
    "from sklearn.preprocessing import LabelEncoder\n",
    "from pandas.tools.plotting import lag_plot"
   ]
  },
  {
   "cell_type": "code",
   "execution_count": 86,
   "metadata": {
    "collapsed": false
   },
   "outputs": [
    {
     "data": {
      "text/plain": [
       "Index(['m_sex_Female', 'marst1_Divorced',\n",
       "       'marst1_Married (including common law)', 'marst1_Separated',\n",
       "       'marst1_Single (never married)', 'marst1_Unknown',\n",
       "       'marst1_Unmarried or domesntic partner (same sex or opposite sex or unregistered)',\n",
       "       'marst1_Widowed',\n",
       "       'srace_American Indian, Aleutian, Alaska Native or Eskimo (includes all indigenous populations of the Western hemisphere)',\n",
       "       'srace_Asian Indian',\n",
       "       ...\n",
       "       'modx1_May', 'modx1_Nov', 'modx1_Oct', 'modx1_Sep', 'birthyr', 'agedx1',\n",
       "       'yrdx1', 'lat_1', 'lng_1', 'League'],\n",
       "      dtype='object', length=192)"
      ]
     },
     "execution_count": 86,
     "metadata": {},
     "output_type": "execute_result"
    }
   ],
   "source": [
    "resgreatpop.columns"
   ]
  },
  {
   "cell_type": "code",
   "execution_count": 87,
   "metadata": {
    "collapsed": false
   },
   "outputs": [
    {
     "data": {
      "text/plain": [
       "Index(['m_sex_Female', 'marst1_Divorced',\n",
       "       'marst1_Married (including common law)', 'marst1_Separated',\n",
       "       'marst1_Single (never married)', 'marst1_Unknown',\n",
       "       'marst1_Unmarried or domesntic partner (same sex or opposite sex or unregistered)',\n",
       "       'marst1_Widowed',\n",
       "       'srace_American Indian, Aleutian, Alaska Native or Eskimo (includes all indigenous populations of the Western hemisphere)',\n",
       "       'srace_Asian Indian',\n",
       "       ...\n",
       "       'modx1_Mar', 'modx1_May', 'modx1_Nov', 'modx1_Oct', 'modx1_Sep',\n",
       "       'birthyr', 'agedx1', 'yrdx1', 'lat_1', 'lng_1'],\n",
       "      dtype='object', length=191)"
      ]
     },
     "execution_count": 87,
     "metadata": {},
     "output_type": "execute_result"
    }
   ],
   "source": [
    "dftree.columns"
   ]
  },
  {
   "cell_type": "code",
   "execution_count": 88,
   "metadata": {
    "collapsed": false
   },
   "outputs": [
    {
     "data": {
      "text/plain": [
       "(214192, 191)"
      ]
     },
     "execution_count": 88,
     "metadata": {},
     "output_type": "execute_result"
    }
   ],
   "source": [
    "dftree.shape"
   ]
  },
  {
   "cell_type": "code",
   "execution_count": 89,
   "metadata": {
    "collapsed": false
   },
   "outputs": [
    {
     "name": "stdout",
     "output_type": "stream",
     "text": [
      "[[-0.87165538 -0.33683083  0.91684887 ...,  0.77254462  0.8566616   1.395003  ]\n",
      " [-0.87165538 -0.33683083 -1.0906923  ...,  0.77254462  0.84178744\n",
      "   1.36676179]\n",
      " [-0.87165538 -0.33683083  0.91684887 ...,  1.24148034  0.84178744\n",
      "   1.36676179]\n",
      " ..., \n",
      " [-0.87165538 -0.33683083  0.91684887 ...,  0.77254462 -0.6940198\n",
      "  -0.82764073]\n",
      " [ 1.14724239 -0.33683083 -1.0906923  ..., -0.16532681 -0.48246885\n",
      "  -0.77895641]\n",
      " [ 1.14724239 -0.33683083  0.91684887 ...,  0.3036089  -0.6940198\n",
      "  -0.82764073]]\n"
     ]
    }
   ],
   "source": [
    "xTrain = dftree.values\n",
    "xTrain = StandardScaler().fit_transform(xTrain)\n",
    "from sklearn.neighbors import KDTree\n",
    "print(xTrain)"
   ]
  },
  {
   "cell_type": "code",
   "execution_count": 90,
   "metadata": {
    "collapsed": true
   },
   "outputs": [],
   "source": [
    "from sklearn.neighbors import KDTree\n",
    "kdt = KDTree(xTrain, leaf_size=30)"
   ]
  },
  {
   "cell_type": "markdown",
   "metadata": {},
   "source": [
    "## Here is a video explaining the construction of a KDTree"
   ]
  },
  {
   "cell_type": "code",
   "execution_count": 91,
   "metadata": {
    "collapsed": false
   },
   "outputs": [
    {
     "data": {
      "image/jpeg": "[encoded data removed]",
      "text/html": [
       "\n",
       "        <iframe\n",
       "            width=\"400\"\n",
       "            height=\"300\"\n",
       "            src=\"https://www.youtube.com/embed/LdaL-l2S76c\"\n",
       "            frameborder=\"0\"\n",
       "            allowfullscreen\n",
       "        ></iframe>\n",
       "        "
      ],
      "text/plain": [
       "<IPython.lib.display.YouTubeVideo at 0x207a62710>"
      ]
     },
     "execution_count": 91,
     "metadata": {},
     "output_type": "execute_result"
    }
   ],
   "source": [
    "from IPython.display import YouTubeVideo\n",
    "YouTubeVideo('LdaL-l2S76c')"
   ]
  },
  {
   "cell_type": "code",
   "execution_count": null,
   "metadata": {
    "collapsed": true
   },
   "outputs": [],
   "source": [
    "dftreeleague = dftree.copy()\n",
    "dftreeleague['League'] = y\n",
    "\n",
    "def get_league(x):\n",
    "    return dftreeleague['League'].loc[x]\n",
    "\n",
    "dist4, ind4 = kdt.query(xTrain, k=4, return_distance=True)"
   ]
  },
  {
   "cell_type": "code",
   "execution_count": null,
   "metadata": {
    "collapsed": true
   },
   "outputs": [],
   "source": []
  }
 ],
 "metadata": {
  "kernelspec": {
   "display_name": "Python 3",
   "language": "python",
   "name": "python3"
  },
  "language_info": {
   "codemirror_mode": {
    "name": "ipython",
    "version": 3
   },
   "file_extension": ".py",
   "mimetype": "text/x-python",
   "name": "python",
   "nbconvert_exporter": "python",
   "pygments_lexer": "ipython3",
   "version": "3.5.1"
  },
  "widgets": {
   "state": {},
   "version": "1.1.2"
  }
 },
 "nbformat": 4,
 "nbformat_minor": 0
}
