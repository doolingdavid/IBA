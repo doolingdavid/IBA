{
 "cells": [
  {
   "cell_type": "code",
   "execution_count": 1,
   "metadata": {
    "collapsed": false,
    "slideshow": {
     "slide_type": "skip"
    }
   },
   "outputs": [
    {
     "data": {
      "text/html": [
       "<script>\n",
       "code_show=true; \n",
       "function code_toggle() {\n",
       " if (code_show){\n",
       " $('div.input').hide();\n",
       " } else {\n",
       " $('div.input').show();\n",
       " }\n",
       " code_show = !code_show\n",
       "} \n",
       "$( document ).ready(code_toggle);\n",
       "</script>\n",
       "<form action=\"javascript:code_toggle()\"><input type=\"submit\" value=\"Click here to toggle on/off the raw code.\"></form>"
      ],
      "text/plain": [
       "<IPython.core.display.HTML object>"
      ]
     },
     "execution_count": 1,
     "metadata": {},
     "output_type": "execute_result"
    }
   ],
   "source": [
    "from IPython.display import HTML\n",
    "\n",
    "HTML('''<script>\n",
    "code_show=true; \n",
    "function code_toggle() {\n",
    " if (code_show){\n",
    " $('div.input').hide();\n",
    " } else {\n",
    " $('div.input').show();\n",
    " }\n",
    " code_show = !code_show\n",
    "} \n",
    "$( document ).ready(code_toggle);\n",
    "</script>\n",
    "<form action=\"javascript:code_toggle()\"><input type=\"submit\" value=\"Click here to toggle on/off the raw code.\"></form>''') "
   ]
  },
  {
   "cell_type": "markdown",
   "metadata": {
    "slideshow": {
     "slide_type": "slide"
    }
   },
   "source": [
    "# <font color=\"#E56717\">IOBS & IBA Project Update</font>\n",
    "\n",
    "# <font color=\"#E56717\">October 2016</font>"
   ]
  },
  {
   "cell_type": "code",
   "execution_count": 2,
   "metadata": {
    "collapsed": true,
    "slideshow": {
     "slide_type": "skip"
    }
   },
   "outputs": [],
   "source": [
    "import numpy as np\n",
    "import pandas as pd\n",
    "import matplotlib.pyplot as plt\n",
    "from pandas import Series, DataFrame\n",
    "import pytz\n",
    "from pytz import common_timezones, all_timezones\n",
    "import matplotlib\n",
    "matplotlib.style.use('ggplot')\n",
    "%matplotlib inline\n",
    "from datetime import datetime\n",
    "import scipy as sp\n",
    "import statsmodels.api as sm\n",
    "import statsmodels.formula.api as smf\n",
    "matplotlib.style.use('fivethirtyeight')\n",
    "matplotlib.style.use('seaborn-talk')\n",
    "import os\n",
    "import collections\n",
    "\n",
    "preDouble = \"\\\\\\\\iobsdc01\\\\SharedDocs\\\\SEER_MEDICARE\\\\SEER_MEDICARE_STAGING\"\n",
    "new = os.chdir(preDouble)\n",
    "#print(preDouble)"
   ]
  },
  {
   "cell_type": "markdown",
   "metadata": {
    "slideshow": {
     "slide_type": "slide"
    }
   },
   "source": [
    "# <font color=\"#E56717\">First order of business is to identify all the patients in the SEER-Medicare data who have received PBT</font>\n",
    "\n",
    "<span style=\"font-size:1.5em;\">The relevant HCPCS codes are:</span>\n",
    "\n",
    "* <span style=\"font-size:1.5em;\">77520 - Proton trmt simple w/o comp</span>\n",
    "* <span style=\"font-size:1.5em;\">77522 - Proton trmt simple w/comp</span>\n",
    "* <span style=\"font-size:1.5em;\">77523 - Proton trmt intermediate</span>\n",
    "* <span style=\"font-size:1.5em;\">77525 - Proton treatment complex</span>\n",
    "\n",
    "\n",
    "# <font color=\"#E56717\">Also find all the patient who have receieved IMRT treamtment (delivery; not just planning)</font>\n",
    "\n",
    "* <span style=\"font-size:1.5em;\">77418 - IMRT delivery</span>\n",
    "\n",
    "<span style=\"font-size:1.5em;\">And then use set logic to capture only those PBT patients who did\n",
    "not also receive IMRT treatment</span>"
   ]
  },
  {
   "cell_type": "code",
   "execution_count": 3,
   "metadata": {
    "collapsed": true,
    "slideshow": {
     "slide_type": "skip"
    }
   },
   "outputs": [],
   "source": [
    "df = pd.read_pickle('dfpedsfFirsts.pickle')"
   ]
  },
  {
   "cell_type": "code",
   "execution_count": 4,
   "metadata": {
    "collapsed": true,
    "slideshow": {
     "slide_type": "skip"
    }
   },
   "outputs": [],
   "source": [
    "mask = (df['srvm1'] != 9999)\n",
    "dfall = df[mask]"
   ]
  },
  {
   "cell_type": "code",
   "execution_count": 5,
   "metadata": {
    "collapsed": true,
    "slideshow": {
     "slide_type": "skip"
    }
   },
   "outputs": [],
   "source": [
    "geomask = (dfall['elevation_1'] != dfall['FIPScombo_1']) \n",
    "\n",
    "dfall = dfall[geomask].copy()"
   ]
  },
  {
   "cell_type": "code",
   "execution_count": 6,
   "metadata": {
    "collapsed": true,
    "slideshow": {
     "slide_type": "skip"
    }
   },
   "outputs": [],
   "source": [
    "dfall['elevation_1'].replace('99999',np.nan,inplace=True)\n",
    "dfall['elevation_2'].replace('99999',np.nan,inplace=True)\n",
    "dfall['elevation_3'].replace('99999',np.nan,inplace=True)\n",
    "\n",
    "dfall['lat_1'].replace('99999',np.nan,inplace=True)\n",
    "dfall['lat_2'].replace('99999',np.nan,inplace=True)\n",
    "dfall['lat_3'].replace('99999',np.nan,inplace=True)\n",
    "\n",
    "dfall['lng_1'].replace('99999',np.nan,inplace=True)\n",
    "dfall['lng_2'].replace('99999',np.nan,inplace=True)\n",
    "dfall['lng_3'].replace('99999',np.nan,inplace=True)\n",
    "\n",
    "dfall['elevation_1'] = dfall['elevation_1'].astype('float')\n",
    "dfall['elevation_2'] = dfall['elevation_2'].astype('float')\n",
    "dfall['elevation_3'] = dfall['elevation_3'].astype('float')\n",
    "\n",
    "dfall['lat_1'] = dfall['lat_1'].astype('float')\n",
    "dfall['lat_2'] = dfall['lat_2'].astype('float')\n",
    "dfall['lat_3'] = dfall['lat_3'].astype('float')\n",
    "\n",
    "dfall['lng_1'] = dfall['lng_1'].astype('float')\n",
    "dfall['lng_2'] = dfall['lng_2'].astype('float')\n",
    "dfall['lng_3'] = dfall['lng_3'].astype('float')"
   ]
  },
  {
   "cell_type": "code",
   "execution_count": 7,
   "metadata": {
    "collapsed": true,
    "slideshow": {
     "slide_type": "skip"
    }
   },
   "outputs": [],
   "source": [
    "import pickle\n",
    "fileObject = open('patient_ids_from_outsaf.pickle', 'rb')\n",
    "b = pickle.load(fileObject)\n",
    "fileObject.close()\n",
    "treatmentindices_outsaf = list(set.union(*b))"
   ]
  },
  {
   "cell_type": "code",
   "execution_count": 8,
   "metadata": {
    "collapsed": true,
    "slideshow": {
     "slide_type": "skip"
    }
   },
   "outputs": [],
   "source": [
    "import pickle\n",
    "fileObject = open('patient_ids_from_nch.pickle', 'rb')\n",
    "b = pickle.load(fileObject)\n",
    "fileObject.close()\n",
    "treatmentindices_nch = list(set.union(*b))"
   ]
  },
  {
   "cell_type": "code",
   "execution_count": 9,
   "metadata": {
    "collapsed": true,
    "slideshow": {
     "slide_type": "skip"
    }
   },
   "outputs": [],
   "source": [
    "bigtreatmentindices = list(set(treatmentindices_nch+treatmentindices_outsaf))\n",
    "\n",
    "dfall.set_index('patient_id', inplace=True,drop=False)\n",
    "\n",
    "allindices = dfall.index"
   ]
  },
  {
   "cell_type": "code",
   "execution_count": 10,
   "metadata": {
    "collapsed": false,
    "slideshow": {
     "slide_type": "skip"
    }
   },
   "outputs": [
    {
     "data": {
      "text/plain": [
       "1605"
      ]
     },
     "execution_count": 10,
     "metadata": {},
     "output_type": "execute_result"
    }
   ],
   "source": [
    "bigtreatmentset = set(bigtreatmentindices)\n",
    "allset = set(allindices)\n",
    "\n",
    "\n",
    "alltreatmentindices = list(allset.intersection(bigtreatmentset))\n",
    "\n",
    "treatmentindices = alltreatmentindices\n",
    "len(treatmentindices)"
   ]
  },
  {
   "cell_type": "code",
   "execution_count": 14,
   "metadata": {
    "collapsed": false,
    "slideshow": {
     "slide_type": "skip"
    }
   },
   "outputs": [],
   "source": [
    "import pickle\n",
    "fileObject = open('imrt_ids_from_outsaf.pickle', 'rb')\n",
    "b = pickle.load(fileObject)\n",
    "fileObject.close()\n",
    "controlindices_outsaf = list(set.union(*b))"
   ]
  },
  {
   "cell_type": "code",
   "execution_count": 15,
   "metadata": {
    "collapsed": true,
    "slideshow": {
     "slide_type": "skip"
    }
   },
   "outputs": [],
   "source": [
    "import pickle\n",
    "fileObject = open('imrt_ids_from_nch.pickle', 'rb')\n",
    "b = pickle.load(fileObject)\n",
    "fileObject.close()\n",
    "controlindices_nch = list(set.union(*b))"
   ]
  },
  {
   "cell_type": "code",
   "execution_count": 16,
   "metadata": {
    "collapsed": true,
    "slideshow": {
     "slide_type": "skip"
    }
   },
   "outputs": [],
   "source": [
    "bigcontrolindices = list(set(controlindices_nch+controlindices_outsaf))"
   ]
  },
  {
   "cell_type": "code",
   "execution_count": 17,
   "metadata": {
    "collapsed": false,
    "slideshow": {
     "slide_type": "skip"
    }
   },
   "outputs": [
    {
     "data": {
      "text/plain": [
       "62509"
      ]
     },
     "execution_count": 17,
     "metadata": {},
     "output_type": "execute_result"
    }
   ],
   "source": [
    "bigcontrolset = set(bigcontrolindices)\n",
    "allset = set(allindices)\n",
    "\n",
    "\n",
    "allcontrolindices = list(allset.intersection(bigcontrolset))\n",
    "\n",
    "controlindices = allcontrolindices\n",
    "len(controlindices)"
   ]
  },
  {
   "cell_type": "code",
   "execution_count": 18,
   "metadata": {
    "collapsed": false,
    "slideshow": {
     "slide_type": "skip"
    }
   },
   "outputs": [
    {
     "data": {
      "text/plain": [
       "1526"
      ]
     },
     "execution_count": 18,
     "metadata": {},
     "output_type": "execute_result"
    }
   ],
   "source": [
    "puretreatmentindices = list(set(treatmentindices).difference(set(controlindices)))\n",
    "len(puretreatmentindices)"
   ]
  },
  {
   "cell_type": "code",
   "execution_count": 19,
   "metadata": {
    "collapsed": false,
    "slideshow": {
     "slide_type": "skip"
    }
   },
   "outputs": [
    {
     "data": {
      "text/plain": [
       "62430"
      ]
     },
     "execution_count": 19,
     "metadata": {},
     "output_type": "execute_result"
    }
   ],
   "source": [
    "purecontrolindices = list(set(controlindices).difference(set(treatmentindices)))\n",
    "len(purecontrolindices)"
   ]
  },
  {
   "cell_type": "code",
   "execution_count": null,
   "metadata": {
    "collapsed": true
   },
   "outputs": [],
   "source": []
  }
 ],
 "metadata": {
  "celltoolbar": "Slideshow",
  "kernelspec": {
   "display_name": "Python 3",
   "language": "python",
   "name": "python3"
  },
  "language_info": {
   "codemirror_mode": {
    "name": "ipython",
    "version": 3
   },
   "file_extension": ".py",
   "mimetype": "text/x-python",
   "name": "python",
   "nbconvert_exporter": "python",
   "pygments_lexer": "ipython3",
   "version": "3.5.1"
  },
  "widgets": {
   "state": {},
   "version": "1.1.2"
  }
 },
 "nbformat": 4,
 "nbformat_minor": 0
}
