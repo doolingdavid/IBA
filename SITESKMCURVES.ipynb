{
 "cells": [
  {
   "cell_type": "code",
   "execution_count": 1,
   "metadata": {
    "collapsed": true,
    "slideshow": {
     "slide_type": "skip"
    }
   },
   "outputs": [],
   "source": [
    "import numpy as np\n",
    "import pandas as pd\n",
    "import matplotlib.pyplot as plt\n",
    "from pandas import Series, DataFrame\n",
    "import pytz\n",
    "from pytz import common_timezones, all_timezones\n",
    "import matplotlib\n",
    "matplotlib.style.use('ggplot')\n",
    "%matplotlib inline\n",
    "from datetime import datetime\n",
    "import scipy as sp\n",
    "import statsmodels.api as sm\n",
    "import statsmodels.formula.api as smf\n",
    "matplotlib.style.use('fivethirtyeight')\n",
    "matplotlib.style.use('seaborn-talk')\n",
    "import os\n",
    "import collections\n",
    "\n",
    "preDouble = \"\\\\\\\\iobsdc01\\\\SharedDocs\\\\SEER_MEDICARE\\\\SEER_MEDICARE_STAGING\"\n",
    "new = os.chdir(preDouble)\n",
    "#print(preDouble)"
   ]
  },
  {
   "cell_type": "code",
   "execution_count": 2,
   "metadata": {
    "collapsed": true,
    "slideshow": {
     "slide_type": "skip"
    }
   },
   "outputs": [],
   "source": [
    "import pickle\n",
    "fileObject = open('control_indicies.pickle', 'rb')\n",
    "b = pickle.load(fileObject)\n",
    "fileObject.close()\n",
    "controlindices = list(b)"
   ]
  },
  {
   "cell_type": "code",
   "execution_count": null,
   "metadata": {
    "collapsed": true,
    "slideshow": {
     "slide_type": "skip"
    }
   },
   "outputs": [],
   "source": [
    "import pickle\n",
    "fileObject = open('treatment_indicies.pickle', 'rb')\n",
    "b = pickle.load(fileObject)\n",
    "fileObject.close()\n",
    "treatmentindices = list(b)"
   ]
  },
  {
   "cell_type": "code",
   "execution_count": null,
   "metadata": {
    "collapsed": true,
    "slideshow": {
     "slide_type": "skip"
    }
   },
   "outputs": [],
   "source": [
    "df = pd.read_pickle('dfpedsfFirsts.pickle')"
   ]
  },
  {
   "cell_type": "code",
   "execution_count": null,
   "metadata": {
    "collapsed": true,
    "slideshow": {
     "slide_type": "skip"
    }
   },
   "outputs": [],
   "source": [
    "mask = (df['srvm1'] != 9999)\n",
    "dfall = df[mask]\n"
   ]
  },
  {
   "cell_type": "code",
   "execution_count": null,
   "metadata": {
    "collapsed": true,
    "slideshow": {
     "slide_type": "skip"
    }
   },
   "outputs": [],
   "source": [
    "geomask = (dfall['elevation_1'] != dfall['FIPScombo_1']) \n",
    "\n",
    "dfall = dfall[geomask].copy()\n"
   ]
  },
  {
   "cell_type": "code",
   "execution_count": null,
   "metadata": {
    "collapsed": true,
    "slideshow": {
     "slide_type": "skip"
    }
   },
   "outputs": [],
   "source": [
    "dfall['elevation_1'].replace('99999',np.nan,inplace=True)\n",
    "dfall['elevation_2'].replace('99999',np.nan,inplace=True)\n",
    "dfall['elevation_3'].replace('99999',np.nan,inplace=True)\n",
    "\n",
    "dfall['lat_1'].replace('99999',np.nan,inplace=True)\n",
    "dfall['lat_2'].replace('99999',np.nan,inplace=True)\n",
    "dfall['lat_3'].replace('99999',np.nan,inplace=True)\n",
    "\n",
    "dfall['lng_1'].replace('99999',np.nan,inplace=True)\n",
    "dfall['lng_2'].replace('99999',np.nan,inplace=True)\n",
    "dfall['lng_3'].replace('99999',np.nan,inplace=True)\n",
    "\n",
    "dfall['elevation_1'] = dfall['elevation_1'].astype('float')\n",
    "dfall['elevation_2'] = dfall['elevation_2'].astype('float')\n",
    "dfall['elevation_3'] = dfall['elevation_3'].astype('float')\n",
    "\n",
    "dfall['lat_1'] = dfall['lat_1'].astype('float')\n",
    "dfall['lat_2'] = dfall['lat_2'].astype('float')\n",
    "dfall['lat_3'] = dfall['lat_3'].astype('float')\n",
    "\n",
    "dfall['lng_1'] = dfall['lng_1'].astype('float')\n",
    "dfall['lng_2'] = dfall['lng_2'].astype('float')\n",
    "dfall['lng_3'] = dfall['lng_3'].astype('float')"
   ]
  },
  {
   "cell_type": "code",
   "execution_count": null,
   "metadata": {
    "collapsed": true,
    "slideshow": {
     "slide_type": "skip"
    }
   },
   "outputs": [],
   "source": [
    "dfall.set_index('patient_id', inplace=True,drop=False)"
   ]
  },
  {
   "cell_type": "code",
   "execution_count": null,
   "metadata": {
    "collapsed": false,
    "slideshow": {
     "slide_type": "skip"
    }
   },
   "outputs": [],
   "source": [
    "dfall.patient_id.isin(treatmentindices).sum()"
   ]
  },
  {
   "cell_type": "code",
   "execution_count": null,
   "metadata": {
    "collapsed": false,
    "slideshow": {
     "slide_type": "skip"
    }
   },
   "outputs": [],
   "source": [
    "dfall.patient_id.isin(controlindices).sum()"
   ]
  },
  {
   "cell_type": "code",
   "execution_count": null,
   "metadata": {
    "collapsed": false,
    "slideshow": {
     "slide_type": "skip"
    }
   },
   "outputs": [],
   "source": [
    "dfall.shape"
   ]
  },
  {
   "cell_type": "code",
   "execution_count": null,
   "metadata": {
    "collapsed": true,
    "slideshow": {
     "slide_type": "skip"
    }
   },
   "outputs": [],
   "source": [
    "dfalltreatment = dfall.loc[treatmentindices].copy()\n",
    "dfallcontrol = dfall.loc[controlindices].copy()"
   ]
  },
  {
   "cell_type": "code",
   "execution_count": null,
   "metadata": {
    "collapsed": false,
    "slideshow": {
     "slide_type": "skip"
    }
   },
   "outputs": [],
   "source": [
    "dfalltreatment.shape"
   ]
  },
  {
   "cell_type": "code",
   "execution_count": null,
   "metadata": {
    "collapsed": false,
    "slideshow": {
     "slide_type": "skip"
    }
   },
   "outputs": [],
   "source": [
    "dfallcontrol.shape"
   ]
  },
  {
   "cell_type": "code",
   "execution_count": null,
   "metadata": {
    "collapsed": true,
    "slideshow": {
     "slide_type": "skip"
    }
   },
   "outputs": [],
   "source": [
    "lung_filter_all = dfall.site1.str.contains('lung',case=False,na=False) | \\\n",
    "              dfall.site1.str.contains('bronchus',case=False,na=False)\n",
    "    \n",
    "lung_filter_treatment = dfalltreatment.site1.str.contains('lung',case=False,na=False) | \\\n",
    "              dfalltreatment.site1.str.contains('bronchus',case=False,na=False)\n",
    "    \n",
    "lung_filter_control = dfallcontrol.site1.str.contains('lung',case=False,na=False) | \\\n",
    "              dfallcontrol.site1.str.contains('bronchus',case=False,na=False)\n",
    "    \n",
    "    \n",
    "\n",
    "prostate_filter_all = dfall.site1.str.contains('prostate',case=False,na=False) | \\\n",
    "              dfall.site1.str.contains('prostate',case=False,na=False)\n",
    "    \n",
    "prostate_filter_treatment = dfalltreatment.site1.str.contains('prostate',case=False,na=False) | \\\n",
    "              dfalltreatment.site1.str.contains('prostate',case=False,na=False)\n",
    "    \n",
    "prostate_filter_control = dfallcontrol.site1.str.contains('prostate',case=False,na=False) | \\\n",
    "              dfallcontrol.site1.str.contains('prostate',case=False,na=False)\n",
    "    \n",
    "    \n",
    "eye_filter_all = dfall.site1.str.contains('choroid',case=False,na=False) | \\\n",
    "              dfall.site1.str.contains('ciliary',case=False,na=False) | \\\n",
    "             dfall.site1.str.contains('retina',case=False,na=False)\n",
    "    \n",
    "eye_filter_treatment = dfalltreatment.site1.str.contains('choroid',case=False,na=False) | \\\n",
    "              dfalltreatment.site1.str.contains('ciliary',case=False,na=False) | \\\n",
    "              dfalltreatment.site1.str.contains('retina',case=False,na=False)\n",
    "    \n",
    "eye_filter_control = dfallcontrol.site1.str.contains('choroid',case=False,na=False) | \\\n",
    "              dfallcontrol.site1.str.contains('ciliary',case=False,na=False) | \\\n",
    "             dfallcontrol.site1.str.contains('retina',case=False,na=False)\n",
    "        \n",
    "        \n",
    "        \n",
    "brain_filter_all = dfall.site1.str.contains('cerebral',case=False,na=False) | \\\n",
    "              dfall.site1.str.contains('frontal',case=False,na=False) | \\\n",
    "             dfall.site1.str.contains('temporal',case=False,na=False) | \\\n",
    "           dfall.site1.str.contains('parietal',case=False,na=False)\n",
    "    \n",
    "brain_filter_treatment = dfalltreatment.site1.str.contains('cerebral',case=False,na=False) | \\\n",
    "              dfalltreatment.site1.str.contains('frontal',case=False,na=False) | \\\n",
    "              dfalltreatment.site1.str.contains('temporal',case=False,na=False) | \\\n",
    "             dfalltreatment.site1.str.contains('parietal',case=False,na=False)\n",
    "    \n",
    "brain_filter_control = dfallcontrol.site1.str.contains('cerebral',case=False,na=False) | \\\n",
    "              dfallcontrol.site1.str.contains('frontal',case=False,na=False) | \\\n",
    "             dfallcontrol.site1.str.contains('temporal',case=False,na=False) | \\\n",
    "        dfallcontrol.site1.str.contains('parietal',case=False,na=False)\n",
    "        \n",
    "        \n",
    "head_and_neck_filter_all = dfall.site1.str.contains('parotid',case=False,na=False) | \\\n",
    "              dfall.site1.str.contains('esophagus',case=False,na=False) | \\\n",
    "             dfall.site1.str.contains('acoustic nerve',case=False,na=False) \n",
    "    \n",
    "head_and_neck_filter_treatment = dfalltreatment.site1.str.contains('parotid',case=False,na=False) | \\\n",
    "              dfalltreatment.site1.str.contains('esophagus',case=False,na=False) | \\\n",
    "              dfalltreatment.site1.str.contains('acoustic nerve',case=False,na=False) \n",
    "    \n",
    "head_and_neck_filter_control = dfallcontrol.site1.str.contains('parotid',case=False,na=False) | \\\n",
    "              dfallcontrol.site1.str.contains('esophagus',case=False,na=False) | \\\n",
    "             dfallcontrol.site1.str.contains('acoustic nerve',case=False,na=False) \n",
    "        \n",
    "        \n",
    "breast_filter_all = dfall.site1.str.contains('breast',case=False,na=False) \n",
    "    \n",
    "breast_filter_treatment = dfalltreatment.site1.str.contains('breast',case=False,na=False)\n",
    "    \n",
    "breast_filter_control = dfallcontrol.site1.str.contains('breast',case=False,na=False)  \n"
   ]
  },
  {
   "cell_type": "code",
   "execution_count": null,
   "metadata": {
    "collapsed": true,
    "slideshow": {
     "slide_type": "skip"
    }
   },
   "outputs": [],
   "source": [
    "catcols = ['m_sex','marst1','srace','nhiade','grade1',\n",
    "           'site1',\n",
    "          'histrec1',\n",
    "           'modx1','stat_rec']\n",
    "\n",
    "\n",
    "goodcols = ['m_sex','marst1', 'srace','nhiade',\n",
    "           'grade1','site1',\n",
    "           'lat1','histrec1',\n",
    "           'modx1','stat_rec','birthyr',\n",
    "           'agedx1',\n",
    "           'yrdx1','elevation_1',\n",
    "           'lng_1']"
   ]
  },
  {
   "cell_type": "code",
   "execution_count": null,
   "metadata": {
    "collapsed": true,
    "slideshow": {
     "slide_type": "skip"
    }
   },
   "outputs": [],
   "source": [
    "resgoodcontrol = pd.concat([pd.get_dummies(dfallcontrol[col],prefix=col) for col in catcols], axis=1)\n",
    "\n",
    "resgoodtreatment = pd.concat([pd.get_dummies(dfalltreatment[col],prefix=col) for col in catcols], axis=1)\n",
    "\n",
    "resgoodpop = pd.concat([pd.get_dummies(dfall[col],prefix=col) for col in catcols], axis=1)"
   ]
  },
  {
   "cell_type": "code",
   "execution_count": null,
   "metadata": {
    "collapsed": true,
    "slideshow": {
     "slide_type": "skip"
    }
   },
   "outputs": [],
   "source": [
    "resgoodcontrol['birthyr'] = dfallcontrol['birthyr']\n",
    "resgoodcontrol['agedx1'] = dfallcontrol['agedx1']\n",
    "\n",
    "resgoodcontrol['yrdx1'] = dfallcontrol['yrdx1']\n",
    "\n",
    "resgoodcontrol['lat_1'] = dfallcontrol['lat_1']\n",
    "\n",
    "resgoodcontrol['lng_1'] = dfallcontrol['lng_1']\n",
    "\n",
    "resgoodcontrol['srvm1'] = dfallcontrol['srvm1']\n",
    "\n",
    "resgoodcontrol['elevation_1'] = dfallcontrol['elevation_1']"
   ]
  },
  {
   "cell_type": "code",
   "execution_count": null,
   "metadata": {
    "collapsed": true,
    "slideshow": {
     "slide_type": "skip"
    }
   },
   "outputs": [],
   "source": [
    "resgoodtreatment['birthyr'] = dfalltreatment['birthyr']\n",
    "resgoodtreatment['agedx1'] = dfalltreatment['agedx1']\n",
    "\n",
    "resgoodtreatment['yrdx1'] = dfalltreatment['yrdx1']\n",
    "\n",
    "\n",
    "\n",
    "resgoodtreatment['lat_1'] = dfalltreatment['lat_1']\n",
    "\n",
    "resgoodtreatment['lng_1'] = dfalltreatment['lng_1']\n",
    "\n",
    "resgoodtreatment['srvm1'] = dfalltreatment['srvm1']\n",
    "\n",
    "resgoodtreatment['elevation_1'] = dfalltreatment['elevation_1']"
   ]
  },
  {
   "cell_type": "code",
   "execution_count": null,
   "metadata": {
    "collapsed": false,
    "slideshow": {
     "slide_type": "skip"
    }
   },
   "outputs": [],
   "source": [
    "resgoodpop['birthyr'] = dfall['birthyr']\n",
    "resgoodpop['agedx1'] = dfall['agedx1']\n",
    "\n",
    "resgoodpop['yrdx1'] = dfall['yrdx1']\n",
    "\n",
    "\n",
    "\n",
    "\n",
    "resgoodpop['lat_1'] = dfall['lat_1']\n",
    "\n",
    "resgoodpop['lng_1'] = dfall['lng_1']\n",
    "\n",
    "resgoodpop['srvm1'] = dfall['srvm1']\n",
    "\n",
    "resgoodpop['elevation_1'] = dfall['elevation_1']"
   ]
  },
  {
   "cell_type": "code",
   "execution_count": null,
   "metadata": {
    "collapsed": true,
    "slideshow": {
     "slide_type": "skip"
    }
   },
   "outputs": [],
   "source": [
    "beamfilter = dfall.rad1.str.contains('beam radiation',case=False,na=False)"
   ]
  },
  {
   "cell_type": "markdown",
   "metadata": {
    "slideshow": {
     "slide_type": "slide"
    }
   },
   "source": [
    "# <font color=\"#E56717\">Kaplan-Meier Survival Curves</font> "
   ]
  },
  {
   "cell_type": "markdown",
   "metadata": {
    "slideshow": {
     "slide_type": "slide"
    }
   },
   "source": [
    "# <font color=\"#E56717\">Kaplan-Meier Survival Curves after performing the patient matching</font>\n",
    "\n",
    "<span style=\"font-size:1.5em;\">Below we will show the Kaplan-Meier survival curves for the group of PBT patients and the corresponding group of matched controls who received any other form of RT</span>\n",
    "\n",
    "* <span style=\"font-size:1.5em;\">Just prostate cancer: PBT is better</span>\n",
    "* <span style=\"font-size:1.5em;\">Eye and Orbit</span>\n",
    "* <span style=\"font-size:1.5em;\">Lung: PBT is better</span>\n",
    "* <span style=\"font-size:1.5em;\">Brain</span>\n",
    "* <span style=\"font-size:1.5em;\">Head and Neck</span>\n",
    "* <span style=\"font-size:1.5em;\">Breast</span>"
   ]
  },
  {
   "cell_type": "code",
   "execution_count": null,
   "metadata": {
    "collapsed": false,
    "slideshow": {
     "slide_type": "skip"
    }
   },
   "outputs": [],
   "source": [
    "breast_filter_treatment.sum()"
   ]
  },
  {
   "cell_type": "markdown",
   "metadata": {
    "slideshow": {
     "slide_type": "slide"
    }
   },
   "source": [
    "# <font color=\"#E56717\">Broad Grouping Counts</font>\n",
    "\n",
    "| Group | count |\n",
    "|-------|-------:|\n",
    "|prostate | 857 |\n",
    "| lung | 28 |\n",
    "| eye and orbit | 18 |\n",
    "| brain | 3 |\n",
    "| head and neck | 3 |\n",
    "| breast | 7 | "
   ]
  },
  {
   "cell_type": "markdown",
   "metadata": {
    "slideshow": {
     "slide_type": "slide"
    }
   },
   "source": [
    "# <font color=\"#E56717\">Distribution of sites</font>\n",
    "\n",
    "| site | count | \n",
    "|------|----------:|\n",
    "|Prostate gland                   | 857|\n",
    "|Upper lobe, lung                  | 22|\n",
    "|Choroid                           | 18|\n",
    "|Lower lobe, lung                  |  5|\n",
    "|Upper-outer quadrant of breast     | 3|\n",
    "|Lower third of esophagus           | 2|\n",
    "|Lower-inner quadrant of breast     | 2|\n",
    "|Overlapping lesion of breast       | 2|\n",
    "|Frontal lobe                       | 1|\n",
    "|Lung, NOS                          | 1|\n",
    "|Parietal lobe                      | 1|\n",
    "|Temporal lobe                      | 1|\n",
    "|Parotid gland                      | 1|"
   ]
  },
  {
   "cell_type": "code",
   "execution_count": null,
   "metadata": {
    "collapsed": false,
    "slideshow": {
     "slide_type": "slide"
    }
   },
   "outputs": [],
   "source": [
    "dfalltreatment.site1.value_counts()"
   ]
  },
  {
   "cell_type": "markdown",
   "metadata": {
    "slideshow": {
     "slide_type": "slide"
    }
   },
   "source": [
    "# <font color=\"#E56717\">Lung Cancer</font>"
   ]
  },
  {
   "cell_type": "code",
   "execution_count": null,
   "metadata": {
    "collapsed": false,
    "slideshow": {
     "slide_type": "skip"
    }
   },
   "outputs": [],
   "source": [
    "from lifelines import KaplanMeierFitter\n",
    "\n",
    "kmfpop = KaplanMeierFitter()\n",
    "kmfcontrol = KaplanMeierFitter()\n",
    "kmftreatment = KaplanMeierFitter()\n",
    "\n",
    "Tcontrol = resgoodcontrol[lung_filter_control][\"srvm1\"]\n",
    "Econtrol = resgoodcontrol[lung_filter_control][\"stat_rec_Dead\"]\n",
    "\n",
    "Ttreatment = resgoodtreatment[lung_filter_treatment][\"srvm1\"]\n",
    "Etreatment = resgoodtreatment[lung_filter_treatment][\"stat_rec_Dead\"]\n",
    "\n",
    "Tpop = resgoodpop[lung_filter_all & beamfilter][\"srvm1\"]\n",
    "Epop = resgoodpop[lung_filter_all & beamfilter][\"stat_rec_Dead\"]\n",
    "\n",
    "kmfpop.fit(Tpop, event_observed=Epop,label='All Lung Cancer (all beam radiation treatment modalities) group');\n",
    "kmfcontrol.fit(Tcontrol, event_observed=Econtrol,label='Non PBT group (control group)')\n",
    "kmftreatment.fit(Ttreatment, event_observed=Etreatment, label='PBT group (treatment group)')"
   ]
  },
  {
   "cell_type": "code",
   "execution_count": null,
   "metadata": {
    "collapsed": false,
    "slideshow": {
     "slide_type": "slide"
    }
   },
   "outputs": [],
   "source": [
    "ax = kmfpop.plot(show_censors=True)\n",
    "kmftreatment.plot(ax=ax,show_censors=True)\n",
    "kmfcontrol.plot(ax=ax,show_censors=True)\n",
    "plt.title(\"Kaplan-Meier Curve (95% CI) \\nAll Lung Cancer patients\");\n",
    "plt.xlim(0,60)\n",
    "plt.savefig('lungkm.pdf')"
   ]
  },
  {
   "cell_type": "code",
   "execution_count": null,
   "metadata": {
    "collapsed": false,
    "slideshow": {
     "slide_type": "slide"
    }
   },
   "outputs": [],
   "source": [
    "ax = kmfcontrol.plot(show_censors=True)\n",
    "kmftreatment.plot(ax=ax, show_censors=True)\n",
    "plt.title(\"Kaplan-Meier Curve (95% CI) \\nLung Cancer patients \\n Post-Matching\");"
   ]
  },
  {
   "cell_type": "code",
   "execution_count": null,
   "metadata": {
    "collapsed": false,
    "slideshow": {
     "slide_type": "slide"
    }
   },
   "outputs": [],
   "source": [
    "from lifelines.statistics import logrank_test\n",
    "results = logrank_test(Ttreatment, Tcontrol, Etreatment, Econtrol)\n",
    "results.print_summary()"
   ]
  },
  {
   "cell_type": "markdown",
   "metadata": {
    "slideshow": {
     "slide_type": "slide"
    }
   },
   "source": [
    "# <font color=\"#E56717\">Prostate Cancer</font>\n",
    "\n"
   ]
  },
  {
   "cell_type": "code",
   "execution_count": null,
   "metadata": {
    "collapsed": false,
    "slideshow": {
     "slide_type": "skip"
    }
   },
   "outputs": [],
   "source": [
    "\n",
    "from lifelines import KaplanMeierFitter\n",
    "\n",
    "kmfpop = KaplanMeierFitter()\n",
    "kmfcontrol = KaplanMeierFitter()\n",
    "kmftreatment = KaplanMeierFitter()\n",
    "\n",
    "Tcontrol = resgoodcontrol[prostate_filter_control][\"srvm1\"]\n",
    "Econtrol = resgoodcontrol[prostate_filter_control][\"stat_rec_Dead\"]\n",
    "\n",
    "Ttreatment = resgoodtreatment[prostate_filter_treatment][\"srvm1\"]\n",
    "Etreatment = resgoodtreatment[prostate_filter_treatment][\"stat_rec_Dead\"]\n",
    "\n",
    "Tpop = resgoodpop[prostate_filter_all & beamfilter][\"srvm1\"]\n",
    "Epop = resgoodpop[prostate_filter_all & beamfilter][\"stat_rec_Dead\"]\n",
    "\n",
    "kmfpop.fit(Tpop, event_observed=Epop,label='All Prostate Cancer (all beam radiation treatment modalities) group');\n",
    "kmfcontrol.fit(Tcontrol, event_observed=Econtrol,label='Non PBT group (control group)')\n",
    "kmftreatment.fit(Ttreatment, event_observed=Etreatment, label='PBT group (treatment group)')"
   ]
  },
  {
   "cell_type": "code",
   "execution_count": null,
   "metadata": {
    "collapsed": false,
    "scrolled": true,
    "slideshow": {
     "slide_type": "slide"
    }
   },
   "outputs": [],
   "source": [
    "ax = kmfcontrol.plot(show_censors=True)\n",
    "kmftreatment.plot(ax=ax, show_censors=True)\n",
    "#kmfpop.plot(ax=ax, show_censors=True)\n",
    "plt.title(\"Kaplan-Meier Curve (95% CI) \\nProstate Cancer patients\");\n",
    "plt.savefig('prostatekm.pdf')"
   ]
  },
  {
   "cell_type": "code",
   "execution_count": null,
   "metadata": {
    "collapsed": false,
    "slideshow": {
     "slide_type": "slide"
    }
   },
   "outputs": [],
   "source": [
    "from lifelines.statistics import logrank_test\n",
    "results = logrank_test(Ttreatment, Tcontrol, Etreatment, Econtrol)\n",
    "results.print_summary()"
   ]
  },
  {
   "cell_type": "markdown",
   "metadata": {
    "slideshow": {
     "slide_type": "slide"
    }
   },
   "source": [
    "# <font color=\"#E56717\">Eye and Orbit</font>\n",
    "\n"
   ]
  },
  {
   "cell_type": "code",
   "execution_count": null,
   "metadata": {
    "collapsed": false,
    "slideshow": {
     "slide_type": "skip"
    }
   },
   "outputs": [],
   "source": [
    "from lifelines import KaplanMeierFitter\n",
    "\n",
    "kmfpop = KaplanMeierFitter()\n",
    "kmfcontrol = KaplanMeierFitter()\n",
    "kmftreatment = KaplanMeierFitter()\n",
    "\n",
    "Tcontrol = resgoodcontrol[eye_filter_control][\"srvm1\"]\n",
    "Econtrol = resgoodcontrol[eye_filter_control][\"stat_rec_Dead\"]\n",
    "\n",
    "Ttreatment = resgoodtreatment[eye_filter_treatment][\"srvm1\"]\n",
    "Etreatment = resgoodtreatment[eye_filter_treatment][\"stat_rec_Dead\"]\n",
    "\n",
    "Tpop = resgoodpop[eye_filter_all & beamfilter][\"srvm1\"]\n",
    "Epop = resgoodpop[eye_filter_all & beamfilter][\"stat_rec_Dead\"]\n",
    "\n",
    "kmfpop.fit(Tpop, event_observed=Epop,label='All Eye and Orbit Cancer (all beam radiation treatment modalities) group');\n",
    "kmfcontrol.fit(Tcontrol, event_observed=Econtrol,label='Non PT group (control group)')\n",
    "kmftreatment.fit(Ttreatment, event_observed=Etreatment, label='PT group (treatment group)')"
   ]
  },
  {
   "cell_type": "code",
   "execution_count": null,
   "metadata": {
    "collapsed": false,
    "slideshow": {
     "slide_type": "slide"
    }
   },
   "outputs": [],
   "source": [
    "ax = kmfcontrol.plot(show_censors=True)\n",
    "kmftreatment.plot(ax=ax, show_censors=True)\n",
    "plt.title(\"Kaplan-Meier Curve (95% CI) \\nEye and Orbit Cancer patients \\n Post-Matching\");"
   ]
  },
  {
   "cell_type": "code",
   "execution_count": null,
   "metadata": {
    "collapsed": false,
    "slideshow": {
     "slide_type": "slide"
    }
   },
   "outputs": [],
   "source": [
    "from lifelines.statistics import logrank_test\n",
    "results = logrank_test(Ttreatment, Tcontrol, Etreatment, Econtrol)\n",
    "results.print_summary()"
   ]
  },
  {
   "cell_type": "markdown",
   "metadata": {
    "slideshow": {
     "slide_type": "slide"
    }
   },
   "source": [
    "# <font color=\"#E56717\">Brain Cancer</font>"
   ]
  },
  {
   "cell_type": "code",
   "execution_count": null,
   "metadata": {
    "collapsed": false,
    "slideshow": {
     "slide_type": "skip"
    }
   },
   "outputs": [],
   "source": [
    "from lifelines import KaplanMeierFitter\n",
    "\n",
    "kmfpop = KaplanMeierFitter()\n",
    "kmfcontrol = KaplanMeierFitter()\n",
    "kmftreatment = KaplanMeierFitter()\n",
    "\n",
    "Tcontrol = resgoodcontrol[brain_filter_control][\"srvm1\"]\n",
    "Econtrol = resgoodcontrol[brain_filter_control][\"stat_rec_Dead\"]\n",
    "\n",
    "Ttreatment = resgoodtreatment[brain_filter_treatment][\"srvm1\"]\n",
    "Etreatment = resgoodtreatment[brain_filter_treatment][\"stat_rec_Dead\"]\n",
    "\n",
    "Tpop = resgoodpop[brain_filter_all & beamfilter][\"srvm1\"]\n",
    "Epop = resgoodpop[brain_filter_all & beamfilter][\"stat_rec_Dead\"]\n",
    "\n",
    "kmfpop.fit(Tpop, event_observed=Epop,label='All Brain Cancer (all beam radiation treatment modalities) group');\n",
    "kmfcontrol.fit(Tcontrol, event_observed=Econtrol,label='Non PT group (control group)')\n",
    "kmftreatment.fit(Ttreatment, event_observed=Etreatment, label='PT group (treatment group)')"
   ]
  },
  {
   "cell_type": "code",
   "execution_count": null,
   "metadata": {
    "collapsed": false,
    "slideshow": {
     "slide_type": "slide"
    }
   },
   "outputs": [],
   "source": [
    "ax = kmfcontrol.plot(show_censors=True)\n",
    "kmftreatment.plot(ax=ax, show_censors=True)\n",
    "plt.title(\"Kaplan-Meier Curve (95% CI) \\nBrain Cancer patients \\n Post-Matching\");"
   ]
  },
  {
   "cell_type": "code",
   "execution_count": null,
   "metadata": {
    "collapsed": false,
    "slideshow": {
     "slide_type": "slide"
    }
   },
   "outputs": [],
   "source": [
    "from lifelines.statistics import logrank_test\n",
    "results = logrank_test(Ttreatment, Tcontrol, Etreatment, Econtrol)\n",
    "results.print_summary()"
   ]
  },
  {
   "cell_type": "markdown",
   "metadata": {
    "slideshow": {
     "slide_type": "slide"
    }
   },
   "source": [
    "# <font color=\"#E56717\">Head and Neck Cancer</font>"
   ]
  },
  {
   "cell_type": "code",
   "execution_count": null,
   "metadata": {
    "collapsed": false,
    "slideshow": {
     "slide_type": "skip"
    }
   },
   "outputs": [],
   "source": [
    "from lifelines import KaplanMeierFitter\n",
    "\n",
    "kmfpop = KaplanMeierFitter()\n",
    "kmfcontrol = KaplanMeierFitter()\n",
    "kmftreatment = KaplanMeierFitter()\n",
    "\n",
    "Tcontrol = resgoodcontrol[head_and_neck_filter_control][\"srvm1\"]\n",
    "Econtrol = resgoodcontrol[head_and_neck_filter_control][\"stat_rec_Dead\"]\n",
    "\n",
    "Ttreatment = resgoodtreatment[head_and_neck_filter_treatment][\"srvm1\"]\n",
    "Etreatment = resgoodtreatment[head_and_neck_filter_treatment][\"stat_rec_Dead\"]\n",
    "\n",
    "Tpop = resgoodpop[head_and_neck_filter_all & beamfilter][\"srvm1\"]\n",
    "Epop = resgoodpop[head_and_neck_filter_all & beamfilter][\"stat_rec_Dead\"]\n",
    "\n",
    "kmfpop.fit(Tpop, event_observed=Epop,label='All Head and Neck Cancer (all beam radiation treatment modalities) group');\n",
    "kmfcontrol.fit(Tcontrol, event_observed=Econtrol,label='Non PT group (control group)')\n",
    "kmftreatment.fit(Ttreatment, event_observed=Etreatment, label='PT group (treatment group)')"
   ]
  },
  {
   "cell_type": "code",
   "execution_count": null,
   "metadata": {
    "collapsed": false,
    "slideshow": {
     "slide_type": "slide"
    }
   },
   "outputs": [],
   "source": [
    "ax = kmfcontrol.plot(show_censors=True)\n",
    "kmftreatment.plot(ax=ax, show_censors=True)\n",
    "plt.title(\"Kaplan-Meier Curve (95% CI) \\nHead and Neck Cancer patients \\n Post-Matching\");"
   ]
  },
  {
   "cell_type": "code",
   "execution_count": null,
   "metadata": {
    "collapsed": false,
    "slideshow": {
     "slide_type": "slide"
    }
   },
   "outputs": [],
   "source": [
    "from lifelines.statistics import logrank_test\n",
    "results = logrank_test(Ttreatment, Tcontrol, Etreatment, Econtrol)\n",
    "results.print_summary()"
   ]
  },
  {
   "cell_type": "code",
   "execution_count": null,
   "metadata": {
    "collapsed": false,
    "slideshow": {
     "slide_type": "skip"
    }
   },
   "outputs": [],
   "source": [
    "Tcontrol"
   ]
  },
  {
   "cell_type": "markdown",
   "metadata": {
    "slideshow": {
     "slide_type": "slide"
    }
   },
   "source": [
    "# <font color=\"#E56717\">Breast Cancer</font>"
   ]
  },
  {
   "cell_type": "code",
   "execution_count": null,
   "metadata": {
    "collapsed": false,
    "slideshow": {
     "slide_type": "skip"
    }
   },
   "outputs": [],
   "source": [
    "from lifelines import KaplanMeierFitter\n",
    "\n",
    "kmfpop = KaplanMeierFitter()\n",
    "kmfcontrol = KaplanMeierFitter()\n",
    "kmftreatment = KaplanMeierFitter()\n",
    "\n",
    "Tcontrol = resgoodcontrol[breast_filter_control][\"srvm1\"]\n",
    "Econtrol = resgoodcontrol[breast_filter_control][\"stat_rec_Dead\"]\n",
    "\n",
    "Ttreatment = resgoodtreatment[breast_filter_treatment][\"srvm1\"]\n",
    "Etreatment = resgoodtreatment[breast_filter_treatment][\"stat_rec_Dead\"]\n",
    "\n",
    "Tpop = resgoodpop[breast_filter_all & beamfilter][\"srvm1\"]\n",
    "Epop = resgoodpop[breast_filter_all & beamfilter][\"stat_rec_Dead\"]\n",
    "\n",
    "kmfpop.fit(Tpop, event_observed=Epop,label='All Breast Cancer (all beam radiation treatment modalities) group');\n",
    "kmfcontrol.fit(Tcontrol, event_observed=Econtrol,label='Non PT group (control group)')\n",
    "kmftreatment.fit(Ttreatment, event_observed=Etreatment, label='PT group (treatment group)')"
   ]
  },
  {
   "cell_type": "code",
   "execution_count": null,
   "metadata": {
    "collapsed": false,
    "slideshow": {
     "slide_type": "slide"
    }
   },
   "outputs": [],
   "source": [
    "ax = kmfcontrol.plot(show_censors=True)\n",
    "kmftreatment.plot(ax=ax, show_censors=True)\n",
    "plt.title(\"Kaplan-Meier Curve (95% CI) \\nBreast Cancer patients \\n Post-Matching\");"
   ]
  },
  {
   "cell_type": "code",
   "execution_count": null,
   "metadata": {
    "collapsed": false,
    "slideshow": {
     "slide_type": "slide"
    }
   },
   "outputs": [],
   "source": [
    "from lifelines.statistics import logrank_test\n",
    "results = logrank_test(Ttreatment, Tcontrol, Etreatment, Econtrol)\n",
    "results.print_summary()"
   ]
  },
  {
   "cell_type": "code",
   "execution_count": null,
   "metadata": {
    "collapsed": true
   },
   "outputs": [],
   "source": []
  },
  {
   "cell_type": "code",
   "execution_count": null,
   "metadata": {
    "collapsed": true
   },
   "outputs": [],
   "source": []
  }
 ],
 "metadata": {
  "celltoolbar": "Slideshow",
  "kernelspec": {
   "display_name": "Python 3",
   "language": "python",
   "name": "python3"
  },
  "language_info": {
   "codemirror_mode": {
    "name": "ipython",
    "version": 3
   },
   "file_extension": ".py",
   "mimetype": "text/x-python",
   "name": "python",
   "nbconvert_exporter": "python",
   "pygments_lexer": "ipython3",
   "version": "3.5.1"
  },
  "widgets": {
   "state": {},
   "version": "1.1.2"
  }
 },
 "nbformat": 4,
 "nbformat_minor": 0
}
