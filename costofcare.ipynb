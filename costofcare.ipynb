{
 "cells": [
  {
   "cell_type": "code",
   "execution_count": 31,
   "metadata": {
    "collapsed": true
   },
   "outputs": [],
   "source": [
    "import numpy as np\n",
    "import pandas as pd\n",
    "import matplotlib.pyplot as plt\n",
    "from pandas import Series, DataFrame\n",
    "import pytz\n",
    "from pytz import common_timezones, all_timezones\n",
    "import matplotlib\n",
    "matplotlib.style.use('ggplot')\n",
    "%matplotlib inline\n",
    "from datetime import datetime\n",
    "import scipy as sp\n",
    "import statsmodels.api as sm\n",
    "import statsmodels.formula.api as smf\n",
    "matplotlib.style.use('fivethirtyeight')\n",
    "matplotlib.style.use('seaborn-talk')\n",
    "import os\n",
    "import collections"
   ]
  },
  {
   "cell_type": "code",
   "execution_count": 32,
   "metadata": {
    "collapsed": false
   },
   "outputs": [
    {
     "name": "stdout",
     "output_type": "stream",
     "text": [
      "\\\\iobsdc01\\SharedDocs\\SEER_MEDICARE\\SEER_MEDICARE_STAGING\n"
     ]
    }
   ],
   "source": [
    "preDouble = \"\\\\\\\\iobsdc01\\\\SharedDocs\\\\SEER_MEDICARE\\\\SEER_MEDICARE_STAGING\"\n",
    "new = os.chdir(preDouble)\n",
    "print(preDouble)"
   ]
  },
  {
   "cell_type": "code",
   "execution_count": 33,
   "metadata": {
    "collapsed": false
   },
   "outputs": [],
   "source": [
    "import pickle\n",
    "fileObject = open('control_indicies.pickle', 'rb')\n",
    "b = pickle.load(fileObject)\n",
    "fileObject.close()\n",
    "controlindices = list(b)"
   ]
  },
  {
   "cell_type": "code",
   "execution_count": 34,
   "metadata": {
    "collapsed": false
   },
   "outputs": [],
   "source": [
    "import pickle\n",
    "fileObject = open('treatment_indicies.pickle', 'rb')\n",
    "b = pickle.load(fileObject)\n",
    "fileObject.close()\n",
    "treatmentindices = list(b)"
   ]
  },
  {
   "cell_type": "code",
   "execution_count": 35,
   "metadata": {
    "collapsed": false
   },
   "outputs": [
    {
     "name": "stdout",
     "output_type": "stream",
     "text": [
      "1031 1031\n"
     ]
    }
   ],
   "source": [
    "print(len(controlindices), len(treatmentindices))"
   ]
  },
  {
   "cell_type": "markdown",
   "metadata": {},
   "source": [
    "Want to get the concatenated outsaf files for only these patients."
   ]
  },
  {
   "cell_type": "code",
   "execution_count": 36,
   "metadata": {
    "collapsed": false
   },
   "outputs": [
    {
     "data": {
      "text/plain": [
       "['outsaf06.file001.txt',\n",
       " 'outsaf06.file002.txt',\n",
       " 'outsaf06.file003.txt',\n",
       " 'outsaf06.file004.txt',\n",
       " 'outsaf06.file005.txt',\n",
       " 'outsaf06.file006.txt',\n",
       " 'outsaf06.file007.txt',\n",
       " 'outsaf06.file008.txt',\n",
       " 'outsaf06.file009.txt',\n",
       " 'outsaf06.file010.txt',\n",
       " 'outsaf06.file011.txt',\n",
       " 'outsaf06.file012.txt',\n",
       " 'outsaf06.file013.txt',\n",
       " 'outsaf06.file014.txt',\n",
       " 'outsaf06.file015.txt']"
      ]
     },
     "execution_count": 36,
     "metadata": {},
     "output_type": "execute_result"
    }
   ],
   "source": [
    "import glob\n",
    "#filelist = glob.glob('./outsaf*')\n",
    "filelist = glob.glob('outsaf*')\n",
    "goodfilelist = [f for f in filelist if f.endswith('.txt')]\n",
    "goodfilelist[:15]"
   ]
  },
  {
   "cell_type": "code",
   "execution_count": 37,
   "metadata": {
    "collapsed": true
   },
   "outputs": [],
   "source": [
    "specsdict = {'patient_id': (0,0+11),\n",
    "            'casereg': (0,0+2),\n",
    "             'claim_from_date': (31,31+8),\n",
    "             'claim_through_date': (39,39+8),\n",
    "             'fac_type': (59,59+1),\n",
    "             'freq_cd': (61,61+1),\n",
    "             'pmt_amt': (64,64+15),              \n",
    "             'tot_chrg': (79,79+15),\n",
    "             'tot_line': (174,174+3),\n",
    "             'seg_line': (177,177+2),\n",
    "             'e1dgnscd': (198,198+7),\n",
    "             'opsrvtyp': (216,216+1),\n",
    "             'center': (218,218+4),\n",
    "             'hcpcs': (240,240+5),\n",
    "             'mf1': (245,245+2),\n",
    "             'mf2': (247,247+2),\n",
    "             'mf3': (249,249+2),\n",
    "             'charge': (372,372+15),\n",
    "             'revncvr': (402,402+15),\n",
    "            'year': (421,421+4),\n",
    "            'link_num': (425,425+10),\n",
    "             'rec_count': (447,447+3),\n",
    "             'tot_seg': (443,443+2),\n",
    "             'seg_num': (445,445+2),\n",
    "              'prvdrpmt': (495,495+15),\n",
    "            'edgnsd1': (743,743+7),\n",
    "            'edgnsd2': (750,750+7),\n",
    "            'edgnsd3': (757,757+7),\n",
    "            'prcdr_cd1': (785,785+7),\n",
    "            'prcdr_cd2': (785+7, 785 + 2*7),\n",
    "            'prcdr_cd3': (785+2*7, 785+3*7)}\n",
    "\n",
    "names = sorted(specsdict,key=specsdict.__getitem__)\n",
    "\n",
    "colspecs = [specsdict[n] for n in names]"
   ]
  },
  {
   "cell_type": "markdown",
   "metadata": {},
   "source": [
    "patient_id, claim from date, linknum, and rec_count\n",
    "is the key"
   ]
  },
  {
   "cell_type": "code",
   "execution_count": 38,
   "metadata": {
    "collapsed": true
   },
   "outputs": [],
   "source": [
    "df = pd.read_fwf(goodfilelist[1], colspecs = colspecs,\n",
    "                names=names)\n",
    "\n",
    "df.patient_id = df.patient_id.astype(str)\n",
    "df.patient_id = df.patient_id.apply(lambda x: x.rjust(10, '0'))\n",
    "\n",
    "df.set_index('patient_id', inplace=True,drop=False)"
   ]
  },
  {
   "cell_type": "markdown",
   "metadata": {},
   "source": [
    "Need to just keep the subset of df that corresonds to the controlindices and treatmentindices."
   ]
  },
  {
   "cell_type": "code",
   "execution_count": 39,
   "metadata": {
    "collapsed": false
   },
   "outputs": [
    {
     "data": {
      "text/plain": [
       "(520000, 31)"
      ]
     },
     "execution_count": 39,
     "metadata": {},
     "output_type": "execute_result"
    }
   ],
   "source": [
    "df.shape"
   ]
  },
  {
   "cell_type": "code",
   "execution_count": 40,
   "metadata": {
    "collapsed": false
   },
   "outputs": [
    {
     "data": {
      "text/html": [
       "<div>\n",
       "<table border=\"1\" class=\"dataframe\">\n",
       "  <thead>\n",
       "    <tr style=\"text-align: right;\">\n",
       "      <th></th>\n",
       "      <th>casereg</th>\n",
       "      <th>patient_id</th>\n",
       "      <th>claim_from_date</th>\n",
       "      <th>claim_through_date</th>\n",
       "      <th>fac_type</th>\n",
       "      <th>freq_cd</th>\n",
       "      <th>pmt_amt</th>\n",
       "      <th>tot_chrg</th>\n",
       "      <th>tot_line</th>\n",
       "      <th>seg_line</th>\n",
       "      <th>...</th>\n",
       "      <th>tot_seg</th>\n",
       "      <th>seg_num</th>\n",
       "      <th>rec_count</th>\n",
       "      <th>prvdrpmt</th>\n",
       "      <th>edgnsd1</th>\n",
       "      <th>edgnsd2</th>\n",
       "      <th>edgnsd3</th>\n",
       "      <th>prcdr_cd1</th>\n",
       "      <th>prcdr_cd2</th>\n",
       "      <th>prcdr_cd3</th>\n",
       "    </tr>\n",
       "    <tr>\n",
       "      <th>patient_id</th>\n",
       "      <th></th>\n",
       "      <th></th>\n",
       "      <th></th>\n",
       "      <th></th>\n",
       "      <th></th>\n",
       "      <th></th>\n",
       "      <th></th>\n",
       "      <th></th>\n",
       "      <th></th>\n",
       "      <th></th>\n",
       "      <th></th>\n",
       "      <th></th>\n",
       "      <th></th>\n",
       "      <th></th>\n",
       "      <th></th>\n",
       "      <th></th>\n",
       "      <th></th>\n",
       "      <th></th>\n",
       "      <th></th>\n",
       "      <th></th>\n",
       "      <th></th>\n",
       "    </tr>\n",
       "  </thead>\n",
       "  <tbody>\n",
       "    <tr>\n",
       "      <th>0263468060</th>\n",
       "      <td>2</td>\n",
       "      <td>0263468060</td>\n",
       "      <td>8222006</td>\n",
       "      <td>8222006</td>\n",
       "      <td>1</td>\n",
       "      <td>1</td>\n",
       "      <td>798.05</td>\n",
       "      <td>4337.20</td>\n",
       "      <td>7</td>\n",
       "      <td>7</td>\n",
       "      <td>...</td>\n",
       "      <td>1</td>\n",
       "      <td>1</td>\n",
       "      <td>7</td>\n",
       "      <td>798.05</td>\n",
       "      <td>NaN</td>\n",
       "      <td>NaN</td>\n",
       "      <td>NaN</td>\n",
       "      <td>NaN</td>\n",
       "      <td>NaN</td>\n",
       "      <td>NaN</td>\n",
       "    </tr>\n",
       "    <tr>\n",
       "      <th>0263468060</th>\n",
       "      <td>2</td>\n",
       "      <td>0263468060</td>\n",
       "      <td>10302006</td>\n",
       "      <td>10302006</td>\n",
       "      <td>7</td>\n",
       "      <td>2</td>\n",
       "      <td>90.03</td>\n",
       "      <td>219.00</td>\n",
       "      <td>4</td>\n",
       "      <td>4</td>\n",
       "      <td>...</td>\n",
       "      <td>1</td>\n",
       "      <td>1</td>\n",
       "      <td>1</td>\n",
       "      <td>90.03</td>\n",
       "      <td>NaN</td>\n",
       "      <td>NaN</td>\n",
       "      <td>NaN</td>\n",
       "      <td>NaN</td>\n",
       "      <td>NaN</td>\n",
       "      <td>NaN</td>\n",
       "    </tr>\n",
       "    <tr>\n",
       "      <th>0263468060</th>\n",
       "      <td>2</td>\n",
       "      <td>0263468060</td>\n",
       "      <td>10302006</td>\n",
       "      <td>10302006</td>\n",
       "      <td>7</td>\n",
       "      <td>2</td>\n",
       "      <td>90.03</td>\n",
       "      <td>219.00</td>\n",
       "      <td>4</td>\n",
       "      <td>4</td>\n",
       "      <td>...</td>\n",
       "      <td>1</td>\n",
       "      <td>1</td>\n",
       "      <td>2</td>\n",
       "      <td>90.03</td>\n",
       "      <td>NaN</td>\n",
       "      <td>NaN</td>\n",
       "      <td>NaN</td>\n",
       "      <td>NaN</td>\n",
       "      <td>NaN</td>\n",
       "      <td>NaN</td>\n",
       "    </tr>\n",
       "    <tr>\n",
       "      <th>0263468060</th>\n",
       "      <td>2</td>\n",
       "      <td>0263468060</td>\n",
       "      <td>10302006</td>\n",
       "      <td>10302006</td>\n",
       "      <td>7</td>\n",
       "      <td>2</td>\n",
       "      <td>90.03</td>\n",
       "      <td>219.00</td>\n",
       "      <td>4</td>\n",
       "      <td>4</td>\n",
       "      <td>...</td>\n",
       "      <td>1</td>\n",
       "      <td>1</td>\n",
       "      <td>3</td>\n",
       "      <td>90.03</td>\n",
       "      <td>NaN</td>\n",
       "      <td>NaN</td>\n",
       "      <td>NaN</td>\n",
       "      <td>NaN</td>\n",
       "      <td>NaN</td>\n",
       "      <td>NaN</td>\n",
       "    </tr>\n",
       "    <tr>\n",
       "      <th>0263468060</th>\n",
       "      <td>2</td>\n",
       "      <td>0263468060</td>\n",
       "      <td>10302006</td>\n",
       "      <td>10302006</td>\n",
       "      <td>7</td>\n",
       "      <td>2</td>\n",
       "      <td>90.03</td>\n",
       "      <td>219.00</td>\n",
       "      <td>4</td>\n",
       "      <td>4</td>\n",
       "      <td>...</td>\n",
       "      <td>1</td>\n",
       "      <td>1</td>\n",
       "      <td>4</td>\n",
       "      <td>90.03</td>\n",
       "      <td>NaN</td>\n",
       "      <td>NaN</td>\n",
       "      <td>NaN</td>\n",
       "      <td>NaN</td>\n",
       "      <td>NaN</td>\n",
       "      <td>NaN</td>\n",
       "    </tr>\n",
       "    <tr>\n",
       "      <th>0263468060</th>\n",
       "      <td>2</td>\n",
       "      <td>0263468060</td>\n",
       "      <td>4102006</td>\n",
       "      <td>4102006</td>\n",
       "      <td>1</td>\n",
       "      <td>3</td>\n",
       "      <td>88.07</td>\n",
       "      <td>423.25</td>\n",
       "      <td>6</td>\n",
       "      <td>6</td>\n",
       "      <td>...</td>\n",
       "      <td>1</td>\n",
       "      <td>1</td>\n",
       "      <td>1</td>\n",
       "      <td>88.07</td>\n",
       "      <td>NaN</td>\n",
       "      <td>NaN</td>\n",
       "      <td>NaN</td>\n",
       "      <td>NaN</td>\n",
       "      <td>NaN</td>\n",
       "      <td>NaN</td>\n",
       "    </tr>\n",
       "    <tr>\n",
       "      <th>0263468060</th>\n",
       "      <td>2</td>\n",
       "      <td>0263468060</td>\n",
       "      <td>4102006</td>\n",
       "      <td>4102006</td>\n",
       "      <td>1</td>\n",
       "      <td>3</td>\n",
       "      <td>88.07</td>\n",
       "      <td>423.25</td>\n",
       "      <td>6</td>\n",
       "      <td>6</td>\n",
       "      <td>...</td>\n",
       "      <td>1</td>\n",
       "      <td>1</td>\n",
       "      <td>2</td>\n",
       "      <td>88.07</td>\n",
       "      <td>NaN</td>\n",
       "      <td>NaN</td>\n",
       "      <td>NaN</td>\n",
       "      <td>NaN</td>\n",
       "      <td>NaN</td>\n",
       "      <td>NaN</td>\n",
       "    </tr>\n",
       "    <tr>\n",
       "      <th>0263468060</th>\n",
       "      <td>2</td>\n",
       "      <td>0263468060</td>\n",
       "      <td>4102006</td>\n",
       "      <td>4102006</td>\n",
       "      <td>1</td>\n",
       "      <td>3</td>\n",
       "      <td>88.07</td>\n",
       "      <td>423.25</td>\n",
       "      <td>6</td>\n",
       "      <td>6</td>\n",
       "      <td>...</td>\n",
       "      <td>1</td>\n",
       "      <td>1</td>\n",
       "      <td>3</td>\n",
       "      <td>88.07</td>\n",
       "      <td>NaN</td>\n",
       "      <td>NaN</td>\n",
       "      <td>NaN</td>\n",
       "      <td>NaN</td>\n",
       "      <td>NaN</td>\n",
       "      <td>NaN</td>\n",
       "    </tr>\n",
       "    <tr>\n",
       "      <th>0263468060</th>\n",
       "      <td>2</td>\n",
       "      <td>0263468060</td>\n",
       "      <td>4102006</td>\n",
       "      <td>4102006</td>\n",
       "      <td>1</td>\n",
       "      <td>3</td>\n",
       "      <td>88.07</td>\n",
       "      <td>423.25</td>\n",
       "      <td>6</td>\n",
       "      <td>6</td>\n",
       "      <td>...</td>\n",
       "      <td>1</td>\n",
       "      <td>1</td>\n",
       "      <td>4</td>\n",
       "      <td>88.07</td>\n",
       "      <td>NaN</td>\n",
       "      <td>NaN</td>\n",
       "      <td>NaN</td>\n",
       "      <td>NaN</td>\n",
       "      <td>NaN</td>\n",
       "      <td>NaN</td>\n",
       "    </tr>\n",
       "    <tr>\n",
       "      <th>0263468060</th>\n",
       "      <td>2</td>\n",
       "      <td>0263468060</td>\n",
       "      <td>4102006</td>\n",
       "      <td>4102006</td>\n",
       "      <td>1</td>\n",
       "      <td>3</td>\n",
       "      <td>88.07</td>\n",
       "      <td>423.25</td>\n",
       "      <td>6</td>\n",
       "      <td>6</td>\n",
       "      <td>...</td>\n",
       "      <td>1</td>\n",
       "      <td>1</td>\n",
       "      <td>5</td>\n",
       "      <td>88.07</td>\n",
       "      <td>NaN</td>\n",
       "      <td>NaN</td>\n",
       "      <td>NaN</td>\n",
       "      <td>NaN</td>\n",
       "      <td>NaN</td>\n",
       "      <td>NaN</td>\n",
       "    </tr>\n",
       "  </tbody>\n",
       "</table>\n",
       "<p>10 rows × 31 columns</p>\n",
       "</div>"
      ],
      "text/plain": [
       "            casereg  patient_id  claim_from_date  claim_through_date  \\\n",
       "patient_id                                                             \n",
       "0263468060        2  0263468060          8222006             8222006   \n",
       "0263468060        2  0263468060         10302006            10302006   \n",
       "0263468060        2  0263468060         10302006            10302006   \n",
       "0263468060        2  0263468060         10302006            10302006   \n",
       "0263468060        2  0263468060         10302006            10302006   \n",
       "0263468060        2  0263468060          4102006             4102006   \n",
       "0263468060        2  0263468060          4102006             4102006   \n",
       "0263468060        2  0263468060          4102006             4102006   \n",
       "0263468060        2  0263468060          4102006             4102006   \n",
       "0263468060        2  0263468060          4102006             4102006   \n",
       "\n",
       "            fac_type freq_cd  pmt_amt  tot_chrg  tot_line  seg_line  \\\n",
       "patient_id                                                            \n",
       "0263468060         1       1   798.05   4337.20         7         7   \n",
       "0263468060         7       2    90.03    219.00         4         4   \n",
       "0263468060         7       2    90.03    219.00         4         4   \n",
       "0263468060         7       2    90.03    219.00         4         4   \n",
       "0263468060         7       2    90.03    219.00         4         4   \n",
       "0263468060         1       3    88.07    423.25         6         6   \n",
       "0263468060         1       3    88.07    423.25         6         6   \n",
       "0263468060         1       3    88.07    423.25         6         6   \n",
       "0263468060         1       3    88.07    423.25         6         6   \n",
       "0263468060         1       3    88.07    423.25         6         6   \n",
       "\n",
       "              ...     tot_seg  seg_num  rec_count prvdrpmt edgnsd1 edgnsd2  \\\n",
       "patient_id    ...                                                            \n",
       "0263468060    ...           1        1          7   798.05     NaN     NaN   \n",
       "0263468060    ...           1        1          1    90.03     NaN     NaN   \n",
       "0263468060    ...           1        1          2    90.03     NaN     NaN   \n",
       "0263468060    ...           1        1          3    90.03     NaN     NaN   \n",
       "0263468060    ...           1        1          4    90.03     NaN     NaN   \n",
       "0263468060    ...           1        1          1    88.07     NaN     NaN   \n",
       "0263468060    ...           1        1          2    88.07     NaN     NaN   \n",
       "0263468060    ...           1        1          3    88.07     NaN     NaN   \n",
       "0263468060    ...           1        1          4    88.07     NaN     NaN   \n",
       "0263468060    ...           1        1          5    88.07     NaN     NaN   \n",
       "\n",
       "           edgnsd3  prcdr_cd1  prcdr_cd2  prcdr_cd3  \n",
       "patient_id                                           \n",
       "0263468060     NaN        NaN        NaN        NaN  \n",
       "0263468060     NaN        NaN        NaN        NaN  \n",
       "0263468060     NaN        NaN        NaN        NaN  \n",
       "0263468060     NaN        NaN        NaN        NaN  \n",
       "0263468060     NaN        NaN        NaN        NaN  \n",
       "0263468060     NaN        NaN        NaN        NaN  \n",
       "0263468060     NaN        NaN        NaN        NaN  \n",
       "0263468060     NaN        NaN        NaN        NaN  \n",
       "0263468060     NaN        NaN        NaN        NaN  \n",
       "0263468060     NaN        NaN        NaN        NaN  \n",
       "\n",
       "[10 rows x 31 columns]"
      ]
     },
     "execution_count": 40,
     "metadata": {},
     "output_type": "execute_result"
    }
   ],
   "source": [
    "df.head(10)"
   ]
  },
  {
   "cell_type": "code",
   "execution_count": 41,
   "metadata": {
    "collapsed": false
   },
   "outputs": [
    {
     "data": {
      "text/plain": [
       "36415    22884\n",
       "85025    13831\n",
       "97110    13436\n",
       "85610    10116\n",
       "80053     7887\n",
       "77418     7605\n",
       "80061     6668\n",
       "82565     6632\n",
       "84520     6186\n",
       "97140     5448\n",
       "77413     5123\n",
       "77417     4775\n",
       "80048     4593\n",
       "80051     4530\n",
       "77414     4526\n",
       "88305     4396\n",
       "84443     4304\n",
       "71020     3949\n",
       "85027     3747\n",
       "93005     3701\n",
       "82947     3643\n",
       "84460     3626\n",
       "77336     3581\n",
       "84450     3531\n",
       "99213     3398\n",
       "83036     3393\n",
       "97530     3095\n",
       "85730     2695\n",
       "99214     2665\n",
       "97035     2658\n",
       "         ...  \n",
       "A4321        1\n",
       "36100        1\n",
       "83909        1\n",
       "42826        1\n",
       "84202        1\n",
       "69320        1\n",
       "99374        1\n",
       "76100        1\n",
       "75984        1\n",
       "24505        1\n",
       "31646        1\n",
       "84588        1\n",
       "86886        1\n",
       "27340        1\n",
       "74425        1\n",
       "90376        1\n",
       "73201        1\n",
       "31717        1\n",
       "87281        1\n",
       "95925        1\n",
       "42440        1\n",
       "75860        1\n",
       "90691        1\n",
       "L3800        1\n",
       "L3763        1\n",
       "67255        1\n",
       "97761        1\n",
       "L3650        1\n",
       "58353        1\n",
       "38520        1\n",
       "Name: hcpcs, dtype: int64"
      ]
     },
     "execution_count": 41,
     "metadata": {},
     "output_type": "execute_result"
    }
   ],
   "source": [
    "df.hcpcs.value_counts()"
   ]
  },
  {
   "cell_type": "code",
   "execution_count": 42,
   "metadata": {
    "collapsed": false
   },
   "outputs": [
    {
     "name": "stdout",
     "output_type": "stream",
     "text": [
      "2062 1031 1031\n"
     ]
    }
   ],
   "source": [
    "goodindices = controlindices + treatmentindices\n",
    "print(len(goodindices),len(controlindices),len(treatmentindices))"
   ]
  },
  {
   "cell_type": "code",
   "execution_count": 43,
   "metadata": {
    "collapsed": false
   },
   "outputs": [
    {
     "data": {
      "text/plain": [
       "['0292469070',\n",
       " '0268487040',\n",
       " '0280413070',\n",
       " '0299434050',\n",
       " '0272492080',\n",
       " '0274484060',\n",
       " '0267404090',\n",
       " '0273472060',\n",
       " '0277407050']"
      ]
     },
     "execution_count": 43,
     "metadata": {},
     "output_type": "execute_result"
    }
   ],
   "source": [
    "list(set(df.index).intersection(set(goodindices)))"
   ]
  },
  {
   "cell_type": "code",
   "execution_count": 44,
   "metadata": {
    "collapsed": false
   },
   "outputs": [
    {
     "data": {
      "text/plain": [
       "(204, 31)"
      ]
     },
     "execution_count": 44,
     "metadata": {},
     "output_type": "execute_result"
    }
   ],
   "source": [
    "df.loc[list(set(df.index).intersection(set(goodindices)))].shape"
   ]
  },
  {
   "cell_type": "code",
   "execution_count": null,
   "metadata": {
    "collapsed": true
   },
   "outputs": [],
   "source": [
    "def get_good_outclaims(fin,goodindices):\n",
    "    \"\"\"Takes a file name, loads it and returns only\n",
    "    the parts corresponding to goodindices.\"\"\"\n",
    "    df = pd.read_fwf(fin, colspecs = colspecs,\n",
    "                names=names)\n",
    "    df.patient_id = df.patient_id.astype(str)\n",
    "    df.patient_id = df.patient_id.apply(lambda x: x.rjust(10, '0'))\n",
    "\n",
    "    df.set_index('patient_id', inplace=True,drop=False)\n",
    "    \n",
    "    \n",
    "    \n",
    "    df = df.loc[list(set(df.index).intersection(set(goodindices)))]\n",
    "    \n",
    "    print(df.shape)\n",
    "    print(list(set(df.index).intersection(set(goodindices))))\n",
    "    \n",
    "    return df"
   ]
  },
  {
   "cell_type": "code",
   "execution_count": null,
   "metadata": {
    "collapsed": false
   },
   "outputs": [],
   "source": [
    "allframeslist = []\n",
    "\n",
    "for i in range(len(goodfilelist)):\n",
    "    di = get_good_outclaims(goodfilelist[i],goodindices)\n",
    "    allframeslist.append(di)\n",
    "    print(i, di.shape, len(allframeslist))\n",
    "    del di"
   ]
  },
  {
   "cell_type": "markdown",
   "metadata": {},
   "source": [
    "Concatenate the above dataframe."
   ]
  },
  {
   "cell_type": "code",
   "execution_count": null,
   "metadata": {
    "collapsed": false
   },
   "outputs": [],
   "source": [
    "len(allframeslist)"
   ]
  },
  {
   "cell_type": "code",
   "execution_count": null,
   "metadata": {
    "collapsed": true
   },
   "outputs": [],
   "source": [
    "a = allframeslist"
   ]
  },
  {
   "cell_type": "code",
   "execution_count": null,
   "metadata": {
    "collapsed": true
   },
   "outputs": [],
   "source": [
    "dg = pd.concat(a, ignore_index=True)"
   ]
  },
  {
   "cell_type": "code",
   "execution_count": null,
   "metadata": {
    "collapsed": false
   },
   "outputs": [],
   "source": [
    "dg.shape"
   ]
  },
  {
   "cell_type": "code",
   "execution_count": null,
   "metadata": {
    "collapsed": true
   },
   "outputs": [],
   "source": [
    "dg.to_pickle('goodindices_costofcare_outsaf.pickle')"
   ]
  },
  {
   "cell_type": "code",
   "execution_count": null,
   "metadata": {
    "collapsed": false
   },
   "outputs": [],
   "source": [
    "dg.head(15)"
   ]
  },
  {
   "cell_type": "code",
   "execution_count": null,
   "metadata": {
    "collapsed": true
   },
   "outputs": [],
   "source": []
  }
 ],
 "metadata": {
  "kernelspec": {
   "display_name": "Python 3",
   "language": "python",
   "name": "python3"
  },
  "language_info": {
   "codemirror_mode": {
    "name": "ipython",
    "version": 3
   },
   "file_extension": ".py",
   "mimetype": "text/x-python",
   "name": "python",
   "nbconvert_exporter": "python",
   "pygments_lexer": "ipython3",
   "version": "3.5.1"
  },
  "widgets": {
   "state": {},
   "version": "1.1.2"
  }
 },
 "nbformat": 4,
 "nbformat_minor": 0
}
